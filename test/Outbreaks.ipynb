{
 "cells": [
  {
   "cell_type": "code",
   "execution_count": 73,
   "metadata": {},
   "outputs": [],
   "source": [
    "from datetime import date, timedelta\n",
    "import numpy as np\n",
    "import pandas as pd\n",
    "\n",
    "\n",
    "import seaborn as sns\n",
    "import matplotlib.pyplot as plt\n",
    "sns.set(style = 'whitegrid', color_codes = True)\n",
    "%matplotlib inline"
   ]
  },
  {
   "cell_type": "code",
   "execution_count": 74,
   "metadata": {},
   "outputs": [],
   "source": [
    "train = pd.read_csv(\n",
    "    '../test/outbreaks.csv')"
   ]
  },
  {
   "cell_type": "code",
   "execution_count": 75,
   "metadata": {},
   "outputs": [
    {
     "data": {
      "text/html": [
       "<div>\n",
       "<style scoped>\n",
       "    .dataframe tbody tr th:only-of-type {\n",
       "        vertical-align: middle;\n",
       "    }\n",
       "\n",
       "    .dataframe tbody tr th {\n",
       "        vertical-align: top;\n",
       "    }\n",
       "\n",
       "    .dataframe thead th {\n",
       "        text-align: right;\n",
       "    }\n",
       "</style>\n",
       "<table border=\"1\" class=\"dataframe\">\n",
       "  <thead>\n",
       "    <tr style=\"text-align: right;\">\n",
       "      <th></th>\n",
       "      <th>Year</th>\n",
       "      <th>Month</th>\n",
       "      <th>State</th>\n",
       "      <th>Location</th>\n",
       "      <th>Food</th>\n",
       "      <th>Ingredient</th>\n",
       "      <th>Species</th>\n",
       "      <th>Serotype/Genotype</th>\n",
       "      <th>Status</th>\n",
       "      <th>Illnesses</th>\n",
       "      <th>Hospitalizations</th>\n",
       "      <th>Fatalities</th>\n",
       "    </tr>\n",
       "  </thead>\n",
       "  <tbody>\n",
       "    <tr>\n",
       "      <th>0</th>\n",
       "      <td>1998</td>\n",
       "      <td>January</td>\n",
       "      <td>California</td>\n",
       "      <td>Restaurant</td>\n",
       "      <td>NaN</td>\n",
       "      <td>NaN</td>\n",
       "      <td>NaN</td>\n",
       "      <td>NaN</td>\n",
       "      <td>NaN</td>\n",
       "      <td>20</td>\n",
       "      <td>0.0</td>\n",
       "      <td>0.0</td>\n",
       "    </tr>\n",
       "    <tr>\n",
       "      <th>1</th>\n",
       "      <td>1998</td>\n",
       "      <td>January</td>\n",
       "      <td>California</td>\n",
       "      <td>NaN</td>\n",
       "      <td>Custard</td>\n",
       "      <td>NaN</td>\n",
       "      <td>NaN</td>\n",
       "      <td>NaN</td>\n",
       "      <td>NaN</td>\n",
       "      <td>112</td>\n",
       "      <td>0.0</td>\n",
       "      <td>0.0</td>\n",
       "    </tr>\n",
       "    <tr>\n",
       "      <th>2</th>\n",
       "      <td>1998</td>\n",
       "      <td>January</td>\n",
       "      <td>California</td>\n",
       "      <td>Restaurant</td>\n",
       "      <td>NaN</td>\n",
       "      <td>NaN</td>\n",
       "      <td>NaN</td>\n",
       "      <td>NaN</td>\n",
       "      <td>NaN</td>\n",
       "      <td>35</td>\n",
       "      <td>0.0</td>\n",
       "      <td>0.0</td>\n",
       "    </tr>\n",
       "    <tr>\n",
       "      <th>3</th>\n",
       "      <td>1998</td>\n",
       "      <td>January</td>\n",
       "      <td>California</td>\n",
       "      <td>Restaurant</td>\n",
       "      <td>Fish, Ahi</td>\n",
       "      <td>NaN</td>\n",
       "      <td>Scombroid toxin</td>\n",
       "      <td>NaN</td>\n",
       "      <td>Confirmed</td>\n",
       "      <td>4</td>\n",
       "      <td>0.0</td>\n",
       "      <td>0.0</td>\n",
       "    </tr>\n",
       "    <tr>\n",
       "      <th>4</th>\n",
       "      <td>1998</td>\n",
       "      <td>January</td>\n",
       "      <td>California</td>\n",
       "      <td>Private Home/Residence</td>\n",
       "      <td>Lasagna, Unspecified; Eggs, Other</td>\n",
       "      <td>NaN</td>\n",
       "      <td>Salmonella enterica</td>\n",
       "      <td>Enteritidis</td>\n",
       "      <td>Confirmed</td>\n",
       "      <td>26</td>\n",
       "      <td>3.0</td>\n",
       "      <td>0.0</td>\n",
       "    </tr>\n",
       "  </tbody>\n",
       "</table>\n",
       "</div>"
      ],
      "text/plain": [
       "   Year    Month       State                Location  \\\n",
       "0  1998  January  California              Restaurant   \n",
       "1  1998  January  California                     NaN   \n",
       "2  1998  January  California              Restaurant   \n",
       "3  1998  January  California              Restaurant   \n",
       "4  1998  January  California  Private Home/Residence   \n",
       "\n",
       "                                Food Ingredient              Species  \\\n",
       "0                                NaN        NaN                  NaN   \n",
       "1                            Custard        NaN                  NaN   \n",
       "2                                NaN        NaN                  NaN   \n",
       "3                          Fish, Ahi        NaN      Scombroid toxin   \n",
       "4  Lasagna, Unspecified; Eggs, Other        NaN  Salmonella enterica   \n",
       "\n",
       "  Serotype/Genotype     Status  Illnesses  Hospitalizations  Fatalities  \n",
       "0               NaN        NaN         20               0.0         0.0  \n",
       "1               NaN        NaN        112               0.0         0.0  \n",
       "2               NaN        NaN         35               0.0         0.0  \n",
       "3               NaN  Confirmed          4               0.0         0.0  \n",
       "4       Enteritidis  Confirmed         26               3.0         0.0  "
      ]
     },
     "execution_count": 75,
     "metadata": {},
     "output_type": "execute_result"
    }
   ],
   "source": [
    "train.head()"
   ]
  },
  {
   "cell_type": "code",
   "execution_count": 76,
   "metadata": {},
   "outputs": [
    {
     "data": {
      "text/plain": [
       "Year                     0\n",
       "Month                    0\n",
       "State                    0\n",
       "Location              2166\n",
       "Food                  8963\n",
       "Ingredient           17243\n",
       "Species               6619\n",
       "Serotype/Genotype    15212\n",
       "Status                6619\n",
       "Illnesses                0\n",
       "Hospitalizations      3625\n",
       "Fatalities            3601\n",
       "dtype: int64"
      ]
     },
     "execution_count": 76,
     "metadata": {},
     "output_type": "execute_result"
    }
   ],
   "source": [
    "train.isnull().sum()"
   ]
  },
  {
   "cell_type": "code",
   "execution_count": 77,
   "metadata": {},
   "outputs": [
    {
     "data": {
      "text/plain": [
       "Index(['Year', 'Month', 'State', 'Location', 'Food', 'Ingredient', 'Species',\n",
       "       'Serotype/Genotype', 'Status', 'Illnesses', 'Hospitalizations',\n",
       "       'Fatalities'],\n",
       "      dtype='object')"
      ]
     },
     "execution_count": 77,
     "metadata": {},
     "output_type": "execute_result"
    }
   ],
   "source": [
    "train.columns"
   ]
  },
  {
   "cell_type": "code",
   "execution_count": 78,
   "metadata": {},
   "outputs": [
    {
     "data": {
      "text/html": [
       "<div>\n",
       "<style scoped>\n",
       "    .dataframe tbody tr th:only-of-type {\n",
       "        vertical-align: middle;\n",
       "    }\n",
       "\n",
       "    .dataframe tbody tr th {\n",
       "        vertical-align: top;\n",
       "    }\n",
       "\n",
       "    .dataframe thead th {\n",
       "        text-align: right;\n",
       "    }\n",
       "</style>\n",
       "<table border=\"1\" class=\"dataframe\">\n",
       "  <thead>\n",
       "    <tr style=\"text-align: right;\">\n",
       "      <th></th>\n",
       "      <th>Year</th>\n",
       "      <th>Illnesses</th>\n",
       "      <th>Hospitalizations</th>\n",
       "      <th>Fatalities</th>\n",
       "    </tr>\n",
       "  </thead>\n",
       "  <tbody>\n",
       "    <tr>\n",
       "      <th>Year</th>\n",
       "      <td>1.000000</td>\n",
       "      <td>-0.018043</td>\n",
       "      <td>0.017849</td>\n",
       "      <td>0.002543</td>\n",
       "    </tr>\n",
       "    <tr>\n",
       "      <th>Illnesses</th>\n",
       "      <td>-0.018043</td>\n",
       "      <td>1.000000</td>\n",
       "      <td>0.450739</td>\n",
       "      <td>0.099750</td>\n",
       "    </tr>\n",
       "    <tr>\n",
       "      <th>Hospitalizations</th>\n",
       "      <td>0.017849</td>\n",
       "      <td>0.450739</td>\n",
       "      <td>1.000000</td>\n",
       "      <td>0.423716</td>\n",
       "    </tr>\n",
       "    <tr>\n",
       "      <th>Fatalities</th>\n",
       "      <td>0.002543</td>\n",
       "      <td>0.099750</td>\n",
       "      <td>0.423716</td>\n",
       "      <td>1.000000</td>\n",
       "    </tr>\n",
       "  </tbody>\n",
       "</table>\n",
       "</div>"
      ],
      "text/plain": [
       "                      Year  Illnesses  Hospitalizations  Fatalities\n",
       "Year              1.000000  -0.018043          0.017849    0.002543\n",
       "Illnesses        -0.018043   1.000000          0.450739    0.099750\n",
       "Hospitalizations  0.017849   0.450739          1.000000    0.423716\n",
       "Fatalities        0.002543   0.099750          0.423716    1.000000"
      ]
     },
     "execution_count": 78,
     "metadata": {},
     "output_type": "execute_result"
    }
   ],
   "source": [
    "train.corr()"
   ]
  },
  {
   "cell_type": "code",
   "execution_count": 79,
   "metadata": {},
   "outputs": [
    {
     "name": "stdout",
     "output_type": "stream",
     "text": [
      "<class 'pandas.core.frame.DataFrame'>\n",
      "RangeIndex: 19119 entries, 0 to 19118\n",
      "Data columns (total 12 columns):\n",
      "Year                 19119 non-null int64\n",
      "Month                19119 non-null object\n",
      "State                19119 non-null object\n",
      "Location             16953 non-null object\n",
      "Food                 10156 non-null object\n",
      "Ingredient           1876 non-null object\n",
      "Species              12500 non-null object\n",
      "Serotype/Genotype    3907 non-null object\n",
      "Status               12500 non-null object\n",
      "Illnesses            19119 non-null int64\n",
      "Hospitalizations     15494 non-null float64\n",
      "Fatalities           15518 non-null float64\n",
      "dtypes: float64(2), int64(2), object(8)\n",
      "memory usage: 1.8+ MB\n"
     ]
    }
   ],
   "source": [
    "train.info()"
   ]
  },
  {
   "cell_type": "code",
   "execution_count": 80,
   "metadata": {},
   "outputs": [],
   "source": [
    "train['Location'].fillna(train['Location'].mode()[0], inplace = True)"
   ]
  },
  {
   "cell_type": "code",
   "execution_count": 81,
   "metadata": {},
   "outputs": [],
   "source": [
    "train['Species'].fillna(train['Species'].mode()[0], inplace = True)"
   ]
  },
  {
   "cell_type": "code",
   "execution_count": 82,
   "metadata": {},
   "outputs": [],
   "source": [
    "train['Status'].fillna(train['Status'].mode()[0], inplace = True)"
   ]
  },
  {
   "cell_type": "code",
   "execution_count": 83,
   "metadata": {},
   "outputs": [],
   "source": [
    "train['Hospitalizations'].fillna(train['Hospitalizations'].mean(), inplace = True)"
   ]
  },
  {
   "cell_type": "code",
   "execution_count": 84,
   "metadata": {},
   "outputs": [],
   "source": [
    "train['Fatalities'].fillna(train['Fatalities'].mean(), inplace = True)"
   ]
  },
  {
   "cell_type": "code",
   "execution_count": 85,
   "metadata": {},
   "outputs": [],
   "source": [
    "train['Hospitalizations'] = train['Hospitalizations'].apply(np.ceil)"
   ]
  },
  {
   "cell_type": "code",
   "execution_count": 86,
   "metadata": {},
   "outputs": [],
   "source": [
    "train['Fatalities'] = train['Fatalities'].apply(np.ceil)"
   ]
  },
  {
   "cell_type": "code",
   "execution_count": null,
   "metadata": {},
   "outputs": [],
   "source": []
  },
  {
   "cell_type": "code",
   "execution_count": null,
   "metadata": {},
   "outputs": [],
   "source": []
  }
 ],
 "metadata": {
  "kernelspec": {
   "display_name": "Python 3",
   "language": "python",
   "name": "python3"
  },
  "language_info": {
   "codemirror_mode": {
    "name": "ipython",
    "version": 3
   },
   "file_extension": ".py",
   "mimetype": "text/x-python",
   "name": "python",
   "nbconvert_exporter": "python",
   "pygments_lexer": "ipython3",
   "version": "3.7.9"
  }
 },
 "nbformat": 4,
 "nbformat_minor": 4
}
