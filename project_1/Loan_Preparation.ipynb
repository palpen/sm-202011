{
 "cells": [
  {
   "cell_type": "markdown",
   "metadata": {},
   "source": [
    "#                                         Lending Club Loan Data"
   ]
  },
  {
   "cell_type": "markdown",
   "metadata": {},
   "source": [
    "## Import Data"
   ]
  },
  {
   "cell_type": "code",
   "execution_count": 247,
   "metadata": {},
   "outputs": [],
   "source": [
    "import numpy as np\n",
    "import scipy as sp\n",
    "import pandas as pd\n",
    "import matplotlib as mpl\n",
    "import matplotlib.pyplot as plt\n",
    "import seaborn as sns\n",
    "\n",
    "\n",
    "# Pandas options\n",
    "pd.set_option('display.max_colwidth', 1000, 'display.max_rows', None, 'display.max_columns', None)\n",
    "\n",
    "# Plotting options\n",
    "%matplotlib inline\n",
    "mpl.style.use('ggplot')\n",
    "sns.set(style='whitegrid')"
   ]
  },
  {
   "cell_type": "code",
   "execution_count": 248,
   "metadata": {},
   "outputs": [],
   "source": [
    "SAMPLE = True"
   ]
  },
  {
   "cell_type": "code",
   "execution_count": 249,
   "metadata": {},
   "outputs": [
    {
     "name": "stderr",
     "output_type": "stream",
     "text": [
      "C:\\Users\\user\\miniconda3\\envs\\sm-202011\\lib\\site-packages\\IPython\\core\\interactiveshell.py:3147: DtypeWarning: Columns (0,19,49,59,118,129,130,131,134,135,136,139,145,146,147) have mixed types.Specify dtype option on import or set low_memory=False.\n",
      "  interactivity=interactivity, compiler=compiler, result=result)\n"
     ]
    }
   ],
   "source": [
    "loans = pd.read_csv('../project_1/accepted_2007_to_2018Q4.csv.gz', compression='gzip', low_memory=True) #Load data into pandas\n",
    "\n",
    "if SAMPLE:\n",
    "    loans = loans.sample(frac=0.01)"
   ]
  },
  {
   "cell_type": "code",
   "execution_count": 250,
   "metadata": {},
   "outputs": [
    {
     "name": "stdout",
     "output_type": "stream",
     "text": [
      "<class 'pandas.core.frame.DataFrame'>\n",
      "Int64Index: 22607 entries, 2179398 to 1947222\n",
      "Columns: 151 entries, id to settlement_term\n",
      "dtypes: float64(113), object(38)\n",
      "memory usage: 26.2+ MB\n"
     ]
    }
   ],
   "source": [
    "loans.info()"
   ]
  },
  {
   "cell_type": "code",
   "execution_count": 251,
   "metadata": {},
   "outputs": [],
   "source": [
    "pd.options.display.float_format = '{:,.2f}'.format "
   ]
  },
  {
   "cell_type": "code",
   "execution_count": 252,
   "metadata": {},
   "outputs": [
    {
     "data": {
      "text/html": [
       "<div>\n",
       "<style scoped>\n",
       "    .dataframe tbody tr th:only-of-type {\n",
       "        vertical-align: middle;\n",
       "    }\n",
       "\n",
       "    .dataframe tbody tr th {\n",
       "        vertical-align: top;\n",
       "    }\n",
       "\n",
       "    .dataframe thead th {\n",
       "        text-align: right;\n",
       "    }\n",
       "</style>\n",
       "<table border=\"1\" class=\"dataframe\">\n",
       "  <thead>\n",
       "    <tr style=\"text-align: right;\">\n",
       "      <th></th>\n",
       "      <th>id</th>\n",
       "      <th>member_id</th>\n",
       "      <th>loan_amnt</th>\n",
       "      <th>funded_amnt</th>\n",
       "      <th>funded_amnt_inv</th>\n",
       "      <th>term</th>\n",
       "      <th>int_rate</th>\n",
       "      <th>installment</th>\n",
       "      <th>grade</th>\n",
       "      <th>sub_grade</th>\n",
       "      <th>emp_title</th>\n",
       "      <th>emp_length</th>\n",
       "      <th>home_ownership</th>\n",
       "      <th>annual_inc</th>\n",
       "      <th>verification_status</th>\n",
       "      <th>issue_d</th>\n",
       "      <th>loan_status</th>\n",
       "      <th>pymnt_plan</th>\n",
       "      <th>url</th>\n",
       "      <th>desc</th>\n",
       "      <th>purpose</th>\n",
       "      <th>title</th>\n",
       "      <th>zip_code</th>\n",
       "      <th>addr_state</th>\n",
       "      <th>dti</th>\n",
       "      <th>delinq_2yrs</th>\n",
       "      <th>earliest_cr_line</th>\n",
       "      <th>fico_range_low</th>\n",
       "      <th>fico_range_high</th>\n",
       "      <th>inq_last_6mths</th>\n",
       "      <th>mths_since_last_delinq</th>\n",
       "      <th>mths_since_last_record</th>\n",
       "      <th>open_acc</th>\n",
       "      <th>pub_rec</th>\n",
       "      <th>revol_bal</th>\n",
       "      <th>revol_util</th>\n",
       "      <th>total_acc</th>\n",
       "      <th>initial_list_status</th>\n",
       "      <th>out_prncp</th>\n",
       "      <th>out_prncp_inv</th>\n",
       "      <th>total_pymnt</th>\n",
       "      <th>total_pymnt_inv</th>\n",
       "      <th>total_rec_prncp</th>\n",
       "      <th>total_rec_int</th>\n",
       "      <th>total_rec_late_fee</th>\n",
       "      <th>recoveries</th>\n",
       "      <th>collection_recovery_fee</th>\n",
       "      <th>last_pymnt_d</th>\n",
       "      <th>last_pymnt_amnt</th>\n",
       "      <th>next_pymnt_d</th>\n",
       "      <th>last_credit_pull_d</th>\n",
       "      <th>last_fico_range_high</th>\n",
       "      <th>last_fico_range_low</th>\n",
       "      <th>collections_12_mths_ex_med</th>\n",
       "      <th>mths_since_last_major_derog</th>\n",
       "      <th>policy_code</th>\n",
       "      <th>application_type</th>\n",
       "      <th>annual_inc_joint</th>\n",
       "      <th>dti_joint</th>\n",
       "      <th>verification_status_joint</th>\n",
       "      <th>acc_now_delinq</th>\n",
       "      <th>tot_coll_amt</th>\n",
       "      <th>tot_cur_bal</th>\n",
       "      <th>open_acc_6m</th>\n",
       "      <th>open_act_il</th>\n",
       "      <th>open_il_12m</th>\n",
       "      <th>open_il_24m</th>\n",
       "      <th>mths_since_rcnt_il</th>\n",
       "      <th>total_bal_il</th>\n",
       "      <th>il_util</th>\n",
       "      <th>open_rv_12m</th>\n",
       "      <th>open_rv_24m</th>\n",
       "      <th>max_bal_bc</th>\n",
       "      <th>all_util</th>\n",
       "      <th>total_rev_hi_lim</th>\n",
       "      <th>inq_fi</th>\n",
       "      <th>total_cu_tl</th>\n",
       "      <th>inq_last_12m</th>\n",
       "      <th>acc_open_past_24mths</th>\n",
       "      <th>avg_cur_bal</th>\n",
       "      <th>bc_open_to_buy</th>\n",
       "      <th>bc_util</th>\n",
       "      <th>chargeoff_within_12_mths</th>\n",
       "      <th>delinq_amnt</th>\n",
       "      <th>mo_sin_old_il_acct</th>\n",
       "      <th>mo_sin_old_rev_tl_op</th>\n",
       "      <th>mo_sin_rcnt_rev_tl_op</th>\n",
       "      <th>mo_sin_rcnt_tl</th>\n",
       "      <th>mort_acc</th>\n",
       "      <th>mths_since_recent_bc</th>\n",
       "      <th>mths_since_recent_bc_dlq</th>\n",
       "      <th>mths_since_recent_inq</th>\n",
       "      <th>mths_since_recent_revol_delinq</th>\n",
       "      <th>num_accts_ever_120_pd</th>\n",
       "      <th>num_actv_bc_tl</th>\n",
       "      <th>num_actv_rev_tl</th>\n",
       "      <th>num_bc_sats</th>\n",
       "      <th>num_bc_tl</th>\n",
       "      <th>num_il_tl</th>\n",
       "      <th>num_op_rev_tl</th>\n",
       "      <th>num_rev_accts</th>\n",
       "      <th>num_rev_tl_bal_gt_0</th>\n",
       "      <th>num_sats</th>\n",
       "      <th>num_tl_120dpd_2m</th>\n",
       "      <th>num_tl_30dpd</th>\n",
       "      <th>num_tl_90g_dpd_24m</th>\n",
       "      <th>num_tl_op_past_12m</th>\n",
       "      <th>pct_tl_nvr_dlq</th>\n",
       "      <th>percent_bc_gt_75</th>\n",
       "      <th>pub_rec_bankruptcies</th>\n",
       "      <th>tax_liens</th>\n",
       "      <th>tot_hi_cred_lim</th>\n",
       "      <th>total_bal_ex_mort</th>\n",
       "      <th>total_bc_limit</th>\n",
       "      <th>total_il_high_credit_limit</th>\n",
       "      <th>revol_bal_joint</th>\n",
       "      <th>sec_app_fico_range_low</th>\n",
       "      <th>sec_app_fico_range_high</th>\n",
       "      <th>sec_app_earliest_cr_line</th>\n",
       "      <th>sec_app_inq_last_6mths</th>\n",
       "      <th>sec_app_mort_acc</th>\n",
       "      <th>sec_app_open_acc</th>\n",
       "      <th>sec_app_revol_util</th>\n",
       "      <th>sec_app_open_act_il</th>\n",
       "      <th>sec_app_num_rev_accts</th>\n",
       "      <th>sec_app_chargeoff_within_12_mths</th>\n",
       "      <th>sec_app_collections_12_mths_ex_med</th>\n",
       "      <th>sec_app_mths_since_last_major_derog</th>\n",
       "      <th>hardship_flag</th>\n",
       "      <th>hardship_type</th>\n",
       "      <th>hardship_reason</th>\n",
       "      <th>hardship_status</th>\n",
       "      <th>deferral_term</th>\n",
       "      <th>hardship_amount</th>\n",
       "      <th>hardship_start_date</th>\n",
       "      <th>hardship_end_date</th>\n",
       "      <th>payment_plan_start_date</th>\n",
       "      <th>hardship_length</th>\n",
       "      <th>hardship_dpd</th>\n",
       "      <th>hardship_loan_status</th>\n",
       "      <th>orig_projected_additional_accrued_interest</th>\n",
       "      <th>hardship_payoff_balance_amount</th>\n",
       "      <th>hardship_last_payment_amount</th>\n",
       "      <th>disbursement_method</th>\n",
       "      <th>debt_settlement_flag</th>\n",
       "      <th>debt_settlement_flag_date</th>\n",
       "      <th>settlement_status</th>\n",
       "      <th>settlement_date</th>\n",
       "      <th>settlement_amount</th>\n",
       "      <th>settlement_percentage</th>\n",
       "      <th>settlement_term</th>\n",
       "    </tr>\n",
       "  </thead>\n",
       "  <tbody>\n",
       "    <tr>\n",
       "      <th>2179398</th>\n",
       "      <td>94446389</td>\n",
       "      <td>nan</td>\n",
       "      <td>5,400.00</td>\n",
       "      <td>5,400.00</td>\n",
       "      <td>5,400.00</td>\n",
       "      <td>36 months</td>\n",
       "      <td>12.74</td>\n",
       "      <td>181.28</td>\n",
       "      <td>C</td>\n",
       "      <td>C1</td>\n",
       "      <td>Sale Associate</td>\n",
       "      <td>3 years</td>\n",
       "      <td>RENT</td>\n",
       "      <td>30,000.00</td>\n",
       "      <td>Source Verified</td>\n",
       "      <td>Dec-2016</td>\n",
       "      <td>Current</td>\n",
       "      <td>n</td>\n",
       "      <td>https://lendingclub.com/browse/loanDetail.action?loan_id=94446389</td>\n",
       "      <td>NaN</td>\n",
       "      <td>credit_card</td>\n",
       "      <td>Credit card refinancing</td>\n",
       "      <td>953xx</td>\n",
       "      <td>CA</td>\n",
       "      <td>20.20</td>\n",
       "      <td>0.00</td>\n",
       "      <td>May-2013</td>\n",
       "      <td>685.00</td>\n",
       "      <td>689.00</td>\n",
       "      <td>0.00</td>\n",
       "      <td>nan</td>\n",
       "      <td>nan</td>\n",
       "      <td>9.00</td>\n",
       "      <td>0.00</td>\n",
       "      <td>8,332.00</td>\n",
       "      <td>45.50</td>\n",
       "      <td>12.00</td>\n",
       "      <td>f</td>\n",
       "      <td>1,547.85</td>\n",
       "      <td>1,547.85</td>\n",
       "      <td>4,917.50</td>\n",
       "      <td>4,917.50</td>\n",
       "      <td>3,852.15</td>\n",
       "      <td>1,065.35</td>\n",
       "      <td>0.00</td>\n",
       "      <td>0.00</td>\n",
       "      <td>0.00</td>\n",
       "      <td>Mar-2019</td>\n",
       "      <td>181.28</td>\n",
       "      <td>Apr-2019</td>\n",
       "      <td>Mar-2019</td>\n",
       "      <td>659.00</td>\n",
       "      <td>655.00</td>\n",
       "      <td>0.00</td>\n",
       "      <td>nan</td>\n",
       "      <td>1.00</td>\n",
       "      <td>Individual</td>\n",
       "      <td>nan</td>\n",
       "      <td>nan</td>\n",
       "      <td>NaN</td>\n",
       "      <td>0.00</td>\n",
       "      <td>0.00</td>\n",
       "      <td>19,823.00</td>\n",
       "      <td>1.00</td>\n",
       "      <td>1.00</td>\n",
       "      <td>0.00</td>\n",
       "      <td>2.00</td>\n",
       "      <td>23.00</td>\n",
       "      <td>11,491.00</td>\n",
       "      <td>74.00</td>\n",
       "      <td>1.00</td>\n",
       "      <td>5.00</td>\n",
       "      <td>3,859.00</td>\n",
       "      <td>59.00</td>\n",
       "      <td>18,300.00</td>\n",
       "      <td>0.00</td>\n",
       "      <td>0.00</td>\n",
       "      <td>0.00</td>\n",
       "      <td>7.00</td>\n",
       "      <td>2,203.00</td>\n",
       "      <td>753.00</td>\n",
       "      <td>90.60</td>\n",
       "      <td>0.00</td>\n",
       "      <td>0.00</td>\n",
       "      <td>23.00</td>\n",
       "      <td>43.00</td>\n",
       "      <td>3.00</td>\n",
       "      <td>3.00</td>\n",
       "      <td>0.00</td>\n",
       "      <td>17.00</td>\n",
       "      <td>nan</td>\n",
       "      <td>23.00</td>\n",
       "      <td>nan</td>\n",
       "      <td>0.00</td>\n",
       "      <td>3.00</td>\n",
       "      <td>6.00</td>\n",
       "      <td>3.00</td>\n",
       "      <td>4.00</td>\n",
       "      <td>2.00</td>\n",
       "      <td>8.00</td>\n",
       "      <td>10.00</td>\n",
       "      <td>6.00</td>\n",
       "      <td>9.00</td>\n",
       "      <td>0.00</td>\n",
       "      <td>0.00</td>\n",
       "      <td>0.00</td>\n",
       "      <td>1.00</td>\n",
       "      <td>100.00</td>\n",
       "      <td>100.00</td>\n",
       "      <td>0.00</td>\n",
       "      <td>0.00</td>\n",
       "      <td>33,735.00</td>\n",
       "      <td>19,823.00</td>\n",
       "      <td>8,000.00</td>\n",
       "      <td>15,435.00</td>\n",
       "      <td>nan</td>\n",
       "      <td>nan</td>\n",
       "      <td>nan</td>\n",
       "      <td>NaN</td>\n",
       "      <td>nan</td>\n",
       "      <td>nan</td>\n",
       "      <td>nan</td>\n",
       "      <td>nan</td>\n",
       "      <td>nan</td>\n",
       "      <td>nan</td>\n",
       "      <td>nan</td>\n",
       "      <td>nan</td>\n",
       "      <td>nan</td>\n",
       "      <td>N</td>\n",
       "      <td>NaN</td>\n",
       "      <td>NaN</td>\n",
       "      <td>NaN</td>\n",
       "      <td>nan</td>\n",
       "      <td>nan</td>\n",
       "      <td>NaN</td>\n",
       "      <td>NaN</td>\n",
       "      <td>NaN</td>\n",
       "      <td>nan</td>\n",
       "      <td>nan</td>\n",
       "      <td>NaN</td>\n",
       "      <td>nan</td>\n",
       "      <td>nan</td>\n",
       "      <td>nan</td>\n",
       "      <td>Cash</td>\n",
       "      <td>N</td>\n",
       "      <td>NaN</td>\n",
       "      <td>NaN</td>\n",
       "      <td>NaN</td>\n",
       "      <td>nan</td>\n",
       "      <td>nan</td>\n",
       "      <td>nan</td>\n",
       "    </tr>\n",
       "    <tr>\n",
       "      <th>510234</th>\n",
       "      <td>126961740</td>\n",
       "      <td>nan</td>\n",
       "      <td>10,000.00</td>\n",
       "      <td>10,000.00</td>\n",
       "      <td>10,000.00</td>\n",
       "      <td>36 months</td>\n",
       "      <td>7.97</td>\n",
       "      <td>313.23</td>\n",
       "      <td>A</td>\n",
       "      <td>A5</td>\n",
       "      <td>Insurance agent</td>\n",
       "      <td>10+ years</td>\n",
       "      <td>MORTGAGE</td>\n",
       "      <td>125,065.00</td>\n",
       "      <td>Not Verified</td>\n",
       "      <td>Jan-2018</td>\n",
       "      <td>Current</td>\n",
       "      <td>n</td>\n",
       "      <td>https://lendingclub.com/browse/loanDetail.action?loan_id=126961740</td>\n",
       "      <td>NaN</td>\n",
       "      <td>other</td>\n",
       "      <td>Other</td>\n",
       "      <td>945xx</td>\n",
       "      <td>CA</td>\n",
       "      <td>8.36</td>\n",
       "      <td>4.00</td>\n",
       "      <td>Jul-1998</td>\n",
       "      <td>700.00</td>\n",
       "      <td>704.00</td>\n",
       "      <td>0.00</td>\n",
       "      <td>22.00</td>\n",
       "      <td>nan</td>\n",
       "      <td>10.00</td>\n",
       "      <td>0.00</td>\n",
       "      <td>10,864.00</td>\n",
       "      <td>45.50</td>\n",
       "      <td>21.00</td>\n",
       "      <td>w</td>\n",
       "      <td>6,391.40</td>\n",
       "      <td>6,391.40</td>\n",
       "      <td>4,398.51</td>\n",
       "      <td>4,398.51</td>\n",
       "      <td>3,608.60</td>\n",
       "      <td>789.91</td>\n",
       "      <td>0.00</td>\n",
       "      <td>0.00</td>\n",
       "      <td>0.00</td>\n",
       "      <td>Mar-2019</td>\n",
       "      <td>313.23</td>\n",
       "      <td>Apr-2019</td>\n",
       "      <td>Mar-2019</td>\n",
       "      <td>649.00</td>\n",
       "      <td>645.00</td>\n",
       "      <td>0.00</td>\n",
       "      <td>22.00</td>\n",
       "      <td>1.00</td>\n",
       "      <td>Joint App</td>\n",
       "      <td>165,065.00</td>\n",
       "      <td>7.58</td>\n",
       "      <td>Not Verified</td>\n",
       "      <td>0.00</td>\n",
       "      <td>0.00</td>\n",
       "      <td>98,416.00</td>\n",
       "      <td>2.00</td>\n",
       "      <td>1.00</td>\n",
       "      <td>0.00</td>\n",
       "      <td>0.00</td>\n",
       "      <td>34.00</td>\n",
       "      <td>1,488.00</td>\n",
       "      <td>8.00</td>\n",
       "      <td>3.00</td>\n",
       "      <td>3.00</td>\n",
       "      <td>5,814.00</td>\n",
       "      <td>33.00</td>\n",
       "      <td>23,900.00</td>\n",
       "      <td>0.00</td>\n",
       "      <td>0.00</td>\n",
       "      <td>4.00</td>\n",
       "      <td>4.00</td>\n",
       "      <td>10,935.00</td>\n",
       "      <td>12,936.00</td>\n",
       "      <td>45.60</td>\n",
       "      <td>0.00</td>\n",
       "      <td>0.00</td>\n",
       "      <td>88.00</td>\n",
       "      <td>234.00</td>\n",
       "      <td>3.00</td>\n",
       "      <td>3.00</td>\n",
       "      <td>2.00</td>\n",
       "      <td>3.00</td>\n",
       "      <td>22.00</td>\n",
       "      <td>2.00</td>\n",
       "      <td>22.00</td>\n",
       "      <td>6.00</td>\n",
       "      <td>3.00</td>\n",
       "      <td>3.00</td>\n",
       "      <td>5.00</td>\n",
       "      <td>11.00</td>\n",
       "      <td>3.00</td>\n",
       "      <td>7.00</td>\n",
       "      <td>14.00</td>\n",
       "      <td>3.00</td>\n",
       "      <td>10.00</td>\n",
       "      <td>0.00</td>\n",
       "      <td>0.00</td>\n",
       "      <td>4.00</td>\n",
       "      <td>3.00</td>\n",
       "      <td>57.10</td>\n",
       "      <td>0.00</td>\n",
       "      <td>0.00</td>\n",
       "      <td>0.00</td>\n",
       "      <td>168,658.00</td>\n",
       "      <td>14,245.00</td>\n",
       "      <td>23,800.00</td>\n",
       "      <td>17,865.00</td>\n",
       "      <td>23,467.00</td>\n",
       "      <td>665.00</td>\n",
       "      <td>669.00</td>\n",
       "      <td>Aug-1991</td>\n",
       "      <td>0.00</td>\n",
       "      <td>1.00</td>\n",
       "      <td>7.00</td>\n",
       "      <td>49.40</td>\n",
       "      <td>1.00</td>\n",
       "      <td>16.00</td>\n",
       "      <td>0.00</td>\n",
       "      <td>0.00</td>\n",
       "      <td>22.00</td>\n",
       "      <td>N</td>\n",
       "      <td>NaN</td>\n",
       "      <td>NaN</td>\n",
       "      <td>NaN</td>\n",
       "      <td>nan</td>\n",
       "      <td>nan</td>\n",
       "      <td>NaN</td>\n",
       "      <td>NaN</td>\n",
       "      <td>NaN</td>\n",
       "      <td>nan</td>\n",
       "      <td>nan</td>\n",
       "      <td>NaN</td>\n",
       "      <td>nan</td>\n",
       "      <td>nan</td>\n",
       "      <td>nan</td>\n",
       "      <td>Cash</td>\n",
       "      <td>N</td>\n",
       "      <td>NaN</td>\n",
       "      <td>NaN</td>\n",
       "      <td>NaN</td>\n",
       "      <td>nan</td>\n",
       "      <td>nan</td>\n",
       "      <td>nan</td>\n",
       "    </tr>\n",
       "    <tr>\n",
       "      <th>435410</th>\n",
       "      <td>130347690</td>\n",
       "      <td>nan</td>\n",
       "      <td>9,600.00</td>\n",
       "      <td>9,600.00</td>\n",
       "      <td>9,600.00</td>\n",
       "      <td>36 months</td>\n",
       "      <td>14.07</td>\n",
       "      <td>328.44</td>\n",
       "      <td>C</td>\n",
       "      <td>C3</td>\n",
       "      <td>Secretary</td>\n",
       "      <td>9 years</td>\n",
       "      <td>MORTGAGE</td>\n",
       "      <td>75,000.00</td>\n",
       "      <td>Source Verified</td>\n",
       "      <td>Mar-2018</td>\n",
       "      <td>Current</td>\n",
       "      <td>n</td>\n",
       "      <td>https://lendingclub.com/browse/loanDetail.action?loan_id=130347690</td>\n",
       "      <td>NaN</td>\n",
       "      <td>credit_card</td>\n",
       "      <td>Credit card refinancing</td>\n",
       "      <td>223xx</td>\n",
       "      <td>VA</td>\n",
       "      <td>16.03</td>\n",
       "      <td>0.00</td>\n",
       "      <td>Sep-1997</td>\n",
       "      <td>705.00</td>\n",
       "      <td>709.00</td>\n",
       "      <td>0.00</td>\n",
       "      <td>48.00</td>\n",
       "      <td>nan</td>\n",
       "      <td>11.00</td>\n",
       "      <td>0.00</td>\n",
       "      <td>30,365.00</td>\n",
       "      <td>58.30</td>\n",
       "      <td>23.00</td>\n",
       "      <td>w</td>\n",
       "      <td>6,835.68</td>\n",
       "      <td>6,835.68</td>\n",
       "      <td>3,933.78</td>\n",
       "      <td>3,933.78</td>\n",
       "      <td>2,764.32</td>\n",
       "      <td>1,169.46</td>\n",
       "      <td>0.00</td>\n",
       "      <td>0.00</td>\n",
       "      <td>0.00</td>\n",
       "      <td>Mar-2019</td>\n",
       "      <td>328.44</td>\n",
       "      <td>Apr-2019</td>\n",
       "      <td>Mar-2019</td>\n",
       "      <td>719.00</td>\n",
       "      <td>715.00</td>\n",
       "      <td>0.00</td>\n",
       "      <td>nan</td>\n",
       "      <td>1.00</td>\n",
       "      <td>Individual</td>\n",
       "      <td>nan</td>\n",
       "      <td>nan</td>\n",
       "      <td>NaN</td>\n",
       "      <td>0.00</td>\n",
       "      <td>0.00</td>\n",
       "      <td>398,961.00</td>\n",
       "      <td>0.00</td>\n",
       "      <td>1.00</td>\n",
       "      <td>0.00</td>\n",
       "      <td>0.00</td>\n",
       "      <td>38.00</td>\n",
       "      <td>6,513.00</td>\n",
       "      <td>42.00</td>\n",
       "      <td>0.00</td>\n",
       "      <td>5.00</td>\n",
       "      <td>14,997.00</td>\n",
       "      <td>55.00</td>\n",
       "      <td>52,100.00</td>\n",
       "      <td>0.00</td>\n",
       "      <td>1.00</td>\n",
       "      <td>0.00</td>\n",
       "      <td>6.00</td>\n",
       "      <td>36,269.00</td>\n",
       "      <td>14,235.00</td>\n",
       "      <td>68.10</td>\n",
       "      <td>0.00</td>\n",
       "      <td>0.00</td>\n",
       "      <td>132.00</td>\n",
       "      <td>246.00</td>\n",
       "      <td>13.00</td>\n",
       "      <td>11.00</td>\n",
       "      <td>2.00</td>\n",
       "      <td>13.00</td>\n",
       "      <td>66.00</td>\n",
       "      <td>13.00</td>\n",
       "      <td>48.00</td>\n",
       "      <td>0.00</td>\n",
       "      <td>5.00</td>\n",
       "      <td>5.00</td>\n",
       "      <td>6.00</td>\n",
       "      <td>12.00</td>\n",
       "      <td>3.00</td>\n",
       "      <td>9.00</td>\n",
       "      <td>18.00</td>\n",
       "      <td>5.00</td>\n",
       "      <td>11.00</td>\n",
       "      <td>0.00</td>\n",
       "      <td>0.00</td>\n",
       "      <td>0.00</td>\n",
       "      <td>1.00</td>\n",
       "      <td>87.00</td>\n",
       "      <td>33.30</td>\n",
       "      <td>0.00</td>\n",
       "      <td>0.00</td>\n",
       "      <td>435,356.00</td>\n",
       "      <td>36,878.00</td>\n",
       "      <td>44,600.00</td>\n",
       "      <td>15,556.00</td>\n",
       "      <td>nan</td>\n",
       "      <td>nan</td>\n",
       "      <td>nan</td>\n",
       "      <td>NaN</td>\n",
       "      <td>nan</td>\n",
       "      <td>nan</td>\n",
       "      <td>nan</td>\n",
       "      <td>nan</td>\n",
       "      <td>nan</td>\n",
       "      <td>nan</td>\n",
       "      <td>nan</td>\n",
       "      <td>nan</td>\n",
       "      <td>nan</td>\n",
       "      <td>N</td>\n",
       "      <td>NaN</td>\n",
       "      <td>NaN</td>\n",
       "      <td>NaN</td>\n",
       "      <td>nan</td>\n",
       "      <td>nan</td>\n",
       "      <td>NaN</td>\n",
       "      <td>NaN</td>\n",
       "      <td>NaN</td>\n",
       "      <td>nan</td>\n",
       "      <td>nan</td>\n",
       "      <td>NaN</td>\n",
       "      <td>nan</td>\n",
       "      <td>nan</td>\n",
       "      <td>nan</td>\n",
       "      <td>Cash</td>\n",
       "      <td>N</td>\n",
       "      <td>NaN</td>\n",
       "      <td>NaN</td>\n",
       "      <td>NaN</td>\n",
       "      <td>nan</td>\n",
       "      <td>nan</td>\n",
       "      <td>nan</td>\n",
       "    </tr>\n",
       "    <tr>\n",
       "      <th>249389</th>\n",
       "      <td>51879895</td>\n",
       "      <td>nan</td>\n",
       "      <td>10,000.00</td>\n",
       "      <td>10,000.00</td>\n",
       "      <td>10,000.00</td>\n",
       "      <td>36 months</td>\n",
       "      <td>7.89</td>\n",
       "      <td>312.86</td>\n",
       "      <td>A</td>\n",
       "      <td>A5</td>\n",
       "      <td>Bookkeeper</td>\n",
       "      <td>10+ years</td>\n",
       "      <td>RENT</td>\n",
       "      <td>48,000.00</td>\n",
       "      <td>Not Verified</td>\n",
       "      <td>Jun-2015</td>\n",
       "      <td>Fully Paid</td>\n",
       "      <td>n</td>\n",
       "      <td>https://lendingclub.com/browse/loanDetail.action?loan_id=51879895</td>\n",
       "      <td>NaN</td>\n",
       "      <td>debt_consolidation</td>\n",
       "      <td>Debt consolidation</td>\n",
       "      <td>112xx</td>\n",
       "      <td>NY</td>\n",
       "      <td>28.01</td>\n",
       "      <td>1.00</td>\n",
       "      <td>May-2004</td>\n",
       "      <td>690.00</td>\n",
       "      <td>694.00</td>\n",
       "      <td>0.00</td>\n",
       "      <td>5.00</td>\n",
       "      <td>nan</td>\n",
       "      <td>10.00</td>\n",
       "      <td>0.00</td>\n",
       "      <td>14,996.00</td>\n",
       "      <td>36.50</td>\n",
       "      <td>16.00</td>\n",
       "      <td>w</td>\n",
       "      <td>0.00</td>\n",
       "      <td>0.00</td>\n",
       "      <td>10,945.67</td>\n",
       "      <td>10,945.67</td>\n",
       "      <td>10,000.00</td>\n",
       "      <td>945.67</td>\n",
       "      <td>0.00</td>\n",
       "      <td>0.00</td>\n",
       "      <td>0.00</td>\n",
       "      <td>Dec-2016</td>\n",
       "      <td>5,621.29</td>\n",
       "      <td>NaN</td>\n",
       "      <td>Mar-2019</td>\n",
       "      <td>699.00</td>\n",
       "      <td>695.00</td>\n",
       "      <td>0.00</td>\n",
       "      <td>nan</td>\n",
       "      <td>1.00</td>\n",
       "      <td>Individual</td>\n",
       "      <td>nan</td>\n",
       "      <td>nan</td>\n",
       "      <td>NaN</td>\n",
       "      <td>0.00</td>\n",
       "      <td>0.00</td>\n",
       "      <td>22,838.00</td>\n",
       "      <td>nan</td>\n",
       "      <td>nan</td>\n",
       "      <td>nan</td>\n",
       "      <td>nan</td>\n",
       "      <td>nan</td>\n",
       "      <td>nan</td>\n",
       "      <td>nan</td>\n",
       "      <td>nan</td>\n",
       "      <td>nan</td>\n",
       "      <td>nan</td>\n",
       "      <td>nan</td>\n",
       "      <td>41,100.00</td>\n",
       "      <td>nan</td>\n",
       "      <td>nan</td>\n",
       "      <td>nan</td>\n",
       "      <td>1.00</td>\n",
       "      <td>2,284.00</td>\n",
       "      <td>20,908.00</td>\n",
       "      <td>41.80</td>\n",
       "      <td>0.00</td>\n",
       "      <td>0.00</td>\n",
       "      <td>22.00</td>\n",
       "      <td>133.00</td>\n",
       "      <td>26.00</td>\n",
       "      <td>22.00</td>\n",
       "      <td>0.00</td>\n",
       "      <td>63.00</td>\n",
       "      <td>5.00</td>\n",
       "      <td>nan</td>\n",
       "      <td>5.00</td>\n",
       "      <td>0.00</td>\n",
       "      <td>6.00</td>\n",
       "      <td>7.00</td>\n",
       "      <td>6.00</td>\n",
       "      <td>10.00</td>\n",
       "      <td>1.00</td>\n",
       "      <td>9.00</td>\n",
       "      <td>15.00</td>\n",
       "      <td>7.00</td>\n",
       "      <td>10.00</td>\n",
       "      <td>0.00</td>\n",
       "      <td>0.00</td>\n",
       "      <td>0.00</td>\n",
       "      <td>0.00</td>\n",
       "      <td>93.70</td>\n",
       "      <td>66.70</td>\n",
       "      <td>0.00</td>\n",
       "      <td>0.00</td>\n",
       "      <td>57,100.00</td>\n",
       "      <td>22,838.00</td>\n",
       "      <td>35,900.00</td>\n",
       "      <td>16,000.00</td>\n",
       "      <td>nan</td>\n",
       "      <td>nan</td>\n",
       "      <td>nan</td>\n",
       "      <td>NaN</td>\n",
       "      <td>nan</td>\n",
       "      <td>nan</td>\n",
       "      <td>nan</td>\n",
       "      <td>nan</td>\n",
       "      <td>nan</td>\n",
       "      <td>nan</td>\n",
       "      <td>nan</td>\n",
       "      <td>nan</td>\n",
       "      <td>nan</td>\n",
       "      <td>N</td>\n",
       "      <td>NaN</td>\n",
       "      <td>NaN</td>\n",
       "      <td>NaN</td>\n",
       "      <td>nan</td>\n",
       "      <td>nan</td>\n",
       "      <td>NaN</td>\n",
       "      <td>NaN</td>\n",
       "      <td>NaN</td>\n",
       "      <td>nan</td>\n",
       "      <td>nan</td>\n",
       "      <td>NaN</td>\n",
       "      <td>nan</td>\n",
       "      <td>nan</td>\n",
       "      <td>nan</td>\n",
       "      <td>Cash</td>\n",
       "      <td>N</td>\n",
       "      <td>NaN</td>\n",
       "      <td>NaN</td>\n",
       "      <td>NaN</td>\n",
       "      <td>nan</td>\n",
       "      <td>nan</td>\n",
       "      <td>nan</td>\n",
       "    </tr>\n",
       "    <tr>\n",
       "      <th>829381</th>\n",
       "      <td>137292644</td>\n",
       "      <td>nan</td>\n",
       "      <td>5,000.00</td>\n",
       "      <td>5,000.00</td>\n",
       "      <td>5,000.00</td>\n",
       "      <td>36 months</td>\n",
       "      <td>12.73</td>\n",
       "      <td>167.83</td>\n",
       "      <td>B</td>\n",
       "      <td>B5</td>\n",
       "      <td>Tractor Trailer Driver</td>\n",
       "      <td>10+ years</td>\n",
       "      <td>MORTGAGE</td>\n",
       "      <td>85,000.00</td>\n",
       "      <td>Not Verified</td>\n",
       "      <td>Aug-2018</td>\n",
       "      <td>Current</td>\n",
       "      <td>n</td>\n",
       "      <td>https://lendingclub.com/browse/loanDetail.action?loan_id=137292644</td>\n",
       "      <td>NaN</td>\n",
       "      <td>home_improvement</td>\n",
       "      <td>Home improvement</td>\n",
       "      <td>080xx</td>\n",
       "      <td>NJ</td>\n",
       "      <td>27.46</td>\n",
       "      <td>0.00</td>\n",
       "      <td>Aug-1998</td>\n",
       "      <td>695.00</td>\n",
       "      <td>699.00</td>\n",
       "      <td>0.00</td>\n",
       "      <td>25.00</td>\n",
       "      <td>nan</td>\n",
       "      <td>9.00</td>\n",
       "      <td>0.00</td>\n",
       "      <td>8,612.00</td>\n",
       "      <td>73.60</td>\n",
       "      <td>22.00</td>\n",
       "      <td>f</td>\n",
       "      <td>4,170.45</td>\n",
       "      <td>4,170.45</td>\n",
       "      <td>1,167.74</td>\n",
       "      <td>1,167.74</td>\n",
       "      <td>829.55</td>\n",
       "      <td>338.19</td>\n",
       "      <td>0.00</td>\n",
       "      <td>0.00</td>\n",
       "      <td>0.00</td>\n",
       "      <td>Mar-2019</td>\n",
       "      <td>167.83</td>\n",
       "      <td>Apr-2019</td>\n",
       "      <td>Mar-2019</td>\n",
       "      <td>694.00</td>\n",
       "      <td>690.00</td>\n",
       "      <td>0.00</td>\n",
       "      <td>nan</td>\n",
       "      <td>1.00</td>\n",
       "      <td>Individual</td>\n",
       "      <td>nan</td>\n",
       "      <td>nan</td>\n",
       "      <td>NaN</td>\n",
       "      <td>0.00</td>\n",
       "      <td>0.00</td>\n",
       "      <td>221,951.00</td>\n",
       "      <td>0.00</td>\n",
       "      <td>3.00</td>\n",
       "      <td>0.00</td>\n",
       "      <td>2.00</td>\n",
       "      <td>13.00</td>\n",
       "      <td>62,830.00</td>\n",
       "      <td>80.00</td>\n",
       "      <td>0.00</td>\n",
       "      <td>0.00</td>\n",
       "      <td>4,121.00</td>\n",
       "      <td>79.00</td>\n",
       "      <td>11,700.00</td>\n",
       "      <td>1.00</td>\n",
       "      <td>0.00</td>\n",
       "      <td>2.00</td>\n",
       "      <td>2.00</td>\n",
       "      <td>24,661.00</td>\n",
       "      <td>274.00</td>\n",
       "      <td>95.90</td>\n",
       "      <td>0.00</td>\n",
       "      <td>0.00</td>\n",
       "      <td>239.00</td>\n",
       "      <td>237.00</td>\n",
       "      <td>40.00</td>\n",
       "      <td>13.00</td>\n",
       "      <td>4.00</td>\n",
       "      <td>81.00</td>\n",
       "      <td>nan</td>\n",
       "      <td>0.00</td>\n",
       "      <td>nan</td>\n",
       "      <td>0.00</td>\n",
       "      <td>3.00</td>\n",
       "      <td>5.00</td>\n",
       "      <td>3.00</td>\n",
       "      <td>7.00</td>\n",
       "      <td>9.00</td>\n",
       "      <td>5.00</td>\n",
       "      <td>9.00</td>\n",
       "      <td>5.00</td>\n",
       "      <td>9.00</td>\n",
       "      <td>0.00</td>\n",
       "      <td>0.00</td>\n",
       "      <td>0.00</td>\n",
       "      <td>0.00</td>\n",
       "      <td>90.90</td>\n",
       "      <td>100.00</td>\n",
       "      <td>0.00</td>\n",
       "      <td>0.00</td>\n",
       "      <td>259,349.00</td>\n",
       "      <td>71,442.00</td>\n",
       "      <td>6,700.00</td>\n",
       "      <td>78,999.00</td>\n",
       "      <td>nan</td>\n",
       "      <td>nan</td>\n",
       "      <td>nan</td>\n",
       "      <td>NaN</td>\n",
       "      <td>nan</td>\n",
       "      <td>nan</td>\n",
       "      <td>nan</td>\n",
       "      <td>nan</td>\n",
       "      <td>nan</td>\n",
       "      <td>nan</td>\n",
       "      <td>nan</td>\n",
       "      <td>nan</td>\n",
       "      <td>nan</td>\n",
       "      <td>N</td>\n",
       "      <td>NaN</td>\n",
       "      <td>NaN</td>\n",
       "      <td>NaN</td>\n",
       "      <td>nan</td>\n",
       "      <td>nan</td>\n",
       "      <td>NaN</td>\n",
       "      <td>NaN</td>\n",
       "      <td>NaN</td>\n",
       "      <td>nan</td>\n",
       "      <td>nan</td>\n",
       "      <td>NaN</td>\n",
       "      <td>nan</td>\n",
       "      <td>nan</td>\n",
       "      <td>nan</td>\n",
       "      <td>Cash</td>\n",
       "      <td>N</td>\n",
       "      <td>NaN</td>\n",
       "      <td>NaN</td>\n",
       "      <td>NaN</td>\n",
       "      <td>nan</td>\n",
       "      <td>nan</td>\n",
       "      <td>nan</td>\n",
       "    </tr>\n",
       "  </tbody>\n",
       "</table>\n",
       "</div>"
      ],
      "text/plain": [
       "                id  member_id  loan_amnt  funded_amnt  funded_amnt_inv  \\\n",
       "2179398   94446389        nan   5,400.00     5,400.00         5,400.00   \n",
       "510234   126961740        nan  10,000.00    10,000.00        10,000.00   \n",
       "435410   130347690        nan   9,600.00     9,600.00         9,600.00   \n",
       "249389    51879895        nan  10,000.00    10,000.00        10,000.00   \n",
       "829381   137292644        nan   5,000.00     5,000.00         5,000.00   \n",
       "\n",
       "               term  int_rate  installment grade sub_grade  \\\n",
       "2179398   36 months     12.74       181.28     C        C1   \n",
       "510234    36 months      7.97       313.23     A        A5   \n",
       "435410    36 months     14.07       328.44     C        C3   \n",
       "249389    36 months      7.89       312.86     A        A5   \n",
       "829381    36 months     12.73       167.83     B        B5   \n",
       "\n",
       "                      emp_title emp_length home_ownership  annual_inc  \\\n",
       "2179398         Sale Associate     3 years           RENT   30,000.00   \n",
       "510234          Insurance agent  10+ years       MORTGAGE  125,065.00   \n",
       "435410                Secretary    9 years       MORTGAGE   75,000.00   \n",
       "249389               Bookkeeper  10+ years           RENT   48,000.00   \n",
       "829381   Tractor Trailer Driver  10+ years       MORTGAGE   85,000.00   \n",
       "\n",
       "        verification_status   issue_d loan_status pymnt_plan  \\\n",
       "2179398     Source Verified  Dec-2016     Current          n   \n",
       "510234         Not Verified  Jan-2018     Current          n   \n",
       "435410      Source Verified  Mar-2018     Current          n   \n",
       "249389         Not Verified  Jun-2015  Fully Paid          n   \n",
       "829381         Not Verified  Aug-2018     Current          n   \n",
       "\n",
       "                                                                        url  \\\n",
       "2179398   https://lendingclub.com/browse/loanDetail.action?loan_id=94446389   \n",
       "510234   https://lendingclub.com/browse/loanDetail.action?loan_id=126961740   \n",
       "435410   https://lendingclub.com/browse/loanDetail.action?loan_id=130347690   \n",
       "249389    https://lendingclub.com/browse/loanDetail.action?loan_id=51879895   \n",
       "829381   https://lendingclub.com/browse/loanDetail.action?loan_id=137292644   \n",
       "\n",
       "        desc             purpose                    title zip_code addr_state  \\\n",
       "2179398  NaN         credit_card  Credit card refinancing    953xx         CA   \n",
       "510234   NaN               other                    Other    945xx         CA   \n",
       "435410   NaN         credit_card  Credit card refinancing    223xx         VA   \n",
       "249389   NaN  debt_consolidation       Debt consolidation    112xx         NY   \n",
       "829381   NaN    home_improvement         Home improvement    080xx         NJ   \n",
       "\n",
       "          dti  delinq_2yrs earliest_cr_line  fico_range_low  fico_range_high  \\\n",
       "2179398 20.20         0.00         May-2013          685.00           689.00   \n",
       "510234   8.36         4.00         Jul-1998          700.00           704.00   \n",
       "435410  16.03         0.00         Sep-1997          705.00           709.00   \n",
       "249389  28.01         1.00         May-2004          690.00           694.00   \n",
       "829381  27.46         0.00         Aug-1998          695.00           699.00   \n",
       "\n",
       "         inq_last_6mths  mths_since_last_delinq  mths_since_last_record  \\\n",
       "2179398            0.00                     nan                     nan   \n",
       "510234             0.00                   22.00                     nan   \n",
       "435410             0.00                   48.00                     nan   \n",
       "249389             0.00                    5.00                     nan   \n",
       "829381             0.00                   25.00                     nan   \n",
       "\n",
       "         open_acc  pub_rec  revol_bal  revol_util  total_acc  \\\n",
       "2179398      9.00     0.00   8,332.00       45.50      12.00   \n",
       "510234      10.00     0.00  10,864.00       45.50      21.00   \n",
       "435410      11.00     0.00  30,365.00       58.30      23.00   \n",
       "249389      10.00     0.00  14,996.00       36.50      16.00   \n",
       "829381       9.00     0.00   8,612.00       73.60      22.00   \n",
       "\n",
       "        initial_list_status  out_prncp  out_prncp_inv  total_pymnt  \\\n",
       "2179398                   f   1,547.85       1,547.85     4,917.50   \n",
       "510234                    w   6,391.40       6,391.40     4,398.51   \n",
       "435410                    w   6,835.68       6,835.68     3,933.78   \n",
       "249389                    w       0.00           0.00    10,945.67   \n",
       "829381                    f   4,170.45       4,170.45     1,167.74   \n",
       "\n",
       "         total_pymnt_inv  total_rec_prncp  total_rec_int  total_rec_late_fee  \\\n",
       "2179398         4,917.50         3,852.15       1,065.35                0.00   \n",
       "510234          4,398.51         3,608.60         789.91                0.00   \n",
       "435410          3,933.78         2,764.32       1,169.46                0.00   \n",
       "249389         10,945.67        10,000.00         945.67                0.00   \n",
       "829381          1,167.74           829.55         338.19                0.00   \n",
       "\n",
       "         recoveries  collection_recovery_fee last_pymnt_d  last_pymnt_amnt  \\\n",
       "2179398        0.00                     0.00     Mar-2019           181.28   \n",
       "510234         0.00                     0.00     Mar-2019           313.23   \n",
       "435410         0.00                     0.00     Mar-2019           328.44   \n",
       "249389         0.00                     0.00     Dec-2016         5,621.29   \n",
       "829381         0.00                     0.00     Mar-2019           167.83   \n",
       "\n",
       "        next_pymnt_d last_credit_pull_d  last_fico_range_high  \\\n",
       "2179398     Apr-2019           Mar-2019                659.00   \n",
       "510234      Apr-2019           Mar-2019                649.00   \n",
       "435410      Apr-2019           Mar-2019                719.00   \n",
       "249389           NaN           Mar-2019                699.00   \n",
       "829381      Apr-2019           Mar-2019                694.00   \n",
       "\n",
       "         last_fico_range_low  collections_12_mths_ex_med  \\\n",
       "2179398               655.00                        0.00   \n",
       "510234                645.00                        0.00   \n",
       "435410                715.00                        0.00   \n",
       "249389                695.00                        0.00   \n",
       "829381                690.00                        0.00   \n",
       "\n",
       "         mths_since_last_major_derog  policy_code application_type  \\\n",
       "2179398                          nan         1.00       Individual   \n",
       "510234                         22.00         1.00        Joint App   \n",
       "435410                           nan         1.00       Individual   \n",
       "249389                           nan         1.00       Individual   \n",
       "829381                           nan         1.00       Individual   \n",
       "\n",
       "         annual_inc_joint  dti_joint verification_status_joint  \\\n",
       "2179398               nan        nan                       NaN   \n",
       "510234         165,065.00       7.58              Not Verified   \n",
       "435410                nan        nan                       NaN   \n",
       "249389                nan        nan                       NaN   \n",
       "829381                nan        nan                       NaN   \n",
       "\n",
       "         acc_now_delinq  tot_coll_amt  tot_cur_bal  open_acc_6m  open_act_il  \\\n",
       "2179398            0.00          0.00    19,823.00         1.00         1.00   \n",
       "510234             0.00          0.00    98,416.00         2.00         1.00   \n",
       "435410             0.00          0.00   398,961.00         0.00         1.00   \n",
       "249389             0.00          0.00    22,838.00          nan          nan   \n",
       "829381             0.00          0.00   221,951.00         0.00         3.00   \n",
       "\n",
       "         open_il_12m  open_il_24m  mths_since_rcnt_il  total_bal_il  il_util  \\\n",
       "2179398         0.00         2.00               23.00     11,491.00    74.00   \n",
       "510234          0.00         0.00               34.00      1,488.00     8.00   \n",
       "435410          0.00         0.00               38.00      6,513.00    42.00   \n",
       "249389           nan          nan                 nan           nan      nan   \n",
       "829381          0.00         2.00               13.00     62,830.00    80.00   \n",
       "\n",
       "         open_rv_12m  open_rv_24m  max_bal_bc  all_util  total_rev_hi_lim  \\\n",
       "2179398         1.00         5.00    3,859.00     59.00         18,300.00   \n",
       "510234          3.00         3.00    5,814.00     33.00         23,900.00   \n",
       "435410          0.00         5.00   14,997.00     55.00         52,100.00   \n",
       "249389           nan          nan         nan       nan         41,100.00   \n",
       "829381          0.00         0.00    4,121.00     79.00         11,700.00   \n",
       "\n",
       "         inq_fi  total_cu_tl  inq_last_12m  acc_open_past_24mths  avg_cur_bal  \\\n",
       "2179398    0.00         0.00          0.00                  7.00     2,203.00   \n",
       "510234     0.00         0.00          4.00                  4.00    10,935.00   \n",
       "435410     0.00         1.00          0.00                  6.00    36,269.00   \n",
       "249389      nan          nan           nan                  1.00     2,284.00   \n",
       "829381     1.00         0.00          2.00                  2.00    24,661.00   \n",
       "\n",
       "         bc_open_to_buy  bc_util  chargeoff_within_12_mths  delinq_amnt  \\\n",
       "2179398          753.00    90.60                      0.00         0.00   \n",
       "510234        12,936.00    45.60                      0.00         0.00   \n",
       "435410        14,235.00    68.10                      0.00         0.00   \n",
       "249389        20,908.00    41.80                      0.00         0.00   \n",
       "829381           274.00    95.90                      0.00         0.00   \n",
       "\n",
       "         mo_sin_old_il_acct  mo_sin_old_rev_tl_op  mo_sin_rcnt_rev_tl_op  \\\n",
       "2179398               23.00                 43.00                   3.00   \n",
       "510234                88.00                234.00                   3.00   \n",
       "435410               132.00                246.00                  13.00   \n",
       "249389                22.00                133.00                  26.00   \n",
       "829381               239.00                237.00                  40.00   \n",
       "\n",
       "         mo_sin_rcnt_tl  mort_acc  mths_since_recent_bc  \\\n",
       "2179398            3.00      0.00                 17.00   \n",
       "510234             3.00      2.00                  3.00   \n",
       "435410            11.00      2.00                 13.00   \n",
       "249389            22.00      0.00                 63.00   \n",
       "829381            13.00      4.00                 81.00   \n",
       "\n",
       "         mths_since_recent_bc_dlq  mths_since_recent_inq  \\\n",
       "2179398                       nan                  23.00   \n",
       "510234                      22.00                   2.00   \n",
       "435410                      66.00                  13.00   \n",
       "249389                       5.00                    nan   \n",
       "829381                        nan                   0.00   \n",
       "\n",
       "         mths_since_recent_revol_delinq  num_accts_ever_120_pd  \\\n",
       "2179398                             nan                   0.00   \n",
       "510234                            22.00                   6.00   \n",
       "435410                            48.00                   0.00   \n",
       "249389                             5.00                   0.00   \n",
       "829381                              nan                   0.00   \n",
       "\n",
       "         num_actv_bc_tl  num_actv_rev_tl  num_bc_sats  num_bc_tl  num_il_tl  \\\n",
       "2179398            3.00             6.00         3.00       4.00       2.00   \n",
       "510234             3.00             3.00         5.00      11.00       3.00   \n",
       "435410             5.00             5.00         6.00      12.00       3.00   \n",
       "249389             6.00             7.00         6.00      10.00       1.00   \n",
       "829381             3.00             5.00         3.00       7.00       9.00   \n",
       "\n",
       "         num_op_rev_tl  num_rev_accts  num_rev_tl_bal_gt_0  num_sats  \\\n",
       "2179398           8.00          10.00                 6.00      9.00   \n",
       "510234            7.00          14.00                 3.00     10.00   \n",
       "435410            9.00          18.00                 5.00     11.00   \n",
       "249389            9.00          15.00                 7.00     10.00   \n",
       "829381            5.00           9.00                 5.00      9.00   \n",
       "\n",
       "         num_tl_120dpd_2m  num_tl_30dpd  num_tl_90g_dpd_24m  \\\n",
       "2179398              0.00          0.00                0.00   \n",
       "510234               0.00          0.00                4.00   \n",
       "435410               0.00          0.00                0.00   \n",
       "249389               0.00          0.00                0.00   \n",
       "829381               0.00          0.00                0.00   \n",
       "\n",
       "         num_tl_op_past_12m  pct_tl_nvr_dlq  percent_bc_gt_75  \\\n",
       "2179398                1.00          100.00            100.00   \n",
       "510234                 3.00           57.10              0.00   \n",
       "435410                 1.00           87.00             33.30   \n",
       "249389                 0.00           93.70             66.70   \n",
       "829381                 0.00           90.90            100.00   \n",
       "\n",
       "         pub_rec_bankruptcies  tax_liens  tot_hi_cred_lim  total_bal_ex_mort  \\\n",
       "2179398                  0.00       0.00        33,735.00          19,823.00   \n",
       "510234                   0.00       0.00       168,658.00          14,245.00   \n",
       "435410                   0.00       0.00       435,356.00          36,878.00   \n",
       "249389                   0.00       0.00        57,100.00          22,838.00   \n",
       "829381                   0.00       0.00       259,349.00          71,442.00   \n",
       "\n",
       "         total_bc_limit  total_il_high_credit_limit  revol_bal_joint  \\\n",
       "2179398        8,000.00                   15,435.00              nan   \n",
       "510234        23,800.00                   17,865.00        23,467.00   \n",
       "435410        44,600.00                   15,556.00              nan   \n",
       "249389        35,900.00                   16,000.00              nan   \n",
       "829381         6,700.00                   78,999.00              nan   \n",
       "\n",
       "         sec_app_fico_range_low  sec_app_fico_range_high  \\\n",
       "2179398                     nan                      nan   \n",
       "510234                   665.00                   669.00   \n",
       "435410                      nan                      nan   \n",
       "249389                      nan                      nan   \n",
       "829381                      nan                      nan   \n",
       "\n",
       "        sec_app_earliest_cr_line  sec_app_inq_last_6mths  sec_app_mort_acc  \\\n",
       "2179398                      NaN                     nan               nan   \n",
       "510234                  Aug-1991                    0.00              1.00   \n",
       "435410                       NaN                     nan               nan   \n",
       "249389                       NaN                     nan               nan   \n",
       "829381                       NaN                     nan               nan   \n",
       "\n",
       "         sec_app_open_acc  sec_app_revol_util  sec_app_open_act_il  \\\n",
       "2179398               nan                 nan                  nan   \n",
       "510234               7.00               49.40                 1.00   \n",
       "435410                nan                 nan                  nan   \n",
       "249389                nan                 nan                  nan   \n",
       "829381                nan                 nan                  nan   \n",
       "\n",
       "         sec_app_num_rev_accts  sec_app_chargeoff_within_12_mths  \\\n",
       "2179398                    nan                               nan   \n",
       "510234                   16.00                              0.00   \n",
       "435410                     nan                               nan   \n",
       "249389                     nan                               nan   \n",
       "829381                     nan                               nan   \n",
       "\n",
       "         sec_app_collections_12_mths_ex_med  \\\n",
       "2179398                                 nan   \n",
       "510234                                 0.00   \n",
       "435410                                  nan   \n",
       "249389                                  nan   \n",
       "829381                                  nan   \n",
       "\n",
       "         sec_app_mths_since_last_major_derog hardship_flag hardship_type  \\\n",
       "2179398                                  nan             N           NaN   \n",
       "510234                                 22.00             N           NaN   \n",
       "435410                                   nan             N           NaN   \n",
       "249389                                   nan             N           NaN   \n",
       "829381                                   nan             N           NaN   \n",
       "\n",
       "        hardship_reason hardship_status  deferral_term  hardship_amount  \\\n",
       "2179398             NaN             NaN            nan              nan   \n",
       "510234              NaN             NaN            nan              nan   \n",
       "435410              NaN             NaN            nan              nan   \n",
       "249389              NaN             NaN            nan              nan   \n",
       "829381              NaN             NaN            nan              nan   \n",
       "\n",
       "        hardship_start_date hardship_end_date payment_plan_start_date  \\\n",
       "2179398                 NaN               NaN                     NaN   \n",
       "510234                  NaN               NaN                     NaN   \n",
       "435410                  NaN               NaN                     NaN   \n",
       "249389                  NaN               NaN                     NaN   \n",
       "829381                  NaN               NaN                     NaN   \n",
       "\n",
       "         hardship_length  hardship_dpd hardship_loan_status  \\\n",
       "2179398              nan           nan                  NaN   \n",
       "510234               nan           nan                  NaN   \n",
       "435410               nan           nan                  NaN   \n",
       "249389               nan           nan                  NaN   \n",
       "829381               nan           nan                  NaN   \n",
       "\n",
       "         orig_projected_additional_accrued_interest  \\\n",
       "2179398                                         nan   \n",
       "510234                                          nan   \n",
       "435410                                          nan   \n",
       "249389                                          nan   \n",
       "829381                                          nan   \n",
       "\n",
       "         hardship_payoff_balance_amount  hardship_last_payment_amount  \\\n",
       "2179398                             nan                           nan   \n",
       "510234                              nan                           nan   \n",
       "435410                              nan                           nan   \n",
       "249389                              nan                           nan   \n",
       "829381                              nan                           nan   \n",
       "\n",
       "        disbursement_method debt_settlement_flag debt_settlement_flag_date  \\\n",
       "2179398                Cash                    N                       NaN   \n",
       "510234                 Cash                    N                       NaN   \n",
       "435410                 Cash                    N                       NaN   \n",
       "249389                 Cash                    N                       NaN   \n",
       "829381                 Cash                    N                       NaN   \n",
       "\n",
       "        settlement_status settlement_date  settlement_amount  \\\n",
       "2179398               NaN             NaN                nan   \n",
       "510234                NaN             NaN                nan   \n",
       "435410                NaN             NaN                nan   \n",
       "249389                NaN             NaN                nan   \n",
       "829381                NaN             NaN                nan   \n",
       "\n",
       "         settlement_percentage  settlement_term  \n",
       "2179398                    nan              nan  \n",
       "510234                     nan              nan  \n",
       "435410                     nan              nan  \n",
       "249389                     nan              nan  \n",
       "829381                     nan              nan  "
      ]
     },
     "execution_count": 252,
     "metadata": {},
     "output_type": "execute_result"
    }
   ],
   "source": [
    "loans.head(5)"
   ]
  },
  {
   "cell_type": "code",
   "execution_count": 253,
   "metadata": {},
   "outputs": [
    {
     "data": {
      "text/plain": [
       "(22607, 151)"
      ]
     },
     "execution_count": 253,
     "metadata": {},
     "output_type": "execute_result"
    }
   ],
   "source": [
    "loans.shape"
   ]
  },
  {
   "cell_type": "code",
   "execution_count": null,
   "metadata": {},
   "outputs": [],
   "source": []
  },
  {
   "cell_type": "markdown",
   "metadata": {},
   "source": [
    "## Target Variable"
   ]
  },
  {
   "cell_type": "markdown",
   "metadata": {},
   "source": [
    "The Target Variable in this loan data is \"Loan_Status\", which we focus more on either loan status is \"Fully Paid\" or Charged Off. Will check on value counts of \"Loan_Status\" variable."
   ]
  },
  {
   "cell_type": "code",
   "execution_count": 254,
   "metadata": {},
   "outputs": [
    {
     "data": {
      "text/plain": [
       "Fully Paid                                             10833\n",
       "Current                                                 8685\n",
       "Charged Off                                             2713\n",
       "Late (31-120 days)                                       214\n",
       "In Grace Period                                           79\n",
       "Late (16-30 days)                                         56\n",
       "Does not meet the credit policy. Status:Fully Paid        17\n",
       "Does not meet the credit policy. Status:Charged Off        8\n",
       "NaN                                                        2\n",
       "Name: loan_status, dtype: int64"
      ]
     },
     "execution_count": 254,
     "metadata": {},
     "output_type": "execute_result"
    }
   ],
   "source": [
    "loans['loan_status'].value_counts(dropna=False) "
   ]
  },
  {
   "cell_type": "markdown",
   "metadata": {},
   "source": [
    "Will exclude the loans which status are in Current,Late (31-120 days),In Grace Period,Late (16-30 days),Does not meet the credit policy. Status:Fully Paid,Does not meet the credit policy. Status:Charged Off,Default and missing status"
   ]
  },
  {
   "cell_type": "code",
   "execution_count": 255,
   "metadata": {},
   "outputs": [],
   "source": [
    "loans = loans.loc[loans['loan_status'].isin(['Fully Paid', 'Charged Off'])] #Ignore other loan_status"
   ]
  },
  {
   "cell_type": "markdown",
   "metadata": {},
   "source": [
    "Loan_Status counts as percentages"
   ]
  },
  {
   "cell_type": "code",
   "execution_count": 256,
   "metadata": {},
   "outputs": [
    {
     "data": {
      "text/plain": [
       "Fully Paid    0.80\n",
       "Charged Off   0.20\n",
       "Name: loan_status, dtype: float64"
      ]
     },
     "execution_count": 256,
     "metadata": {},
     "output_type": "execute_result"
    }
   ],
   "source": [
    "loans['loan_status'].value_counts(normalize=True, dropna=False)"
   ]
  },
  {
   "cell_type": "markdown",
   "metadata": {},
   "source": [
    "80% are Fully Paid, 20% are Charged Off "
   ]
  },
  {
   "cell_type": "code",
   "execution_count": null,
   "metadata": {},
   "outputs": [],
   "source": []
  },
  {
   "cell_type": "markdown",
   "metadata": {},
   "source": [
    "## Data Preparation"
   ]
  },
  {
   "cell_type": "markdown",
   "metadata": {},
   "source": [
    "Drop columns with >30% data missing"
   ]
  },
  {
   "cell_type": "markdown",
   "metadata": {},
   "source": [
    "Calculate the missing data percentages of each feature"
   ]
  },
  {
   "cell_type": "code",
   "execution_count": 257,
   "metadata": {},
   "outputs": [],
   "source": [
    "missing_data = loans.isnull().mean().sort_values(ascending=False) #calculate % of missing data"
   ]
  },
  {
   "cell_type": "code",
   "execution_count": 258,
   "metadata": {},
   "outputs": [
    {
     "name": "stdout",
     "output_type": "stream",
     "text": [
      "['all_util', 'annual_inc_joint', 'debt_settlement_flag_date', 'deferral_term', 'desc', 'dti_joint', 'hardship_amount', 'hardship_dpd', 'hardship_end_date', 'hardship_last_payment_amount', 'hardship_length', 'hardship_loan_status', 'hardship_payoff_balance_amount', 'hardship_reason', 'hardship_start_date', 'hardship_status', 'hardship_type', 'il_util', 'inq_fi', 'inq_last_12m', 'max_bal_bc', 'member_id', 'mths_since_last_delinq', 'mths_since_last_major_derog', 'mths_since_last_record', 'mths_since_rcnt_il', 'mths_since_recent_bc_dlq', 'mths_since_recent_revol_delinq', 'next_pymnt_d', 'open_acc_6m', 'open_act_il', 'open_il_12m', 'open_il_24m', 'open_rv_12m', 'open_rv_24m', 'orig_projected_additional_accrued_interest', 'payment_plan_start_date', 'revol_bal_joint', 'sec_app_chargeoff_within_12_mths', 'sec_app_collections_12_mths_ex_med', 'sec_app_earliest_cr_line', 'sec_app_fico_range_high', 'sec_app_fico_range_low', 'sec_app_inq_last_6mths', 'sec_app_mort_acc', 'sec_app_mths_since_last_major_derog', 'sec_app_num_rev_accts', 'sec_app_open_acc', 'sec_app_open_act_il', 'sec_app_revol_util', 'settlement_amount', 'settlement_date', 'settlement_percentage', 'settlement_status', 'settlement_term', 'total_bal_il', 'total_cu_tl', 'verification_status_joint']\n"
     ]
    }
   ],
   "source": [
    "drop_list = sorted(list(missing_data[missing_data > 0.3].index))\n",
    "print(drop_list)"
   ]
  },
  {
   "cell_type": "code",
   "execution_count": 259,
   "metadata": {},
   "outputs": [
    {
     "data": {
      "text/plain": [
       "58"
      ]
     },
     "execution_count": 259,
     "metadata": {},
     "output_type": "execute_result"
    }
   ],
   "source": [
    "len(drop_list) #Missing data >30% columns"
   ]
  },
  {
   "cell_type": "code",
   "execution_count": 260,
   "metadata": {},
   "outputs": [],
   "source": [
    "loans.drop(labels=drop_list, axis=1, inplace=True) # Drop columns"
   ]
  },
  {
   "cell_type": "code",
   "execution_count": null,
   "metadata": {},
   "outputs": [],
   "source": []
  },
  {
   "cell_type": "markdown",
   "metadata": {},
   "source": [
    "### Keep variables needed for Investors"
   ]
  },
  {
   "cell_type": "code",
   "execution_count": 261,
   "metadata": {},
   "outputs": [],
   "source": [
    "keep_list = ['addr_state', 'annual_inc', 'application_type', 'dti', 'earliest_cr_line', 'emp_length', 'emp_title', 'fico_range_high', 'fico_range_low', 'grade', 'home_ownership', 'id', 'initial_list_status', 'installment', 'int_rate', 'issue_d', 'loan_amnt', 'loan_status', 'mort_acc', 'open_acc', 'pub_rec', 'pub_rec_bankruptcies', 'purpose', 'revol_bal', 'revol_util', 'sub_grade', 'term', 'title', 'total_acc', 'verification_status', 'zip_code']"
   ]
  },
  {
   "cell_type": "code",
   "execution_count": 262,
   "metadata": {},
   "outputs": [
    {
     "data": {
      "text/plain": [
       "31"
      ]
     },
     "execution_count": 262,
     "metadata": {},
     "output_type": "execute_result"
    }
   ],
   "source": [
    "len(keep_list)"
   ]
  },
  {
   "cell_type": "code",
   "execution_count": 263,
   "metadata": {},
   "outputs": [
    {
     "name": "stdout",
     "output_type": "stream",
     "text": [
      "['funded_amnt', 'funded_amnt_inv', 'pymnt_plan', 'url', 'delinq_2yrs', 'inq_last_6mths', 'out_prncp', 'out_prncp_inv', 'total_pymnt', 'total_pymnt_inv', 'total_rec_prncp', 'total_rec_int', 'total_rec_late_fee', 'recoveries', 'collection_recovery_fee', 'last_pymnt_d', 'last_pymnt_amnt', 'last_credit_pull_d', 'last_fico_range_high', 'last_fico_range_low', 'collections_12_mths_ex_med', 'policy_code', 'acc_now_delinq', 'tot_coll_amt', 'tot_cur_bal', 'total_rev_hi_lim', 'acc_open_past_24mths', 'avg_cur_bal', 'bc_open_to_buy', 'bc_util', 'chargeoff_within_12_mths', 'delinq_amnt', 'mo_sin_old_il_acct', 'mo_sin_old_rev_tl_op', 'mo_sin_rcnt_rev_tl_op', 'mo_sin_rcnt_tl', 'mths_since_recent_bc', 'mths_since_recent_inq', 'num_accts_ever_120_pd', 'num_actv_bc_tl', 'num_actv_rev_tl', 'num_bc_sats', 'num_bc_tl', 'num_il_tl', 'num_op_rev_tl', 'num_rev_accts', 'num_rev_tl_bal_gt_0', 'num_sats', 'num_tl_120dpd_2m', 'num_tl_30dpd', 'num_tl_90g_dpd_24m', 'num_tl_op_past_12m', 'pct_tl_nvr_dlq', 'percent_bc_gt_75', 'tax_liens', 'tot_hi_cred_lim', 'total_bal_ex_mort', 'total_bc_limit', 'total_il_high_credit_limit', 'hardship_flag', 'disbursement_method', 'debt_settlement_flag']\n"
     ]
    }
   ],
   "source": [
    "drop_list = [col for col in loans.columns if col not in keep_list]\n",
    "print(drop_list) #List remaining features not needed for investors"
   ]
  },
  {
   "cell_type": "code",
   "execution_count": 264,
   "metadata": {},
   "outputs": [
    {
     "data": {
      "text/plain": [
       "62"
      ]
     },
     "execution_count": 264,
     "metadata": {},
     "output_type": "execute_result"
    }
   ],
   "source": [
    "len(drop_list)"
   ]
  },
  {
   "cell_type": "code",
   "execution_count": 265,
   "metadata": {},
   "outputs": [],
   "source": [
    "loans.drop(labels=drop_list, axis=1, inplace=True) #Drop Features"
   ]
  },
  {
   "cell_type": "code",
   "execution_count": 266,
   "metadata": {},
   "outputs": [
    {
     "data": {
      "text/plain": [
       "(13546, 31)"
      ]
     },
     "execution_count": 266,
     "metadata": {},
     "output_type": "execute_result"
    }
   ],
   "source": [
    "loans.shape #Remaining Columns"
   ]
  },
  {
   "cell_type": "code",
   "execution_count": null,
   "metadata": {},
   "outputs": [],
   "source": []
  },
  {
   "cell_type": "markdown",
   "metadata": {},
   "source": [
    "## Exploratory Data Analysis"
   ]
  },
  {
   "cell_type": "markdown",
   "metadata": {},
   "source": [
    "Check dtypes of columns "
   ]
  },
  {
   "cell_type": "code",
   "execution_count": 267,
   "metadata": {},
   "outputs": [
    {
     "data": {
      "text/plain": [
       "id                       object\n",
       "loan_amnt               float64\n",
       "term                     object\n",
       "int_rate                float64\n",
       "installment             float64\n",
       "grade                    object\n",
       "sub_grade                object\n",
       "emp_title                object\n",
       "emp_length               object\n",
       "home_ownership           object\n",
       "annual_inc              float64\n",
       "verification_status      object\n",
       "issue_d                  object\n",
       "loan_status              object\n",
       "purpose                  object\n",
       "title                    object\n",
       "zip_code                 object\n",
       "addr_state               object\n",
       "dti                     float64\n",
       "earliest_cr_line         object\n",
       "fico_range_low          float64\n",
       "fico_range_high         float64\n",
       "open_acc                float64\n",
       "pub_rec                 float64\n",
       "revol_bal               float64\n",
       "revol_util              float64\n",
       "total_acc               float64\n",
       "initial_list_status      object\n",
       "application_type         object\n",
       "mort_acc                float64\n",
       "pub_rec_bankruptcies    float64\n",
       "dtype: object"
      ]
     },
     "execution_count": 267,
     "metadata": {},
     "output_type": "execute_result"
    }
   ],
   "source": [
    "loans.dtypes"
   ]
  },
  {
   "cell_type": "code",
   "execution_count": 268,
   "metadata": {},
   "outputs": [
    {
     "data": {
      "text/plain": [
       "['id',\n",
       " 'term',\n",
       " 'grade',\n",
       " 'sub_grade',\n",
       " 'emp_title',\n",
       " 'emp_length',\n",
       " 'home_ownership',\n",
       " 'verification_status',\n",
       " 'issue_d',\n",
       " 'loan_status',\n",
       " 'purpose',\n",
       " 'title',\n",
       " 'zip_code',\n",
       " 'addr_state',\n",
       " 'earliest_cr_line',\n",
       " 'initial_list_status',\n",
       " 'application_type']"
      ]
     },
     "execution_count": 268,
     "metadata": {},
     "output_type": "execute_result"
    }
   ],
   "source": [
    "loans.select_dtypes(include=np.object).columns.tolist() # Object data type columns"
   ]
  },
  {
   "cell_type": "code",
   "execution_count": 269,
   "metadata": {},
   "outputs": [
    {
     "data": {
      "text/plain": [
       "['loan_amnt',\n",
       " 'int_rate',\n",
       " 'installment',\n",
       " 'annual_inc',\n",
       " 'dti',\n",
       " 'fico_range_low',\n",
       " 'fico_range_high',\n",
       " 'open_acc',\n",
       " 'pub_rec',\n",
       " 'revol_bal',\n",
       " 'revol_util',\n",
       " 'total_acc',\n",
       " 'mort_acc',\n",
       " 'pub_rec_bankruptcies']"
      ]
     },
     "execution_count": 269,
     "metadata": {},
     "output_type": "execute_result"
    }
   ],
   "source": [
    "loans.select_dtypes(include=np.float).columns.tolist() # Float data type columns"
   ]
  },
  {
   "cell_type": "markdown",
   "metadata": {},
   "source": [
    "### Analyzing Categorical data"
   ]
  },
  {
   "cell_type": "markdown",
   "metadata": {},
   "source": [
    "id', 'term', 'grade', 'sub_grade', 'emp_title', 'emp_length', 'home_ownership', 'verification_status',\n",
    "'issue_d', 'loan_status', 'purpose', 'title',  'zip_code', 'addr_state',  'earliest_cr_line', 'initial_list_status',\n",
    "'application_type'"
   ]
  },
  {
   "cell_type": "markdown",
   "metadata": {},
   "source": [
    "#### Id"
   ]
  },
  {
   "cell_type": "code",
   "execution_count": 270,
   "metadata": {},
   "outputs": [
    {
     "data": {
      "text/plain": [
       "count       13546\n",
       "unique      13546\n",
       "top       5781532\n",
       "freq            1\n",
       "Name: id, dtype: int64"
      ]
     },
     "execution_count": 270,
     "metadata": {},
     "output_type": "execute_result"
    }
   ],
   "source": [
    "loans['id'].describe() #Usually ID's are unique and independent keys"
   ]
  },
  {
   "cell_type": "code",
   "execution_count": 271,
   "metadata": {},
   "outputs": [],
   "source": [
    "loans.drop('id', axis=1, inplace=True) #drop id"
   ]
  },
  {
   "cell_type": "code",
   "execution_count": null,
   "metadata": {},
   "outputs": [],
   "source": []
  },
  {
   "cell_type": "markdown",
   "metadata": {},
   "source": [
    "#### Term"
   ]
  },
  {
   "cell_type": "code",
   "execution_count": 272,
   "metadata": {},
   "outputs": [
    {
     "data": {
      "text/plain": [
       " 36 months    10261\n",
       " 60 months     3285\n",
       "Name: term, dtype: int64"
      ]
     },
     "execution_count": 272,
     "metadata": {},
     "output_type": "execute_result"
    }
   ],
   "source": [
    "loans['term'].value_counts(dropna=False)"
   ]
  },
  {
   "cell_type": "code",
   "execution_count": 273,
   "metadata": {},
   "outputs": [],
   "source": [
    "loans['term'] = loans['term'].apply(lambda s: np.int8(s.split()[0])) #convert them into numericals"
   ]
  },
  {
   "cell_type": "code",
   "execution_count": 274,
   "metadata": {},
   "outputs": [
    {
     "data": {
      "text/plain": [
       "term\n",
       "36   0.16\n",
       "60   0.33\n",
       "Name: loan_status, dtype: float64"
      ]
     },
     "execution_count": 274,
     "metadata": {},
     "output_type": "execute_result"
    }
   ],
   "source": [
    "loans.groupby('term')['loan_status'].value_counts(normalize=True).loc[:,'Charged Off']"
   ]
  },
  {
   "cell_type": "markdown",
   "metadata": {},
   "source": [
    "Charge off rates for 60 months are 2x higher than for 36 months term"
   ]
  },
  {
   "cell_type": "code",
   "execution_count": null,
   "metadata": {},
   "outputs": [],
   "source": []
  },
  {
   "cell_type": "markdown",
   "metadata": {},
   "source": [
    "#### Grade and Sub Grade"
   ]
  },
  {
   "cell_type": "code",
   "execution_count": 275,
   "metadata": {},
   "outputs": [
    {
     "name": "stdout",
     "output_type": "stream",
     "text": [
      "['A', 'B', 'C', 'D', 'E', 'F', 'G']\n"
     ]
    }
   ],
   "source": [
    "print(sorted(loans['grade'].unique()))"
   ]
  },
  {
   "cell_type": "code",
   "execution_count": 276,
   "metadata": {},
   "outputs": [
    {
     "name": "stdout",
     "output_type": "stream",
     "text": [
      "['A1', 'A2', 'A3', 'A4', 'A5', 'B1', 'B2', 'B3', 'B4', 'B5', 'C1', 'C2', 'C3', 'C4', 'C5', 'D1', 'D2', 'D3', 'D4', 'D5', 'E1', 'E2', 'E3', 'E4', 'E5', 'F1', 'F2', 'F3', 'F4', 'F5', 'G1', 'G2', 'G3', 'G4', 'G5']\n"
     ]
    }
   ],
   "source": [
    "print(sorted(loans['sub_grade'].unique()))"
   ]
  },
  {
   "cell_type": "markdown",
   "metadata": {},
   "source": [
    "Both are same, drop one column either grade or sub grade, I am dropping grade column here"
   ]
  },
  {
   "cell_type": "code",
   "execution_count": 277,
   "metadata": {},
   "outputs": [],
   "source": [
    "loans.drop('grade', axis=1, inplace=True) #Drop grade"
   ]
  },
  {
   "cell_type": "code",
   "execution_count": 278,
   "metadata": {},
   "outputs": [],
   "source": [
    "def plot_var(col_name, full_name, continuous):  # plot function\n",
    "    \"\"\"\n",
    "    Visualize a variable with and without faceting on the loan status.\n",
    "    - col_name is the variable name in the dataframe\n",
    "    - full_name is the full variable name\n",
    "    - continuous is True if the variable is continuous, False otherwise\n",
    "    \"\"\"\n",
    "    f, (ax1, ax2) = plt.subplots(nrows=1, ncols=2, figsize=(12,3), dpi=90)\n",
    "    \n",
    "    # Plot without loan status\n",
    "    if continuous:\n",
    "        sns.distplot(loans.loc[loans[col_name].notnull(), col_name], kde=False, ax=ax1)\n",
    "    else:\n",
    "        sns.countplot(loans[col_name], order=sorted(loans[col_name].unique()), color='#5975A4', saturation=1, ax=ax1)\n",
    "    ax1.set_xlabel(full_name)\n",
    "    ax1.set_ylabel('Count')\n",
    "    ax1.set_title(full_name)\n",
    "\n",
    "    # Plot with loan status\n",
    "    if continuous:\n",
    "        sns.boxplot(x=col_name, y='loan_status', data=loans, ax=ax2)\n",
    "        ax2.set_ylabel('')\n",
    "        ax2.set_title(full_name + ' by Loan Status')\n",
    "    else:\n",
    "        charge_off_rates = loans.groupby(col_name)['loan_status'].value_counts(normalize=True).loc[:,'Charged Off']\n",
    "        sns.barplot(x=charge_off_rates.index, y=charge_off_rates.values, color='#5975A4', saturation=1, ax=ax2)\n",
    "        ax2.set_ylabel('Fraction of Loans Charged-off')\n",
    "        ax2.set_title('Charge-off Rate by ' + full_name)\n",
    "    ax2.set_xlabel(full_name)\n",
    "    \n",
    "    plt.tight_layout()"
   ]
  },
  {
   "cell_type": "code",
   "execution_count": 279,
   "metadata": {},
   "outputs": [
    {
     "name": "stderr",
     "output_type": "stream",
     "text": [
      "C:\\Users\\user\\miniconda3\\envs\\sm-202011\\lib\\site-packages\\seaborn\\_decorators.py:43: FutureWarning: Pass the following variable as a keyword arg: x. From version 0.12, the only valid positional argument will be `data`, and passing other arguments without an explicit keyword will result in an error or misinterpretation.\n",
      "  FutureWarning\n"
     ]
    },
    {
     "data": {
      "image/png": "[encoded data removed]",
      "text/plain": [
       "<Figure size 1080x270 with 2 Axes>"
      ]
     },
     "metadata": {},
     "output_type": "display_data"
    }
   ],
   "source": [
    "plot_var('sub_grade', 'Subgrade', continuous=False)"
   ]
  },
  {
   "cell_type": "markdown",
   "metadata": {},
   "source": [
    "From the above plot, we can find that charge off rates increases with sub grade"
   ]
  },
  {
   "cell_type": "code",
   "execution_count": null,
   "metadata": {},
   "outputs": [],
   "source": []
  },
  {
   "cell_type": "markdown",
   "metadata": {},
   "source": [
    "#### Employment title"
   ]
  },
  {
   "cell_type": "code",
   "execution_count": 280,
   "metadata": {},
   "outputs": [
    {
     "data": {
      "text/plain": [
       "count       12755\n",
       "unique       8081\n",
       "top       Manager\n",
       "freq          202\n",
       "Name: emp_title, dtype: object"
      ]
     },
     "execution_count": 280,
     "metadata": {},
     "output_type": "execute_result"
    }
   ],
   "source": [
    "loans['emp_title'].describe()"
   ]
  },
  {
   "cell_type": "code",
   "execution_count": 281,
   "metadata": {},
   "outputs": [],
   "source": [
    "loans.drop(labels='emp_title', axis=1, inplace=True) #too many unique values"
   ]
  },
  {
   "cell_type": "code",
   "execution_count": null,
   "metadata": {},
   "outputs": [],
   "source": []
  },
  {
   "cell_type": "markdown",
   "metadata": {},
   "source": [
    "#### Employment length"
   ]
  },
  {
   "cell_type": "code",
   "execution_count": 282,
   "metadata": {},
   "outputs": [
    {
     "data": {
      "text/plain": [
       "1 year        920\n",
       "10+ years    4531\n",
       "2 years      1201\n",
       "3 years      1059\n",
       "4 years       831\n",
       "5 years       825\n",
       "6 years       600\n",
       "7 years       593\n",
       "8 years       614\n",
       "9 years       510\n",
       "< 1 year     1121\n",
       "NaN           741\n",
       "Name: emp_length, dtype: int64"
      ]
     },
     "execution_count": 282,
     "metadata": {},
     "output_type": "execute_result"
    }
   ],
   "source": [
    "loans['emp_length'].value_counts(dropna=False).sort_index()"
   ]
  },
  {
   "cell_type": "markdown",
   "metadata": {},
   "source": [
    "Remove years from emp_length variables and convert them into float"
   ]
  },
  {
   "cell_type": "code",
   "execution_count": 283,
   "metadata": {},
   "outputs": [],
   "source": [
    "loans['emp_length'].replace('< 1 year', '0 years', inplace=True) #Replace 0 years with 1 year"
   ]
  },
  {
   "cell_type": "code",
   "execution_count": 284,
   "metadata": {},
   "outputs": [],
   "source": [
    "loans['emp_length'].replace(to_replace='10+ years', value='10 years', inplace=True) # Replace 10+years with 10 years"
   ]
  },
  {
   "cell_type": "code",
   "execution_count": 285,
   "metadata": {},
   "outputs": [],
   "source": [
    "def emp_length_to_int(s):\n",
    "    if pd.isnull(s): \n",
    "        return s\n",
    "    else:\n",
    "        return np.int8(s.split()[0])"
   ]
  },
  {
   "cell_type": "code",
   "execution_count": 286,
   "metadata": {},
   "outputs": [],
   "source": [
    "loans['emp_length'] = loans['emp_length'].apply(emp_length_to_int)"
   ]
  },
  {
   "cell_type": "code",
   "execution_count": 287,
   "metadata": {},
   "outputs": [],
   "source": [
    "loans['emp_length'] = loans['emp_length'].fillna(loans.emp_length.median()) # fill missing values by taking median imputation"
   ]
  },
  {
   "cell_type": "code",
   "execution_count": 288,
   "metadata": {},
   "outputs": [
    {
     "data": {
      "text/plain": [
       "0.00     1121\n",
       "1.00      920\n",
       "2.00     1201\n",
       "3.00     1059\n",
       "4.00      831\n",
       "5.00      825\n",
       "6.00     1341\n",
       "7.00      593\n",
       "8.00      614\n",
       "9.00      510\n",
       "10.00    4531\n",
       "Name: emp_length, dtype: int64"
      ]
     },
     "execution_count": 288,
     "metadata": {},
     "output_type": "execute_result"
    }
   ],
   "source": [
    "loans['emp_length'].value_counts(dropna=False).sort_index()"
   ]
  },
  {
   "cell_type": "code",
   "execution_count": 289,
   "metadata": {},
   "outputs": [
    {
     "data": {
      "text/plain": [
       "emp_length\n",
       "0.00    0.19\n",
       "1.00    0.22\n",
       "2.00    0.19\n",
       "3.00    0.21\n",
       "4.00    0.22\n",
       "5.00    0.17\n",
       "6.00    0.25\n",
       "7.00    0.16\n",
       "8.00    0.21\n",
       "9.00    0.23\n",
       "10.00   0.19\n",
       "Name: loan_status, dtype: float64"
      ]
     },
     "execution_count": 289,
     "metadata": {},
     "output_type": "execute_result"
    }
   ],
   "source": [
    "loans.groupby('emp_length')['loan_status'].value_counts(normalize=True).loc[:,'Charged Off']"
   ]
  },
  {
   "cell_type": "markdown",
   "metadata": {},
   "source": [
    "Charge off rates are decreasing when employment length increases"
   ]
  },
  {
   "cell_type": "code",
   "execution_count": null,
   "metadata": {},
   "outputs": [],
   "source": []
  },
  {
   "cell_type": "markdown",
   "metadata": {},
   "source": [
    "#### Home Ownership"
   ]
  },
  {
   "cell_type": "code",
   "execution_count": 290,
   "metadata": {},
   "outputs": [
    {
     "data": {
      "text/plain": [
       "MORTGAGE    6722\n",
       "RENT        5367\n",
       "OWN         1453\n",
       "OTHER          3\n",
       "NONE           1\n",
       "Name: home_ownership, dtype: int64"
      ]
     },
     "execution_count": 290,
     "metadata": {},
     "output_type": "execute_result"
    }
   ],
   "source": [
    "loans['home_ownership'].value_counts(dropna=False)"
   ]
  },
  {
   "cell_type": "markdown",
   "metadata": {},
   "source": [
    "We can merge None, Any as Other"
   ]
  },
  {
   "cell_type": "code",
   "execution_count": 291,
   "metadata": {},
   "outputs": [],
   "source": [
    "loans['home_ownership'].replace(['NONE', 'ANY'], 'OTHER', inplace=True)"
   ]
  },
  {
   "cell_type": "code",
   "execution_count": 292,
   "metadata": {},
   "outputs": [
    {
     "data": {
      "text/plain": [
       "MORTGAGE    6722\n",
       "RENT        5367\n",
       "OWN         1453\n",
       "OTHER          4\n",
       "Name: home_ownership, dtype: int64"
      ]
     },
     "execution_count": 292,
     "metadata": {},
     "output_type": "execute_result"
    }
   ],
   "source": [
    "loans['home_ownership'].value_counts(dropna=False)"
   ]
  },
  {
   "cell_type": "code",
   "execution_count": 293,
   "metadata": {},
   "outputs": [
    {
     "data": {
      "text/html": [
       "<div>\n",
       "<style scoped>\n",
       "    .dataframe tbody tr th:only-of-type {\n",
       "        vertical-align: middle;\n",
       "    }\n",
       "\n",
       "    .dataframe tbody tr th {\n",
       "        vertical-align: top;\n",
       "    }\n",
       "\n",
       "    .dataframe thead th {\n",
       "        text-align: right;\n",
       "    }\n",
       "</style>\n",
       "<table border=\"1\" class=\"dataframe\">\n",
       "  <thead>\n",
       "    <tr style=\"text-align: right;\">\n",
       "      <th>loan_status</th>\n",
       "      <th>Charged Off</th>\n",
       "      <th>Fully Paid</th>\n",
       "    </tr>\n",
       "    <tr>\n",
       "      <th>home_ownership</th>\n",
       "      <th></th>\n",
       "      <th></th>\n",
       "    </tr>\n",
       "  </thead>\n",
       "  <tbody>\n",
       "    <tr>\n",
       "      <th>MORTGAGE</th>\n",
       "      <td>1133</td>\n",
       "      <td>5589</td>\n",
       "    </tr>\n",
       "    <tr>\n",
       "      <th>OTHER</th>\n",
       "      <td>1</td>\n",
       "      <td>3</td>\n",
       "    </tr>\n",
       "    <tr>\n",
       "      <th>OWN</th>\n",
       "      <td>304</td>\n",
       "      <td>1149</td>\n",
       "    </tr>\n",
       "    <tr>\n",
       "      <th>RENT</th>\n",
       "      <td>1275</td>\n",
       "      <td>4092</td>\n",
       "    </tr>\n",
       "  </tbody>\n",
       "</table>\n",
       "</div>"
      ],
      "text/plain": [
       "loan_status     Charged Off  Fully Paid\n",
       "home_ownership                         \n",
       "MORTGAGE               1133        5589\n",
       "OTHER                     1           3\n",
       "OWN                     304        1149\n",
       "RENT                   1275        4092"
      ]
     },
     "execution_count": 293,
     "metadata": {},
     "output_type": "execute_result"
    }
   ],
   "source": [
    "home_ownership_xt = pd.crosstab(loans['home_ownership'], loans['loan_status'])\n",
    "home_ownership_xt #Cross table"
   ]
  },
  {
   "cell_type": "code",
   "execution_count": 294,
   "metadata": {},
   "outputs": [
    {
     "data": {
      "text/plain": [
       "Text(0, 0.5, 'Loan Status')"
      ]
     },
     "execution_count": 294,
     "metadata": {},
     "output_type": "execute_result"
    },
    {
     "data": {
      "image/png": "[encoded data removed]",
      "text/plain": [
       "<Figure size 432x288 with 1 Axes>"
      ]
     },
     "metadata": {},
     "output_type": "display_data"
    }
   ],
   "source": [
    "home_ownership_xt_pct = home_ownership_xt.div(home_ownership_xt.sum(1).astype(float), axis=0)\n",
    "\n",
    "home_ownership_xt_pct.plot(kind='bar', \n",
    "                   stacked=True, \n",
    "                   title='Loan status by Home Ownership')\n",
    "plt.xlabel('Home Ownership')\n",
    "plt.ylabel('Loan Status')"
   ]
  },
  {
   "cell_type": "markdown",
   "metadata": {},
   "source": [
    "Charge off rates are higher for Rent and Own home owner ship with 23% and 21% respectively"
   ]
  },
  {
   "cell_type": "code",
   "execution_count": 295,
   "metadata": {},
   "outputs": [
    {
     "data": {
      "text/plain": [
       "home_ownership\n",
       "MORTGAGE   0.17\n",
       "OTHER      0.25\n",
       "OWN        0.21\n",
       "RENT       0.24\n",
       "Name: loan_status, dtype: float64"
      ]
     },
     "execution_count": 295,
     "metadata": {},
     "output_type": "execute_result"
    }
   ],
   "source": [
    "loans.groupby('home_ownership')['loan_status'].value_counts(normalize=True).loc[:,'Charged Off']"
   ]
  },
  {
   "cell_type": "code",
   "execution_count": null,
   "metadata": {},
   "outputs": [],
   "source": []
  },
  {
   "cell_type": "markdown",
   "metadata": {},
   "source": [
    "#### Verification Status"
   ]
  },
  {
   "cell_type": "code",
   "execution_count": 296,
   "metadata": {},
   "outputs": [
    {
     "data": {
      "text/plain": [
       "verification_status\n",
       "Not Verified      0.14\n",
       "Source Verified   0.22\n",
       "Verified          0.24\n",
       "Name: loan_status, dtype: float64"
      ]
     },
     "execution_count": 296,
     "metadata": {},
     "output_type": "execute_result"
    }
   ],
   "source": [
    "loans.groupby('verification_status')['loan_status'].value_counts(normalize=True).loc[:,'Charged Off']"
   ]
  },
  {
   "cell_type": "markdown",
   "metadata": {},
   "source": [
    "Charge off rates are higher for Verified compared to other two types"
   ]
  },
  {
   "cell_type": "code",
   "execution_count": null,
   "metadata": {},
   "outputs": [],
   "source": []
  },
  {
   "cell_type": "markdown",
   "metadata": {},
   "source": [
    "#### Purpose"
   ]
  },
  {
   "cell_type": "code",
   "execution_count": 297,
   "metadata": {},
   "outputs": [
    {
     "data": {
      "text/plain": [
       "MORTGAGE    6722\n",
       "RENT        5367\n",
       "OWN         1453\n",
       "OTHER          4\n",
       "Name: home_ownership, dtype: int64"
      ]
     },
     "execution_count": 297,
     "metadata": {},
     "output_type": "execute_result"
    }
   ],
   "source": [
    "loans['home_ownership'].value_counts(dropna=False)"
   ]
  },
  {
   "cell_type": "code",
   "execution_count": 298,
   "metadata": {},
   "outputs": [
    {
     "data": {
      "text/plain": [
       "purpose\n",
       "car                  0.14\n",
       "credit_card          0.17\n",
       "debt_consolidation   0.21\n",
       "home_improvement     0.20\n",
       "house                0.24\n",
       "major_purchase       0.20\n",
       "medical              0.28\n",
       "moving               0.23\n",
       "other                0.24\n",
       "renewable_energy     0.25\n",
       "small_business       0.31\n",
       "vacation             0.11\n",
       "wedding              0.11\n",
       "Name: loan_status, dtype: float64"
      ]
     },
     "execution_count": 298,
     "metadata": {},
     "output_type": "execute_result"
    }
   ],
   "source": [
    "loans.groupby('purpose')['loan_status'].value_counts(normalize=True).loc[:,'Charged Off']"
   ]
  },
  {
   "cell_type": "code",
   "execution_count": null,
   "metadata": {},
   "outputs": [],
   "source": []
  },
  {
   "cell_type": "markdown",
   "metadata": {},
   "source": [
    "#### Title"
   ]
  },
  {
   "cell_type": "code",
   "execution_count": 299,
   "metadata": {},
   "outputs": [
    {
     "data": {
      "text/plain": [
       "count                  13375\n",
       "unique                  1176\n",
       "top       Debt consolidation\n",
       "freq                    6724\n",
       "Name: title, dtype: object"
      ]
     },
     "execution_count": 299,
     "metadata": {},
     "output_type": "execute_result"
    }
   ],
   "source": [
    "loans['title'].describe()"
   ]
  },
  {
   "cell_type": "code",
   "execution_count": 300,
   "metadata": {},
   "outputs": [
    {
     "data": {
      "text/plain": [
       "Debt consolidation                                                             0.50\n",
       "Credit card refinancing                                                        0.18\n",
       "Home improvement                                                               0.06\n",
       "Other                                                                          0.05\n",
       "Major purchase                                                                 0.02\n",
       "NaN                                                                            0.01\n",
       "Debt Consolidation                                                             0.01\n",
       "Medical expenses                                                               0.01\n",
       "Business                                                                       0.01\n",
       "Car financing                                                                  0.01\n",
       "Vacation                                                                       0.01\n",
       "Moving and relocation                                                          0.01\n",
       "Consolidation                                                                  0.00\n",
       "Home buying                                                                    0.00\n",
       "debt consolidation                                                             0.00\n",
       "Debt Consolidation Loan                                                        0.00\n",
       "Consolidation Loan                                                             0.00\n",
       "Personal Loan                                                                  0.00\n",
       "consolidation                                                                  0.00\n",
       "Credit Card Refinance                                                          0.00\n",
       "Credit Card Payoff                                                             0.00\n",
       "Home Improvement                                                               0.00\n",
       "personal                                                                       0.00\n",
       "Credit Card Consolidation                                                      0.00\n",
       "Loan                                                                           0.00\n",
       "Freedom                                                                        0.00\n",
       "Credit Cards                                                                   0.00\n",
       "Personal                                                                       0.00\n",
       "home improvement                                                               0.00\n",
       "Credit card consolidation                                                      0.00\n",
       "personal loan                                                                  0.00\n",
       "Payoff                                                                         0.00\n",
       "Small Business Loan                                                            0.00\n",
       "Consolidate                                                                    0.00\n",
       "Credit Consolidation                                                           0.00\n",
       "My loan                                                                        0.00\n",
       "Credit Card Loan                                                               0.00\n",
       "Green loan                                                                     0.00\n",
       "Credit Card                                                                    0.00\n",
       "credit card refinance                                                          0.00\n",
       "debt                                                                           0.00\n",
       "Debt Consolidation                                                             0.00\n",
       "Debt consolidation                                                             0.00\n",
       "Refinance                                                                      0.00\n",
       "consolidate                                                                    0.00\n",
       "DEBT CONSOLIDATION                                                             0.00\n",
       "Consolidation loan                                                             0.00\n",
       "credit card consolidation                                                      0.00\n",
       "Home Improvement Loan                                                          0.00\n",
       "Debt Consolodation                                                             0.00\n",
       "loan                                                                           0.00\n",
       "payoff                                                                         0.00\n",
       "credit cards                                                                   0.00\n",
       "Debt                                                                           0.00\n",
       "debit consolidation                                                            0.00\n",
       "debtfree                                                                       0.00\n",
       "Medical                                                                        0.00\n",
       "Credit card payoff                                                             0.00\n",
       "Home                                                                           0.00\n",
       "credit card debt                                                               0.00\n",
       "Lending Club                                                                   0.00\n",
       "pay off credit cards                                                           0.00\n",
       "Get out of debt                                                                0.00\n",
       "Debt Loan                                                                      0.00\n",
       "Loan 1                                                                         0.00\n",
       "Credit cards                                                                   0.00\n",
       "Bills                                                                          0.00\n",
       "Pool                                                                           0.00\n",
       "credit card payoff                                                             0.00\n",
       "Credit Card Refinancing                                                        0.00\n",
       "debt payoff                                                                    0.00\n",
       "CONSOLIDATION                                                                  0.00\n",
       "card refinance                                                                 0.00\n",
       "Wedding expenses                                                               0.00\n",
       "relief                                                                         0.00\n",
       "Pay off credit cards                                                           0.00\n",
       "credit card loan                                                               0.00\n",
       "Lending Club Loan                                                              0.00\n",
       "My Loan                                                                        0.00\n",
       "Moving Loan                                                                    0.00\n",
       "PAYOFF                                                                         0.00\n",
       "Wedding Loan                                                                   0.00\n",
       "Credit Refinance                                                               0.00\n",
       "Credit Card Payments                                                           0.00\n",
       "Moving                                                                         0.00\n",
       "wedding                                                                        0.00\n",
       "consolidate debt                                                               0.00\n",
       "one payment                                                                    0.00\n",
       "debt con                                                                       0.00\n",
       "Credit Card Pay Off                                                            0.00\n",
       "Credit Card Consolidation Loan                                                 0.00\n",
       "refinance                                                                      0.00\n",
       "debt_consolidation                                                             0.00\n",
       "vacation                                                                       0.00\n",
       "help                                                                           0.00\n",
       "Credit card debt consolidation                                                 0.00\n",
       "Pay off debt                                                                   0.00\n",
       "Medical Bills                                                                  0.00\n",
       "PAY OFF CREDIT CARDS                                                           0.00\n",
       "other                                                                          0.00\n",
       "December Loan                                                                  0.00\n",
       "CREDIT CARD PAYOFF                                                             0.00\n",
       "Credit card refinance                                                          0.00\n",
       "NEW START                                                                      0.00\n",
       "Relief                                                                         0.00\n",
       "cards                                                                          0.00\n",
       "consolidation loans                                                            0.00\n",
       "Consolidate                                                                    0.00\n",
       "CC Consolidate                                                                 0.00\n",
       "Motorcycle                                                                     0.00\n",
       "consolidator                                                                   0.00\n",
       "Consolodation                                                                  0.00\n",
       "Debt Consol                                                                    0.00\n",
       "bill consolidation                                                             0.00\n",
       "Credit Card Refinance                                                          0.00\n",
       "Credit Card Refi                                                               0.00\n",
       "debt consolidation                                                             0.00\n",
       "debt relief                                                                    0.00\n",
       "Consol                                                                         0.00\n",
       "Cards                                                                          0.00\n",
       "Debt consolidate                                                               0.00\n",
       "Major Purchase Loan                                                            0.00\n",
       "New Beginning                                                                  0.00\n",
       "Moving Expenses                                                                0.00\n",
       "CC                                                                             0.00\n",
       "Credit Card refinance                                                          0.00\n",
       "debt consolidation loan                                                        0.00\n",
       "vacation loan                                                                  0.00\n",
       "CC Consolidation                                                               0.00\n",
       "debt consolidate                                                               0.00\n",
       "credit card                                                                    0.00\n",
       "MY LOAN                                                                        0.00\n",
       "credit consolidation                                                           0.00\n",
       "Debt Free                                                                      0.00\n",
       "car                                                                            0.00\n",
       "bills                                                                          0.00\n",
       "refi                                                                           0.00\n",
       "Personal                                                                       0.00\n",
       "Credit card loan                                                               0.00\n",
       "CC Loan                                                                        0.00\n",
       "Debt pay                                                                       0.00\n",
       "CREDIT CARD REFINANCE                                                          0.00\n",
       "Money                                                                          0.00\n",
       "Debt Payoff                                                                    0.00\n",
       "Prosperity                                                                     0.00\n",
       "Business Startup                                                               0.00\n",
       "debt consol                                                                    0.00\n",
       "Debt consolidation loan                                                        0.00\n",
       "Wedding                                                                        0.00\n",
       "Get Out of Debt                                                                0.00\n",
       "outofdebt                                                                      0.00\n",
       "Pay off                                                                        0.00\n",
       "Bill Consolidation                                                             0.00\n",
       "home                                                                           0.00\n",
       "Loan                                                                           0.00\n",
       "Credit                                                                         0.00\n",
       "Taxes                                                                          0.00\n",
       "Card Loan                                                                      0.00\n",
       "Home repairs                                                                   0.00\n",
       "Debt loan                                                                      0.00\n",
       "bill pay                                                                       0.00\n",
       "business                                                                       0.00\n",
       "Debt free                                                                      0.00\n",
       "credit card debt consolidation                                                 0.00\n",
       "credit card payments                                                           0.00\n",
       "creditcard                                                                     0.00\n",
       "CC Payoff                                                                      0.00\n",
       "Personal Loan                                                                  0.00\n",
       "my loan                                                                        0.00\n",
       "Credit Debt Consolidation                                                      0.00\n",
       "consolidate                                                                    0.00\n",
       "freedom                                                                        0.00\n",
       "consolidation                                                                  0.00\n",
       "restart loan                                                                   0.00\n",
       "Consolidated loan                                                              0.00\n",
       "Debt consolidation 2                                                           0.00\n",
       "Primary                                                                        0.00\n",
       "2013 Debt Consolidation                                                        0.00\n",
       "Spring Loan                                                                    0.00\n",
       "Debt Free Bound                                                                0.00\n",
       "Used Pickup                                                                    0.00\n",
       "pay off depts                                                                  0.00\n",
       "Step to Freedom                                                                0.00\n",
       "Consolidator                                                                   0.00\n",
       "Track                                                                          0.00\n",
       "Daughter's Initial Wedding Cost                                                0.00\n",
       "Refi Credit Card                                                               0.00\n",
       "Bike                                                                           0.00\n",
       "Finish Patent Expenses/ Consolidate Debt                                       0.00\n",
       "Investment Loan -- My Credit Rating is Over 800!                               0.00\n",
       "Credit Card pay off                                                            0.00\n",
       "Pay off Credit Debt                                                            0.00\n",
       "Moving/Medical Loan                                                            0.00\n",
       "Debt console                                                                   0.00\n",
       "Debt Consolatation                                                             0.00\n",
       "better future                                                                  0.00\n",
       "Debt Consolidation loan                                                        0.00\n",
       "ByeCCdebt                                                                      0.00\n",
       "Debt Conso.                                                                    0.00\n",
       "Citi Paydown                                                                   0.00\n",
       "Loan/Debt Consolidation                                                        0.00\n",
       "Debt  Loan                                                                     0.00\n",
       "RV                                                                             0.00\n",
       "ocsse                                                                          0.00\n",
       "Paying off Debts                                                               0.00\n",
       "home improvement                                                               0.00\n",
       "Consolidate credit card payments                                               0.00\n",
       "Spa loan                                                                       0.00\n",
       "Lending loan                                                                   0.00\n",
       "Loan 2                                                                         0.00\n",
       "Streamline                                                                     0.00\n",
       "Breathe Easier Loan                                                            0.00\n",
       "Wedding expenses loan                                                          0.00\n",
       "LendingClubLoan                                                                0.00\n",
       "October                                                                        0.00\n",
       "Medexpense                                                                     0.00\n",
       "Andy's                                                                         0.00\n",
       "The Saver                                                                      0.00\n",
       "Pay Debt Off                                                                   0.00\n",
       "consolidayte                                                                   0.00\n",
       "cottage                                                                        0.00\n",
       "Pay off                                                                        0.00\n",
       "DebtConsol                                                                     0.00\n",
       "borrower                                                                       0.00\n",
       "Re-application                                                                 0.00\n",
       "Back On Track                                                                  0.00\n",
       "Moving / New House expenses                                                    0.00\n",
       "LENDING CLUB                                                                   0.00\n",
       "Debt relief                                                                    0.00\n",
       "jacks money                                                                    0.00\n",
       "boat loan                                                                      0.00\n",
       "Cleanup                                                                        0.00\n",
       "HouseGarden                                                                    0.00\n",
       "Other Loan                                                                     0.00\n",
       "credit card load                                                               0.00\n",
       "Debt Free Goal                                                                 0.00\n",
       "credit card refinancing                                                        0.00\n",
       "Home Improvment Loan Needed                                                    0.00\n",
       "Consolidate to 1 payment!                                                      0.00\n",
       "CONSOLIDATE DEBT                                                               0.00\n",
       "Fist Step                                                                      0.00\n",
       "House loan                                                                     0.00\n",
       "Containerload                                                                  0.00\n",
       "Consolidate debt/pay off car                                                   0.00\n",
       "Family necessity                                                               0.00\n",
       "debt consolodation                                                             0.00\n",
       "High Credit Card Rates                                                         0.00\n",
       "Almost debt free                                                               0.00\n",
       "Credit Consildation                                                            0.00\n",
       "A little help from the Universe                                                0.00\n",
       "Home buying                                                                    0.00\n",
       "looking  for a fresh start                                                     0.00\n",
       "Better Home                                                                    0.00\n",
       "CC REFI.                                                                       0.00\n",
       "monthly                                                                        0.00\n",
       "Lower interest rate loan                                                       0.00\n",
       "part washer                                                                    0.00\n",
       "concolidation                                                                  0.00\n",
       "another chance better way                                                      0.00\n",
       "DEBT PAYOFF                                                                    0.00\n",
       "DebtConsolidation                                                              0.00\n",
       "1955 Norton                                                                    0.00\n",
       "Home Down Payment                                                              0.00\n",
       "piece of mind                                                                  0.00\n",
       "Final Loan                                                                     0.00\n",
       "Business funding                                                               0.00\n",
       "Cards Pay Off                                                                  0.00\n",
       "Taking back my life!                                                           0.00\n",
       "Credit Card Payment                                                            0.00\n",
       "Debts Credit Card Consilidation Load                                           0.00\n",
       "done with credit cards                                                         0.00\n",
       "Debt Freedom                                                                   0.00\n",
       "Citi credit                                                                    0.00\n",
       " home improvement loan                                                         0.00\n",
       "401k Payment                                                                   0.00\n",
       "CREDIT CARD CONSOLIDATE                                                        0.00\n",
       "molly's request                                                                0.00\n",
       "Paying Down Credit Cards                                                       0.00\n",
       "Financing for car                                                              0.00\n",
       "Dt consolidedation                                                             0.00\n",
       "Consolidate last of my credit card Debt                                        0.00\n",
       "debt                                                                           0.00\n",
       "clean up debt                                                                  0.00\n",
       "Consolidation                                                                  0.00\n",
       "Lower                                                                          0.00\n",
       "Debt Rebalance                                                                 0.00\n",
       "credit clean up                                                                0.00\n",
       "pay debts                                                                      0.00\n",
       "Loan for restructuring                                                         0.00\n",
       "Credit Card Lower Interest Loan                                                0.00\n",
       "Car Financing                                                                  0.00\n",
       "Home improvement                                                               0.00\n",
       "Dodge Truck                                                                    0.00\n",
       "club                                                                           0.00\n",
       "Swimming Pool Loan                                                             0.00\n",
       "credit consalidation                                                           0.00\n",
       "Expanding Business                                                             0.00\n",
       "CC REFI                                                                        0.00\n",
       "house desperate for new siding!                                                0.00\n",
       "Card Refi                                                                      0.00\n",
       "Business Development                                                           0.00\n",
       "Extra help                                                                     0.00\n",
       "Debt Consolidation in Seattle                                                  0.00\n",
       "pool                                                                           0.00\n",
       "interest buy down                                                              0.00\n",
       "New Roof For Our Home                                                          0.00\n",
       "Training Course                                                                0.00\n",
       "LC Loan Refi                                                                   0.00\n",
       "Easy combined payment                                                          0.00\n",
       "Responsible Borrower In Need!                                                  0.00\n",
       "Credit Card Relief                                                             0.00\n",
       "live laugh love loan                                                           0.00\n",
       "Loan help                                                                      0.00\n",
       "LendingClub Loan                                                               0.00\n",
       "Bill pay                                                                       0.00\n",
       "Pay down my debt                                                               0.00\n",
       "3711 Home Improvement                                                          0.00\n",
       "Purchase 2008 Ford Edge                                                        0.00\n",
       "Cut up the Cards!!!                                                            0.00\n",
       "Pay off Debt                                                                   0.00\n",
       "Excellent Priced 2006 Truck = Great Business Return                            0.00\n",
       "Disney                                                                         0.00\n",
       "Debt Consalidation                                                             0.00\n",
       "PayoffCreditCards                                                              0.00\n",
       "debtrelief                                                                     0.00\n",
       "Operation New House                                                            0.00\n",
       "Moto Money                                                                     0.00\n",
       "House Loan                                                                     0.00\n",
       "Loan repayment 100 % Guaranteed!!                                              0.00\n",
       "Amber's Consolidation                                                          0.00\n",
       "shed                                                                           0.00\n",
       "Responsible Person Needs to Consolidate                                        0.00\n",
       "Short term loan                                                                0.00\n",
       "Toms Loan                                                                      0.00\n",
       "Big Loan Consolidation                                                         0.00\n",
       "House Selloff                                                                  0.00\n",
       "Refinance / Debt Consolodation                                                 0.00\n",
       "Less than 3 years to CC debt free!!!                                           0.00\n",
       "Living Establishment                                                           0.00\n",
       "Sams,Chase,Juniper,Capital,Citi                                                0.00\n",
       "truck loan                                                                     0.00\n",
       "My Bike Loan                                                                   0.00\n",
       "Monthly Save                                                                   0.00\n",
       "Work Relocation Loan                                                           0.00\n",
       "Furnace Credit Card Loan                                                       0.00\n",
       "Wells Refi                                                                     0.00\n",
       "Cleared funds                                                                  0.00\n",
       "Transition loan due to divorce                                                 0.00\n",
       "2011loan                                                                       0.00\n",
       "Consolidate 2012                                                               0.00\n",
       "No More Debt!                                                                  0.00\n",
       "Money Saving                                                                   0.00\n",
       "Credit refinancing                                                             0.00\n",
       "Debtcomboloan                                                                  0.00\n",
       "lowering apr                                                                   0.00\n",
       "Debt Consolidation 1                                                           0.00\n",
       "Credit Card & Car loan                                                         0.00\n",
       "Relatives Wedding Loan                                                         0.00\n",
       "consoidation dept                                                              0.00\n",
       "card ln                                                                        0.00\n",
       "Debt Consol Loan                                                               0.00\n",
       "Wise Choice                                                                    0.00\n",
       "Debt Con 1                                                                     0.00\n",
       "DEBT CONSOLIDSATION                                                            0.00\n",
       "Small Business loan                                                            0.00\n",
       "garage                                                                         0.00\n",
       "Tired of credit crunch!                                                        0.00\n",
       "Relief Funds!                                                                  0.00\n",
       " debt consolidation loan                                                       0.00\n",
       "Debt consol                                                                    0.00\n",
       "Unstressed                                                                     0.00\n",
       "Chase DC                                                                       0.00\n",
       "CREDIT CARDS REFINANCE                                                         0.00\n",
       "Credit Cards Consolidation Loan                                                0.00\n",
       "Debt Con                                                                       0.00\n",
       "2012 Debt                                                                      0.00\n",
       "Car Money                                                                      0.00\n",
       "Credit Card refinance                                                          0.00\n",
       "CC payment                                                                     0.00\n",
       "debt consollidation                                                            0.00\n",
       "debt consilidation and pay off                                                 0.00\n",
       "UAT tuition                                                                    0.00\n",
       "tired of bills                                                                 0.00\n",
       "Purchasing Motorcycle                                                          0.00\n",
       "Looking to Refurnish Apartment                                                 0.00\n",
       "WASHERDRYER                                                                    0.00\n",
       "wedding expenses                                                               0.00\n",
       "Make life easier                                                               0.00\n",
       "CAR investment                                                                 0.00\n",
       "CREDIT CARD PAYOUT                                                             0.00\n",
       "credit card refi loan                                                          0.00\n",
       "citi cc                                                                        0.00\n",
       "ReduceLoan                                                                     0.00\n",
       "Low payment                                                                    0.00\n",
       "Chase Card Elimination                                                         0.00\n",
       "Pay me off                                                                     0.00\n",
       "HomeImpLoan                                                                    0.00\n",
       "Doing Big Things Debt Consolidation                                            0.00\n",
       "Consolidate higher rate cards                                                  0.00\n",
       "Five more years                                                                0.00\n",
       "Bank Credit Card Refinancing Loan                                              0.00\n",
       "Done With Credit Cards                                                         0.00\n",
       "Lower Rate                                                                     0.00\n",
       "Lower rate                                                                     0.00\n",
       "No More CC                                                                     0.00\n",
       "CONSOLIDATION LOAN                                                             0.00\n",
       "Redo                                                                           0.00\n",
       "Payoff Debt                                                                    0.00\n",
       "Education Expenses                                                             0.00\n",
       "ChasebeGone                                                                    0.00\n",
       "Debt Consol loan                                                               0.00\n",
       "Business loan to supplement cash flow                                          0.00\n",
       "Home Improvement                                                               0.00\n",
       "Moving along...                                                                0.00\n",
       "On track                                                                       0.00\n",
       "Consolidate Debt and Help Parents Through a Difficult Time                     0.00\n",
       "Consolidated Reduction Payoff Loan                                             0.00\n",
       "better home                                                                    0.00\n",
       "Credit Card Payoff Plan                                                        0.00\n",
       "MTA personal loan                                                              0.00\n",
       "Senior Elec. Engineer Updating House                                           0.00\n",
       "Get out of debit                                                               0.00\n",
       "Engagement Ring                                                                0.00\n",
       "TJ's Good Riddance to Bad Debts                                                0.00\n",
       "Debt Consolidation, Cheaper Car                                                0.00\n",
       "PAYING OFF - A GOOD FEELING                                                    0.00\n",
       "debt cleanup                                                                   0.00\n",
       "Pay Offs                                                                       0.00\n",
       "Travelvietnam                                                                  0.00\n",
       "Business Start Up Costs                                                        0.00\n",
       "Home Improvements                                                              0.00\n",
       "debtpayoff                                                                     0.00\n",
       "Set Free                                                                       0.00\n",
       "creditloan                                                                     0.00\n",
       "Med&Cards                                                                      0.00\n",
       "down payment for home                                                          0.00\n",
       "Green Home Energy Financing                                                    0.00\n",
       "CC refi                                                                        0.00\n",
       "Megan's loan                                                                   0.00\n",
       "Installation of Solar Panels                                                   0.00\n",
       "consolidate loan                                                               0.00\n",
       "home liquidation                                                               0.00\n",
       "Debt 1                                                                         0.00\n",
       "Debt Cons.                                                                     0.00\n",
       "restore classic car                                                            0.00\n",
       "Consolidaiton of Credit Cards                                                  0.00\n",
       "Fence Loan                                                                     0.00\n",
       "Small Business                                                                 0.00\n",
       "Pay off the small stuff                                                        0.00\n",
       "Debt free in 3                                                                 0.00\n",
       "Easy Payment                                                                   0.00\n",
       "Paying off credit cards                                                        0.00\n",
       "Consalidation loan                                                             0.00\n",
       "Bye Bye Credit Cards                                                           0.00\n",
       "CreditCardCombine                                                              0.00\n",
       "life improvment                                                                0.00\n",
       "Eliminate Credit Card Debt                                                     0.00\n",
       "HI Loan Thanks                                                                 0.00\n",
       "ReFinance                                                                      0.00\n",
       "credit card refi/ debt consolidation                                           0.00\n",
       "J+M Wedding                                                                    0.00\n",
       "Final Consolidation                                                            0.00\n",
       "Debt free                                                                      0.00\n",
       "Car loan                                                                       0.00\n",
       "Amex                                                                           0.00\n",
       "Home MakeOver                                                                  0.00\n",
       "creditcard consolidation loan                                                  0.00\n",
       "I am expanding my business.                                                    0.00\n",
       "Debt consolidaion                                                              0.00\n",
       "Home improvements                                                              0.00\n",
       "card payoff                                                                    0.00\n",
       "Final consolidation                                                            0.00\n",
       "test                                                                           0.00\n",
       "loan2                                                                          0.00\n",
       "Onebill                                                                        0.00\n",
       "Responsible Party Loan Request                                                 0.00\n",
       "hope loan                                                                      0.00\n",
       "DEBT REFINANCE                                                                 0.00\n",
       "newyear                                                                        0.00\n",
       "Son Help                                                                       0.00\n",
       "BusinessLoan                                                                   0.00\n",
       "credit card payment                                                            0.00\n",
       "improvments                                                                    0.00\n",
       "Consolidate Debt                                                               0.00\n",
       "Consolidate / Update                                                           0.00\n",
       " loan                                                                          0.00\n",
       "15th Anniversary Purchase                                                      0.00\n",
       "Cleaning my debt                                                               0.00\n",
       "Debt Repayment for education/career                                            0.00\n",
       "Home Loan Down Payment                                                         0.00\n",
       "Debt Consolidate                                                               0.00\n",
       "Debt Restructure                                                               0.00\n",
       "The final loan                                                                 0.00\n",
       "good status                                                                    0.00\n",
       "Discover                                                                       0.00\n",
       "consolidation of debt                                                          0.00\n",
       "Old family homeplace                                                           0.00\n",
       "loan1                                                                          0.00\n",
       "pay my loans                                                                   0.00\n",
       "Beach house                                                                    0.00\n",
       "Discover Card Lower Rate                                                       0.00\n",
       "Short Term Cash Need                                                           0.00\n",
       "plshelpmesave                                                                  0.00\n",
       "thank you                                                                      0.00\n",
       "home improving                                                                 0.00\n",
       "Help!                                                                          0.00\n",
       "Personal consolidation Loan                                                    0.00\n",
       "Web Business Loan                                                              0.00\n",
       " My Relief Fund                                                                0.00\n",
       "SWIMMING POOL                                                                  0.00\n",
       "Debit Loan                                                                     0.00\n",
       "Credit card consolidation loan                                                 0.00\n",
       "Time for a New Roof!                                                           0.00\n",
       "tracy                                                                          0.00\n",
       "debt consolo                                                                   0.00\n",
       "Debt clean up                                                                  0.00\n",
       "All bills                                                                      0.00\n",
       "Loan for back yard and hardwood floor                                          0.00\n",
       "Mr                                                                             0.00\n",
       "Getting Rid of Credit Card Debt                                                0.00\n",
       "cleanup                                                                        0.00\n",
       "hawk                                                                           0.00\n",
       "Moving Fund                                                                    0.00\n",
       "payingitdown                                                                   0.00\n",
       "Help me                                                                        0.00\n",
       "CC Consolidate/Pay-Off Plan                                                    0.00\n",
       "C Loan                                                                         0.00\n",
       "nomorecreditcards                                                              0.00\n",
       "Garage Studio                                                                  0.00\n",
       "debtcombo                                                                      0.00\n",
       "Paying for college education                                                   0.00\n",
       "Debt Rewind                                                                    0.00\n",
       "Consolidation debs                                                             0.00\n",
       "remodeling                                                                     0.00\n",
       "business loan                                                                  0.00\n",
       "Debt destroyer                                                                 0.00\n",
       "household loan                                                                 0.00\n",
       "combine                                                                        0.00\n",
       "Investment                                                                     0.00\n",
       "Help me beat the banks!                                                        0.00\n",
       "Refinance move                                                                 0.00\n",
       "Health & Wellness                                                              0.00\n",
       "GJS PERSONAL LOAN                                                              0.00\n",
       "Cleaning House                                                                 0.00\n",
       "HOME IMPROVEMENTS                                                              0.00\n",
       "Litany of Recovery                                                             0.00\n",
       "LOAN4ME                                                                        0.00\n",
       "debt revamp                                                                    0.00\n",
       "Pay Off                                                                        0.00\n",
       "Pay Off High Rate Interest Debt                                                0.00\n",
       "paint loan                                                                     0.00\n",
       "Consolidation at lower rates                                                   0.00\n",
       "PLANNED, BUDGETED HOME IMPROVEMENT LOAN                                        0.00\n",
       "New Roof and Debt Consolidation                                                0.00\n",
       "Consolidate! Wrapped into one loan!                                            0.00\n",
       "Credit Card Repayment                                                          0.00\n",
       "Get Outta Debt and On The Right Track                                          0.00\n",
       "Transportation Needs                                                           0.00\n",
       "totals                                                                         0.00\n",
       "Emergency Loan                                                                 0.00\n",
       "Nov2011                                                                        0.00\n",
       "Refinancing                                                                    0.00\n",
       "debt management                                                                0.00\n",
       "Holiday Gifts                                                                  0.00\n",
       "Future Success                                                                 0.00\n",
       "IRS Payment                                                                    0.00\n",
       "The Consolodator                                                               0.00\n",
       "debt/roof                                                                      0.00\n",
       "Educational Continument                                                        0.00\n",
       "financial freedom                                                              0.00\n",
       "MyLoan                                                                         0.00\n",
       "Debt Deduction                                                                 0.00\n",
       "Wedding in the works! I'm almost ready.                                        0.00\n",
       "One Bill                                                                       0.00\n",
       "Money Account                                                                  0.00\n",
       "Loan Consolidation                                                             0.00\n",
       "Rifle Needed for SWAT...                                                       0.00\n",
       "credit card consolidate                                                        0.00\n",
       "lower interest & payment                                                       0.00\n",
       "Pay off high interest credit card                                              0.00\n",
       "DC                                                                             0.00\n",
       "my loan for home improvement                                                   0.00\n",
       "Daniel Defense                                                                 0.00\n",
       "Student Debt Consolidation                                                     0.00\n",
       "Credit/Debt Consolidation                                                      0.00\n",
       "Raptor 250                                                                     0.00\n",
       "My Consolidation Loan                                                          0.00\n",
       "Scott                                                                          0.00\n",
       "Roof Deductible                                                                0.00\n",
       "Final Year Graduate School Fees                                                0.00\n",
       "Blazer                                                                         0.00\n",
       "extra money                                                                    0.00\n",
       "money                                                                          0.00\n",
       "CC LOAN                                                                        0.00\n",
       "Get rid of high interest credit card                                           0.00\n",
       "CC Debt                                                                        0.00\n",
       "Pay off China Trip                                                             0.00\n",
       "Vickie's Loan                                                                  0.00\n",
       "FIRST LOAN                                                                     0.00\n",
       "For The Future                                                                 0.00\n",
       "Credit card final                                                              0.00\n",
       "Pay Off                                                                        0.00\n",
       "bill consolidation                                                             0.00\n",
       "majorpurchase                                                                  0.00\n",
       "Camper/pay off truck                                                           0.00\n",
       "Paying in full                                                                 0.00\n",
       "the eliminator                                                                 0.00\n",
       "Debt Consolidation for Home Owner                                              0.00\n",
       "Last Chance Romance                                                            0.00\n",
       "Hoem renovations                                                               0.00\n",
       "Refiancing                                                                     0.00\n",
       "Debt Clear                                                                     0.00\n",
       "appliance/technology purchase                                                  0.00\n",
       "Please help me payoff credit cards                                             0.00\n",
       "debt free forever                                                              0.00\n",
       "Get ahead of this!                                                             0.00\n",
       "Credit Cards Payoff Loan                                                       0.00\n",
       "Credit Card and Debt Payoff                                                    0.00\n",
       "Credit Card Repayment Plan                                                     0.00\n",
       "Refi 1                                                                         0.00\n",
       "DEBT FREE IN THREE                                                             0.00\n",
       "Credit Card Consolidate Loan                                                   0.00\n",
       "major purchase loan                                                            0.00\n",
       "Get out of Debt                                                                0.00\n",
       "Home improvement project                                                       0.00\n",
       "major purchase                                                                 0.00\n",
       "debt loan                                                                      0.00\n",
       "Home Remodel                                                                   0.00\n",
       "Help Me                                                                        0.00\n",
       "Would like to get out of Cashcall Loan                                         0.00\n",
       "Card Payoff                                                                    0.00\n",
       "Debt free!!!                                                                   0.00\n",
       "vacation/pay off debt                                                          0.00\n",
       "Life Changing                                                                  0.00\n",
       "Remodeling bathroom                                                            0.00\n",
       "Down payment                                                                   0.00\n",
       "home loan                                                                      0.00\n",
       "Refinance Wedding Credit Card Expenses                                         0.00\n",
       "Pay                                                                            0.00\n",
       "Lowering interest rate on my loan                                              0.00\n",
       "Repayment loan                                                                 0.00\n",
       "Tired of credit cards                                                          0.00\n",
       "DEBT Consolidation                                                             0.00\n",
       "Consolidating to Build Credit & Buy Home                                       0.00\n",
       "Summer 2011                                                                    0.00\n",
       "Lending Club Consolidation Loan                                                0.00\n",
       "Downsizing                                                                     0.00\n",
       "property purchase                                                              0.00\n",
       "Pay Off Cards                                                                  0.00\n",
       "Debt payoff                                                                    0.00\n",
       "Christmas/creditcards                                                          0.00\n",
       "Vehicle Restoration                                                            0.00\n",
       "Get Out of Debt Faster                                                         0.00\n",
       "College Era Debt Consolidation                                                 0.00\n",
       "Simple Wedding                                                                 0.00\n",
       "Debt Consolidation/Home Improvement                                            0.00\n",
       "helping out                                                                    0.00\n",
       "Financial Freedom                                                              0.00\n",
       "Surgery needed                                                                 0.00\n",
       "Inground Pool                                                                  0.00\n",
       "helpme                                                                         0.00\n",
       "Engagement / Wedding / Home Improvement                                        0.00\n",
       "Purchasing land                                                                0.00\n",
       "Home Sweet 1930 Home                                                           0.00\n",
       "Consolidation of Debt                                                          0.00\n",
       "Car Repair                                                                     0.00\n",
       "outtadebt                                                                      0.00\n",
       "Pay Them Off                                                                   0.00\n",
       "No more CC debt                                                                0.00\n",
       "Credit Consolidation                                                           0.00\n",
       "Credit consolidate                                                             0.00\n",
       "Debt Assistance                                                                0.00\n",
       "Finish Line                                                                    0.00\n",
       "Credit Card Relief                                                             0.00\n",
       "Legal Expenses Loan                                                            0.00\n",
       "debt conslidation                                                              0.00\n",
       "good bye credit cards                                                          0.00\n",
       "Card Consolidation                                                             0.00\n",
       "Consolidated                                                                   0.00\n",
       "college graduate loan                                                          0.00\n",
       "first                                                                          0.00\n",
       "Bill control                                                                   0.00\n",
       "Paying Down Debt & Getting Back on Track                                       0.00\n",
       "Remaining Debt                                                                 0.00\n",
       "Refi                                                                           0.00\n",
       "Repay Family & Remove Credit Card debt                                         0.00\n",
       "debt off                                                                       0.00\n",
       "Credit Card - Consolidate Debt                                                 0.00\n",
       "home repair                                                                    0.00\n",
       "if I can make it here                                                          0.00\n",
       "WS-6                                                                           0.00\n",
       "Debit Consolidation Loan                                                       0.00\n",
       "trend                                                                          0.00\n",
       "Financial Peace                                                                0.00\n",
       "Debt Reflief                                                                   0.00\n",
       "Home Buying                                                                    0.00\n",
       "debt cond                                                                      0.00\n",
       "Family Emergency Funds                                                         0.00\n",
       "Wells Fargo CC payoff                                                          0.00\n",
       "credit debt                                                                    0.00\n",
       "Debtbuster                                                                     0.00\n",
       "payoffs                                                                        0.00\n",
       "Credit Card paydown                                                            0.00\n",
       "Debt Away Program                                                              0.00\n",
       "Debt Free Veteran                                                              0.00\n",
       "Paying for own wedding                                                         0.00\n",
       "Worker                                                                         0.00\n",
       "Lending -Club Loan                                                             0.00\n",
       "Credit Card Debt Reduction                                                     0.00\n",
       "swimming pool                                                                  0.00\n",
       "RWChaserefi                                                                    0.00\n",
       "nomorecredit                                                                   0.00\n",
       "My best friend                                                                 0.00\n",
       "Looking to smooth my payment stream                                            0.00\n",
       "credit card recovery                                                           0.00\n",
       "Debt Elimination                                                               0.00\n",
       "My Debt Payoff Plan                                                            0.00\n",
       "JKM debt equalizer                                                             0.00\n",
       "Pre-Deployment Debt Consolidation                                              0.00\n",
       "DEBT                                                                           0.00\n",
       "Lesson Learned                                                                 0.00\n",
       "first loan                                                                     0.00\n",
       "debt free                                                                      0.00\n",
       "Consolidation2012                                                              0.00\n",
       "surgery loan                                                                   0.00\n",
       "Debt consolidating                                                             0.00\n",
       "Pay the bills loan                                                             0.00\n",
       "Debt-Free Future Loan                                                          0.00\n",
       "Loan # 1                                                                       0.00\n",
       "pay bills                                                                      0.00\n",
       "My Goal                                                                        0.00\n",
       "Personal CC                                                                    0.00\n",
       "New deck and landscaping                                                       0.00\n",
       "Home improvement loan                                                          0.00\n",
       "Almost there                                                                   0.00\n",
       "debt/vacation                                                                  0.00\n",
       "Get me out loan                                                                0.00\n",
       "creditcard pay                                                                 0.00\n",
       "Back to Basics with Money Management                                           0.00\n",
       "Family hauler                                                                  0.00\n",
       "House Upgrades, Consolidate                                                    0.00\n",
       "IRS and Debt                                                                   0.00\n",
       "Home Downpayment                                                               0.00\n",
       "CC Debt Consol                                                                 0.00\n",
       "CC Consolidation                                                               0.00\n",
       "debt payment                                                                   0.00\n",
       "Credit cards paid off                                                          0.00\n",
       "Get out and free                                                               0.00\n",
       "Debt / credit cards                                                            0.00\n",
       "Debt consolidation and home improvement.                                       0.00\n",
       "Lending Club Home Repairs                                                      0.00\n",
       "Dept consolidation                                                             0.00\n",
       "new book next chapter                                                          0.00\n",
       "Catchup                                                                        0.00\n",
       "medical & consolidation                                                        0.00\n",
       "C c                                                                            0.00\n",
       "Credit Card payoff                                                             0.00\n",
       "Debt Free 3 Years                                                              0.00\n",
       "Cosolidation                                                                   0.00\n",
       "SUMMARY                                                                        0.00\n",
       "Retaining Wall                                                                 0.00\n",
       "self help                                                                      0.00\n",
       "Getaway                                                                        0.00\n",
       "Path to Debt Freedom                                                           0.00\n",
       "Credit Cards Gone                                                              0.00\n",
       "ccloan                                                                         0.00\n",
       "IRS 2011                                                                       0.00\n",
       "Start Over                                                                     0.00\n",
       "Vacation/ Dental/ DebtConsolidation                                            0.00\n",
       "Happiness                                                                      0.00\n",
       "honing my skills                                                               0.00\n",
       "Credit payoff                                                                  0.00\n",
       "Tacoma Loan                                                                    0.00\n",
       "Personal Consid                                                                0.00\n",
       "Debt Consolidate Loan                                                          0.00\n",
       "Payoff Care Credit                                                             0.00\n",
       "Pay off our debt                                                               0.00\n",
       "Consolidate Debt at Lower Rate                                                 0.00\n",
       "wanting relief                                                                 0.00\n",
       "My consolidation                                                               0.00\n",
       "Clean Up                                                                       0.00\n",
       "med laon                                                                       0.00\n",
       "Pay off credit cards!                                                          0.00\n",
       "new appearance                                                                 0.00\n",
       "Cap One Paydown                                                                0.00\n",
       "jacob loan                                                                     0.00\n",
       "Dept Consolidation                                                             0.00\n",
       "Piece of mind                                                                  0.00\n",
       "Patricia                                                                       0.00\n",
       "credit payoff                                                                  0.00\n",
       "Best CC                                                                        0.00\n",
       "Consolidating Debt                                                             0.00\n",
       "Loan Refinancing                                                               0.00\n",
       "Credit Cards and Basment Remodel                                               0.00\n",
       "Auto loan                                                                      0.00\n",
       "Credit Card Refinance Loan                                                     0.00\n",
       "Roofing Repair Needed                                                          0.00\n",
       "Payoff Bills                                                                   0.00\n",
       "Shoes2011                                                                      0.00\n",
       "Fairview Renovation                                                            0.00\n",
       "Paid off credit card                                                           0.00\n",
       "Starting Over                                                                  0.00\n",
       "BECOME DEBT FREE                                                               0.00\n",
       "Reducing Interest                                                              0.00\n",
       "Credit Card Re-fi                                                              0.00\n",
       "house fixer                                                                    0.00\n",
       "Credit Card Paydown                                                            0.00\n",
       "Credit Card and Taxes                                                          0.00\n",
       "Upgrade and Remodeling                                                         0.00\n",
       "Personal Pool                                                                  0.00\n",
       "debt consolidation,                                                            0.00\n",
       "May Credit Card                                                                0.00\n",
       "consolidate me                                                                 0.00\n",
       "home_improvement                                                               0.00\n",
       "The repair                                                                     0.00\n",
       "Doing What's Smart for the Long-Term                                           0.00\n",
       "Car payoff                                                                     0.00\n",
       "Refi Loan                                                                      0.00\n",
       "LOAN                                                                           0.00\n",
       "greenhouse                                                                     0.00\n",
       "get rid of my credit cards                                                     0.00\n",
       "car loan                                                                       0.00\n",
       "Pay 3 credit cards and cut them up.                                            0.00\n",
       "Our Place                                                                      0.00\n",
       "780+ Credit Score -- Seeking Advanced Education Funding Help (Quant Finance)   0.00\n",
       "Road to fixing credit                                                          0.00\n",
       "DEBT Free                                                                      0.00\n",
       "My Daughter's Wedding                                                          0.00\n",
       "Refinance CC                                                                   0.00\n",
       "credit Builder                                                                 0.00\n",
       "First child on the way!                                                        0.00\n",
       "consolidation loan                                                             0.00\n",
       "My debt consolidation loan                                                     0.00\n",
       "homeimprovements                                                               0.00\n",
       "CC debt                                                                        0.00\n",
       "Future home fund                                                               0.00\n",
       "Debt Freedom Loan                                                              0.00\n",
       "Drowning in credit cards                                                       0.00\n",
       "Auto savings boost                                                             0.00\n",
       "Consolidate It                                                                 0.00\n",
       "EDUCATION TROY 2010                                                            0.00\n",
       "reduce_debt                                                                    0.00\n",
       "Reduce Credit Card Percentage Loan                                             0.00\n",
       "Paying down our debt to move forward                                           0.00\n",
       "Saving Money Now                                                               0.00\n",
       "randys loan                                                                    0.00\n",
       "Debt Relief                                                                    0.00\n",
       "Thank you for helping to pay a credit card!                                    0.00\n",
       "Debt Consolidation Load                                                        0.00\n",
       "my money                                                                       0.00\n",
       "Pay off Prosper Loan at a better rate                                          0.00\n",
       "Solar                                                                          0.00\n",
       "Debt cos                                                                       0.00\n",
       "Business1                                                                      0.00\n",
       "Debt Consolidatoin                                                             0.00\n",
       "creditcard pymt                                                                0.00\n",
       "smash debt                                                                     0.00\n",
       "Pay off Chase MasterCard                                                       0.00\n",
       "debt consolidTION                                                              0.00\n",
       "CARD REFI.                                                                     0.00\n",
       "CREDIT CARD PAYOFF PLAN                                                        0.00\n",
       "Debt consolidation credit cards                                                0.00\n",
       "High Interest Relief                                                           0.00\n",
       "Card debt reduction                                                            0.00\n",
       "Budget safety                                                                  0.00\n",
       "consolidating                                                                  0.00\n",
       "Faith                                                                          0.00\n",
       "zero                                                                           0.00\n",
       "Debt loan                                                                      0.00\n",
       "DEPTFREE                                                                       0.00\n",
       "Consolidate & Eliminate                                                        0.00\n",
       "Refinance credit card                                                          0.00\n",
       "christmas bailout                                                              0.00\n",
       "debt consolidations                                                            0.00\n",
       "Major Purchase Personal Loan                                                   0.00\n",
       "Loan Consolidsation                                                            0.00\n",
       "home improvement/credit card pay-off                                           0.00\n",
       "CC_refinancing                                                                 0.00\n",
       "MyDebtConsolidation                                                            0.00\n",
       "Just Moved - Consolidating moving costs                                        0.00\n",
       "Debt Removal loan                                                              0.00\n",
       "Consolidate Debt to increase score                                             0.00\n",
       "Start My Marriage Debt Free                                                    0.00\n",
       "debt consolidation and major repair                                            0.00\n",
       "Pay Off Existing Lending Club Loan                                             0.00\n",
       "Amex b gone                                                                    0.00\n",
       "financial fix it (slightly) faster                                             0.00\n",
       "eraser                                                                         0.00\n",
       "Debt Payment                                                                   0.00\n",
       "consolidation of cc debt                                                       0.00\n",
       "Help Loan                                                                      0.00\n",
       "Get loan                                                                       0.00\n",
       "debt conso                                                                     0.00\n",
       "cc payoff                                                                      0.00\n",
       "One basket                                                                     0.00\n",
       "2011 Debt Payoff                                                               0.00\n",
       "Paying off                                                                     0.00\n",
       "Loan 2012                                                                      0.00\n",
       "new start                                                                      0.00\n",
       "Pay off small bills                                                            0.00\n",
       "Consolidate Jan 2013                                                           0.00\n",
       "debt restructure                                                               0.00\n",
       "creditpayoff                                                                   0.00\n",
       "CC consolidation                                                               0.00\n",
       "educational loan                                                               0.00\n",
       "consolidated                                                                   0.00\n",
       "home improvements                                                              0.00\n",
       "clearing debt                                                                  0.00\n",
       "Beetle                                                                         0.00\n",
       "Credit card debt be gone                                                       0.00\n",
       "auto repair                                                                    0.00\n",
       "Home purchase/Credit Card Refinance                                            0.00\n",
       "Medical Loan                                                                   0.00\n",
       "CC Refinancing                                                                 0.00\n",
       "BILLS                                                                          0.00\n",
       "personnal loan                                                                 0.00\n",
       "wedding                                                                        0.00\n",
       "ChaseReFi                                                                      0.00\n",
       "Fresh year                                                                     0.00\n",
       "Credit Card Debt                                                               0.00\n",
       "Breathing Room                                                                 0.00\n",
       "Consolidation of Credit Cards                                                  0.00\n",
       "My debt consolidation solution                                                 0.00\n",
       "Pay off Chase Mastercard + Equipment                                           0.00\n",
       "Debt reorganization                                                            0.00\n",
       "Debt consolidation Loan                                                        0.00\n",
       "Start Up Funds to Acquire Small Business                                       0.00\n",
       "Help With Debt Consolidation                                                   0.00\n",
       "consolloan                                                                     0.00\n",
       "Pay off Debt, Help kid ready for college                                       0.00\n",
       "credit cards Pay Off                                                           0.00\n",
       "complete loan                                                                  0.00\n",
       "Gymnastics                                                                     0.00\n",
       "Decluttering For Control                                                       0.00\n",
       "OUTOFDEPT                                                                      0.00\n",
       "Fast Pay Off                                                                   0.00\n",
       "debt freedom                                                                   0.00\n",
       "Debt Cosolidation                                                              0.00\n",
       "pay my credit cards                                                            0.00\n",
       "Debt Strategy                                                                  0.00\n",
       "Improve                                                                        0.00\n",
       "Free                                                                           0.00\n",
       "debtgone                                                                       0.00\n",
       "Paying off Medical Bills & Wedding                                             0.00\n",
       "cc repayment                                                                   0.00\n",
       "Credit Concsolidate                                                            0.00\n",
       "credit card debt                                                               0.00\n",
       "Consol. 1                                                                      0.00\n",
       "Debt Consolidation After Illness                                               0.00\n",
       "Credit Card - Payoff                                                           0.00\n",
       "consoladation                                                                  0.00\n",
       "debt consolidedation                                                           0.00\n",
       "Frontier Airlines MasterCard Payoff                                            0.00\n",
       "Home Buy Down                                                                  0.00\n",
       "HOME IMPROVEMENT                                                               0.00\n",
       "Loan1                                                                          0.00\n",
       "Lower Interest Rates                                                           0.00\n",
       "DebtLoan                                                                       0.00\n",
       "Refinance Other Loan / Fix Up the House                                        0.00\n",
       "Paying off a higher interest loan                                              0.00\n",
       "CC debt consolidation - home                                                   0.00\n",
       "Truck                                                                          0.00\n",
       "Credit card debt                                                               0.00\n",
       "Credit Pay Off                                                                 0.00\n",
       "starting new                                                                   0.00\n",
       "Paid in Full                                                                   0.00\n",
       "Consolidate debt                                                               0.00\n",
       "Debt Cons Loan                                                                 0.00\n",
       "Beautiful Kitchen                                                              0.00\n",
       "Suzuki                                                                         0.00\n",
       "credit refinance                                                               0.00\n",
       "New Start                                                                      0.00\n",
       "Lower interest rate                                                            0.00\n",
       "DC Refi                                                                        0.00\n",
       "Reclaiming  my life                                                            0.00\n",
       "Dreams do come true                                                            0.00\n",
       "Wells/Chase ReFi                                                               0.00\n",
       "Business growth and territory expansion                                        0.00\n",
       "Real Estate Loan                                                               0.00\n",
       "Fresh New Start                                                                0.00\n",
       "Credit card                                                                    0.00\n",
       "medical bills                                                                  0.00\n",
       "Card refinance                                                                 0.00\n",
       "Consolidating for one easy monthly pymt                                        0.00\n",
       "credit card payoff / home inprovement                                          0.00\n",
       "Better interest rate on loan                                                   0.00\n",
       "Refinance to a lower interest rate                                             0.00\n",
       "PERSONAL LOAN                                                                  0.00\n",
       "Pay Off Credit Loans                                                           0.00\n",
       "July2012-cons                                                                  0.00\n",
       "mycreditcarddebt                                                               0.00\n",
       "Aid for Credit Card Debt Loan                                                  0.00\n",
       "pay off all debt                                                               0.00\n",
       "furnace                                                                        0.00\n",
       "beavers13                                                                      0.00\n",
       "Loan needed to pay off credit card debt!                                       0.00\n",
       "debt cons                                                                      0.00\n",
       "debt removal                                                                   0.00\n",
       "Pay down                                                                       0.00\n",
       "geatful help                                                                   0.00\n",
       "medical                                                                        0.00\n",
       "Mine                                                                           0.00\n",
       "No more credit card debt!                                                      0.00\n",
       "clearing out credit cards                                                      0.00\n",
       "One payment Please!                                                            0.00\n",
       "$$ to Cents                                                                    0.00\n",
       "Consolidation & down payment                                                   0.00\n",
       "Just Need a Break                                                              0.00\n",
       "PAYOFF C/C                                                                     0.00\n",
       "Consolidation Loan 2                                                           0.00\n",
       "dedt  consolidation                                                            0.00\n",
       "card consolidation                                                             0.00\n",
       "Personal Funds                                                                 0.00\n",
       "Speed bump on my journey to success                                            0.00\n",
       "loan 1                                                                         0.00\n",
       "A Better Life                                                                  0.00\n",
       "Pay debt off                                                                   0.00\n",
       "No more credit  card debt                                                      0.00\n",
       "Eliminating Credit Cards                                                       0.00\n",
       "New Mac Computer                                                               0.00\n",
       "Relieving Stress                                                               0.00\n",
       "Tim Lending Club Loan                                                          0.00\n",
       "Consolidation 2013                                                             0.00\n",
       "Major Purchase                                                                 0.00\n",
       "Debit consolidation                                                            0.00\n",
       "insurance and vacation                                                         0.00\n",
       "LOAN #2                                                                        0.00\n",
       "At least I know I have a healthy ticker                                        0.00\n",
       "FENCE 2011                                                                     0.00\n",
       "Credit debt                                                                    0.00\n",
       "SRAMV                                                                          0.00\n",
       "debt be gone                                                                   0.00\n",
       "getting free from debt                                                         0.00\n",
       "Debt/Home Improvement                                                          0.00\n",
       "Debtsgone                                                                      0.00\n",
       "Emergency Roof                                                                 0.00\n",
       "Consolidate Now                                                                0.00\n",
       "Tickets Advertising                                                            0.00\n",
       "No More Credit Cards                                                           0.00\n",
       "Better                                                                         0.00\n",
       "I need to maintain my business                                                 0.00\n",
       "Creditcard debt                                                                0.00\n",
       "Help me get rid of high interest rates!!                                       0.00\n",
       "Debt Con.                                                                      0.00\n",
       "Getting contracts!                                                             0.00\n",
       "great                                                                          0.00\n",
       "High Interest Credit Card Payoff                                               0.00\n",
       "get out in 3 years                                                             0.00\n",
       "SafeOne                                                                        0.00\n",
       "Pay Off My Debts                                                               0.00\n",
       "pay credit cards                                                               0.00\n",
       "Debt freedom loan                                                              0.00\n",
       "house                                                                          0.00\n",
       "Debts                                                                          0.00\n",
       "Air Conditioner Replacement Loan                                               0.00\n",
       "2012  Plan                                                                     0.00\n",
       "Pay medical bills                                                              0.00\n",
       "lending club                                                                   0.00\n",
       "Infiniti Q50                                                                   0.00\n",
       "Wrist repair                                                                   0.00\n",
       "Swimming Pool and Deck                                                         0.00\n",
       "home floor                                                                     0.00\n",
       "S-Debt Loan                                                                    0.00\n",
       "Going Back to the Black!                                                       0.00\n",
       "Lower Debts                                                                    0.00\n",
       "To get out of debt loan with credit card                                       0.00\n",
       "Step 1                                                                         0.00\n",
       "Bills Bills Bills                                                              0.00\n",
       "Fast-track to debt free                                                        0.00\n",
       "CC Annihilator!                                                                0.00\n",
       "roof                                                                           0.00\n",
       "Investor's Paradise-Debt consolidation                                         0.00\n",
       "Get my life back                                                               0.00\n",
       "consolidated credit cards                                                      0.00\n",
       "Medical                                                                        0.00\n",
       "Consolidate Credit Card Debt                                                   0.00\n",
       "credit card pay off                                                            0.00\n",
       "Goodbye, Debt.                                                                 0.00\n",
       "House Buying Prep                                                              0.00\n",
       "Goodbye Credit Cards!                                                          0.00\n",
       "Fix it                                                                         0.00\n",
       "Credit Card refi                                                               0.00\n",
       "Single Note                                                                    0.00\n",
       "Bundle                                                                         0.00\n",
       "cc refinance                                                                   0.00\n",
       "Credit Card Dept Loan                                                          0.00\n",
       "To Be Debt Free Sooner                                                         0.00\n",
       "Debt Consolidation/Home Projects                                               0.00\n",
       "Dedt Loan                                                                      0.00\n",
       " nolatepays,highincome,debtconsolidate                                         0.00\n",
       "buying confortable bed and kitchen aids                                        0.00\n",
       "Paying off my Credit Cards                                                     0.00\n",
       "Medical bills                                                                  0.00\n",
       "debt consolidation from multiple cards                                         0.00\n",
       "Debt consolidation/Home repair                                                 0.00\n",
       "I would much rather give you my money!                                         0.00\n",
       "Finall Free                                                                    0.00\n",
       "2012 Loan                                                                      0.00\n",
       "Boat Purchase                                                                  0.00\n",
       "debt payoff #1                                                                 0.00\n",
       "personnel                                                                      0.00\n",
       "Good                                                                           0.00\n",
       "AMX Payoff                                                                     0.00\n",
       "Buh Bye Credit Cards                                                           0.00\n",
       "PAYING OFF DEATHS                                                              0.00\n",
       "Wedding plans                                                                  0.00\n",
       "cc consolidation                                                               0.00\n",
       "Plumbing and Appliance Replacement                                             0.00\n",
       "Out of dept                                                                    0.00\n",
       "working hard                                                                   0.00\n",
       "Finance Loan                                                                   0.00\n",
       "newroof                                                                        0.00\n",
       "Personal loan                                                                  0.00\n",
       "hot tub                                                                        0.00\n",
       "Debt and Medical Bill Consolidation                                            0.00\n",
       "Refinance one                                                                  0.00\n",
       "Get it done                                                                    0.00\n",
       "Debt be gone                                                                   0.00\n",
       "Helping Hand                                                                   0.00\n",
       "CreditCards                                                                    0.00\n",
       "Business Equipment Purchase                                                    0.00\n",
       "Home Improvement/Debt consolidation                                            0.00\n",
       "One Easy Consolidated Payments                                                 0.00\n",
       "PAY CREDIT                                                                     0.00\n",
       "Debt Consolidation Jan 2011                                                    0.00\n",
       "My Landing consolidation                                                       0.00\n",
       "A Fresh Start                                                                  0.00\n",
       "DC Loan                                                                        0.00\n",
       "team player                                                                    0.00\n",
       "CreditCardPayOff                                                               0.00\n",
       "Credit Consolidate                                                             0.00\n",
       "Card payoff                                                                    0.00\n",
       "Consolidation 2012                                                             0.00\n",
       "Debt Pay off                                                                   0.00\n",
       "On Track Loan                                                                  0.00\n",
       "lot                                                                            0.00\n",
       "Chevelle Loan                                                                  0.00\n",
       "Debt Clean Up                                                                  0.00\n",
       "I would like to by a motorcycle                                                0.00\n",
       "One time Debt Consolidate                                                      0.00\n",
       "Capital1 payment                                                               0.00\n",
       "bill pay off                                                                   0.00\n",
       "Credit cards pay off                                                           0.00\n",
       "citicard payoff loan                                                           0.00\n",
       "credit card refinance                                                          0.00\n",
       "My CC Consolidation Loan                                                       0.00\n",
       "Beat Those High Rate Credit Cards!                                             0.00\n",
       "Finally Financially Saved                                                      0.00\n",
       "Catch up                                                                       0.00\n",
       "ResponsibleFreedom                                                             0.00\n",
       "security                                                                       0.00\n",
       "All Done                                                                       0.00\n",
       "Pay off bills                                                                  0.00\n",
       "Loan refi                                                                      0.00\n",
       "Taxes and Legal                                                                0.00\n",
       "Fixing debt/cutting up credit cards                                            0.00\n",
       "Debt Consolidation Lower % Rate                                                0.00\n",
       "Credit consolidation                                                           0.00\n",
       "Blessing                                                                       0.00\n",
       "my bills                                                                       0.00\n",
       "credit cards done                                                              0.00\n",
       "Debt Consolidation Loan                                                        0.00\n",
       "the loan                                                                       0.00\n",
       "CAPITAL ONE DEBT                                                               0.00\n",
       "Getting out of debt!                                                           0.00\n",
       "credit cards and vacation                                                      0.00\n",
       "futuremgmt                                                                     0.00\n",
       "Killing Credit Cards                                                           0.00\n",
       "amex and cap off                                                               0.00\n",
       "Consolidate loan                                                               0.00\n",
       "Debt Consolidation at Lower Rate!                                              0.00\n",
       "one monthly bill                                                               0.00\n",
       "pay off                                                                        0.00\n",
       "reducingdebt                                                                   0.00\n",
       "Freedom                                                                        0.00\n",
       "consoladate                                                                    0.00\n",
       "CCRefiLoan                                                                     0.00\n",
       "Name: title, dtype: float64"
      ]
     },
     "execution_count": 300,
     "metadata": {},
     "output_type": "execute_result"
    }
   ],
   "source": [
    "loans['title'].value_counts(normalize=True, dropna=False)"
   ]
  },
  {
   "cell_type": "markdown",
   "metadata": {},
   "source": [
    "Purpose and Title are quite similar so we can drop either one column"
   ]
  },
  {
   "cell_type": "code",
   "execution_count": 301,
   "metadata": {},
   "outputs": [],
   "source": [
    "loans.drop('title', axis=1, inplace=True)"
   ]
  },
  {
   "cell_type": "code",
   "execution_count": null,
   "metadata": {},
   "outputs": [],
   "source": []
  },
  {
   "cell_type": "code",
   "execution_count": null,
   "metadata": {},
   "outputs": [],
   "source": []
  },
  {
   "cell_type": "markdown",
   "metadata": {},
   "source": [
    "#### Zip code and Address state "
   ]
  },
  {
   "cell_type": "code",
   "execution_count": 302,
   "metadata": {},
   "outputs": [
    {
     "data": {
      "text/plain": [
       "count     13546\n",
       "unique      814\n",
       "top       945xx\n",
       "freq        153\n",
       "Name: zip_code, dtype: object"
      ]
     },
     "execution_count": 302,
     "metadata": {},
     "output_type": "execute_result"
    }
   ],
   "source": [
    "loans['zip_code'].describe()"
   ]
  },
  {
   "cell_type": "code",
   "execution_count": 303,
   "metadata": {},
   "outputs": [
    {
     "data": {
      "text/plain": [
       "679551     GA\n",
       "360793     VA\n",
       "122439     AL\n",
       "996410     WA\n",
       "1044655    CA\n",
       "Name: addr_state, dtype: object"
      ]
     },
     "execution_count": 303,
     "metadata": {},
     "output_type": "execute_result"
    }
   ],
   "source": [
    "loans['addr_state'].sample(5)"
   ]
  },
  {
   "cell_type": "code",
   "execution_count": 304,
   "metadata": {},
   "outputs": [
    {
     "data": {
      "text/plain": [
       "51"
      ]
     },
     "execution_count": 304,
     "metadata": {},
     "output_type": "execute_result"
    }
   ],
   "source": [
    "loans['addr_state'].nunique()"
   ]
  },
  {
   "cell_type": "markdown",
   "metadata": {},
   "source": [
    "Zip code and address are quite similar which tells about address of applicant, so we will drop one column with more unique values"
   ]
  },
  {
   "cell_type": "code",
   "execution_count": 305,
   "metadata": {},
   "outputs": [
    {
     "data": {
      "text/plain": [
       "addr_state\n",
       "DC   0.05\n",
       "ME   0.06\n",
       "KS   0.12\n",
       "CO   0.13\n",
       "SC   0.13\n",
       "DE   0.13\n",
       "NH   0.14\n",
       "UT   0.15\n",
       "OR   0.15\n",
       "VT   0.16\n",
       "GA   0.16\n",
       "ND   0.17\n",
       "CT   0.17\n",
       "MA   0.17\n",
       "AR   0.17\n",
       "KY   0.18\n",
       "OK   0.18\n",
       "WA   0.18\n",
       "MN   0.18\n",
       "IL   0.18\n",
       "RI   0.18\n",
       "HI   0.19\n",
       "AK   0.19\n",
       "WY   0.19\n",
       "AZ   0.19\n",
       "AL   0.19\n",
       "NJ   0.20\n",
       "TX   0.20\n",
       "FL   0.20\n",
       "CA   0.20\n",
       "WV   0.20\n",
       "NC   0.21\n",
       "MI   0.21\n",
       "ID   0.21\n",
       "NV   0.21\n",
       "PA   0.22\n",
       "OH   0.22\n",
       "IN   0.22\n",
       "MD   0.22\n",
       "NM   0.23\n",
       "WI   0.23\n",
       "VA   0.23\n",
       "NY   0.24\n",
       "LA   0.24\n",
       "TN   0.26\n",
       "SD   0.26\n",
       "MT   0.27\n",
       "MO   0.27\n",
       "MS   0.31\n",
       "NE   0.33\n",
       "IA   1.00\n",
       "Name: loan_status, dtype: float64"
      ]
     },
     "execution_count": 305,
     "metadata": {},
     "output_type": "execute_result"
    }
   ],
   "source": [
    "loans.groupby('addr_state')['loan_status'].value_counts(normalize=True).loc[:,'Charged Off'].sort_values()"
   ]
  },
  {
   "cell_type": "markdown",
   "metadata": {},
   "source": [
    "MS state having highest charge off rates with 26%"
   ]
  },
  {
   "cell_type": "code",
   "execution_count": 306,
   "metadata": {},
   "outputs": [],
   "source": [
    "loans.drop(labels='zip_code', axis=1, inplace=True)"
   ]
  },
  {
   "cell_type": "code",
   "execution_count": null,
   "metadata": {},
   "outputs": [],
   "source": []
  },
  {
   "cell_type": "markdown",
   "metadata": {},
   "source": [
    "#### Initial list status"
   ]
  },
  {
   "cell_type": "code",
   "execution_count": 307,
   "metadata": {},
   "outputs": [
    {
     "data": {
      "text/plain": [
       "count     13546\n",
       "unique        2\n",
       "top           w\n",
       "freq       7897\n",
       "Name: initial_list_status, dtype: object"
      ]
     },
     "execution_count": 307,
     "metadata": {},
     "output_type": "execute_result"
    }
   ],
   "source": [
    "loans['initial_list_status'].describe()"
   ]
  },
  {
   "cell_type": "code",
   "execution_count": 308,
   "metadata": {},
   "outputs": [
    {
     "name": "stderr",
     "output_type": "stream",
     "text": [
      "C:\\Users\\user\\miniconda3\\envs\\sm-202011\\lib\\site-packages\\seaborn\\_decorators.py:43: FutureWarning: Pass the following variable as a keyword arg: x. From version 0.12, the only valid positional argument will be `data`, and passing other arguments without an explicit keyword will result in an error or misinterpretation.\n",
      "  FutureWarning\n"
     ]
    },
    {
     "data": {
      "image/png": "[encoded data removed]",
      "text/plain": [
       "<Figure size 1080x270 with 2 Axes>"
      ]
     },
     "metadata": {},
     "output_type": "display_data"
    }
   ],
   "source": [
    "plot_var('initial_list_status', 'Initial List Status', continuous=False)"
   ]
  },
  {
   "cell_type": "markdown",
   "metadata": {},
   "source": [
    "Charge off rates for \"w\" and \"f\" status are similar with 20%"
   ]
  },
  {
   "cell_type": "code",
   "execution_count": null,
   "metadata": {},
   "outputs": [],
   "source": []
  },
  {
   "cell_type": "markdown",
   "metadata": {},
   "source": [
    "#### Application type"
   ]
  },
  {
   "cell_type": "code",
   "execution_count": 309,
   "metadata": {},
   "outputs": [
    {
     "data": {
      "text/plain": [
       "Individual   0.98\n",
       "Joint App    0.02\n",
       "Name: application_type, dtype: float64"
      ]
     },
     "execution_count": 309,
     "metadata": {},
     "output_type": "execute_result"
    }
   ],
   "source": [
    "loans['application_type'].value_counts(normalize=True)"
   ]
  },
  {
   "cell_type": "code",
   "execution_count": 310,
   "metadata": {},
   "outputs": [
    {
     "data": {
      "text/plain": [
       "application_type\n",
       "Individual   0.20\n",
       "Joint App    0.22\n",
       "Name: loan_status, dtype: float64"
      ]
     },
     "execution_count": 310,
     "metadata": {},
     "output_type": "execute_result"
    }
   ],
   "source": [
    "loans.groupby('application_type')['loan_status'].value_counts(normalize=True).loc[:,'Charged Off']"
   ]
  },
  {
   "cell_type": "markdown",
   "metadata": {},
   "source": [
    "2% Loan applicants are Joint application types which are having 25% of charge off rates "
   ]
  },
  {
   "cell_type": "code",
   "execution_count": null,
   "metadata": {},
   "outputs": [],
   "source": []
  },
  {
   "cell_type": "markdown",
   "metadata": {},
   "source": [
    "### Analyzing Numerical Data"
   ]
  },
  {
   "cell_type": "markdown",
   "metadata": {},
   "source": [
    "#### Loan amount"
   ]
  },
  {
   "cell_type": "code",
   "execution_count": 311,
   "metadata": {},
   "outputs": [
    {
     "data": {
      "text/plain": [
       "count   13,546.00\n",
       "mean    14,388.79\n",
       "std      8,679.76\n",
       "min      1,000.00\n",
       "25%      8,000.00\n",
       "50%     12,000.00\n",
       "75%     20,000.00\n",
       "max     40,000.00\n",
       "Name: loan_amnt, dtype: float64"
      ]
     },
     "execution_count": 311,
     "metadata": {},
     "output_type": "execute_result"
    }
   ],
   "source": [
    "loans['loan_amnt'].describe()"
   ]
  },
  {
   "cell_type": "code",
   "execution_count": 312,
   "metadata": {},
   "outputs": [],
   "source": [
    "loans['loan_amnt'] = loans['loan_amnt'].apply(lambda x: np.log10(x+1)) #applying log10 to calculate numerical value"
   ]
  },
  {
   "cell_type": "code",
   "execution_count": 313,
   "metadata": {},
   "outputs": [
    {
     "data": {
      "text/html": [
       "<div>\n",
       "<style scoped>\n",
       "    .dataframe tbody tr th:only-of-type {\n",
       "        vertical-align: middle;\n",
       "    }\n",
       "\n",
       "    .dataframe tbody tr th {\n",
       "        vertical-align: top;\n",
       "    }\n",
       "\n",
       "    .dataframe thead th {\n",
       "        text-align: right;\n",
       "    }\n",
       "</style>\n",
       "<table border=\"1\" class=\"dataframe\">\n",
       "  <thead>\n",
       "    <tr style=\"text-align: right;\">\n",
       "      <th></th>\n",
       "      <th>count</th>\n",
       "      <th>mean</th>\n",
       "      <th>std</th>\n",
       "      <th>min</th>\n",
       "      <th>25%</th>\n",
       "      <th>50%</th>\n",
       "      <th>75%</th>\n",
       "      <th>max</th>\n",
       "    </tr>\n",
       "    <tr>\n",
       "      <th>loan_status</th>\n",
       "      <th></th>\n",
       "      <th></th>\n",
       "      <th></th>\n",
       "      <th></th>\n",
       "      <th></th>\n",
       "      <th></th>\n",
       "      <th></th>\n",
       "      <th></th>\n",
       "    </tr>\n",
       "  </thead>\n",
       "  <tbody>\n",
       "    <tr>\n",
       "      <th>Charged Off</th>\n",
       "      <td>2,713.00</td>\n",
       "      <td>4.10</td>\n",
       "      <td>0.29</td>\n",
       "      <td>3.00</td>\n",
       "      <td>3.94</td>\n",
       "      <td>4.15</td>\n",
       "      <td>4.30</td>\n",
       "      <td>4.60</td>\n",
       "    </tr>\n",
       "    <tr>\n",
       "      <th>Fully Paid</th>\n",
       "      <td>10,833.00</td>\n",
       "      <td>4.06</td>\n",
       "      <td>0.30</td>\n",
       "      <td>3.00</td>\n",
       "      <td>3.88</td>\n",
       "      <td>4.08</td>\n",
       "      <td>4.30</td>\n",
       "      <td>4.60</td>\n",
       "    </tr>\n",
       "  </tbody>\n",
       "</table>\n",
       "</div>"
      ],
      "text/plain": [
       "                count  mean  std  min  25%  50%  75%  max\n",
       "loan_status                                              \n",
       "Charged Off  2,713.00  4.10 0.29 3.00 3.94 4.15 4.30 4.60\n",
       "Fully Paid  10,833.00  4.06 0.30 3.00 3.88 4.08 4.30 4.60"
      ]
     },
     "execution_count": 313,
     "metadata": {},
     "output_type": "execute_result"
    }
   ],
   "source": [
    "loans.groupby('loan_status')['loan_amnt'].describe()"
   ]
  },
  {
   "cell_type": "code",
   "execution_count": null,
   "metadata": {},
   "outputs": [],
   "source": []
  },
  {
   "cell_type": "markdown",
   "metadata": {},
   "source": [
    "#### Interest Rate"
   ]
  },
  {
   "cell_type": "code",
   "execution_count": 314,
   "metadata": {},
   "outputs": [
    {
     "data": {
      "text/plain": [
       "count   13,546.00\n",
       "mean        13.29\n",
       "std          4.77\n",
       "min          5.31\n",
       "25%          9.75\n",
       "50%         12.74\n",
       "75%         16.02\n",
       "max         30.99\n",
       "Name: int_rate, dtype: float64"
      ]
     },
     "execution_count": 314,
     "metadata": {},
     "output_type": "execute_result"
    }
   ],
   "source": [
    "loans['int_rate'].describe()"
   ]
  },
  {
   "cell_type": "code",
   "execution_count": 315,
   "metadata": {},
   "outputs": [
    {
     "data": {
      "text/html": [
       "<div>\n",
       "<style scoped>\n",
       "    .dataframe tbody tr th:only-of-type {\n",
       "        vertical-align: middle;\n",
       "    }\n",
       "\n",
       "    .dataframe tbody tr th {\n",
       "        vertical-align: top;\n",
       "    }\n",
       "\n",
       "    .dataframe thead th {\n",
       "        text-align: right;\n",
       "    }\n",
       "</style>\n",
       "<table border=\"1\" class=\"dataframe\">\n",
       "  <thead>\n",
       "    <tr style=\"text-align: right;\">\n",
       "      <th></th>\n",
       "      <th>count</th>\n",
       "      <th>mean</th>\n",
       "      <th>std</th>\n",
       "      <th>min</th>\n",
       "      <th>25%</th>\n",
       "      <th>50%</th>\n",
       "      <th>75%</th>\n",
       "      <th>max</th>\n",
       "    </tr>\n",
       "    <tr>\n",
       "      <th>loan_status</th>\n",
       "      <th></th>\n",
       "      <th></th>\n",
       "      <th></th>\n",
       "      <th></th>\n",
       "      <th></th>\n",
       "      <th></th>\n",
       "      <th></th>\n",
       "      <th></th>\n",
       "    </tr>\n",
       "  </thead>\n",
       "  <tbody>\n",
       "    <tr>\n",
       "      <th>Charged Off</th>\n",
       "      <td>2,713.00</td>\n",
       "      <td>15.73</td>\n",
       "      <td>4.92</td>\n",
       "      <td>5.31</td>\n",
       "      <td>12.29</td>\n",
       "      <td>15.05</td>\n",
       "      <td>18.84</td>\n",
       "      <td>30.99</td>\n",
       "    </tr>\n",
       "    <tr>\n",
       "      <th>Fully Paid</th>\n",
       "      <td>10,833.00</td>\n",
       "      <td>12.67</td>\n",
       "      <td>4.53</td>\n",
       "      <td>5.31</td>\n",
       "      <td>9.17</td>\n",
       "      <td>12.29</td>\n",
       "      <td>15.31</td>\n",
       "      <td>30.99</td>\n",
       "    </tr>\n",
       "  </tbody>\n",
       "</table>\n",
       "</div>"
      ],
      "text/plain": [
       "                count  mean  std  min   25%   50%   75%   max\n",
       "loan_status                                                  \n",
       "Charged Off  2,713.00 15.73 4.92 5.31 12.29 15.05 18.84 30.99\n",
       "Fully Paid  10,833.00 12.67 4.53 5.31  9.17 12.29 15.31 30.99"
      ]
     },
     "execution_count": 315,
     "metadata": {},
     "output_type": "execute_result"
    }
   ],
   "source": [
    "loans.groupby('loan_status')['int_rate'].describe()"
   ]
  },
  {
   "cell_type": "code",
   "execution_count": 316,
   "metadata": {},
   "outputs": [
    {
     "data": {
      "text/html": [
       "<div>\n",
       "<style scoped>\n",
       "    .dataframe tbody tr th:only-of-type {\n",
       "        vertical-align: middle;\n",
       "    }\n",
       "\n",
       "    .dataframe tbody tr th {\n",
       "        vertical-align: top;\n",
       "    }\n",
       "\n",
       "    .dataframe thead th {\n",
       "        text-align: right;\n",
       "    }\n",
       "</style>\n",
       "<table border=\"1\" class=\"dataframe\">\n",
       "  <thead>\n",
       "    <tr style=\"text-align: right;\">\n",
       "      <th></th>\n",
       "      <th>count</th>\n",
       "      <th>mean</th>\n",
       "      <th>std</th>\n",
       "      <th>min</th>\n",
       "      <th>25%</th>\n",
       "      <th>50%</th>\n",
       "      <th>75%</th>\n",
       "      <th>max</th>\n",
       "    </tr>\n",
       "    <tr>\n",
       "      <th>purpose</th>\n",
       "      <th></th>\n",
       "      <th></th>\n",
       "      <th></th>\n",
       "      <th></th>\n",
       "      <th></th>\n",
       "      <th></th>\n",
       "      <th></th>\n",
       "      <th></th>\n",
       "    </tr>\n",
       "  </thead>\n",
       "  <tbody>\n",
       "    <tr>\n",
       "      <th>car</th>\n",
       "      <td>121.00</td>\n",
       "      <td>11.80</td>\n",
       "      <td>4.13</td>\n",
       "      <td>5.32</td>\n",
       "      <td>9.16</td>\n",
       "      <td>11.48</td>\n",
       "      <td>13.98</td>\n",
       "      <td>24.99</td>\n",
       "    </tr>\n",
       "    <tr>\n",
       "      <th>credit_card</th>\n",
       "      <td>2,979.00</td>\n",
       "      <td>11.69</td>\n",
       "      <td>4.24</td>\n",
       "      <td>5.31</td>\n",
       "      <td>8.19</td>\n",
       "      <td>11.22</td>\n",
       "      <td>13.99</td>\n",
       "      <td>30.79</td>\n",
       "    </tr>\n",
       "    <tr>\n",
       "      <th>debt_consolidation</th>\n",
       "      <td>7,943.00</td>\n",
       "      <td>13.72</td>\n",
       "      <td>4.75</td>\n",
       "      <td>5.31</td>\n",
       "      <td>10.42</td>\n",
       "      <td>13.11</td>\n",
       "      <td>16.59</td>\n",
       "      <td>30.99</td>\n",
       "    </tr>\n",
       "    <tr>\n",
       "      <th>educational</th>\n",
       "      <td>6.00</td>\n",
       "      <td>11.56</td>\n",
       "      <td>3.02</td>\n",
       "      <td>6.00</td>\n",
       "      <td>11.11</td>\n",
       "      <td>12.26</td>\n",
       "      <td>13.21</td>\n",
       "      <td>14.59</td>\n",
       "    </tr>\n",
       "    <tr>\n",
       "      <th>home_improvement</th>\n",
       "      <td>881.00</td>\n",
       "      <td>12.89</td>\n",
       "      <td>4.68</td>\n",
       "      <td>5.32</td>\n",
       "      <td>9.17</td>\n",
       "      <td>12.74</td>\n",
       "      <td>15.61</td>\n",
       "      <td>30.17</td>\n",
       "    </tr>\n",
       "    <tr>\n",
       "      <th>house</th>\n",
       "      <td>66.00</td>\n",
       "      <td>16.23</td>\n",
       "      <td>5.71</td>\n",
       "      <td>5.32</td>\n",
       "      <td>12.29</td>\n",
       "      <td>15.50</td>\n",
       "      <td>20.36</td>\n",
       "      <td>26.57</td>\n",
       "    </tr>\n",
       "    <tr>\n",
       "      <th>major_purchase</th>\n",
       "      <td>251.00</td>\n",
       "      <td>12.70</td>\n",
       "      <td>4.88</td>\n",
       "      <td>5.32</td>\n",
       "      <td>8.92</td>\n",
       "      <td>12.39</td>\n",
       "      <td>14.85</td>\n",
       "      <td>30.84</td>\n",
       "    </tr>\n",
       "    <tr>\n",
       "      <th>medical</th>\n",
       "      <td>159.00</td>\n",
       "      <td>13.45</td>\n",
       "      <td>4.92</td>\n",
       "      <td>5.31</td>\n",
       "      <td>9.99</td>\n",
       "      <td>12.99</td>\n",
       "      <td>16.88</td>\n",
       "      <td>26.77</td>\n",
       "    </tr>\n",
       "    <tr>\n",
       "      <th>moving</th>\n",
       "      <td>88.00</td>\n",
       "      <td>15.46</td>\n",
       "      <td>4.69</td>\n",
       "      <td>6.67</td>\n",
       "      <td>11.99</td>\n",
       "      <td>14.82</td>\n",
       "      <td>18.62</td>\n",
       "      <td>24.99</td>\n",
       "    </tr>\n",
       "    <tr>\n",
       "      <th>other</th>\n",
       "      <td>784.00</td>\n",
       "      <td>14.65</td>\n",
       "      <td>5.18</td>\n",
       "      <td>5.32</td>\n",
       "      <td>10.99</td>\n",
       "      <td>14.05</td>\n",
       "      <td>17.99</td>\n",
       "      <td>30.99</td>\n",
       "    </tr>\n",
       "    <tr>\n",
       "      <th>renewable_energy</th>\n",
       "      <td>8.00</td>\n",
       "      <td>15.22</td>\n",
       "      <td>4.38</td>\n",
       "      <td>11.49</td>\n",
       "      <td>12.01</td>\n",
       "      <td>14.12</td>\n",
       "      <td>16.61</td>\n",
       "      <td>24.50</td>\n",
       "    </tr>\n",
       "    <tr>\n",
       "      <th>small_business</th>\n",
       "      <td>153.00</td>\n",
       "      <td>15.85</td>\n",
       "      <td>5.25</td>\n",
       "      <td>5.32</td>\n",
       "      <td>11.99</td>\n",
       "      <td>15.80</td>\n",
       "      <td>19.24</td>\n",
       "      <td>29.96</td>\n",
       "    </tr>\n",
       "    <tr>\n",
       "      <th>vacation</th>\n",
       "      <td>89.00</td>\n",
       "      <td>13.51</td>\n",
       "      <td>4.03</td>\n",
       "      <td>5.32</td>\n",
       "      <td>10.99</td>\n",
       "      <td>13.33</td>\n",
       "      <td>15.61</td>\n",
       "      <td>24.84</td>\n",
       "    </tr>\n",
       "    <tr>\n",
       "      <th>wedding</th>\n",
       "      <td>18.00</td>\n",
       "      <td>15.59</td>\n",
       "      <td>5.64</td>\n",
       "      <td>6.99</td>\n",
       "      <td>11.41</td>\n",
       "      <td>16.07</td>\n",
       "      <td>19.37</td>\n",
       "      <td>25.89</td>\n",
       "    </tr>\n",
       "  </tbody>\n",
       "</table>\n",
       "</div>"
      ],
      "text/plain": [
       "                      count  mean  std   min   25%   50%   75%   max\n",
       "purpose                                                             \n",
       "car                  121.00 11.80 4.13  5.32  9.16 11.48 13.98 24.99\n",
       "credit_card        2,979.00 11.69 4.24  5.31  8.19 11.22 13.99 30.79\n",
       "debt_consolidation 7,943.00 13.72 4.75  5.31 10.42 13.11 16.59 30.99\n",
       "educational            6.00 11.56 3.02  6.00 11.11 12.26 13.21 14.59\n",
       "home_improvement     881.00 12.89 4.68  5.32  9.17 12.74 15.61 30.17\n",
       "house                 66.00 16.23 5.71  5.32 12.29 15.50 20.36 26.57\n",
       "major_purchase       251.00 12.70 4.88  5.32  8.92 12.39 14.85 30.84\n",
       "medical              159.00 13.45 4.92  5.31  9.99 12.99 16.88 26.77\n",
       "moving                88.00 15.46 4.69  6.67 11.99 14.82 18.62 24.99\n",
       "other                784.00 14.65 5.18  5.32 10.99 14.05 17.99 30.99\n",
       "renewable_energy       8.00 15.22 4.38 11.49 12.01 14.12 16.61 24.50\n",
       "small_business       153.00 15.85 5.25  5.32 11.99 15.80 19.24 29.96\n",
       "vacation              89.00 13.51 4.03  5.32 10.99 13.33 15.61 24.84\n",
       "wedding               18.00 15.59 5.64  6.99 11.41 16.07 19.37 25.89"
      ]
     },
     "execution_count": 316,
     "metadata": {},
     "output_type": "execute_result"
    }
   ],
   "source": [
    "loans.groupby('purpose')['int_rate'].describe()"
   ]
  },
  {
   "cell_type": "code",
   "execution_count": 317,
   "metadata": {},
   "outputs": [
    {
     "data": {
      "text/html": [
       "<div>\n",
       "<style scoped>\n",
       "    .dataframe tbody tr th:only-of-type {\n",
       "        vertical-align: middle;\n",
       "    }\n",
       "\n",
       "    .dataframe tbody tr th {\n",
       "        vertical-align: top;\n",
       "    }\n",
       "\n",
       "    .dataframe thead th {\n",
       "        text-align: right;\n",
       "    }\n",
       "</style>\n",
       "<table border=\"1\" class=\"dataframe\">\n",
       "  <thead>\n",
       "    <tr style=\"text-align: right;\">\n",
       "      <th></th>\n",
       "      <th>count</th>\n",
       "      <th>mean</th>\n",
       "      <th>std</th>\n",
       "      <th>min</th>\n",
       "      <th>25%</th>\n",
       "      <th>50%</th>\n",
       "      <th>75%</th>\n",
       "      <th>max</th>\n",
       "    </tr>\n",
       "    <tr>\n",
       "      <th>sub_grade</th>\n",
       "      <th></th>\n",
       "      <th></th>\n",
       "      <th></th>\n",
       "      <th></th>\n",
       "      <th></th>\n",
       "      <th></th>\n",
       "      <th></th>\n",
       "      <th></th>\n",
       "    </tr>\n",
       "  </thead>\n",
       "  <tbody>\n",
       "    <tr>\n",
       "      <th>A1</th>\n",
       "      <td>419.00</td>\n",
       "      <td>5.54</td>\n",
       "      <td>0.33</td>\n",
       "      <td>5.31</td>\n",
       "      <td>5.32</td>\n",
       "      <td>5.32</td>\n",
       "      <td>6.03</td>\n",
       "      <td>6.39</td>\n",
       "    </tr>\n",
       "    <tr>\n",
       "      <th>A2</th>\n",
       "      <td>398.00</td>\n",
       "      <td>6.52</td>\n",
       "      <td>0.29</td>\n",
       "      <td>5.79</td>\n",
       "      <td>6.24</td>\n",
       "      <td>6.49</td>\n",
       "      <td>6.62</td>\n",
       "      <td>7.68</td>\n",
       "    </tr>\n",
       "    <tr>\n",
       "      <th>A3</th>\n",
       "      <td>386.00</td>\n",
       "      <td>7.13</td>\n",
       "      <td>0.34</td>\n",
       "      <td>6.17</td>\n",
       "      <td>6.89</td>\n",
       "      <td>6.99</td>\n",
       "      <td>7.55</td>\n",
       "      <td>8.00</td>\n",
       "    </tr>\n",
       "    <tr>\n",
       "      <th>A4</th>\n",
       "      <td>492.00</td>\n",
       "      <td>7.51</td>\n",
       "      <td>0.36</td>\n",
       "      <td>6.00</td>\n",
       "      <td>7.26</td>\n",
       "      <td>7.49</td>\n",
       "      <td>7.86</td>\n",
       "      <td>9.32</td>\n",
       "    </tr>\n",
       "    <tr>\n",
       "      <th>A5</th>\n",
       "      <td>644.00</td>\n",
       "      <td>8.22</td>\n",
       "      <td>0.41</td>\n",
       "      <td>6.91</td>\n",
       "      <td>7.89</td>\n",
       "      <td>7.97</td>\n",
       "      <td>8.46</td>\n",
       "      <td>9.63</td>\n",
       "    </tr>\n",
       "    <tr>\n",
       "      <th>B1</th>\n",
       "      <td>703.00</td>\n",
       "      <td>8.93</td>\n",
       "      <td>0.69</td>\n",
       "      <td>8.18</td>\n",
       "      <td>8.24</td>\n",
       "      <td>8.67</td>\n",
       "      <td>9.44</td>\n",
       "      <td>11.14</td>\n",
       "    </tr>\n",
       "    <tr>\n",
       "      <th>B2</th>\n",
       "      <td>730.00</td>\n",
       "      <td>9.88</td>\n",
       "      <td>0.73</td>\n",
       "      <td>9.16</td>\n",
       "      <td>9.17</td>\n",
       "      <td>9.62</td>\n",
       "      <td>10.49</td>\n",
       "      <td>11.48</td>\n",
       "    </tr>\n",
       "    <tr>\n",
       "      <th>B3</th>\n",
       "      <td>866.00</td>\n",
       "      <td>10.79</td>\n",
       "      <td>0.87</td>\n",
       "      <td>9.75</td>\n",
       "      <td>9.99</td>\n",
       "      <td>10.49</td>\n",
       "      <td>11.71</td>\n",
       "      <td>12.12</td>\n",
       "    </tr>\n",
       "    <tr>\n",
       "      <th>B4</th>\n",
       "      <td>834.00</td>\n",
       "      <td>11.47</td>\n",
       "      <td>0.79</td>\n",
       "      <td>9.64</td>\n",
       "      <td>10.91</td>\n",
       "      <td>10.99</td>\n",
       "      <td>11.67</td>\n",
       "      <td>13.11</td>\n",
       "    </tr>\n",
       "    <tr>\n",
       "      <th>B5</th>\n",
       "      <td>835.00</td>\n",
       "      <td>12.03</td>\n",
       "      <td>0.76</td>\n",
       "      <td>10.36</td>\n",
       "      <td>11.49</td>\n",
       "      <td>11.53</td>\n",
       "      <td>12.49</td>\n",
       "      <td>14.09</td>\n",
       "    </tr>\n",
       "    <tr>\n",
       "      <th>C1</th>\n",
       "      <td>867.00</td>\n",
       "      <td>12.76</td>\n",
       "      <td>0.70</td>\n",
       "      <td>11.03</td>\n",
       "      <td>12.29</td>\n",
       "      <td>12.62</td>\n",
       "      <td>12.99</td>\n",
       "      <td>14.33</td>\n",
       "    </tr>\n",
       "    <tr>\n",
       "      <th>C2</th>\n",
       "      <td>783.00</td>\n",
       "      <td>13.46</td>\n",
       "      <td>0.78</td>\n",
       "      <td>12.09</td>\n",
       "      <td>12.88</td>\n",
       "      <td>13.35</td>\n",
       "      <td>13.59</td>\n",
       "      <td>15.31</td>\n",
       "    </tr>\n",
       "    <tr>\n",
       "      <th>C3</th>\n",
       "      <td>752.00</td>\n",
       "      <td>13.97</td>\n",
       "      <td>0.76</td>\n",
       "      <td>6.00</td>\n",
       "      <td>13.33</td>\n",
       "      <td>13.98</td>\n",
       "      <td>14.08</td>\n",
       "      <td>15.80</td>\n",
       "    </tr>\n",
       "    <tr>\n",
       "      <th>C4</th>\n",
       "      <td>743.00</td>\n",
       "      <td>14.72</td>\n",
       "      <td>0.76</td>\n",
       "      <td>13.47</td>\n",
       "      <td>13.99</td>\n",
       "      <td>14.49</td>\n",
       "      <td>15.05</td>\n",
       "      <td>16.29</td>\n",
       "    </tr>\n",
       "    <tr>\n",
       "      <th>C5</th>\n",
       "      <td>606.00</td>\n",
       "      <td>15.49</td>\n",
       "      <td>0.78</td>\n",
       "      <td>13.72</td>\n",
       "      <td>14.85</td>\n",
       "      <td>15.31</td>\n",
       "      <td>16.02</td>\n",
       "      <td>17.27</td>\n",
       "    </tr>\n",
       "    <tr>\n",
       "      <th>D1</th>\n",
       "      <td>527.00</td>\n",
       "      <td>16.40</td>\n",
       "      <td>0.83</td>\n",
       "      <td>14.59</td>\n",
       "      <td>15.61</td>\n",
       "      <td>16.29</td>\n",
       "      <td>16.99</td>\n",
       "      <td>17.97</td>\n",
       "    </tr>\n",
       "    <tr>\n",
       "      <th>D2</th>\n",
       "      <td>473.00</td>\n",
       "      <td>17.32</td>\n",
       "      <td>0.90</td>\n",
       "      <td>13.17</td>\n",
       "      <td>16.55</td>\n",
       "      <td>17.57</td>\n",
       "      <td>18.06</td>\n",
       "      <td>18.94</td>\n",
       "    </tr>\n",
       "    <tr>\n",
       "      <th>D3</th>\n",
       "      <td>416.00</td>\n",
       "      <td>17.99</td>\n",
       "      <td>1.20</td>\n",
       "      <td>6.00</td>\n",
       "      <td>16.99</td>\n",
       "      <td>18.25</td>\n",
       "      <td>18.99</td>\n",
       "      <td>19.92</td>\n",
       "    </tr>\n",
       "    <tr>\n",
       "      <th>D4</th>\n",
       "      <td>372.00</td>\n",
       "      <td>18.57</td>\n",
       "      <td>1.13</td>\n",
       "      <td>15.95</td>\n",
       "      <td>17.57</td>\n",
       "      <td>18.92</td>\n",
       "      <td>19.99</td>\n",
       "      <td>20.89</td>\n",
       "    </tr>\n",
       "    <tr>\n",
       "      <th>D5</th>\n",
       "      <td>281.00</td>\n",
       "      <td>19.36</td>\n",
       "      <td>1.50</td>\n",
       "      <td>16.07</td>\n",
       "      <td>17.86</td>\n",
       "      <td>19.47</td>\n",
       "      <td>20.31</td>\n",
       "      <td>22.35</td>\n",
       "    </tr>\n",
       "    <tr>\n",
       "      <th>E1</th>\n",
       "      <td>268.00</td>\n",
       "      <td>19.62</td>\n",
       "      <td>1.54</td>\n",
       "      <td>15.95</td>\n",
       "      <td>18.25</td>\n",
       "      <td>18.99</td>\n",
       "      <td>20.49</td>\n",
       "      <td>22.91</td>\n",
       "    </tr>\n",
       "    <tr>\n",
       "      <th>E2</th>\n",
       "      <td>220.00</td>\n",
       "      <td>20.49</td>\n",
       "      <td>1.94</td>\n",
       "      <td>16.00</td>\n",
       "      <td>18.84</td>\n",
       "      <td>20.49</td>\n",
       "      <td>21.48</td>\n",
       "      <td>24.37</td>\n",
       "    </tr>\n",
       "    <tr>\n",
       "      <th>E3</th>\n",
       "      <td>198.00</td>\n",
       "      <td>21.52</td>\n",
       "      <td>2.13</td>\n",
       "      <td>18.99</td>\n",
       "      <td>19.91</td>\n",
       "      <td>21.18</td>\n",
       "      <td>24.49</td>\n",
       "      <td>25.34</td>\n",
       "    </tr>\n",
       "    <tr>\n",
       "      <th>E4</th>\n",
       "      <td>170.00</td>\n",
       "      <td>22.10</td>\n",
       "      <td>2.18</td>\n",
       "      <td>16.63</td>\n",
       "      <td>20.49</td>\n",
       "      <td>21.97</td>\n",
       "      <td>23.10</td>\n",
       "      <td>26.31</td>\n",
       "    </tr>\n",
       "    <tr>\n",
       "      <th>E5</th>\n",
       "      <td>149.00</td>\n",
       "      <td>23.10</td>\n",
       "      <td>2.19</td>\n",
       "      <td>16.95</td>\n",
       "      <td>21.67</td>\n",
       "      <td>22.45</td>\n",
       "      <td>25.29</td>\n",
       "      <td>27.27</td>\n",
       "    </tr>\n",
       "    <tr>\n",
       "      <th>F1</th>\n",
       "      <td>112.00</td>\n",
       "      <td>24.35</td>\n",
       "      <td>2.65</td>\n",
       "      <td>18.30</td>\n",
       "      <td>22.95</td>\n",
       "      <td>23.43</td>\n",
       "      <td>25.69</td>\n",
       "      <td>28.72</td>\n",
       "    </tr>\n",
       "    <tr>\n",
       "      <th>F2</th>\n",
       "      <td>68.00</td>\n",
       "      <td>24.38</td>\n",
       "      <td>2.09</td>\n",
       "      <td>21.28</td>\n",
       "      <td>22.99</td>\n",
       "      <td>23.99</td>\n",
       "      <td>24.11</td>\n",
       "      <td>29.69</td>\n",
       "    </tr>\n",
       "    <tr>\n",
       "      <th>F3</th>\n",
       "      <td>66.00</td>\n",
       "      <td>25.08</td>\n",
       "      <td>2.03</td>\n",
       "      <td>21.67</td>\n",
       "      <td>24.12</td>\n",
       "      <td>24.50</td>\n",
       "      <td>24.50</td>\n",
       "      <td>30.17</td>\n",
       "    </tr>\n",
       "    <tr>\n",
       "      <th>F4</th>\n",
       "      <td>42.00</td>\n",
       "      <td>25.96</td>\n",
       "      <td>2.28</td>\n",
       "      <td>23.76</td>\n",
       "      <td>24.99</td>\n",
       "      <td>24.99</td>\n",
       "      <td>25.88</td>\n",
       "      <td>30.65</td>\n",
       "    </tr>\n",
       "    <tr>\n",
       "      <th>F5</th>\n",
       "      <td>37.00</td>\n",
       "      <td>26.84</td>\n",
       "      <td>2.28</td>\n",
       "      <td>23.33</td>\n",
       "      <td>25.57</td>\n",
       "      <td>25.78</td>\n",
       "      <td>27.79</td>\n",
       "      <td>30.75</td>\n",
       "    </tr>\n",
       "    <tr>\n",
       "      <th>G1</th>\n",
       "      <td>33.00</td>\n",
       "      <td>27.07</td>\n",
       "      <td>2.22</td>\n",
       "      <td>22.74</td>\n",
       "      <td>25.80</td>\n",
       "      <td>26.77</td>\n",
       "      <td>28.18</td>\n",
       "      <td>30.79</td>\n",
       "    </tr>\n",
       "    <tr>\n",
       "      <th>G2</th>\n",
       "      <td>20.00</td>\n",
       "      <td>26.25</td>\n",
       "      <td>2.16</td>\n",
       "      <td>20.48</td>\n",
       "      <td>25.83</td>\n",
       "      <td>25.83</td>\n",
       "      <td>27.31</td>\n",
       "      <td>30.84</td>\n",
       "    </tr>\n",
       "    <tr>\n",
       "      <th>G3</th>\n",
       "      <td>16.00</td>\n",
       "      <td>28.10</td>\n",
       "      <td>2.40</td>\n",
       "      <td>24.89</td>\n",
       "      <td>25.89</td>\n",
       "      <td>27.88</td>\n",
       "      <td>30.89</td>\n",
       "      <td>30.89</td>\n",
       "    </tr>\n",
       "    <tr>\n",
       "      <th>G4</th>\n",
       "      <td>13.00</td>\n",
       "      <td>26.80</td>\n",
       "      <td>2.40</td>\n",
       "      <td>20.77</td>\n",
       "      <td>25.99</td>\n",
       "      <td>25.99</td>\n",
       "      <td>28.49</td>\n",
       "      <td>29.96</td>\n",
       "    </tr>\n",
       "    <tr>\n",
       "      <th>G5</th>\n",
       "      <td>7.00</td>\n",
       "      <td>29.30</td>\n",
       "      <td>2.33</td>\n",
       "      <td>26.06</td>\n",
       "      <td>27.52</td>\n",
       "      <td>30.99</td>\n",
       "      <td>30.99</td>\n",
       "      <td>30.99</td>\n",
       "    </tr>\n",
       "  </tbody>\n",
       "</table>\n",
       "</div>"
      ],
      "text/plain": [
       "           count  mean  std   min   25%   50%   75%   max\n",
       "sub_grade                                                \n",
       "A1        419.00  5.54 0.33  5.31  5.32  5.32  6.03  6.39\n",
       "A2        398.00  6.52 0.29  5.79  6.24  6.49  6.62  7.68\n",
       "A3        386.00  7.13 0.34  6.17  6.89  6.99  7.55  8.00\n",
       "A4        492.00  7.51 0.36  6.00  7.26  7.49  7.86  9.32\n",
       "A5        644.00  8.22 0.41  6.91  7.89  7.97  8.46  9.63\n",
       "B1        703.00  8.93 0.69  8.18  8.24  8.67  9.44 11.14\n",
       "B2        730.00  9.88 0.73  9.16  9.17  9.62 10.49 11.48\n",
       "B3        866.00 10.79 0.87  9.75  9.99 10.49 11.71 12.12\n",
       "B4        834.00 11.47 0.79  9.64 10.91 10.99 11.67 13.11\n",
       "B5        835.00 12.03 0.76 10.36 11.49 11.53 12.49 14.09\n",
       "C1        867.00 12.76 0.70 11.03 12.29 12.62 12.99 14.33\n",
       "C2        783.00 13.46 0.78 12.09 12.88 13.35 13.59 15.31\n",
       "C3        752.00 13.97 0.76  6.00 13.33 13.98 14.08 15.80\n",
       "C4        743.00 14.72 0.76 13.47 13.99 14.49 15.05 16.29\n",
       "C5        606.00 15.49 0.78 13.72 14.85 15.31 16.02 17.27\n",
       "D1        527.00 16.40 0.83 14.59 15.61 16.29 16.99 17.97\n",
       "D2        473.00 17.32 0.90 13.17 16.55 17.57 18.06 18.94\n",
       "D3        416.00 17.99 1.20  6.00 16.99 18.25 18.99 19.92\n",
       "D4        372.00 18.57 1.13 15.95 17.57 18.92 19.99 20.89\n",
       "D5        281.00 19.36 1.50 16.07 17.86 19.47 20.31 22.35\n",
       "E1        268.00 19.62 1.54 15.95 18.25 18.99 20.49 22.91\n",
       "E2        220.00 20.49 1.94 16.00 18.84 20.49 21.48 24.37\n",
       "E3        198.00 21.52 2.13 18.99 19.91 21.18 24.49 25.34\n",
       "E4        170.00 22.10 2.18 16.63 20.49 21.97 23.10 26.31\n",
       "E5        149.00 23.10 2.19 16.95 21.67 22.45 25.29 27.27\n",
       "F1        112.00 24.35 2.65 18.30 22.95 23.43 25.69 28.72\n",
       "F2         68.00 24.38 2.09 21.28 22.99 23.99 24.11 29.69\n",
       "F3         66.00 25.08 2.03 21.67 24.12 24.50 24.50 30.17\n",
       "F4         42.00 25.96 2.28 23.76 24.99 24.99 25.88 30.65\n",
       "F5         37.00 26.84 2.28 23.33 25.57 25.78 27.79 30.75\n",
       "G1         33.00 27.07 2.22 22.74 25.80 26.77 28.18 30.79\n",
       "G2         20.00 26.25 2.16 20.48 25.83 25.83 27.31 30.84\n",
       "G3         16.00 28.10 2.40 24.89 25.89 27.88 30.89 30.89\n",
       "G4         13.00 26.80 2.40 20.77 25.99 25.99 28.49 29.96\n",
       "G5          7.00 29.30 2.33 26.06 27.52 30.99 30.99 30.99"
      ]
     },
     "execution_count": 317,
     "metadata": {},
     "output_type": "execute_result"
    }
   ],
   "source": [
    "loans.groupby('sub_grade')['int_rate'].describe()"
   ]
  },
  {
   "cell_type": "code",
   "execution_count": null,
   "metadata": {},
   "outputs": [],
   "source": []
  },
  {
   "cell_type": "markdown",
   "metadata": {},
   "source": [
    "#### Installment"
   ]
  },
  {
   "cell_type": "code",
   "execution_count": 318,
   "metadata": {},
   "outputs": [
    {
     "data": {
      "text/plain": [
       "count   13,546.00\n",
       "mean       436.89\n",
       "std        259.15\n",
       "min         30.54\n",
       "25%        249.33\n",
       "50%        375.51\n",
       "75%        577.37\n",
       "max      1,502.92\n",
       "Name: installment, dtype: float64"
      ]
     },
     "execution_count": 318,
     "metadata": {},
     "output_type": "execute_result"
    }
   ],
   "source": [
    "loans['installment'].describe()"
   ]
  },
  {
   "cell_type": "code",
   "execution_count": 319,
   "metadata": {},
   "outputs": [
    {
     "data": {
      "text/html": [
       "<div>\n",
       "<style scoped>\n",
       "    .dataframe tbody tr th:only-of-type {\n",
       "        vertical-align: middle;\n",
       "    }\n",
       "\n",
       "    .dataframe tbody tr th {\n",
       "        vertical-align: top;\n",
       "    }\n",
       "\n",
       "    .dataframe thead th {\n",
       "        text-align: right;\n",
       "    }\n",
       "</style>\n",
       "<table border=\"1\" class=\"dataframe\">\n",
       "  <thead>\n",
       "    <tr style=\"text-align: right;\">\n",
       "      <th></th>\n",
       "      <th>count</th>\n",
       "      <th>mean</th>\n",
       "      <th>std</th>\n",
       "      <th>min</th>\n",
       "      <th>25%</th>\n",
       "      <th>50%</th>\n",
       "      <th>75%</th>\n",
       "      <th>max</th>\n",
       "    </tr>\n",
       "    <tr>\n",
       "      <th>loan_status</th>\n",
       "      <th></th>\n",
       "      <th></th>\n",
       "      <th></th>\n",
       "      <th></th>\n",
       "      <th></th>\n",
       "      <th></th>\n",
       "      <th></th>\n",
       "      <th></th>\n",
       "    </tr>\n",
       "  </thead>\n",
       "  <tbody>\n",
       "    <tr>\n",
       "      <th>Charged Off</th>\n",
       "      <td>2,713.00</td>\n",
       "      <td>454.37</td>\n",
       "      <td>256.70</td>\n",
       "      <td>32.50</td>\n",
       "      <td>268.75</td>\n",
       "      <td>393.56</td>\n",
       "      <td>589.90</td>\n",
       "      <td>1,502.92</td>\n",
       "    </tr>\n",
       "    <tr>\n",
       "      <th>Fully Paid</th>\n",
       "      <td>10,833.00</td>\n",
       "      <td>432.51</td>\n",
       "      <td>259.59</td>\n",
       "      <td>30.54</td>\n",
       "      <td>242.63</td>\n",
       "      <td>370.37</td>\n",
       "      <td>573.74</td>\n",
       "      <td>1,476.89</td>\n",
       "    </tr>\n",
       "  </tbody>\n",
       "</table>\n",
       "</div>"
      ],
      "text/plain": [
       "                count   mean    std   min    25%    50%    75%      max\n",
       "loan_status                                                            \n",
       "Charged Off  2,713.00 454.37 256.70 32.50 268.75 393.56 589.90 1,502.92\n",
       "Fully Paid  10,833.00 432.51 259.59 30.54 242.63 370.37 573.74 1,476.89"
      ]
     },
     "execution_count": 319,
     "metadata": {},
     "output_type": "execute_result"
    }
   ],
   "source": [
    "loans.groupby('loan_status')['installment'].describe()"
   ]
  },
  {
   "cell_type": "code",
   "execution_count": null,
   "metadata": {},
   "outputs": [],
   "source": []
  },
  {
   "cell_type": "markdown",
   "metadata": {},
   "source": [
    "#### Annual Income"
   ]
  },
  {
   "cell_type": "code",
   "execution_count": 320,
   "metadata": {},
   "outputs": [
    {
     "data": {
      "text/plain": [
       "count      13,546.00\n",
       "mean       75,703.81\n",
       "std        62,168.72\n",
       "min             0.00\n",
       "25%        46,000.00\n",
       "50%        65,000.00\n",
       "75%        90,000.00\n",
       "max     4,200,000.00\n",
       "Name: annual_inc, dtype: float64"
      ]
     },
     "execution_count": 320,
     "metadata": {},
     "output_type": "execute_result"
    }
   ],
   "source": [
    "loans['annual_inc'].describe()"
   ]
  },
  {
   "cell_type": "code",
   "execution_count": 321,
   "metadata": {},
   "outputs": [],
   "source": [
    "loans['log_annual_inc'] = loans['annual_inc'].apply(lambda x: np.log10(x+1))"
   ]
  },
  {
   "cell_type": "code",
   "execution_count": 322,
   "metadata": {},
   "outputs": [],
   "source": [
    "loans.drop('annual_inc', axis=1, inplace=True)"
   ]
  },
  {
   "cell_type": "code",
   "execution_count": 323,
   "metadata": {},
   "outputs": [
    {
     "data": {
      "text/plain": [
       "count   13,546.00\n",
       "mean         4.81\n",
       "std          0.23\n",
       "min          0.00\n",
       "25%          4.66\n",
       "50%          4.81\n",
       "75%          4.95\n",
       "max          6.62\n",
       "Name: log_annual_inc, dtype: float64"
      ]
     },
     "execution_count": 323,
     "metadata": {},
     "output_type": "execute_result"
    }
   ],
   "source": [
    "loans['log_annual_inc'].describe()"
   ]
  },
  {
   "cell_type": "code",
   "execution_count": 324,
   "metadata": {},
   "outputs": [
    {
     "data": {
      "text/html": [
       "<div>\n",
       "<style scoped>\n",
       "    .dataframe tbody tr th:only-of-type {\n",
       "        vertical-align: middle;\n",
       "    }\n",
       "\n",
       "    .dataframe tbody tr th {\n",
       "        vertical-align: top;\n",
       "    }\n",
       "\n",
       "    .dataframe thead th {\n",
       "        text-align: right;\n",
       "    }\n",
       "</style>\n",
       "<table border=\"1\" class=\"dataframe\">\n",
       "  <thead>\n",
       "    <tr style=\"text-align: right;\">\n",
       "      <th></th>\n",
       "      <th>count</th>\n",
       "      <th>mean</th>\n",
       "      <th>std</th>\n",
       "      <th>min</th>\n",
       "      <th>25%</th>\n",
       "      <th>50%</th>\n",
       "      <th>75%</th>\n",
       "      <th>max</th>\n",
       "    </tr>\n",
       "    <tr>\n",
       "      <th>loan_status</th>\n",
       "      <th></th>\n",
       "      <th></th>\n",
       "      <th></th>\n",
       "      <th></th>\n",
       "      <th></th>\n",
       "      <th></th>\n",
       "      <th></th>\n",
       "      <th></th>\n",
       "    </tr>\n",
       "  </thead>\n",
       "  <tbody>\n",
       "    <tr>\n",
       "      <th>Charged Off</th>\n",
       "      <td>2,713.00</td>\n",
       "      <td>4.78</td>\n",
       "      <td>0.22</td>\n",
       "      <td>3.30</td>\n",
       "      <td>4.64</td>\n",
       "      <td>4.78</td>\n",
       "      <td>4.92</td>\n",
       "      <td>5.72</td>\n",
       "    </tr>\n",
       "    <tr>\n",
       "      <th>Fully Paid</th>\n",
       "      <td>10,833.00</td>\n",
       "      <td>4.82</td>\n",
       "      <td>0.24</td>\n",
       "      <td>0.00</td>\n",
       "      <td>4.67</td>\n",
       "      <td>4.81</td>\n",
       "      <td>4.97</td>\n",
       "      <td>6.62</td>\n",
       "    </tr>\n",
       "  </tbody>\n",
       "</table>\n",
       "</div>"
      ],
      "text/plain": [
       "                count  mean  std  min  25%  50%  75%  max\n",
       "loan_status                                              \n",
       "Charged Off  2,713.00  4.78 0.22 3.30 4.64 4.78 4.92 5.72\n",
       "Fully Paid  10,833.00  4.82 0.24 0.00 4.67 4.81 4.97 6.62"
      ]
     },
     "execution_count": 324,
     "metadata": {},
     "output_type": "execute_result"
    }
   ],
   "source": [
    "loans.groupby('loan_status')['log_annual_inc'].describe()"
   ]
  },
  {
   "cell_type": "code",
   "execution_count": null,
   "metadata": {},
   "outputs": [],
   "source": []
  },
  {
   "cell_type": "markdown",
   "metadata": {},
   "source": [
    "#### Debt to Income ratio"
   ]
  },
  {
   "cell_type": "code",
   "execution_count": 325,
   "metadata": {},
   "outputs": [
    {
     "data": {
      "text/plain": [
       "count   13,545.00\n",
       "mean        18.30\n",
       "std         11.21\n",
       "min          0.00\n",
       "25%         11.85\n",
       "50%         17.61\n",
       "75%         23.94\n",
       "max        831.97\n",
       "Name: dti, dtype: float64"
      ]
     },
     "execution_count": 325,
     "metadata": {},
     "output_type": "execute_result"
    }
   ],
   "source": [
    "loans['dti'].describe()"
   ]
  },
  {
   "cell_type": "code",
   "execution_count": 326,
   "metadata": {},
   "outputs": [
    {
     "data": {
      "text/html": [
       "<div>\n",
       "<style scoped>\n",
       "    .dataframe tbody tr th:only-of-type {\n",
       "        vertical-align: middle;\n",
       "    }\n",
       "\n",
       "    .dataframe tbody tr th {\n",
       "        vertical-align: top;\n",
       "    }\n",
       "\n",
       "    .dataframe thead th {\n",
       "        text-align: right;\n",
       "    }\n",
       "</style>\n",
       "<table border=\"1\" class=\"dataframe\">\n",
       "  <thead>\n",
       "    <tr style=\"text-align: right;\">\n",
       "      <th></th>\n",
       "      <th>count</th>\n",
       "      <th>mean</th>\n",
       "      <th>std</th>\n",
       "      <th>min</th>\n",
       "      <th>25%</th>\n",
       "      <th>50%</th>\n",
       "      <th>75%</th>\n",
       "      <th>max</th>\n",
       "    </tr>\n",
       "    <tr>\n",
       "      <th>loan_status</th>\n",
       "      <th></th>\n",
       "      <th></th>\n",
       "      <th></th>\n",
       "      <th></th>\n",
       "      <th></th>\n",
       "      <th></th>\n",
       "      <th></th>\n",
       "      <th></th>\n",
       "    </tr>\n",
       "  </thead>\n",
       "  <tbody>\n",
       "    <tr>\n",
       "      <th>Charged Off</th>\n",
       "      <td>2,713.00</td>\n",
       "      <td>20.18</td>\n",
       "      <td>17.90</td>\n",
       "      <td>0.71</td>\n",
       "      <td>13.65</td>\n",
       "      <td>19.45</td>\n",
       "      <td>25.67</td>\n",
       "      <td>831.97</td>\n",
       "    </tr>\n",
       "    <tr>\n",
       "      <th>Fully Paid</th>\n",
       "      <td>10,832.00</td>\n",
       "      <td>17.83</td>\n",
       "      <td>8.71</td>\n",
       "      <td>0.00</td>\n",
       "      <td>11.43</td>\n",
       "      <td>17.14</td>\n",
       "      <td>23.41</td>\n",
       "      <td>137.70</td>\n",
       "    </tr>\n",
       "  </tbody>\n",
       "</table>\n",
       "</div>"
      ],
      "text/plain": [
       "                count  mean   std  min   25%   50%   75%    max\n",
       "loan_status                                                    \n",
       "Charged Off  2,713.00 20.18 17.90 0.71 13.65 19.45 25.67 831.97\n",
       "Fully Paid  10,832.00 17.83  8.71 0.00 11.43 17.14 23.41 137.70"
      ]
     },
     "execution_count": 326,
     "metadata": {},
     "output_type": "execute_result"
    }
   ],
   "source": [
    "loans.groupby('loan_status')['dti'].describe()"
   ]
  },
  {
   "cell_type": "code",
   "execution_count": null,
   "metadata": {},
   "outputs": [],
   "source": []
  },
  {
   "cell_type": "markdown",
   "metadata": {},
   "source": [
    "#### FICO range"
   ]
  },
  {
   "cell_type": "code",
   "execution_count": 327,
   "metadata": {},
   "outputs": [
    {
     "data": {
      "text/html": [
       "<div>\n",
       "<style scoped>\n",
       "    .dataframe tbody tr th:only-of-type {\n",
       "        vertical-align: middle;\n",
       "    }\n",
       "\n",
       "    .dataframe tbody tr th {\n",
       "        vertical-align: top;\n",
       "    }\n",
       "\n",
       "    .dataframe thead th {\n",
       "        text-align: right;\n",
       "    }\n",
       "</style>\n",
       "<table border=\"1\" class=\"dataframe\">\n",
       "  <thead>\n",
       "    <tr style=\"text-align: right;\">\n",
       "      <th></th>\n",
       "      <th>fico_range_low</th>\n",
       "      <th>fico_range_high</th>\n",
       "    </tr>\n",
       "  </thead>\n",
       "  <tbody>\n",
       "    <tr>\n",
       "      <th>count</th>\n",
       "      <td>13,546.00</td>\n",
       "      <td>13,546.00</td>\n",
       "    </tr>\n",
       "    <tr>\n",
       "      <th>mean</th>\n",
       "      <td>696.15</td>\n",
       "      <td>700.16</td>\n",
       "    </tr>\n",
       "    <tr>\n",
       "      <th>std</th>\n",
       "      <td>31.55</td>\n",
       "      <td>31.55</td>\n",
       "    </tr>\n",
       "    <tr>\n",
       "      <th>min</th>\n",
       "      <td>660.00</td>\n",
       "      <td>664.00</td>\n",
       "    </tr>\n",
       "    <tr>\n",
       "      <th>25%</th>\n",
       "      <td>670.00</td>\n",
       "      <td>674.00</td>\n",
       "    </tr>\n",
       "    <tr>\n",
       "      <th>50%</th>\n",
       "      <td>690.00</td>\n",
       "      <td>694.00</td>\n",
       "    </tr>\n",
       "    <tr>\n",
       "      <th>75%</th>\n",
       "      <td>710.00</td>\n",
       "      <td>714.00</td>\n",
       "    </tr>\n",
       "    <tr>\n",
       "      <th>max</th>\n",
       "      <td>845.00</td>\n",
       "      <td>850.00</td>\n",
       "    </tr>\n",
       "  </tbody>\n",
       "</table>\n",
       "</div>"
      ],
      "text/plain": [
       "       fico_range_low  fico_range_high\n",
       "count       13,546.00        13,546.00\n",
       "mean           696.15           700.16\n",
       "std             31.55            31.55\n",
       "min            660.00           664.00\n",
       "25%            670.00           674.00\n",
       "50%            690.00           694.00\n",
       "75%            710.00           714.00\n",
       "max            845.00           850.00"
      ]
     },
     "execution_count": 327,
     "metadata": {},
     "output_type": "execute_result"
    }
   ],
   "source": [
    "loans[['fico_range_low', 'fico_range_high']].describe()"
   ]
  },
  {
   "cell_type": "code",
   "execution_count": 328,
   "metadata": {},
   "outputs": [
    {
     "data": {
      "text/html": [
       "<div>\n",
       "<style scoped>\n",
       "    .dataframe tbody tr th:only-of-type {\n",
       "        vertical-align: middle;\n",
       "    }\n",
       "\n",
       "    .dataframe tbody tr th {\n",
       "        vertical-align: top;\n",
       "    }\n",
       "\n",
       "    .dataframe thead th {\n",
       "        text-align: right;\n",
       "    }\n",
       "</style>\n",
       "<table border=\"1\" class=\"dataframe\">\n",
       "  <thead>\n",
       "    <tr style=\"text-align: right;\">\n",
       "      <th></th>\n",
       "      <th>fico_range_low</th>\n",
       "      <th>fico_range_high</th>\n",
       "    </tr>\n",
       "  </thead>\n",
       "  <tbody>\n",
       "    <tr>\n",
       "      <th>fico_range_low</th>\n",
       "      <td>1.00</td>\n",
       "      <td>1.00</td>\n",
       "    </tr>\n",
       "    <tr>\n",
       "      <th>fico_range_high</th>\n",
       "      <td>1.00</td>\n",
       "      <td>1.00</td>\n",
       "    </tr>\n",
       "  </tbody>\n",
       "</table>\n",
       "</div>"
      ],
      "text/plain": [
       "                 fico_range_low  fico_range_high\n",
       "fico_range_low             1.00             1.00\n",
       "fico_range_high            1.00             1.00"
      ]
     },
     "execution_count": 328,
     "metadata": {},
     "output_type": "execute_result"
    }
   ],
   "source": [
    "loans[['fico_range_low','fico_range_high']].corr() #Calculating correlation"
   ]
  },
  {
   "cell_type": "code",
   "execution_count": 329,
   "metadata": {},
   "outputs": [],
   "source": [
    "loans['fico_score'] = 0.5*loans['fico_range_low'] + 0.5*loans['fico_range_high']"
   ]
  },
  {
   "cell_type": "code",
   "execution_count": 330,
   "metadata": {},
   "outputs": [],
   "source": [
    "loans.drop(['fico_range_high', 'fico_range_low'], axis=1, inplace=True)"
   ]
  },
  {
   "cell_type": "code",
   "execution_count": 331,
   "metadata": {},
   "outputs": [
    {
     "data": {
      "text/html": [
       "<div>\n",
       "<style scoped>\n",
       "    .dataframe tbody tr th:only-of-type {\n",
       "        vertical-align: middle;\n",
       "    }\n",
       "\n",
       "    .dataframe tbody tr th {\n",
       "        vertical-align: top;\n",
       "    }\n",
       "\n",
       "    .dataframe thead th {\n",
       "        text-align: right;\n",
       "    }\n",
       "</style>\n",
       "<table border=\"1\" class=\"dataframe\">\n",
       "  <thead>\n",
       "    <tr style=\"text-align: right;\">\n",
       "      <th></th>\n",
       "      <th>count</th>\n",
       "      <th>mean</th>\n",
       "      <th>std</th>\n",
       "      <th>min</th>\n",
       "      <th>25%</th>\n",
       "      <th>50%</th>\n",
       "      <th>75%</th>\n",
       "      <th>max</th>\n",
       "    </tr>\n",
       "    <tr>\n",
       "      <th>loan_status</th>\n",
       "      <th></th>\n",
       "      <th></th>\n",
       "      <th></th>\n",
       "      <th></th>\n",
       "      <th></th>\n",
       "      <th></th>\n",
       "      <th></th>\n",
       "      <th></th>\n",
       "    </tr>\n",
       "  </thead>\n",
       "  <tbody>\n",
       "    <tr>\n",
       "      <th>Charged Off</th>\n",
       "      <td>2,713.00</td>\n",
       "      <td>690.24</td>\n",
       "      <td>25.75</td>\n",
       "      <td>662.00</td>\n",
       "      <td>672.00</td>\n",
       "      <td>682.00</td>\n",
       "      <td>702.00</td>\n",
       "      <td>827.00</td>\n",
       "    </tr>\n",
       "    <tr>\n",
       "      <th>Fully Paid</th>\n",
       "      <td>10,833.00</td>\n",
       "      <td>700.14</td>\n",
       "      <td>32.54</td>\n",
       "      <td>662.00</td>\n",
       "      <td>677.00</td>\n",
       "      <td>692.00</td>\n",
       "      <td>717.00</td>\n",
       "      <td>847.50</td>\n",
       "    </tr>\n",
       "  </tbody>\n",
       "</table>\n",
       "</div>"
      ],
      "text/plain": [
       "                count   mean   std    min    25%    50%    75%    max\n",
       "loan_status                                                          \n",
       "Charged Off  2,713.00 690.24 25.75 662.00 672.00 682.00 702.00 827.00\n",
       "Fully Paid  10,833.00 700.14 32.54 662.00 677.00 692.00 717.00 847.50"
      ]
     },
     "execution_count": 331,
     "metadata": {},
     "output_type": "execute_result"
    }
   ],
   "source": [
    "loans.groupby('loan_status')['fico_score'].describe()"
   ]
  },
  {
   "cell_type": "code",
   "execution_count": null,
   "metadata": {},
   "outputs": [],
   "source": []
  },
  {
   "cell_type": "markdown",
   "metadata": {},
   "source": [
    "#### Open credit lines and Total accounts"
   ]
  },
  {
   "cell_type": "code",
   "execution_count": 332,
   "metadata": {},
   "outputs": [
    {
     "data": {
      "text/html": [
       "<div>\n",
       "<style scoped>\n",
       "    .dataframe tbody tr th:only-of-type {\n",
       "        vertical-align: middle;\n",
       "    }\n",
       "\n",
       "    .dataframe tbody tr th {\n",
       "        vertical-align: top;\n",
       "    }\n",
       "\n",
       "    .dataframe thead th {\n",
       "        text-align: right;\n",
       "    }\n",
       "</style>\n",
       "<table border=\"1\" class=\"dataframe\">\n",
       "  <thead>\n",
       "    <tr style=\"text-align: right;\">\n",
       "      <th></th>\n",
       "      <th>open_acc</th>\n",
       "      <th>total_acc</th>\n",
       "    </tr>\n",
       "  </thead>\n",
       "  <tbody>\n",
       "    <tr>\n",
       "      <th>open_acc</th>\n",
       "      <td>1.00</td>\n",
       "      <td>0.69</td>\n",
       "    </tr>\n",
       "    <tr>\n",
       "      <th>total_acc</th>\n",
       "      <td>0.69</td>\n",
       "      <td>1.00</td>\n",
       "    </tr>\n",
       "  </tbody>\n",
       "</table>\n",
       "</div>"
      ],
      "text/plain": [
       "           open_acc  total_acc\n",
       "open_acc       1.00       0.69\n",
       "total_acc      0.69       1.00"
      ]
     },
     "execution_count": 332,
     "metadata": {},
     "output_type": "execute_result"
    }
   ],
   "source": [
    "loans[['open_acc','total_acc']].corr()"
   ]
  },
  {
   "cell_type": "code",
   "execution_count": 333,
   "metadata": {},
   "outputs": [
    {
     "data": {
      "text/html": [
       "<div>\n",
       "<style scoped>\n",
       "    .dataframe tbody tr th:only-of-type {\n",
       "        vertical-align: middle;\n",
       "    }\n",
       "\n",
       "    .dataframe tbody tr th {\n",
       "        vertical-align: top;\n",
       "    }\n",
       "\n",
       "    .dataframe thead th {\n",
       "        text-align: right;\n",
       "    }\n",
       "</style>\n",
       "<table border=\"1\" class=\"dataframe\">\n",
       "  <thead>\n",
       "    <tr style=\"text-align: right;\">\n",
       "      <th></th>\n",
       "      <th>count</th>\n",
       "      <th>mean</th>\n",
       "      <th>std</th>\n",
       "      <th>min</th>\n",
       "      <th>25%</th>\n",
       "      <th>50%</th>\n",
       "      <th>75%</th>\n",
       "      <th>max</th>\n",
       "    </tr>\n",
       "    <tr>\n",
       "      <th>loan_status</th>\n",
       "      <th></th>\n",
       "      <th></th>\n",
       "      <th></th>\n",
       "      <th></th>\n",
       "      <th></th>\n",
       "      <th></th>\n",
       "      <th></th>\n",
       "      <th></th>\n",
       "    </tr>\n",
       "  </thead>\n",
       "  <tbody>\n",
       "    <tr>\n",
       "      <th>Charged Off</th>\n",
       "      <td>2,713.00</td>\n",
       "      <td>11.59</td>\n",
       "      <td>5.27</td>\n",
       "      <td>0.00</td>\n",
       "      <td>8.00</td>\n",
       "      <td>11.00</td>\n",
       "      <td>14.00</td>\n",
       "      <td>45.00</td>\n",
       "    </tr>\n",
       "    <tr>\n",
       "      <th>Fully Paid</th>\n",
       "      <td>10,833.00</td>\n",
       "      <td>11.58</td>\n",
       "      <td>5.41</td>\n",
       "      <td>1.00</td>\n",
       "      <td>8.00</td>\n",
       "      <td>11.00</td>\n",
       "      <td>14.00</td>\n",
       "      <td>62.00</td>\n",
       "    </tr>\n",
       "  </tbody>\n",
       "</table>\n",
       "</div>"
      ],
      "text/plain": [
       "                count  mean  std  min  25%   50%   75%   max\n",
       "loan_status                                                 \n",
       "Charged Off  2,713.00 11.59 5.27 0.00 8.00 11.00 14.00 45.00\n",
       "Fully Paid  10,833.00 11.58 5.41 1.00 8.00 11.00 14.00 62.00"
      ]
     },
     "execution_count": 333,
     "metadata": {},
     "output_type": "execute_result"
    }
   ],
   "source": [
    "loans.groupby('loan_status')['open_acc'].describe()"
   ]
  },
  {
   "cell_type": "code",
   "execution_count": 334,
   "metadata": {},
   "outputs": [],
   "source": [
    "loans['acc_ratio'] = loans['open_acc'] / loans['total_acc']"
   ]
  },
  {
   "cell_type": "code",
   "execution_count": 335,
   "metadata": {},
   "outputs": [],
   "source": [
    "loans.drop(['total_acc','open_acc'], axis=1, inplace=True)"
   ]
  },
  {
   "cell_type": "markdown",
   "metadata": {},
   "source": [
    "#### Public records and Public records brankrupticies"
   ]
  },
  {
   "cell_type": "code",
   "execution_count": null,
   "metadata": {},
   "outputs": [],
   "source": []
  },
  {
   "cell_type": "code",
   "execution_count": 336,
   "metadata": {},
   "outputs": [
    {
     "data": {
      "text/html": [
       "<div>\n",
       "<style scoped>\n",
       "    .dataframe tbody tr th:only-of-type {\n",
       "        vertical-align: middle;\n",
       "    }\n",
       "\n",
       "    .dataframe tbody tr th {\n",
       "        vertical-align: top;\n",
       "    }\n",
       "\n",
       "    .dataframe thead th {\n",
       "        text-align: right;\n",
       "    }\n",
       "</style>\n",
       "<table border=\"1\" class=\"dataframe\">\n",
       "  <thead>\n",
       "    <tr style=\"text-align: right;\">\n",
       "      <th></th>\n",
       "      <th>pub_rec</th>\n",
       "      <th>pub_rec_bankruptcies</th>\n",
       "    </tr>\n",
       "  </thead>\n",
       "  <tbody>\n",
       "    <tr>\n",
       "      <th>pub_rec</th>\n",
       "      <td>1.00</td>\n",
       "      <td>0.67</td>\n",
       "    </tr>\n",
       "    <tr>\n",
       "      <th>pub_rec_bankruptcies</th>\n",
       "      <td>0.67</td>\n",
       "      <td>1.00</td>\n",
       "    </tr>\n",
       "  </tbody>\n",
       "</table>\n",
       "</div>"
      ],
      "text/plain": [
       "                      pub_rec  pub_rec_bankruptcies\n",
       "pub_rec                  1.00                  0.67\n",
       "pub_rec_bankruptcies     0.67                  1.00"
      ]
     },
     "execution_count": 336,
     "metadata": {},
     "output_type": "execute_result"
    }
   ],
   "source": [
    "loans[['pub_rec','pub_rec_bankruptcies']].corr()"
   ]
  },
  {
   "cell_type": "code",
   "execution_count": 337,
   "metadata": {},
   "outputs": [
    {
     "data": {
      "text/html": [
       "<div>\n",
       "<style scoped>\n",
       "    .dataframe tbody tr th:only-of-type {\n",
       "        vertical-align: middle;\n",
       "    }\n",
       "\n",
       "    .dataframe tbody tr th {\n",
       "        vertical-align: top;\n",
       "    }\n",
       "\n",
       "    .dataframe thead th {\n",
       "        text-align: right;\n",
       "    }\n",
       "</style>\n",
       "<table border=\"1\" class=\"dataframe\">\n",
       "  <thead>\n",
       "    <tr style=\"text-align: right;\">\n",
       "      <th></th>\n",
       "      <th>count</th>\n",
       "      <th>mean</th>\n",
       "      <th>std</th>\n",
       "      <th>min</th>\n",
       "      <th>25%</th>\n",
       "      <th>50%</th>\n",
       "      <th>75%</th>\n",
       "      <th>max</th>\n",
       "    </tr>\n",
       "    <tr>\n",
       "      <th>loan_status</th>\n",
       "      <th></th>\n",
       "      <th></th>\n",
       "      <th></th>\n",
       "      <th></th>\n",
       "      <th></th>\n",
       "      <th></th>\n",
       "      <th></th>\n",
       "      <th></th>\n",
       "    </tr>\n",
       "  </thead>\n",
       "  <tbody>\n",
       "    <tr>\n",
       "      <th>Charged Off</th>\n",
       "      <td>2,713.00</td>\n",
       "      <td>0.24</td>\n",
       "      <td>0.61</td>\n",
       "      <td>0.00</td>\n",
       "      <td>0.00</td>\n",
       "      <td>0.00</td>\n",
       "      <td>0.00</td>\n",
       "      <td>8.00</td>\n",
       "    </tr>\n",
       "    <tr>\n",
       "      <th>Fully Paid</th>\n",
       "      <td>10,833.00</td>\n",
       "      <td>0.21</td>\n",
       "      <td>0.58</td>\n",
       "      <td>0.00</td>\n",
       "      <td>0.00</td>\n",
       "      <td>0.00</td>\n",
       "      <td>0.00</td>\n",
       "      <td>10.00</td>\n",
       "    </tr>\n",
       "  </tbody>\n",
       "</table>\n",
       "</div>"
      ],
      "text/plain": [
       "                count  mean  std  min  25%  50%  75%   max\n",
       "loan_status                                               \n",
       "Charged Off  2,713.00  0.24 0.61 0.00 0.00 0.00 0.00  8.00\n",
       "Fully Paid  10,833.00  0.21 0.58 0.00 0.00 0.00 0.00 10.00"
      ]
     },
     "execution_count": 337,
     "metadata": {},
     "output_type": "execute_result"
    }
   ],
   "source": [
    "loans.groupby('loan_status')['pub_rec'].describe()"
   ]
  },
  {
   "cell_type": "code",
   "execution_count": 338,
   "metadata": {},
   "outputs": [
    {
     "data": {
      "text/plain": [
       "0.00    11870\n",
       "1.00     1581\n",
       "2.00       73\n",
       "3.00        9\n",
       "4.00        5\n",
       "5.00        1\n",
       "6.00        2\n",
       "Name: pub_rec_bankruptcies, dtype: int64"
      ]
     },
     "execution_count": 338,
     "metadata": {},
     "output_type": "execute_result"
    }
   ],
   "source": [
    "loans['pub_rec_bankruptcies'].value_counts().sort_index()"
   ]
  },
  {
   "cell_type": "code",
   "execution_count": 339,
   "metadata": {},
   "outputs": [
    {
     "name": "stderr",
     "output_type": "stream",
     "text": [
      "C:\\Users\\user\\miniconda3\\envs\\sm-202011\\lib\\site-packages\\seaborn\\_decorators.py:43: FutureWarning: Pass the following variable as a keyword arg: x. From version 0.12, the only valid positional argument will be `data`, and passing other arguments without an explicit keyword will result in an error or misinterpretation.\n",
      "  FutureWarning\n"
     ]
    },
    {
     "data": {
      "image/png": "[encoded data removed]",
      "text/plain": [
       "<Figure size 1080x270 with 2 Axes>"
      ]
     },
     "metadata": {},
     "output_type": "display_data"
    }
   ],
   "source": [
    "plot_var('pub_rec_bankruptcies', 'Public Record Bankruptcies', continuous=False)"
   ]
  },
  {
   "cell_type": "code",
   "execution_count": 340,
   "metadata": {},
   "outputs": [],
   "source": [
    "loans.drop('pub_rec', axis=1, inplace=True)"
   ]
  },
  {
   "cell_type": "code",
   "execution_count": null,
   "metadata": {},
   "outputs": [],
   "source": []
  },
  {
   "cell_type": "markdown",
   "metadata": {},
   "source": [
    "#### Revolving balance"
   ]
  },
  {
   "cell_type": "code",
   "execution_count": 341,
   "metadata": {},
   "outputs": [
    {
     "data": {
      "text/plain": [
       "count    13,546.00\n",
       "mean     16,484.26\n",
       "std      22,343.59\n",
       "min           0.00\n",
       "25%       6,008.00\n",
       "50%      11,243.00\n",
       "75%      19,907.50\n",
       "max     556,323.00\n",
       "Name: revol_bal, dtype: float64"
      ]
     },
     "execution_count": 341,
     "metadata": {},
     "output_type": "execute_result"
    }
   ],
   "source": [
    "loans['revol_bal'].describe()"
   ]
  },
  {
   "cell_type": "code",
   "execution_count": 342,
   "metadata": {},
   "outputs": [],
   "source": [
    "loans['log_revol_bal'] = loans['revol_bal'].apply(lambda x: np.log10(x+1))"
   ]
  },
  {
   "cell_type": "code",
   "execution_count": 343,
   "metadata": {},
   "outputs": [],
   "source": [
    "loans.drop('revol_bal', axis=1, inplace=True)"
   ]
  },
  {
   "cell_type": "code",
   "execution_count": null,
   "metadata": {},
   "outputs": [],
   "source": []
  },
  {
   "cell_type": "markdown",
   "metadata": {},
   "source": [
    "#### Revolving util"
   ]
  },
  {
   "cell_type": "code",
   "execution_count": 344,
   "metadata": {},
   "outputs": [
    {
     "data": {
      "text/plain": [
       "count   13,528.00\n",
       "mean        51.99\n",
       "std         24.43\n",
       "min          0.00\n",
       "25%         33.80\n",
       "50%         52.10\n",
       "75%         70.90\n",
       "max        114.50\n",
       "Name: revol_util, dtype: float64"
      ]
     },
     "execution_count": 344,
     "metadata": {},
     "output_type": "execute_result"
    }
   ],
   "source": [
    "loans['revol_util'].describe()"
   ]
  },
  {
   "cell_type": "code",
   "execution_count": 345,
   "metadata": {},
   "outputs": [
    {
     "data": {
      "text/html": [
       "<div>\n",
       "<style scoped>\n",
       "    .dataframe tbody tr th:only-of-type {\n",
       "        vertical-align: middle;\n",
       "    }\n",
       "\n",
       "    .dataframe tbody tr th {\n",
       "        vertical-align: top;\n",
       "    }\n",
       "\n",
       "    .dataframe thead th {\n",
       "        text-align: right;\n",
       "    }\n",
       "</style>\n",
       "<table border=\"1\" class=\"dataframe\">\n",
       "  <thead>\n",
       "    <tr style=\"text-align: right;\">\n",
       "      <th></th>\n",
       "      <th>revol_util</th>\n",
       "      <th>fico_score</th>\n",
       "    </tr>\n",
       "  </thead>\n",
       "  <tbody>\n",
       "    <tr>\n",
       "      <th>revol_util</th>\n",
       "      <td>1.00</td>\n",
       "      <td>-0.46</td>\n",
       "    </tr>\n",
       "    <tr>\n",
       "      <th>fico_score</th>\n",
       "      <td>-0.46</td>\n",
       "      <td>1.00</td>\n",
       "    </tr>\n",
       "  </tbody>\n",
       "</table>\n",
       "</div>"
      ],
      "text/plain": [
       "            revol_util  fico_score\n",
       "revol_util        1.00       -0.46\n",
       "fico_score       -0.46        1.00"
      ]
     },
     "execution_count": 345,
     "metadata": {},
     "output_type": "execute_result"
    }
   ],
   "source": [
    "loans[['revol_util','fico_score']].corr()"
   ]
  },
  {
   "cell_type": "code",
   "execution_count": 346,
   "metadata": {},
   "outputs": [
    {
     "data": {
      "text/html": [
       "<div>\n",
       "<style scoped>\n",
       "    .dataframe tbody tr th:only-of-type {\n",
       "        vertical-align: middle;\n",
       "    }\n",
       "\n",
       "    .dataframe tbody tr th {\n",
       "        vertical-align: top;\n",
       "    }\n",
       "\n",
       "    .dataframe thead th {\n",
       "        text-align: right;\n",
       "    }\n",
       "</style>\n",
       "<table border=\"1\" class=\"dataframe\">\n",
       "  <thead>\n",
       "    <tr style=\"text-align: right;\">\n",
       "      <th></th>\n",
       "      <th>count</th>\n",
       "      <th>mean</th>\n",
       "      <th>std</th>\n",
       "      <th>min</th>\n",
       "      <th>25%</th>\n",
       "      <th>50%</th>\n",
       "      <th>75%</th>\n",
       "      <th>max</th>\n",
       "    </tr>\n",
       "    <tr>\n",
       "      <th>loan_status</th>\n",
       "      <th></th>\n",
       "      <th></th>\n",
       "      <th></th>\n",
       "      <th></th>\n",
       "      <th></th>\n",
       "      <th></th>\n",
       "      <th></th>\n",
       "      <th></th>\n",
       "    </tr>\n",
       "  </thead>\n",
       "  <tbody>\n",
       "    <tr>\n",
       "      <th>Charged Off</th>\n",
       "      <td>2,708.00</td>\n",
       "      <td>55.06</td>\n",
       "      <td>23.85</td>\n",
       "      <td>0.00</td>\n",
       "      <td>38.00</td>\n",
       "      <td>55.10</td>\n",
       "      <td>74.12</td>\n",
       "      <td>109.90</td>\n",
       "    </tr>\n",
       "    <tr>\n",
       "      <th>Fully Paid</th>\n",
       "      <td>10,820.00</td>\n",
       "      <td>51.22</td>\n",
       "      <td>24.51</td>\n",
       "      <td>0.00</td>\n",
       "      <td>32.70</td>\n",
       "      <td>51.40</td>\n",
       "      <td>70.00</td>\n",
       "      <td>114.50</td>\n",
       "    </tr>\n",
       "  </tbody>\n",
       "</table>\n",
       "</div>"
      ],
      "text/plain": [
       "                count  mean   std  min   25%   50%   75%    max\n",
       "loan_status                                                    \n",
       "Charged Off  2,708.00 55.06 23.85 0.00 38.00 55.10 74.12 109.90\n",
       "Fully Paid  10,820.00 51.22 24.51 0.00 32.70 51.40 70.00 114.50"
      ]
     },
     "execution_count": 346,
     "metadata": {},
     "output_type": "execute_result"
    }
   ],
   "source": [
    "loans.groupby('loan_status')['revol_util'].describe()"
   ]
  },
  {
   "cell_type": "code",
   "execution_count": null,
   "metadata": {},
   "outputs": [],
   "source": []
  },
  {
   "cell_type": "markdown",
   "metadata": {},
   "source": [
    "#### Mortgage account"
   ]
  },
  {
   "cell_type": "code",
   "execution_count": 347,
   "metadata": {},
   "outputs": [
    {
     "data": {
      "text/plain": [
       "count   13,106.00\n",
       "mean         1.70\n",
       "std          2.03\n",
       "min          0.00\n",
       "25%          0.00\n",
       "50%          1.00\n",
       "75%          3.00\n",
       "max         24.00\n",
       "Name: mort_acc, dtype: float64"
      ]
     },
     "execution_count": 347,
     "metadata": {},
     "output_type": "execute_result"
    }
   ],
   "source": [
    "loans['mort_acc'].describe()"
   ]
  },
  {
   "cell_type": "code",
   "execution_count": 348,
   "metadata": {},
   "outputs": [
    {
     "data": {
      "text/html": [
       "<div>\n",
       "<style scoped>\n",
       "    .dataframe tbody tr th:only-of-type {\n",
       "        vertical-align: middle;\n",
       "    }\n",
       "\n",
       "    .dataframe tbody tr th {\n",
       "        vertical-align: top;\n",
       "    }\n",
       "\n",
       "    .dataframe thead th {\n",
       "        text-align: right;\n",
       "    }\n",
       "</style>\n",
       "<table border=\"1\" class=\"dataframe\">\n",
       "  <thead>\n",
       "    <tr style=\"text-align: right;\">\n",
       "      <th></th>\n",
       "      <th>count</th>\n",
       "      <th>mean</th>\n",
       "      <th>std</th>\n",
       "      <th>min</th>\n",
       "      <th>25%</th>\n",
       "      <th>50%</th>\n",
       "      <th>75%</th>\n",
       "      <th>max</th>\n",
       "    </tr>\n",
       "    <tr>\n",
       "      <th>loan_status</th>\n",
       "      <th></th>\n",
       "      <th></th>\n",
       "      <th></th>\n",
       "      <th></th>\n",
       "      <th></th>\n",
       "      <th></th>\n",
       "      <th></th>\n",
       "      <th></th>\n",
       "    </tr>\n",
       "  </thead>\n",
       "  <tbody>\n",
       "    <tr>\n",
       "      <th>Charged Off</th>\n",
       "      <td>2,651.00</td>\n",
       "      <td>1.37</td>\n",
       "      <td>1.86</td>\n",
       "      <td>0.00</td>\n",
       "      <td>0.00</td>\n",
       "      <td>1.00</td>\n",
       "      <td>2.00</td>\n",
       "      <td>20.00</td>\n",
       "    </tr>\n",
       "    <tr>\n",
       "      <th>Fully Paid</th>\n",
       "      <td>10,455.00</td>\n",
       "      <td>1.78</td>\n",
       "      <td>2.06</td>\n",
       "      <td>0.00</td>\n",
       "      <td>0.00</td>\n",
       "      <td>1.00</td>\n",
       "      <td>3.00</td>\n",
       "      <td>24.00</td>\n",
       "    </tr>\n",
       "  </tbody>\n",
       "</table>\n",
       "</div>"
      ],
      "text/plain": [
       "                count  mean  std  min  25%  50%  75%   max\n",
       "loan_status                                               \n",
       "Charged Off  2,651.00  1.37 1.86 0.00 0.00 1.00 2.00 20.00\n",
       "Fully Paid  10,455.00  1.78 2.06 0.00 0.00 1.00 3.00 24.00"
      ]
     },
     "execution_count": 348,
     "metadata": {},
     "output_type": "execute_result"
    }
   ],
   "source": [
    "loans.groupby('loan_status')['mort_acc'].describe()"
   ]
  },
  {
   "cell_type": "code",
   "execution_count": null,
   "metadata": {},
   "outputs": [],
   "source": []
  },
  {
   "cell_type": "markdown",
   "metadata": {},
   "source": [
    "### Date type columns"
   ]
  },
  {
   "cell_type": "code",
   "execution_count": 349,
   "metadata": {},
   "outputs": [
    {
     "data": {
      "text/plain": [
       "27518      Dec-2015\n",
       "1863512    Mar-2013\n",
       "1346853    Jan-2014\n",
       "939729     May-2017\n",
       "1770300    Nov-2013\n",
       "Name: issue_d, dtype: object"
      ]
     },
     "execution_count": 349,
     "metadata": {},
     "output_type": "execute_result"
    }
   ],
   "source": [
    "loans['issue_d'].sample(5)"
   ]
  },
  {
   "cell_type": "code",
   "execution_count": 350,
   "metadata": {},
   "outputs": [
    {
     "data": {
      "text/plain": [
       "1550762    May-1989\n",
       "10442      Nov-1991\n",
       "1918103    Oct-1993\n",
       "2126232    May-2004\n",
       "284547     Jun-2004\n",
       "Name: earliest_cr_line, dtype: object"
      ]
     },
     "execution_count": 350,
     "metadata": {},
     "output_type": "execute_result"
    }
   ],
   "source": [
    "loans['earliest_cr_line'].sample(5)"
   ]
  },
  {
   "cell_type": "code",
   "execution_count": 351,
   "metadata": {},
   "outputs": [
    {
     "data": {
      "text/plain": [
       "False"
      ]
     },
     "execution_count": 351,
     "metadata": {},
     "output_type": "execute_result"
    }
   ],
   "source": [
    "loans['earliest_cr_line'].isnull().any()"
   ]
  },
  {
   "cell_type": "code",
   "execution_count": 352,
   "metadata": {},
   "outputs": [
    {
     "data": {
      "text/plain": [
       "False"
      ]
     },
     "execution_count": 352,
     "metadata": {},
     "output_type": "execute_result"
    }
   ],
   "source": [
    "loans['issue_d'].isnull().any()"
   ]
  },
  {
   "cell_type": "code",
   "execution_count": 353,
   "metadata": {},
   "outputs": [],
   "source": [
    "loans['issue_d'] = pd.to_datetime(loans['issue_d'])"
   ]
  },
  {
   "cell_type": "code",
   "execution_count": 354,
   "metadata": {},
   "outputs": [
    {
     "data": {
      "text/plain": [
       "Text(0.5, 1.0, 'Loans Funded per Year')"
      ]
     },
     "execution_count": 354,
     "metadata": {},
     "output_type": "execute_result"
    },
    {
     "data": {
      "image/png": "[encoded data removed]",
      "text/plain": [
       "<Figure size 540x270 with 1 Axes>"
      ]
     },
     "metadata": {},
     "output_type": "display_data"
    }
   ],
   "source": [
    "plt.figure(figsize=(6,3), dpi=90)\n",
    "loans['issue_d'].dt.year.value_counts().sort_index().plot.bar(color='darkblue')\n",
    "plt.xlabel('Year')\n",
    "plt.ylabel('Number of Loans Funded')\n",
    "plt.title('Loans Funded per Year')"
   ]
  },
  {
   "cell_type": "code",
   "execution_count": 355,
   "metadata": {},
   "outputs": [],
   "source": [
    "loans['earliest_cr_line'] = pd.to_datetime(loans['earliest_cr_line'])"
   ]
  },
  {
   "cell_type": "markdown",
   "metadata": {},
   "source": [
    "Calculate number of days between issue date and earliest credit lines, so that we know the days of applicant with the bank"
   ]
  },
  {
   "cell_type": "code",
   "execution_count": 356,
   "metadata": {},
   "outputs": [],
   "source": [
    "loans['days_from_issue_to_earliest_cr'] = (loans['issue_d'] - loans['earliest_cr_line']).apply(lambda x: x.days)"
   ]
  },
  {
   "cell_type": "code",
   "execution_count": 357,
   "metadata": {},
   "outputs": [
    {
     "data": {
      "text/plain": [
       "1844349    5144\n",
       "1690259    4992\n",
       "2254443    5874\n",
       "667340     4961\n",
       "1889703    8462\n",
       "Name: days_from_issue_to_earliest_cr, dtype: int64"
      ]
     },
     "execution_count": 357,
     "metadata": {},
     "output_type": "execute_result"
    }
   ],
   "source": [
    "loans['days_from_issue_to_earliest_cr'].sample(5)"
   ]
  },
  {
   "cell_type": "code",
   "execution_count": 358,
   "metadata": {},
   "outputs": [
    {
     "data": {
      "text/plain": [
       "count   13,546.00\n",
       "mean         0.20\n",
       "std          0.40\n",
       "min          0.00\n",
       "25%          0.00\n",
       "50%          0.00\n",
       "75%          0.00\n",
       "max          1.00\n",
       "Name: target, dtype: float64"
      ]
     },
     "execution_count": 358,
     "metadata": {},
     "output_type": "execute_result"
    }
   ],
   "source": [
    "loans['target'] = (loans['loan_status'] == 'Charged Off').astype(int)\n",
    "loans['target'].describe()"
   ]
  },
  {
   "cell_type": "code",
   "execution_count": 359,
   "metadata": {},
   "outputs": [],
   "source": [
    "_df = loans.groupby('days_from_issue_to_earliest_cr')['target'].mean().reset_index()"
   ]
  },
  {
   "cell_type": "code",
   "execution_count": 360,
   "metadata": {},
   "outputs": [
    {
     "data": {
      "text/plain": [
       "<AxesSubplot:xlabel='days_from_issue_to_earliest_cr', ylabel='target'>"
      ]
     },
     "execution_count": 360,
     "metadata": {},
     "output_type": "execute_result"
    },
    {
     "data": {
      "image/png": "[encoded data removed]",
      "text/plain": [
       "<Figure size 432x288 with 1 Axes>"
      ]
     },
     "metadata": {},
     "output_type": "display_data"
    }
   ],
   "source": [
    "sns.scatterplot(x='days_from_issue_to_earliest_cr', y='target', data=_df)"
   ]
  },
  {
   "cell_type": "code",
   "execution_count": 361,
   "metadata": {},
   "outputs": [
    {
     "data": {
      "text/html": [
       "<div>\n",
       "<style scoped>\n",
       "    .dataframe tbody tr th:only-of-type {\n",
       "        vertical-align: middle;\n",
       "    }\n",
       "\n",
       "    .dataframe tbody tr th {\n",
       "        vertical-align: top;\n",
       "    }\n",
       "\n",
       "    .dataframe thead th {\n",
       "        text-align: right;\n",
       "    }\n",
       "</style>\n",
       "<table border=\"1\" class=\"dataframe\">\n",
       "  <thead>\n",
       "    <tr style=\"text-align: right;\">\n",
       "      <th></th>\n",
       "      <th>days_from_issue_to_earliest_cr</th>\n",
       "      <th>target</th>\n",
       "    </tr>\n",
       "  </thead>\n",
       "  <tbody>\n",
       "    <tr>\n",
       "      <th>days_from_issue_to_earliest_cr</th>\n",
       "      <td>1.00</td>\n",
       "      <td>-0.02</td>\n",
       "    </tr>\n",
       "    <tr>\n",
       "      <th>target</th>\n",
       "      <td>-0.02</td>\n",
       "      <td>1.00</td>\n",
       "    </tr>\n",
       "  </tbody>\n",
       "</table>\n",
       "</div>"
      ],
      "text/plain": [
       "                                days_from_issue_to_earliest_cr  target\n",
       "days_from_issue_to_earliest_cr                            1.00   -0.02\n",
       "target                                                   -0.02    1.00"
      ]
     },
     "execution_count": 361,
     "metadata": {},
     "output_type": "execute_result"
    }
   ],
   "source": [
    "_df.corr()"
   ]
  },
  {
   "cell_type": "code",
   "execution_count": 362,
   "metadata": {},
   "outputs": [],
   "source": [
    "loans.drop(['target','earliest_cr_line'],axis=1,inplace=True)"
   ]
  },
  {
   "cell_type": "code",
   "execution_count": null,
   "metadata": {},
   "outputs": [],
   "source": []
  },
  {
   "cell_type": "markdown",
   "metadata": {},
   "source": [
    "#### More Pre preprocessing"
   ]
  },
  {
   "cell_type": "markdown",
   "metadata": {},
   "source": [
    "Convert charge off in loan status as 0/1 indicator"
   ]
  },
  {
   "cell_type": "code",
   "execution_count": 363,
   "metadata": {},
   "outputs": [],
   "source": [
    "loans['charged_off'] = (loans['loan_status'] == 'Charged Off').apply(np.uint8)\n",
    "loans.drop('loan_status', axis=1, inplace=True)"
   ]
  },
  {
   "cell_type": "code",
   "execution_count": 364,
   "metadata": {},
   "outputs": [],
   "source": [
    "\n",
    "missing_fractions = loans.isnull().mean().sort_values(ascending=False) # Fraction of data missing for each variable"
   ]
  },
  {
   "cell_type": "code",
   "execution_count": 365,
   "metadata": {},
   "outputs": [
    {
     "name": "stdout",
     "output_type": "stream",
     "text": [
      "mort_acc               0.03\n",
      "revol_util             0.00\n",
      "pub_rec_bankruptcies   0.00\n",
      "dti                    0.00\n",
      "dtype: float64\n"
     ]
    }
   ],
   "source": [
    "\n",
    "print(missing_fractions[missing_fractions > 0]) # Print variables that are missing data"
   ]
  },
  {
   "cell_type": "code",
   "execution_count": 366,
   "metadata": {},
   "outputs": [
    {
     "name": "stdout",
     "output_type": "stream",
     "text": [
      "Index(['loan_amnt', 'term', 'int_rate', 'installment', 'sub_grade',\n",
      "       'emp_length', 'home_ownership', 'verification_status', 'issue_d',\n",
      "       'purpose', 'addr_state', 'dti', 'revol_util', 'initial_list_status',\n",
      "       'application_type', 'mort_acc', 'pub_rec_bankruptcies',\n",
      "       'log_annual_inc', 'fico_score', 'acc_ratio', 'log_revol_bal',\n",
      "       'days_from_issue_to_earliest_cr', 'charged_off'],\n",
      "      dtype='object')\n"
     ]
    }
   ],
   "source": [
    "\n",
    "print(loans.columns)"
   ]
  },
  {
   "cell_type": "markdown",
   "metadata": {},
   "source": [
    "Create dummy variables for categorical data"
   ]
  },
  {
   "cell_type": "code",
   "execution_count": 367,
   "metadata": {},
   "outputs": [],
   "source": [
    "loans = pd.get_dummies(loans, columns=['sub_grade', 'home_ownership', 'verification_status', 'purpose', 'addr_state', 'initial_list_status','application_type'], drop_first=True)\n",
    "\n"
   ]
  },
  {
   "cell_type": "code",
   "execution_count": 368,
   "metadata": {},
   "outputs": [
    {
     "data": {
      "text/plain": [
       "(13546, 120)"
      ]
     },
     "execution_count": 368,
     "metadata": {},
     "output_type": "execute_result"
    }
   ],
   "source": [
    "loans.shape"
   ]
  },
  {
   "cell_type": "code",
   "execution_count": null,
   "metadata": {},
   "outputs": [],
   "source": []
  },
  {
   "cell_type": "code",
   "execution_count": 369,
   "metadata": {},
   "outputs": [
    {
     "name": "stderr",
     "output_type": "stream",
     "text": [
      "C:\\Users\\user\\miniconda3\\envs\\sm-202011\\lib\\site-packages\\pyarrow\\feather.py:83: FutureWarning: The SparseDataFrame class is removed from pandas. Accessing it from the top-level namespace will also be removed in the next version\n",
      "  if isinstance(df, _pandas_api.pd.SparseDataFrame):\n"
     ]
    }
   ],
   "source": [
    "import pyarrow.feather as feather\n",
    "feather.write_feather(loans,'./loans_modelling_data')"
   ]
  },
  {
   "cell_type": "code",
   "execution_count": null,
   "metadata": {},
   "outputs": [],
   "source": []
  },
  {
   "cell_type": "code",
   "execution_count": null,
   "metadata": {},
   "outputs": [],
   "source": []
  },
  {
   "cell_type": "code",
   "execution_count": null,
   "metadata": {},
   "outputs": [],
   "source": []
  },
  {
   "cell_type": "code",
   "execution_count": null,
   "metadata": {},
   "outputs": [],
   "source": []
  },
  {
   "cell_type": "code",
   "execution_count": null,
   "metadata": {},
   "outputs": [],
   "source": []
  },
  {
   "cell_type": "code",
   "execution_count": null,
   "metadata": {},
   "outputs": [],
   "source": []
  }
 ],
 "metadata": {
  "kernelspec": {
   "display_name": "Python 3",
   "language": "python",
   "name": "python3"
  },
  "language_info": {
   "codemirror_mode": {
    "name": "ipython",
    "version": 3
   },
   "file_extension": ".py",
   "mimetype": "text/x-python",
   "name": "python",
   "nbconvert_exporter": "python",
   "pygments_lexer": "ipython3",
   "version": "3.7.9"
  }
 },
 "nbformat": 4,
 "nbformat_minor": 4
}
