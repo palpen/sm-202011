{
 "cells": [
  {
   "cell_type": "markdown",
   "metadata": {},
   "source": [
    "#                                         Lending Club Loan Data"
   ]
  },
  {
   "cell_type": "markdown",
   "metadata": {},
   "source": [
    "## Import Data"
   ]
  },
  {
   "cell_type": "code",
   "execution_count": 1,
   "metadata": {},
   "outputs": [
    {
     "name": "stderr",
     "output_type": "stream",
     "text": [
      "In C:\\Users\\user\\miniconda3\\envs\\sm-202011\\lib\\site-packages\\matplotlib\\mpl-data\\stylelib\\_classic_test.mplstyle: \n",
      "The text.latex.preview rcparam was deprecated in Matplotlib 3.3 and will be removed two minor releases later.\n",
      "In C:\\Users\\user\\miniconda3\\envs\\sm-202011\\lib\\site-packages\\matplotlib\\mpl-data\\stylelib\\_classic_test.mplstyle: \n",
      "The mathtext.fallback_to_cm rcparam was deprecated in Matplotlib 3.3 and will be removed two minor releases later.\n",
      "In C:\\Users\\user\\miniconda3\\envs\\sm-202011\\lib\\site-packages\\matplotlib\\mpl-data\\stylelib\\_classic_test.mplstyle: Support for setting the 'mathtext.fallback_to_cm' rcParam is deprecated since 3.3 and will be removed two minor releases later; use 'mathtext.fallback : 'cm' instead.\n",
      "In C:\\Users\\user\\miniconda3\\envs\\sm-202011\\lib\\site-packages\\matplotlib\\mpl-data\\stylelib\\_classic_test.mplstyle: \n",
      "The validate_bool_maybe_none function was deprecated in Matplotlib 3.3 and will be removed two minor releases later.\n",
      "In C:\\Users\\user\\miniconda3\\envs\\sm-202011\\lib\\site-packages\\matplotlib\\mpl-data\\stylelib\\_classic_test.mplstyle: \n",
      "The savefig.jpeg_quality rcparam was deprecated in Matplotlib 3.3 and will be removed two minor releases later.\n",
      "In C:\\Users\\user\\miniconda3\\envs\\sm-202011\\lib\\site-packages\\matplotlib\\mpl-data\\stylelib\\_classic_test.mplstyle: \n",
      "The keymap.all_axes rcparam was deprecated in Matplotlib 3.3 and will be removed two minor releases later.\n",
      "In C:\\Users\\user\\miniconda3\\envs\\sm-202011\\lib\\site-packages\\matplotlib\\mpl-data\\stylelib\\_classic_test.mplstyle: \n",
      "The animation.avconv_path rcparam was deprecated in Matplotlib 3.3 and will be removed two minor releases later.\n",
      "In C:\\Users\\user\\miniconda3\\envs\\sm-202011\\lib\\site-packages\\matplotlib\\mpl-data\\stylelib\\_classic_test.mplstyle: \n",
      "The animation.avconv_args rcparam was deprecated in Matplotlib 3.3 and will be removed two minor releases later.\n"
     ]
    }
   ],
   "source": [
    "import numpy as np\n",
    "import scipy as sp\n",
    "import pandas as pd\n",
    "import matplotlib as mpl\n",
    "import matplotlib.pyplot as plt\n",
    "import seaborn as sns\n",
    "\n",
    "\n",
    "# Pandas options\n",
    "pd.set_option('display.max_colwidth', 1000, 'display.max_rows', None, 'display.max_columns', None)\n",
    "\n",
    "# Plotting options\n",
    "%matplotlib inline\n",
    "mpl.style.use('ggplot')\n",
    "sns.set(style='whitegrid')"
   ]
  },
  {
   "cell_type": "code",
   "execution_count": 2,
   "metadata": {},
   "outputs": [],
   "source": [
    "SAMPLE = True"
   ]
  },
  {
   "cell_type": "code",
   "execution_count": 3,
   "metadata": {},
   "outputs": [
    {
     "name": "stderr",
     "output_type": "stream",
     "text": [
      "C:\\Users\\user\\miniconda3\\envs\\sm-202011\\lib\\site-packages\\IPython\\core\\interactiveshell.py:3147: DtypeWarning: Columns (0,19,49,59,118,129,130,131,134,135,136,139,145,146,147) have mixed types.Specify dtype option on import or set low_memory=False.\n",
      "  interactivity=interactivity, compiler=compiler, result=result)\n"
     ]
    }
   ],
   "source": [
    "loans = pd.read_csv('../project_1/accepted_2007_to_2018Q4.csv.gz', compression='gzip', low_memory=True) #Load data into pandas\n",
    "\n",
    "if SAMPLE:\n",
    "    loans = loans.sample(frac=0.01)"
   ]
  },
  {
   "cell_type": "code",
   "execution_count": 4,
   "metadata": {},
   "outputs": [
    {
     "name": "stdout",
     "output_type": "stream",
     "text": [
      "<class 'pandas.core.frame.DataFrame'>\n",
      "Int64Index: 22607 entries, 1988777 to 427420\n",
      "Columns: 151 entries, id to settlement_term\n",
      "dtypes: float64(113), object(38)\n",
      "memory usage: 26.2+ MB\n"
     ]
    }
   ],
   "source": [
    "loans.info()"
   ]
  },
  {
   "cell_type": "code",
   "execution_count": 5,
   "metadata": {},
   "outputs": [],
   "source": [
    "pd.options.display.float_format = '{:,.2f}'.format "
   ]
  },
  {
   "cell_type": "code",
   "execution_count": 6,
   "metadata": {},
   "outputs": [
    {
     "data": {
      "text/html": [
       "<div>\n",
       "<style scoped>\n",
       "    .dataframe tbody tr th:only-of-type {\n",
       "        vertical-align: middle;\n",
       "    }\n",
       "\n",
       "    .dataframe tbody tr th {\n",
       "        vertical-align: top;\n",
       "    }\n",
       "\n",
       "    .dataframe thead th {\n",
       "        text-align: right;\n",
       "    }\n",
       "</style>\n",
       "<table border=\"1\" class=\"dataframe\">\n",
       "  <thead>\n",
       "    <tr style=\"text-align: right;\">\n",
       "      <th></th>\n",
       "      <th>id</th>\n",
       "      <th>member_id</th>\n",
       "      <th>loan_amnt</th>\n",
       "      <th>funded_amnt</th>\n",
       "      <th>funded_amnt_inv</th>\n",
       "      <th>term</th>\n",
       "      <th>int_rate</th>\n",
       "      <th>installment</th>\n",
       "      <th>grade</th>\n",
       "      <th>sub_grade</th>\n",
       "      <th>emp_title</th>\n",
       "      <th>emp_length</th>\n",
       "      <th>home_ownership</th>\n",
       "      <th>annual_inc</th>\n",
       "      <th>verification_status</th>\n",
       "      <th>issue_d</th>\n",
       "      <th>loan_status</th>\n",
       "      <th>pymnt_plan</th>\n",
       "      <th>url</th>\n",
       "      <th>desc</th>\n",
       "      <th>purpose</th>\n",
       "      <th>title</th>\n",
       "      <th>zip_code</th>\n",
       "      <th>addr_state</th>\n",
       "      <th>dti</th>\n",
       "      <th>delinq_2yrs</th>\n",
       "      <th>earliest_cr_line</th>\n",
       "      <th>fico_range_low</th>\n",
       "      <th>fico_range_high</th>\n",
       "      <th>inq_last_6mths</th>\n",
       "      <th>mths_since_last_delinq</th>\n",
       "      <th>mths_since_last_record</th>\n",
       "      <th>open_acc</th>\n",
       "      <th>pub_rec</th>\n",
       "      <th>revol_bal</th>\n",
       "      <th>revol_util</th>\n",
       "      <th>total_acc</th>\n",
       "      <th>initial_list_status</th>\n",
       "      <th>out_prncp</th>\n",
       "      <th>out_prncp_inv</th>\n",
       "      <th>total_pymnt</th>\n",
       "      <th>total_pymnt_inv</th>\n",
       "      <th>total_rec_prncp</th>\n",
       "      <th>total_rec_int</th>\n",
       "      <th>total_rec_late_fee</th>\n",
       "      <th>recoveries</th>\n",
       "      <th>collection_recovery_fee</th>\n",
       "      <th>last_pymnt_d</th>\n",
       "      <th>last_pymnt_amnt</th>\n",
       "      <th>next_pymnt_d</th>\n",
       "      <th>last_credit_pull_d</th>\n",
       "      <th>last_fico_range_high</th>\n",
       "      <th>last_fico_range_low</th>\n",
       "      <th>collections_12_mths_ex_med</th>\n",
       "      <th>mths_since_last_major_derog</th>\n",
       "      <th>policy_code</th>\n",
       "      <th>application_type</th>\n",
       "      <th>annual_inc_joint</th>\n",
       "      <th>dti_joint</th>\n",
       "      <th>verification_status_joint</th>\n",
       "      <th>acc_now_delinq</th>\n",
       "      <th>tot_coll_amt</th>\n",
       "      <th>tot_cur_bal</th>\n",
       "      <th>open_acc_6m</th>\n",
       "      <th>open_act_il</th>\n",
       "      <th>open_il_12m</th>\n",
       "      <th>open_il_24m</th>\n",
       "      <th>mths_since_rcnt_il</th>\n",
       "      <th>total_bal_il</th>\n",
       "      <th>il_util</th>\n",
       "      <th>open_rv_12m</th>\n",
       "      <th>open_rv_24m</th>\n",
       "      <th>max_bal_bc</th>\n",
       "      <th>all_util</th>\n",
       "      <th>total_rev_hi_lim</th>\n",
       "      <th>inq_fi</th>\n",
       "      <th>total_cu_tl</th>\n",
       "      <th>inq_last_12m</th>\n",
       "      <th>acc_open_past_24mths</th>\n",
       "      <th>avg_cur_bal</th>\n",
       "      <th>bc_open_to_buy</th>\n",
       "      <th>bc_util</th>\n",
       "      <th>chargeoff_within_12_mths</th>\n",
       "      <th>delinq_amnt</th>\n",
       "      <th>mo_sin_old_il_acct</th>\n",
       "      <th>mo_sin_old_rev_tl_op</th>\n",
       "      <th>mo_sin_rcnt_rev_tl_op</th>\n",
       "      <th>mo_sin_rcnt_tl</th>\n",
       "      <th>mort_acc</th>\n",
       "      <th>mths_since_recent_bc</th>\n",
       "      <th>mths_since_recent_bc_dlq</th>\n",
       "      <th>mths_since_recent_inq</th>\n",
       "      <th>mths_since_recent_revol_delinq</th>\n",
       "      <th>num_accts_ever_120_pd</th>\n",
       "      <th>num_actv_bc_tl</th>\n",
       "      <th>num_actv_rev_tl</th>\n",
       "      <th>num_bc_sats</th>\n",
       "      <th>num_bc_tl</th>\n",
       "      <th>num_il_tl</th>\n",
       "      <th>num_op_rev_tl</th>\n",
       "      <th>num_rev_accts</th>\n",
       "      <th>num_rev_tl_bal_gt_0</th>\n",
       "      <th>num_sats</th>\n",
       "      <th>num_tl_120dpd_2m</th>\n",
       "      <th>num_tl_30dpd</th>\n",
       "      <th>num_tl_90g_dpd_24m</th>\n",
       "      <th>num_tl_op_past_12m</th>\n",
       "      <th>pct_tl_nvr_dlq</th>\n",
       "      <th>percent_bc_gt_75</th>\n",
       "      <th>pub_rec_bankruptcies</th>\n",
       "      <th>tax_liens</th>\n",
       "      <th>tot_hi_cred_lim</th>\n",
       "      <th>total_bal_ex_mort</th>\n",
       "      <th>total_bc_limit</th>\n",
       "      <th>total_il_high_credit_limit</th>\n",
       "      <th>revol_bal_joint</th>\n",
       "      <th>sec_app_fico_range_low</th>\n",
       "      <th>sec_app_fico_range_high</th>\n",
       "      <th>sec_app_earliest_cr_line</th>\n",
       "      <th>sec_app_inq_last_6mths</th>\n",
       "      <th>sec_app_mort_acc</th>\n",
       "      <th>sec_app_open_acc</th>\n",
       "      <th>sec_app_revol_util</th>\n",
       "      <th>sec_app_open_act_il</th>\n",
       "      <th>sec_app_num_rev_accts</th>\n",
       "      <th>sec_app_chargeoff_within_12_mths</th>\n",
       "      <th>sec_app_collections_12_mths_ex_med</th>\n",
       "      <th>sec_app_mths_since_last_major_derog</th>\n",
       "      <th>hardship_flag</th>\n",
       "      <th>hardship_type</th>\n",
       "      <th>hardship_reason</th>\n",
       "      <th>hardship_status</th>\n",
       "      <th>deferral_term</th>\n",
       "      <th>hardship_amount</th>\n",
       "      <th>hardship_start_date</th>\n",
       "      <th>hardship_end_date</th>\n",
       "      <th>payment_plan_start_date</th>\n",
       "      <th>hardship_length</th>\n",
       "      <th>hardship_dpd</th>\n",
       "      <th>hardship_loan_status</th>\n",
       "      <th>orig_projected_additional_accrued_interest</th>\n",
       "      <th>hardship_payoff_balance_amount</th>\n",
       "      <th>hardship_last_payment_amount</th>\n",
       "      <th>disbursement_method</th>\n",
       "      <th>debt_settlement_flag</th>\n",
       "      <th>debt_settlement_flag_date</th>\n",
       "      <th>settlement_status</th>\n",
       "      <th>settlement_date</th>\n",
       "      <th>settlement_amount</th>\n",
       "      <th>settlement_percentage</th>\n",
       "      <th>settlement_term</th>\n",
       "    </tr>\n",
       "  </thead>\n",
       "  <tbody>\n",
       "    <tr>\n",
       "      <th>1988777</th>\n",
       "      <td>86994450</td>\n",
       "      <td>nan</td>\n",
       "      <td>10,575.00</td>\n",
       "      <td>10,575.00</td>\n",
       "      <td>10,575.00</td>\n",
       "      <td>36 months</td>\n",
       "      <td>10.49</td>\n",
       "      <td>343.67</td>\n",
       "      <td>B</td>\n",
       "      <td>B3</td>\n",
       "      <td>physician</td>\n",
       "      <td>3 years</td>\n",
       "      <td>MORTGAGE</td>\n",
       "      <td>107,000.00</td>\n",
       "      <td>Verified</td>\n",
       "      <td>Aug-2016</td>\n",
       "      <td>Fully Paid</td>\n",
       "      <td>n</td>\n",
       "      <td>https://lendingclub.com/browse/loanDetail.action?loan_id=86994450</td>\n",
       "      <td>NaN</td>\n",
       "      <td>renewable_energy</td>\n",
       "      <td>Green loan</td>\n",
       "      <td>750xx</td>\n",
       "      <td>TX</td>\n",
       "      <td>29.17</td>\n",
       "      <td>0.00</td>\n",
       "      <td>Apr-1991</td>\n",
       "      <td>780.00</td>\n",
       "      <td>784.00</td>\n",
       "      <td>0.00</td>\n",
       "      <td>35.00</td>\n",
       "      <td>nan</td>\n",
       "      <td>9.00</td>\n",
       "      <td>0.00</td>\n",
       "      <td>7,328.00</td>\n",
       "      <td>12.40</td>\n",
       "      <td>19.00</td>\n",
       "      <td>f</td>\n",
       "      <td>0.00</td>\n",
       "      <td>0.00</td>\n",
       "      <td>10,870.84</td>\n",
       "      <td>10,870.84</td>\n",
       "      <td>10,575.00</td>\n",
       "      <td>278.66</td>\n",
       "      <td>17.18</td>\n",
       "      <td>0.00</td>\n",
       "      <td>0.00</td>\n",
       "      <td>Nov-2016</td>\n",
       "      <td>10,539.50</td>\n",
       "      <td>NaN</td>\n",
       "      <td>Nov-2016</td>\n",
       "      <td>784.00</td>\n",
       "      <td>780.00</td>\n",
       "      <td>0.00</td>\n",
       "      <td>nan</td>\n",
       "      <td>1.00</td>\n",
       "      <td>Individual</td>\n",
       "      <td>nan</td>\n",
       "      <td>nan</td>\n",
       "      <td>NaN</td>\n",
       "      <td>0.00</td>\n",
       "      <td>0.00</td>\n",
       "      <td>571,426.00</td>\n",
       "      <td>0.00</td>\n",
       "      <td>1.00</td>\n",
       "      <td>1.00</td>\n",
       "      <td>1.00</td>\n",
       "      <td>8.00</td>\n",
       "      <td>108,562.00</td>\n",
       "      <td>nan</td>\n",
       "      <td>0.00</td>\n",
       "      <td>0.00</td>\n",
       "      <td>7,328.00</td>\n",
       "      <td>19.00</td>\n",
       "      <td>71,100.00</td>\n",
       "      <td>2.00</td>\n",
       "      <td>0.00</td>\n",
       "      <td>1.00</td>\n",
       "      <td>2.00</td>\n",
       "      <td>81,632.00</td>\n",
       "      <td>63,772.00</td>\n",
       "      <td>12.40</td>\n",
       "      <td>0.00</td>\n",
       "      <td>0.00</td>\n",
       "      <td>169.00</td>\n",
       "      <td>304.00</td>\n",
       "      <td>51.00</td>\n",
       "      <td>8.00</td>\n",
       "      <td>4.00</td>\n",
       "      <td>51.00</td>\n",
       "      <td>nan</td>\n",
       "      <td>8.00</td>\n",
       "      <td>nan</td>\n",
       "      <td>0.00</td>\n",
       "      <td>1.00</td>\n",
       "      <td>1.00</td>\n",
       "      <td>4.00</td>\n",
       "      <td>5.00</td>\n",
       "      <td>7.00</td>\n",
       "      <td>6.00</td>\n",
       "      <td>7.00</td>\n",
       "      <td>1.00</td>\n",
       "      <td>9.00</td>\n",
       "      <td>0.00</td>\n",
       "      <td>0.00</td>\n",
       "      <td>0.00</td>\n",
       "      <td>1.00</td>\n",
       "      <td>94.70</td>\n",
       "      <td>0.00</td>\n",
       "      <td>0.00</td>\n",
       "      <td>0.00</td>\n",
       "      <td>676,500.00</td>\n",
       "      <td>123,753.00</td>\n",
       "      <td>71,100.00</td>\n",
       "      <td>122,488.00</td>\n",
       "      <td>nan</td>\n",
       "      <td>nan</td>\n",
       "      <td>nan</td>\n",
       "      <td>NaN</td>\n",
       "      <td>nan</td>\n",
       "      <td>nan</td>\n",
       "      <td>nan</td>\n",
       "      <td>nan</td>\n",
       "      <td>nan</td>\n",
       "      <td>nan</td>\n",
       "      <td>nan</td>\n",
       "      <td>nan</td>\n",
       "      <td>nan</td>\n",
       "      <td>N</td>\n",
       "      <td>NaN</td>\n",
       "      <td>NaN</td>\n",
       "      <td>NaN</td>\n",
       "      <td>nan</td>\n",
       "      <td>nan</td>\n",
       "      <td>NaN</td>\n",
       "      <td>NaN</td>\n",
       "      <td>NaN</td>\n",
       "      <td>nan</td>\n",
       "      <td>nan</td>\n",
       "      <td>NaN</td>\n",
       "      <td>nan</td>\n",
       "      <td>nan</td>\n",
       "      <td>nan</td>\n",
       "      <td>Cash</td>\n",
       "      <td>N</td>\n",
       "      <td>NaN</td>\n",
       "      <td>NaN</td>\n",
       "      <td>NaN</td>\n",
       "      <td>nan</td>\n",
       "      <td>nan</td>\n",
       "      <td>nan</td>\n",
       "    </tr>\n",
       "    <tr>\n",
       "      <th>1890579</th>\n",
       "      <td>2307012</td>\n",
       "      <td>nan</td>\n",
       "      <td>9,500.00</td>\n",
       "      <td>9,500.00</td>\n",
       "      <td>9,500.00</td>\n",
       "      <td>36 months</td>\n",
       "      <td>16.29</td>\n",
       "      <td>335.36</td>\n",
       "      <td>C</td>\n",
       "      <td>C4</td>\n",
       "      <td>LHI Inc.</td>\n",
       "      <td>3 years</td>\n",
       "      <td>OWN</td>\n",
       "      <td>36,000.00</td>\n",
       "      <td>Verified</td>\n",
       "      <td>Dec-2012</td>\n",
       "      <td>Fully Paid</td>\n",
       "      <td>n</td>\n",
       "      <td>https://lendingclub.com/browse/loanDetail.action?loan_id=2307012</td>\n",
       "      <td>NaN</td>\n",
       "      <td>credit_card</td>\n",
       "      <td>payitoff</td>\n",
       "      <td>546xx</td>\n",
       "      <td>WI</td>\n",
       "      <td>31.33</td>\n",
       "      <td>0.00</td>\n",
       "      <td>Jun-1990</td>\n",
       "      <td>695.00</td>\n",
       "      <td>699.00</td>\n",
       "      <td>2.00</td>\n",
       "      <td>52.00</td>\n",
       "      <td>nan</td>\n",
       "      <td>14.00</td>\n",
       "      <td>0.00</td>\n",
       "      <td>10,300.00</td>\n",
       "      <td>43.50</td>\n",
       "      <td>41.00</td>\n",
       "      <td>w</td>\n",
       "      <td>0.00</td>\n",
       "      <td>0.00</td>\n",
       "      <td>11,432.23</td>\n",
       "      <td>11,432.23</td>\n",
       "      <td>9,500.00</td>\n",
       "      <td>1,932.23</td>\n",
       "      <td>0.00</td>\n",
       "      <td>0.00</td>\n",
       "      <td>0.00</td>\n",
       "      <td>Jul-2014</td>\n",
       "      <td>5,398.67</td>\n",
       "      <td>NaN</td>\n",
       "      <td>Feb-2018</td>\n",
       "      <td>609.00</td>\n",
       "      <td>605.00</td>\n",
       "      <td>0.00</td>\n",
       "      <td>52.00</td>\n",
       "      <td>1.00</td>\n",
       "      <td>Individual</td>\n",
       "      <td>nan</td>\n",
       "      <td>nan</td>\n",
       "      <td>NaN</td>\n",
       "      <td>0.00</td>\n",
       "      <td>0.00</td>\n",
       "      <td>38,343.00</td>\n",
       "      <td>nan</td>\n",
       "      <td>nan</td>\n",
       "      <td>nan</td>\n",
       "      <td>nan</td>\n",
       "      <td>nan</td>\n",
       "      <td>nan</td>\n",
       "      <td>nan</td>\n",
       "      <td>nan</td>\n",
       "      <td>nan</td>\n",
       "      <td>nan</td>\n",
       "      <td>nan</td>\n",
       "      <td>23,700.00</td>\n",
       "      <td>nan</td>\n",
       "      <td>nan</td>\n",
       "      <td>nan</td>\n",
       "      <td>7.00</td>\n",
       "      <td>2,739.00</td>\n",
       "      <td>407.00</td>\n",
       "      <td>93.20</td>\n",
       "      <td>0.00</td>\n",
       "      <td>0.00</td>\n",
       "      <td>122.00</td>\n",
       "      <td>273.00</td>\n",
       "      <td>2.00</td>\n",
       "      <td>2.00</td>\n",
       "      <td>1.00</td>\n",
       "      <td>23.00</td>\n",
       "      <td>52.00</td>\n",
       "      <td>3.00</td>\n",
       "      <td>52.00</td>\n",
       "      <td>4.00</td>\n",
       "      <td>4.00</td>\n",
       "      <td>10.00</td>\n",
       "      <td>4.00</td>\n",
       "      <td>12.00</td>\n",
       "      <td>7.00</td>\n",
       "      <td>13.00</td>\n",
       "      <td>33.00</td>\n",
       "      <td>10.00</td>\n",
       "      <td>14.00</td>\n",
       "      <td>0.00</td>\n",
       "      <td>0.00</td>\n",
       "      <td>0.00</td>\n",
       "      <td>2.00</td>\n",
       "      <td>92.00</td>\n",
       "      <td>100.00</td>\n",
       "      <td>0.00</td>\n",
       "      <td>0.00</td>\n",
       "      <td>56,207.00</td>\n",
       "      <td>38,343.00</td>\n",
       "      <td>6,000.00</td>\n",
       "      <td>32,507.00</td>\n",
       "      <td>nan</td>\n",
       "      <td>nan</td>\n",
       "      <td>nan</td>\n",
       "      <td>NaN</td>\n",
       "      <td>nan</td>\n",
       "      <td>nan</td>\n",
       "      <td>nan</td>\n",
       "      <td>nan</td>\n",
       "      <td>nan</td>\n",
       "      <td>nan</td>\n",
       "      <td>nan</td>\n",
       "      <td>nan</td>\n",
       "      <td>nan</td>\n",
       "      <td>N</td>\n",
       "      <td>NaN</td>\n",
       "      <td>NaN</td>\n",
       "      <td>NaN</td>\n",
       "      <td>nan</td>\n",
       "      <td>nan</td>\n",
       "      <td>NaN</td>\n",
       "      <td>NaN</td>\n",
       "      <td>NaN</td>\n",
       "      <td>nan</td>\n",
       "      <td>nan</td>\n",
       "      <td>NaN</td>\n",
       "      <td>nan</td>\n",
       "      <td>nan</td>\n",
       "      <td>nan</td>\n",
       "      <td>Cash</td>\n",
       "      <td>N</td>\n",
       "      <td>NaN</td>\n",
       "      <td>NaN</td>\n",
       "      <td>NaN</td>\n",
       "      <td>nan</td>\n",
       "      <td>nan</td>\n",
       "      <td>nan</td>\n",
       "    </tr>\n",
       "    <tr>\n",
       "      <th>2244833</th>\n",
       "      <td>91249171</td>\n",
       "      <td>nan</td>\n",
       "      <td>8,000.00</td>\n",
       "      <td>8,000.00</td>\n",
       "      <td>8,000.00</td>\n",
       "      <td>36 months</td>\n",
       "      <td>14.49</td>\n",
       "      <td>275.33</td>\n",
       "      <td>C</td>\n",
       "      <td>C4</td>\n",
       "      <td>Assistant Vice President &amp; Actuary</td>\n",
       "      <td>10+ years</td>\n",
       "      <td>MORTGAGE</td>\n",
       "      <td>162,000.00</td>\n",
       "      <td>Source Verified</td>\n",
       "      <td>Oct-2016</td>\n",
       "      <td>Current</td>\n",
       "      <td>n</td>\n",
       "      <td>https://lendingclub.com/browse/loanDetail.action?loan_id=91249171</td>\n",
       "      <td>NaN</td>\n",
       "      <td>debt_consolidation</td>\n",
       "      <td>Debt consolidation</td>\n",
       "      <td>028xx</td>\n",
       "      <td>RI</td>\n",
       "      <td>29.87</td>\n",
       "      <td>0.00</td>\n",
       "      <td>Aug-1993</td>\n",
       "      <td>675.00</td>\n",
       "      <td>679.00</td>\n",
       "      <td>0.00</td>\n",
       "      <td>nan</td>\n",
       "      <td>nan</td>\n",
       "      <td>22.00</td>\n",
       "      <td>0.00</td>\n",
       "      <td>41,456.00</td>\n",
       "      <td>89.70</td>\n",
       "      <td>34.00</td>\n",
       "      <td>w</td>\n",
       "      <td>1,839.83</td>\n",
       "      <td>1,839.83</td>\n",
       "      <td>7,993.13</td>\n",
       "      <td>7,993.13</td>\n",
       "      <td>6,160.17</td>\n",
       "      <td>1,817.96</td>\n",
       "      <td>15.00</td>\n",
       "      <td>0.00</td>\n",
       "      <td>0.00</td>\n",
       "      <td>Mar-2019</td>\n",
       "      <td>275.33</td>\n",
       "      <td>Apr-2019</td>\n",
       "      <td>Mar-2019</td>\n",
       "      <td>644.00</td>\n",
       "      <td>640.00</td>\n",
       "      <td>0.00</td>\n",
       "      <td>nan</td>\n",
       "      <td>1.00</td>\n",
       "      <td>Individual</td>\n",
       "      <td>nan</td>\n",
       "      <td>nan</td>\n",
       "      <td>NaN</td>\n",
       "      <td>0.00</td>\n",
       "      <td>0.00</td>\n",
       "      <td>536,784.00</td>\n",
       "      <td>1.00</td>\n",
       "      <td>7.00</td>\n",
       "      <td>1.00</td>\n",
       "      <td>2.00</td>\n",
       "      <td>8.00</td>\n",
       "      <td>155,699.00</td>\n",
       "      <td>72.00</td>\n",
       "      <td>1.00</td>\n",
       "      <td>2.00</td>\n",
       "      <td>9,358.00</td>\n",
       "      <td>76.00</td>\n",
       "      <td>46,200.00</td>\n",
       "      <td>1.00</td>\n",
       "      <td>1.00</td>\n",
       "      <td>0.00</td>\n",
       "      <td>4.00</td>\n",
       "      <td>24,399.00</td>\n",
       "      <td>944.00</td>\n",
       "      <td>97.80</td>\n",
       "      <td>0.00</td>\n",
       "      <td>0.00</td>\n",
       "      <td>109.00</td>\n",
       "      <td>191.00</td>\n",
       "      <td>3.00</td>\n",
       "      <td>3.00</td>\n",
       "      <td>4.00</td>\n",
       "      <td>3.00</td>\n",
       "      <td>nan</td>\n",
       "      <td>13.00</td>\n",
       "      <td>nan</td>\n",
       "      <td>0.00</td>\n",
       "      <td>11.00</td>\n",
       "      <td>11.00</td>\n",
       "      <td>11.00</td>\n",
       "      <td>15.00</td>\n",
       "      <td>9.00</td>\n",
       "      <td>13.00</td>\n",
       "      <td>21.00</td>\n",
       "      <td>11.00</td>\n",
       "      <td>22.00</td>\n",
       "      <td>0.00</td>\n",
       "      <td>0.00</td>\n",
       "      <td>0.00</td>\n",
       "      <td>2.00</td>\n",
       "      <td>100.00</td>\n",
       "      <td>100.00</td>\n",
       "      <td>0.00</td>\n",
       "      <td>0.00</td>\n",
       "      <td>669,700.00</td>\n",
       "      <td>197,155.00</td>\n",
       "      <td>42,400.00</td>\n",
       "      <td>209,590.00</td>\n",
       "      <td>nan</td>\n",
       "      <td>nan</td>\n",
       "      <td>nan</td>\n",
       "      <td>NaN</td>\n",
       "      <td>nan</td>\n",
       "      <td>nan</td>\n",
       "      <td>nan</td>\n",
       "      <td>nan</td>\n",
       "      <td>nan</td>\n",
       "      <td>nan</td>\n",
       "      <td>nan</td>\n",
       "      <td>nan</td>\n",
       "      <td>nan</td>\n",
       "      <td>N</td>\n",
       "      <td>NaN</td>\n",
       "      <td>NaN</td>\n",
       "      <td>NaN</td>\n",
       "      <td>nan</td>\n",
       "      <td>nan</td>\n",
       "      <td>NaN</td>\n",
       "      <td>NaN</td>\n",
       "      <td>NaN</td>\n",
       "      <td>nan</td>\n",
       "      <td>nan</td>\n",
       "      <td>NaN</td>\n",
       "      <td>nan</td>\n",
       "      <td>nan</td>\n",
       "      <td>nan</td>\n",
       "      <td>Cash</td>\n",
       "      <td>N</td>\n",
       "      <td>NaN</td>\n",
       "      <td>NaN</td>\n",
       "      <td>NaN</td>\n",
       "      <td>nan</td>\n",
       "      <td>nan</td>\n",
       "      <td>nan</td>\n",
       "    </tr>\n",
       "    <tr>\n",
       "      <th>568496</th>\n",
       "      <td>117217358</td>\n",
       "      <td>nan</td>\n",
       "      <td>16,000.00</td>\n",
       "      <td>16,000.00</td>\n",
       "      <td>16,000.00</td>\n",
       "      <td>36 months</td>\n",
       "      <td>10.91</td>\n",
       "      <td>523.14</td>\n",
       "      <td>B</td>\n",
       "      <td>B4</td>\n",
       "      <td>Seafood Manager</td>\n",
       "      <td>10+ years</td>\n",
       "      <td>RENT</td>\n",
       "      <td>56,000.00</td>\n",
       "      <td>Source Verified</td>\n",
       "      <td>Aug-2017</td>\n",
       "      <td>Current</td>\n",
       "      <td>n</td>\n",
       "      <td>https://lendingclub.com/browse/loanDetail.action?loan_id=117217358</td>\n",
       "      <td>NaN</td>\n",
       "      <td>debt_consolidation</td>\n",
       "      <td>Debt consolidation</td>\n",
       "      <td>786xx</td>\n",
       "      <td>TX</td>\n",
       "      <td>21.24</td>\n",
       "      <td>0.00</td>\n",
       "      <td>Jan-2008</td>\n",
       "      <td>695.00</td>\n",
       "      <td>699.00</td>\n",
       "      <td>0.00</td>\n",
       "      <td>nan</td>\n",
       "      <td>nan</td>\n",
       "      <td>5.00</td>\n",
       "      <td>0.00</td>\n",
       "      <td>28,817.00</td>\n",
       "      <td>65.50</td>\n",
       "      <td>15.00</td>\n",
       "      <td>w</td>\n",
       "      <td>8,650.16</td>\n",
       "      <td>8,650.16</td>\n",
       "      <td>9,406.82</td>\n",
       "      <td>9,406.82</td>\n",
       "      <td>7,349.84</td>\n",
       "      <td>2,056.98</td>\n",
       "      <td>0.00</td>\n",
       "      <td>0.00</td>\n",
       "      <td>0.00</td>\n",
       "      <td>Feb-2019</td>\n",
       "      <td>523.14</td>\n",
       "      <td>Apr-2019</td>\n",
       "      <td>Mar-2019</td>\n",
       "      <td>734.00</td>\n",
       "      <td>730.00</td>\n",
       "      <td>0.00</td>\n",
       "      <td>nan</td>\n",
       "      <td>1.00</td>\n",
       "      <td>Individual</td>\n",
       "      <td>nan</td>\n",
       "      <td>nan</td>\n",
       "      <td>NaN</td>\n",
       "      <td>0.00</td>\n",
       "      <td>0.00</td>\n",
       "      <td>44,123.00</td>\n",
       "      <td>0.00</td>\n",
       "      <td>1.00</td>\n",
       "      <td>0.00</td>\n",
       "      <td>1.00</td>\n",
       "      <td>21.00</td>\n",
       "      <td>15,306.00</td>\n",
       "      <td>74.00</td>\n",
       "      <td>1.00</td>\n",
       "      <td>2.00</td>\n",
       "      <td>10,193.00</td>\n",
       "      <td>68.00</td>\n",
       "      <td>44,000.00</td>\n",
       "      <td>1.00</td>\n",
       "      <td>1.00</td>\n",
       "      <td>1.00</td>\n",
       "      <td>3.00</td>\n",
       "      <td>8,825.00</td>\n",
       "      <td>9,307.00</td>\n",
       "      <td>52.30</td>\n",
       "      <td>0.00</td>\n",
       "      <td>0.00</td>\n",
       "      <td>115.00</td>\n",
       "      <td>111.00</td>\n",
       "      <td>9.00</td>\n",
       "      <td>9.00</td>\n",
       "      <td>0.00</td>\n",
       "      <td>111.00</td>\n",
       "      <td>nan</td>\n",
       "      <td>9.00</td>\n",
       "      <td>nan</td>\n",
       "      <td>0.00</td>\n",
       "      <td>1.00</td>\n",
       "      <td>4.00</td>\n",
       "      <td>1.00</td>\n",
       "      <td>1.00</td>\n",
       "      <td>9.00</td>\n",
       "      <td>4.00</td>\n",
       "      <td>6.00</td>\n",
       "      <td>4.00</td>\n",
       "      <td>5.00</td>\n",
       "      <td>0.00</td>\n",
       "      <td>0.00</td>\n",
       "      <td>0.00</td>\n",
       "      <td>1.00</td>\n",
       "      <td>100.00</td>\n",
       "      <td>0.00</td>\n",
       "      <td>0.00</td>\n",
       "      <td>0.00</td>\n",
       "      <td>64,672.00</td>\n",
       "      <td>44,123.00</td>\n",
       "      <td>19,500.00</td>\n",
       "      <td>20,672.00</td>\n",
       "      <td>nan</td>\n",
       "      <td>nan</td>\n",
       "      <td>nan</td>\n",
       "      <td>NaN</td>\n",
       "      <td>nan</td>\n",
       "      <td>nan</td>\n",
       "      <td>nan</td>\n",
       "      <td>nan</td>\n",
       "      <td>nan</td>\n",
       "      <td>nan</td>\n",
       "      <td>nan</td>\n",
       "      <td>nan</td>\n",
       "      <td>nan</td>\n",
       "      <td>N</td>\n",
       "      <td>NaN</td>\n",
       "      <td>NaN</td>\n",
       "      <td>NaN</td>\n",
       "      <td>nan</td>\n",
       "      <td>nan</td>\n",
       "      <td>NaN</td>\n",
       "      <td>NaN</td>\n",
       "      <td>NaN</td>\n",
       "      <td>nan</td>\n",
       "      <td>nan</td>\n",
       "      <td>NaN</td>\n",
       "      <td>nan</td>\n",
       "      <td>nan</td>\n",
       "      <td>nan</td>\n",
       "      <td>Cash</td>\n",
       "      <td>N</td>\n",
       "      <td>NaN</td>\n",
       "      <td>NaN</td>\n",
       "      <td>NaN</td>\n",
       "      <td>nan</td>\n",
       "      <td>nan</td>\n",
       "      <td>nan</td>\n",
       "    </tr>\n",
       "    <tr>\n",
       "      <th>2179822</th>\n",
       "      <td>94425399</td>\n",
       "      <td>nan</td>\n",
       "      <td>12,000.00</td>\n",
       "      <td>12,000.00</td>\n",
       "      <td>12,000.00</td>\n",
       "      <td>60 months</td>\n",
       "      <td>21.49</td>\n",
       "      <td>327.96</td>\n",
       "      <td>D</td>\n",
       "      <td>D5</td>\n",
       "      <td>Truck Driver</td>\n",
       "      <td>5 years</td>\n",
       "      <td>OWN</td>\n",
       "      <td>62,000.00</td>\n",
       "      <td>Source Verified</td>\n",
       "      <td>Dec-2016</td>\n",
       "      <td>Charged Off</td>\n",
       "      <td>n</td>\n",
       "      <td>https://lendingclub.com/browse/loanDetail.action?loan_id=94425399</td>\n",
       "      <td>NaN</td>\n",
       "      <td>debt_consolidation</td>\n",
       "      <td>Debt consolidation</td>\n",
       "      <td>380xx</td>\n",
       "      <td>TN</td>\n",
       "      <td>31.11</td>\n",
       "      <td>1.00</td>\n",
       "      <td>Jul-2007</td>\n",
       "      <td>670.00</td>\n",
       "      <td>674.00</td>\n",
       "      <td>0.00</td>\n",
       "      <td>17.00</td>\n",
       "      <td>nan</td>\n",
       "      <td>13.00</td>\n",
       "      <td>0.00</td>\n",
       "      <td>11,164.00</td>\n",
       "      <td>42.60</td>\n",
       "      <td>21.00</td>\n",
       "      <td>w</td>\n",
       "      <td>0.00</td>\n",
       "      <td>0.00</td>\n",
       "      <td>5,108.10</td>\n",
       "      <td>5,108.10</td>\n",
       "      <td>1,361.22</td>\n",
       "      <td>2,217.69</td>\n",
       "      <td>0.00</td>\n",
       "      <td>1,529.19</td>\n",
       "      <td>275.25</td>\n",
       "      <td>Nov-2017</td>\n",
       "      <td>327.96</td>\n",
       "      <td>NaN</td>\n",
       "      <td>May-2018</td>\n",
       "      <td>539.00</td>\n",
       "      <td>535.00</td>\n",
       "      <td>0.00</td>\n",
       "      <td>nan</td>\n",
       "      <td>1.00</td>\n",
       "      <td>Joint App</td>\n",
       "      <td>97,888.00</td>\n",
       "      <td>24.80</td>\n",
       "      <td>Not Verified</td>\n",
       "      <td>0.00</td>\n",
       "      <td>0.00</td>\n",
       "      <td>242,592.00</td>\n",
       "      <td>1.00</td>\n",
       "      <td>3.00</td>\n",
       "      <td>2.00</td>\n",
       "      <td>2.00</td>\n",
       "      <td>4.00</td>\n",
       "      <td>30,574.00</td>\n",
       "      <td>63.00</td>\n",
       "      <td>0.00</td>\n",
       "      <td>2.00</td>\n",
       "      <td>4,794.00</td>\n",
       "      <td>56.00</td>\n",
       "      <td>26,200.00</td>\n",
       "      <td>1.00</td>\n",
       "      <td>0.00</td>\n",
       "      <td>3.00</td>\n",
       "      <td>5.00</td>\n",
       "      <td>18,661.00</td>\n",
       "      <td>2,730.00</td>\n",
       "      <td>70.60</td>\n",
       "      <td>0.00</td>\n",
       "      <td>0.00</td>\n",
       "      <td>49.00</td>\n",
       "      <td>113.00</td>\n",
       "      <td>14.00</td>\n",
       "      <td>4.00</td>\n",
       "      <td>2.00</td>\n",
       "      <td>17.00</td>\n",
       "      <td>nan</td>\n",
       "      <td>5.00</td>\n",
       "      <td>nan</td>\n",
       "      <td>0.00</td>\n",
       "      <td>3.00</td>\n",
       "      <td>6.00</td>\n",
       "      <td>3.00</td>\n",
       "      <td>7.00</td>\n",
       "      <td>6.00</td>\n",
       "      <td>9.00</td>\n",
       "      <td>13.00</td>\n",
       "      <td>6.00</td>\n",
       "      <td>13.00</td>\n",
       "      <td>0.00</td>\n",
       "      <td>0.00</td>\n",
       "      <td>0.00</td>\n",
       "      <td>2.00</td>\n",
       "      <td>95.20</td>\n",
       "      <td>33.30</td>\n",
       "      <td>0.00</td>\n",
       "      <td>0.00</td>\n",
       "      <td>279,387.00</td>\n",
       "      <td>41,738.00</td>\n",
       "      <td>9,300.00</td>\n",
       "      <td>48,230.00</td>\n",
       "      <td>nan</td>\n",
       "      <td>nan</td>\n",
       "      <td>nan</td>\n",
       "      <td>NaN</td>\n",
       "      <td>nan</td>\n",
       "      <td>nan</td>\n",
       "      <td>nan</td>\n",
       "      <td>nan</td>\n",
       "      <td>nan</td>\n",
       "      <td>nan</td>\n",
       "      <td>nan</td>\n",
       "      <td>nan</td>\n",
       "      <td>nan</td>\n",
       "      <td>N</td>\n",
       "      <td>NaN</td>\n",
       "      <td>NaN</td>\n",
       "      <td>NaN</td>\n",
       "      <td>nan</td>\n",
       "      <td>nan</td>\n",
       "      <td>NaN</td>\n",
       "      <td>NaN</td>\n",
       "      <td>NaN</td>\n",
       "      <td>nan</td>\n",
       "      <td>nan</td>\n",
       "      <td>NaN</td>\n",
       "      <td>nan</td>\n",
       "      <td>nan</td>\n",
       "      <td>nan</td>\n",
       "      <td>Cash</td>\n",
       "      <td>N</td>\n",
       "      <td>NaN</td>\n",
       "      <td>NaN</td>\n",
       "      <td>NaN</td>\n",
       "      <td>nan</td>\n",
       "      <td>nan</td>\n",
       "      <td>nan</td>\n",
       "    </tr>\n",
       "  </tbody>\n",
       "</table>\n",
       "</div>"
      ],
      "text/plain": [
       "                id  member_id  loan_amnt  funded_amnt  funded_amnt_inv  \\\n",
       "1988777   86994450        nan  10,575.00    10,575.00        10,575.00   \n",
       "1890579    2307012        nan   9,500.00     9,500.00         9,500.00   \n",
       "2244833   91249171        nan   8,000.00     8,000.00         8,000.00   \n",
       "568496   117217358        nan  16,000.00    16,000.00        16,000.00   \n",
       "2179822   94425399        nan  12,000.00    12,000.00        12,000.00   \n",
       "\n",
       "               term  int_rate  installment grade sub_grade  \\\n",
       "1988777   36 months     10.49       343.67     B        B3   \n",
       "1890579   36 months     16.29       335.36     C        C4   \n",
       "2244833   36 months     14.49       275.33     C        C4   \n",
       "568496    36 months     10.91       523.14     B        B4   \n",
       "2179822   60 months     21.49       327.96     D        D5   \n",
       "\n",
       "                                  emp_title emp_length home_ownership  \\\n",
       "1988777                           physician    3 years       MORTGAGE   \n",
       "1890579                            LHI Inc.    3 years            OWN   \n",
       "2244833  Assistant Vice President & Actuary  10+ years       MORTGAGE   \n",
       "568496                      Seafood Manager  10+ years           RENT   \n",
       "2179822                        Truck Driver    5 years            OWN   \n",
       "\n",
       "         annual_inc verification_status   issue_d  loan_status pymnt_plan  \\\n",
       "1988777  107,000.00            Verified  Aug-2016   Fully Paid          n   \n",
       "1890579   36,000.00            Verified  Dec-2012   Fully Paid          n   \n",
       "2244833  162,000.00     Source Verified  Oct-2016      Current          n   \n",
       "568496    56,000.00     Source Verified  Aug-2017      Current          n   \n",
       "2179822   62,000.00     Source Verified  Dec-2016  Charged Off          n   \n",
       "\n",
       "                                                                        url  \\\n",
       "1988777   https://lendingclub.com/browse/loanDetail.action?loan_id=86994450   \n",
       "1890579    https://lendingclub.com/browse/loanDetail.action?loan_id=2307012   \n",
       "2244833   https://lendingclub.com/browse/loanDetail.action?loan_id=91249171   \n",
       "568496   https://lendingclub.com/browse/loanDetail.action?loan_id=117217358   \n",
       "2179822   https://lendingclub.com/browse/loanDetail.action?loan_id=94425399   \n",
       "\n",
       "        desc             purpose               title zip_code addr_state  \\\n",
       "1988777  NaN    renewable_energy          Green loan    750xx         TX   \n",
       "1890579  NaN         credit_card            payitoff    546xx         WI   \n",
       "2244833  NaN  debt_consolidation  Debt consolidation    028xx         RI   \n",
       "568496   NaN  debt_consolidation  Debt consolidation    786xx         TX   \n",
       "2179822  NaN  debt_consolidation  Debt consolidation    380xx         TN   \n",
       "\n",
       "          dti  delinq_2yrs earliest_cr_line  fico_range_low  fico_range_high  \\\n",
       "1988777 29.17         0.00         Apr-1991          780.00           784.00   \n",
       "1890579 31.33         0.00         Jun-1990          695.00           699.00   \n",
       "2244833 29.87         0.00         Aug-1993          675.00           679.00   \n",
       "568496  21.24         0.00         Jan-2008          695.00           699.00   \n",
       "2179822 31.11         1.00         Jul-2007          670.00           674.00   \n",
       "\n",
       "         inq_last_6mths  mths_since_last_delinq  mths_since_last_record  \\\n",
       "1988777            0.00                   35.00                     nan   \n",
       "1890579            2.00                   52.00                     nan   \n",
       "2244833            0.00                     nan                     nan   \n",
       "568496             0.00                     nan                     nan   \n",
       "2179822            0.00                   17.00                     nan   \n",
       "\n",
       "         open_acc  pub_rec  revol_bal  revol_util  total_acc  \\\n",
       "1988777      9.00     0.00   7,328.00       12.40      19.00   \n",
       "1890579     14.00     0.00  10,300.00       43.50      41.00   \n",
       "2244833     22.00     0.00  41,456.00       89.70      34.00   \n",
       "568496       5.00     0.00  28,817.00       65.50      15.00   \n",
       "2179822     13.00     0.00  11,164.00       42.60      21.00   \n",
       "\n",
       "        initial_list_status  out_prncp  out_prncp_inv  total_pymnt  \\\n",
       "1988777                   f       0.00           0.00    10,870.84   \n",
       "1890579                   w       0.00           0.00    11,432.23   \n",
       "2244833                   w   1,839.83       1,839.83     7,993.13   \n",
       "568496                    w   8,650.16       8,650.16     9,406.82   \n",
       "2179822                   w       0.00           0.00     5,108.10   \n",
       "\n",
       "         total_pymnt_inv  total_rec_prncp  total_rec_int  total_rec_late_fee  \\\n",
       "1988777        10,870.84        10,575.00         278.66               17.18   \n",
       "1890579        11,432.23         9,500.00       1,932.23                0.00   \n",
       "2244833         7,993.13         6,160.17       1,817.96               15.00   \n",
       "568496          9,406.82         7,349.84       2,056.98                0.00   \n",
       "2179822         5,108.10         1,361.22       2,217.69                0.00   \n",
       "\n",
       "         recoveries  collection_recovery_fee last_pymnt_d  last_pymnt_amnt  \\\n",
       "1988777        0.00                     0.00     Nov-2016        10,539.50   \n",
       "1890579        0.00                     0.00     Jul-2014         5,398.67   \n",
       "2244833        0.00                     0.00     Mar-2019           275.33   \n",
       "568496         0.00                     0.00     Feb-2019           523.14   \n",
       "2179822    1,529.19                   275.25     Nov-2017           327.96   \n",
       "\n",
       "        next_pymnt_d last_credit_pull_d  last_fico_range_high  \\\n",
       "1988777          NaN           Nov-2016                784.00   \n",
       "1890579          NaN           Feb-2018                609.00   \n",
       "2244833     Apr-2019           Mar-2019                644.00   \n",
       "568496      Apr-2019           Mar-2019                734.00   \n",
       "2179822          NaN           May-2018                539.00   \n",
       "\n",
       "         last_fico_range_low  collections_12_mths_ex_med  \\\n",
       "1988777               780.00                        0.00   \n",
       "1890579               605.00                        0.00   \n",
       "2244833               640.00                        0.00   \n",
       "568496                730.00                        0.00   \n",
       "2179822               535.00                        0.00   \n",
       "\n",
       "         mths_since_last_major_derog  policy_code application_type  \\\n",
       "1988777                          nan         1.00       Individual   \n",
       "1890579                        52.00         1.00       Individual   \n",
       "2244833                          nan         1.00       Individual   \n",
       "568496                           nan         1.00       Individual   \n",
       "2179822                          nan         1.00        Joint App   \n",
       "\n",
       "         annual_inc_joint  dti_joint verification_status_joint  \\\n",
       "1988777               nan        nan                       NaN   \n",
       "1890579               nan        nan                       NaN   \n",
       "2244833               nan        nan                       NaN   \n",
       "568496                nan        nan                       NaN   \n",
       "2179822         97,888.00      24.80              Not Verified   \n",
       "\n",
       "         acc_now_delinq  tot_coll_amt  tot_cur_bal  open_acc_6m  open_act_il  \\\n",
       "1988777            0.00          0.00   571,426.00         0.00         1.00   \n",
       "1890579            0.00          0.00    38,343.00          nan          nan   \n",
       "2244833            0.00          0.00   536,784.00         1.00         7.00   \n",
       "568496             0.00          0.00    44,123.00         0.00         1.00   \n",
       "2179822            0.00          0.00   242,592.00         1.00         3.00   \n",
       "\n",
       "         open_il_12m  open_il_24m  mths_since_rcnt_il  total_bal_il  il_util  \\\n",
       "1988777         1.00         1.00                8.00    108,562.00      nan   \n",
       "1890579          nan          nan                 nan           nan      nan   \n",
       "2244833         1.00         2.00                8.00    155,699.00    72.00   \n",
       "568496          0.00         1.00               21.00     15,306.00    74.00   \n",
       "2179822         2.00         2.00                4.00     30,574.00    63.00   \n",
       "\n",
       "         open_rv_12m  open_rv_24m  max_bal_bc  all_util  total_rev_hi_lim  \\\n",
       "1988777         0.00         0.00    7,328.00     19.00         71,100.00   \n",
       "1890579          nan          nan         nan       nan         23,700.00   \n",
       "2244833         1.00         2.00    9,358.00     76.00         46,200.00   \n",
       "568496          1.00         2.00   10,193.00     68.00         44,000.00   \n",
       "2179822         0.00         2.00    4,794.00     56.00         26,200.00   \n",
       "\n",
       "         inq_fi  total_cu_tl  inq_last_12m  acc_open_past_24mths  avg_cur_bal  \\\n",
       "1988777    2.00         0.00          1.00                  2.00    81,632.00   \n",
       "1890579     nan          nan           nan                  7.00     2,739.00   \n",
       "2244833    1.00         1.00          0.00                  4.00    24,399.00   \n",
       "568496     1.00         1.00          1.00                  3.00     8,825.00   \n",
       "2179822    1.00         0.00          3.00                  5.00    18,661.00   \n",
       "\n",
       "         bc_open_to_buy  bc_util  chargeoff_within_12_mths  delinq_amnt  \\\n",
       "1988777       63,772.00    12.40                      0.00         0.00   \n",
       "1890579          407.00    93.20                      0.00         0.00   \n",
       "2244833          944.00    97.80                      0.00         0.00   \n",
       "568496         9,307.00    52.30                      0.00         0.00   \n",
       "2179822        2,730.00    70.60                      0.00         0.00   \n",
       "\n",
       "         mo_sin_old_il_acct  mo_sin_old_rev_tl_op  mo_sin_rcnt_rev_tl_op  \\\n",
       "1988777              169.00                304.00                  51.00   \n",
       "1890579              122.00                273.00                   2.00   \n",
       "2244833              109.00                191.00                   3.00   \n",
       "568496               115.00                111.00                   9.00   \n",
       "2179822               49.00                113.00                  14.00   \n",
       "\n",
       "         mo_sin_rcnt_tl  mort_acc  mths_since_recent_bc  \\\n",
       "1988777            8.00      4.00                 51.00   \n",
       "1890579            2.00      1.00                 23.00   \n",
       "2244833            3.00      4.00                  3.00   \n",
       "568496             9.00      0.00                111.00   \n",
       "2179822            4.00      2.00                 17.00   \n",
       "\n",
       "         mths_since_recent_bc_dlq  mths_since_recent_inq  \\\n",
       "1988777                       nan                   8.00   \n",
       "1890579                     52.00                   3.00   \n",
       "2244833                       nan                  13.00   \n",
       "568496                        nan                   9.00   \n",
       "2179822                       nan                   5.00   \n",
       "\n",
       "         mths_since_recent_revol_delinq  num_accts_ever_120_pd  \\\n",
       "1988777                             nan                   0.00   \n",
       "1890579                           52.00                   4.00   \n",
       "2244833                             nan                   0.00   \n",
       "568496                              nan                   0.00   \n",
       "2179822                             nan                   0.00   \n",
       "\n",
       "         num_actv_bc_tl  num_actv_rev_tl  num_bc_sats  num_bc_tl  num_il_tl  \\\n",
       "1988777            1.00             1.00         4.00       5.00       7.00   \n",
       "1890579            4.00            10.00         4.00      12.00       7.00   \n",
       "2244833           11.00            11.00        11.00      15.00       9.00   \n",
       "568496             1.00             4.00         1.00       1.00       9.00   \n",
       "2179822            3.00             6.00         3.00       7.00       6.00   \n",
       "\n",
       "         num_op_rev_tl  num_rev_accts  num_rev_tl_bal_gt_0  num_sats  \\\n",
       "1988777           6.00           7.00                 1.00      9.00   \n",
       "1890579          13.00          33.00                10.00     14.00   \n",
       "2244833          13.00          21.00                11.00     22.00   \n",
       "568496            4.00           6.00                 4.00      5.00   \n",
       "2179822           9.00          13.00                 6.00     13.00   \n",
       "\n",
       "         num_tl_120dpd_2m  num_tl_30dpd  num_tl_90g_dpd_24m  \\\n",
       "1988777              0.00          0.00                0.00   \n",
       "1890579              0.00          0.00                0.00   \n",
       "2244833              0.00          0.00                0.00   \n",
       "568496               0.00          0.00                0.00   \n",
       "2179822              0.00          0.00                0.00   \n",
       "\n",
       "         num_tl_op_past_12m  pct_tl_nvr_dlq  percent_bc_gt_75  \\\n",
       "1988777                1.00           94.70              0.00   \n",
       "1890579                2.00           92.00            100.00   \n",
       "2244833                2.00          100.00            100.00   \n",
       "568496                 1.00          100.00              0.00   \n",
       "2179822                2.00           95.20             33.30   \n",
       "\n",
       "         pub_rec_bankruptcies  tax_liens  tot_hi_cred_lim  total_bal_ex_mort  \\\n",
       "1988777                  0.00       0.00       676,500.00         123,753.00   \n",
       "1890579                  0.00       0.00        56,207.00          38,343.00   \n",
       "2244833                  0.00       0.00       669,700.00         197,155.00   \n",
       "568496                   0.00       0.00        64,672.00          44,123.00   \n",
       "2179822                  0.00       0.00       279,387.00          41,738.00   \n",
       "\n",
       "         total_bc_limit  total_il_high_credit_limit  revol_bal_joint  \\\n",
       "1988777       71,100.00                  122,488.00              nan   \n",
       "1890579        6,000.00                   32,507.00              nan   \n",
       "2244833       42,400.00                  209,590.00              nan   \n",
       "568496        19,500.00                   20,672.00              nan   \n",
       "2179822        9,300.00                   48,230.00              nan   \n",
       "\n",
       "         sec_app_fico_range_low  sec_app_fico_range_high  \\\n",
       "1988777                     nan                      nan   \n",
       "1890579                     nan                      nan   \n",
       "2244833                     nan                      nan   \n",
       "568496                      nan                      nan   \n",
       "2179822                     nan                      nan   \n",
       "\n",
       "        sec_app_earliest_cr_line  sec_app_inq_last_6mths  sec_app_mort_acc  \\\n",
       "1988777                      NaN                     nan               nan   \n",
       "1890579                      NaN                     nan               nan   \n",
       "2244833                      NaN                     nan               nan   \n",
       "568496                       NaN                     nan               nan   \n",
       "2179822                      NaN                     nan               nan   \n",
       "\n",
       "         sec_app_open_acc  sec_app_revol_util  sec_app_open_act_il  \\\n",
       "1988777               nan                 nan                  nan   \n",
       "1890579               nan                 nan                  nan   \n",
       "2244833               nan                 nan                  nan   \n",
       "568496                nan                 nan                  nan   \n",
       "2179822               nan                 nan                  nan   \n",
       "\n",
       "         sec_app_num_rev_accts  sec_app_chargeoff_within_12_mths  \\\n",
       "1988777                    nan                               nan   \n",
       "1890579                    nan                               nan   \n",
       "2244833                    nan                               nan   \n",
       "568496                     nan                               nan   \n",
       "2179822                    nan                               nan   \n",
       "\n",
       "         sec_app_collections_12_mths_ex_med  \\\n",
       "1988777                                 nan   \n",
       "1890579                                 nan   \n",
       "2244833                                 nan   \n",
       "568496                                  nan   \n",
       "2179822                                 nan   \n",
       "\n",
       "         sec_app_mths_since_last_major_derog hardship_flag hardship_type  \\\n",
       "1988777                                  nan             N           NaN   \n",
       "1890579                                  nan             N           NaN   \n",
       "2244833                                  nan             N           NaN   \n",
       "568496                                   nan             N           NaN   \n",
       "2179822                                  nan             N           NaN   \n",
       "\n",
       "        hardship_reason hardship_status  deferral_term  hardship_amount  \\\n",
       "1988777             NaN             NaN            nan              nan   \n",
       "1890579             NaN             NaN            nan              nan   \n",
       "2244833             NaN             NaN            nan              nan   \n",
       "568496              NaN             NaN            nan              nan   \n",
       "2179822             NaN             NaN            nan              nan   \n",
       "\n",
       "        hardship_start_date hardship_end_date payment_plan_start_date  \\\n",
       "1988777                 NaN               NaN                     NaN   \n",
       "1890579                 NaN               NaN                     NaN   \n",
       "2244833                 NaN               NaN                     NaN   \n",
       "568496                  NaN               NaN                     NaN   \n",
       "2179822                 NaN               NaN                     NaN   \n",
       "\n",
       "         hardship_length  hardship_dpd hardship_loan_status  \\\n",
       "1988777              nan           nan                  NaN   \n",
       "1890579              nan           nan                  NaN   \n",
       "2244833              nan           nan                  NaN   \n",
       "568496               nan           nan                  NaN   \n",
       "2179822              nan           nan                  NaN   \n",
       "\n",
       "         orig_projected_additional_accrued_interest  \\\n",
       "1988777                                         nan   \n",
       "1890579                                         nan   \n",
       "2244833                                         nan   \n",
       "568496                                          nan   \n",
       "2179822                                         nan   \n",
       "\n",
       "         hardship_payoff_balance_amount  hardship_last_payment_amount  \\\n",
       "1988777                             nan                           nan   \n",
       "1890579                             nan                           nan   \n",
       "2244833                             nan                           nan   \n",
       "568496                              nan                           nan   \n",
       "2179822                             nan                           nan   \n",
       "\n",
       "        disbursement_method debt_settlement_flag debt_settlement_flag_date  \\\n",
       "1988777                Cash                    N                       NaN   \n",
       "1890579                Cash                    N                       NaN   \n",
       "2244833                Cash                    N                       NaN   \n",
       "568496                 Cash                    N                       NaN   \n",
       "2179822                Cash                    N                       NaN   \n",
       "\n",
       "        settlement_status settlement_date  settlement_amount  \\\n",
       "1988777               NaN             NaN                nan   \n",
       "1890579               NaN             NaN                nan   \n",
       "2244833               NaN             NaN                nan   \n",
       "568496                NaN             NaN                nan   \n",
       "2179822               NaN             NaN                nan   \n",
       "\n",
       "         settlement_percentage  settlement_term  \n",
       "1988777                    nan              nan  \n",
       "1890579                    nan              nan  \n",
       "2244833                    nan              nan  \n",
       "568496                     nan              nan  \n",
       "2179822                    nan              nan  "
      ]
     },
     "execution_count": 6,
     "metadata": {},
     "output_type": "execute_result"
    }
   ],
   "source": [
    "loans.head(5)"
   ]
  },
  {
   "cell_type": "code",
   "execution_count": 7,
   "metadata": {},
   "outputs": [
    {
     "data": {
      "text/plain": [
       "(22607, 151)"
      ]
     },
     "execution_count": 7,
     "metadata": {},
     "output_type": "execute_result"
    }
   ],
   "source": [
    "loans.shape"
   ]
  },
  {
   "cell_type": "code",
   "execution_count": null,
   "metadata": {},
   "outputs": [],
   "source": []
  },
  {
   "cell_type": "markdown",
   "metadata": {},
   "source": [
    "## Target Variable"
   ]
  },
  {
   "cell_type": "markdown",
   "metadata": {},
   "source": [
    "The Target Variable in this loan data is \"Loan_Status\", which we focus more on either loan status is \"Fully Paid\" or Charged Off. Will check on value counts of \"Loan_Status\" variable."
   ]
  },
  {
   "cell_type": "code",
   "execution_count": 8,
   "metadata": {},
   "outputs": [
    {
     "data": {
      "text/plain": [
       "Fully Paid                                             10853\n",
       "Current                                                 8694\n",
       "Charged Off                                             2686\n",
       "Late (31-120 days)                                       218\n",
       "In Grace Period                                           77\n",
       "Late (16-30 days)                                         54\n",
       "Does not meet the credit policy. Status:Fully Paid        20\n",
       "Does not meet the credit policy. Status:Charged Off        5\n",
       "Name: loan_status, dtype: int64"
      ]
     },
     "execution_count": 8,
     "metadata": {},
     "output_type": "execute_result"
    }
   ],
   "source": [
    "loans['loan_status'].value_counts(dropna=False) "
   ]
  },
  {
   "cell_type": "markdown",
   "metadata": {},
   "source": [
    "Will exclude the loans which status are in Current,Late (31-120 days),In Grace Period,Late (16-30 days),Does not meet the credit policy. Status:Fully Paid,Does not meet the credit policy. Status:Charged Off,Default and missing status"
   ]
  },
  {
   "cell_type": "code",
   "execution_count": 9,
   "metadata": {},
   "outputs": [],
   "source": [
    "loans = loans.loc[loans['loan_status'].isin(['Fully Paid', 'Charged Off'])] #Ignore other loan_status"
   ]
  },
  {
   "cell_type": "markdown",
   "metadata": {},
   "source": [
    "Loan_Status counts as percentages"
   ]
  },
  {
   "cell_type": "code",
   "execution_count": 10,
   "metadata": {},
   "outputs": [
    {
     "data": {
      "text/plain": [
       "Fully Paid    0.80\n",
       "Charged Off   0.20\n",
       "Name: loan_status, dtype: float64"
      ]
     },
     "execution_count": 10,
     "metadata": {},
     "output_type": "execute_result"
    }
   ],
   "source": [
    "loans['loan_status'].value_counts(normalize=True, dropna=False)"
   ]
  },
  {
   "cell_type": "markdown",
   "metadata": {},
   "source": [
    "80% are Fully Paid, 20% are Charged Off "
   ]
  },
  {
   "cell_type": "code",
   "execution_count": null,
   "metadata": {},
   "outputs": [],
   "source": []
  },
  {
   "cell_type": "markdown",
   "metadata": {},
   "source": [
    "## Data Preparation"
   ]
  },
  {
   "cell_type": "markdown",
   "metadata": {},
   "source": [
    "Drop columns with >30% data missing"
   ]
  },
  {
   "cell_type": "markdown",
   "metadata": {},
   "source": [
    "Calculate the missing data percentages of each feature"
   ]
  },
  {
   "cell_type": "code",
   "execution_count": 11,
   "metadata": {},
   "outputs": [],
   "source": [
    "missing_data = loans.isnull().mean().sort_values(ascending=False) #calculate % of missing data"
   ]
  },
  {
   "cell_type": "code",
   "execution_count": 12,
   "metadata": {},
   "outputs": [
    {
     "name": "stdout",
     "output_type": "stream",
     "text": [
      "['all_util', 'annual_inc_joint', 'debt_settlement_flag_date', 'deferral_term', 'desc', 'dti_joint', 'hardship_amount', 'hardship_dpd', 'hardship_end_date', 'hardship_last_payment_amount', 'hardship_length', 'hardship_loan_status', 'hardship_payoff_balance_amount', 'hardship_reason', 'hardship_start_date', 'hardship_status', 'hardship_type', 'il_util', 'inq_fi', 'inq_last_12m', 'max_bal_bc', 'member_id', 'mths_since_last_delinq', 'mths_since_last_major_derog', 'mths_since_last_record', 'mths_since_rcnt_il', 'mths_since_recent_bc_dlq', 'mths_since_recent_revol_delinq', 'next_pymnt_d', 'open_acc_6m', 'open_act_il', 'open_il_12m', 'open_il_24m', 'open_rv_12m', 'open_rv_24m', 'orig_projected_additional_accrued_interest', 'payment_plan_start_date', 'revol_bal_joint', 'sec_app_chargeoff_within_12_mths', 'sec_app_collections_12_mths_ex_med', 'sec_app_earliest_cr_line', 'sec_app_fico_range_high', 'sec_app_fico_range_low', 'sec_app_inq_last_6mths', 'sec_app_mort_acc', 'sec_app_mths_since_last_major_derog', 'sec_app_num_rev_accts', 'sec_app_open_acc', 'sec_app_open_act_il', 'sec_app_revol_util', 'settlement_amount', 'settlement_date', 'settlement_percentage', 'settlement_status', 'settlement_term', 'total_bal_il', 'total_cu_tl', 'verification_status_joint']\n"
     ]
    }
   ],
   "source": [
    "drop_list = sorted(list(missing_data[missing_data > 0.3].index))\n",
    "print(drop_list)"
   ]
  },
  {
   "cell_type": "code",
   "execution_count": 13,
   "metadata": {},
   "outputs": [
    {
     "data": {
      "text/plain": [
       "58"
      ]
     },
     "execution_count": 13,
     "metadata": {},
     "output_type": "execute_result"
    }
   ],
   "source": [
    "len(drop_list) #Missing data >30% columns"
   ]
  },
  {
   "cell_type": "code",
   "execution_count": 14,
   "metadata": {},
   "outputs": [],
   "source": [
    "loans.drop(labels=drop_list, axis=1, inplace=True) # Drop columns"
   ]
  },
  {
   "cell_type": "code",
   "execution_count": null,
   "metadata": {},
   "outputs": [],
   "source": []
  },
  {
   "cell_type": "markdown",
   "metadata": {},
   "source": [
    "### Keep variables needed for Investors"
   ]
  },
  {
   "cell_type": "code",
   "execution_count": 15,
   "metadata": {},
   "outputs": [],
   "source": [
    "keep_list = ['addr_state', 'annual_inc', 'application_type', 'dti', 'earliest_cr_line', 'emp_length', 'emp_title', 'fico_range_high', 'fico_range_low', 'grade', 'home_ownership', 'id', 'initial_list_status', 'installment', 'int_rate', 'issue_d', 'loan_amnt', 'loan_status', 'mort_acc', 'open_acc', 'pub_rec', 'pub_rec_bankruptcies', 'purpose', 'revol_bal', 'revol_util', 'sub_grade', 'term', 'title', 'total_acc', 'verification_status', 'zip_code']"
   ]
  },
  {
   "cell_type": "code",
   "execution_count": 16,
   "metadata": {},
   "outputs": [
    {
     "data": {
      "text/plain": [
       "31"
      ]
     },
     "execution_count": 16,
     "metadata": {},
     "output_type": "execute_result"
    }
   ],
   "source": [
    "len(keep_list)"
   ]
  },
  {
   "cell_type": "code",
   "execution_count": 17,
   "metadata": {},
   "outputs": [
    {
     "name": "stdout",
     "output_type": "stream",
     "text": [
      "['funded_amnt', 'funded_amnt_inv', 'pymnt_plan', 'url', 'delinq_2yrs', 'inq_last_6mths', 'out_prncp', 'out_prncp_inv', 'total_pymnt', 'total_pymnt_inv', 'total_rec_prncp', 'total_rec_int', 'total_rec_late_fee', 'recoveries', 'collection_recovery_fee', 'last_pymnt_d', 'last_pymnt_amnt', 'last_credit_pull_d', 'last_fico_range_high', 'last_fico_range_low', 'collections_12_mths_ex_med', 'policy_code', 'acc_now_delinq', 'tot_coll_amt', 'tot_cur_bal', 'total_rev_hi_lim', 'acc_open_past_24mths', 'avg_cur_bal', 'bc_open_to_buy', 'bc_util', 'chargeoff_within_12_mths', 'delinq_amnt', 'mo_sin_old_il_acct', 'mo_sin_old_rev_tl_op', 'mo_sin_rcnt_rev_tl_op', 'mo_sin_rcnt_tl', 'mths_since_recent_bc', 'mths_since_recent_inq', 'num_accts_ever_120_pd', 'num_actv_bc_tl', 'num_actv_rev_tl', 'num_bc_sats', 'num_bc_tl', 'num_il_tl', 'num_op_rev_tl', 'num_rev_accts', 'num_rev_tl_bal_gt_0', 'num_sats', 'num_tl_120dpd_2m', 'num_tl_30dpd', 'num_tl_90g_dpd_24m', 'num_tl_op_past_12m', 'pct_tl_nvr_dlq', 'percent_bc_gt_75', 'tax_liens', 'tot_hi_cred_lim', 'total_bal_ex_mort', 'total_bc_limit', 'total_il_high_credit_limit', 'hardship_flag', 'disbursement_method', 'debt_settlement_flag']\n"
     ]
    }
   ],
   "source": [
    "drop_list = [col for col in loans.columns if col not in keep_list]\n",
    "print(drop_list) #List remaining features not needed for investors"
   ]
  },
  {
   "cell_type": "code",
   "execution_count": 18,
   "metadata": {},
   "outputs": [
    {
     "data": {
      "text/plain": [
       "62"
      ]
     },
     "execution_count": 18,
     "metadata": {},
     "output_type": "execute_result"
    }
   ],
   "source": [
    "len(drop_list)"
   ]
  },
  {
   "cell_type": "code",
   "execution_count": 19,
   "metadata": {},
   "outputs": [],
   "source": [
    "loans.drop(labels=drop_list, axis=1, inplace=True) #Drop Features"
   ]
  },
  {
   "cell_type": "code",
   "execution_count": 20,
   "metadata": {},
   "outputs": [
    {
     "data": {
      "text/plain": [
       "(13539, 31)"
      ]
     },
     "execution_count": 20,
     "metadata": {},
     "output_type": "execute_result"
    }
   ],
   "source": [
    "loans.shape #Remaining Columns"
   ]
  },
  {
   "cell_type": "code",
   "execution_count": null,
   "metadata": {},
   "outputs": [],
   "source": []
  },
  {
   "cell_type": "markdown",
   "metadata": {},
   "source": [
    "## Exploratory Data Analysis"
   ]
  },
  {
   "cell_type": "markdown",
   "metadata": {},
   "source": [
    "Check dtypes of columns "
   ]
  },
  {
   "cell_type": "code",
   "execution_count": 21,
   "metadata": {},
   "outputs": [
    {
     "data": {
      "text/plain": [
       "id                       object\n",
       "loan_amnt               float64\n",
       "term                     object\n",
       "int_rate                float64\n",
       "installment             float64\n",
       "grade                    object\n",
       "sub_grade                object\n",
       "emp_title                object\n",
       "emp_length               object\n",
       "home_ownership           object\n",
       "annual_inc              float64\n",
       "verification_status      object\n",
       "issue_d                  object\n",
       "loan_status              object\n",
       "purpose                  object\n",
       "title                    object\n",
       "zip_code                 object\n",
       "addr_state               object\n",
       "dti                     float64\n",
       "earliest_cr_line         object\n",
       "fico_range_low          float64\n",
       "fico_range_high         float64\n",
       "open_acc                float64\n",
       "pub_rec                 float64\n",
       "revol_bal               float64\n",
       "revol_util              float64\n",
       "total_acc               float64\n",
       "initial_list_status      object\n",
       "application_type         object\n",
       "mort_acc                float64\n",
       "pub_rec_bankruptcies    float64\n",
       "dtype: object"
      ]
     },
     "execution_count": 21,
     "metadata": {},
     "output_type": "execute_result"
    }
   ],
   "source": [
    "loans.dtypes"
   ]
  },
  {
   "cell_type": "code",
   "execution_count": 22,
   "metadata": {},
   "outputs": [
    {
     "data": {
      "text/plain": [
       "['id',\n",
       " 'term',\n",
       " 'grade',\n",
       " 'sub_grade',\n",
       " 'emp_title',\n",
       " 'emp_length',\n",
       " 'home_ownership',\n",
       " 'verification_status',\n",
       " 'issue_d',\n",
       " 'loan_status',\n",
       " 'purpose',\n",
       " 'title',\n",
       " 'zip_code',\n",
       " 'addr_state',\n",
       " 'earliest_cr_line',\n",
       " 'initial_list_status',\n",
       " 'application_type']"
      ]
     },
     "execution_count": 22,
     "metadata": {},
     "output_type": "execute_result"
    }
   ],
   "source": [
    "loans.select_dtypes(include=np.object).columns.tolist() # Object data type columns"
   ]
  },
  {
   "cell_type": "code",
   "execution_count": 23,
   "metadata": {},
   "outputs": [
    {
     "data": {
      "text/plain": [
       "['loan_amnt',\n",
       " 'int_rate',\n",
       " 'installment',\n",
       " 'annual_inc',\n",
       " 'dti',\n",
       " 'fico_range_low',\n",
       " 'fico_range_high',\n",
       " 'open_acc',\n",
       " 'pub_rec',\n",
       " 'revol_bal',\n",
       " 'revol_util',\n",
       " 'total_acc',\n",
       " 'mort_acc',\n",
       " 'pub_rec_bankruptcies']"
      ]
     },
     "execution_count": 23,
     "metadata": {},
     "output_type": "execute_result"
    }
   ],
   "source": [
    "loans.select_dtypes(include=np.float).columns.tolist() # Float data type columns"
   ]
  },
  {
   "cell_type": "markdown",
   "metadata": {},
   "source": [
    "### Analyzing Categorical data"
   ]
  },
  {
   "cell_type": "markdown",
   "metadata": {},
   "source": [
    "id', 'term', 'grade', 'sub_grade', 'emp_title', 'emp_length', 'home_ownership', 'verification_status',\n",
    "'issue_d', 'loan_status', 'purpose', 'title',  'zip_code', 'addr_state',  'earliest_cr_line', 'initial_list_status',\n",
    "'application_type'"
   ]
  },
  {
   "cell_type": "markdown",
   "metadata": {},
   "source": [
    "#### Id"
   ]
  },
  {
   "cell_type": "code",
   "execution_count": 24,
   "metadata": {},
   "outputs": [
    {
     "data": {
      "text/plain": [
       "count         13539\n",
       "unique        13539\n",
       "top       133726199\n",
       "freq              1\n",
       "Name: id, dtype: int64"
      ]
     },
     "execution_count": 24,
     "metadata": {},
     "output_type": "execute_result"
    }
   ],
   "source": [
    "loans['id'].describe() #Usually ID's are unique and independent keys"
   ]
  },
  {
   "cell_type": "code",
   "execution_count": 25,
   "metadata": {},
   "outputs": [],
   "source": [
    "loans.drop('id', axis=1, inplace=True) #drop id"
   ]
  },
  {
   "cell_type": "code",
   "execution_count": null,
   "metadata": {},
   "outputs": [],
   "source": []
  },
  {
   "cell_type": "markdown",
   "metadata": {},
   "source": [
    "#### Term"
   ]
  },
  {
   "cell_type": "code",
   "execution_count": 26,
   "metadata": {},
   "outputs": [
    {
     "data": {
      "text/plain": [
       " 36 months    10330\n",
       " 60 months     3209\n",
       "Name: term, dtype: int64"
      ]
     },
     "execution_count": 26,
     "metadata": {},
     "output_type": "execute_result"
    }
   ],
   "source": [
    "loans['term'].value_counts(dropna=False)"
   ]
  },
  {
   "cell_type": "code",
   "execution_count": 27,
   "metadata": {},
   "outputs": [],
   "source": [
    "loans['term'] = loans['term'].apply(lambda s: np.int8(s.split()[0])) #convert them into numericals"
   ]
  },
  {
   "cell_type": "code",
   "execution_count": 28,
   "metadata": {},
   "outputs": [
    {
     "data": {
      "text/plain": [
       "term\n",
       "36   0.16\n",
       "60   0.33\n",
       "Name: loan_status, dtype: float64"
      ]
     },
     "execution_count": 28,
     "metadata": {},
     "output_type": "execute_result"
    }
   ],
   "source": [
    "loans.groupby('term')['loan_status'].value_counts(normalize=True).loc[:,'Charged Off']"
   ]
  },
  {
   "cell_type": "markdown",
   "metadata": {},
   "source": [
    "Charge off rates for 60 months are 2x higher than for 36 months term"
   ]
  },
  {
   "cell_type": "code",
   "execution_count": null,
   "metadata": {},
   "outputs": [],
   "source": []
  },
  {
   "cell_type": "markdown",
   "metadata": {},
   "source": [
    "#### Grade and Sub Grade"
   ]
  },
  {
   "cell_type": "code",
   "execution_count": 29,
   "metadata": {},
   "outputs": [
    {
     "name": "stdout",
     "output_type": "stream",
     "text": [
      "['A', 'B', 'C', 'D', 'E', 'F', 'G']\n"
     ]
    }
   ],
   "source": [
    "print(sorted(loans['grade'].unique()))"
   ]
  },
  {
   "cell_type": "code",
   "execution_count": 30,
   "metadata": {},
   "outputs": [
    {
     "name": "stdout",
     "output_type": "stream",
     "text": [
      "['A1', 'A2', 'A3', 'A4', 'A5', 'B1', 'B2', 'B3', 'B4', 'B5', 'C1', 'C2', 'C3', 'C4', 'C5', 'D1', 'D2', 'D3', 'D4', 'D5', 'E1', 'E2', 'E3', 'E4', 'E5', 'F1', 'F2', 'F3', 'F4', 'F5', 'G1', 'G2', 'G3', 'G4', 'G5']\n"
     ]
    }
   ],
   "source": [
    "print(sorted(loans['sub_grade'].unique()))"
   ]
  },
  {
   "cell_type": "markdown",
   "metadata": {},
   "source": [
    "Both are same, drop one column either grade or sub grade, I am dropping grade column here"
   ]
  },
  {
   "cell_type": "code",
   "execution_count": 31,
   "metadata": {},
   "outputs": [],
   "source": [
    "loans.drop('grade', axis=1, inplace=True) #Drop grade"
   ]
  },
  {
   "cell_type": "code",
   "execution_count": 32,
   "metadata": {},
   "outputs": [],
   "source": [
    "def plot_var(col_name, full_name, continuous):  # plot function\n",
    "    \"\"\"\n",
    "    Visualize a variable with and without faceting on the loan status.\n",
    "    - col_name is the variable name in the dataframe\n",
    "    - full_name is the full variable name\n",
    "    - continuous is True if the variable is continuous, False otherwise\n",
    "    \"\"\"\n",
    "    f, (ax1, ax2) = plt.subplots(nrows=1, ncols=2, figsize=(12,3), dpi=90)\n",
    "    \n",
    "    # Plot without loan status\n",
    "    if continuous:\n",
    "        sns.distplot(loans.loc[loans[col_name].notnull(), col_name], kde=False, ax=ax1)\n",
    "    else:\n",
    "        sns.countplot(loans[col_name], order=sorted(loans[col_name].unique()), color='#5975A4', saturation=1, ax=ax1)\n",
    "    ax1.set_xlabel(full_name)\n",
    "    ax1.set_ylabel('Count')\n",
    "    ax1.set_title(full_name)\n",
    "\n",
    "    # Plot with loan status\n",
    "    if continuous:\n",
    "        sns.boxplot(x=col_name, y='loan_status', data=loans, ax=ax2)\n",
    "        ax2.set_ylabel('')\n",
    "        ax2.set_title(full_name + ' by Loan Status')\n",
    "    else:\n",
    "        charge_off_rates = loans.groupby(col_name)['loan_status'].value_counts(normalize=True).loc[:,'Charged Off']\n",
    "        sns.barplot(x=charge_off_rates.index, y=charge_off_rates.values, color='#5975A4', saturation=1, ax=ax2)\n",
    "        ax2.set_ylabel('Fraction of Loans Charged-off')\n",
    "        ax2.set_title('Charge-off Rate by ' + full_name)\n",
    "    ax2.set_xlabel(full_name)\n",
    "    \n",
    "    plt.tight_layout()"
   ]
  },
  {
   "cell_type": "code",
   "execution_count": 33,
   "metadata": {},
   "outputs": [
    {
     "name": "stderr",
     "output_type": "stream",
     "text": [
      "C:\\Users\\user\\miniconda3\\envs\\sm-202011\\lib\\site-packages\\seaborn\\_decorators.py:43: FutureWarning: Pass the following variable as a keyword arg: x. From version 0.12, the only valid positional argument will be `data`, and passing other arguments without an explicit keyword will result in an error or misinterpretation.\n",
      "  FutureWarning\n"
     ]
    },
    {
     "data": {
      "image/png": "[encoded data removed]",
      "text/plain": [
       "<Figure size 1080x270 with 2 Axes>"
      ]
     },
     "metadata": {},
     "output_type": "display_data"
    }
   ],
   "source": [
    "plot_var('sub_grade', 'Subgrade', continuous=False)"
   ]
  },
  {
   "cell_type": "markdown",
   "metadata": {},
   "source": [
    "From the above plot, we can find that charge off rates increases with sub grade"
   ]
  },
  {
   "cell_type": "code",
   "execution_count": null,
   "metadata": {},
   "outputs": [],
   "source": []
  },
  {
   "cell_type": "markdown",
   "metadata": {},
   "source": [
    "#### Employment title"
   ]
  },
  {
   "cell_type": "code",
   "execution_count": 34,
   "metadata": {},
   "outputs": [
    {
     "data": {
      "text/plain": [
       "count       12675\n",
       "unique       7969\n",
       "top       Teacher\n",
       "freq          230\n",
       "Name: emp_title, dtype: object"
      ]
     },
     "execution_count": 34,
     "metadata": {},
     "output_type": "execute_result"
    }
   ],
   "source": [
    "loans['emp_title'].describe()"
   ]
  },
  {
   "cell_type": "code",
   "execution_count": 35,
   "metadata": {},
   "outputs": [],
   "source": [
    "loans.drop(labels='emp_title', axis=1, inplace=True) #too many unique values"
   ]
  },
  {
   "cell_type": "code",
   "execution_count": null,
   "metadata": {},
   "outputs": [],
   "source": []
  },
  {
   "cell_type": "markdown",
   "metadata": {},
   "source": [
    "#### Employment length"
   ]
  },
  {
   "cell_type": "code",
   "execution_count": 36,
   "metadata": {},
   "outputs": [
    {
     "data": {
      "text/plain": [
       "1 year        860\n",
       "10+ years    4405\n",
       "2 years      1271\n",
       "3 years      1079\n",
       "4 years       809\n",
       "5 years       863\n",
       "6 years       604\n",
       "7 years       618\n",
       "8 years       634\n",
       "9 years       516\n",
       "< 1 year     1087\n",
       "NaN           793\n",
       "Name: emp_length, dtype: int64"
      ]
     },
     "execution_count": 36,
     "metadata": {},
     "output_type": "execute_result"
    }
   ],
   "source": [
    "loans['emp_length'].value_counts(dropna=False).sort_index()"
   ]
  },
  {
   "cell_type": "markdown",
   "metadata": {},
   "source": [
    "Remove years from emp_length variables and convert them into float"
   ]
  },
  {
   "cell_type": "code",
   "execution_count": 37,
   "metadata": {},
   "outputs": [],
   "source": [
    "loans['emp_length'].replace('< 1 year', '0 years', inplace=True) #Replace 0 years with 1 year"
   ]
  },
  {
   "cell_type": "code",
   "execution_count": 38,
   "metadata": {},
   "outputs": [],
   "source": [
    "loans['emp_length'].replace(to_replace='10+ years', value='10 years', inplace=True) # Replace 10+years with 10 years"
   ]
  },
  {
   "cell_type": "code",
   "execution_count": 39,
   "metadata": {},
   "outputs": [],
   "source": [
    "def emp_length_to_int(s):\n",
    "    if pd.isnull(s): \n",
    "        return s\n",
    "    else:\n",
    "        return np.int8(s.split()[0])"
   ]
  },
  {
   "cell_type": "code",
   "execution_count": 40,
   "metadata": {},
   "outputs": [],
   "source": [
    "loans['emp_length'] = loans['emp_length'].apply(emp_length_to_int)"
   ]
  },
  {
   "cell_type": "code",
   "execution_count": 41,
   "metadata": {},
   "outputs": [],
   "source": [
    "loans['emp_length'] = loans['emp_length'].fillna(loans.emp_length.median()) # fill missing values by taking median imputation"
   ]
  },
  {
   "cell_type": "code",
   "execution_count": 42,
   "metadata": {},
   "outputs": [
    {
     "data": {
      "text/plain": [
       "0.00     1087\n",
       "1.00      860\n",
       "2.00     1271\n",
       "3.00     1079\n",
       "4.00      809\n",
       "5.00      863\n",
       "6.00     1397\n",
       "7.00      618\n",
       "8.00      634\n",
       "9.00      516\n",
       "10.00    4405\n",
       "Name: emp_length, dtype: int64"
      ]
     },
     "execution_count": 42,
     "metadata": {},
     "output_type": "execute_result"
    }
   ],
   "source": [
    "loans['emp_length'].value_counts(dropna=False).sort_index()"
   ]
  },
  {
   "cell_type": "code",
   "execution_count": 43,
   "metadata": {},
   "outputs": [
    {
     "data": {
      "text/plain": [
       "emp_length\n",
       "0.00    0.19\n",
       "1.00    0.21\n",
       "2.00    0.20\n",
       "3.00    0.19\n",
       "4.00    0.18\n",
       "5.00    0.21\n",
       "6.00    0.23\n",
       "7.00    0.19\n",
       "8.00    0.20\n",
       "9.00    0.22\n",
       "10.00   0.19\n",
       "Name: loan_status, dtype: float64"
      ]
     },
     "execution_count": 43,
     "metadata": {},
     "output_type": "execute_result"
    }
   ],
   "source": [
    "loans.groupby('emp_length')['loan_status'].value_counts(normalize=True).loc[:,'Charged Off']"
   ]
  },
  {
   "cell_type": "markdown",
   "metadata": {},
   "source": [
    "Charge off rates are decreasing when employment length increases"
   ]
  },
  {
   "cell_type": "code",
   "execution_count": null,
   "metadata": {},
   "outputs": [],
   "source": []
  },
  {
   "cell_type": "markdown",
   "metadata": {},
   "source": [
    "#### Home Ownership"
   ]
  },
  {
   "cell_type": "code",
   "execution_count": 44,
   "metadata": {},
   "outputs": [
    {
     "data": {
      "text/plain": [
       "MORTGAGE    6711\n",
       "RENT        5341\n",
       "OWN         1480\n",
       "ANY            5\n",
       "OTHER          2\n",
       "Name: home_ownership, dtype: int64"
      ]
     },
     "execution_count": 44,
     "metadata": {},
     "output_type": "execute_result"
    }
   ],
   "source": [
    "loans['home_ownership'].value_counts(dropna=False)"
   ]
  },
  {
   "cell_type": "markdown",
   "metadata": {},
   "source": [
    "We can merge None, Any as Other"
   ]
  },
  {
   "cell_type": "code",
   "execution_count": 45,
   "metadata": {},
   "outputs": [],
   "source": [
    "loans['home_ownership'].replace(['NONE', 'ANY'], 'OTHER', inplace=True)"
   ]
  },
  {
   "cell_type": "code",
   "execution_count": 46,
   "metadata": {},
   "outputs": [
    {
     "data": {
      "text/plain": [
       "MORTGAGE    6711\n",
       "RENT        5341\n",
       "OWN         1480\n",
       "OTHER          7\n",
       "Name: home_ownership, dtype: int64"
      ]
     },
     "execution_count": 46,
     "metadata": {},
     "output_type": "execute_result"
    }
   ],
   "source": [
    "loans['home_ownership'].value_counts(dropna=False)"
   ]
  },
  {
   "cell_type": "code",
   "execution_count": 47,
   "metadata": {},
   "outputs": [
    {
     "data": {
      "text/html": [
       "<div>\n",
       "<style scoped>\n",
       "    .dataframe tbody tr th:only-of-type {\n",
       "        vertical-align: middle;\n",
       "    }\n",
       "\n",
       "    .dataframe tbody tr th {\n",
       "        vertical-align: top;\n",
       "    }\n",
       "\n",
       "    .dataframe thead th {\n",
       "        text-align: right;\n",
       "    }\n",
       "</style>\n",
       "<table border=\"1\" class=\"dataframe\">\n",
       "  <thead>\n",
       "    <tr style=\"text-align: right;\">\n",
       "      <th>loan_status</th>\n",
       "      <th>Charged Off</th>\n",
       "      <th>Fully Paid</th>\n",
       "    </tr>\n",
       "    <tr>\n",
       "      <th>home_ownership</th>\n",
       "      <th></th>\n",
       "      <th></th>\n",
       "    </tr>\n",
       "  </thead>\n",
       "  <tbody>\n",
       "    <tr>\n",
       "      <th>MORTGAGE</th>\n",
       "      <td>1128</td>\n",
       "      <td>5583</td>\n",
       "    </tr>\n",
       "    <tr>\n",
       "      <th>OTHER</th>\n",
       "      <td>1</td>\n",
       "      <td>6</td>\n",
       "    </tr>\n",
       "    <tr>\n",
       "      <th>OWN</th>\n",
       "      <td>297</td>\n",
       "      <td>1183</td>\n",
       "    </tr>\n",
       "    <tr>\n",
       "      <th>RENT</th>\n",
       "      <td>1260</td>\n",
       "      <td>4081</td>\n",
       "    </tr>\n",
       "  </tbody>\n",
       "</table>\n",
       "</div>"
      ],
      "text/plain": [
       "loan_status     Charged Off  Fully Paid\n",
       "home_ownership                         \n",
       "MORTGAGE               1128        5583\n",
       "OTHER                     1           6\n",
       "OWN                     297        1183\n",
       "RENT                   1260        4081"
      ]
     },
     "execution_count": 47,
     "metadata": {},
     "output_type": "execute_result"
    }
   ],
   "source": [
    "home_ownership_xt = pd.crosstab(loans['home_ownership'], loans['loan_status'])\n",
    "home_ownership_xt #Cross table"
   ]
  },
  {
   "cell_type": "code",
   "execution_count": 48,
   "metadata": {},
   "outputs": [
    {
     "data": {
      "text/plain": [
       "Text(0, 0.5, 'Loan Status')"
      ]
     },
     "execution_count": 48,
     "metadata": {},
     "output_type": "execute_result"
    },
    {
     "data": {
      "image/png": "[encoded data removed]",
      "text/plain": [
       "<Figure size 432x288 with 1 Axes>"
      ]
     },
     "metadata": {},
     "output_type": "display_data"
    }
   ],
   "source": [
    "home_ownership_xt_pct = home_ownership_xt.div(home_ownership_xt.sum(1).astype(float), axis=0)\n",
    "\n",
    "home_ownership_xt_pct.plot(kind='bar', \n",
    "                   stacked=True, \n",
    "                   title='Loan status by Home Ownership')\n",
    "plt.xlabel('Home Ownership')\n",
    "plt.ylabel('Loan Status')"
   ]
  },
  {
   "cell_type": "markdown",
   "metadata": {},
   "source": [
    "Charge off rates are higher for Rent and Own home owner ship with 23% and 21% respectively"
   ]
  },
  {
   "cell_type": "code",
   "execution_count": 49,
   "metadata": {},
   "outputs": [
    {
     "data": {
      "text/plain": [
       "home_ownership\n",
       "MORTGAGE   0.17\n",
       "OTHER      0.14\n",
       "OWN        0.20\n",
       "RENT       0.24\n",
       "Name: loan_status, dtype: float64"
      ]
     },
     "execution_count": 49,
     "metadata": {},
     "output_type": "execute_result"
    }
   ],
   "source": [
    "loans.groupby('home_ownership')['loan_status'].value_counts(normalize=True).loc[:,'Charged Off']"
   ]
  },
  {
   "cell_type": "code",
   "execution_count": null,
   "metadata": {},
   "outputs": [],
   "source": []
  },
  {
   "cell_type": "markdown",
   "metadata": {},
   "source": [
    "#### Verification Status"
   ]
  },
  {
   "cell_type": "code",
   "execution_count": 50,
   "metadata": {},
   "outputs": [
    {
     "data": {
      "text/plain": [
       "verification_status\n",
       "Not Verified      0.15\n",
       "Source Verified   0.21\n",
       "Verified          0.24\n",
       "Name: loan_status, dtype: float64"
      ]
     },
     "execution_count": 50,
     "metadata": {},
     "output_type": "execute_result"
    }
   ],
   "source": [
    "loans.groupby('verification_status')['loan_status'].value_counts(normalize=True).loc[:,'Charged Off']"
   ]
  },
  {
   "cell_type": "markdown",
   "metadata": {},
   "source": [
    "Charge off rates are higher for Verified compared to other two types"
   ]
  },
  {
   "cell_type": "code",
   "execution_count": null,
   "metadata": {},
   "outputs": [],
   "source": []
  },
  {
   "cell_type": "markdown",
   "metadata": {},
   "source": [
    "#### Purpose"
   ]
  },
  {
   "cell_type": "code",
   "execution_count": 51,
   "metadata": {},
   "outputs": [
    {
     "data": {
      "text/plain": [
       "MORTGAGE    6711\n",
       "RENT        5341\n",
       "OWN         1480\n",
       "OTHER          7\n",
       "Name: home_ownership, dtype: int64"
      ]
     },
     "execution_count": 51,
     "metadata": {},
     "output_type": "execute_result"
    }
   ],
   "source": [
    "loans['home_ownership'].value_counts(dropna=False)"
   ]
  },
  {
   "cell_type": "code",
   "execution_count": 52,
   "metadata": {},
   "outputs": [
    {
     "data": {
      "text/plain": [
       "purpose\n",
       "car                  0.15\n",
       "credit_card          0.17\n",
       "debt_consolidation   0.21\n",
       "home_improvement     0.17\n",
       "house                0.28\n",
       "major_purchase       0.17\n",
       "medical              0.20\n",
       "moving               0.21\n",
       "other                0.22\n",
       "renewable_energy     0.20\n",
       "small_business       0.31\n",
       "vacation             0.16\n",
       "wedding              0.07\n",
       "Name: loan_status, dtype: float64"
      ]
     },
     "execution_count": 52,
     "metadata": {},
     "output_type": "execute_result"
    }
   ],
   "source": [
    "loans.groupby('purpose')['loan_status'].value_counts(normalize=True).loc[:,'Charged Off']"
   ]
  },
  {
   "cell_type": "code",
   "execution_count": null,
   "metadata": {},
   "outputs": [],
   "source": []
  },
  {
   "cell_type": "markdown",
   "metadata": {},
   "source": [
    "#### Title"
   ]
  },
  {
   "cell_type": "code",
   "execution_count": 53,
   "metadata": {},
   "outputs": [
    {
     "data": {
      "text/plain": [
       "count                  13367\n",
       "unique                  1156\n",
       "top       Debt consolidation\n",
       "freq                    6584\n",
       "Name: title, dtype: object"
      ]
     },
     "execution_count": 53,
     "metadata": {},
     "output_type": "execute_result"
    }
   ],
   "source": [
    "loans['title'].describe()"
   ]
  },
  {
   "cell_type": "code",
   "execution_count": 54,
   "metadata": {},
   "outputs": [
    {
     "data": {
      "text/plain": [
       "Debt consolidation                                                             0.49\n",
       "Credit card refinancing                                                        0.18\n",
       "Home improvement                                                               0.05\n",
       "Other                                                                          0.05\n",
       "Major purchase                                                                 0.02\n",
       "NaN                                                                            0.01\n",
       "Debt Consolidation                                                             0.01\n",
       "Medical expenses                                                               0.01\n",
       "Business                                                                       0.01\n",
       "Car financing                                                                  0.01\n",
       "Vacation                                                                       0.01\n",
       "Moving and relocation                                                          0.01\n",
       "Consolidation                                                                  0.01\n",
       "Home buying                                                                    0.00\n",
       "debt consolidation                                                             0.00\n",
       "Debt Consolidation Loan                                                        0.00\n",
       "Personal Loan                                                                  0.00\n",
       "Credit Card Refinance                                                          0.00\n",
       "Credit Card Consolidation                                                      0.00\n",
       "Home Improvement                                                               0.00\n",
       "consolidation                                                                  0.00\n",
       "Consolidation Loan                                                             0.00\n",
       "Personal                                                                       0.00\n",
       "Credit Card Payoff                                                             0.00\n",
       "Consolidate                                                                    0.00\n",
       "Loan                                                                           0.00\n",
       "personal loan                                                                  0.00\n",
       "Credit Card Loan                                                               0.00\n",
       "payoff                                                                         0.00\n",
       "Debt                                                                           0.00\n",
       "Green loan                                                                     0.00\n",
       "Credit Consolidation                                                           0.00\n",
       "Home Improvement Loan                                                          0.00\n",
       "Credit Card                                                                    0.00\n",
       "home improvement                                                               0.00\n",
       "Credit card refinance                                                          0.00\n",
       "DEBT CONSOLIDATION                                                             0.00\n",
       "consolidate                                                                    0.00\n",
       "debt consolidation loan                                                        0.00\n",
       "Credit Cards                                                                   0.00\n",
       "personal                                                                       0.00\n",
       "Debt Consolidation                                                             0.00\n",
       "Credit Card Refi                                                               0.00\n",
       "CC Consolidation                                                               0.00\n",
       "Payoff                                                                         0.00\n",
       "Small Business Loan                                                            0.00\n",
       "debt_consolidation                                                             0.00\n",
       "Refinance                                                                      0.00\n",
       "credit card consolidation                                                      0.00\n",
       "Wedding                                                                        0.00\n",
       "car loan                                                                       0.00\n",
       "Credit Card Debt                                                               0.00\n",
       "Credit card                                                                    0.00\n",
       "Bills                                                                          0.00\n",
       "Home                                                                           0.00\n",
       "credit card payoff                                                             0.00\n",
       "Debt Free                                                                      0.00\n",
       "Consolidation loan                                                             0.00\n",
       "My Loan                                                                        0.00\n",
       "Credit card consolidation                                                      0.00\n",
       "Credit Card Debt Consolidation                                                 0.00\n",
       "Fresh Start                                                                    0.00\n",
       "My Personal Loan                                                               0.00\n",
       "Business Loan                                                                  0.00\n",
       "Pay Off                                                                        0.00\n",
       "Consolidation                                                                  0.00\n",
       "Wedding Loan                                                                   0.00\n",
       "credit card refinance                                                          0.00\n",
       "Debt Loan                                                                      0.00\n",
       "debt consolidation                                                             0.00\n",
       "Freedom                                                                        0.00\n",
       "debt                                                                           0.00\n",
       "Debt Payoff                                                                    0.00\n",
       "bills                                                                          0.00\n",
       "freedom                                                                        0.00\n",
       "CC Refinance                                                                   0.00\n",
       "Loan1                                                                          0.00\n",
       "Motorcycle                                                                     0.00\n",
       "Personal                                                                       0.00\n",
       "Credit Card                                                                    0.00\n",
       "consolidation loan                                                             0.00\n",
       "Credit Card Pay Off                                                            0.00\n",
       "Credit Card Refinancing                                                        0.00\n",
       "Debt Consolidation loan                                                        0.00\n",
       "Car Loan                                                                       0.00\n",
       "Credit Card Consolidation Loan                                                 0.00\n",
       "CC REFI                                                                        0.00\n",
       "Loan Consolidation                                                             0.00\n",
       "relief                                                                         0.00\n",
       "pay off credit cards                                                           0.00\n",
       "Card Payoff                                                                    0.00\n",
       "Get out of Debt                                                                0.00\n",
       "credit cards                                                                   0.00\n",
       "car                                                                            0.00\n",
       "debt consol                                                                    0.00\n",
       "Consolidate Debt                                                               0.00\n",
       "CC                                                                             0.00\n",
       " Debt Consolidation                                                            0.00\n",
       "Credit Card Payoff Loan                                                        0.00\n",
       "Credit Card Consolidation                                                      0.00\n",
       "get out of debt                                                                0.00\n",
       "Recovery                                                                       0.00\n",
       "Major Purchase Loan                                                            0.00\n",
       "Debt free                                                                      0.00\n",
       "loan                                                                           0.00\n",
       "Lending Club                                                                   0.00\n",
       "Consolidation Loan                                                             0.00\n",
       "cc loan                                                                        0.00\n",
       "debt loan                                                                      0.00\n",
       "Debts                                                                          0.00\n",
       "Pay off credit card                                                            0.00\n",
       "CREDIT                                                                         0.00\n",
       "Refinance Loan                                                                 0.00\n",
       "ATV Loan                                                                       0.00\n",
       "Personal loan                                                                  0.00\n",
       "Debt Consolodation                                                             0.00\n",
       "new start                                                                      0.00\n",
       "Pay off debt                                                                   0.00\n",
       "Credit cards                                                                   0.00\n",
       "Debtconsol                                                                     0.00\n",
       "My loan                                                                        0.00\n",
       "Credit Card Reduction                                                          0.00\n",
       "loan consolidation                                                             0.00\n",
       "Pay off Credit Cards                                                           0.00\n",
       "Other Loan                                                                     0.00\n",
       "my loan                                                                        0.00\n",
       "credit card loan                                                               0.00\n",
       "Get it together                                                                0.00\n",
       "Pay off                                                                        0.00\n",
       "debt free                                                                      0.00\n",
       "One Payment                                                                    0.00\n",
       "creditcard payoff                                                              0.00\n",
       "Home Down Payment                                                              0.00\n",
       "Credit card payoff                                                             0.00\n",
       "Credit card consolidation loan                                                 0.00\n",
       "wedding loan                                                                   0.00\n",
       "New Start                                                                      0.00\n",
       "Medical                                                                        0.00\n",
       "Credit Loan                                                                    0.00\n",
       "Relief                                                                         0.00\n",
       "Debt Reduction Loan                                                            0.00\n",
       "Home Renovation                                                                0.00\n",
       "Payoff Credit Cards                                                            0.00\n",
       "small_business                                                                 0.00\n",
       "Major Purchase                                                                 0.00\n",
       "payitoff                                                                       0.00\n",
       "Lending Club Loan                                                              0.00\n",
       "Better Future                                                                  0.00\n",
       "Debt Consolidation 2013                                                        0.00\n",
       "home improvement loan                                                          0.00\n",
       "Auto Loan                                                                      0.00\n",
       "Credit consolidation                                                           0.00\n",
       "Loan 1                                                                         0.00\n",
       "bill pay                                                                       0.00\n",
       "Cards                                                                          0.00\n",
       "New Life                                                                       0.00\n",
       "Card Loan                                                                      0.00\n",
       "Debt Reduction                                                                 0.00\n",
       "travel                                                                         0.00\n",
       "out of debt                                                                    0.00\n",
       "home                                                                           0.00\n",
       "debt cons                                                                      0.00\n",
       "Refi                                                                           0.00\n",
       "Pay off credit cards                                                           0.00\n",
       "Kitchen remodel                                                                0.00\n",
       "Home Improvements                                                              0.00\n",
       "pay off                                                                        0.00\n",
       "debt                                                                           0.00\n",
       " debt  consolidation                                                           0.00\n",
       "Home Repair                                                                    0.00\n",
       "Auto body shop                                                                 0.00\n",
       "Moving/Relocation                                                              0.00\n",
       "Kitchen Renevotation                                                           0.00\n",
       "Personal Consolidation Loan                                                    0.00\n",
       "clean slate                                                                    0.00\n",
       "TAKIN CONTROL                                                                  0.00\n",
       "Credit Card Repayment Loan                                                     0.00\n",
       "Furniture                                                                      0.00\n",
       "nomorecreditcards                                                              0.00\n",
       "home loan                                                                      0.00\n",
       "get outta debt n move on with my life                                          0.00\n",
       "3 Year Pay Plan Consolidated                                                   0.00\n",
       "CC Payout                                                                      0.00\n",
       "Roof repair                                                                    0.00\n",
       "Home repairs needed!                                                           0.00\n",
       "discover                                                                       0.00\n",
       "consolidation  loan                                                            0.00\n",
       "Planning For My Future                                                         0.00\n",
       "dec2012                                                                        0.00\n",
       "credit debt                                                                    0.00\n",
       "closing cost                                                                   0.00\n",
       "Auto Repair Loan                                                               0.00\n",
       "my relief                                                                      0.00\n",
       "House Renovation and Consolidation                                             0.00\n",
       "Need to refinance my car                                                       0.00\n",
       "payoffstuff12                                                                  0.00\n",
       "Replace 18yr old furnace                                                       0.00\n",
       "Stress Reduction Simplification                                                0.00\n",
       "working capital                                                                0.00\n",
       "MyLendingClub                                                                  0.00\n",
       "debt conslidation                                                              0.00\n",
       "Pay off cards                                                                  0.00\n",
       "Nicole - payoff                                                                0.00\n",
       " my lending club debt consolidation loan                                       0.00\n",
       "Refinance Credit Cards                                                         0.00\n",
       "New Roof                                                                       0.00\n",
       "HOME IMPROVEMENT                                                               0.00\n",
       "credit card refinance                                                          0.00\n",
       "dept consolidation                                                             0.00\n",
       "Expenses                                                                       0.00\n",
       "Discover payoff                                                                0.00\n",
       "to pay off high interest credit cards                                          0.00\n",
       "Me Debt Free                                                                   0.00\n",
       "Teacher Loan                                                                   0.00\n",
       "Investment Realestate                                                          0.00\n",
       "Heater                                                                         0.00\n",
       "Financial Intelligence                                                         0.00\n",
       "debt into one                                                                  0.00\n",
       "Getting out of debt for good!                                                  0.00\n",
       "I always pay my debts                                                          0.00\n",
       "no more monkey                                                                 0.00\n",
       "payoffdebt                                                                     0.00\n",
       "\"Freedom!\"                                                                     0.00\n",
       "Payment Refinancing                                                            0.00\n",
       "Clean up credit cards                                                          0.00\n",
       "Hurricane Damage                                                               0.00\n",
       "Emergency Loan                                                                 0.00\n",
       "Olympic                                                                        0.00\n",
       "My Home imp Loan                                                               0.00\n",
       "citi card                                                                      0.00\n",
       "Condo Loan                                                                     0.00\n",
       "credit card                                                                    0.00\n",
       "vacation loan                                                                  0.00\n",
       "60 months                                                                      0.00\n",
       "Debt Consolidation - Path to Success                                           0.00\n",
       "The Loan                                                                       0.00\n",
       "Loan for Overseas Payment                                                      0.00\n",
       "CC refi                                                                        0.00\n",
       "Onmywayoutofdebt                                                               0.00\n",
       "Debt Free for 2013                                                             0.00\n",
       "New house                                                                      0.00\n",
       "mangus1                                                                        0.00\n",
       "New Beginning                                                                  0.00\n",
       "Credit Card Refinancing                                                        0.00\n",
       "small loan                                                                     0.00\n",
       "Credit Card Payoff                                                             0.00\n",
       "Debt cons loan                                                                 0.00\n",
       "card payoff loan                                                               0.00\n",
       "Debt Conso;idation                                                             0.00\n",
       "Credit Cards                                                                   0.00\n",
       "debit cons.                                                                    0.00\n",
       "Boston Move                                                                    0.00\n",
       "Cafe with organic choices business loan                                        0.00\n",
       "My get me through till January loan                                            0.00\n",
       "savealot                                                                       0.00\n",
       "HOMELIFE                                                                       0.00\n",
       "High Interest Debt Consolidation                                               0.00\n",
       "wife surgery                                                                   0.00\n",
       "Loan to pay off debts                                                          0.00\n",
       "Project 1                                                                      0.00\n",
       "FREEDOM ROAD                                                                   0.00\n",
       "pay off high rate cards loan                                                   0.00\n",
       "consolidate cards                                                              0.00\n",
       "medical loan                                                                   0.00\n",
       "Big Smile                                                                      0.00\n",
       "visa card                                                                      0.00\n",
       "AMEX and CitiBank                                                              0.00\n",
       "Consolidation Plus                                                             0.00\n",
       "CREDIT CARD CLEANUP                                                            0.00\n",
       "DebtRoof                                                                       0.00\n",
       "Flatwater                                                                      0.00\n",
       "Truck Restoration                                                              0.00\n",
       "LAST LOAN EVER                                                                 0.00\n",
       "Short term expense                                                             0.00\n",
       "Debt consolidation                                                             0.00\n",
       "tweetygirl's loan                                                              0.00\n",
       "On My Way to Reduce Debt!                                                      0.00\n",
       "ring                                                                           0.00\n",
       "Buyer for my home wants repairs & fence                                        0.00\n",
       "Home Improve Credit Card                                                       0.00\n",
       "Misc Consolidation Loan                                                        0.00\n",
       "get it together                                                                0.00\n",
       "Excellent Credit History - Employed continuously for 16+ years                 0.00\n",
       "Back on Track                                                                  0.00\n",
       "Debt Consolidation 2                                                           0.00\n",
       "gettingthingsright                                                             0.00\n",
       "Play                                                                           0.00\n",
       "No More Credit Cards                                                           0.00\n",
       "Repayment                                                                      0.00\n",
       "Dept Consolidation                                                             0.00\n",
       "katana 600                                                                     0.00\n",
       "Cash                                                                           0.00\n",
       "I WANT TO BE DEBT FREE!!                                                       0.00\n",
       "Loan for Credit Cards better rate                                              0.00\n",
       "wedding                                                                        0.00\n",
       "Heidi                                                                          0.00\n",
       "finish up my debt                                                              0.00\n",
       "Refinance high interest credit card                                            0.00\n",
       "smartconsolidation                                                             0.00\n",
       "jobs done                                                                      0.00\n",
       "LoanConsolidation                                                              0.00\n",
       "Debt Consildation                                                              0.00\n",
       "Smart                                                                          0.00\n",
       " Winter Vehicle needed 4wheel drive                                            0.00\n",
       "New washer and Dryer                                                           0.00\n",
       "Solution                                                                       0.00\n",
       "moving expenses                                                                0.00\n",
       "Safety                                                                         0.00\n",
       "credit payoff                                                                  0.00\n",
       "Money Saver                                                                    0.00\n",
       "PERSONAL LOAN                                                                  0.00\n",
       "Pay My Debt                                                                    0.00\n",
       "ByebyeTroubles                                                                 0.00\n",
       "Debt Cosolidation Loan                                                         0.00\n",
       "silver                                                                         0.00\n",
       "Debt CC                                                                        0.00\n",
       "Reduce debt                                                                    0.00\n",
       "Post Graduate - Debt Consolidation                                             0.00\n",
       "Investment Loan Consolidation                                                  0.00\n",
       "Pool loan                                                                      0.00\n",
       "Consolidation 2010                                                             0.00\n",
       "Debt Consolidation for me                                                      0.00\n",
       "Loan for plot purchase                                                         0.00\n",
       "PAYOFF                                                                         0.00\n",
       "Less Debt More Freedom!                                                        0.00\n",
       "Makes Changes And A Brand New Start                                            0.00\n",
       "Training Course                                                                0.00\n",
       "Chance to clear my debt                                                        0.00\n",
       "Debt consolidate                                                               0.00\n",
       "HomeImprove                                                                    0.00\n",
       "Home Improvement Roof                                                          0.00\n",
       "Car repair                                                                     0.00\n",
       "refinance                                                                      0.00\n",
       "own it                                                                         0.00\n",
       "DC State move                                                                  0.00\n",
       "Card refi                                                                      0.00\n",
       "Debt Freedom Loan                                                              0.00\n",
       "BYE BYE CREDIT CARDS                                                           0.00\n",
       "US Bank payoff                                                                 0.00\n",
       "debt consolidation And others                                                  0.00\n",
       "Loan Consolidation 2                                                           0.00\n",
       "New Year Resolution Credit Card Paydown                                        0.00\n",
       "Freedom                                                                        0.00\n",
       "Cc refi                                                                        0.00\n",
       "Debt Consolidation New Years Resolution                                        0.00\n",
       "Corvair Purchase                                                               0.00\n",
       "Pay it off                                                                     0.00\n",
       "Loan consolidation                                                             0.00\n",
       "Pay Off Credit Cards                                                           0.00\n",
       "CC Refi                                                                        0.00\n",
       "CCPaid                                                                         0.00\n",
       "debt consalation                                                               0.00\n",
       "Remodeling kitchen/bathroom                                                    0.00\n",
       "Options                                                                        0.00\n",
       "Medical 1                                                                      0.00\n",
       "Debt payoff                                                                    0.00\n",
       "beat debt now                                                                  0.00\n",
       "Debt Consolidation Medical Credit Card                                         0.00\n",
       "Wedding Expenses                                                               0.00\n",
       "Consolidate credit card debt                                                   0.00\n",
       "Debt pay off                                                                   0.00\n",
       "Get rid of high interest credit card                                           0.00\n",
       "NEW KITCHEN                                                                    0.00\n",
       "Family is growing, we need a bigger car!                                       0.00\n",
       "wyndstress                                                                     0.00\n",
       "Getting out of the credit card hole!                                           0.00\n",
       "Need a helping hand!                                                           0.00\n",
       "Start Up                                                                       0.00\n",
       "stressrelief                                                                   0.00\n",
       "pay off my bills                                                               0.00\n",
       "chase consolidation                                                            0.00\n",
       "Home Buying                                                                    0.00\n",
       "Financial Freedom                                                              0.00\n",
       "Work                                                                           0.00\n",
       "going forward                                                                  0.00\n",
       "HELPING ROB                                                                    0.00\n",
       "Credit Lending                                                                 0.00\n",
       "Credit card loan                                                               0.00\n",
       "Credit card refinance & bilconsolidation                                       0.00\n",
       " consolidation                                                                 0.00\n",
       "Home project                                                                   0.00\n",
       "lending club                                                                   0.00\n",
       "January 2013 Loan                                                              0.00\n",
       "debt consoldation                                                              0.00\n",
       "Consolidating My Debt for Bus Startup                                          0.00\n",
       "CC Debt Consolidation                                                          0.00\n",
       "Pay down loan                                                                  0.00\n",
       "Debt Repayment Loan                                                            0.00\n",
       "Moving/Debt Consolidation 2011                                                 0.00\n",
       "Pay off high-interest credit cards                                             0.00\n",
       "Saving Money Long Term                                                         0.00\n",
       "DEBTCON                                                                        0.00\n",
       "On track                                                                       0.00\n",
       " Service Station                                                               0.00\n",
       "conso                                                                          0.00\n",
       "planningfortomorrow                                                            0.00\n",
       "Down to 1 BILL                                                                 0.00\n",
       "Debit Consolidation                                                            0.00\n",
       "credit card paynebts                                                           0.00\n",
       "Home repair                                                                    0.00\n",
       "Pay off bills                                                                  0.00\n",
       "PURCHASE & SELL CARS                                                           0.00\n",
       "OneMain Pay Off                                                                0.00\n",
       "Citi Payoff                                                                    0.00\n",
       "pop up                                                                         0.00\n",
       "At Last !                                                                      0.00\n",
       "The Backyard Home Improvement Project                                          0.00\n",
       "Life Back On Track                                                             0.00\n",
       "mionica                                                                        0.00\n",
       "loan offer                                                                     0.00\n",
       "My last consolidation loan                                                     0.00\n",
       "Lower my payments for a great return                                           0.00\n",
       "Brighter Future                                                                0.00\n",
       "Deposit 1                                                                      0.00\n",
       "Credit Card Elimination                                                        0.00\n",
       "Inventory Acquistion                                                           0.00\n",
       "credit card note                                                               0.00\n",
       "Tax Payoff                                                                     0.00\n",
       "Car loan                                                                       0.00\n",
       "personal                                                                       0.00\n",
       "Credt Card Payoff                                                              0.00\n",
       "NelLoan                                                                        0.00\n",
       "Car and Cosolidation                                                           0.00\n",
       "bus&debtconsolidation                                                          0.00\n",
       "First Time Home Buyer                                                          0.00\n",
       "pay off debt loan                                                              0.00\n",
       "Consolidate this!                                                              0.00\n",
       "2013 consolidation                                                             0.00\n",
       "myrefinacer                                                                    0.00\n",
       "Debt Bundling                                                                  0.00\n",
       "citibank                                                                       0.00\n",
       "Bathroom Fix                                                                   0.00\n",
       "card consolidation                                                             0.00\n",
       "Credit Card Refinance                                                          0.00\n",
       "Bill Consolidation                                                             0.00\n",
       "NO MORE DEBT LOAN                                                              0.00\n",
       "Home closing costs                                                             0.00\n",
       "Golf Academy                                                                   0.00\n",
       "Credit Card pay Off                                                            0.00\n",
       "Get out of debt quick                                                          0.00\n",
       "The invester                                                                   0.00\n",
       "Future's Sake                                                                  0.00\n",
       "debit consolidation                                                            0.00\n",
       "No More Credit Card Debt!                                                      0.00\n",
       "Debt Consolidation!                                                            0.00\n",
       "To Soar Like Eagles                                                            0.00\n",
       "vacation                                                                       0.00\n",
       "Paying all my credit cards                                                     0.00\n",
       "Debt relif                                                                     0.00\n",
       "Loan4hm                                                                        0.00\n",
       "cc payoff                                                                      0.00\n",
       "DebtConsolidation                                                              0.00\n",
       "Post Grad Consolidation                                                        0.00\n",
       "Debt Control and Moving Assistance                                             0.00\n",
       "Student Loan                                                                   0.00\n",
       "Happy Day                                                                      0.00\n",
       "Credit Cards Consolidation                                                     0.00\n",
       "house project loan                                                             0.00\n",
       "WEDDIING                                                                       0.00\n",
       "Funds needed for rainy day                                                     0.00\n",
       "Taxes                                                                          0.00\n",
       "Debt Consolidation & India Trip                                                0.00\n",
       "Payoff credit cards debt and car payment                                       0.00\n",
       "BOA Gold Option Loan Payoff                                                    0.00\n",
       "LIFESAVER                                                                      0.00\n",
       "Cconsolidation                                                                 0.00\n",
       "Repayment Loan                                                                 0.00\n",
       "Closing Out Accumulated School Debt                                            0.00\n",
       "consoladation                                                                  0.00\n",
       "Debt Removal                                                                   0.00\n",
       "Katie                                                                          0.00\n",
       "credit card pay off                                                            0.00\n",
       "Card consolidation                                                             0.00\n",
       "helping hand                                                                   0.00\n",
       "Consolidate Debt for lower interest loan                                       0.00\n",
       "BUSINESS LOAN                                                                  0.00\n",
       "CC payoff                                                                      0.00\n",
       "No More Debt Baby                                                              0.00\n",
       "Debt Restructuring                                                             0.00\n",
       "Bill money                                                                     0.00\n",
       "PAYOFF 2013                                                                    0.00\n",
       "refinance12                                                                    0.00\n",
       "debt consolidation- would save me 300.00                                       0.00\n",
       "Reconsolidation of auto loan                                                   0.00\n",
       "Forward Progress                                                               0.00\n",
       "LOAN #2                                                                        0.00\n",
       "Robby                                                                          0.00\n",
       "Paying my bills                                                                0.00\n",
       "Debt Consolidation and Auto Repairs                                            0.00\n",
       "Financially stable gainfully employed seeks to end credit card relationships   0.00\n",
       "Car Upgrade                                                                    0.00\n",
       "Pay Bills                                                                      0.00\n",
       "Personal Loan for bills and debt                                               0.00\n",
       "Consolidate High Interest Loan and CC's                                        0.00\n",
       "my privacy                                                                     0.00\n",
       "life change                                                                    0.00\n",
       "IPayOnTime                                                                     0.00\n",
       "Post Grad School Debt Consolidation                                            0.00\n",
       "Debt consolation & roof loan                                                   0.00\n",
       "lower credit card payments                                                     0.00\n",
       "Money Maker                                                                    0.00\n",
       "Math 101                                                                       0.00\n",
       "CARDS PAYOFF                                                                   0.00\n",
       "property taxes                                                                 0.00\n",
       "Consolodation                                                                  0.00\n",
       "Pay With One Check                                                             0.00\n",
       "My Home Finish Construction Loan                                               0.00\n",
       "CREDIT CARDS                                                                   0.00\n",
       "Awesome                                                                        0.00\n",
       "Need Better Rate on First Property Loan!                                       0.00\n",
       "lending club loan payoff payment lower                                         0.00\n",
       "CC debt                                                                        0.00\n",
       "credit refinancing                                                             0.00\n",
       "Dental, Tuition and Debt                                                       0.00\n",
       "Great loan                                                                     0.00\n",
       "Car Damage Repair                                                              0.00\n",
       "extra funds                                                                    0.00\n",
       "Back On Track                                                                  0.00\n",
       "Buying a House                                                                 0.00\n",
       "CC pay off                                                                     0.00\n",
       "PAYBACK SOME BILLS LOAN                                                        0.00\n",
       "Paying down debt                                                               0.00\n",
       " home improvement loan                                                         0.00\n",
       "Consolidation and car                                                          0.00\n",
       "CC Payoff                                                                      0.00\n",
       "cc consolidation                                                               0.00\n",
       "knowledge                                                                      0.00\n",
       "My Credit Cards                                                                0.00\n",
       "Hopeful                                                                        0.00\n",
       "Credit card pay off                                                            0.00\n",
       "back again for lower interest rate                                             0.00\n",
       "mydream                                                                        0.00\n",
       "An LC Loan to ReFi another LC Loan                                             0.00\n",
       "Wallpaper                                                                      0.00\n",
       "Citi card consolidation                                                        0.00\n",
       "debt cons.                                                                     0.00\n",
       "loan 1                                                                         0.00\n",
       "debt consolidation,lowering credit apr                                         0.00\n",
       "Debt Relief                                                                    0.00\n",
       "lovely                                                                         0.00\n",
       "Debt  Loan                                                                     0.00\n",
       "Debt Loan                                                                      0.00\n",
       "debt consile                                                                   0.00\n",
       "Card Consolidation                                                             0.00\n",
       "Winning!                                                                       0.00\n",
       "Debt Freedom                                                                   0.00\n",
       "autoloan                                                                       0.00\n",
       "Debt pay off                                                                   0.00\n",
       "AAdvantage Citi Card                                                           0.00\n",
       "SajHelp                                                                        0.00\n",
       "pay off soon                                                                   0.00\n",
       "Car/Credit Card Payoff                                                         0.00\n",
       "DEBT CONSOLIDATION LOAN                                                        0.00\n",
       "Credit Card Pay Off's                                                          0.00\n",
       "CC PAYOFF                                                                      0.00\n",
       "MOVE                                                                           0.00\n",
       "Roof replacement                                                               0.00\n",
       "My first home                                                                  0.00\n",
       "great move made                                                                0.00\n",
       "Personal 1                                                                     0.00\n",
       "No more CC debt                                                                0.00\n",
       "credit rating confused...                                                      0.00\n",
       "Addition                                                                       0.00\n",
       "cards& vacuum hit the road                                                     0.00\n",
       "my home improvement                                                            0.00\n",
       "Victorian Bathroom Renovation                                                  0.00\n",
       "Moved for new job, in a spot                                                   0.00\n",
       "Credit Card Refinance To Get Out of Debt                                       0.00\n",
       "high rate consilidate                                                          0.00\n",
       "Hot Tub Purchase                                                               0.00\n",
       "debtconsolidation                                                              0.00\n",
       "debt cleaner                                                                   0.00\n",
       "consolidate loans                                                              0.00\n",
       "ONE                                                                            0.00\n",
       "restart13smart                                                                 0.00\n",
       "Credit rejuvenation                                                            0.00\n",
       "alltogether                                                                    0.00\n",
       "Consolidation (CC plus Lending Club)                                           0.00\n",
       "Cc payoff                                                                      0.00\n",
       "Driveway and Landscaping                                                       0.00\n",
       "hobby                                                                          0.00\n",
       "Debt Buster                                                                    0.00\n",
       "Oil                                                                            0.00\n",
       "A Step Closer to Freedom                                                       0.00\n",
       "New Deck                                                                       0.00\n",
       "Consolidation The Right Way                                                    0.00\n",
       "CC/Car                                                                         0.00\n",
       "CONSOLIDATE                                                                    0.00\n",
       "Help                                                                           0.00\n",
       "debt relief                                                                    0.00\n",
       "Pay bills                                                                      0.00\n",
       "2011 Move                                                                      0.00\n",
       "Debt Assistance                                                                0.00\n",
       "medical bill and proc                                                          0.00\n",
       "Back on track to success                                                       0.00\n",
       "Smotryski                                                                      0.00\n",
       "Medical Loan                                                                   0.00\n",
       "Debt Consolidation/Vavaction                                                   0.00\n",
       "BenPlatt                                                                       0.00\n",
       "Home Improvement                                                               0.00\n",
       "2006 Triumph ST                                                                0.00\n",
       "Improve Credit Worth                                                           0.00\n",
       "Breaking Bad                                                                   0.00\n",
       "pay off old loan and dental work                                               0.00\n",
       "Small Debt Recovery                                                            0.00\n",
       "help with my business                                                          0.00\n",
       "pay off credit card                                                            0.00\n",
       "Seeking Debt Consolidation Loan                                                0.00\n",
       "My Debt Payoff Moolah                                                          0.00\n",
       "Consolidation 2013                                                             0.00\n",
       "Home_Improvement Loan                                                          0.00\n",
       "Home Improvement Loans Consolidation                                           0.00\n",
       "DEBIT                                                                          0.00\n",
       "Student Loan                                                                   0.00\n",
       "Expences                                                                       0.00\n",
       "PAY OFF EXISTING TAX OWED                                                      0.00\n",
       "Loan #1                                                                        0.00\n",
       "ripupcards                                                                     0.00\n",
       "Home improvement/ consolidate debt                                             0.00\n",
       "Debt Consoidation                                                              0.00\n",
       "Spa Loan                                                                       0.00\n",
       "CONSOLIDATE/ELIMINATE                                                          0.00\n",
       "bathroom remodeling                                                            0.00\n",
       "cards                                                                          0.00\n",
       "consolodation                                                                  0.00\n",
       "home buy                                                                       0.00\n",
       "Moving Forward                                                                 0.00\n",
       "Legal Fees and Consolidation                                                   0.00\n",
       "Starting Over                                                                  0.00\n",
       "C.C. payoff                                                                    0.00\n",
       "DEBT                                                                           0.00\n",
       "Denture Purchase                                                               0.00\n",
       "starting over                                                                  0.00\n",
       "Refinance Existing Lending Club Loan                                           0.00\n",
       "1st Financial APRs WAY too high! :-)                                           0.00\n",
       "CARDREFINANCING                                                                0.00\n",
       "Work equipment                                                                 0.00\n",
       "final go                                                                       0.00\n",
       "payback                                                                        0.00\n",
       "Debt Reducer                                                                   0.00\n",
       "Year 2012                                                                      0.00\n",
       "Final Home Improvement Loan                                                    0.00\n",
       "Freedom loan                                                                   0.00\n",
       "Account Payoffs                                                                0.00\n",
       "Debt Free Plan                                                                 0.00\n",
       "Medical expense loan                                                           0.00\n",
       "Credit Card Bills                                                              0.00\n",
       "repairs                                                                        0.00\n",
       "Studio project                                                                 0.00\n",
       "personal credit card loan                                                      0.00\n",
       "getting there                                                                  0.00\n",
       "Getting out of debt                                                            0.00\n",
       "Emergency Expenses                                                             0.00\n",
       "Debt Cons.                                                                     0.00\n",
       "Debt Refinance Loan                                                            0.00\n",
       "Fix Home                                                                       0.00\n",
       "PositveFuture                                                                  0.00\n",
       "home repair                                                                    0.00\n",
       "debt free loan                                                                 0.00\n",
       "debt loan                                                                      0.00\n",
       "Fresh Start                                                                    0.00\n",
       "Credit Card High Interest Loan Refinance                                       0.00\n",
       "DEBT PAYOFF                                                                    0.00\n",
       "Goodbye Debt                                                                   0.00\n",
       "Debt consolidation and new kitchen                                             0.00\n",
       "Credit Card Payments                                                           0.00\n",
       "debt consolidation 2012                                                        0.00\n",
       "New room                                                                       0.00\n",
       "medical expenses                                                               0.00\n",
       "debit releif                                                                   0.00\n",
       "ATV loan                                                                       0.00\n",
       "Financial Freedom Plan                                                         0.00\n",
       "Debt Consolidation Loan / Just 1 Payment                                       0.00\n",
       "DEBT CONSOL                                                                    0.00\n",
       "Used Car                                                                       0.00\n",
       "My Family Emergency Loan                                                       0.00\n",
       "I need to consolidate                                                          0.00\n",
       "BofAWellsMC                                                                    0.00\n",
       "Chantel's funding                                                              0.00\n",
       "Consolidate/Basement                                                           0.00\n",
       "Perfect Loan                                                                   0.00\n",
       "home improvement                                                               0.00\n",
       "Pay off the Credit cards                                                       0.00\n",
       "Vehicle Payoff Loan                                                            0.00\n",
       " PErsonal Loan                                                                 0.00\n",
       "BYE BYE Credit Card                                                            0.00\n",
       "DOG RUN                                                                        0.00\n",
       "loan one                                                                       0.00\n",
       "betafinance refinance                                                          0.00\n",
       "Debt Consolodation Loan                                                        0.00\n",
       "lower my debt                                                                  0.00\n",
       "Bundle Loan                                                                    0.00\n",
       "credit loan                                                                    0.00\n",
       "GETLIQUID                                                                      0.00\n",
       "debt payoff                                                                    0.00\n",
       "PAY OFF CREDIT CARDS                                                           0.00\n",
       "Credit                                                                         0.00\n",
       "Payoff loan                                                                    0.00\n",
       "Medical Expenses for Relative                                                  0.00\n",
       "pay debt check                                                                 0.00\n",
       "2012 Relief                                                                    0.00\n",
       "Looking to consolidate debt                                                    0.00\n",
       "Financial Loan                                                                 0.00\n",
       "Save me                                                                        0.00\n",
       "Credit Card Cleanup                                                            0.00\n",
       "Patio                                                                          0.00\n",
       "Consolidate Taxes, Cards & Student Loans                                       0.00\n",
       "Conslidation                                                                   0.00\n",
       "Pool                                                                           0.00\n",
       "credit consolidation                                                           0.00\n",
       "Home Consolidation                                                             0.00\n",
       "Consolidation Loan Plan                                                        0.00\n",
       "Car for College                                                                0.00\n",
       "Clean Up                                                                       0.00\n",
       "out                                                                            0.00\n",
       "country                                                                        0.00\n",
       "Ease Up My Life                                                                0.00\n",
       "Credit Card Consolidating                                                      0.00\n",
       "US Bank                                                                        0.00\n",
       "repay                                                                          0.00\n",
       "trip to mexico                                                                 0.00\n",
       "Financial Control                                                              0.00\n",
       "PAY OFF                                                                        0.00\n",
       "credit card repayment                                                          0.00\n",
       "Pay Off Debt                                                                   0.00\n",
       "HELPFUL                                                                        0.00\n",
       "Lisa's Bills                                                                   0.00\n",
       "High Rate Card Payoff                                                          0.00\n",
       "fixinahome                                                                     0.00\n",
       "Cap one                                                                        0.00\n",
       "Play Money                                                                     0.00\n",
       "Refi Loan                                                                      0.00\n",
       "Overlapping Rent                                                               0.00\n",
       " lower my monthy payment                                                       0.00\n",
       "CC Loan                                                                        0.00\n",
       "Debit consolidation                                                            0.00\n",
       "Refinance Home Depot Card                                                      0.00\n",
       "financial freedom                                                              0.00\n",
       "Business Changes                                                               0.00\n",
       "Paying off old debt                                                            0.00\n",
       "Nice to get                                                                    0.00\n",
       "Credit Card Refinance & Consolidation                                          0.00\n",
       "debt consolidate                                                               0.00\n",
       "basement repair                                                                0.00\n",
       "Car Financing                                                                  0.00\n",
       "DebtReduction                                                                  0.00\n",
       "Boulder Dumplings                                                              0.00\n",
       "Short Term Debt                                                                0.00\n",
       "debt freedom                                                                   0.00\n",
       "Operation Debt Free                                                            0.00\n",
       "pay debts to creditors                                                         0.00\n",
       "teeth +                                                                        0.00\n",
       "Payoff of Personal Credit Cards                                                0.00\n",
       "Bye bye credit cards...                                                        0.00\n",
       "paying off high interest rates                                                 0.00\n",
       "consoladation loan                                                             0.00\n",
       "Business Franchise                                                             0.00\n",
       "Getting Rid Of Credit Cards                                                    0.00\n",
       "REI Refinance                                                                  0.00\n",
       "Future Improvement                                                             0.00\n",
       "Almost under                                                                   0.00\n",
       "Loan Consolidsation                                                            0.00\n",
       "My Debt Consolidation Loan                                                     0.00\n",
       "Getting out Ahead                                                              0.00\n",
       "MY PAYOFF                                                                      0.00\n",
       "2 Months Are All I Need                                                        0.00\n",
       "Big Island Home                                                                0.00\n",
       "Walking Into My Destiny                                                        0.00\n",
       "Retire CC Debt                                                                 0.00\n",
       "kind-investment                                                                0.00\n",
       "rid of cc debt                                                                 0.00\n",
       "Debt consolidation for easier payoff                                           0.00\n",
       "Bill pay off                                                                   0.00\n",
       "garage                                                                         0.00\n",
       "Debt/Medical Consolidation                                                     0.00\n",
       "My sons first car                                                              0.00\n",
       "all into one loan                                                              0.00\n",
       "eliminate debt                                                                 0.00\n",
       "Getting Smarter                                                                0.00\n",
       "debts                                                                          0.00\n",
       "Quicker Payoff                                                                 0.00\n",
       "Ryan's Loan                                                                    0.00\n",
       "Consolidation and Used Car Purchase                                            0.00\n",
       "Clear Debt                                                                     0.00\n",
       "Debt Payoff                                                                    0.00\n",
       "PAYOFF BILLS                                                                   0.00\n",
       "Pay down high interest credit cards                                            0.00\n",
       "Working Capital for Franchise                                                  0.00\n",
       "Home repair Loan                                                               0.00\n",
       "Home improvements                                                              0.00\n",
       "Debt Consolidatoin                                                             0.00\n",
       "Funding for Real Estate Lending Business                                       0.00\n",
       "Credit Card Dept                                                               0.00\n",
       "3 cards                                                                        0.00\n",
       "DebtBiz                                                                        0.00\n",
       "pay                                                                            0.00\n",
       "Swimming pool                                                                  0.00\n",
       "Credit Card Consolodation                                                      0.00\n",
       "Patent and manufacturing.                                                      0.00\n",
       "credit card consolidation                                                      0.00\n",
       "Consolidate and home improvement                                               0.00\n",
       "help                                                                           0.00\n",
       "Dreams Coming True!! Out of Debt                                               0.00\n",
       "Credit refi                                                                    0.00\n",
       "CC payoffs                                                                     0.00\n",
       "THE ALL IN ONE LOAN                                                            0.00\n",
       "Getting Debt Free!! Finally!                                                   0.00\n",
       "credit cards payoff/business investment                                        0.00\n",
       "Debt Repay                                                                     0.00\n",
       "Pay Off Debts                                                                  0.00\n",
       "debt refi                                                                      0.00\n",
       "Pay bills off                                                                  0.00\n",
       "The Consolidation                                                              0.00\n",
       "the credit card project                                                        0.00\n",
       "No Debt                                                                        0.00\n",
       "Debt loan                                                                      0.00\n",
       "Loan Consoldation                                                              0.00\n",
       "DebtOff                                                                        0.00\n",
       "Get Rid of  Debt                                                               0.00\n",
       "3yr Guarantee!                                                                 0.00\n",
       "credit                                                                         0.00\n",
       "consoladate                                                                    0.00\n",
       "Car repairs                                                                    0.00\n",
       "Boat                                                                           0.00\n",
       "CREDIT CARD PAY OFF LOAN                                                       0.00\n",
       "Cut up Credit Cards                                                            0.00\n",
       "Debt Pile                                                                      0.00\n",
       "hopeful                                                                        0.00\n",
       "Would like to pay off CC debt faster!                                          0.00\n",
       "paybillsoff                                                                    0.00\n",
       "Payoff Loan                                                                    0.00\n",
       "Life Improvement                                                               0.00\n",
       "MyInvestment                                                                   0.00\n",
       "CAR REPAIRS                                                                    0.00\n",
       "Get rid of debt!                                                               0.00\n",
       "One Bill a Month                                                               0.00\n",
       "Citi, Amex & Chase CC Paydown                                                  0.00\n",
       "Credit                                                                         0.00\n",
       "Credit Card Refinancing, restructure deb                                       0.00\n",
       "debt restructure                                                               0.00\n",
       "Get It On Track                                                                0.00\n",
       "Debts paid                                                                     0.00\n",
       "You win when I win                                                             0.00\n",
       "Dream home                                                                     0.00\n",
       "Start Up Funds to Acquire Small Business                                       0.00\n",
       "Freedom Fund                                                                   0.00\n",
       "renewable_energy                                                               0.00\n",
       "VALERY                                                                         0.00\n",
       "Here It Is                                                                     0.00\n",
       "Basement Remodel                                                               0.00\n",
       "Paying Off Last Of My Debt                                                     0.00\n",
       "Credit Card Clean Up                                                           0.00\n",
       "Debt reduction                                                                 0.00\n",
       "My Personal Loan 2012                                                          0.00\n",
       "Money                                                                          0.00\n",
       "Car/consolidation                                                              0.00\n",
       "card pay off                                                                   0.00\n",
       "2012 Income Tax Loan                                                           0.00\n",
       "Debt consolidation and home improvement                                        0.00\n",
       "Lower Interest Rate                                                            0.00\n",
       "Wedding/Honeymoon Planning                                                     0.00\n",
       "Graduation Present                                                             0.00\n",
       "Working capital inventory / expansio                                           0.00\n",
       "High Interest Consolidation                                                    0.00\n",
       "Credit card consolidation lower interest                                       0.00\n",
       "Consodidate credit card debts                                                  0.00\n",
       "Startup and Equipment                                                          0.00\n",
       "start a new life                                                               0.00\n",
       "Debt Consolidation - Wedding Savings                                           0.00\n",
       "to grow my business                                                            0.00\n",
       "New Yard                                                                       0.00\n",
       "ExcedrinHeadache629                                                            0.00\n",
       "pay credit card                                                                0.00\n",
       "Back on Track 2                                                                0.00\n",
       "Big Boy                                                                        0.00\n",
       "Making a Brighter Future                                                       0.00\n",
       "Consolidator                                                                   0.00\n",
       "Consolidate Credit Card Loans                                                  0.00\n",
       " Credit Card Consolidation                                                     0.00\n",
       "CCStop                                                                         0.00\n",
       "American Express                                                               0.00\n",
       "bill help                                                                      0.00\n",
       "Debt snowball paydown                                                          0.00\n",
       "Home repairs                                                                   0.00\n",
       "Fix-up old home                                                                0.00\n",
       "HH Loan                                                                        0.00\n",
       "fun time                                                                       0.00\n",
       "Debt Refi                                                                      0.00\n",
       "need a loan to buy my first motorcycle                                         0.00\n",
       "Graduate School Tuition and Books                                              0.00\n",
       "pay off bills                                                                  0.00\n",
       "Getout                                                                         0.00\n",
       "Last of high interest debt                                                     0.00\n",
       "holiday loan                                                                   0.00\n",
       "answer to my prayers                                                           0.00\n",
       "encyclopedia                                                                   0.00\n",
       "Consolidate & Combine                                                          0.00\n",
       "MAKE LIFE EASIER LOAN                                                          0.00\n",
       "Home Equity Payoff for Refinance                                               0.00\n",
       "debt consolidatin                                                              0.00\n",
       "paybills                                                                       0.00\n",
       "Light at the end of the tunnel.                                                0.00\n",
       "Wedding expenses                                                               0.00\n",
       "down payment on new home                                                       0.00\n",
       "Car                                                                            0.00\n",
       "Home Improvement - AC                                                          0.00\n",
       "Credit card concolidation                                                      0.00\n",
       "Credit Card Debt Consolidation Loan                                            0.00\n",
       "Roof loan                                                                      0.00\n",
       "Refinance Plan & HELOC Pay Off.                                                0.00\n",
       "Pay off Debt                                                                   0.00\n",
       "Debt consolidation Loan                                                        0.00\n",
       "all on one                                                                     0.00\n",
       "Consolidate Credit Card Debt                                                   0.00\n",
       "Consolidated loan                                                              0.00\n",
       "Credit Card Debt Consolodation                                                 0.00\n",
       "Seeking Down Payment and Working Capital                                       0.00\n",
       "Interest rate consolidation loan                                               0.00\n",
       "Finishing home improvements                                                    0.00\n",
       "music production loan                                                          0.00\n",
       "credit card pay down                                                           0.00\n",
       "Debt Consolidation For New Home                                                0.00\n",
       "credit card relief                                                             0.00\n",
       "Payoff my final debts                                                          0.00\n",
       "My debt consolidation                                                          0.00\n",
       "Home Repairs                                                                   0.00\n",
       "mine                                                                           0.00\n",
       "Extra help                                                                     0.00\n",
       "HOME IMPROVEMENT LOAN                                                          0.00\n",
       "payoff c.c                                                                     0.00\n",
       "consolidated debt                                                              0.00\n",
       "Pay Down                                                                       0.00\n",
       "mydebtconsolidation                                                            0.00\n",
       "Disney Trip                                                                    0.00\n",
       "LandRover                                                                      0.00\n",
       "Love my jeep                                                                   0.00\n",
       "Consolidated                                                                   0.00\n",
       "Capital one loan payoff                                                        0.00\n",
       "up grad                                                                        0.00\n",
       "Small_Business Loan                                                            0.00\n",
       "Debt Help                                                                      0.00\n",
       "Consolidated Debt                                                              0.00\n",
       "PAY DOWN BILLS                                                                 0.00\n",
       "turf                                                                           0.00\n",
       "Credit Card Consolidation - Jan. 2013                                          0.00\n",
       "Debt Consolidation Plus                                                        0.00\n",
       "ccpayoff                                                                       0.00\n",
       "Credit Card Refinance Loan                                                     0.00\n",
       "Credit Consolidation Loan                                                      0.00\n",
       "HomeImprovement                                                                0.00\n",
       "money management                                                               0.00\n",
       "Help a loving couple achieve our dreams.                                       0.00\n",
       "Get out of Debt Quick                                                          0.00\n",
       "Post-College Consolidation Loan                                                0.00\n",
       "insurance                                                                      0.00\n",
       "Pay Cards                                                                      0.00\n",
       "windows                                                                        0.00\n",
       "Personal Loan to Eliminate Credit Cards                                        0.00\n",
       "Pay Off Credit Cards 2012                                                      0.00\n",
       "Senior Year Undergraduate Tuition                                              0.00\n",
       "Card Refinance                                                                 0.00\n",
       "remodeling                                                                     0.00\n",
       "Summer Financial Emergency Recovery                                            0.00\n",
       "Freedom1                                                                       0.00\n",
       "Improvement                                                                    0.00\n",
       "Credit Card Refi Loan                                                          0.00\n",
       "cleansweep                                                                     0.00\n",
       "Help me lower my current payment                                               0.00\n",
       "2012                                                                           0.00\n",
       "Quick Relief                                                                   0.00\n",
       "Dog-gone car loan                                                              0.00\n",
       "Raw Land                                                                       0.00\n",
       "Help out                                                                       0.00\n",
       "Holidays                                                                       0.00\n",
       "December HI Loan                                                               0.00\n",
       "Debt Freedom-Consolidating all my bills                                        0.00\n",
       "Ready for Zero Loan                                                            0.00\n",
       "Debt Consolidation and Medical Bills                                           0.00\n",
       "clearing out credit cards                                                      0.00\n",
       "Capital One                                                                    0.00\n",
       "By By Credit Cards                                                             0.00\n",
       "Education Loan                                                                 0.00\n",
       "Clearing out Debt/High Interest Rates                                          0.00\n",
       "credit pay off loan                                                            0.00\n",
       "Fix Credit Loan                                                                0.00\n",
       "PUTTING THE PAST BEHIND ME                                                     0.00\n",
       "BMW 1150GS                                                                     0.00\n",
       "sears payoff                                                                   0.00\n",
       "Local                                                                          0.00\n",
       " Business Success Loan                                                         0.00\n",
       "credit card refi                                                               0.00\n",
       "TAXES                                                                          0.00\n",
       "payoff bills                                                                   0.00\n",
       "Pay Debt, Reset Emergency Fund                                                 0.00\n",
       "consaladation of credit cards                                                  0.00\n",
       "Credit Card Consilidation                                                      0.00\n",
       "Paying off high interest loan                                                  0.00\n",
       "Working towards our dream                                                      0.00\n",
       "new consolidation                                                              0.00\n",
       "De bt Consolidation loan                                                       0.00\n",
       "Debt Conso                                                                     0.00\n",
       "Car and Credit Card debt consolidate                                           0.00\n",
       "back on my feet                                                                0.00\n",
       "Pay Offs :)                                                                    0.00\n",
       "Credit Refinance                                                               0.00\n",
       "Lending Club Personal                                                          0.00\n",
       "breaking free from credit cards loan                                           0.00\n",
       "DEBT                                                                           0.00\n",
       "pay off asap                                                                   0.00\n",
       "CONSOLIDATION                                                                  0.00\n",
       "For my mom                                                                     0.00\n",
       "2011 Debt Consolidation                                                        0.00\n",
       "Reunion Trip                                                                   0.00\n",
       "CC delete                                                                      0.00\n",
       "Invesment                                                                      0.00\n",
       "new begininnings                                                               0.00\n",
       "Pilot's License                                                                0.00\n",
       "refi loan                                                                      0.00\n",
       "Trying to effectively manage debt                                              0.00\n",
       "motorcycle                                                                     0.00\n",
       "payoffs                                                                        0.00\n",
       "My happy loan                                                                  0.00\n",
       "hawaii                                                                         0.00\n",
       "Credit Card Debot                                                              0.00\n",
       "Debt Consolidator                                                              0.00\n",
       "shawns loan                                                                    0.00\n",
       "Personal Loan / Parent Assist                                                  0.00\n",
       "Debt con.                                                                      0.00\n",
       "swimming pool                                                                  0.00\n",
       "major purchase                                                                 0.00\n",
       "FAST TRACK                                                                     0.00\n",
       "Reloaction Expenses - New Job                                                  0.00\n",
       "special request loan                                                           0.00\n",
       "The house is falling apart :(                                                  0.00\n",
       "DEBT FREE                                                                      0.00\n",
       "Freedom from Debt                                                              0.00\n",
       "Consoidation                                                                   0.00\n",
       "expenses                                                                       0.00\n",
       "Debt Pay Off                                                                   0.00\n",
       "Credit card freedom !                                                          0.00\n",
       "Kubota Tractor                                                                 0.00\n",
       "debt-free in 3 years!                                                          0.00\n",
       "Starting small jewelry business                                                0.00\n",
       "buy a used car                                                                 0.00\n",
       "Nasty problem with Septic Tank- needs T-baffle, root removal, etc. Help!       0.00\n",
       "Business Development Lone                                                      0.00\n",
       "My daughter's Quinceanera/8th Grade Trip                                       0.00\n",
       "SAMSAMs consolidate debt loan                                                  0.00\n",
       "relief to my high interest rates                                               0.00\n",
       "Sam's Loan                                                                     0.00\n",
       "Home                                                                           0.00\n",
       "Boarding School                                                                0.00\n",
       "Freedom Loan                                                                   0.00\n",
       "Consol                                                                         0.00\n",
       "Credit Card refinance                                                          0.00\n",
       "Getting out of debt !yay!                                                      0.00\n",
       "LOAN                                                                           0.00\n",
       "debt Consoliadation                                                            0.00\n",
       "medical bills consolidation                                                    0.00\n",
       "pay credit cards                                                               0.00\n",
       "Debt clean up                                                                  0.00\n",
       "Consolidation Needed                                                           0.00\n",
       "CREDIT DEBT                                                                    0.00\n",
       "Second Loan                                                                    0.00\n",
       "credit card and furniture                                                      0.00\n",
       "Lower Rate Debt Consolidation                                                  0.00\n",
       "Credit Clear in 36 months                                                      0.00\n",
       "DebtPayOffTime                                                                 0.00\n",
       "Lower current rate and payment                                                 0.00\n",
       "36 1000 LOAN                                                                   0.00\n",
       "2013 Consolidate                                                               0.00\n",
       "debt clear                                                                     0.00\n",
       "familyneeds my help                                                            0.00\n",
       "My Credit Card Loan                                                            0.00\n",
       "move forward                                                                   0.00\n",
       "Jillian                                                                        0.00\n",
       "need assistance                                                                0.00\n",
       "January2013 Loan                                                               0.00\n",
       "Startup Funds                                                                  0.00\n",
       "lower interest rate                                                            0.00\n",
       "Freedom4me                                                                     0.00\n",
       "expenses loan                                                                  0.00\n",
       "credit card relief                                                             0.00\n",
       "Start Up Capital                                                               0.00\n",
       "ENJOYABLE FUTURE                                                               0.00\n",
       "Credit card ln                                                                 0.00\n",
       "consolidate bills                                                              0.00\n",
       "Home & Car Improvements                                                        0.00\n",
       "Credit Card PayOff                                                             0.00\n",
       "ccloan                                                                         0.00\n",
       "Engagement                                                                     0.00\n",
       "loan1                                                                          0.00\n",
       "student loan payment                                                           0.00\n",
       "SHORT LOAN                                                                     0.00\n",
       "Consolidation2                                                                 0.00\n",
       "Consolidation to Move Ahead                                                    0.00\n",
       "PAY PERSONAL DEBTS                                                             0.00\n",
       "Free                                                                           0.00\n",
       "Credit Card payoff                                                             0.00\n",
       "canoe purchase                                                                 0.00\n",
       "Lconsolidate                                                                   0.00\n",
       "Vending Machine Route                                                          0.00\n",
       "thanks for consideration                                                       0.00\n",
       "Room Addition for Home                                                         0.00\n",
       "cc                                                                             0.00\n",
       "credit freedon                                                                 0.00\n",
       "Citibank                                                                       0.00\n",
       "Fence Loan                                                                     0.00\n",
       "Christmas Shopping and Debt Payoff                                             0.00\n",
       "Motorcycle Loan                                                                0.00\n",
       "CC Repayment                                                                   0.00\n",
       "Debt Consolidation amd Amortization                                            0.00\n",
       "Debt removal                                                                   0.00\n",
       "Pay off Amex                                                                   0.00\n",
       "debtzero                                                                       0.00\n",
       "Credit debt payoff                                                             0.00\n",
       "another pain                                                                   0.00\n",
       "pool                                                                           0.00\n",
       "Beating the interest with consolidation                                        0.00\n",
       "auto loan                                                                      0.00\n",
       "last loan                                                                      0.00\n",
       "Small Business                                                                 0.00\n",
       "Sears Franchise                                                                0.00\n",
       "Corvette                                                                       0.00\n",
       "Basement and Bath Renovation                                                   0.00\n",
       "Clear Slate                                                                    0.00\n",
       "Debt Reduction/ Financial Fresh Start                                          0.00\n",
       "Flooring/Bath Project                                                          0.00\n",
       "help loan                                                                      0.00\n",
       "Debt Crusher                                                                   0.00\n",
       "Moving & pay back fast                                                         0.00\n",
       "Credit Card Debt No More!                                                      0.00\n",
       "Dept consolidation                                                             0.00\n",
       "Stability                                                                      0.00\n",
       "Debt Consolidation HSBC DFS                                                    0.00\n",
       "Pay off credit credit cards                                                    0.00\n",
       "2013 Consolidation                                                             0.00\n",
       "mystartover                                                                    0.00\n",
       "Loan 2                                                                         0.00\n",
       "Personal legal fees                                                            0.00\n",
       "Well project                                                                   0.00\n",
       "A New Day                                                                      0.00\n",
       "payoff promotional/payday loans                                                0.00\n",
       "American express                                                               0.00\n",
       "Cards and Storage Shed                                                         0.00\n",
       "SICK OF DEBT!                                                                  0.00\n",
       "Going to the chapel                                                            0.00\n",
       "Moving into a new home!                                                        0.00\n",
       "debt elimination loan                                                          0.00\n",
       "Debt Be Gone                                                                   0.00\n",
       "pay my credit cards                                                            0.00\n",
       "Responsible repay                                                              0.00\n",
       "Loan for debt consolidation and payoff                                         0.00\n",
       "grady                                                                          0.00\n",
       "Selling my Financed Car                                                        0.00\n",
       "Holiday                                                                        0.00\n",
       "Deby Consolidation                                                             0.00\n",
       "Name: title, dtype: float64"
      ]
     },
     "execution_count": 54,
     "metadata": {},
     "output_type": "execute_result"
    }
   ],
   "source": [
    "loans['title'].value_counts(normalize=True, dropna=False)"
   ]
  },
  {
   "cell_type": "markdown",
   "metadata": {},
   "source": [
    "Purpose and Title are quite similar so we can drop either one column"
   ]
  },
  {
   "cell_type": "code",
   "execution_count": 55,
   "metadata": {},
   "outputs": [],
   "source": [
    "loans.drop('title', axis=1, inplace=True)"
   ]
  },
  {
   "cell_type": "code",
   "execution_count": null,
   "metadata": {},
   "outputs": [],
   "source": []
  },
  {
   "cell_type": "code",
   "execution_count": null,
   "metadata": {},
   "outputs": [],
   "source": []
  },
  {
   "cell_type": "markdown",
   "metadata": {},
   "source": [
    "#### Zip code and Address state "
   ]
  },
  {
   "cell_type": "code",
   "execution_count": 56,
   "metadata": {},
   "outputs": [
    {
     "data": {
      "text/plain": [
       "count     13539\n",
       "unique      812\n",
       "top       750xx\n",
       "freq        173\n",
       "Name: zip_code, dtype: object"
      ]
     },
     "execution_count": 56,
     "metadata": {},
     "output_type": "execute_result"
    }
   ],
   "source": [
    "loans['zip_code'].describe()"
   ]
  },
  {
   "cell_type": "code",
   "execution_count": 57,
   "metadata": {},
   "outputs": [
    {
     "data": {
      "text/plain": [
       "1182583    NY\n",
       "760648     WI\n",
       "274829     NC\n",
       "49855      NC\n",
       "1845139    AR\n",
       "Name: addr_state, dtype: object"
      ]
     },
     "execution_count": 57,
     "metadata": {},
     "output_type": "execute_result"
    }
   ],
   "source": [
    "loans['addr_state'].sample(5)"
   ]
  },
  {
   "cell_type": "code",
   "execution_count": 58,
   "metadata": {},
   "outputs": [
    {
     "data": {
      "text/plain": [
       "50"
      ]
     },
     "execution_count": 58,
     "metadata": {},
     "output_type": "execute_result"
    }
   ],
   "source": [
    "loans['addr_state'].nunique()"
   ]
  },
  {
   "cell_type": "markdown",
   "metadata": {},
   "source": [
    "Zip code and address are quite similar which tells about address of applicant, so we will drop one column with more unique values"
   ]
  },
  {
   "cell_type": "code",
   "execution_count": 59,
   "metadata": {},
   "outputs": [
    {
     "data": {
      "text/plain": [
       "addr_state\n",
       "DC   0.03\n",
       "NM   0.12\n",
       "WY   0.13\n",
       "VT   0.13\n",
       "SC   0.13\n",
       "MO   0.14\n",
       "CT   0.14\n",
       "NH   0.14\n",
       "RI   0.16\n",
       "OR   0.16\n",
       "WA   0.16\n",
       "CO   0.16\n",
       "MI   0.16\n",
       "ME   0.17\n",
       "KS   0.17\n",
       "MT   0.17\n",
       "VA   0.18\n",
       "PA   0.18\n",
       "MA   0.18\n",
       "WV   0.18\n",
       "TX   0.19\n",
       "MD   0.19\n",
       "CA   0.19\n",
       "UT   0.19\n",
       "IN   0.20\n",
       "TN   0.20\n",
       "WI   0.20\n",
       "HI   0.20\n",
       "GA   0.20\n",
       "AZ   0.21\n",
       "IL   0.21\n",
       "MN   0.21\n",
       "OH   0.21\n",
       "NC   0.22\n",
       "FL   0.22\n",
       "NY   0.22\n",
       "NE   0.22\n",
       "DE   0.23\n",
       "AL   0.23\n",
       "NJ   0.23\n",
       "NV   0.23\n",
       "OK   0.25\n",
       "AR   0.26\n",
       "MS   0.26\n",
       "LA   0.26\n",
       "SD   0.29\n",
       "ND   0.30\n",
       "KY   0.30\n",
       "ID   0.35\n",
       "AK   0.37\n",
       "Name: loan_status, dtype: float64"
      ]
     },
     "execution_count": 59,
     "metadata": {},
     "output_type": "execute_result"
    }
   ],
   "source": [
    "loans.groupby('addr_state')['loan_status'].value_counts(normalize=True).loc[:,'Charged Off'].sort_values()"
   ]
  },
  {
   "cell_type": "markdown",
   "metadata": {},
   "source": [
    "MS state having highest charge off rates with 26%"
   ]
  },
  {
   "cell_type": "code",
   "execution_count": 60,
   "metadata": {},
   "outputs": [],
   "source": [
    "loans.drop(labels='zip_code', axis=1, inplace=True)"
   ]
  },
  {
   "cell_type": "code",
   "execution_count": null,
   "metadata": {},
   "outputs": [],
   "source": []
  },
  {
   "cell_type": "markdown",
   "metadata": {},
   "source": [
    "#### Initial list status"
   ]
  },
  {
   "cell_type": "code",
   "execution_count": 61,
   "metadata": {},
   "outputs": [
    {
     "data": {
      "text/plain": [
       "count     13539\n",
       "unique        2\n",
       "top           w\n",
       "freq       7857\n",
       "Name: initial_list_status, dtype: object"
      ]
     },
     "execution_count": 61,
     "metadata": {},
     "output_type": "execute_result"
    }
   ],
   "source": [
    "loans['initial_list_status'].describe()"
   ]
  },
  {
   "cell_type": "code",
   "execution_count": 62,
   "metadata": {},
   "outputs": [
    {
     "name": "stderr",
     "output_type": "stream",
     "text": [
      "C:\\Users\\user\\miniconda3\\envs\\sm-202011\\lib\\site-packages\\seaborn\\_decorators.py:43: FutureWarning: Pass the following variable as a keyword arg: x. From version 0.12, the only valid positional argument will be `data`, and passing other arguments without an explicit keyword will result in an error or misinterpretation.\n",
      "  FutureWarning\n"
     ]
    },
    {
     "data": {
      "image/png": "[encoded data removed]",
      "text/plain": [
       "<Figure size 1080x270 with 2 Axes>"
      ]
     },
     "metadata": {},
     "output_type": "display_data"
    }
   ],
   "source": [
    "plot_var('initial_list_status', 'Initial List Status', continuous=False)"
   ]
  },
  {
   "cell_type": "markdown",
   "metadata": {},
   "source": [
    "Charge off rates for \"w\" and \"f\" status are similar with 20%"
   ]
  },
  {
   "cell_type": "code",
   "execution_count": null,
   "metadata": {},
   "outputs": [],
   "source": []
  },
  {
   "cell_type": "markdown",
   "metadata": {},
   "source": [
    "#### Application type"
   ]
  },
  {
   "cell_type": "code",
   "execution_count": 63,
   "metadata": {},
   "outputs": [
    {
     "data": {
      "text/plain": [
       "Individual   0.98\n",
       "Joint App    0.02\n",
       "Name: application_type, dtype: float64"
      ]
     },
     "execution_count": 63,
     "metadata": {},
     "output_type": "execute_result"
    }
   ],
   "source": [
    "loans['application_type'].value_counts(normalize=True)"
   ]
  },
  {
   "cell_type": "code",
   "execution_count": 64,
   "metadata": {},
   "outputs": [
    {
     "data": {
      "text/plain": [
       "application_type\n",
       "Individual   0.20\n",
       "Joint App    0.23\n",
       "Name: loan_status, dtype: float64"
      ]
     },
     "execution_count": 64,
     "metadata": {},
     "output_type": "execute_result"
    }
   ],
   "source": [
    "loans.groupby('application_type')['loan_status'].value_counts(normalize=True).loc[:,'Charged Off']"
   ]
  },
  {
   "cell_type": "markdown",
   "metadata": {},
   "source": [
    "2% Loan applicants are Joint application types which are having 25% of charge off rates "
   ]
  },
  {
   "cell_type": "code",
   "execution_count": null,
   "metadata": {},
   "outputs": [],
   "source": []
  },
  {
   "cell_type": "markdown",
   "metadata": {},
   "source": [
    "### Analyzing Numerical Data"
   ]
  },
  {
   "cell_type": "markdown",
   "metadata": {},
   "source": [
    "#### Loan amount"
   ]
  },
  {
   "cell_type": "code",
   "execution_count": 65,
   "metadata": {},
   "outputs": [
    {
     "data": {
      "text/plain": [
       "count   13,539.00\n",
       "mean    14,417.95\n",
       "std      8,746.05\n",
       "min      1,000.00\n",
       "25%      7,925.00\n",
       "50%     12,000.00\n",
       "75%     20,000.00\n",
       "max     40,000.00\n",
       "Name: loan_amnt, dtype: float64"
      ]
     },
     "execution_count": 65,
     "metadata": {},
     "output_type": "execute_result"
    }
   ],
   "source": [
    "loans['loan_amnt'].describe()"
   ]
  },
  {
   "cell_type": "code",
   "execution_count": 66,
   "metadata": {},
   "outputs": [],
   "source": [
    "loans['loan_amnt'] = loans['loan_amnt'].apply(lambda x: np.log10(x+1)) #applying log10 to calculate numerical value"
   ]
  },
  {
   "cell_type": "code",
   "execution_count": 67,
   "metadata": {},
   "outputs": [
    {
     "data": {
      "text/html": [
       "<div>\n",
       "<style scoped>\n",
       "    .dataframe tbody tr th:only-of-type {\n",
       "        vertical-align: middle;\n",
       "    }\n",
       "\n",
       "    .dataframe tbody tr th {\n",
       "        vertical-align: top;\n",
       "    }\n",
       "\n",
       "    .dataframe thead th {\n",
       "        text-align: right;\n",
       "    }\n",
       "</style>\n",
       "<table border=\"1\" class=\"dataframe\">\n",
       "  <thead>\n",
       "    <tr style=\"text-align: right;\">\n",
       "      <th></th>\n",
       "      <th>count</th>\n",
       "      <th>mean</th>\n",
       "      <th>std</th>\n",
       "      <th>min</th>\n",
       "      <th>25%</th>\n",
       "      <th>50%</th>\n",
       "      <th>75%</th>\n",
       "      <th>max</th>\n",
       "    </tr>\n",
       "    <tr>\n",
       "      <th>loan_status</th>\n",
       "      <th></th>\n",
       "      <th></th>\n",
       "      <th></th>\n",
       "      <th></th>\n",
       "      <th></th>\n",
       "      <th></th>\n",
       "      <th></th>\n",
       "      <th></th>\n",
       "    </tr>\n",
       "  </thead>\n",
       "  <tbody>\n",
       "    <tr>\n",
       "      <th>Charged Off</th>\n",
       "      <td>2,686.00</td>\n",
       "      <td>4.11</td>\n",
       "      <td>0.29</td>\n",
       "      <td>3.00</td>\n",
       "      <td>3.95</td>\n",
       "      <td>4.16</td>\n",
       "      <td>4.32</td>\n",
       "      <td>4.60</td>\n",
       "    </tr>\n",
       "    <tr>\n",
       "      <th>Fully Paid</th>\n",
       "      <td>10,853.00</td>\n",
       "      <td>4.06</td>\n",
       "      <td>0.31</td>\n",
       "      <td>3.00</td>\n",
       "      <td>3.88</td>\n",
       "      <td>4.08</td>\n",
       "      <td>4.30</td>\n",
       "      <td>4.60</td>\n",
       "    </tr>\n",
       "  </tbody>\n",
       "</table>\n",
       "</div>"
      ],
      "text/plain": [
       "                count  mean  std  min  25%  50%  75%  max\n",
       "loan_status                                              \n",
       "Charged Off  2,686.00  4.11 0.29 3.00 3.95 4.16 4.32 4.60\n",
       "Fully Paid  10,853.00  4.06 0.31 3.00 3.88 4.08 4.30 4.60"
      ]
     },
     "execution_count": 67,
     "metadata": {},
     "output_type": "execute_result"
    }
   ],
   "source": [
    "loans.groupby('loan_status')['loan_amnt'].describe()"
   ]
  },
  {
   "cell_type": "code",
   "execution_count": null,
   "metadata": {},
   "outputs": [],
   "source": []
  },
  {
   "cell_type": "markdown",
   "metadata": {},
   "source": [
    "#### Interest Rate"
   ]
  },
  {
   "cell_type": "code",
   "execution_count": 68,
   "metadata": {},
   "outputs": [
    {
     "data": {
      "text/plain": [
       "count   13,539.00\n",
       "mean        13.23\n",
       "std          4.70\n",
       "min          5.31\n",
       "25%          9.75\n",
       "50%         12.74\n",
       "75%         15.99\n",
       "max         30.99\n",
       "Name: int_rate, dtype: float64"
      ]
     },
     "execution_count": 68,
     "metadata": {},
     "output_type": "execute_result"
    }
   ],
   "source": [
    "loans['int_rate'].describe()"
   ]
  },
  {
   "cell_type": "code",
   "execution_count": 69,
   "metadata": {},
   "outputs": [
    {
     "data": {
      "text/html": [
       "<div>\n",
       "<style scoped>\n",
       "    .dataframe tbody tr th:only-of-type {\n",
       "        vertical-align: middle;\n",
       "    }\n",
       "\n",
       "    .dataframe tbody tr th {\n",
       "        vertical-align: top;\n",
       "    }\n",
       "\n",
       "    .dataframe thead th {\n",
       "        text-align: right;\n",
       "    }\n",
       "</style>\n",
       "<table border=\"1\" class=\"dataframe\">\n",
       "  <thead>\n",
       "    <tr style=\"text-align: right;\">\n",
       "      <th></th>\n",
       "      <th>count</th>\n",
       "      <th>mean</th>\n",
       "      <th>std</th>\n",
       "      <th>min</th>\n",
       "      <th>25%</th>\n",
       "      <th>50%</th>\n",
       "      <th>75%</th>\n",
       "      <th>max</th>\n",
       "    </tr>\n",
       "    <tr>\n",
       "      <th>loan_status</th>\n",
       "      <th></th>\n",
       "      <th></th>\n",
       "      <th></th>\n",
       "      <th></th>\n",
       "      <th></th>\n",
       "      <th></th>\n",
       "      <th></th>\n",
       "      <th></th>\n",
       "    </tr>\n",
       "  </thead>\n",
       "  <tbody>\n",
       "    <tr>\n",
       "      <th>Charged Off</th>\n",
       "      <td>2,686.00</td>\n",
       "      <td>15.64</td>\n",
       "      <td>4.86</td>\n",
       "      <td>5.31</td>\n",
       "      <td>12.35</td>\n",
       "      <td>14.99</td>\n",
       "      <td>18.45</td>\n",
       "      <td>30.99</td>\n",
       "    </tr>\n",
       "    <tr>\n",
       "      <th>Fully Paid</th>\n",
       "      <td>10,853.00</td>\n",
       "      <td>12.63</td>\n",
       "      <td>4.46</td>\n",
       "      <td>5.31</td>\n",
       "      <td>9.17</td>\n",
       "      <td>12.29</td>\n",
       "      <td>15.22</td>\n",
       "      <td>30.99</td>\n",
       "    </tr>\n",
       "  </tbody>\n",
       "</table>\n",
       "</div>"
      ],
      "text/plain": [
       "                count  mean  std  min   25%   50%   75%   max\n",
       "loan_status                                                  \n",
       "Charged Off  2,686.00 15.64 4.86 5.31 12.35 14.99 18.45 30.99\n",
       "Fully Paid  10,853.00 12.63 4.46 5.31  9.17 12.29 15.22 30.99"
      ]
     },
     "execution_count": 69,
     "metadata": {},
     "output_type": "execute_result"
    }
   ],
   "source": [
    "loans.groupby('loan_status')['int_rate'].describe()"
   ]
  },
  {
   "cell_type": "code",
   "execution_count": 70,
   "metadata": {},
   "outputs": [
    {
     "data": {
      "text/html": [
       "<div>\n",
       "<style scoped>\n",
       "    .dataframe tbody tr th:only-of-type {\n",
       "        vertical-align: middle;\n",
       "    }\n",
       "\n",
       "    .dataframe tbody tr th {\n",
       "        vertical-align: top;\n",
       "    }\n",
       "\n",
       "    .dataframe thead th {\n",
       "        text-align: right;\n",
       "    }\n",
       "</style>\n",
       "<table border=\"1\" class=\"dataframe\">\n",
       "  <thead>\n",
       "    <tr style=\"text-align: right;\">\n",
       "      <th></th>\n",
       "      <th>count</th>\n",
       "      <th>mean</th>\n",
       "      <th>std</th>\n",
       "      <th>min</th>\n",
       "      <th>25%</th>\n",
       "      <th>50%</th>\n",
       "      <th>75%</th>\n",
       "      <th>max</th>\n",
       "    </tr>\n",
       "    <tr>\n",
       "      <th>purpose</th>\n",
       "      <th></th>\n",
       "      <th></th>\n",
       "      <th></th>\n",
       "      <th></th>\n",
       "      <th></th>\n",
       "      <th></th>\n",
       "      <th></th>\n",
       "      <th></th>\n",
       "    </tr>\n",
       "  </thead>\n",
       "  <tbody>\n",
       "    <tr>\n",
       "      <th>car</th>\n",
       "      <td>150.00</td>\n",
       "      <td>11.85</td>\n",
       "      <td>4.58</td>\n",
       "      <td>5.32</td>\n",
       "      <td>7.89</td>\n",
       "      <td>11.41</td>\n",
       "      <td>14.65</td>\n",
       "      <td>26.30</td>\n",
       "    </tr>\n",
       "    <tr>\n",
       "      <th>credit_card</th>\n",
       "      <td>2,970.00</td>\n",
       "      <td>11.86</td>\n",
       "      <td>4.18</td>\n",
       "      <td>5.31</td>\n",
       "      <td>8.39</td>\n",
       "      <td>11.47</td>\n",
       "      <td>14.08</td>\n",
       "      <td>30.84</td>\n",
       "    </tr>\n",
       "    <tr>\n",
       "      <th>debt_consolidation</th>\n",
       "      <td>7,796.00</td>\n",
       "      <td>13.56</td>\n",
       "      <td>4.65</td>\n",
       "      <td>5.31</td>\n",
       "      <td>10.16</td>\n",
       "      <td>13.02</td>\n",
       "      <td>16.29</td>\n",
       "      <td>30.99</td>\n",
       "    </tr>\n",
       "    <tr>\n",
       "      <th>educational</th>\n",
       "      <td>4.00</td>\n",
       "      <td>11.87</td>\n",
       "      <td>3.03</td>\n",
       "      <td>7.68</td>\n",
       "      <td>10.85</td>\n",
       "      <td>12.54</td>\n",
       "      <td>13.56</td>\n",
       "      <td>14.74</td>\n",
       "    </tr>\n",
       "    <tr>\n",
       "      <th>home_improvement</th>\n",
       "      <td>856.00</td>\n",
       "      <td>12.92</td>\n",
       "      <td>4.81</td>\n",
       "      <td>5.31</td>\n",
       "      <td>9.17</td>\n",
       "      <td>12.61</td>\n",
       "      <td>15.61</td>\n",
       "      <td>30.94</td>\n",
       "    </tr>\n",
       "    <tr>\n",
       "      <th>house</th>\n",
       "      <td>81.00</td>\n",
       "      <td>15.02</td>\n",
       "      <td>5.30</td>\n",
       "      <td>5.31</td>\n",
       "      <td>12.62</td>\n",
       "      <td>15.31</td>\n",
       "      <td>17.99</td>\n",
       "      <td>30.99</td>\n",
       "    </tr>\n",
       "    <tr>\n",
       "      <th>major_purchase</th>\n",
       "      <td>317.00</td>\n",
       "      <td>12.56</td>\n",
       "      <td>4.87</td>\n",
       "      <td>5.32</td>\n",
       "      <td>8.49</td>\n",
       "      <td>11.99</td>\n",
       "      <td>15.05</td>\n",
       "      <td>29.49</td>\n",
       "    </tr>\n",
       "    <tr>\n",
       "      <th>medical</th>\n",
       "      <td>152.00</td>\n",
       "      <td>13.91</td>\n",
       "      <td>4.79</td>\n",
       "      <td>5.31</td>\n",
       "      <td>9.99</td>\n",
       "      <td>13.82</td>\n",
       "      <td>16.56</td>\n",
       "      <td>29.49</td>\n",
       "    </tr>\n",
       "    <tr>\n",
       "      <th>moving</th>\n",
       "      <td>89.00</td>\n",
       "      <td>15.35</td>\n",
       "      <td>5.28</td>\n",
       "      <td>5.32</td>\n",
       "      <td>12.05</td>\n",
       "      <td>13.99</td>\n",
       "      <td>19.03</td>\n",
       "      <td>30.99</td>\n",
       "    </tr>\n",
       "    <tr>\n",
       "      <th>other</th>\n",
       "      <td>832.00</td>\n",
       "      <td>14.75</td>\n",
       "      <td>5.12</td>\n",
       "      <td>5.32</td>\n",
       "      <td>11.47</td>\n",
       "      <td>13.99</td>\n",
       "      <td>17.86</td>\n",
       "      <td>30.99</td>\n",
       "    </tr>\n",
       "    <tr>\n",
       "      <th>renewable_energy</th>\n",
       "      <td>10.00</td>\n",
       "      <td>13.30</td>\n",
       "      <td>2.48</td>\n",
       "      <td>8.90</td>\n",
       "      <td>11.74</td>\n",
       "      <td>13.59</td>\n",
       "      <td>15.33</td>\n",
       "      <td>16.59</td>\n",
       "    </tr>\n",
       "    <tr>\n",
       "      <th>small_business</th>\n",
       "      <td>172.00</td>\n",
       "      <td>16.19</td>\n",
       "      <td>5.25</td>\n",
       "      <td>5.32</td>\n",
       "      <td>12.25</td>\n",
       "      <td>15.82</td>\n",
       "      <td>19.99</td>\n",
       "      <td>26.99</td>\n",
       "    </tr>\n",
       "    <tr>\n",
       "      <th>vacation</th>\n",
       "      <td>96.00</td>\n",
       "      <td>12.89</td>\n",
       "      <td>4.45</td>\n",
       "      <td>5.32</td>\n",
       "      <td>9.88</td>\n",
       "      <td>12.69</td>\n",
       "      <td>15.74</td>\n",
       "      <td>24.49</td>\n",
       "    </tr>\n",
       "    <tr>\n",
       "      <th>wedding</th>\n",
       "      <td>14.00</td>\n",
       "      <td>13.30</td>\n",
       "      <td>4.48</td>\n",
       "      <td>7.43</td>\n",
       "      <td>9.94</td>\n",
       "      <td>13.17</td>\n",
       "      <td>16.44</td>\n",
       "      <td>20.49</td>\n",
       "    </tr>\n",
       "  </tbody>\n",
       "</table>\n",
       "</div>"
      ],
      "text/plain": [
       "                      count  mean  std  min   25%   50%   75%   max\n",
       "purpose                                                            \n",
       "car                  150.00 11.85 4.58 5.32  7.89 11.41 14.65 26.30\n",
       "credit_card        2,970.00 11.86 4.18 5.31  8.39 11.47 14.08 30.84\n",
       "debt_consolidation 7,796.00 13.56 4.65 5.31 10.16 13.02 16.29 30.99\n",
       "educational            4.00 11.87 3.03 7.68 10.85 12.54 13.56 14.74\n",
       "home_improvement     856.00 12.92 4.81 5.31  9.17 12.61 15.61 30.94\n",
       "house                 81.00 15.02 5.30 5.31 12.62 15.31 17.99 30.99\n",
       "major_purchase       317.00 12.56 4.87 5.32  8.49 11.99 15.05 29.49\n",
       "medical              152.00 13.91 4.79 5.31  9.99 13.82 16.56 29.49\n",
       "moving                89.00 15.35 5.28 5.32 12.05 13.99 19.03 30.99\n",
       "other                832.00 14.75 5.12 5.32 11.47 13.99 17.86 30.99\n",
       "renewable_energy      10.00 13.30 2.48 8.90 11.74 13.59 15.33 16.59\n",
       "small_business       172.00 16.19 5.25 5.32 12.25 15.82 19.99 26.99\n",
       "vacation              96.00 12.89 4.45 5.32  9.88 12.69 15.74 24.49\n",
       "wedding               14.00 13.30 4.48 7.43  9.94 13.17 16.44 20.49"
      ]
     },
     "execution_count": 70,
     "metadata": {},
     "output_type": "execute_result"
    }
   ],
   "source": [
    "loans.groupby('purpose')['int_rate'].describe()"
   ]
  },
  {
   "cell_type": "code",
   "execution_count": 71,
   "metadata": {},
   "outputs": [
    {
     "data": {
      "text/html": [
       "<div>\n",
       "<style scoped>\n",
       "    .dataframe tbody tr th:only-of-type {\n",
       "        vertical-align: middle;\n",
       "    }\n",
       "\n",
       "    .dataframe tbody tr th {\n",
       "        vertical-align: top;\n",
       "    }\n",
       "\n",
       "    .dataframe thead th {\n",
       "        text-align: right;\n",
       "    }\n",
       "</style>\n",
       "<table border=\"1\" class=\"dataframe\">\n",
       "  <thead>\n",
       "    <tr style=\"text-align: right;\">\n",
       "      <th></th>\n",
       "      <th>count</th>\n",
       "      <th>mean</th>\n",
       "      <th>std</th>\n",
       "      <th>min</th>\n",
       "      <th>25%</th>\n",
       "      <th>50%</th>\n",
       "      <th>75%</th>\n",
       "      <th>max</th>\n",
       "    </tr>\n",
       "    <tr>\n",
       "      <th>sub_grade</th>\n",
       "      <th></th>\n",
       "      <th></th>\n",
       "      <th></th>\n",
       "      <th></th>\n",
       "      <th></th>\n",
       "      <th></th>\n",
       "      <th></th>\n",
       "      <th></th>\n",
       "    </tr>\n",
       "  </thead>\n",
       "  <tbody>\n",
       "    <tr>\n",
       "      <th>A1</th>\n",
       "      <td>426.00</td>\n",
       "      <td>5.54</td>\n",
       "      <td>0.34</td>\n",
       "      <td>5.31</td>\n",
       "      <td>5.32</td>\n",
       "      <td>5.32</td>\n",
       "      <td>6.00</td>\n",
       "      <td>7.37</td>\n",
       "    </tr>\n",
       "    <tr>\n",
       "      <th>A2</th>\n",
       "      <td>360.00</td>\n",
       "      <td>6.53</td>\n",
       "      <td>0.31</td>\n",
       "      <td>5.79</td>\n",
       "      <td>6.24</td>\n",
       "      <td>6.49</td>\n",
       "      <td>6.62</td>\n",
       "      <td>7.68</td>\n",
       "    </tr>\n",
       "    <tr>\n",
       "      <th>A3</th>\n",
       "      <td>395.00</td>\n",
       "      <td>7.16</td>\n",
       "      <td>0.33</td>\n",
       "      <td>6.17</td>\n",
       "      <td>6.89</td>\n",
       "      <td>7.12</td>\n",
       "      <td>7.51</td>\n",
       "      <td>8.00</td>\n",
       "    </tr>\n",
       "    <tr>\n",
       "      <th>A4</th>\n",
       "      <td>499.00</td>\n",
       "      <td>7.51</td>\n",
       "      <td>0.36</td>\n",
       "      <td>6.54</td>\n",
       "      <td>7.26</td>\n",
       "      <td>7.39</td>\n",
       "      <td>7.69</td>\n",
       "      <td>9.32</td>\n",
       "    </tr>\n",
       "    <tr>\n",
       "      <th>A5</th>\n",
       "      <td>629.00</td>\n",
       "      <td>8.21</td>\n",
       "      <td>0.42</td>\n",
       "      <td>6.91</td>\n",
       "      <td>7.89</td>\n",
       "      <td>7.97</td>\n",
       "      <td>8.46</td>\n",
       "      <td>9.63</td>\n",
       "    </tr>\n",
       "    <tr>\n",
       "      <th>B1</th>\n",
       "      <td>704.00</td>\n",
       "      <td>8.96</td>\n",
       "      <td>0.69</td>\n",
       "      <td>8.18</td>\n",
       "      <td>8.24</td>\n",
       "      <td>8.99</td>\n",
       "      <td>9.44</td>\n",
       "      <td>11.14</td>\n",
       "    </tr>\n",
       "    <tr>\n",
       "      <th>B2</th>\n",
       "      <td>770.00</td>\n",
       "      <td>9.91</td>\n",
       "      <td>0.74</td>\n",
       "      <td>9.16</td>\n",
       "      <td>9.17</td>\n",
       "      <td>9.92</td>\n",
       "      <td>10.49</td>\n",
       "      <td>11.26</td>\n",
       "    </tr>\n",
       "    <tr>\n",
       "      <th>B3</th>\n",
       "      <td>835.00</td>\n",
       "      <td>10.76</td>\n",
       "      <td>0.87</td>\n",
       "      <td>9.62</td>\n",
       "      <td>9.99</td>\n",
       "      <td>10.49</td>\n",
       "      <td>11.55</td>\n",
       "      <td>12.12</td>\n",
       "    </tr>\n",
       "    <tr>\n",
       "      <th>B4</th>\n",
       "      <td>877.00</td>\n",
       "      <td>11.48</td>\n",
       "      <td>0.82</td>\n",
       "      <td>6.00</td>\n",
       "      <td>10.91</td>\n",
       "      <td>10.99</td>\n",
       "      <td>11.67</td>\n",
       "      <td>13.11</td>\n",
       "    </tr>\n",
       "    <tr>\n",
       "      <th>B5</th>\n",
       "      <td>797.00</td>\n",
       "      <td>12.06</td>\n",
       "      <td>0.80</td>\n",
       "      <td>10.36</td>\n",
       "      <td>11.49</td>\n",
       "      <td>11.53</td>\n",
       "      <td>12.49</td>\n",
       "      <td>14.09</td>\n",
       "    </tr>\n",
       "    <tr>\n",
       "      <th>C1</th>\n",
       "      <td>885.00</td>\n",
       "      <td>12.75</td>\n",
       "      <td>0.71</td>\n",
       "      <td>11.78</td>\n",
       "      <td>12.29</td>\n",
       "      <td>12.62</td>\n",
       "      <td>12.99</td>\n",
       "      <td>14.33</td>\n",
       "    </tr>\n",
       "    <tr>\n",
       "      <th>C2</th>\n",
       "      <td>816.00</td>\n",
       "      <td>13.43</td>\n",
       "      <td>0.81</td>\n",
       "      <td>6.00</td>\n",
       "      <td>12.69</td>\n",
       "      <td>13.35</td>\n",
       "      <td>13.59</td>\n",
       "      <td>15.31</td>\n",
       "    </tr>\n",
       "    <tr>\n",
       "      <th>C3</th>\n",
       "      <td>774.00</td>\n",
       "      <td>14.01</td>\n",
       "      <td>0.78</td>\n",
       "      <td>6.00</td>\n",
       "      <td>13.33</td>\n",
       "      <td>13.98</td>\n",
       "      <td>14.08</td>\n",
       "      <td>15.80</td>\n",
       "    </tr>\n",
       "    <tr>\n",
       "      <th>C4</th>\n",
       "      <td>752.00</td>\n",
       "      <td>14.76</td>\n",
       "      <td>0.76</td>\n",
       "      <td>13.35</td>\n",
       "      <td>13.99</td>\n",
       "      <td>14.49</td>\n",
       "      <td>15.05</td>\n",
       "      <td>16.29</td>\n",
       "    </tr>\n",
       "    <tr>\n",
       "      <th>C5</th>\n",
       "      <td>680.00</td>\n",
       "      <td>15.54</td>\n",
       "      <td>0.79</td>\n",
       "      <td>13.72</td>\n",
       "      <td>14.85</td>\n",
       "      <td>15.59</td>\n",
       "      <td>16.02</td>\n",
       "      <td>17.27</td>\n",
       "    </tr>\n",
       "    <tr>\n",
       "      <th>D1</th>\n",
       "      <td>562.00</td>\n",
       "      <td>16.38</td>\n",
       "      <td>0.89</td>\n",
       "      <td>12.61</td>\n",
       "      <td>15.61</td>\n",
       "      <td>16.29</td>\n",
       "      <td>16.99</td>\n",
       "      <td>17.97</td>\n",
       "    </tr>\n",
       "    <tr>\n",
       "      <th>D2</th>\n",
       "      <td>445.00</td>\n",
       "      <td>17.27</td>\n",
       "      <td>0.92</td>\n",
       "      <td>14.42</td>\n",
       "      <td>16.55</td>\n",
       "      <td>17.27</td>\n",
       "      <td>17.99</td>\n",
       "      <td>18.94</td>\n",
       "    </tr>\n",
       "    <tr>\n",
       "      <th>D3</th>\n",
       "      <td>399.00</td>\n",
       "      <td>17.96</td>\n",
       "      <td>1.20</td>\n",
       "      <td>6.00</td>\n",
       "      <td>16.99</td>\n",
       "      <td>18.25</td>\n",
       "      <td>18.99</td>\n",
       "      <td>19.92</td>\n",
       "    </tr>\n",
       "    <tr>\n",
       "      <th>D4</th>\n",
       "      <td>332.00</td>\n",
       "      <td>18.65</td>\n",
       "      <td>1.23</td>\n",
       "      <td>15.05</td>\n",
       "      <td>17.57</td>\n",
       "      <td>18.99</td>\n",
       "      <td>19.99</td>\n",
       "      <td>20.89</td>\n",
       "    </tr>\n",
       "    <tr>\n",
       "      <th>D5</th>\n",
       "      <td>309.00</td>\n",
       "      <td>19.28</td>\n",
       "      <td>1.56</td>\n",
       "      <td>15.37</td>\n",
       "      <td>17.86</td>\n",
       "      <td>19.22</td>\n",
       "      <td>20.31</td>\n",
       "      <td>22.35</td>\n",
       "    </tr>\n",
       "    <tr>\n",
       "      <th>E1</th>\n",
       "      <td>230.00</td>\n",
       "      <td>19.93</td>\n",
       "      <td>1.87</td>\n",
       "      <td>13.93</td>\n",
       "      <td>18.25</td>\n",
       "      <td>18.99</td>\n",
       "      <td>21.00</td>\n",
       "      <td>23.40</td>\n",
       "    </tr>\n",
       "    <tr>\n",
       "      <th>E2</th>\n",
       "      <td>205.00</td>\n",
       "      <td>20.53</td>\n",
       "      <td>1.98</td>\n",
       "      <td>16.00</td>\n",
       "      <td>18.84</td>\n",
       "      <td>19.52</td>\n",
       "      <td>21.15</td>\n",
       "      <td>24.37</td>\n",
       "    </tr>\n",
       "    <tr>\n",
       "      <th>E3</th>\n",
       "      <td>165.00</td>\n",
       "      <td>21.08</td>\n",
       "      <td>2.02</td>\n",
       "      <td>17.19</td>\n",
       "      <td>19.42</td>\n",
       "      <td>20.20</td>\n",
       "      <td>21.60</td>\n",
       "      <td>24.85</td>\n",
       "    </tr>\n",
       "    <tr>\n",
       "      <th>E4</th>\n",
       "      <td>152.00</td>\n",
       "      <td>21.91</td>\n",
       "      <td>1.97</td>\n",
       "      <td>17.51</td>\n",
       "      <td>20.49</td>\n",
       "      <td>21.73</td>\n",
       "      <td>22.90</td>\n",
       "      <td>26.31</td>\n",
       "    </tr>\n",
       "    <tr>\n",
       "      <th>E5</th>\n",
       "      <td>143.00</td>\n",
       "      <td>22.98</td>\n",
       "      <td>2.11</td>\n",
       "      <td>17.88</td>\n",
       "      <td>21.67</td>\n",
       "      <td>22.15</td>\n",
       "      <td>25.29</td>\n",
       "      <td>27.27</td>\n",
       "    </tr>\n",
       "    <tr>\n",
       "      <th>F1</th>\n",
       "      <td>98.00</td>\n",
       "      <td>23.92</td>\n",
       "      <td>2.53</td>\n",
       "      <td>18.30</td>\n",
       "      <td>22.45</td>\n",
       "      <td>23.13</td>\n",
       "      <td>23.70</td>\n",
       "      <td>28.72</td>\n",
       "    </tr>\n",
       "    <tr>\n",
       "      <th>F2</th>\n",
       "      <td>55.00</td>\n",
       "      <td>24.38</td>\n",
       "      <td>1.92</td>\n",
       "      <td>20.62</td>\n",
       "      <td>23.28</td>\n",
       "      <td>24.08</td>\n",
       "      <td>24.11</td>\n",
       "      <td>29.69</td>\n",
       "    </tr>\n",
       "    <tr>\n",
       "      <th>F3</th>\n",
       "      <td>67.00</td>\n",
       "      <td>25.64</td>\n",
       "      <td>2.37</td>\n",
       "      <td>20.99</td>\n",
       "      <td>24.50</td>\n",
       "      <td>24.50</td>\n",
       "      <td>26.32</td>\n",
       "      <td>30.17</td>\n",
       "    </tr>\n",
       "    <tr>\n",
       "      <th>F4</th>\n",
       "      <td>45.00</td>\n",
       "      <td>25.20</td>\n",
       "      <td>1.76</td>\n",
       "      <td>19.41</td>\n",
       "      <td>24.99</td>\n",
       "      <td>24.99</td>\n",
       "      <td>25.88</td>\n",
       "      <td>30.49</td>\n",
       "    </tr>\n",
       "    <tr>\n",
       "      <th>F5</th>\n",
       "      <td>45.00</td>\n",
       "      <td>26.20</td>\n",
       "      <td>1.73</td>\n",
       "      <td>23.83</td>\n",
       "      <td>25.57</td>\n",
       "      <td>25.57</td>\n",
       "      <td>26.06</td>\n",
       "      <td>30.75</td>\n",
       "    </tr>\n",
       "    <tr>\n",
       "      <th>G1</th>\n",
       "      <td>30.00</td>\n",
       "      <td>27.90</td>\n",
       "      <td>2.34</td>\n",
       "      <td>24.70</td>\n",
       "      <td>25.80</td>\n",
       "      <td>26.77</td>\n",
       "      <td>30.79</td>\n",
       "      <td>30.79</td>\n",
       "    </tr>\n",
       "    <tr>\n",
       "      <th>G2</th>\n",
       "      <td>19.00</td>\n",
       "      <td>28.06</td>\n",
       "      <td>3.19</td>\n",
       "      <td>20.53</td>\n",
       "      <td>25.83</td>\n",
       "      <td>28.88</td>\n",
       "      <td>30.84</td>\n",
       "      <td>30.84</td>\n",
       "    </tr>\n",
       "    <tr>\n",
       "      <th>G3</th>\n",
       "      <td>15.00</td>\n",
       "      <td>27.14</td>\n",
       "      <td>1.71</td>\n",
       "      <td>24.89</td>\n",
       "      <td>25.89</td>\n",
       "      <td>25.89</td>\n",
       "      <td>28.16</td>\n",
       "      <td>30.89</td>\n",
       "    </tr>\n",
       "    <tr>\n",
       "      <th>G4</th>\n",
       "      <td>5.00</td>\n",
       "      <td>28.51</td>\n",
       "      <td>2.48</td>\n",
       "      <td>25.99</td>\n",
       "      <td>25.99</td>\n",
       "      <td>28.67</td>\n",
       "      <td>30.94</td>\n",
       "      <td>30.94</td>\n",
       "    </tr>\n",
       "    <tr>\n",
       "      <th>G5</th>\n",
       "      <td>19.00</td>\n",
       "      <td>28.69</td>\n",
       "      <td>2.34</td>\n",
       "      <td>24.89</td>\n",
       "      <td>26.06</td>\n",
       "      <td>28.99</td>\n",
       "      <td>30.99</td>\n",
       "      <td>30.99</td>\n",
       "    </tr>\n",
       "  </tbody>\n",
       "</table>\n",
       "</div>"
      ],
      "text/plain": [
       "           count  mean  std   min   25%   50%   75%   max\n",
       "sub_grade                                                \n",
       "A1        426.00  5.54 0.34  5.31  5.32  5.32  6.00  7.37\n",
       "A2        360.00  6.53 0.31  5.79  6.24  6.49  6.62  7.68\n",
       "A3        395.00  7.16 0.33  6.17  6.89  7.12  7.51  8.00\n",
       "A4        499.00  7.51 0.36  6.54  7.26  7.39  7.69  9.32\n",
       "A5        629.00  8.21 0.42  6.91  7.89  7.97  8.46  9.63\n",
       "B1        704.00  8.96 0.69  8.18  8.24  8.99  9.44 11.14\n",
       "B2        770.00  9.91 0.74  9.16  9.17  9.92 10.49 11.26\n",
       "B3        835.00 10.76 0.87  9.62  9.99 10.49 11.55 12.12\n",
       "B4        877.00 11.48 0.82  6.00 10.91 10.99 11.67 13.11\n",
       "B5        797.00 12.06 0.80 10.36 11.49 11.53 12.49 14.09\n",
       "C1        885.00 12.75 0.71 11.78 12.29 12.62 12.99 14.33\n",
       "C2        816.00 13.43 0.81  6.00 12.69 13.35 13.59 15.31\n",
       "C3        774.00 14.01 0.78  6.00 13.33 13.98 14.08 15.80\n",
       "C4        752.00 14.76 0.76 13.35 13.99 14.49 15.05 16.29\n",
       "C5        680.00 15.54 0.79 13.72 14.85 15.59 16.02 17.27\n",
       "D1        562.00 16.38 0.89 12.61 15.61 16.29 16.99 17.97\n",
       "D2        445.00 17.27 0.92 14.42 16.55 17.27 17.99 18.94\n",
       "D3        399.00 17.96 1.20  6.00 16.99 18.25 18.99 19.92\n",
       "D4        332.00 18.65 1.23 15.05 17.57 18.99 19.99 20.89\n",
       "D5        309.00 19.28 1.56 15.37 17.86 19.22 20.31 22.35\n",
       "E1        230.00 19.93 1.87 13.93 18.25 18.99 21.00 23.40\n",
       "E2        205.00 20.53 1.98 16.00 18.84 19.52 21.15 24.37\n",
       "E3        165.00 21.08 2.02 17.19 19.42 20.20 21.60 24.85\n",
       "E4        152.00 21.91 1.97 17.51 20.49 21.73 22.90 26.31\n",
       "E5        143.00 22.98 2.11 17.88 21.67 22.15 25.29 27.27\n",
       "F1         98.00 23.92 2.53 18.30 22.45 23.13 23.70 28.72\n",
       "F2         55.00 24.38 1.92 20.62 23.28 24.08 24.11 29.69\n",
       "F3         67.00 25.64 2.37 20.99 24.50 24.50 26.32 30.17\n",
       "F4         45.00 25.20 1.76 19.41 24.99 24.99 25.88 30.49\n",
       "F5         45.00 26.20 1.73 23.83 25.57 25.57 26.06 30.75\n",
       "G1         30.00 27.90 2.34 24.70 25.80 26.77 30.79 30.79\n",
       "G2         19.00 28.06 3.19 20.53 25.83 28.88 30.84 30.84\n",
       "G3         15.00 27.14 1.71 24.89 25.89 25.89 28.16 30.89\n",
       "G4          5.00 28.51 2.48 25.99 25.99 28.67 30.94 30.94\n",
       "G5         19.00 28.69 2.34 24.89 26.06 28.99 30.99 30.99"
      ]
     },
     "execution_count": 71,
     "metadata": {},
     "output_type": "execute_result"
    }
   ],
   "source": [
    "loans.groupby('sub_grade')['int_rate'].describe()"
   ]
  },
  {
   "cell_type": "code",
   "execution_count": null,
   "metadata": {},
   "outputs": [],
   "source": []
  },
  {
   "cell_type": "markdown",
   "metadata": {},
   "source": [
    "#### Installment"
   ]
  },
  {
   "cell_type": "code",
   "execution_count": 72,
   "metadata": {},
   "outputs": [
    {
     "data": {
      "text/plain": [
       "count   13,539.00\n",
       "mean       438.33\n",
       "std        262.43\n",
       "min         30.44\n",
       "25%        249.55\n",
       "50%        375.88\n",
       "75%        581.00\n",
       "max      1,504.85\n",
       "Name: installment, dtype: float64"
      ]
     },
     "execution_count": 72,
     "metadata": {},
     "output_type": "execute_result"
    }
   ],
   "source": [
    "loans['installment'].describe()"
   ]
  },
  {
   "cell_type": "code",
   "execution_count": 73,
   "metadata": {},
   "outputs": [
    {
     "data": {
      "text/html": [
       "<div>\n",
       "<style scoped>\n",
       "    .dataframe tbody tr th:only-of-type {\n",
       "        vertical-align: middle;\n",
       "    }\n",
       "\n",
       "    .dataframe tbody tr th {\n",
       "        vertical-align: top;\n",
       "    }\n",
       "\n",
       "    .dataframe thead th {\n",
       "        text-align: right;\n",
       "    }\n",
       "</style>\n",
       "<table border=\"1\" class=\"dataframe\">\n",
       "  <thead>\n",
       "    <tr style=\"text-align: right;\">\n",
       "      <th></th>\n",
       "      <th>count</th>\n",
       "      <th>mean</th>\n",
       "      <th>std</th>\n",
       "      <th>min</th>\n",
       "      <th>25%</th>\n",
       "      <th>50%</th>\n",
       "      <th>75%</th>\n",
       "      <th>max</th>\n",
       "    </tr>\n",
       "    <tr>\n",
       "      <th>loan_status</th>\n",
       "      <th></th>\n",
       "      <th></th>\n",
       "      <th></th>\n",
       "      <th></th>\n",
       "      <th></th>\n",
       "      <th></th>\n",
       "      <th></th>\n",
       "      <th></th>\n",
       "    </tr>\n",
       "  </thead>\n",
       "  <tbody>\n",
       "    <tr>\n",
       "      <th>Charged Off</th>\n",
       "      <td>2,686.00</td>\n",
       "      <td>464.49</td>\n",
       "      <td>261.25</td>\n",
       "      <td>31.88</td>\n",
       "      <td>277.21</td>\n",
       "      <td>402.94</td>\n",
       "      <td>606.51</td>\n",
       "      <td>1,501.96</td>\n",
       "    </tr>\n",
       "    <tr>\n",
       "      <th>Fully Paid</th>\n",
       "      <td>10,853.00</td>\n",
       "      <td>431.86</td>\n",
       "      <td>262.33</td>\n",
       "      <td>30.44</td>\n",
       "      <td>242.35</td>\n",
       "      <td>368.45</td>\n",
       "      <td>573.83</td>\n",
       "      <td>1,504.85</td>\n",
       "    </tr>\n",
       "  </tbody>\n",
       "</table>\n",
       "</div>"
      ],
      "text/plain": [
       "                count   mean    std   min    25%    50%    75%      max\n",
       "loan_status                                                            \n",
       "Charged Off  2,686.00 464.49 261.25 31.88 277.21 402.94 606.51 1,501.96\n",
       "Fully Paid  10,853.00 431.86 262.33 30.44 242.35 368.45 573.83 1,504.85"
      ]
     },
     "execution_count": 73,
     "metadata": {},
     "output_type": "execute_result"
    }
   ],
   "source": [
    "loans.groupby('loan_status')['installment'].describe()"
   ]
  },
  {
   "cell_type": "code",
   "execution_count": null,
   "metadata": {},
   "outputs": [],
   "source": []
  },
  {
   "cell_type": "markdown",
   "metadata": {},
   "source": [
    "#### Annual Income"
   ]
  },
  {
   "cell_type": "code",
   "execution_count": 74,
   "metadata": {},
   "outputs": [
    {
     "data": {
      "text/plain": [
       "count      13,539.00\n",
       "mean       75,564.65\n",
       "std        51,293.26\n",
       "min             0.00\n",
       "25%        45,998.00\n",
       "50%        65,000.00\n",
       "75%        90,000.00\n",
       "max     1,300,000.00\n",
       "Name: annual_inc, dtype: float64"
      ]
     },
     "execution_count": 74,
     "metadata": {},
     "output_type": "execute_result"
    }
   ],
   "source": [
    "loans['annual_inc'].describe()"
   ]
  },
  {
   "cell_type": "code",
   "execution_count": 75,
   "metadata": {},
   "outputs": [],
   "source": [
    "loans['log_annual_inc'] = loans['annual_inc'].apply(lambda x: np.log10(x+1))"
   ]
  },
  {
   "cell_type": "code",
   "execution_count": 76,
   "metadata": {},
   "outputs": [],
   "source": [
    "loans.drop('annual_inc', axis=1, inplace=True)"
   ]
  },
  {
   "cell_type": "code",
   "execution_count": 77,
   "metadata": {},
   "outputs": [
    {
     "data": {
      "text/plain": [
       "count   13,539.00\n",
       "mean         4.81\n",
       "std          0.25\n",
       "min          0.00\n",
       "25%          4.66\n",
       "50%          4.81\n",
       "75%          4.95\n",
       "max          6.11\n",
       "Name: log_annual_inc, dtype: float64"
      ]
     },
     "execution_count": 77,
     "metadata": {},
     "output_type": "execute_result"
    }
   ],
   "source": [
    "loans['log_annual_inc'].describe()"
   ]
  },
  {
   "cell_type": "code",
   "execution_count": 78,
   "metadata": {},
   "outputs": [
    {
     "data": {
      "text/html": [
       "<div>\n",
       "<style scoped>\n",
       "    .dataframe tbody tr th:only-of-type {\n",
       "        vertical-align: middle;\n",
       "    }\n",
       "\n",
       "    .dataframe tbody tr th {\n",
       "        vertical-align: top;\n",
       "    }\n",
       "\n",
       "    .dataframe thead th {\n",
       "        text-align: right;\n",
       "    }\n",
       "</style>\n",
       "<table border=\"1\" class=\"dataframe\">\n",
       "  <thead>\n",
       "    <tr style=\"text-align: right;\">\n",
       "      <th></th>\n",
       "      <th>count</th>\n",
       "      <th>mean</th>\n",
       "      <th>std</th>\n",
       "      <th>min</th>\n",
       "      <th>25%</th>\n",
       "      <th>50%</th>\n",
       "      <th>75%</th>\n",
       "      <th>max</th>\n",
       "    </tr>\n",
       "    <tr>\n",
       "      <th>loan_status</th>\n",
       "      <th></th>\n",
       "      <th></th>\n",
       "      <th></th>\n",
       "      <th></th>\n",
       "      <th></th>\n",
       "      <th></th>\n",
       "      <th></th>\n",
       "      <th></th>\n",
       "    </tr>\n",
       "  </thead>\n",
       "  <tbody>\n",
       "    <tr>\n",
       "      <th>Charged Off</th>\n",
       "      <td>2,686.00</td>\n",
       "      <td>4.79</td>\n",
       "      <td>0.23</td>\n",
       "      <td>3.82</td>\n",
       "      <td>4.64</td>\n",
       "      <td>4.78</td>\n",
       "      <td>4.93</td>\n",
       "      <td>5.92</td>\n",
       "    </tr>\n",
       "    <tr>\n",
       "      <th>Fully Paid</th>\n",
       "      <td>10,853.00</td>\n",
       "      <td>4.82</td>\n",
       "      <td>0.25</td>\n",
       "      <td>0.00</td>\n",
       "      <td>4.67</td>\n",
       "      <td>4.81</td>\n",
       "      <td>4.97</td>\n",
       "      <td>6.11</td>\n",
       "    </tr>\n",
       "  </tbody>\n",
       "</table>\n",
       "</div>"
      ],
      "text/plain": [
       "                count  mean  std  min  25%  50%  75%  max\n",
       "loan_status                                              \n",
       "Charged Off  2,686.00  4.79 0.23 3.82 4.64 4.78 4.93 5.92\n",
       "Fully Paid  10,853.00  4.82 0.25 0.00 4.67 4.81 4.97 6.11"
      ]
     },
     "execution_count": 78,
     "metadata": {},
     "output_type": "execute_result"
    }
   ],
   "source": [
    "loans.groupby('loan_status')['log_annual_inc'].describe()"
   ]
  },
  {
   "cell_type": "code",
   "execution_count": null,
   "metadata": {},
   "outputs": [],
   "source": []
  },
  {
   "cell_type": "markdown",
   "metadata": {},
   "source": [
    "#### Debt to Income ratio"
   ]
  },
  {
   "cell_type": "code",
   "execution_count": 79,
   "metadata": {},
   "outputs": [
    {
     "data": {
      "text/plain": [
       "count   13,535.00\n",
       "mean        18.29\n",
       "std         10.26\n",
       "min          0.00\n",
       "25%         11.74\n",
       "50%         17.53\n",
       "75%         24.13\n",
       "max        369.37\n",
       "Name: dti, dtype: float64"
      ]
     },
     "execution_count": 79,
     "metadata": {},
     "output_type": "execute_result"
    }
   ],
   "source": [
    "loans['dti'].describe()"
   ]
  },
  {
   "cell_type": "code",
   "execution_count": 80,
   "metadata": {},
   "outputs": [
    {
     "data": {
      "text/html": [
       "<div>\n",
       "<style scoped>\n",
       "    .dataframe tbody tr th:only-of-type {\n",
       "        vertical-align: middle;\n",
       "    }\n",
       "\n",
       "    .dataframe tbody tr th {\n",
       "        vertical-align: top;\n",
       "    }\n",
       "\n",
       "    .dataframe thead th {\n",
       "        text-align: right;\n",
       "    }\n",
       "</style>\n",
       "<table border=\"1\" class=\"dataframe\">\n",
       "  <thead>\n",
       "    <tr style=\"text-align: right;\">\n",
       "      <th></th>\n",
       "      <th>count</th>\n",
       "      <th>mean</th>\n",
       "      <th>std</th>\n",
       "      <th>min</th>\n",
       "      <th>25%</th>\n",
       "      <th>50%</th>\n",
       "      <th>75%</th>\n",
       "      <th>max</th>\n",
       "    </tr>\n",
       "    <tr>\n",
       "      <th>loan_status</th>\n",
       "      <th></th>\n",
       "      <th></th>\n",
       "      <th></th>\n",
       "      <th></th>\n",
       "      <th></th>\n",
       "      <th></th>\n",
       "      <th></th>\n",
       "      <th></th>\n",
       "    </tr>\n",
       "  </thead>\n",
       "  <tbody>\n",
       "    <tr>\n",
       "      <th>Charged Off</th>\n",
       "      <td>2,686.00</td>\n",
       "      <td>19.94</td>\n",
       "      <td>9.26</td>\n",
       "      <td>0.00</td>\n",
       "      <td>13.46</td>\n",
       "      <td>19.55</td>\n",
       "      <td>26.10</td>\n",
       "      <td>121.95</td>\n",
       "    </tr>\n",
       "    <tr>\n",
       "      <th>Fully Paid</th>\n",
       "      <td>10,849.00</td>\n",
       "      <td>17.88</td>\n",
       "      <td>10.45</td>\n",
       "      <td>0.00</td>\n",
       "      <td>11.38</td>\n",
       "      <td>17.00</td>\n",
       "      <td>23.65</td>\n",
       "      <td>369.37</td>\n",
       "    </tr>\n",
       "  </tbody>\n",
       "</table>\n",
       "</div>"
      ],
      "text/plain": [
       "                count  mean   std  min   25%   50%   75%    max\n",
       "loan_status                                                    \n",
       "Charged Off  2,686.00 19.94  9.26 0.00 13.46 19.55 26.10 121.95\n",
       "Fully Paid  10,849.00 17.88 10.45 0.00 11.38 17.00 23.65 369.37"
      ]
     },
     "execution_count": 80,
     "metadata": {},
     "output_type": "execute_result"
    }
   ],
   "source": [
    "loans.groupby('loan_status')['dti'].describe()"
   ]
  },
  {
   "cell_type": "code",
   "execution_count": null,
   "metadata": {},
   "outputs": [],
   "source": []
  },
  {
   "cell_type": "markdown",
   "metadata": {},
   "source": [
    "#### FICO range"
   ]
  },
  {
   "cell_type": "code",
   "execution_count": 81,
   "metadata": {},
   "outputs": [
    {
     "data": {
      "text/html": [
       "<div>\n",
       "<style scoped>\n",
       "    .dataframe tbody tr th:only-of-type {\n",
       "        vertical-align: middle;\n",
       "    }\n",
       "\n",
       "    .dataframe tbody tr th {\n",
       "        vertical-align: top;\n",
       "    }\n",
       "\n",
       "    .dataframe thead th {\n",
       "        text-align: right;\n",
       "    }\n",
       "</style>\n",
       "<table border=\"1\" class=\"dataframe\">\n",
       "  <thead>\n",
       "    <tr style=\"text-align: right;\">\n",
       "      <th></th>\n",
       "      <th>fico_range_low</th>\n",
       "      <th>fico_range_high</th>\n",
       "    </tr>\n",
       "  </thead>\n",
       "  <tbody>\n",
       "    <tr>\n",
       "      <th>count</th>\n",
       "      <td>13,539.00</td>\n",
       "      <td>13,539.00</td>\n",
       "    </tr>\n",
       "    <tr>\n",
       "      <th>mean</th>\n",
       "      <td>695.88</td>\n",
       "      <td>699.88</td>\n",
       "    </tr>\n",
       "    <tr>\n",
       "      <th>std</th>\n",
       "      <td>31.48</td>\n",
       "      <td>31.48</td>\n",
       "    </tr>\n",
       "    <tr>\n",
       "      <th>min</th>\n",
       "      <td>660.00</td>\n",
       "      <td>664.00</td>\n",
       "    </tr>\n",
       "    <tr>\n",
       "      <th>25%</th>\n",
       "      <td>670.00</td>\n",
       "      <td>674.00</td>\n",
       "    </tr>\n",
       "    <tr>\n",
       "      <th>50%</th>\n",
       "      <td>690.00</td>\n",
       "      <td>694.00</td>\n",
       "    </tr>\n",
       "    <tr>\n",
       "      <th>75%</th>\n",
       "      <td>710.00</td>\n",
       "      <td>714.00</td>\n",
       "    </tr>\n",
       "    <tr>\n",
       "      <th>max</th>\n",
       "      <td>845.00</td>\n",
       "      <td>850.00</td>\n",
       "    </tr>\n",
       "  </tbody>\n",
       "</table>\n",
       "</div>"
      ],
      "text/plain": [
       "       fico_range_low  fico_range_high\n",
       "count       13,539.00        13,539.00\n",
       "mean           695.88           699.88\n",
       "std             31.48            31.48\n",
       "min            660.00           664.00\n",
       "25%            670.00           674.00\n",
       "50%            690.00           694.00\n",
       "75%            710.00           714.00\n",
       "max            845.00           850.00"
      ]
     },
     "execution_count": 81,
     "metadata": {},
     "output_type": "execute_result"
    }
   ],
   "source": [
    "loans[['fico_range_low', 'fico_range_high']].describe()"
   ]
  },
  {
   "cell_type": "code",
   "execution_count": 82,
   "metadata": {},
   "outputs": [
    {
     "data": {
      "text/html": [
       "<div>\n",
       "<style scoped>\n",
       "    .dataframe tbody tr th:only-of-type {\n",
       "        vertical-align: middle;\n",
       "    }\n",
       "\n",
       "    .dataframe tbody tr th {\n",
       "        vertical-align: top;\n",
       "    }\n",
       "\n",
       "    .dataframe thead th {\n",
       "        text-align: right;\n",
       "    }\n",
       "</style>\n",
       "<table border=\"1\" class=\"dataframe\">\n",
       "  <thead>\n",
       "    <tr style=\"text-align: right;\">\n",
       "      <th></th>\n",
       "      <th>fico_range_low</th>\n",
       "      <th>fico_range_high</th>\n",
       "    </tr>\n",
       "  </thead>\n",
       "  <tbody>\n",
       "    <tr>\n",
       "      <th>fico_range_low</th>\n",
       "      <td>1.00</td>\n",
       "      <td>1.00</td>\n",
       "    </tr>\n",
       "    <tr>\n",
       "      <th>fico_range_high</th>\n",
       "      <td>1.00</td>\n",
       "      <td>1.00</td>\n",
       "    </tr>\n",
       "  </tbody>\n",
       "</table>\n",
       "</div>"
      ],
      "text/plain": [
       "                 fico_range_low  fico_range_high\n",
       "fico_range_low             1.00             1.00\n",
       "fico_range_high            1.00             1.00"
      ]
     },
     "execution_count": 82,
     "metadata": {},
     "output_type": "execute_result"
    }
   ],
   "source": [
    "loans[['fico_range_low','fico_range_high']].corr() #Calculating correlation"
   ]
  },
  {
   "cell_type": "code",
   "execution_count": 83,
   "metadata": {},
   "outputs": [],
   "source": [
    "loans['fico_score'] = 0.5*loans['fico_range_low'] + 0.5*loans['fico_range_high']"
   ]
  },
  {
   "cell_type": "code",
   "execution_count": 84,
   "metadata": {},
   "outputs": [],
   "source": [
    "loans.drop(['fico_range_high', 'fico_range_low'], axis=1, inplace=True)"
   ]
  },
  {
   "cell_type": "code",
   "execution_count": 85,
   "metadata": {},
   "outputs": [
    {
     "data": {
      "text/html": [
       "<div>\n",
       "<style scoped>\n",
       "    .dataframe tbody tr th:only-of-type {\n",
       "        vertical-align: middle;\n",
       "    }\n",
       "\n",
       "    .dataframe tbody tr th {\n",
       "        vertical-align: top;\n",
       "    }\n",
       "\n",
       "    .dataframe thead th {\n",
       "        text-align: right;\n",
       "    }\n",
       "</style>\n",
       "<table border=\"1\" class=\"dataframe\">\n",
       "  <thead>\n",
       "    <tr style=\"text-align: right;\">\n",
       "      <th></th>\n",
       "      <th>count</th>\n",
       "      <th>mean</th>\n",
       "      <th>std</th>\n",
       "      <th>min</th>\n",
       "      <th>25%</th>\n",
       "      <th>50%</th>\n",
       "      <th>75%</th>\n",
       "      <th>max</th>\n",
       "    </tr>\n",
       "    <tr>\n",
       "      <th>loan_status</th>\n",
       "      <th></th>\n",
       "      <th></th>\n",
       "      <th></th>\n",
       "      <th></th>\n",
       "      <th></th>\n",
       "      <th></th>\n",
       "      <th></th>\n",
       "      <th></th>\n",
       "    </tr>\n",
       "  </thead>\n",
       "  <tbody>\n",
       "    <tr>\n",
       "      <th>Charged Off</th>\n",
       "      <td>2,686.00</td>\n",
       "      <td>690.39</td>\n",
       "      <td>26.62</td>\n",
       "      <td>662.00</td>\n",
       "      <td>672.00</td>\n",
       "      <td>682.00</td>\n",
       "      <td>702.00</td>\n",
       "      <td>842.00</td>\n",
       "    </tr>\n",
       "    <tr>\n",
       "      <th>Fully Paid</th>\n",
       "      <td>10,853.00</td>\n",
       "      <td>699.74</td>\n",
       "      <td>32.31</td>\n",
       "      <td>662.00</td>\n",
       "      <td>677.00</td>\n",
       "      <td>692.00</td>\n",
       "      <td>717.00</td>\n",
       "      <td>847.50</td>\n",
       "    </tr>\n",
       "  </tbody>\n",
       "</table>\n",
       "</div>"
      ],
      "text/plain": [
       "                count   mean   std    min    25%    50%    75%    max\n",
       "loan_status                                                          \n",
       "Charged Off  2,686.00 690.39 26.62 662.00 672.00 682.00 702.00 842.00\n",
       "Fully Paid  10,853.00 699.74 32.31 662.00 677.00 692.00 717.00 847.50"
      ]
     },
     "execution_count": 85,
     "metadata": {},
     "output_type": "execute_result"
    }
   ],
   "source": [
    "loans.groupby('loan_status')['fico_score'].describe()"
   ]
  },
  {
   "cell_type": "code",
   "execution_count": null,
   "metadata": {},
   "outputs": [],
   "source": []
  },
  {
   "cell_type": "markdown",
   "metadata": {},
   "source": [
    "#### Open credit lines and Total accounts"
   ]
  },
  {
   "cell_type": "code",
   "execution_count": 86,
   "metadata": {},
   "outputs": [
    {
     "data": {
      "text/html": [
       "<div>\n",
       "<style scoped>\n",
       "    .dataframe tbody tr th:only-of-type {\n",
       "        vertical-align: middle;\n",
       "    }\n",
       "\n",
       "    .dataframe tbody tr th {\n",
       "        vertical-align: top;\n",
       "    }\n",
       "\n",
       "    .dataframe thead th {\n",
       "        text-align: right;\n",
       "    }\n",
       "</style>\n",
       "<table border=\"1\" class=\"dataframe\">\n",
       "  <thead>\n",
       "    <tr style=\"text-align: right;\">\n",
       "      <th></th>\n",
       "      <th>open_acc</th>\n",
       "      <th>total_acc</th>\n",
       "    </tr>\n",
       "  </thead>\n",
       "  <tbody>\n",
       "    <tr>\n",
       "      <th>open_acc</th>\n",
       "      <td>1.00</td>\n",
       "      <td>0.71</td>\n",
       "    </tr>\n",
       "    <tr>\n",
       "      <th>total_acc</th>\n",
       "      <td>0.71</td>\n",
       "      <td>1.00</td>\n",
       "    </tr>\n",
       "  </tbody>\n",
       "</table>\n",
       "</div>"
      ],
      "text/plain": [
       "           open_acc  total_acc\n",
       "open_acc       1.00       0.71\n",
       "total_acc      0.71       1.00"
      ]
     },
     "execution_count": 86,
     "metadata": {},
     "output_type": "execute_result"
    }
   ],
   "source": [
    "loans[['open_acc','total_acc']].corr()"
   ]
  },
  {
   "cell_type": "code",
   "execution_count": 87,
   "metadata": {},
   "outputs": [
    {
     "data": {
      "text/html": [
       "<div>\n",
       "<style scoped>\n",
       "    .dataframe tbody tr th:only-of-type {\n",
       "        vertical-align: middle;\n",
       "    }\n",
       "\n",
       "    .dataframe tbody tr th {\n",
       "        vertical-align: top;\n",
       "    }\n",
       "\n",
       "    .dataframe thead th {\n",
       "        text-align: right;\n",
       "    }\n",
       "</style>\n",
       "<table border=\"1\" class=\"dataframe\">\n",
       "  <thead>\n",
       "    <tr style=\"text-align: right;\">\n",
       "      <th></th>\n",
       "      <th>count</th>\n",
       "      <th>mean</th>\n",
       "      <th>std</th>\n",
       "      <th>min</th>\n",
       "      <th>25%</th>\n",
       "      <th>50%</th>\n",
       "      <th>75%</th>\n",
       "      <th>max</th>\n",
       "    </tr>\n",
       "    <tr>\n",
       "      <th>loan_status</th>\n",
       "      <th></th>\n",
       "      <th></th>\n",
       "      <th></th>\n",
       "      <th></th>\n",
       "      <th></th>\n",
       "      <th></th>\n",
       "      <th></th>\n",
       "      <th></th>\n",
       "    </tr>\n",
       "  </thead>\n",
       "  <tbody>\n",
       "    <tr>\n",
       "      <th>Charged Off</th>\n",
       "      <td>2,686.00</td>\n",
       "      <td>11.99</td>\n",
       "      <td>5.67</td>\n",
       "      <td>1.00</td>\n",
       "      <td>8.00</td>\n",
       "      <td>11.00</td>\n",
       "      <td>15.00</td>\n",
       "      <td>52.00</td>\n",
       "    </tr>\n",
       "    <tr>\n",
       "      <th>Fully Paid</th>\n",
       "      <td>10,853.00</td>\n",
       "      <td>11.45</td>\n",
       "      <td>5.44</td>\n",
       "      <td>1.00</td>\n",
       "      <td>8.00</td>\n",
       "      <td>10.00</td>\n",
       "      <td>14.00</td>\n",
       "      <td>65.00</td>\n",
       "    </tr>\n",
       "  </tbody>\n",
       "</table>\n",
       "</div>"
      ],
      "text/plain": [
       "                count  mean  std  min  25%   50%   75%   max\n",
       "loan_status                                                 \n",
       "Charged Off  2,686.00 11.99 5.67 1.00 8.00 11.00 15.00 52.00\n",
       "Fully Paid  10,853.00 11.45 5.44 1.00 8.00 10.00 14.00 65.00"
      ]
     },
     "execution_count": 87,
     "metadata": {},
     "output_type": "execute_result"
    }
   ],
   "source": [
    "loans.groupby('loan_status')['open_acc'].describe()"
   ]
  },
  {
   "cell_type": "code",
   "execution_count": 88,
   "metadata": {},
   "outputs": [],
   "source": [
    "loans['acc_ratio'] = loans['open_acc'] / loans['total_acc']"
   ]
  },
  {
   "cell_type": "code",
   "execution_count": 89,
   "metadata": {},
   "outputs": [],
   "source": [
    "loans.drop(['total_acc','open_acc'], axis=1, inplace=True)"
   ]
  },
  {
   "cell_type": "markdown",
   "metadata": {},
   "source": [
    "#### Public records and Public records brankrupticies"
   ]
  },
  {
   "cell_type": "code",
   "execution_count": null,
   "metadata": {},
   "outputs": [],
   "source": []
  },
  {
   "cell_type": "code",
   "execution_count": 90,
   "metadata": {},
   "outputs": [
    {
     "data": {
      "text/html": [
       "<div>\n",
       "<style scoped>\n",
       "    .dataframe tbody tr th:only-of-type {\n",
       "        vertical-align: middle;\n",
       "    }\n",
       "\n",
       "    .dataframe tbody tr th {\n",
       "        vertical-align: top;\n",
       "    }\n",
       "\n",
       "    .dataframe thead th {\n",
       "        text-align: right;\n",
       "    }\n",
       "</style>\n",
       "<table border=\"1\" class=\"dataframe\">\n",
       "  <thead>\n",
       "    <tr style=\"text-align: right;\">\n",
       "      <th></th>\n",
       "      <th>pub_rec</th>\n",
       "      <th>pub_rec_bankruptcies</th>\n",
       "    </tr>\n",
       "  </thead>\n",
       "  <tbody>\n",
       "    <tr>\n",
       "      <th>pub_rec</th>\n",
       "      <td>1.00</td>\n",
       "      <td>0.67</td>\n",
       "    </tr>\n",
       "    <tr>\n",
       "      <th>pub_rec_bankruptcies</th>\n",
       "      <td>0.67</td>\n",
       "      <td>1.00</td>\n",
       "    </tr>\n",
       "  </tbody>\n",
       "</table>\n",
       "</div>"
      ],
      "text/plain": [
       "                      pub_rec  pub_rec_bankruptcies\n",
       "pub_rec                  1.00                  0.67\n",
       "pub_rec_bankruptcies     0.67                  1.00"
      ]
     },
     "execution_count": 90,
     "metadata": {},
     "output_type": "execute_result"
    }
   ],
   "source": [
    "loans[['pub_rec','pub_rec_bankruptcies']].corr()"
   ]
  },
  {
   "cell_type": "code",
   "execution_count": 91,
   "metadata": {},
   "outputs": [
    {
     "data": {
      "text/html": [
       "<div>\n",
       "<style scoped>\n",
       "    .dataframe tbody tr th:only-of-type {\n",
       "        vertical-align: middle;\n",
       "    }\n",
       "\n",
       "    .dataframe tbody tr th {\n",
       "        vertical-align: top;\n",
       "    }\n",
       "\n",
       "    .dataframe thead th {\n",
       "        text-align: right;\n",
       "    }\n",
       "</style>\n",
       "<table border=\"1\" class=\"dataframe\">\n",
       "  <thead>\n",
       "    <tr style=\"text-align: right;\">\n",
       "      <th></th>\n",
       "      <th>count</th>\n",
       "      <th>mean</th>\n",
       "      <th>std</th>\n",
       "      <th>min</th>\n",
       "      <th>25%</th>\n",
       "      <th>50%</th>\n",
       "      <th>75%</th>\n",
       "      <th>max</th>\n",
       "    </tr>\n",
       "    <tr>\n",
       "      <th>loan_status</th>\n",
       "      <th></th>\n",
       "      <th></th>\n",
       "      <th></th>\n",
       "      <th></th>\n",
       "      <th></th>\n",
       "      <th></th>\n",
       "      <th></th>\n",
       "      <th></th>\n",
       "    </tr>\n",
       "  </thead>\n",
       "  <tbody>\n",
       "    <tr>\n",
       "      <th>Charged Off</th>\n",
       "      <td>2,686.00</td>\n",
       "      <td>0.23</td>\n",
       "      <td>0.59</td>\n",
       "      <td>0.00</td>\n",
       "      <td>0.00</td>\n",
       "      <td>0.00</td>\n",
       "      <td>0.00</td>\n",
       "      <td>10.00</td>\n",
       "    </tr>\n",
       "    <tr>\n",
       "      <th>Fully Paid</th>\n",
       "      <td>10,853.00</td>\n",
       "      <td>0.20</td>\n",
       "      <td>0.55</td>\n",
       "      <td>0.00</td>\n",
       "      <td>0.00</td>\n",
       "      <td>0.00</td>\n",
       "      <td>0.00</td>\n",
       "      <td>11.00</td>\n",
       "    </tr>\n",
       "  </tbody>\n",
       "</table>\n",
       "</div>"
      ],
      "text/plain": [
       "                count  mean  std  min  25%  50%  75%   max\n",
       "loan_status                                               \n",
       "Charged Off  2,686.00  0.23 0.59 0.00 0.00 0.00 0.00 10.00\n",
       "Fully Paid  10,853.00  0.20 0.55 0.00 0.00 0.00 0.00 11.00"
      ]
     },
     "execution_count": 91,
     "metadata": {},
     "output_type": "execute_result"
    }
   ],
   "source": [
    "loans.groupby('loan_status')['pub_rec'].describe()"
   ]
  },
  {
   "cell_type": "code",
   "execution_count": 92,
   "metadata": {},
   "outputs": [
    {
     "data": {
      "text/plain": [
       "0.00    11908\n",
       "1.00     1533\n",
       "2.00       73\n",
       "3.00       15\n",
       "4.00        3\n",
       "5.00        2\n",
       "Name: pub_rec_bankruptcies, dtype: int64"
      ]
     },
     "execution_count": 92,
     "metadata": {},
     "output_type": "execute_result"
    }
   ],
   "source": [
    "loans['pub_rec_bankruptcies'].value_counts().sort_index()"
   ]
  },
  {
   "cell_type": "code",
   "execution_count": 93,
   "metadata": {},
   "outputs": [
    {
     "name": "stderr",
     "output_type": "stream",
     "text": [
      "C:\\Users\\user\\miniconda3\\envs\\sm-202011\\lib\\site-packages\\seaborn\\_decorators.py:43: FutureWarning: Pass the following variable as a keyword arg: x. From version 0.12, the only valid positional argument will be `data`, and passing other arguments without an explicit keyword will result in an error or misinterpretation.\n",
      "  FutureWarning\n"
     ]
    },
    {
     "data": {
      "image/png": "[encoded data removed]",
      "text/plain": [
       "<Figure size 1080x270 with 2 Axes>"
      ]
     },
     "metadata": {},
     "output_type": "display_data"
    }
   ],
   "source": [
    "plot_var('pub_rec_bankruptcies', 'Public Record Bankruptcies', continuous=False)"
   ]
  },
  {
   "cell_type": "code",
   "execution_count": 94,
   "metadata": {},
   "outputs": [],
   "source": [
    "loans.drop('pub_rec', axis=1, inplace=True)"
   ]
  },
  {
   "cell_type": "code",
   "execution_count": null,
   "metadata": {},
   "outputs": [],
   "source": []
  },
  {
   "cell_type": "markdown",
   "metadata": {},
   "source": [
    "#### Revolving balance"
   ]
  },
  {
   "cell_type": "code",
   "execution_count": 95,
   "metadata": {},
   "outputs": [
    {
     "data": {
      "text/plain": [
       "count    13,539.00\n",
       "mean     16,316.62\n",
       "std      21,637.32\n",
       "min           0.00\n",
       "25%       5,975.50\n",
       "50%      11,220.00\n",
       "75%      19,854.50\n",
       "max     727,464.00\n",
       "Name: revol_bal, dtype: float64"
      ]
     },
     "execution_count": 95,
     "metadata": {},
     "output_type": "execute_result"
    }
   ],
   "source": [
    "loans['revol_bal'].describe()"
   ]
  },
  {
   "cell_type": "code",
   "execution_count": 96,
   "metadata": {},
   "outputs": [],
   "source": [
    "loans['log_revol_bal'] = loans['revol_bal'].apply(lambda x: np.log10(x+1))"
   ]
  },
  {
   "cell_type": "code",
   "execution_count": 97,
   "metadata": {},
   "outputs": [],
   "source": [
    "loans.drop('revol_bal', axis=1, inplace=True)"
   ]
  },
  {
   "cell_type": "code",
   "execution_count": null,
   "metadata": {},
   "outputs": [],
   "source": []
  },
  {
   "cell_type": "markdown",
   "metadata": {},
   "source": [
    "#### Revolving util"
   ]
  },
  {
   "cell_type": "code",
   "execution_count": 98,
   "metadata": {},
   "outputs": [
    {
     "data": {
      "text/plain": [
       "count   13,532.00\n",
       "mean        51.98\n",
       "std         24.46\n",
       "min          0.00\n",
       "25%         33.70\n",
       "50%         52.45\n",
       "75%         70.70\n",
       "max        115.80\n",
       "Name: revol_util, dtype: float64"
      ]
     },
     "execution_count": 98,
     "metadata": {},
     "output_type": "execute_result"
    }
   ],
   "source": [
    "loans['revol_util'].describe()"
   ]
  },
  {
   "cell_type": "code",
   "execution_count": 99,
   "metadata": {},
   "outputs": [
    {
     "data": {
      "text/html": [
       "<div>\n",
       "<style scoped>\n",
       "    .dataframe tbody tr th:only-of-type {\n",
       "        vertical-align: middle;\n",
       "    }\n",
       "\n",
       "    .dataframe tbody tr th {\n",
       "        vertical-align: top;\n",
       "    }\n",
       "\n",
       "    .dataframe thead th {\n",
       "        text-align: right;\n",
       "    }\n",
       "</style>\n",
       "<table border=\"1\" class=\"dataframe\">\n",
       "  <thead>\n",
       "    <tr style=\"text-align: right;\">\n",
       "      <th></th>\n",
       "      <th>revol_util</th>\n",
       "      <th>fico_score</th>\n",
       "    </tr>\n",
       "  </thead>\n",
       "  <tbody>\n",
       "    <tr>\n",
       "      <th>revol_util</th>\n",
       "      <td>1.00</td>\n",
       "      <td>-0.46</td>\n",
       "    </tr>\n",
       "    <tr>\n",
       "      <th>fico_score</th>\n",
       "      <td>-0.46</td>\n",
       "      <td>1.00</td>\n",
       "    </tr>\n",
       "  </tbody>\n",
       "</table>\n",
       "</div>"
      ],
      "text/plain": [
       "            revol_util  fico_score\n",
       "revol_util        1.00       -0.46\n",
       "fico_score       -0.46        1.00"
      ]
     },
     "execution_count": 99,
     "metadata": {},
     "output_type": "execute_result"
    }
   ],
   "source": [
    "loans[['revol_util','fico_score']].corr()"
   ]
  },
  {
   "cell_type": "code",
   "execution_count": 100,
   "metadata": {},
   "outputs": [
    {
     "data": {
      "text/html": [
       "<div>\n",
       "<style scoped>\n",
       "    .dataframe tbody tr th:only-of-type {\n",
       "        vertical-align: middle;\n",
       "    }\n",
       "\n",
       "    .dataframe tbody tr th {\n",
       "        vertical-align: top;\n",
       "    }\n",
       "\n",
       "    .dataframe thead th {\n",
       "        text-align: right;\n",
       "    }\n",
       "</style>\n",
       "<table border=\"1\" class=\"dataframe\">\n",
       "  <thead>\n",
       "    <tr style=\"text-align: right;\">\n",
       "      <th></th>\n",
       "      <th>count</th>\n",
       "      <th>mean</th>\n",
       "      <th>std</th>\n",
       "      <th>min</th>\n",
       "      <th>25%</th>\n",
       "      <th>50%</th>\n",
       "      <th>75%</th>\n",
       "      <th>max</th>\n",
       "    </tr>\n",
       "    <tr>\n",
       "      <th>loan_status</th>\n",
       "      <th></th>\n",
       "      <th></th>\n",
       "      <th></th>\n",
       "      <th></th>\n",
       "      <th></th>\n",
       "      <th></th>\n",
       "      <th></th>\n",
       "      <th></th>\n",
       "    </tr>\n",
       "  </thead>\n",
       "  <tbody>\n",
       "    <tr>\n",
       "      <th>Charged Off</th>\n",
       "      <td>2,682.00</td>\n",
       "      <td>54.95</td>\n",
       "      <td>24.05</td>\n",
       "      <td>0.00</td>\n",
       "      <td>38.10</td>\n",
       "      <td>55.85</td>\n",
       "      <td>73.20</td>\n",
       "      <td>108.40</td>\n",
       "    </tr>\n",
       "    <tr>\n",
       "      <th>Fully Paid</th>\n",
       "      <td>10,850.00</td>\n",
       "      <td>51.25</td>\n",
       "      <td>24.51</td>\n",
       "      <td>0.00</td>\n",
       "      <td>32.70</td>\n",
       "      <td>51.50</td>\n",
       "      <td>70.00</td>\n",
       "      <td>115.80</td>\n",
       "    </tr>\n",
       "  </tbody>\n",
       "</table>\n",
       "</div>"
      ],
      "text/plain": [
       "                count  mean   std  min   25%   50%   75%    max\n",
       "loan_status                                                    \n",
       "Charged Off  2,682.00 54.95 24.05 0.00 38.10 55.85 73.20 108.40\n",
       "Fully Paid  10,850.00 51.25 24.51 0.00 32.70 51.50 70.00 115.80"
      ]
     },
     "execution_count": 100,
     "metadata": {},
     "output_type": "execute_result"
    }
   ],
   "source": [
    "loans.groupby('loan_status')['revol_util'].describe()"
   ]
  },
  {
   "cell_type": "code",
   "execution_count": null,
   "metadata": {},
   "outputs": [],
   "source": []
  },
  {
   "cell_type": "markdown",
   "metadata": {},
   "source": [
    "#### Mortgage account"
   ]
  },
  {
   "cell_type": "code",
   "execution_count": 101,
   "metadata": {},
   "outputs": [
    {
     "data": {
      "text/plain": [
       "count   13,037.00\n",
       "mean         1.66\n",
       "std          1.99\n",
       "min          0.00\n",
       "25%          0.00\n",
       "50%          1.00\n",
       "75%          3.00\n",
       "max         21.00\n",
       "Name: mort_acc, dtype: float64"
      ]
     },
     "execution_count": 101,
     "metadata": {},
     "output_type": "execute_result"
    }
   ],
   "source": [
    "loans['mort_acc'].describe()"
   ]
  },
  {
   "cell_type": "code",
   "execution_count": 102,
   "metadata": {},
   "outputs": [
    {
     "data": {
      "text/html": [
       "<div>\n",
       "<style scoped>\n",
       "    .dataframe tbody tr th:only-of-type {\n",
       "        vertical-align: middle;\n",
       "    }\n",
       "\n",
       "    .dataframe tbody tr th {\n",
       "        vertical-align: top;\n",
       "    }\n",
       "\n",
       "    .dataframe thead th {\n",
       "        text-align: right;\n",
       "    }\n",
       "</style>\n",
       "<table border=\"1\" class=\"dataframe\">\n",
       "  <thead>\n",
       "    <tr style=\"text-align: right;\">\n",
       "      <th></th>\n",
       "      <th>count</th>\n",
       "      <th>mean</th>\n",
       "      <th>std</th>\n",
       "      <th>min</th>\n",
       "      <th>25%</th>\n",
       "      <th>50%</th>\n",
       "      <th>75%</th>\n",
       "      <th>max</th>\n",
       "    </tr>\n",
       "    <tr>\n",
       "      <th>loan_status</th>\n",
       "      <th></th>\n",
       "      <th></th>\n",
       "      <th></th>\n",
       "      <th></th>\n",
       "      <th></th>\n",
       "      <th></th>\n",
       "      <th></th>\n",
       "      <th></th>\n",
       "    </tr>\n",
       "  </thead>\n",
       "  <tbody>\n",
       "    <tr>\n",
       "      <th>Charged Off</th>\n",
       "      <td>2,612.00</td>\n",
       "      <td>1.33</td>\n",
       "      <td>1.79</td>\n",
       "      <td>0.00</td>\n",
       "      <td>0.00</td>\n",
       "      <td>1.00</td>\n",
       "      <td>2.00</td>\n",
       "      <td>14.00</td>\n",
       "    </tr>\n",
       "    <tr>\n",
       "      <th>Fully Paid</th>\n",
       "      <td>10,425.00</td>\n",
       "      <td>1.74</td>\n",
       "      <td>2.03</td>\n",
       "      <td>0.00</td>\n",
       "      <td>0.00</td>\n",
       "      <td>1.00</td>\n",
       "      <td>3.00</td>\n",
       "      <td>21.00</td>\n",
       "    </tr>\n",
       "  </tbody>\n",
       "</table>\n",
       "</div>"
      ],
      "text/plain": [
       "                count  mean  std  min  25%  50%  75%   max\n",
       "loan_status                                               \n",
       "Charged Off  2,612.00  1.33 1.79 0.00 0.00 1.00 2.00 14.00\n",
       "Fully Paid  10,425.00  1.74 2.03 0.00 0.00 1.00 3.00 21.00"
      ]
     },
     "execution_count": 102,
     "metadata": {},
     "output_type": "execute_result"
    }
   ],
   "source": [
    "loans.groupby('loan_status')['mort_acc'].describe()"
   ]
  },
  {
   "cell_type": "code",
   "execution_count": null,
   "metadata": {},
   "outputs": [],
   "source": []
  },
  {
   "cell_type": "markdown",
   "metadata": {},
   "source": [
    "### Date type columns"
   ]
  },
  {
   "cell_type": "code",
   "execution_count": 103,
   "metadata": {},
   "outputs": [
    {
     "data": {
      "text/plain": [
       "514242     Jan-2018\n",
       "1836748    Jun-2013\n",
       "321640     Apr-2015\n",
       "262150     Jun-2015\n",
       "1049948    Mar-2016\n",
       "Name: issue_d, dtype: object"
      ]
     },
     "execution_count": 103,
     "metadata": {},
     "output_type": "execute_result"
    }
   ],
   "source": [
    "loans['issue_d'].sample(5)"
   ]
  },
  {
   "cell_type": "code",
   "execution_count": 104,
   "metadata": {},
   "outputs": [
    {
     "data": {
      "text/plain": [
       "1171519    Apr-2002\n",
       "1095601    Jul-2002\n",
       "2061520    Apr-2001\n",
       "1719529    Aug-1981\n",
       "402968     Feb-2004\n",
       "Name: earliest_cr_line, dtype: object"
      ]
     },
     "execution_count": 104,
     "metadata": {},
     "output_type": "execute_result"
    }
   ],
   "source": [
    "loans['earliest_cr_line'].sample(5)"
   ]
  },
  {
   "cell_type": "code",
   "execution_count": 105,
   "metadata": {},
   "outputs": [
    {
     "data": {
      "text/plain": [
       "False"
      ]
     },
     "execution_count": 105,
     "metadata": {},
     "output_type": "execute_result"
    }
   ],
   "source": [
    "loans['earliest_cr_line'].isnull().any()"
   ]
  },
  {
   "cell_type": "code",
   "execution_count": 106,
   "metadata": {},
   "outputs": [
    {
     "data": {
      "text/plain": [
       "False"
      ]
     },
     "execution_count": 106,
     "metadata": {},
     "output_type": "execute_result"
    }
   ],
   "source": [
    "loans['issue_d'].isnull().any()"
   ]
  },
  {
   "cell_type": "code",
   "execution_count": 107,
   "metadata": {},
   "outputs": [],
   "source": [
    "loans['issue_d'] = pd.to_datetime(loans['issue_d'])"
   ]
  },
  {
   "cell_type": "code",
   "execution_count": 108,
   "metadata": {},
   "outputs": [
    {
     "data": {
      "text/plain": [
       "Text(0.5, 1.0, 'Loans Funded per Year')"
      ]
     },
     "execution_count": 108,
     "metadata": {},
     "output_type": "execute_result"
    },
    {
     "data": {
      "image/png": "[encoded data removed]",
      "text/plain": [
       "<Figure size 540x270 with 1 Axes>"
      ]
     },
     "metadata": {},
     "output_type": "display_data"
    }
   ],
   "source": [
    "plt.figure(figsize=(6,3), dpi=90)\n",
    "loans['issue_d'].dt.year.value_counts().sort_index().plot.bar(color='darkblue')\n",
    "plt.xlabel('Year')\n",
    "plt.ylabel('Number of Loans Funded')\n",
    "plt.title('Loans Funded per Year')"
   ]
  },
  {
   "cell_type": "code",
   "execution_count": 109,
   "metadata": {},
   "outputs": [],
   "source": [
    "loans['earliest_cr_line'] = pd.to_datetime(loans['earliest_cr_line'])"
   ]
  },
  {
   "cell_type": "markdown",
   "metadata": {},
   "source": [
    "Calculate number of days between issue date and earliest credit lines, so that we know the days of applicant with the bank"
   ]
  },
  {
   "cell_type": "code",
   "execution_count": 110,
   "metadata": {},
   "outputs": [],
   "source": [
    "loans['days_from_issue_to_earliest_cr'] = (loans['issue_d'] - loans['earliest_cr_line']).apply(lambda x: x.days)"
   ]
  },
  {
   "cell_type": "code",
   "execution_count": 111,
   "metadata": {},
   "outputs": [
    {
     "data": {
      "text/plain": [
       "1321407    5844\n",
       "223460     5994\n",
       "645578     4899\n",
       "1334853    7124\n",
       "964263     6361\n",
       "Name: days_from_issue_to_earliest_cr, dtype: int64"
      ]
     },
     "execution_count": 111,
     "metadata": {},
     "output_type": "execute_result"
    }
   ],
   "source": [
    "loans['days_from_issue_to_earliest_cr'].sample(5)"
   ]
  },
  {
   "cell_type": "code",
   "execution_count": 112,
   "metadata": {},
   "outputs": [
    {
     "data": {
      "text/plain": [
       "count   13,539.00\n",
       "mean         0.20\n",
       "std          0.40\n",
       "min          0.00\n",
       "25%          0.00\n",
       "50%          0.00\n",
       "75%          0.00\n",
       "max          1.00\n",
       "Name: target, dtype: float64"
      ]
     },
     "execution_count": 112,
     "metadata": {},
     "output_type": "execute_result"
    }
   ],
   "source": [
    "loans['target'] = (loans['loan_status'] == 'Charged Off').astype(int)\n",
    "loans['target'].describe()"
   ]
  },
  {
   "cell_type": "code",
   "execution_count": 113,
   "metadata": {},
   "outputs": [],
   "source": [
    "_df = loans.groupby('days_from_issue_to_earliest_cr')['target'].mean().reset_index()"
   ]
  },
  {
   "cell_type": "code",
   "execution_count": 114,
   "metadata": {},
   "outputs": [
    {
     "data": {
      "text/plain": [
       "<AxesSubplot:xlabel='days_from_issue_to_earliest_cr', ylabel='target'>"
      ]
     },
     "execution_count": 114,
     "metadata": {},
     "output_type": "execute_result"
    },
    {
     "data": {
      "image/png": "[encoded data removed]",
      "text/plain": [
       "<Figure size 432x288 with 1 Axes>"
      ]
     },
     "metadata": {},
     "output_type": "display_data"
    }
   ],
   "source": [
    "sns.scatterplot(x='days_from_issue_to_earliest_cr', y='target', data=_df)"
   ]
  },
  {
   "cell_type": "code",
   "execution_count": 115,
   "metadata": {},
   "outputs": [
    {
     "data": {
      "text/html": [
       "<div>\n",
       "<style scoped>\n",
       "    .dataframe tbody tr th:only-of-type {\n",
       "        vertical-align: middle;\n",
       "    }\n",
       "\n",
       "    .dataframe tbody tr th {\n",
       "        vertical-align: top;\n",
       "    }\n",
       "\n",
       "    .dataframe thead th {\n",
       "        text-align: right;\n",
       "    }\n",
       "</style>\n",
       "<table border=\"1\" class=\"dataframe\">\n",
       "  <thead>\n",
       "    <tr style=\"text-align: right;\">\n",
       "      <th></th>\n",
       "      <th>days_from_issue_to_earliest_cr</th>\n",
       "      <th>target</th>\n",
       "    </tr>\n",
       "  </thead>\n",
       "  <tbody>\n",
       "    <tr>\n",
       "      <th>days_from_issue_to_earliest_cr</th>\n",
       "      <td>1.00</td>\n",
       "      <td>-0.01</td>\n",
       "    </tr>\n",
       "    <tr>\n",
       "      <th>target</th>\n",
       "      <td>-0.01</td>\n",
       "      <td>1.00</td>\n",
       "    </tr>\n",
       "  </tbody>\n",
       "</table>\n",
       "</div>"
      ],
      "text/plain": [
       "                                days_from_issue_to_earliest_cr  target\n",
       "days_from_issue_to_earliest_cr                            1.00   -0.01\n",
       "target                                                   -0.01    1.00"
      ]
     },
     "execution_count": 115,
     "metadata": {},
     "output_type": "execute_result"
    }
   ],
   "source": [
    "_df.corr()"
   ]
  },
  {
   "cell_type": "code",
   "execution_count": 116,
   "metadata": {},
   "outputs": [],
   "source": [
    "loans.drop(['target','earliest_cr_line'],axis=1,inplace=True)"
   ]
  },
  {
   "cell_type": "code",
   "execution_count": null,
   "metadata": {},
   "outputs": [],
   "source": []
  },
  {
   "cell_type": "markdown",
   "metadata": {},
   "source": [
    "#### More Pre preprocessing"
   ]
  },
  {
   "cell_type": "markdown",
   "metadata": {},
   "source": [
    "Convert charge off in loan status as 0/1 indicator"
   ]
  },
  {
   "cell_type": "code",
   "execution_count": 117,
   "metadata": {},
   "outputs": [],
   "source": [
    "loans['charged_off'] = (loans['loan_status'] == 'Charged Off').apply(np.uint8)\n",
    "loans.drop('loan_status', axis=1, inplace=True)"
   ]
  },
  {
   "cell_type": "code",
   "execution_count": 118,
   "metadata": {},
   "outputs": [],
   "source": [
    "\n",
    "missing_fractions = loans.isnull().mean().sort_values(ascending=False) # Fraction of data missing for each variable"
   ]
  },
  {
   "cell_type": "code",
   "execution_count": 119,
   "metadata": {},
   "outputs": [
    {
     "name": "stdout",
     "output_type": "stream",
     "text": [
      "mort_acc               0.04\n",
      "revol_util             0.00\n",
      "pub_rec_bankruptcies   0.00\n",
      "dti                    0.00\n",
      "dtype: float64\n"
     ]
    }
   ],
   "source": [
    "\n",
    "print(missing_fractions[missing_fractions > 0]) # Print variables that are missing data"
   ]
  },
  {
   "cell_type": "code",
   "execution_count": 120,
   "metadata": {},
   "outputs": [
    {
     "name": "stdout",
     "output_type": "stream",
     "text": [
      "Index(['loan_amnt', 'term', 'int_rate', 'installment', 'sub_grade',\n",
      "       'emp_length', 'home_ownership', 'verification_status', 'issue_d',\n",
      "       'purpose', 'addr_state', 'dti', 'revol_util', 'initial_list_status',\n",
      "       'application_type', 'mort_acc', 'pub_rec_bankruptcies',\n",
      "       'log_annual_inc', 'fico_score', 'acc_ratio', 'log_revol_bal',\n",
      "       'days_from_issue_to_earliest_cr', 'charged_off'],\n",
      "      dtype='object')\n"
     ]
    }
   ],
   "source": [
    "\n",
    "print(loans.columns)"
   ]
  },
  {
   "cell_type": "markdown",
   "metadata": {},
   "source": [
    "Create dummy variables for categorical data"
   ]
  },
  {
   "cell_type": "code",
   "execution_count": 121,
   "metadata": {},
   "outputs": [],
   "source": [
    "loans = pd.get_dummies(loans, columns=['sub_grade', 'home_ownership', 'verification_status', 'purpose', 'addr_state', 'initial_list_status','application_type'], drop_first=True)\n",
    "\n"
   ]
  },
  {
   "cell_type": "code",
   "execution_count": 122,
   "metadata": {},
   "outputs": [
    {
     "data": {
      "text/plain": [
       "(13539, 119)"
      ]
     },
     "execution_count": 122,
     "metadata": {},
     "output_type": "execute_result"
    }
   ],
   "source": [
    "loans.shape"
   ]
  },
  {
   "cell_type": "code",
   "execution_count": null,
   "metadata": {},
   "outputs": [],
   "source": []
  },
  {
   "cell_type": "code",
   "execution_count": 123,
   "metadata": {},
   "outputs": [
    {
     "name": "stderr",
     "output_type": "stream",
     "text": [
      "C:\\Users\\user\\miniconda3\\envs\\sm-202011\\lib\\site-packages\\pyarrow\\feather.py:83: FutureWarning: The SparseDataFrame class is removed from pandas. Accessing it from the top-level namespace will also be removed in the next version\n",
      "  if isinstance(df, _pandas_api.pd.SparseDataFrame):\n"
     ]
    }
   ],
   "source": [
    "import pyarrow.feather as feather\n",
    "feather.write_feather(loans,'./loans_modelling_data')"
   ]
  },
  {
   "cell_type": "code",
   "execution_count": null,
   "metadata": {},
   "outputs": [],
   "source": []
  }
 ],
 "metadata": {
  "kernelspec": {
   "display_name": "Python 3",
   "language": "python",
   "name": "python3"
  },
  "language_info": {
   "codemirror_mode": {
    "name": "ipython",
    "version": 3
   },
   "file_extension": ".py",
   "mimetype": "text/x-python",
   "name": "python",
   "nbconvert_exporter": "python",
   "pygments_lexer": "ipython3",
   "version": "3.7.9"
  }
 },
 "nbformat": 4,
 "nbformat_minor": 4
}
