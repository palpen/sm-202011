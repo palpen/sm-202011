{
 "cells": [
  {
   "cell_type": "markdown",
   "metadata": {},
   "source": [
    "#                                         Lending Club Loan Data"
   ]
  },
  {
   "cell_type": "markdown",
   "metadata": {},
   "source": [
    "## Import Data"
   ]
  },
  {
   "cell_type": "code",
   "execution_count": 2,
   "metadata": {},
   "outputs": [
    {
     "name": "stderr",
     "output_type": "stream",
     "text": [
      "In C:\\Users\\user\\miniconda3\\envs\\sm-202011\\lib\\site-packages\\matplotlib\\mpl-data\\stylelib\\_classic_test.mplstyle: \n",
      "The text.latex.preview rcparam was deprecated in Matplotlib 3.3 and will be removed two minor releases later.\n",
      "In C:\\Users\\user\\miniconda3\\envs\\sm-202011\\lib\\site-packages\\matplotlib\\mpl-data\\stylelib\\_classic_test.mplstyle: \n",
      "The mathtext.fallback_to_cm rcparam was deprecated in Matplotlib 3.3 and will be removed two minor releases later.\n",
      "In C:\\Users\\user\\miniconda3\\envs\\sm-202011\\lib\\site-packages\\matplotlib\\mpl-data\\stylelib\\_classic_test.mplstyle: Support for setting the 'mathtext.fallback_to_cm' rcParam is deprecated since 3.3 and will be removed two minor releases later; use 'mathtext.fallback : 'cm' instead.\n",
      "In C:\\Users\\user\\miniconda3\\envs\\sm-202011\\lib\\site-packages\\matplotlib\\mpl-data\\stylelib\\_classic_test.mplstyle: \n",
      "The validate_bool_maybe_none function was deprecated in Matplotlib 3.3 and will be removed two minor releases later.\n",
      "In C:\\Users\\user\\miniconda3\\envs\\sm-202011\\lib\\site-packages\\matplotlib\\mpl-data\\stylelib\\_classic_test.mplstyle: \n",
      "The savefig.jpeg_quality rcparam was deprecated in Matplotlib 3.3 and will be removed two minor releases later.\n",
      "In C:\\Users\\user\\miniconda3\\envs\\sm-202011\\lib\\site-packages\\matplotlib\\mpl-data\\stylelib\\_classic_test.mplstyle: \n",
      "The keymap.all_axes rcparam was deprecated in Matplotlib 3.3 and will be removed two minor releases later.\n",
      "In C:\\Users\\user\\miniconda3\\envs\\sm-202011\\lib\\site-packages\\matplotlib\\mpl-data\\stylelib\\_classic_test.mplstyle: \n",
      "The animation.avconv_path rcparam was deprecated in Matplotlib 3.3 and will be removed two minor releases later.\n",
      "In C:\\Users\\user\\miniconda3\\envs\\sm-202011\\lib\\site-packages\\matplotlib\\mpl-data\\stylelib\\_classic_test.mplstyle: \n",
      "The animation.avconv_args rcparam was deprecated in Matplotlib 3.3 and will be removed two minor releases later.\n"
     ]
    }
   ],
   "source": [
    "import numpy as np\n",
    "import scipy as sp\n",
    "import pandas as pd\n",
    "import matplotlib as mpl\n",
    "import matplotlib.pyplot as plt\n",
    "import seaborn as sns\n",
    "\n",
    "\n",
    "# Pandas options\n",
    "pd.set_option('display.max_colwidth', 1000, 'display.max_rows', None, 'display.max_columns', None)\n",
    "\n",
    "# Plotting options\n",
    "%matplotlib inline\n",
    "mpl.style.use('ggplot')\n",
    "sns.set(style='whitegrid')"
   ]
  },
  {
   "cell_type": "code",
   "execution_count": 3,
   "metadata": {},
   "outputs": [],
   "source": [
    "SAMPLE = True"
   ]
  },
  {
   "cell_type": "code",
   "execution_count": 4,
   "metadata": {},
   "outputs": [
    {
     "name": "stderr",
     "output_type": "stream",
     "text": [
      "C:\\Users\\user\\miniconda3\\envs\\sm-202011\\lib\\site-packages\\IPython\\core\\interactiveshell.py:3147: DtypeWarning: Columns (0,19,49,59,118,129,130,131,134,135,136,139,145,146,147) have mixed types.Specify dtype option on import or set low_memory=False.\n",
      "  interactivity=interactivity, compiler=compiler, result=result)\n"
     ]
    }
   ],
   "source": [
    "loans = pd.read_csv('../project_1/accepted_2007_to_2018Q4.csv.gz', compression='gzip', low_memory=True) #Load data into pandas\n",
    "\n",
    "if SAMPLE:\n",
    "    loans = loans.sample(frac=0.01)"
   ]
  },
  {
   "cell_type": "code",
   "execution_count": 5,
   "metadata": {},
   "outputs": [
    {
     "name": "stdout",
     "output_type": "stream",
     "text": [
      "<class 'pandas.core.frame.DataFrame'>\n",
      "Int64Index: 22607 entries, 1323446 to 41791\n",
      "Columns: 151 entries, id to settlement_term\n",
      "dtypes: float64(113), object(38)\n",
      "memory usage: 26.2+ MB\n"
     ]
    }
   ],
   "source": [
    "loans.info()"
   ]
  },
  {
   "cell_type": "code",
   "execution_count": 6,
   "metadata": {},
   "outputs": [],
   "source": [
    "pd.options.display.float_format = '{:,.2f}'.format "
   ]
  },
  {
   "cell_type": "code",
   "execution_count": 7,
   "metadata": {},
   "outputs": [
    {
     "data": {
      "text/html": [
       "<div>\n",
       "<style scoped>\n",
       "    .dataframe tbody tr th:only-of-type {\n",
       "        vertical-align: middle;\n",
       "    }\n",
       "\n",
       "    .dataframe tbody tr th {\n",
       "        vertical-align: top;\n",
       "    }\n",
       "\n",
       "    .dataframe thead th {\n",
       "        text-align: right;\n",
       "    }\n",
       "</style>\n",
       "<table border=\"1\" class=\"dataframe\">\n",
       "  <thead>\n",
       "    <tr style=\"text-align: right;\">\n",
       "      <th></th>\n",
       "      <th>id</th>\n",
       "      <th>member_id</th>\n",
       "      <th>loan_amnt</th>\n",
       "      <th>funded_amnt</th>\n",
       "      <th>funded_amnt_inv</th>\n",
       "      <th>term</th>\n",
       "      <th>int_rate</th>\n",
       "      <th>installment</th>\n",
       "      <th>grade</th>\n",
       "      <th>sub_grade</th>\n",
       "      <th>emp_title</th>\n",
       "      <th>emp_length</th>\n",
       "      <th>home_ownership</th>\n",
       "      <th>annual_inc</th>\n",
       "      <th>verification_status</th>\n",
       "      <th>issue_d</th>\n",
       "      <th>loan_status</th>\n",
       "      <th>pymnt_plan</th>\n",
       "      <th>url</th>\n",
       "      <th>desc</th>\n",
       "      <th>purpose</th>\n",
       "      <th>title</th>\n",
       "      <th>zip_code</th>\n",
       "      <th>addr_state</th>\n",
       "      <th>dti</th>\n",
       "      <th>delinq_2yrs</th>\n",
       "      <th>earliest_cr_line</th>\n",
       "      <th>fico_range_low</th>\n",
       "      <th>fico_range_high</th>\n",
       "      <th>inq_last_6mths</th>\n",
       "      <th>mths_since_last_delinq</th>\n",
       "      <th>mths_since_last_record</th>\n",
       "      <th>open_acc</th>\n",
       "      <th>pub_rec</th>\n",
       "      <th>revol_bal</th>\n",
       "      <th>revol_util</th>\n",
       "      <th>total_acc</th>\n",
       "      <th>initial_list_status</th>\n",
       "      <th>out_prncp</th>\n",
       "      <th>out_prncp_inv</th>\n",
       "      <th>total_pymnt</th>\n",
       "      <th>total_pymnt_inv</th>\n",
       "      <th>total_rec_prncp</th>\n",
       "      <th>total_rec_int</th>\n",
       "      <th>total_rec_late_fee</th>\n",
       "      <th>recoveries</th>\n",
       "      <th>collection_recovery_fee</th>\n",
       "      <th>last_pymnt_d</th>\n",
       "      <th>last_pymnt_amnt</th>\n",
       "      <th>next_pymnt_d</th>\n",
       "      <th>last_credit_pull_d</th>\n",
       "      <th>last_fico_range_high</th>\n",
       "      <th>last_fico_range_low</th>\n",
       "      <th>collections_12_mths_ex_med</th>\n",
       "      <th>mths_since_last_major_derog</th>\n",
       "      <th>policy_code</th>\n",
       "      <th>application_type</th>\n",
       "      <th>annual_inc_joint</th>\n",
       "      <th>dti_joint</th>\n",
       "      <th>verification_status_joint</th>\n",
       "      <th>acc_now_delinq</th>\n",
       "      <th>tot_coll_amt</th>\n",
       "      <th>tot_cur_bal</th>\n",
       "      <th>open_acc_6m</th>\n",
       "      <th>open_act_il</th>\n",
       "      <th>open_il_12m</th>\n",
       "      <th>open_il_24m</th>\n",
       "      <th>mths_since_rcnt_il</th>\n",
       "      <th>total_bal_il</th>\n",
       "      <th>il_util</th>\n",
       "      <th>open_rv_12m</th>\n",
       "      <th>open_rv_24m</th>\n",
       "      <th>max_bal_bc</th>\n",
       "      <th>all_util</th>\n",
       "      <th>total_rev_hi_lim</th>\n",
       "      <th>inq_fi</th>\n",
       "      <th>total_cu_tl</th>\n",
       "      <th>inq_last_12m</th>\n",
       "      <th>acc_open_past_24mths</th>\n",
       "      <th>avg_cur_bal</th>\n",
       "      <th>bc_open_to_buy</th>\n",
       "      <th>bc_util</th>\n",
       "      <th>chargeoff_within_12_mths</th>\n",
       "      <th>delinq_amnt</th>\n",
       "      <th>mo_sin_old_il_acct</th>\n",
       "      <th>mo_sin_old_rev_tl_op</th>\n",
       "      <th>mo_sin_rcnt_rev_tl_op</th>\n",
       "      <th>mo_sin_rcnt_tl</th>\n",
       "      <th>mort_acc</th>\n",
       "      <th>mths_since_recent_bc</th>\n",
       "      <th>mths_since_recent_bc_dlq</th>\n",
       "      <th>mths_since_recent_inq</th>\n",
       "      <th>mths_since_recent_revol_delinq</th>\n",
       "      <th>num_accts_ever_120_pd</th>\n",
       "      <th>num_actv_bc_tl</th>\n",
       "      <th>num_actv_rev_tl</th>\n",
       "      <th>num_bc_sats</th>\n",
       "      <th>num_bc_tl</th>\n",
       "      <th>num_il_tl</th>\n",
       "      <th>num_op_rev_tl</th>\n",
       "      <th>num_rev_accts</th>\n",
       "      <th>num_rev_tl_bal_gt_0</th>\n",
       "      <th>num_sats</th>\n",
       "      <th>num_tl_120dpd_2m</th>\n",
       "      <th>num_tl_30dpd</th>\n",
       "      <th>num_tl_90g_dpd_24m</th>\n",
       "      <th>num_tl_op_past_12m</th>\n",
       "      <th>pct_tl_nvr_dlq</th>\n",
       "      <th>percent_bc_gt_75</th>\n",
       "      <th>pub_rec_bankruptcies</th>\n",
       "      <th>tax_liens</th>\n",
       "      <th>tot_hi_cred_lim</th>\n",
       "      <th>total_bal_ex_mort</th>\n",
       "      <th>total_bc_limit</th>\n",
       "      <th>total_il_high_credit_limit</th>\n",
       "      <th>revol_bal_joint</th>\n",
       "      <th>sec_app_fico_range_low</th>\n",
       "      <th>sec_app_fico_range_high</th>\n",
       "      <th>sec_app_earliest_cr_line</th>\n",
       "      <th>sec_app_inq_last_6mths</th>\n",
       "      <th>sec_app_mort_acc</th>\n",
       "      <th>sec_app_open_acc</th>\n",
       "      <th>sec_app_revol_util</th>\n",
       "      <th>sec_app_open_act_il</th>\n",
       "      <th>sec_app_num_rev_accts</th>\n",
       "      <th>sec_app_chargeoff_within_12_mths</th>\n",
       "      <th>sec_app_collections_12_mths_ex_med</th>\n",
       "      <th>sec_app_mths_since_last_major_derog</th>\n",
       "      <th>hardship_flag</th>\n",
       "      <th>hardship_type</th>\n",
       "      <th>hardship_reason</th>\n",
       "      <th>hardship_status</th>\n",
       "      <th>deferral_term</th>\n",
       "      <th>hardship_amount</th>\n",
       "      <th>hardship_start_date</th>\n",
       "      <th>hardship_end_date</th>\n",
       "      <th>payment_plan_start_date</th>\n",
       "      <th>hardship_length</th>\n",
       "      <th>hardship_dpd</th>\n",
       "      <th>hardship_loan_status</th>\n",
       "      <th>orig_projected_additional_accrued_interest</th>\n",
       "      <th>hardship_payoff_balance_amount</th>\n",
       "      <th>hardship_last_payment_amount</th>\n",
       "      <th>disbursement_method</th>\n",
       "      <th>debt_settlement_flag</th>\n",
       "      <th>debt_settlement_flag_date</th>\n",
       "      <th>settlement_status</th>\n",
       "      <th>settlement_date</th>\n",
       "      <th>settlement_amount</th>\n",
       "      <th>settlement_percentage</th>\n",
       "      <th>settlement_term</th>\n",
       "    </tr>\n",
       "  </thead>\n",
       "  <tbody>\n",
       "    <tr>\n",
       "      <th>1323446</th>\n",
       "      <td>12435459</td>\n",
       "      <td>nan</td>\n",
       "      <td>26,050.00</td>\n",
       "      <td>26,050.00</td>\n",
       "      <td>26,050.00</td>\n",
       "      <td>60 months</td>\n",
       "      <td>16.59</td>\n",
       "      <td>641.69</td>\n",
       "      <td>D</td>\n",
       "      <td>D1</td>\n",
       "      <td>Store manager</td>\n",
       "      <td>10+ years</td>\n",
       "      <td>MORTGAGE</td>\n",
       "      <td>110,000.00</td>\n",
       "      <td>Verified</td>\n",
       "      <td>Feb-2014</td>\n",
       "      <td>Fully Paid</td>\n",
       "      <td>n</td>\n",
       "      <td>https://lendingclub.com/browse/loanDetail.action?loan_id=12435459</td>\n",
       "      <td>NaN</td>\n",
       "      <td>debt_consolidation</td>\n",
       "      <td>Debt consolidation</td>\n",
       "      <td>496xx</td>\n",
       "      <td>MI</td>\n",
       "      <td>25.20</td>\n",
       "      <td>0.00</td>\n",
       "      <td>Nov-1999</td>\n",
       "      <td>690.00</td>\n",
       "      <td>694.00</td>\n",
       "      <td>0.00</td>\n",
       "      <td>nan</td>\n",
       "      <td>nan</td>\n",
       "      <td>10.00</td>\n",
       "      <td>0.00</td>\n",
       "      <td>35,699.00</td>\n",
       "      <td>55.30</td>\n",
       "      <td>35.00</td>\n",
       "      <td>w</td>\n",
       "      <td>0.00</td>\n",
       "      <td>0.00</td>\n",
       "      <td>35,899.65</td>\n",
       "      <td>35,899.65</td>\n",
       "      <td>26,050.00</td>\n",
       "      <td>9,849.65</td>\n",
       "      <td>0.00</td>\n",
       "      <td>0.00</td>\n",
       "      <td>0.00</td>\n",
       "      <td>Dec-2016</td>\n",
       "      <td>14,739.85</td>\n",
       "      <td>NaN</td>\n",
       "      <td>Jul-2017</td>\n",
       "      <td>719.00</td>\n",
       "      <td>715.00</td>\n",
       "      <td>0.00</td>\n",
       "      <td>nan</td>\n",
       "      <td>1.00</td>\n",
       "      <td>Individual</td>\n",
       "      <td>nan</td>\n",
       "      <td>nan</td>\n",
       "      <td>NaN</td>\n",
       "      <td>0.00</td>\n",
       "      <td>0.00</td>\n",
       "      <td>305,574.00</td>\n",
       "      <td>nan</td>\n",
       "      <td>nan</td>\n",
       "      <td>nan</td>\n",
       "      <td>nan</td>\n",
       "      <td>nan</td>\n",
       "      <td>nan</td>\n",
       "      <td>nan</td>\n",
       "      <td>nan</td>\n",
       "      <td>nan</td>\n",
       "      <td>nan</td>\n",
       "      <td>nan</td>\n",
       "      <td>64,600.00</td>\n",
       "      <td>nan</td>\n",
       "      <td>nan</td>\n",
       "      <td>nan</td>\n",
       "      <td>8.00</td>\n",
       "      <td>30,557.00</td>\n",
       "      <td>28,323.00</td>\n",
       "      <td>52.60</td>\n",
       "      <td>0.00</td>\n",
       "      <td>0.00</td>\n",
       "      <td>171.00</td>\n",
       "      <td>170.00</td>\n",
       "      <td>4.00</td>\n",
       "      <td>4.00</td>\n",
       "      <td>7.00</td>\n",
       "      <td>4.00</td>\n",
       "      <td>nan</td>\n",
       "      <td>8.00</td>\n",
       "      <td>nan</td>\n",
       "      <td>0.00</td>\n",
       "      <td>3.00</td>\n",
       "      <td>5.00</td>\n",
       "      <td>4.00</td>\n",
       "      <td>7.00</td>\n",
       "      <td>12.00</td>\n",
       "      <td>7.00</td>\n",
       "      <td>15.00</td>\n",
       "      <td>5.00</td>\n",
       "      <td>10.00</td>\n",
       "      <td>0.00</td>\n",
       "      <td>0.00</td>\n",
       "      <td>0.00</td>\n",
       "      <td>5.00</td>\n",
       "      <td>100.00</td>\n",
       "      <td>75.00</td>\n",
       "      <td>0.00</td>\n",
       "      <td>0.00</td>\n",
       "      <td>355,180.00</td>\n",
       "      <td>66,015.00</td>\n",
       "      <td>59,800.00</td>\n",
       "      <td>48,425.00</td>\n",
       "      <td>nan</td>\n",
       "      <td>nan</td>\n",
       "      <td>nan</td>\n",
       "      <td>NaN</td>\n",
       "      <td>nan</td>\n",
       "      <td>nan</td>\n",
       "      <td>nan</td>\n",
       "      <td>nan</td>\n",
       "      <td>nan</td>\n",
       "      <td>nan</td>\n",
       "      <td>nan</td>\n",
       "      <td>nan</td>\n",
       "      <td>nan</td>\n",
       "      <td>N</td>\n",
       "      <td>NaN</td>\n",
       "      <td>NaN</td>\n",
       "      <td>NaN</td>\n",
       "      <td>nan</td>\n",
       "      <td>nan</td>\n",
       "      <td>NaN</td>\n",
       "      <td>NaN</td>\n",
       "      <td>NaN</td>\n",
       "      <td>nan</td>\n",
       "      <td>nan</td>\n",
       "      <td>NaN</td>\n",
       "      <td>nan</td>\n",
       "      <td>nan</td>\n",
       "      <td>nan</td>\n",
       "      <td>Cash</td>\n",
       "      <td>N</td>\n",
       "      <td>NaN</td>\n",
       "      <td>NaN</td>\n",
       "      <td>NaN</td>\n",
       "      <td>nan</td>\n",
       "      <td>nan</td>\n",
       "      <td>nan</td>\n",
       "    </tr>\n",
       "    <tr>\n",
       "      <th>2056641</th>\n",
       "      <td>125828259</td>\n",
       "      <td>nan</td>\n",
       "      <td>4,600.00</td>\n",
       "      <td>4,600.00</td>\n",
       "      <td>4,600.00</td>\n",
       "      <td>36 months</td>\n",
       "      <td>5.32</td>\n",
       "      <td>138.53</td>\n",
       "      <td>A</td>\n",
       "      <td>A1</td>\n",
       "      <td>Laborer</td>\n",
       "      <td>10+ years</td>\n",
       "      <td>MORTGAGE</td>\n",
       "      <td>44,000.00</td>\n",
       "      <td>Not Verified</td>\n",
       "      <td>Dec-2017</td>\n",
       "      <td>Current</td>\n",
       "      <td>n</td>\n",
       "      <td>https://lendingclub.com/browse/loanDetail.action?loan_id=125828259</td>\n",
       "      <td>NaN</td>\n",
       "      <td>home_improvement</td>\n",
       "      <td>Home improvement</td>\n",
       "      <td>891xx</td>\n",
       "      <td>NV</td>\n",
       "      <td>18.93</td>\n",
       "      <td>0.00</td>\n",
       "      <td>Nov-2004</td>\n",
       "      <td>805.00</td>\n",
       "      <td>809.00</td>\n",
       "      <td>0.00</td>\n",
       "      <td>nan</td>\n",
       "      <td>nan</td>\n",
       "      <td>9.00</td>\n",
       "      <td>0.00</td>\n",
       "      <td>4,385.00</td>\n",
       "      <td>13.70</td>\n",
       "      <td>25.00</td>\n",
       "      <td>w</td>\n",
       "      <td>2,771.88</td>\n",
       "      <td>2,771.88</td>\n",
       "      <td>2,082.03</td>\n",
       "      <td>2,082.03</td>\n",
       "      <td>1,828.12</td>\n",
       "      <td>253.91</td>\n",
       "      <td>0.00</td>\n",
       "      <td>0.00</td>\n",
       "      <td>0.00</td>\n",
       "      <td>Mar-2019</td>\n",
       "      <td>138.53</td>\n",
       "      <td>Apr-2019</td>\n",
       "      <td>Mar-2019</td>\n",
       "      <td>824.00</td>\n",
       "      <td>820.00</td>\n",
       "      <td>0.00</td>\n",
       "      <td>nan</td>\n",
       "      <td>1.00</td>\n",
       "      <td>Joint App</td>\n",
       "      <td>72,000.00</td>\n",
       "      <td>12.50</td>\n",
       "      <td>Not Verified</td>\n",
       "      <td>0.00</td>\n",
       "      <td>0.00</td>\n",
       "      <td>189,980.00</td>\n",
       "      <td>1.00</td>\n",
       "      <td>2.00</td>\n",
       "      <td>1.00</td>\n",
       "      <td>2.00</td>\n",
       "      <td>5.00</td>\n",
       "      <td>19,095.00</td>\n",
       "      <td>72.00</td>\n",
       "      <td>0.00</td>\n",
       "      <td>1.00</td>\n",
       "      <td>153.00</td>\n",
       "      <td>40.00</td>\n",
       "      <td>32,100.00</td>\n",
       "      <td>3.00</td>\n",
       "      <td>5.00</td>\n",
       "      <td>2.00</td>\n",
       "      <td>3.00</td>\n",
       "      <td>23,748.00</td>\n",
       "      <td>15,575.00</td>\n",
       "      <td>1.40</td>\n",
       "      <td>0.00</td>\n",
       "      <td>0.00</td>\n",
       "      <td>119.00</td>\n",
       "      <td>157.00</td>\n",
       "      <td>20.00</td>\n",
       "      <td>5.00</td>\n",
       "      <td>2.00</td>\n",
       "      <td>38.00</td>\n",
       "      <td>nan</td>\n",
       "      <td>1.00</td>\n",
       "      <td>nan</td>\n",
       "      <td>0.00</td>\n",
       "      <td>2.00</td>\n",
       "      <td>3.00</td>\n",
       "      <td>3.00</td>\n",
       "      <td>6.00</td>\n",
       "      <td>12.00</td>\n",
       "      <td>6.00</td>\n",
       "      <td>11.00</td>\n",
       "      <td>3.00</td>\n",
       "      <td>9.00</td>\n",
       "      <td>0.00</td>\n",
       "      <td>0.00</td>\n",
       "      <td>0.00</td>\n",
       "      <td>1.00</td>\n",
       "      <td>100.00</td>\n",
       "      <td>0.00</td>\n",
       "      <td>0.00</td>\n",
       "      <td>0.00</td>\n",
       "      <td>234,758.00</td>\n",
       "      <td>23,480.00</td>\n",
       "      <td>15,800.00</td>\n",
       "      <td>26,410.00</td>\n",
       "      <td>15,452.00</td>\n",
       "      <td>775.00</td>\n",
       "      <td>779.00</td>\n",
       "      <td>Jun-2011</td>\n",
       "      <td>0.00</td>\n",
       "      <td>2.00</td>\n",
       "      <td>11.00</td>\n",
       "      <td>20.30</td>\n",
       "      <td>2.00</td>\n",
       "      <td>9.00</td>\n",
       "      <td>0.00</td>\n",
       "      <td>0.00</td>\n",
       "      <td>nan</td>\n",
       "      <td>N</td>\n",
       "      <td>NaN</td>\n",
       "      <td>NaN</td>\n",
       "      <td>NaN</td>\n",
       "      <td>nan</td>\n",
       "      <td>nan</td>\n",
       "      <td>NaN</td>\n",
       "      <td>NaN</td>\n",
       "      <td>NaN</td>\n",
       "      <td>nan</td>\n",
       "      <td>nan</td>\n",
       "      <td>NaN</td>\n",
       "      <td>nan</td>\n",
       "      <td>nan</td>\n",
       "      <td>nan</td>\n",
       "      <td>Cash</td>\n",
       "      <td>N</td>\n",
       "      <td>NaN</td>\n",
       "      <td>NaN</td>\n",
       "      <td>NaN</td>\n",
       "      <td>nan</td>\n",
       "      <td>nan</td>\n",
       "      <td>nan</td>\n",
       "    </tr>\n",
       "    <tr>\n",
       "      <th>662197</th>\n",
       "      <td>81446139</td>\n",
       "      <td>nan</td>\n",
       "      <td>10,000.00</td>\n",
       "      <td>10,000.00</td>\n",
       "      <td>10,000.00</td>\n",
       "      <td>36 months</td>\n",
       "      <td>7.39</td>\n",
       "      <td>310.56</td>\n",
       "      <td>A</td>\n",
       "      <td>A4</td>\n",
       "      <td>NaN</td>\n",
       "      <td>NaN</td>\n",
       "      <td>MORTGAGE</td>\n",
       "      <td>92,500.00</td>\n",
       "      <td>Not Verified</td>\n",
       "      <td>Jun-2016</td>\n",
       "      <td>Current</td>\n",
       "      <td>n</td>\n",
       "      <td>https://lendingclub.com/browse/loanDetail.action?loan_id=81446139</td>\n",
       "      <td>NaN</td>\n",
       "      <td>debt_consolidation</td>\n",
       "      <td>Debt consolidation</td>\n",
       "      <td>488xx</td>\n",
       "      <td>MI</td>\n",
       "      <td>20.59</td>\n",
       "      <td>0.00</td>\n",
       "      <td>Feb-1999</td>\n",
       "      <td>700.00</td>\n",
       "      <td>704.00</td>\n",
       "      <td>1.00</td>\n",
       "      <td>36.00</td>\n",
       "      <td>52.00</td>\n",
       "      <td>14.00</td>\n",
       "      <td>1.00</td>\n",
       "      <td>6,502.00</td>\n",
       "      <td>29.20</td>\n",
       "      <td>37.00</td>\n",
       "      <td>w</td>\n",
       "      <td>922.07</td>\n",
       "      <td>922.07</td>\n",
       "      <td>10,264.90</td>\n",
       "      <td>10,264.90</td>\n",
       "      <td>9,077.93</td>\n",
       "      <td>1,186.97</td>\n",
       "      <td>0.00</td>\n",
       "      <td>0.00</td>\n",
       "      <td>0.00</td>\n",
       "      <td>Mar-2019</td>\n",
       "      <td>310.56</td>\n",
       "      <td>Apr-2019</td>\n",
       "      <td>Mar-2019</td>\n",
       "      <td>759.00</td>\n",
       "      <td>755.00</td>\n",
       "      <td>0.00</td>\n",
       "      <td>50.00</td>\n",
       "      <td>1.00</td>\n",
       "      <td>Individual</td>\n",
       "      <td>nan</td>\n",
       "      <td>nan</td>\n",
       "      <td>NaN</td>\n",
       "      <td>0.00</td>\n",
       "      <td>0.00</td>\n",
       "      <td>276,587.00</td>\n",
       "      <td>2.00</td>\n",
       "      <td>4.00</td>\n",
       "      <td>2.00</td>\n",
       "      <td>4.00</td>\n",
       "      <td>6.00</td>\n",
       "      <td>44,614.00</td>\n",
       "      <td>66.00</td>\n",
       "      <td>1.00</td>\n",
       "      <td>1.00</td>\n",
       "      <td>2,006.00</td>\n",
       "      <td>47.00</td>\n",
       "      <td>22,300.00</td>\n",
       "      <td>2.00</td>\n",
       "      <td>5.00</td>\n",
       "      <td>4.00</td>\n",
       "      <td>5.00</td>\n",
       "      <td>19,756.00</td>\n",
       "      <td>1,121.00</td>\n",
       "      <td>67.00</td>\n",
       "      <td>0.00</td>\n",
       "      <td>0.00</td>\n",
       "      <td>207.00</td>\n",
       "      <td>199.00</td>\n",
       "      <td>6.00</td>\n",
       "      <td>6.00</td>\n",
       "      <td>4.00</td>\n",
       "      <td>6.00</td>\n",
       "      <td>50.00</td>\n",
       "      <td>2.00</td>\n",
       "      <td>50.00</td>\n",
       "      <td>4.00</td>\n",
       "      <td>2.00</td>\n",
       "      <td>5.00</td>\n",
       "      <td>2.00</td>\n",
       "      <td>7.00</td>\n",
       "      <td>16.00</td>\n",
       "      <td>9.00</td>\n",
       "      <td>17.00</td>\n",
       "      <td>5.00</td>\n",
       "      <td>14.00</td>\n",
       "      <td>0.00</td>\n",
       "      <td>0.00</td>\n",
       "      <td>0.00</td>\n",
       "      <td>3.00</td>\n",
       "      <td>77.80</td>\n",
       "      <td>0.00</td>\n",
       "      <td>0.00</td>\n",
       "      <td>0.00</td>\n",
       "      <td>392,100.00</td>\n",
       "      <td>51,116.00</td>\n",
       "      <td>3,400.00</td>\n",
       "      <td>59,800.00</td>\n",
       "      <td>nan</td>\n",
       "      <td>nan</td>\n",
       "      <td>nan</td>\n",
       "      <td>NaN</td>\n",
       "      <td>nan</td>\n",
       "      <td>nan</td>\n",
       "      <td>nan</td>\n",
       "      <td>nan</td>\n",
       "      <td>nan</td>\n",
       "      <td>nan</td>\n",
       "      <td>nan</td>\n",
       "      <td>nan</td>\n",
       "      <td>nan</td>\n",
       "      <td>N</td>\n",
       "      <td>NaN</td>\n",
       "      <td>NaN</td>\n",
       "      <td>NaN</td>\n",
       "      <td>nan</td>\n",
       "      <td>nan</td>\n",
       "      <td>NaN</td>\n",
       "      <td>NaN</td>\n",
       "      <td>NaN</td>\n",
       "      <td>nan</td>\n",
       "      <td>nan</td>\n",
       "      <td>NaN</td>\n",
       "      <td>nan</td>\n",
       "      <td>nan</td>\n",
       "      <td>nan</td>\n",
       "      <td>Cash</td>\n",
       "      <td>N</td>\n",
       "      <td>NaN</td>\n",
       "      <td>NaN</td>\n",
       "      <td>NaN</td>\n",
       "      <td>nan</td>\n",
       "      <td>nan</td>\n",
       "      <td>nan</td>\n",
       "    </tr>\n",
       "    <tr>\n",
       "      <th>30081</th>\n",
       "      <td>66532067</td>\n",
       "      <td>nan</td>\n",
       "      <td>4,000.00</td>\n",
       "      <td>4,000.00</td>\n",
       "      <td>4,000.00</td>\n",
       "      <td>36 months</td>\n",
       "      <td>13.67</td>\n",
       "      <td>136.08</td>\n",
       "      <td>C</td>\n",
       "      <td>C4</td>\n",
       "      <td>Business Development Manager</td>\n",
       "      <td>3 years</td>\n",
       "      <td>MORTGAGE</td>\n",
       "      <td>38,000.00</td>\n",
       "      <td>Verified</td>\n",
       "      <td>Dec-2015</td>\n",
       "      <td>Fully Paid</td>\n",
       "      <td>n</td>\n",
       "      <td>https://lendingclub.com/browse/loanDetail.action?loan_id=66532067</td>\n",
       "      <td>NaN</td>\n",
       "      <td>debt_consolidation</td>\n",
       "      <td>Debt consolidation</td>\n",
       "      <td>554xx</td>\n",
       "      <td>MN</td>\n",
       "      <td>16.90</td>\n",
       "      <td>0.00</td>\n",
       "      <td>May-2002</td>\n",
       "      <td>660.00</td>\n",
       "      <td>664.00</td>\n",
       "      <td>0.00</td>\n",
       "      <td>44.00</td>\n",
       "      <td>nan</td>\n",
       "      <td>6.00</td>\n",
       "      <td>0.00</td>\n",
       "      <td>8,759.00</td>\n",
       "      <td>87.60</td>\n",
       "      <td>16.00</td>\n",
       "      <td>w</td>\n",
       "      <td>0.00</td>\n",
       "      <td>0.00</td>\n",
       "      <td>4,894.45</td>\n",
       "      <td>4,894.45</td>\n",
       "      <td>4,000.00</td>\n",
       "      <td>894.45</td>\n",
       "      <td>0.00</td>\n",
       "      <td>0.00</td>\n",
       "      <td>0.00</td>\n",
       "      <td>Jan-2019</td>\n",
       "      <td>1.65</td>\n",
       "      <td>NaN</td>\n",
       "      <td>Mar-2019</td>\n",
       "      <td>634.00</td>\n",
       "      <td>630.00</td>\n",
       "      <td>0.00</td>\n",
       "      <td>45.00</td>\n",
       "      <td>1.00</td>\n",
       "      <td>Individual</td>\n",
       "      <td>nan</td>\n",
       "      <td>nan</td>\n",
       "      <td>NaN</td>\n",
       "      <td>0.00</td>\n",
       "      <td>0.00</td>\n",
       "      <td>18,557.00</td>\n",
       "      <td>nan</td>\n",
       "      <td>nan</td>\n",
       "      <td>nan</td>\n",
       "      <td>nan</td>\n",
       "      <td>nan</td>\n",
       "      <td>nan</td>\n",
       "      <td>nan</td>\n",
       "      <td>nan</td>\n",
       "      <td>nan</td>\n",
       "      <td>nan</td>\n",
       "      <td>nan</td>\n",
       "      <td>10,000.00</td>\n",
       "      <td>nan</td>\n",
       "      <td>nan</td>\n",
       "      <td>nan</td>\n",
       "      <td>3.00</td>\n",
       "      <td>3,711.00</td>\n",
       "      <td>541.00</td>\n",
       "      <td>94.20</td>\n",
       "      <td>0.00</td>\n",
       "      <td>0.00</td>\n",
       "      <td>127.00</td>\n",
       "      <td>163.00</td>\n",
       "      <td>11.00</td>\n",
       "      <td>8.00</td>\n",
       "      <td>1.00</td>\n",
       "      <td>11.00</td>\n",
       "      <td>nan</td>\n",
       "      <td>8.00</td>\n",
       "      <td>44.00</td>\n",
       "      <td>1.00</td>\n",
       "      <td>2.00</td>\n",
       "      <td>2.00</td>\n",
       "      <td>4.00</td>\n",
       "      <td>6.00</td>\n",
       "      <td>5.00</td>\n",
       "      <td>5.00</td>\n",
       "      <td>10.00</td>\n",
       "      <td>2.00</td>\n",
       "      <td>6.00</td>\n",
       "      <td>0.00</td>\n",
       "      <td>0.00</td>\n",
       "      <td>0.00</td>\n",
       "      <td>2.00</td>\n",
       "      <td>81.20</td>\n",
       "      <td>66.70</td>\n",
       "      <td>0.00</td>\n",
       "      <td>0.00</td>\n",
       "      <td>20,235.00</td>\n",
       "      <td>18,557.00</td>\n",
       "      <td>9,300.00</td>\n",
       "      <td>10,235.00</td>\n",
       "      <td>nan</td>\n",
       "      <td>nan</td>\n",
       "      <td>nan</td>\n",
       "      <td>NaN</td>\n",
       "      <td>nan</td>\n",
       "      <td>nan</td>\n",
       "      <td>nan</td>\n",
       "      <td>nan</td>\n",
       "      <td>nan</td>\n",
       "      <td>nan</td>\n",
       "      <td>nan</td>\n",
       "      <td>nan</td>\n",
       "      <td>nan</td>\n",
       "      <td>N</td>\n",
       "      <td>NaN</td>\n",
       "      <td>NaN</td>\n",
       "      <td>NaN</td>\n",
       "      <td>nan</td>\n",
       "      <td>nan</td>\n",
       "      <td>NaN</td>\n",
       "      <td>NaN</td>\n",
       "      <td>NaN</td>\n",
       "      <td>nan</td>\n",
       "      <td>nan</td>\n",
       "      <td>NaN</td>\n",
       "      <td>nan</td>\n",
       "      <td>nan</td>\n",
       "      <td>nan</td>\n",
       "      <td>Cash</td>\n",
       "      <td>N</td>\n",
       "      <td>NaN</td>\n",
       "      <td>NaN</td>\n",
       "      <td>NaN</td>\n",
       "      <td>nan</td>\n",
       "      <td>nan</td>\n",
       "      <td>nan</td>\n",
       "    </tr>\n",
       "    <tr>\n",
       "      <th>438631</th>\n",
       "      <td>129983166</td>\n",
       "      <td>nan</td>\n",
       "      <td>8,000.00</td>\n",
       "      <td>8,000.00</td>\n",
       "      <td>8,000.00</td>\n",
       "      <td>36 months</td>\n",
       "      <td>14.07</td>\n",
       "      <td>273.70</td>\n",
       "      <td>C</td>\n",
       "      <td>C3</td>\n",
       "      <td>NaN</td>\n",
       "      <td>NaN</td>\n",
       "      <td>OWN</td>\n",
       "      <td>0.00</td>\n",
       "      <td>Verified</td>\n",
       "      <td>Mar-2018</td>\n",
       "      <td>Current</td>\n",
       "      <td>n</td>\n",
       "      <td>https://lendingclub.com/browse/loanDetail.action?loan_id=129983166</td>\n",
       "      <td>NaN</td>\n",
       "      <td>other</td>\n",
       "      <td>Other</td>\n",
       "      <td>077xx</td>\n",
       "      <td>NJ</td>\n",
       "      <td>nan</td>\n",
       "      <td>0.00</td>\n",
       "      <td>Oct-1992</td>\n",
       "      <td>770.00</td>\n",
       "      <td>774.00</td>\n",
       "      <td>1.00</td>\n",
       "      <td>nan</td>\n",
       "      <td>nan</td>\n",
       "      <td>10.00</td>\n",
       "      <td>0.00</td>\n",
       "      <td>5,142.00</td>\n",
       "      <td>6.00</td>\n",
       "      <td>11.00</td>\n",
       "      <td>w</td>\n",
       "      <td>5,696.40</td>\n",
       "      <td>5,696.40</td>\n",
       "      <td>3,278.15</td>\n",
       "      <td>3,278.15</td>\n",
       "      <td>2,303.60</td>\n",
       "      <td>974.55</td>\n",
       "      <td>0.00</td>\n",
       "      <td>0.00</td>\n",
       "      <td>0.00</td>\n",
       "      <td>Mar-2019</td>\n",
       "      <td>273.70</td>\n",
       "      <td>Apr-2019</td>\n",
       "      <td>Mar-2019</td>\n",
       "      <td>799.00</td>\n",
       "      <td>795.00</td>\n",
       "      <td>0.00</td>\n",
       "      <td>nan</td>\n",
       "      <td>1.00</td>\n",
       "      <td>Joint App</td>\n",
       "      <td>46,000.00</td>\n",
       "      <td>34.14</td>\n",
       "      <td>Verified</td>\n",
       "      <td>0.00</td>\n",
       "      <td>0.00</td>\n",
       "      <td>5,142.00</td>\n",
       "      <td>0.00</td>\n",
       "      <td>0.00</td>\n",
       "      <td>0.00</td>\n",
       "      <td>0.00</td>\n",
       "      <td>nan</td>\n",
       "      <td>0.00</td>\n",
       "      <td>nan</td>\n",
       "      <td>0.00</td>\n",
       "      <td>2.00</td>\n",
       "      <td>2,991.00</td>\n",
       "      <td>6.00</td>\n",
       "      <td>85,200.00</td>\n",
       "      <td>0.00</td>\n",
       "      <td>0.00</td>\n",
       "      <td>4.00</td>\n",
       "      <td>2.00</td>\n",
       "      <td>514.00</td>\n",
       "      <td>67,058.00</td>\n",
       "      <td>7.10</td>\n",
       "      <td>0.00</td>\n",
       "      <td>0.00</td>\n",
       "      <td>nan</td>\n",
       "      <td>305.00</td>\n",
       "      <td>13.00</td>\n",
       "      <td>13.00</td>\n",
       "      <td>0.00</td>\n",
       "      <td>13.00</td>\n",
       "      <td>nan</td>\n",
       "      <td>1.00</td>\n",
       "      <td>nan</td>\n",
       "      <td>0.00</td>\n",
       "      <td>3.00</td>\n",
       "      <td>3.00</td>\n",
       "      <td>6.00</td>\n",
       "      <td>6.00</td>\n",
       "      <td>0.00</td>\n",
       "      <td>10.00</td>\n",
       "      <td>11.00</td>\n",
       "      <td>3.00</td>\n",
       "      <td>10.00</td>\n",
       "      <td>0.00</td>\n",
       "      <td>0.00</td>\n",
       "      <td>0.00</td>\n",
       "      <td>0.00</td>\n",
       "      <td>100.00</td>\n",
       "      <td>0.00</td>\n",
       "      <td>0.00</td>\n",
       "      <td>0.00</td>\n",
       "      <td>85,200.00</td>\n",
       "      <td>5,142.00</td>\n",
       "      <td>72,200.00</td>\n",
       "      <td>0.00</td>\n",
       "      <td>24,228.00</td>\n",
       "      <td>550.00</td>\n",
       "      <td>554.00</td>\n",
       "      <td>Oct-2011</td>\n",
       "      <td>2.00</td>\n",
       "      <td>0.00</td>\n",
       "      <td>11.00</td>\n",
       "      <td>78.90</td>\n",
       "      <td>1.00</td>\n",
       "      <td>11.00</td>\n",
       "      <td>0.00</td>\n",
       "      <td>0.00</td>\n",
       "      <td>nan</td>\n",
       "      <td>N</td>\n",
       "      <td>NaN</td>\n",
       "      <td>NaN</td>\n",
       "      <td>NaN</td>\n",
       "      <td>nan</td>\n",
       "      <td>nan</td>\n",
       "      <td>NaN</td>\n",
       "      <td>NaN</td>\n",
       "      <td>NaN</td>\n",
       "      <td>nan</td>\n",
       "      <td>nan</td>\n",
       "      <td>NaN</td>\n",
       "      <td>nan</td>\n",
       "      <td>nan</td>\n",
       "      <td>nan</td>\n",
       "      <td>Cash</td>\n",
       "      <td>N</td>\n",
       "      <td>NaN</td>\n",
       "      <td>NaN</td>\n",
       "      <td>NaN</td>\n",
       "      <td>nan</td>\n",
       "      <td>nan</td>\n",
       "      <td>nan</td>\n",
       "    </tr>\n",
       "  </tbody>\n",
       "</table>\n",
       "</div>"
      ],
      "text/plain": [
       "                id  member_id  loan_amnt  funded_amnt  funded_amnt_inv  \\\n",
       "1323446   12435459        nan  26,050.00    26,050.00        26,050.00   \n",
       "2056641  125828259        nan   4,600.00     4,600.00         4,600.00   \n",
       "662197    81446139        nan  10,000.00    10,000.00        10,000.00   \n",
       "30081     66532067        nan   4,000.00     4,000.00         4,000.00   \n",
       "438631   129983166        nan   8,000.00     8,000.00         8,000.00   \n",
       "\n",
       "               term  int_rate  installment grade sub_grade  \\\n",
       "1323446   60 months     16.59       641.69     D        D1   \n",
       "2056641   36 months      5.32       138.53     A        A1   \n",
       "662197    36 months      7.39       310.56     A        A4   \n",
       "30081     36 months     13.67       136.08     C        C4   \n",
       "438631    36 months     14.07       273.70     C        C3   \n",
       "\n",
       "                            emp_title emp_length home_ownership  annual_inc  \\\n",
       "1323446                 Store manager  10+ years       MORTGAGE  110,000.00   \n",
       "2056641                       Laborer  10+ years       MORTGAGE   44,000.00   \n",
       "662197                            NaN        NaN       MORTGAGE   92,500.00   \n",
       "30081    Business Development Manager    3 years       MORTGAGE   38,000.00   \n",
       "438631                            NaN        NaN            OWN        0.00   \n",
       "\n",
       "        verification_status   issue_d loan_status pymnt_plan  \\\n",
       "1323446            Verified  Feb-2014  Fully Paid          n   \n",
       "2056641        Not Verified  Dec-2017     Current          n   \n",
       "662197         Not Verified  Jun-2016     Current          n   \n",
       "30081              Verified  Dec-2015  Fully Paid          n   \n",
       "438631             Verified  Mar-2018     Current          n   \n",
       "\n",
       "                                                                        url  \\\n",
       "1323446   https://lendingclub.com/browse/loanDetail.action?loan_id=12435459   \n",
       "2056641  https://lendingclub.com/browse/loanDetail.action?loan_id=125828259   \n",
       "662197    https://lendingclub.com/browse/loanDetail.action?loan_id=81446139   \n",
       "30081     https://lendingclub.com/browse/loanDetail.action?loan_id=66532067   \n",
       "438631   https://lendingclub.com/browse/loanDetail.action?loan_id=129983166   \n",
       "\n",
       "        desc             purpose               title zip_code addr_state  \\\n",
       "1323446  NaN  debt_consolidation  Debt consolidation    496xx         MI   \n",
       "2056641  NaN    home_improvement    Home improvement    891xx         NV   \n",
       "662197   NaN  debt_consolidation  Debt consolidation    488xx         MI   \n",
       "30081    NaN  debt_consolidation  Debt consolidation    554xx         MN   \n",
       "438631   NaN               other               Other    077xx         NJ   \n",
       "\n",
       "          dti  delinq_2yrs earliest_cr_line  fico_range_low  fico_range_high  \\\n",
       "1323446 25.20         0.00         Nov-1999          690.00           694.00   \n",
       "2056641 18.93         0.00         Nov-2004          805.00           809.00   \n",
       "662197  20.59         0.00         Feb-1999          700.00           704.00   \n",
       "30081   16.90         0.00         May-2002          660.00           664.00   \n",
       "438631    nan         0.00         Oct-1992          770.00           774.00   \n",
       "\n",
       "         inq_last_6mths  mths_since_last_delinq  mths_since_last_record  \\\n",
       "1323446            0.00                     nan                     nan   \n",
       "2056641            0.00                     nan                     nan   \n",
       "662197             1.00                   36.00                   52.00   \n",
       "30081              0.00                   44.00                     nan   \n",
       "438631             1.00                     nan                     nan   \n",
       "\n",
       "         open_acc  pub_rec  revol_bal  revol_util  total_acc  \\\n",
       "1323446     10.00     0.00  35,699.00       55.30      35.00   \n",
       "2056641      9.00     0.00   4,385.00       13.70      25.00   \n",
       "662197      14.00     1.00   6,502.00       29.20      37.00   \n",
       "30081        6.00     0.00   8,759.00       87.60      16.00   \n",
       "438631      10.00     0.00   5,142.00        6.00      11.00   \n",
       "\n",
       "        initial_list_status  out_prncp  out_prncp_inv  total_pymnt  \\\n",
       "1323446                   w       0.00           0.00    35,899.65   \n",
       "2056641                   w   2,771.88       2,771.88     2,082.03   \n",
       "662197                    w     922.07         922.07    10,264.90   \n",
       "30081                     w       0.00           0.00     4,894.45   \n",
       "438631                    w   5,696.40       5,696.40     3,278.15   \n",
       "\n",
       "         total_pymnt_inv  total_rec_prncp  total_rec_int  total_rec_late_fee  \\\n",
       "1323446        35,899.65        26,050.00       9,849.65                0.00   \n",
       "2056641         2,082.03         1,828.12         253.91                0.00   \n",
       "662197         10,264.90         9,077.93       1,186.97                0.00   \n",
       "30081           4,894.45         4,000.00         894.45                0.00   \n",
       "438631          3,278.15         2,303.60         974.55                0.00   \n",
       "\n",
       "         recoveries  collection_recovery_fee last_pymnt_d  last_pymnt_amnt  \\\n",
       "1323446        0.00                     0.00     Dec-2016        14,739.85   \n",
       "2056641        0.00                     0.00     Mar-2019           138.53   \n",
       "662197         0.00                     0.00     Mar-2019           310.56   \n",
       "30081          0.00                     0.00     Jan-2019             1.65   \n",
       "438631         0.00                     0.00     Mar-2019           273.70   \n",
       "\n",
       "        next_pymnt_d last_credit_pull_d  last_fico_range_high  \\\n",
       "1323446          NaN           Jul-2017                719.00   \n",
       "2056641     Apr-2019           Mar-2019                824.00   \n",
       "662197      Apr-2019           Mar-2019                759.00   \n",
       "30081            NaN           Mar-2019                634.00   \n",
       "438631      Apr-2019           Mar-2019                799.00   \n",
       "\n",
       "         last_fico_range_low  collections_12_mths_ex_med  \\\n",
       "1323446               715.00                        0.00   \n",
       "2056641               820.00                        0.00   \n",
       "662197                755.00                        0.00   \n",
       "30081                 630.00                        0.00   \n",
       "438631                795.00                        0.00   \n",
       "\n",
       "         mths_since_last_major_derog  policy_code application_type  \\\n",
       "1323446                          nan         1.00       Individual   \n",
       "2056641                          nan         1.00        Joint App   \n",
       "662197                         50.00         1.00       Individual   \n",
       "30081                          45.00         1.00       Individual   \n",
       "438631                           nan         1.00        Joint App   \n",
       "\n",
       "         annual_inc_joint  dti_joint verification_status_joint  \\\n",
       "1323446               nan        nan                       NaN   \n",
       "2056641         72,000.00      12.50              Not Verified   \n",
       "662197                nan        nan                       NaN   \n",
       "30081                 nan        nan                       NaN   \n",
       "438631          46,000.00      34.14                  Verified   \n",
       "\n",
       "         acc_now_delinq  tot_coll_amt  tot_cur_bal  open_acc_6m  open_act_il  \\\n",
       "1323446            0.00          0.00   305,574.00          nan          nan   \n",
       "2056641            0.00          0.00   189,980.00         1.00         2.00   \n",
       "662197             0.00          0.00   276,587.00         2.00         4.00   \n",
       "30081              0.00          0.00    18,557.00          nan          nan   \n",
       "438631             0.00          0.00     5,142.00         0.00         0.00   \n",
       "\n",
       "         open_il_12m  open_il_24m  mths_since_rcnt_il  total_bal_il  il_util  \\\n",
       "1323446          nan          nan                 nan           nan      nan   \n",
       "2056641         1.00         2.00                5.00     19,095.00    72.00   \n",
       "662197          2.00         4.00                6.00     44,614.00    66.00   \n",
       "30081            nan          nan                 nan           nan      nan   \n",
       "438631          0.00         0.00                 nan          0.00      nan   \n",
       "\n",
       "         open_rv_12m  open_rv_24m  max_bal_bc  all_util  total_rev_hi_lim  \\\n",
       "1323446          nan          nan         nan       nan         64,600.00   \n",
       "2056641         0.00         1.00      153.00     40.00         32,100.00   \n",
       "662197          1.00         1.00    2,006.00     47.00         22,300.00   \n",
       "30081            nan          nan         nan       nan         10,000.00   \n",
       "438631          0.00         2.00    2,991.00      6.00         85,200.00   \n",
       "\n",
       "         inq_fi  total_cu_tl  inq_last_12m  acc_open_past_24mths  avg_cur_bal  \\\n",
       "1323446     nan          nan           nan                  8.00    30,557.00   \n",
       "2056641    3.00         5.00          2.00                  3.00    23,748.00   \n",
       "662197     2.00         5.00          4.00                  5.00    19,756.00   \n",
       "30081       nan          nan           nan                  3.00     3,711.00   \n",
       "438631     0.00         0.00          4.00                  2.00       514.00   \n",
       "\n",
       "         bc_open_to_buy  bc_util  chargeoff_within_12_mths  delinq_amnt  \\\n",
       "1323446       28,323.00    52.60                      0.00         0.00   \n",
       "2056641       15,575.00     1.40                      0.00         0.00   \n",
       "662197         1,121.00    67.00                      0.00         0.00   \n",
       "30081            541.00    94.20                      0.00         0.00   \n",
       "438631        67,058.00     7.10                      0.00         0.00   \n",
       "\n",
       "         mo_sin_old_il_acct  mo_sin_old_rev_tl_op  mo_sin_rcnt_rev_tl_op  \\\n",
       "1323446              171.00                170.00                   4.00   \n",
       "2056641              119.00                157.00                  20.00   \n",
       "662197               207.00                199.00                   6.00   \n",
       "30081                127.00                163.00                  11.00   \n",
       "438631                  nan                305.00                  13.00   \n",
       "\n",
       "         mo_sin_rcnt_tl  mort_acc  mths_since_recent_bc  \\\n",
       "1323446            4.00      7.00                  4.00   \n",
       "2056641            5.00      2.00                 38.00   \n",
       "662197             6.00      4.00                  6.00   \n",
       "30081              8.00      1.00                 11.00   \n",
       "438631            13.00      0.00                 13.00   \n",
       "\n",
       "         mths_since_recent_bc_dlq  mths_since_recent_inq  \\\n",
       "1323446                       nan                   8.00   \n",
       "2056641                       nan                   1.00   \n",
       "662197                      50.00                   2.00   \n",
       "30081                         nan                   8.00   \n",
       "438631                        nan                   1.00   \n",
       "\n",
       "         mths_since_recent_revol_delinq  num_accts_ever_120_pd  \\\n",
       "1323446                             nan                   0.00   \n",
       "2056641                             nan                   0.00   \n",
       "662197                            50.00                   4.00   \n",
       "30081                             44.00                   1.00   \n",
       "438631                              nan                   0.00   \n",
       "\n",
       "         num_actv_bc_tl  num_actv_rev_tl  num_bc_sats  num_bc_tl  num_il_tl  \\\n",
       "1323446            3.00             5.00         4.00       7.00      12.00   \n",
       "2056641            2.00             3.00         3.00       6.00      12.00   \n",
       "662197             2.00             5.00         2.00       7.00      16.00   \n",
       "30081              2.00             2.00         4.00       6.00       5.00   \n",
       "438631             3.00             3.00         6.00       6.00       0.00   \n",
       "\n",
       "         num_op_rev_tl  num_rev_accts  num_rev_tl_bal_gt_0  num_sats  \\\n",
       "1323446           7.00          15.00                 5.00     10.00   \n",
       "2056641           6.00          11.00                 3.00      9.00   \n",
       "662197            9.00          17.00                 5.00     14.00   \n",
       "30081             5.00          10.00                 2.00      6.00   \n",
       "438631           10.00          11.00                 3.00     10.00   \n",
       "\n",
       "         num_tl_120dpd_2m  num_tl_30dpd  num_tl_90g_dpd_24m  \\\n",
       "1323446              0.00          0.00                0.00   \n",
       "2056641              0.00          0.00                0.00   \n",
       "662197               0.00          0.00                0.00   \n",
       "30081                0.00          0.00                0.00   \n",
       "438631               0.00          0.00                0.00   \n",
       "\n",
       "         num_tl_op_past_12m  pct_tl_nvr_dlq  percent_bc_gt_75  \\\n",
       "1323446                5.00          100.00             75.00   \n",
       "2056641                1.00          100.00              0.00   \n",
       "662197                 3.00           77.80              0.00   \n",
       "30081                  2.00           81.20             66.70   \n",
       "438631                 0.00          100.00              0.00   \n",
       "\n",
       "         pub_rec_bankruptcies  tax_liens  tot_hi_cred_lim  total_bal_ex_mort  \\\n",
       "1323446                  0.00       0.00       355,180.00          66,015.00   \n",
       "2056641                  0.00       0.00       234,758.00          23,480.00   \n",
       "662197                   0.00       0.00       392,100.00          51,116.00   \n",
       "30081                    0.00       0.00        20,235.00          18,557.00   \n",
       "438631                   0.00       0.00        85,200.00           5,142.00   \n",
       "\n",
       "         total_bc_limit  total_il_high_credit_limit  revol_bal_joint  \\\n",
       "1323446       59,800.00                   48,425.00              nan   \n",
       "2056641       15,800.00                   26,410.00        15,452.00   \n",
       "662197         3,400.00                   59,800.00              nan   \n",
       "30081          9,300.00                   10,235.00              nan   \n",
       "438631        72,200.00                        0.00        24,228.00   \n",
       "\n",
       "         sec_app_fico_range_low  sec_app_fico_range_high  \\\n",
       "1323446                     nan                      nan   \n",
       "2056641                  775.00                   779.00   \n",
       "662197                      nan                      nan   \n",
       "30081                       nan                      nan   \n",
       "438631                   550.00                   554.00   \n",
       "\n",
       "        sec_app_earliest_cr_line  sec_app_inq_last_6mths  sec_app_mort_acc  \\\n",
       "1323446                      NaN                     nan               nan   \n",
       "2056641                 Jun-2011                    0.00              2.00   \n",
       "662197                       NaN                     nan               nan   \n",
       "30081                        NaN                     nan               nan   \n",
       "438631                  Oct-2011                    2.00              0.00   \n",
       "\n",
       "         sec_app_open_acc  sec_app_revol_util  sec_app_open_act_il  \\\n",
       "1323446               nan                 nan                  nan   \n",
       "2056641             11.00               20.30                 2.00   \n",
       "662197                nan                 nan                  nan   \n",
       "30081                 nan                 nan                  nan   \n",
       "438631              11.00               78.90                 1.00   \n",
       "\n",
       "         sec_app_num_rev_accts  sec_app_chargeoff_within_12_mths  \\\n",
       "1323446                    nan                               nan   \n",
       "2056641                   9.00                              0.00   \n",
       "662197                     nan                               nan   \n",
       "30081                      nan                               nan   \n",
       "438631                   11.00                              0.00   \n",
       "\n",
       "         sec_app_collections_12_mths_ex_med  \\\n",
       "1323446                                 nan   \n",
       "2056641                                0.00   \n",
       "662197                                  nan   \n",
       "30081                                   nan   \n",
       "438631                                 0.00   \n",
       "\n",
       "         sec_app_mths_since_last_major_derog hardship_flag hardship_type  \\\n",
       "1323446                                  nan             N           NaN   \n",
       "2056641                                  nan             N           NaN   \n",
       "662197                                   nan             N           NaN   \n",
       "30081                                    nan             N           NaN   \n",
       "438631                                   nan             N           NaN   \n",
       "\n",
       "        hardship_reason hardship_status  deferral_term  hardship_amount  \\\n",
       "1323446             NaN             NaN            nan              nan   \n",
       "2056641             NaN             NaN            nan              nan   \n",
       "662197              NaN             NaN            nan              nan   \n",
       "30081               NaN             NaN            nan              nan   \n",
       "438631              NaN             NaN            nan              nan   \n",
       "\n",
       "        hardship_start_date hardship_end_date payment_plan_start_date  \\\n",
       "1323446                 NaN               NaN                     NaN   \n",
       "2056641                 NaN               NaN                     NaN   \n",
       "662197                  NaN               NaN                     NaN   \n",
       "30081                   NaN               NaN                     NaN   \n",
       "438631                  NaN               NaN                     NaN   \n",
       "\n",
       "         hardship_length  hardship_dpd hardship_loan_status  \\\n",
       "1323446              nan           nan                  NaN   \n",
       "2056641              nan           nan                  NaN   \n",
       "662197               nan           nan                  NaN   \n",
       "30081                nan           nan                  NaN   \n",
       "438631               nan           nan                  NaN   \n",
       "\n",
       "         orig_projected_additional_accrued_interest  \\\n",
       "1323446                                         nan   \n",
       "2056641                                         nan   \n",
       "662197                                          nan   \n",
       "30081                                           nan   \n",
       "438631                                          nan   \n",
       "\n",
       "         hardship_payoff_balance_amount  hardship_last_payment_amount  \\\n",
       "1323446                             nan                           nan   \n",
       "2056641                             nan                           nan   \n",
       "662197                              nan                           nan   \n",
       "30081                               nan                           nan   \n",
       "438631                              nan                           nan   \n",
       "\n",
       "        disbursement_method debt_settlement_flag debt_settlement_flag_date  \\\n",
       "1323446                Cash                    N                       NaN   \n",
       "2056641                Cash                    N                       NaN   \n",
       "662197                 Cash                    N                       NaN   \n",
       "30081                  Cash                    N                       NaN   \n",
       "438631                 Cash                    N                       NaN   \n",
       "\n",
       "        settlement_status settlement_date  settlement_amount  \\\n",
       "1323446               NaN             NaN                nan   \n",
       "2056641               NaN             NaN                nan   \n",
       "662197                NaN             NaN                nan   \n",
       "30081                 NaN             NaN                nan   \n",
       "438631                NaN             NaN                nan   \n",
       "\n",
       "         settlement_percentage  settlement_term  \n",
       "1323446                    nan              nan  \n",
       "2056641                    nan              nan  \n",
       "662197                     nan              nan  \n",
       "30081                      nan              nan  \n",
       "438631                     nan              nan  "
      ]
     },
     "execution_count": 7,
     "metadata": {},
     "output_type": "execute_result"
    }
   ],
   "source": [
    "loans.head(5)"
   ]
  },
  {
   "cell_type": "code",
   "execution_count": 8,
   "metadata": {},
   "outputs": [
    {
     "data": {
      "text/plain": [
       "(22607, 151)"
      ]
     },
     "execution_count": 8,
     "metadata": {},
     "output_type": "execute_result"
    }
   ],
   "source": [
    "loans.shape"
   ]
  },
  {
   "cell_type": "code",
   "execution_count": null,
   "metadata": {},
   "outputs": [],
   "source": []
  },
  {
   "cell_type": "markdown",
   "metadata": {},
   "source": [
    "## Target Variable"
   ]
  },
  {
   "cell_type": "markdown",
   "metadata": {},
   "source": [
    "The Target Variable in this loan data is \"Loan_Status\", which we focus more on either loan status is \"Fully Paid\" or Charged Off. Will check on value counts of \"Loan_Status\" variable."
   ]
  },
  {
   "cell_type": "code",
   "execution_count": 9,
   "metadata": {},
   "outputs": [
    {
     "data": {
      "text/plain": [
       "Fully Paid                                             10890\n",
       "Current                                                 8723\n",
       "Charged Off                                             2646\n",
       "Late (31-120 days)                                       204\n",
       "In Grace Period                                           78\n",
       "Late (16-30 days)                                         43\n",
       "Does not meet the credit policy. Status:Fully Paid        15\n",
       "Does not meet the credit policy. Status:Charged Off        8\n",
       "Name: loan_status, dtype: int64"
      ]
     },
     "execution_count": 9,
     "metadata": {},
     "output_type": "execute_result"
    }
   ],
   "source": [
    "loans['loan_status'].value_counts(dropna=False) "
   ]
  },
  {
   "cell_type": "markdown",
   "metadata": {},
   "source": [
    "Will exclude the loans which status are in Current,Late (31-120 days),In Grace Period,Late (16-30 days),Does not meet the credit policy. Status:Fully Paid,Does not meet the credit policy. Status:Charged Off,Default and missing status"
   ]
  },
  {
   "cell_type": "code",
   "execution_count": 10,
   "metadata": {},
   "outputs": [],
   "source": [
    "loans = loans.loc[loans['loan_status'].isin(['Fully Paid', 'Charged Off'])] #Ignore other loan_status"
   ]
  },
  {
   "cell_type": "markdown",
   "metadata": {},
   "source": [
    "Loan_Status counts as percentages"
   ]
  },
  {
   "cell_type": "code",
   "execution_count": 12,
   "metadata": {},
   "outputs": [
    {
     "data": {
      "text/plain": [
       "Fully Paid    0.80\n",
       "Charged Off   0.20\n",
       "Name: loan_status, dtype: float64"
      ]
     },
     "execution_count": 12,
     "metadata": {},
     "output_type": "execute_result"
    }
   ],
   "source": [
    "loans['loan_status'].value_counts(normalize=True, dropna=False)"
   ]
  },
  {
   "cell_type": "markdown",
   "metadata": {},
   "source": [
    "80% are Fully Paid, 20% are Charged Off "
   ]
  },
  {
   "cell_type": "code",
   "execution_count": null,
   "metadata": {},
   "outputs": [],
   "source": []
  },
  {
   "cell_type": "markdown",
   "metadata": {},
   "source": [
    "## Data Preparation"
   ]
  },
  {
   "cell_type": "markdown",
   "metadata": {},
   "source": [
    "Drop columns with >30% data missing"
   ]
  },
  {
   "cell_type": "markdown",
   "metadata": {},
   "source": [
    "Calculate the missing data percentages of each feature"
   ]
  },
  {
   "cell_type": "code",
   "execution_count": 13,
   "metadata": {},
   "outputs": [],
   "source": [
    "missing_data = loans.isnull().mean().sort_values(ascending=False) #calculate % of missing data"
   ]
  },
  {
   "cell_type": "code",
   "execution_count": 14,
   "metadata": {},
   "outputs": [
    {
     "name": "stdout",
     "output_type": "stream",
     "text": [
      "['all_util', 'annual_inc_joint', 'debt_settlement_flag_date', 'deferral_term', 'desc', 'dti_joint', 'hardship_amount', 'hardship_dpd', 'hardship_end_date', 'hardship_last_payment_amount', 'hardship_length', 'hardship_loan_status', 'hardship_payoff_balance_amount', 'hardship_reason', 'hardship_start_date', 'hardship_status', 'hardship_type', 'il_util', 'inq_fi', 'inq_last_12m', 'max_bal_bc', 'member_id', 'mths_since_last_delinq', 'mths_since_last_major_derog', 'mths_since_last_record', 'mths_since_rcnt_il', 'mths_since_recent_bc_dlq', 'mths_since_recent_revol_delinq', 'next_pymnt_d', 'open_acc_6m', 'open_act_il', 'open_il_12m', 'open_il_24m', 'open_rv_12m', 'open_rv_24m', 'orig_projected_additional_accrued_interest', 'payment_plan_start_date', 'revol_bal_joint', 'sec_app_chargeoff_within_12_mths', 'sec_app_collections_12_mths_ex_med', 'sec_app_earliest_cr_line', 'sec_app_fico_range_high', 'sec_app_fico_range_low', 'sec_app_inq_last_6mths', 'sec_app_mort_acc', 'sec_app_mths_since_last_major_derog', 'sec_app_num_rev_accts', 'sec_app_open_acc', 'sec_app_open_act_il', 'sec_app_revol_util', 'settlement_amount', 'settlement_date', 'settlement_percentage', 'settlement_status', 'settlement_term', 'total_bal_il', 'total_cu_tl', 'verification_status_joint']\n"
     ]
    }
   ],
   "source": [
    "drop_list = sorted(list(missing_data[missing_data > 0.3].index))\n",
    "print(drop_list)"
   ]
  },
  {
   "cell_type": "code",
   "execution_count": 15,
   "metadata": {},
   "outputs": [
    {
     "data": {
      "text/plain": [
       "58"
      ]
     },
     "execution_count": 15,
     "metadata": {},
     "output_type": "execute_result"
    }
   ],
   "source": [
    "len(drop_list) #Missing data >30% columns"
   ]
  },
  {
   "cell_type": "code",
   "execution_count": 16,
   "metadata": {},
   "outputs": [],
   "source": [
    "loans.drop(labels=drop_list, axis=1, inplace=True) # Drop columns"
   ]
  },
  {
   "cell_type": "code",
   "execution_count": null,
   "metadata": {},
   "outputs": [],
   "source": []
  },
  {
   "cell_type": "markdown",
   "metadata": {},
   "source": [
    "### Keep variables needed for Investors"
   ]
  },
  {
   "cell_type": "code",
   "execution_count": 17,
   "metadata": {},
   "outputs": [],
   "source": [
    "keep_list = ['addr_state', 'annual_inc', 'application_type', 'dti', 'earliest_cr_line', 'emp_length', 'emp_title', 'fico_range_high', 'fico_range_low', 'grade', 'home_ownership', 'id', 'initial_list_status', 'installment', 'int_rate', 'issue_d', 'loan_amnt', 'loan_status', 'mort_acc', 'open_acc', 'pub_rec', 'pub_rec_bankruptcies', 'purpose', 'revol_bal', 'revol_util', 'sub_grade', 'term', 'title', 'total_acc', 'verification_status', 'zip_code']"
   ]
  },
  {
   "cell_type": "code",
   "execution_count": 18,
   "metadata": {},
   "outputs": [
    {
     "data": {
      "text/plain": [
       "31"
      ]
     },
     "execution_count": 18,
     "metadata": {},
     "output_type": "execute_result"
    }
   ],
   "source": [
    "len(keep_list)"
   ]
  },
  {
   "cell_type": "code",
   "execution_count": 19,
   "metadata": {},
   "outputs": [
    {
     "name": "stdout",
     "output_type": "stream",
     "text": [
      "['funded_amnt', 'funded_amnt_inv', 'pymnt_plan', 'url', 'delinq_2yrs', 'inq_last_6mths', 'out_prncp', 'out_prncp_inv', 'total_pymnt', 'total_pymnt_inv', 'total_rec_prncp', 'total_rec_int', 'total_rec_late_fee', 'recoveries', 'collection_recovery_fee', 'last_pymnt_d', 'last_pymnt_amnt', 'last_credit_pull_d', 'last_fico_range_high', 'last_fico_range_low', 'collections_12_mths_ex_med', 'policy_code', 'acc_now_delinq', 'tot_coll_amt', 'tot_cur_bal', 'total_rev_hi_lim', 'acc_open_past_24mths', 'avg_cur_bal', 'bc_open_to_buy', 'bc_util', 'chargeoff_within_12_mths', 'delinq_amnt', 'mo_sin_old_il_acct', 'mo_sin_old_rev_tl_op', 'mo_sin_rcnt_rev_tl_op', 'mo_sin_rcnt_tl', 'mths_since_recent_bc', 'mths_since_recent_inq', 'num_accts_ever_120_pd', 'num_actv_bc_tl', 'num_actv_rev_tl', 'num_bc_sats', 'num_bc_tl', 'num_il_tl', 'num_op_rev_tl', 'num_rev_accts', 'num_rev_tl_bal_gt_0', 'num_sats', 'num_tl_120dpd_2m', 'num_tl_30dpd', 'num_tl_90g_dpd_24m', 'num_tl_op_past_12m', 'pct_tl_nvr_dlq', 'percent_bc_gt_75', 'tax_liens', 'tot_hi_cred_lim', 'total_bal_ex_mort', 'total_bc_limit', 'total_il_high_credit_limit', 'hardship_flag', 'disbursement_method', 'debt_settlement_flag']\n"
     ]
    }
   ],
   "source": [
    "drop_list = [col for col in loans.columns if col not in keep_list]\n",
    "print(drop_list) #List remaining features not needed for investors"
   ]
  },
  {
   "cell_type": "code",
   "execution_count": 20,
   "metadata": {},
   "outputs": [
    {
     "data": {
      "text/plain": [
       "62"
      ]
     },
     "execution_count": 20,
     "metadata": {},
     "output_type": "execute_result"
    }
   ],
   "source": [
    "len(drop_list)"
   ]
  },
  {
   "cell_type": "code",
   "execution_count": 21,
   "metadata": {},
   "outputs": [],
   "source": [
    "loans.drop(labels=drop_list, axis=1, inplace=True) #Drop Features"
   ]
  },
  {
   "cell_type": "code",
   "execution_count": 22,
   "metadata": {},
   "outputs": [
    {
     "data": {
      "text/plain": [
       "(13536, 31)"
      ]
     },
     "execution_count": 22,
     "metadata": {},
     "output_type": "execute_result"
    }
   ],
   "source": [
    "loans.shape #Remaining Columns"
   ]
  },
  {
   "cell_type": "code",
   "execution_count": null,
   "metadata": {},
   "outputs": [],
   "source": []
  },
  {
   "cell_type": "markdown",
   "metadata": {},
   "source": [
    "## Exploratory Data Analysis"
   ]
  },
  {
   "cell_type": "markdown",
   "metadata": {},
   "source": [
    "Check dtypes of columns "
   ]
  },
  {
   "cell_type": "code",
   "execution_count": 23,
   "metadata": {},
   "outputs": [
    {
     "data": {
      "text/plain": [
       "id                       object\n",
       "loan_amnt               float64\n",
       "term                     object\n",
       "int_rate                float64\n",
       "installment             float64\n",
       "grade                    object\n",
       "sub_grade                object\n",
       "emp_title                object\n",
       "emp_length               object\n",
       "home_ownership           object\n",
       "annual_inc              float64\n",
       "verification_status      object\n",
       "issue_d                  object\n",
       "loan_status              object\n",
       "purpose                  object\n",
       "title                    object\n",
       "zip_code                 object\n",
       "addr_state               object\n",
       "dti                     float64\n",
       "earliest_cr_line         object\n",
       "fico_range_low          float64\n",
       "fico_range_high         float64\n",
       "open_acc                float64\n",
       "pub_rec                 float64\n",
       "revol_bal               float64\n",
       "revol_util              float64\n",
       "total_acc               float64\n",
       "initial_list_status      object\n",
       "application_type         object\n",
       "mort_acc                float64\n",
       "pub_rec_bankruptcies    float64\n",
       "dtype: object"
      ]
     },
     "execution_count": 23,
     "metadata": {},
     "output_type": "execute_result"
    }
   ],
   "source": [
    "loans.dtypes"
   ]
  },
  {
   "cell_type": "code",
   "execution_count": 24,
   "metadata": {},
   "outputs": [
    {
     "data": {
      "text/plain": [
       "['id',\n",
       " 'term',\n",
       " 'grade',\n",
       " 'sub_grade',\n",
       " 'emp_title',\n",
       " 'emp_length',\n",
       " 'home_ownership',\n",
       " 'verification_status',\n",
       " 'issue_d',\n",
       " 'loan_status',\n",
       " 'purpose',\n",
       " 'title',\n",
       " 'zip_code',\n",
       " 'addr_state',\n",
       " 'earliest_cr_line',\n",
       " 'initial_list_status',\n",
       " 'application_type']"
      ]
     },
     "execution_count": 24,
     "metadata": {},
     "output_type": "execute_result"
    }
   ],
   "source": [
    "loans.select_dtypes(include=np.object).columns.tolist() # Object data type columns"
   ]
  },
  {
   "cell_type": "code",
   "execution_count": 25,
   "metadata": {},
   "outputs": [
    {
     "data": {
      "text/plain": [
       "['loan_amnt',\n",
       " 'int_rate',\n",
       " 'installment',\n",
       " 'annual_inc',\n",
       " 'dti',\n",
       " 'fico_range_low',\n",
       " 'fico_range_high',\n",
       " 'open_acc',\n",
       " 'pub_rec',\n",
       " 'revol_bal',\n",
       " 'revol_util',\n",
       " 'total_acc',\n",
       " 'mort_acc',\n",
       " 'pub_rec_bankruptcies']"
      ]
     },
     "execution_count": 25,
     "metadata": {},
     "output_type": "execute_result"
    }
   ],
   "source": [
    "loans.select_dtypes(include=np.float).columns.tolist() # Float data type columns"
   ]
  },
  {
   "cell_type": "markdown",
   "metadata": {},
   "source": [
    "### Analyzing Categorical data"
   ]
  },
  {
   "cell_type": "markdown",
   "metadata": {},
   "source": [
    "id', 'term', 'grade', 'sub_grade', 'emp_title', 'emp_length', 'home_ownership', 'verification_status',\n",
    "'issue_d', 'loan_status', 'purpose', 'title',  'zip_code', 'addr_state',  'earliest_cr_line', 'initial_list_status',\n",
    "'application_type'"
   ]
  },
  {
   "cell_type": "markdown",
   "metadata": {},
   "source": [
    "#### Id"
   ]
  },
  {
   "cell_type": "code",
   "execution_count": 26,
   "metadata": {},
   "outputs": [
    {
     "data": {
      "text/plain": [
       "count        13536\n",
       "unique       13536\n",
       "top       61308926\n",
       "freq             1\n",
       "Name: id, dtype: int64"
      ]
     },
     "execution_count": 26,
     "metadata": {},
     "output_type": "execute_result"
    }
   ],
   "source": [
    "loans['id'].describe() #Usually ID's are unique and independent keys"
   ]
  },
  {
   "cell_type": "code",
   "execution_count": 27,
   "metadata": {},
   "outputs": [],
   "source": [
    "loans.drop('id', axis=1, inplace=True) #drop id"
   ]
  },
  {
   "cell_type": "code",
   "execution_count": null,
   "metadata": {},
   "outputs": [],
   "source": []
  },
  {
   "cell_type": "markdown",
   "metadata": {},
   "source": [
    "#### Term"
   ]
  },
  {
   "cell_type": "code",
   "execution_count": 28,
   "metadata": {},
   "outputs": [
    {
     "data": {
      "text/plain": [
       " 36 months    10336\n",
       " 60 months     3200\n",
       "Name: term, dtype: int64"
      ]
     },
     "execution_count": 28,
     "metadata": {},
     "output_type": "execute_result"
    }
   ],
   "source": [
    "loans['term'].value_counts(dropna=False)"
   ]
  },
  {
   "cell_type": "code",
   "execution_count": 29,
   "metadata": {},
   "outputs": [],
   "source": [
    "loans['term'] = loans['term'].apply(lambda s: np.int8(s.split()[0])) #convert them into numericals"
   ]
  },
  {
   "cell_type": "code",
   "execution_count": 30,
   "metadata": {},
   "outputs": [
    {
     "data": {
      "text/plain": [
       "term\n",
       "36   0.16\n",
       "60   0.32\n",
       "Name: loan_status, dtype: float64"
      ]
     },
     "execution_count": 30,
     "metadata": {},
     "output_type": "execute_result"
    }
   ],
   "source": [
    "loans.groupby('term')['loan_status'].value_counts(normalize=True).loc[:,'Charged Off']"
   ]
  },
  {
   "cell_type": "markdown",
   "metadata": {},
   "source": [
    "Charge off rates for 60 months are 2x higher than for 36 months term"
   ]
  },
  {
   "cell_type": "code",
   "execution_count": null,
   "metadata": {},
   "outputs": [],
   "source": []
  },
  {
   "cell_type": "markdown",
   "metadata": {},
   "source": [
    "#### Grade and Sub Grade"
   ]
  },
  {
   "cell_type": "code",
   "execution_count": 31,
   "metadata": {},
   "outputs": [
    {
     "name": "stdout",
     "output_type": "stream",
     "text": [
      "['A', 'B', 'C', 'D', 'E', 'F', 'G']\n"
     ]
    }
   ],
   "source": [
    "print(sorted(loans['grade'].unique()))"
   ]
  },
  {
   "cell_type": "code",
   "execution_count": 32,
   "metadata": {},
   "outputs": [
    {
     "name": "stdout",
     "output_type": "stream",
     "text": [
      "['A1', 'A2', 'A3', 'A4', 'A5', 'B1', 'B2', 'B3', 'B4', 'B5', 'C1', 'C2', 'C3', 'C4', 'C5', 'D1', 'D2', 'D3', 'D4', 'D5', 'E1', 'E2', 'E3', 'E4', 'E5', 'F1', 'F2', 'F3', 'F4', 'F5', 'G1', 'G2', 'G3', 'G4', 'G5']\n"
     ]
    }
   ],
   "source": [
    "print(sorted(loans['sub_grade'].unique()))"
   ]
  },
  {
   "cell_type": "markdown",
   "metadata": {},
   "source": [
    "Both are same, drop one column either grade or sub grade, I am dropping grade column here"
   ]
  },
  {
   "cell_type": "code",
   "execution_count": 33,
   "metadata": {},
   "outputs": [],
   "source": [
    "loans.drop('grade', axis=1, inplace=True) #Drop grade"
   ]
  },
  {
   "cell_type": "code",
   "execution_count": 34,
   "metadata": {},
   "outputs": [],
   "source": [
    "def plot_var(col_name, full_name, continuous):  # plot function\n",
    "    \"\"\"\n",
    "    Visualize a variable with and without faceting on the loan status.\n",
    "    - col_name is the variable name in the dataframe\n",
    "    - full_name is the full variable name\n",
    "    - continuous is True if the variable is continuous, False otherwise\n",
    "    \"\"\"\n",
    "    f, (ax1, ax2) = plt.subplots(nrows=1, ncols=2, figsize=(12,3), dpi=90)\n",
    "    \n",
    "    # Plot without loan status\n",
    "    if continuous:\n",
    "        sns.distplot(loans.loc[loans[col_name].notnull(), col_name], kde=False, ax=ax1)\n",
    "    else:\n",
    "        sns.countplot(loans[col_name], order=sorted(loans[col_name].unique()), color='#5975A4', saturation=1, ax=ax1)\n",
    "    ax1.set_xlabel(full_name)\n",
    "    ax1.set_ylabel('Count')\n",
    "    ax1.set_title(full_name)\n",
    "\n",
    "    # Plot with loan status\n",
    "    if continuous:\n",
    "        sns.boxplot(x=col_name, y='loan_status', data=loans, ax=ax2)\n",
    "        ax2.set_ylabel('')\n",
    "        ax2.set_title(full_name + ' by Loan Status')\n",
    "    else:\n",
    "        charge_off_rates = loans.groupby(col_name)['loan_status'].value_counts(normalize=True).loc[:,'Charged Off']\n",
    "        sns.barplot(x=charge_off_rates.index, y=charge_off_rates.values, color='#5975A4', saturation=1, ax=ax2)\n",
    "        ax2.set_ylabel('Fraction of Loans Charged-off')\n",
    "        ax2.set_title('Charge-off Rate by ' + full_name)\n",
    "    ax2.set_xlabel(full_name)\n",
    "    \n",
    "    plt.tight_layout()"
   ]
  },
  {
   "cell_type": "code",
   "execution_count": 35,
   "metadata": {},
   "outputs": [
    {
     "name": "stderr",
     "output_type": "stream",
     "text": [
      "C:\\Users\\user\\miniconda3\\envs\\sm-202011\\lib\\site-packages\\seaborn\\_decorators.py:43: FutureWarning: Pass the following variable as a keyword arg: x. From version 0.12, the only valid positional argument will be `data`, and passing other arguments without an explicit keyword will result in an error or misinterpretation.\n",
      "  FutureWarning\n"
     ]
    },
    {
     "data": {
      "image/png": "[encoded data removed]",
      "text/plain": [
       "<Figure size 1080x270 with 2 Axes>"
      ]
     },
     "metadata": {},
     "output_type": "display_data"
    }
   ],
   "source": [
    "plot_var('sub_grade', 'Subgrade', continuous=False)"
   ]
  },
  {
   "cell_type": "markdown",
   "metadata": {},
   "source": [
    "From the above plot, we can find that charge off rates increases with sub grade"
   ]
  },
  {
   "cell_type": "code",
   "execution_count": null,
   "metadata": {},
   "outputs": [],
   "source": []
  },
  {
   "cell_type": "markdown",
   "metadata": {},
   "source": [
    "#### Employment title"
   ]
  },
  {
   "cell_type": "code",
   "execution_count": 36,
   "metadata": {},
   "outputs": [
    {
     "data": {
      "text/plain": [
       "count       12711\n",
       "unique       7984\n",
       "top       Teacher\n",
       "freq          187\n",
       "Name: emp_title, dtype: object"
      ]
     },
     "execution_count": 36,
     "metadata": {},
     "output_type": "execute_result"
    }
   ],
   "source": [
    "loans['emp_title'].describe()"
   ]
  },
  {
   "cell_type": "code",
   "execution_count": 37,
   "metadata": {},
   "outputs": [],
   "source": [
    "loans.drop(labels='emp_title', axis=1, inplace=True) #too many unique values"
   ]
  },
  {
   "cell_type": "code",
   "execution_count": null,
   "metadata": {},
   "outputs": [],
   "source": []
  },
  {
   "cell_type": "markdown",
   "metadata": {},
   "source": [
    "#### Employment length"
   ]
  },
  {
   "cell_type": "code",
   "execution_count": 38,
   "metadata": {},
   "outputs": [
    {
     "data": {
      "text/plain": [
       "1 year        928\n",
       "10+ years    4453\n",
       "2 years      1255\n",
       "3 years      1050\n",
       "4 years       779\n",
       "5 years       876\n",
       "6 years       637\n",
       "7 years       597\n",
       "8 years       582\n",
       "9 years       535\n",
       "< 1 year     1082\n",
       "NaN           762\n",
       "Name: emp_length, dtype: int64"
      ]
     },
     "execution_count": 38,
     "metadata": {},
     "output_type": "execute_result"
    }
   ],
   "source": [
    "loans['emp_length'].value_counts(dropna=False).sort_index()"
   ]
  },
  {
   "cell_type": "markdown",
   "metadata": {},
   "source": [
    "Remove years from emp_length variables and convert them into float"
   ]
  },
  {
   "cell_type": "code",
   "execution_count": 39,
   "metadata": {},
   "outputs": [],
   "source": [
    "loans['emp_length'].replace('< 1 year', '0 years', inplace=True) #Replace 0 years with 1 year"
   ]
  },
  {
   "cell_type": "code",
   "execution_count": 40,
   "metadata": {},
   "outputs": [],
   "source": [
    "loans['emp_length'].replace(to_replace='10+ years', value='10 years', inplace=True) # Replace 10+years with 10 years"
   ]
  },
  {
   "cell_type": "code",
   "execution_count": 41,
   "metadata": {},
   "outputs": [],
   "source": [
    "def emp_length_to_int(s):\n",
    "    if pd.isnull(s): \n",
    "        return s\n",
    "    else:\n",
    "        return np.int8(s.split()[0])"
   ]
  },
  {
   "cell_type": "code",
   "execution_count": 42,
   "metadata": {},
   "outputs": [],
   "source": [
    "loans['emp_length'] = loans['emp_length'].apply(emp_length_to_int)"
   ]
  },
  {
   "cell_type": "code",
   "execution_count": 43,
   "metadata": {},
   "outputs": [],
   "source": [
    "loans['emp_length'] = loans['emp_length'].fillna(loans.emp_length.median()) # fill missing values by taking median imputation"
   ]
  },
  {
   "cell_type": "code",
   "execution_count": 44,
   "metadata": {},
   "outputs": [
    {
     "data": {
      "text/plain": [
       "0.00     1082\n",
       "1.00      928\n",
       "2.00     1255\n",
       "3.00     1050\n",
       "4.00      779\n",
       "5.00      876\n",
       "6.00     1399\n",
       "7.00      597\n",
       "8.00      582\n",
       "9.00      535\n",
       "10.00    4453\n",
       "Name: emp_length, dtype: int64"
      ]
     },
     "execution_count": 44,
     "metadata": {},
     "output_type": "execute_result"
    }
   ],
   "source": [
    "loans['emp_length'].value_counts(dropna=False).sort_index()"
   ]
  },
  {
   "cell_type": "code",
   "execution_count": 45,
   "metadata": {},
   "outputs": [
    {
     "data": {
      "text/plain": [
       "emp_length\n",
       "0.00    0.19\n",
       "1.00    0.19\n",
       "2.00    0.18\n",
       "3.00    0.19\n",
       "4.00    0.20\n",
       "5.00    0.19\n",
       "6.00    0.25\n",
       "7.00    0.23\n",
       "8.00    0.21\n",
       "9.00    0.20\n",
       "10.00   0.18\n",
       "Name: loan_status, dtype: float64"
      ]
     },
     "execution_count": 45,
     "metadata": {},
     "output_type": "execute_result"
    }
   ],
   "source": [
    "loans.groupby('emp_length')['loan_status'].value_counts(normalize=True).loc[:,'Charged Off']"
   ]
  },
  {
   "cell_type": "markdown",
   "metadata": {},
   "source": [
    "Charge off rates are decreasing when employment length increases"
   ]
  },
  {
   "cell_type": "code",
   "execution_count": null,
   "metadata": {},
   "outputs": [],
   "source": []
  },
  {
   "cell_type": "markdown",
   "metadata": {},
   "source": [
    "#### Home Ownership"
   ]
  },
  {
   "cell_type": "code",
   "execution_count": 46,
   "metadata": {},
   "outputs": [
    {
     "data": {
      "text/plain": [
       "MORTGAGE    6704\n",
       "RENT        5434\n",
       "OWN         1392\n",
       "ANY            3\n",
       "OTHER          3\n",
       "Name: home_ownership, dtype: int64"
      ]
     },
     "execution_count": 46,
     "metadata": {},
     "output_type": "execute_result"
    }
   ],
   "source": [
    "loans['home_ownership'].value_counts(dropna=False)"
   ]
  },
  {
   "cell_type": "markdown",
   "metadata": {},
   "source": [
    "We can merge None, Any as Other"
   ]
  },
  {
   "cell_type": "code",
   "execution_count": 47,
   "metadata": {},
   "outputs": [],
   "source": [
    "loans['home_ownership'].replace(['NONE', 'ANY'], 'OTHER', inplace=True)"
   ]
  },
  {
   "cell_type": "code",
   "execution_count": 48,
   "metadata": {},
   "outputs": [
    {
     "data": {
      "text/plain": [
       "MORTGAGE    6704\n",
       "RENT        5434\n",
       "OWN         1392\n",
       "OTHER          6\n",
       "Name: home_ownership, dtype: int64"
      ]
     },
     "execution_count": 48,
     "metadata": {},
     "output_type": "execute_result"
    }
   ],
   "source": [
    "loans['home_ownership'].value_counts(dropna=False)"
   ]
  },
  {
   "cell_type": "code",
   "execution_count": 49,
   "metadata": {},
   "outputs": [
    {
     "data": {
      "text/html": [
       "<div>\n",
       "<style scoped>\n",
       "    .dataframe tbody tr th:only-of-type {\n",
       "        vertical-align: middle;\n",
       "    }\n",
       "\n",
       "    .dataframe tbody tr th {\n",
       "        vertical-align: top;\n",
       "    }\n",
       "\n",
       "    .dataframe thead th {\n",
       "        text-align: right;\n",
       "    }\n",
       "</style>\n",
       "<table border=\"1\" class=\"dataframe\">\n",
       "  <thead>\n",
       "    <tr style=\"text-align: right;\">\n",
       "      <th>loan_status</th>\n",
       "      <th>Charged Off</th>\n",
       "      <th>Fully Paid</th>\n",
       "    </tr>\n",
       "    <tr>\n",
       "      <th>home_ownership</th>\n",
       "      <th></th>\n",
       "      <th></th>\n",
       "    </tr>\n",
       "  </thead>\n",
       "  <tbody>\n",
       "    <tr>\n",
       "      <th>MORTGAGE</th>\n",
       "      <td>1191</td>\n",
       "      <td>5513</td>\n",
       "    </tr>\n",
       "    <tr>\n",
       "      <th>OTHER</th>\n",
       "      <td>0</td>\n",
       "      <td>6</td>\n",
       "    </tr>\n",
       "    <tr>\n",
       "      <th>OWN</th>\n",
       "      <td>259</td>\n",
       "      <td>1133</td>\n",
       "    </tr>\n",
       "    <tr>\n",
       "      <th>RENT</th>\n",
       "      <td>1196</td>\n",
       "      <td>4238</td>\n",
       "    </tr>\n",
       "  </tbody>\n",
       "</table>\n",
       "</div>"
      ],
      "text/plain": [
       "loan_status     Charged Off  Fully Paid\n",
       "home_ownership                         \n",
       "MORTGAGE               1191        5513\n",
       "OTHER                     0           6\n",
       "OWN                     259        1133\n",
       "RENT                   1196        4238"
      ]
     },
     "execution_count": 49,
     "metadata": {},
     "output_type": "execute_result"
    }
   ],
   "source": [
    "home_ownership_xt = pd.crosstab(loans['home_ownership'], loans['loan_status'])\n",
    "home_ownership_xt #Cross table"
   ]
  },
  {
   "cell_type": "code",
   "execution_count": 50,
   "metadata": {},
   "outputs": [
    {
     "data": {
      "text/plain": [
       "Text(0, 0.5, 'Loan Status')"
      ]
     },
     "execution_count": 50,
     "metadata": {},
     "output_type": "execute_result"
    },
    {
     "data": {
      "image/png": "[encoded data removed]",
      "text/plain": [
       "<Figure size 432x288 with 1 Axes>"
      ]
     },
     "metadata": {},
     "output_type": "display_data"
    }
   ],
   "source": [
    "home_ownership_xt_pct = home_ownership_xt.div(home_ownership_xt.sum(1).astype(float), axis=0)\n",
    "\n",
    "home_ownership_xt_pct.plot(kind='bar', \n",
    "                   stacked=True, \n",
    "                   title='Loan status by Home Ownership')\n",
    "plt.xlabel('Home Ownership')\n",
    "plt.ylabel('Loan Status')"
   ]
  },
  {
   "cell_type": "markdown",
   "metadata": {},
   "source": [
    "Charge off rates are higher for Rent and Own home owner ship with 23% and 21% respectively"
   ]
  },
  {
   "cell_type": "code",
   "execution_count": 51,
   "metadata": {},
   "outputs": [
    {
     "data": {
      "text/plain": [
       "home_ownership\n",
       "MORTGAGE   0.18\n",
       "OWN        0.19\n",
       "RENT       0.22\n",
       "Name: loan_status, dtype: float64"
      ]
     },
     "execution_count": 51,
     "metadata": {},
     "output_type": "execute_result"
    }
   ],
   "source": [
    "loans.groupby('home_ownership')['loan_status'].value_counts(normalize=True).loc[:,'Charged Off']"
   ]
  },
  {
   "cell_type": "code",
   "execution_count": null,
   "metadata": {},
   "outputs": [],
   "source": []
  },
  {
   "cell_type": "markdown",
   "metadata": {},
   "source": [
    "#### Verification Status"
   ]
  },
  {
   "cell_type": "code",
   "execution_count": 52,
   "metadata": {},
   "outputs": [
    {
     "data": {
      "text/plain": [
       "verification_status\n",
       "Not Verified      0.14\n",
       "Source Verified   0.20\n",
       "Verified          0.24\n",
       "Name: loan_status, dtype: float64"
      ]
     },
     "execution_count": 52,
     "metadata": {},
     "output_type": "execute_result"
    }
   ],
   "source": [
    "loans.groupby('verification_status')['loan_status'].value_counts(normalize=True).loc[:,'Charged Off']"
   ]
  },
  {
   "cell_type": "markdown",
   "metadata": {},
   "source": [
    "Charge off rates are higher for Verified compared to other two types"
   ]
  },
  {
   "cell_type": "code",
   "execution_count": null,
   "metadata": {},
   "outputs": [],
   "source": []
  },
  {
   "cell_type": "markdown",
   "metadata": {},
   "source": [
    "#### Purpose"
   ]
  },
  {
   "cell_type": "code",
   "execution_count": 53,
   "metadata": {},
   "outputs": [
    {
     "data": {
      "text/plain": [
       "MORTGAGE    6704\n",
       "RENT        5434\n",
       "OWN         1392\n",
       "OTHER          6\n",
       "Name: home_ownership, dtype: int64"
      ]
     },
     "execution_count": 53,
     "metadata": {},
     "output_type": "execute_result"
    }
   ],
   "source": [
    "loans['home_ownership'].value_counts(dropna=False)"
   ]
  },
  {
   "cell_type": "code",
   "execution_count": 54,
   "metadata": {},
   "outputs": [
    {
     "data": {
      "text/plain": [
       "purpose\n",
       "car                  0.11\n",
       "credit_card          0.17\n",
       "debt_consolidation   0.21\n",
       "home_improvement     0.17\n",
       "house                0.31\n",
       "major_purchase       0.20\n",
       "medical              0.25\n",
       "moving               0.23\n",
       "other                0.18\n",
       "renewable_energy     0.12\n",
       "small_business       0.33\n",
       "vacation             0.17\n",
       "wedding              0.12\n",
       "Name: loan_status, dtype: float64"
      ]
     },
     "execution_count": 54,
     "metadata": {},
     "output_type": "execute_result"
    }
   ],
   "source": [
    "loans.groupby('purpose')['loan_status'].value_counts(normalize=True).loc[:,'Charged Off']"
   ]
  },
  {
   "cell_type": "code",
   "execution_count": null,
   "metadata": {},
   "outputs": [],
   "source": []
  },
  {
   "cell_type": "markdown",
   "metadata": {},
   "source": [
    "#### Title"
   ]
  },
  {
   "cell_type": "code",
   "execution_count": 55,
   "metadata": {},
   "outputs": [
    {
     "data": {
      "text/plain": [
       "count                  13401\n",
       "unique                  1147\n",
       "top       Debt consolidation\n",
       "freq                    6638\n",
       "Name: title, dtype: object"
      ]
     },
     "execution_count": 55,
     "metadata": {},
     "output_type": "execute_result"
    }
   ],
   "source": [
    "loans['title'].describe()"
   ]
  },
  {
   "cell_type": "code",
   "execution_count": 56,
   "metadata": {},
   "outputs": [
    {
     "data": {
      "text/plain": [
       "<bound method NDFrame.head of Debt consolidation                                                          6638\n",
       "Credit card refinancing                                                     2592\n",
       "Home improvement                                                             780\n",
       "Other                                                                        665\n",
       "Major purchase                                                               255\n",
       "Debt Consolidation                                                           149\n",
       "Medical expenses                                                             142\n",
       "Car financing                                                                123\n",
       "Business                                                                     108\n",
       "Moving and relocation                                                         76\n",
       "Vacation                                                                      66\n",
       "Consolidation                                                                 54\n",
       "Home buying                                                                   47\n",
       "Debt Consolidation Loan                                                       45\n",
       "debt consolidation                                                            38\n",
       "Credit Card Consolidation                                                     29\n",
       "Home Improvement                                                              24\n",
       "Credit Card Payoff                                                            22\n",
       "consolidation                                                                 17\n",
       "Personal Loan                                                                 17\n",
       "Credit Card Refinance                                                         14\n",
       "Personal                                                                      13\n",
       "Loan                                                                          13\n",
       "Credit Card Loan                                                              13\n",
       "Consolidation Loan                                                            12\n",
       "Consolidate                                                                   12\n",
       "credit card payoff                                                            12\n",
       "personal                                                                      10\n",
       "Freedom                                                                        9\n",
       "Green loan                                                                     8\n",
       "Credit Cards                                                                   8\n",
       "Debt                                                                           7\n",
       "Debt Consolidation                                                             7\n",
       "credit card consolidation                                                      7\n",
       "Refinance                                                                      7\n",
       "Debt consolidation loan                                                        7\n",
       "Personal loan                                                                  7\n",
       "Credit cards                                                                   6\n",
       "Debt Loan                                                                      6\n",
       "debt_consolidation                                                             6\n",
       "personal loan                                                                  6\n",
       "Payoff                                                                         6\n",
       "Consolidation                                                                  5\n",
       "Credit Card Refi                                                               5\n",
       "CC Consolidation                                                               5\n",
       "Credit Card Refinancing                                                        5\n",
       "Lending Club Loan                                                              5\n",
       "Debt consolidation                                                             5\n",
       "Pool Loan                                                                      5\n",
       "Debt free                                                                      5\n",
       "freedom                                                                        5\n",
       "Consolidation loan                                                             5\n",
       "My Loan                                                                        5\n",
       "CC consolidation                                                               5\n",
       "Home Improvement Loan                                                          4\n",
       "debt                                                                           4\n",
       "debt loan                                                                      4\n",
       "Loan 1                                                                         4\n",
       "CC Payoff                                                                      4\n",
       "Credit card refinance                                                          4\n",
       "Pay off credit cards                                                           4\n",
       "credit card refinance                                                          4\n",
       "Bill Consolidation                                                             4\n",
       "Credit Card                                                                    4\n",
       "Lending Club                                                                   4\n",
       "Small Business Loan                                                            4\n",
       "Wedding                                                                        3\n",
       "LOAN                                                                           3\n",
       "Credit card                                                                    3\n",
       "credit cards                                                                   3\n",
       "Credit Card Debt                                                               3\n",
       "pay credit cards                                                               3\n",
       "Credit Card Consolidation Loan                                                 3\n",
       "Wedding Loan                                                                   3\n",
       "pay off                                                                        3\n",
       "Card Payoff                                                                    3\n",
       "Wedding expenses                                                               3\n",
       "Debt Payoff                                                                    3\n",
       "CC Loan                                                                        3\n",
       "Loan1                                                                          3\n",
       "Bills                                                                          3\n",
       "Major Purchase Loan                                                            3\n",
       "bills                                                                          3\n",
       "Car                                                                            3\n",
       "consolidation loan                                                             3\n",
       "debt consolidation loan                                                        3\n",
       "Debt Free                                                                      3\n",
       "Credit card payoff                                                             3\n",
       "Business Loan                                                                  3\n",
       "Home Loan                                                                      3\n",
       "payoff                                                                         3\n",
       "Wedding Expenses                                                               3\n",
       "get out of debt                                                                3\n",
       "debt consolidation                                                             3\n",
       "Debt Consolidation loan                                                        3\n",
       "DEBT CONSOLIDATION                                                             3\n",
       "consolidate                                                                    3\n",
       "Credit Card consolidation                                                      3\n",
       "loan1                                                                          3\n",
       "credit consolidation                                                           3\n",
       "home improvement                                                               3\n",
       "Pay off Credit Cards                                                           3\n",
       "credit card loan                                                               3\n",
       "Recovery                                                                       2\n",
       "credit card refinance loan                                                     2\n",
       "CC payoff                                                                      2\n",
       "House                                                                          2\n",
       "pool                                                                           2\n",
       "Pay off                                                                        2\n",
       "Pay Off Credit Card                                                            2\n",
       "hot tub                                                                        2\n",
       "Medical Expenses                                                               2\n",
       "Debt Pay Off                                                                   2\n",
       "Payoff Credit Cards                                                            2\n",
       " debt consolidation                                                            2\n",
       "Hot Tub Purchase                                                               2\n",
       "Relocation                                                                     2\n",
       "Refinance Loan                                                                 2\n",
       "Credit card refi                                                               2\n",
       "Debt Consildation                                                              2\n",
       "Relief                                                                         2\n",
       "Credit consolidation                                                           2\n",
       "Help                                                                           2\n",
       "Credit Card Consolidation                                                      2\n",
       "Credit Card Debt Consolidation                                                 2\n",
       "Catchup                                                                        2\n",
       "Debt Consilidation                                                             2\n",
       "Pay off debt                                                                   2\n",
       "Pay off Credit Card                                                            2\n",
       "Get out of debt                                                                2\n",
       "Debit                                                                          2\n",
       "Auto Loan                                                                      2\n",
       "credit card repayment                                                          2\n",
       "Credit Card Repayment                                                          2\n",
       "LendingClub Loan                                                               2\n",
       "mine                                                                           2\n",
       "CREDIT CARD PAYOFF                                                             2\n",
       "Engagement Ring                                                                2\n",
       "Credit Consolidation                                                           2\n",
       "CC Refinance                                                                   2\n",
       "debtconsolidation                                                              2\n",
       "Moving Expenses                                                                2\n",
       "credit payoff                                                                  2\n",
       "debt payoff                                                                    2\n",
       "my pay off                                                                     2\n",
       "FREEDOM                                                                        2\n",
       "the loan                                                                       2\n",
       "Debt consolidate                                                               2\n",
       "loan                                                                           2\n",
       "Other Loan                                                                     2\n",
       "Home Improvements                                                              2\n",
       "HOME REMODEL                                                                   2\n",
       "CC Refi                                                                        2\n",
       "New Start                                                                      2\n",
       "Credit card consolidation                                                      2\n",
       "DEBT PAYOFF                                                                    2\n",
       "Credit                                                                         2\n",
       "Freedom Loan                                                                   2\n",
       "Help 1                                                                         1\n",
       "ONE MONTHLY PAYMENT                                                            1\n",
       "New home                                                                       1\n",
       "Balance!                                                                       1\n",
       "family gifts                                                                   1\n",
       "Combine bills                                                                  1\n",
       "Getting rid of Credit Card Hole                                                1\n",
       "October                                                                        1\n",
       "Trimming the Fat                                                               1\n",
       "Consolidating Credit Card Debt                                                 1\n",
       "USA Vacation                                                                   1\n",
       "Plumbing and Appliance Replacement                                             1\n",
       "I have never paid late                                                         1\n",
       "shauns                                                                         1\n",
       "Harley Davidson Motorcycle                                                     1\n",
       "Improvement                                                                    1\n",
       "Personal Loan for Unexpected Expenses                                          1\n",
       "Wedding in Honduras                                                            1\n",
       "paydown and stop cards                                                         1\n",
       "Repairs                                                                        1\n",
       "Simple Credit Card Refinance                                                   1\n",
       "Loan consolidation                                                             1\n",
       "Dream Car                                                                      1\n",
       "Credit Card Pay Off                                                            1\n",
       "Aunt Funeral Expenses                                                          1\n",
       "a little help                                                                  1\n",
       "Getting Rid of The Credit Card Nightmare                                       1\n",
       "Pay off small debts                                                            1\n",
       "CC Clear                                                                       1\n",
       "PATROL RIFLE                                                                   1\n",
       "Getter done                                                                    1\n",
       "Credit Card Re-Financing                                                       1\n",
       "amazing                                                                        1\n",
       "conslidation                                                                   1\n",
       "Grately appreciated                                                            1\n",
       "DVD Rental Kiosk Start Up Business                                             1\n",
       "Personal Debt Consolidation Loan                                               1\n",
       "Repait and Consolidate                                                         1\n",
       "pay off credit card                                                            1\n",
       "Escape from bank debt slavery                                                  1\n",
       "MY SAVIOR                                                                      1\n",
       "pay off credit debt                                                            1\n",
       "Turn the Corner Loan                                                           1\n",
       "amccar                                                                         1\n",
       "Chase Pay Off                                                                  1\n",
       "Consolidation 2012                                                             1\n",
       "Credit card loan                                                               1\n",
       "Pay high rate                                                                  1\n",
       "a new life                                                                     1\n",
       "Home Remodel Loan                                                              1\n",
       "Pool                                                                           1\n",
       "MY PRAYER                                                                      1\n",
       "home improvements                                                              1\n",
       "Wedding - for the Bride                                                        1\n",
       "Pay off those credit cards                                                     1\n",
       "financial service loan                                                         1\n",
       "Get rid of old debt                                                            1\n",
       "Advertising                                                                    1\n",
       "Back on my feet loan!                                                          1\n",
       "hospital and credit cards                                                      1\n",
       "Carolyn's Loan                                                                 1\n",
       "Engagement                                                                     1\n",
       "Home Repairs                                                                   1\n",
       " Dept Help                                                                     1\n",
       "All In One                                                                     1\n",
       "Spruce up.                                                                     1\n",
       "the credit loan                                                                1\n",
       "Loan Pay Off                                                                   1\n",
       "Revolving Credit Debt Consolidation                                            1\n",
       "Payoff Debts                                                                   1\n",
       "Cap One BOA and Sears                                                          1\n",
       "Business Purposes                                                              1\n",
       "Pay Off Loan                                                                   1\n",
       "A new beginning for my financial future                                        1\n",
       "Debt Consolidation Loan 1                                                      1\n",
       "Credit Cards Debt                                                              1\n",
       "Citi Refi                                                                      1\n",
       "Medical Loan                                                                   1\n",
       "Paying off higher interest debts                                               1\n",
       "Commute Car                                                                    1\n",
       "Buying Video Gear for Expanding Business                                       1\n",
       "Stress relief!                                                                 1\n",
       "Alliant Payoff                                                                 1\n",
       "Moving Forward Fabulously                                                      1\n",
       "Goodyear & Home Depot                                                          1\n",
       "refinance                                                                      1\n",
       "Major Purchase                                                                 1\n",
       "Revolving Debt Hell                                                            1\n",
       "December move                                                                  1\n",
       "debt consolidation /medical billls/schoo                                       1\n",
       "California                                                                     1\n",
       "creditcardpayoff                                                               1\n",
       "Tryingtogetonmyfeet                                                            1\n",
       "Moving up to full HD production camera                                         1\n",
       "Lets get this All in One                                                       1\n",
       "I would like to remodel my bathroom                                            1\n",
       "pay off cards loan                                                             1\n",
       "on the way to debtfree living                                                  1\n",
       "Personnel                                                                      1\n",
       "Consolidated loan                                                              1\n",
       "Start up Business loan                                                         1\n",
       "catchup                                                                        1\n",
       "Total debt payoff                                                              1\n",
       "Care Credit Consolidation                                                      1\n",
       "debt consolidate                                                               1\n",
       "Debt Me Out Of This                                                            1\n",
       "DebtRelief2012                                                                 1\n",
       "ONE AT A TIME                                                                  1\n",
       "My personel loan                                                               1\n",
       "Tax payment                                                                    1\n",
       "Consolidate my debt!                                                           1\n",
       "lending club credit card                                                       1\n",
       "Car repair                                                                     1\n",
       "Time to Consolidate My Bills                                                   1\n",
       "Consolidate Debts for Financial Freedom                                        1\n",
       "Wedding                                                                        1\n",
       "medical expenses                                                               1\n",
       "Bike Loan                                                                      1\n",
       "ran                                                                            1\n",
       "Refinance credit card                                                          1\n",
       "Credit Cards, Loans refinance home repa                                        1\n",
       "Building Credit                                                                1\n",
       "pay off my debt                                                                1\n",
       "garage                                                                         1\n",
       "Used Car                                                                       1\n",
       "lowering creditcard interest rates                                             1\n",
       "Credit Card Debt                                                               1\n",
       "get stuff paid off                                                             1\n",
       "Debt Consolidation and Refinance                                               1\n",
       "MEDICAL EXPENSES / FINAL CONSOLIDATION                                         1\n",
       "Scooter Loan                                                                   1\n",
       "my consolidation                                                               1\n",
       "Tool Inventory purchase                                                        1\n",
       "Getting Established                                                            1\n",
       "cosolidate                                                                     1\n",
       "get out of debt....                                                            1\n",
       "Pay it all off                                                                 1\n",
       "Credit Cards Pay-off                                                           1\n",
       "Paying off the Credit Card                                                     1\n",
       "consolidatino                                                                  1\n",
       "Paying off debt                                                                1\n",
       "New Beginnings                                                                 1\n",
       "Pay off and close credit cards                                                 1\n",
       "classic vw loan                                                                1\n",
       "Consolidation for Loan and Medical Bills                                       1\n",
       "Pay Off and CANCEL Credit Cards!!                                              1\n",
       "Pay Off Credit Cards                                                           1\n",
       "thanks                                                                         1\n",
       "consoladate                                                                    1\n",
       "free from debt                                                                 1\n",
       "Project                                                                        1\n",
       "auto loan                                                                      1\n",
       "Pay Off CC                                                                     1\n",
       "Consolidation, Furninshing, Med Expenses                                       1\n",
       "Getting Ahead                                                                  1\n",
       "motorcycle                                                                     1\n",
       "To pay high interest rate credit card                                          1\n",
       "Debt Restructuring                                                             1\n",
       "Medical bills                                                                  1\n",
       "refinance loan                                                                 1\n",
       "Harley Davidson                                                                1\n",
       "Credit cards no more                                                           1\n",
       "2005 Niagara Fleetwood Folding Trailer                                         1\n",
       "Debt Reduction                                                                 1\n",
       "A better tomorrow                                                              1\n",
       "Credit Card Reduction                                                          1\n",
       "Todd's Loan                                                                    1\n",
       "Consolidation (2nd Lending Club Loan)                                          1\n",
       "RJD                                                                            1\n",
       "Relaxmyback!                                                                   1\n",
       "Wedding debts                                                                  1\n",
       "Credit Card payoff                                                             1\n",
       "1968 firebird                                                                  1\n",
       "loc                                                                            1\n",
       "Home Improvement                                                               1\n",
       "Fix my bills                                                                   1\n",
       "AmyL                                                                           1\n",
       "getthingscaughtup                                                              1\n",
       "Honey Moon Trip                                                                1\n",
       "Pay-off                                                                        1\n",
       "Loan to Consolidate Debt for Credit Card                                       1\n",
       "consolidate & other                                                            1\n",
       "Credit card refinance                                                          1\n",
       "Pay off my credit card debt!                                                   1\n",
       "My Debt & Wedding                                                              1\n",
       "PANDA                                                                          1\n",
       "Consoliation Loan                                                              1\n",
       "Trucking Loan                                                                  1\n",
       "Pay Of Bills                                                                   1\n",
       "chaseone                                                                       1\n",
       "vacation property                                                              1\n",
       "Debt payoff                                                                    1\n",
       "Home                                                                           1\n",
       "janet credit card                                                              1\n",
       " PErsonal Loan                                                                 1\n",
       "Other loan                                                                     1\n",
       "Path to Debt Free Life                                                         1\n",
       "Therapy Swim Spa                                                               1\n",
       "pay it off                                                                     1\n",
       "Legal Fees                                                                     1\n",
       "New Business - E-commerce Solutions                                            1\n",
       "Get out of Debt                                                                1\n",
       "bill loan                                                                      1\n",
       "Pay Off Loans with Higher Interest Rates                                       1\n",
       "kitchen                                                                        1\n",
       "Swimming pool                                                                  1\n",
       " Pool                                                                          1\n",
       "PAY OFF DEBT                                                                   1\n",
       "Loan Consolodation                                                             1\n",
       "Home upgrades to a house just bought                                           1\n",
       "Financial Fitness                                                              1\n",
       "Loan Refinance                                                                 1\n",
       "Truck Needed For Home Projects                                                 1\n",
       "willow tree                                                                    1\n",
       "Debt Pay-Off                                                                   1\n",
       "car loan                                                                       1\n",
       "Be a Grown Up and Get Out of Debt!                                             1\n",
       "2nd Phase Business Expansion                                                   1\n",
       "Just Started a New Business venture                                            1\n",
       "Operation No Debt                                                              1\n",
       "Debt & Home Improvement                                                        1\n",
       "Debt Consolidation Credit Cards                                                1\n",
       "Restructuring                                                                  1\n",
       "PersonalLoan                                                                   1\n",
       "refinance                                                                      1\n",
       "Operation Consolidation                                                        1\n",
       "Temp loan                                                                      1\n",
       "improve credit                                                                 1\n",
       "Consolidate Pay Off Early                                                      1\n",
       "BILLS                                                                          1\n",
       "Catch up                                                                       1\n",
       "pay off high interest credit cards                                             1\n",
       "Help me make it!                                                               1\n",
       "Only one way for this defense biz...UP!!                                       1\n",
       "November 2008                                                                  1\n",
       "bills/bathroom                                                                 1\n",
       "stressfree                                                                     1\n",
       "Lower Interest Appeals                                                         1\n",
       "Debt/Credit Card Consolidation                                                 1\n",
       "CreditCardRefi                                                                 1\n",
       "Christmas                                                                      1\n",
       "I really need this loan                                                        1\n",
       "Wedding Expenses Personal Loan                                                 1\n",
       "Loan to Sell                                                                   1\n",
       "Loan 2012                                                                      1\n",
       "Loan CC                                                                        1\n",
       "Credit debt consolidation loan                                                 1\n",
       "DEBT FREE 2013                                                                 1\n",
       "Credit card/move                                                               1\n",
       "vacations                                                                      1\n",
       "car repair                                                                     1\n",
       "Vehicle                                                                        1\n",
       "credit card pay off                                                            1\n",
       "Credit Card ReAlignment                                                        1\n",
       "4 wheeler                                                                      1\n",
       "Super Debt Payoff                                                              1\n",
       "ccpayoff                                                                       1\n",
       "Streamlining                                                                   1\n",
       "Alina Personal Loan 2                                                          1\n",
       "CC payment                                                                     1\n",
       "Cc loan                                                                        1\n",
       "Consolidating credit cards                                                     1\n",
       "Credit Help                                                                    1\n",
       "CREDIT CONSOLIDATION                                                           1\n",
       "CC                                                                             1\n",
       "HOME LOAN                                                                      1\n",
       "Wells Fargo CC Refinance                                                       1\n",
       "temp help                                                                      1\n",
       "credit card debt consolidation                                                 1\n",
       "debt consolidatin                                                              1\n",
       "stress relief                                                                  1\n",
       "CC Debt                                                                        1\n",
       "debt gone                                                                      1\n",
       "Reorganize                                                                     1\n",
       "Cutting the Cards for a Higher Calling                                         1\n",
       "Credit Card Refinancing and Used Car                                           1\n",
       "Payoff my debts                                                                1\n",
       "CONSOLIDATE                                                                    1\n",
       "HomeLoan                                                                       1\n",
       "RCS                                                                            1\n",
       "Debt Makeover                                                                  1\n",
       "Govt Worker, Long Term Job, Reliable for Repayment                             1\n",
       "pay small debt, remodel kitchen&bathroom                                       1\n",
       "01                                                                             1\n",
       "Cons                                                                           1\n",
       "Consolidate 2 high interest credit cards                                       1\n",
       "Replace household appliances                                                   1\n",
       "Hottub                                                                         1\n",
       "Money to sell our House                                                        1\n",
       "Credit Card Refin                                                              1\n",
       "paydebts                                                                       1\n",
       "Asset Reallocation                                                             1\n",
       "Bathroom                                                                       1\n",
       "Eddies debt                                                                    1\n",
       "Catching up                                                                    1\n",
       "consoldation                                                                   1\n",
       "Jon Handy Man Loan                                                             1\n",
       "Helpmesoimnotsostressed                                                        1\n",
       "CC Transfer                                                                    1\n",
       "Troy Personal Loan                                                             1\n",
       "A cushion                                                                      1\n",
       "Bank of America loan                                                           1\n",
       "New roof                                                                       1\n",
       "payoff credit cards & loan with onemain                                        1\n",
       "Bill Loan                                                                      1\n",
       "10K Dec 2010 Loan                                                              1\n",
       "PAY OFF SOME                                                                   1\n",
       "credit loan                                                                    1\n",
       "credit card killer                                                             1\n",
       "House Goal                                                                     1\n",
       "Out-Of-Debt Plan                                                               1\n",
       "Hardship                                                                       1\n",
       "Credit Card Acceleration                                                       1\n",
       "Wipe Out High Interest Credit Cards                                            1\n",
       "New Hope                                                                       1\n",
       "loan 1                                                                         1\n",
       "Fall 2010                                                                      1\n",
       "lose debt                                                                      1\n",
       "New Beginning                                                                  1\n",
       "peaceful                                                                       1\n",
       "Debt Consolidation 2011                                                        1\n",
       "Consolidate Debt                                                               1\n",
       "CREDIT CARD & DOCTOR BILLS                                                     1\n",
       "pay off credit loans                                                           1\n",
       "second loan                                                                    1\n",
       "Paying off Credit Card Debt                                                    1\n",
       "Subaru WRX                                                                     1\n",
       "Payoff for an emergency loan                                                   1\n",
       "debt pay off                                                                   1\n",
       "debt consol                                                                    1\n",
       "Debt Consolidation - ALL                                                       1\n",
       "Investment                                                                     1\n",
       "debt reducer                                                                   1\n",
       "2012 CC Refi                                                                   1\n",
       "on the way to out of debt                                                      1\n",
       "firefighter loan                                                               1\n",
       "Debit Consolidation                                                            1\n",
       "Good advice pays off                                                           1\n",
       "Business loan                                                                  1\n",
       "Credit Loan                                                                    1\n",
       "home time                                                                      1\n",
       "some sanity                                                                    1\n",
       "Credit cards consolidation                                                     1\n",
       "Payment Consolidation Loan                                                     1\n",
       "dune buggy                                                                     1\n",
       "Time for a Newer Car!                                                          1\n",
       "merge loan                                                                     1\n",
       "Debt consolidation for a debt free life!                                       1\n",
       "Free me from CC                                                                1\n",
       "Consolidating                                                                  1\n",
       "Car loan                                                                       1\n",
       "Making Life Easy                                                               1\n",
       "Pool repair                                                                    1\n",
       "Creditcard                                                                     1\n",
       "Debt consolidation and auto repair                                             1\n",
       "Lose Credit Balances                                                           1\n",
       "Pay Off Bank of America                                                        1\n",
       "cohens consolidation                                                           1\n",
       "2000 Ford F350                                                                 1\n",
       "Debt Consolodation                                                             1\n",
       "WORKING FOR BEING DEBT FREE!!!!!!!                                             1\n",
       "A New Start                                                                    1\n",
       "Debt attack                                                                    1\n",
       "Financial Freedom                                                              1\n",
       "When it Rains it Pours :(                                                      1\n",
       "CC Debt consolidation                                                          1\n",
       "CC Consolidat                                                                  1\n",
       "debit balances                                                                 1\n",
       "2 kids in college                                                              1\n",
       "Loan Payoff                                                                    1\n",
       "get rid of my credit cards loans                                               1\n",
       "2004 GMC                                                                       1\n",
       "Car Repairs                                                                    1\n",
       "Credit Card Cleanup                                                            1\n",
       "Business reinvestment                                                          1\n",
       "Car Loan                                                                       1\n",
       "The Final Payoff                                                               1\n",
       "business                                                                       1\n",
       "Home Loan, downpayment                                                         1\n",
       "Time to remodel                                                                1\n",
       "IPL                                                                            1\n",
       "Happy Ride                                                                     1\n",
       "debt free                                                                      1\n",
       "tobedebtfree                                                                   1\n",
       "med                                                                            1\n",
       "Reimbursement loan                                                             1\n",
       "credit card                                                                    1\n",
       "Dept consolidation                                                             1\n",
       "Pay Off                                                                        1\n",
       "Refinancing credit card debt                                                   1\n",
       "Pay my bills                                                                   1\n",
       "Colorado white water rafting trip                                              1\n",
       "Hard times                                                                     1\n",
       "Consolidating My Bills                                                         1\n",
       "Credit Card Elimination Loan                                                   1\n",
       "refi                                                                           1\n",
       "New Home                                                                       1\n",
       "Major Purchase                                                                 1\n",
       "Pay off Debt at lower Rate                                                     1\n",
       "HOME DOWN PAYMENT                                                              1\n",
       "Balance Transfer                                                               1\n",
       "Debt Restructure                                                               1\n",
       "CC refinance                                                                   1\n",
       "REFINANCE                                                                      1\n",
       "Credit Card Consolidation Help!                                                1\n",
       "Credit Burden                                                                  1\n",
       "Reduce Credit Card Interest Rate                                               1\n",
       "Debit Free                                                                     1\n",
       "pay off my credit card                                                         1\n",
       "CC Refinance Loan                                                              1\n",
       "Timeshare                                                                      1\n",
       "credit cards are killing me                                                    1\n",
       "Cut the cards                                                                  1\n",
       "loan consol                                                                    1\n",
       " Consolidation                                                                 1\n",
       "my life                                                                        1\n",
       "card consolidation                                                             1\n",
       "home repair                                                                    1\n",
       "Stress relief appropriation                                                    1\n",
       "pay                                                                            1\n",
       "lower apr                                                                      1\n",
       "Motor Cycle Loan                                                               1\n",
       "corvair                                                                        1\n",
       "Looking For New Consolidation                                                  1\n",
       "Venture                                                                        1\n",
       "C-store investment                                                             1\n",
       "Glenda's Loan                                                                  1\n",
       "Cut My Rates!                                                                  1\n",
       "My get rid of bills Loan                                                       1\n",
       "Necessity                                                                      1\n",
       "Got to                                                                         1\n",
       "fixxerupper                                                                    1\n",
       "Lower_Interest_SAVE                                                            1\n",
       "Reduce My Debt                                                                 1\n",
       "Housepayment                                                                   1\n",
       "Debt payoff Loan                                                               1\n",
       "Want to pay off high intrest cards                                             1\n",
       "Motor Home                                                                     1\n",
       "Credit Card clearance loan                                                     1\n",
       "Lower my interest rates.                                                       1\n",
       "motorcycle loan                                                                1\n",
       "House Shores                                                                   1\n",
       "Boat repair loan                                                               1\n",
       "Debt Refi & Consolidation                                                      1\n",
       "Lower Interest Rates                                                           1\n",
       "FREE AT LAST                                                                   1\n",
       "Bank of America Debt Consolidation                                             1\n",
       "credit debt                                                                    1\n",
       "Debt Consolidation for Disney                                                  1\n",
       "976percentfor36months                                                          1\n",
       "Fresh Start                                                                    1\n",
       "Othe Lending Club Payoff                                                       1\n",
       "CCHomeImprovement                                                              1\n",
       "Home Remodel                                                                   1\n",
       "credit refi                                                                    1\n",
       "Debts                                                                          1\n",
       "2013 loan                                                                      1\n",
       "Responsible Loan to Payoff Judgement                                           1\n",
       "LOAN CONSOLIDATION                                                             1\n",
       "Home Sweet Home                                                                1\n",
       "Pool Paradise                                                                  1\n",
       "Credit Pay Off                                                                 1\n",
       "Refi Credit Cards                                                              1\n",
       "Nursery and Kitchen Updates                                                    1\n",
       "credit builder loan                                                            1\n",
       "roof                                                                           1\n",
       "CCpayoff                                                                       1\n",
       "Starting over                                                                  1\n",
       "Credit Card Refinance Loan                                                     1\n",
       "Last chance consolidation                                                      1\n",
       "Best Path                                                                      1\n",
       "Vacation Mobile                                                                1\n",
       "Money Loan                                                                     1\n",
       "ThinkPositive                                                                  1\n",
       "My Consolidated Debt Loan                                                      1\n",
       "debt payments                                                                  1\n",
       "debt                                                                           1\n",
       "Looking to the furture                                                         1\n",
       "BILLPAYOFF                                                                     1\n",
       "big money                                                                      1\n",
       "DebtConsolidate                                                                1\n",
       "Brad's Debt Consolidition                                                      1\n",
       "bill help                                                                      1\n",
       "Lower rate Credit                                                              1\n",
       "Startup Business                                                               1\n",
       "Hot Tub                                                                        1\n",
       "Installment Payoff                                                             1\n",
       "Consolidation Loan for Business/Personal                                       1\n",
       "Open Road                                                                      1\n",
       "debtpayoff                                                                     1\n",
       "Liberty for All                                                                1\n",
       "Matthew's Wedding Loan                                                         1\n",
       "Medical Loan for Single Independent Woman                                      1\n",
       "Upgrading Diamond in the Rough                                                 1\n",
       "HBSR Payoff                                                                    1\n",
       "Personal                                                                       1\n",
       "Ck loan                                                                        1\n",
       "Business Expansion                                                             1\n",
       "COLLEGE                                                                        1\n",
       "Credit Card Refi Loan                                                          1\n",
       "Credit Card Killer                                                             1\n",
       "releif                                                                         1\n",
       "Triumph Loan                                                                   1\n",
       "Get caught up!                                                                 1\n",
       "Unexpected Expenses                                                            1\n",
       "Pleasant                                                                       1\n",
       "Get me out of debt please                                                      1\n",
       "Walmart Credit Payoff                                                          1\n",
       "High interest credit card consolidation                                        1\n",
       "6 credit cards payments into 1                                                 1\n",
       "CREDIT CARD                                                                    1\n",
       "Peace of Mind...                                                               1\n",
       "Credit Card Consolodation                                                      1\n",
       "Debt Demolition                                                                1\n",
       "Shed funding                                                                   1\n",
       "March 2013                                                                     1\n",
       "HomeImprovement                                                                1\n",
       "Roof                                                                           1\n",
       "fixit                                                                          1\n",
       "Automobile Repair Loan                                                         1\n",
       "console                                                                        1\n",
       "Steiner Loan                                                                   1\n",
       "Home improvement                                                               1\n",
       "A Better Life                                                                  1\n",
       "Consolidate Loan                                                               1\n",
       "Debt Consalidation                                                             1\n",
       "Paying down credit card debt                                                   1\n",
       "Great Income-Good Credit                                                       1\n",
       "i need help                                                                    1\n",
       "Auto repair                                                                    1\n",
       "debt no more                                                                   1\n",
       "One Payment Only Please                                                        1\n",
       "All in One                                                                     1\n",
       "Debt Consollidation                                                            1\n",
       "Combination of bills                                                           1\n",
       "Consolidate all CC debts                                                       1\n",
       "Card consolidation                                                             1\n",
       "Purchase of Family Home                                                        1\n",
       "CREDIT CARD DEBT                                                               1\n",
       "Credit Cards                                                                   1\n",
       "Car money                                                                      1\n",
       "debt help                                                                      1\n",
       "Home Improvement 2012                                                          1\n",
       "Two mold and duct tape free bathrooms!                                         1\n",
       "bill consolidation                                                             1\n",
       "CC consolidation loan                                                          1\n",
       "Personal debt consolidation                                                    1\n",
       "small_business                                                                 1\n",
       "Becoming debt free                                                             1\n",
       "1314                                                                           1\n",
       "RELOCATION                                                                     1\n",
       "credit off                                                                     1\n",
       "82 Yamaha Maxim                                                                1\n",
       "Changing Our Family Tree                                                       1\n",
       "Backyard Swimming Pool                                                         1\n",
       "CC Refi from Forcloseure Purchase                                              1\n",
       "havard oak                                                                     1\n",
       "pay off cridit card                                                            1\n",
       "Debt Refinance                                                                 1\n",
       "Medical and Credit Cards                                                       1\n",
       "Get My Life Started                                                            1\n",
       "Close CC                                                                       1\n",
       "DEBT CONSOLIDTION                                                              1\n",
       "I'm tired of being broke!                                                      1\n",
       "debt free                                                                      1\n",
       "Loan                                                                           1\n",
       "Debt Payback                                                                   1\n",
       "Granite Countertops                                                            1\n",
       "Credit Card pay-off                                                            1\n",
       "Interesting relief                                                             1\n",
       "To consolidate credit cards,                                                   1\n",
       "Serious, stable borrower trying to get rid of high interest credit cards       1\n",
       "401k Payoff                                                                    1\n",
       "Expenses                                                                       1\n",
       "Debit Relieve to lower my credit payment                                       1\n",
       "cc payoff                                                                      1\n",
       "Medical                                                                        1\n",
       "Credit Card refi and consolidation                                             1\n",
       "CIti Pay off loan                                                              1\n",
       "Finish Basement                                                                1\n",
       "Credit Card refinance                                                          1\n",
       "Wedding relief fund                                                            1\n",
       "to pay off debt                                                                1\n",
       "new debt consolidation                                                         1\n",
       "Jeep                                                                           1\n",
       "Credit Refinance                                                               1\n",
       "Pay Down My Cards                                                              1\n",
       "Better Days                                                                    1\n",
       "Debt consolidation/Home AC replacement                                         1\n",
       "newloan                                                                        1\n",
       "payoffdebt                                                                     1\n",
       "One billl a month                                                              1\n",
       "HVAC                                                                           1\n",
       "Keep Saving                                                                    1\n",
       "house repairs                                                                  1\n",
       "Finally, bye bye credit cards!                                                 1\n",
       "CC Assist                                                                      1\n",
       "Debt Consolidating                                                             1\n",
       "Card and Loan Debt Cnsd                                                        1\n",
       "citi-rollup                                                                    1\n",
       "my Loan-debt                                                                   1\n",
       "wedding                                                                        1\n",
       "Money Maker                                                                    1\n",
       "CC interest rate too much!                                                     1\n",
       "bill catch up plus hoilday funds                                               1\n",
       "Refiloan                                                                       1\n",
       "Back on track                                                                  1\n",
       "financial freedom                                                              1\n",
       "adding on to paint booth                                                       1\n",
       "Low Rate Consolidation Loan                                                    1\n",
       "consolidate credit cards                                                       1\n",
       "the perfect loan                                                               1\n",
       "Clean Loan                                                                     1\n",
       "Clean up loan                                                                  1\n",
       "Legal fees                                                                     1\n",
       "debt consolation                                                               1\n",
       "Save me                                                                        1\n",
       "Taxes                                                                          1\n",
       "Pay off debts                                                                  1\n",
       "2010 taxes                                                                     1\n",
       "Can't wait to pay off my debt                                                  1\n",
       "Consolodated                                                                   1\n",
       "Debt be gone                                                                   1\n",
       "Credit Card Clean Up                                                           1\n",
       "Good Loan                                                                      1\n",
       "Ddebts                                                                         1\n",
       "debt cond.                                                                     1\n",
       "BOAT PURCHASE                                                                  1\n",
       "PAYOFFCREDITCARDS                                                              1\n",
       "Career Advancement                                                             1\n",
       "CC DEBT PAYOFF                                                                 1\n",
       "Used Car Loan                                                                  1\n",
       "Major Purchases                                                                1\n",
       "Kitchen 02/13                                                                  1\n",
       "transferring my debt to lower interest and buying a car for my new job         1\n",
       "Help me save more for the future                                               1\n",
       "Managing Partner Intern                                                        1\n",
       "inventory for start up business                                                1\n",
       "Debt free forever                                                              1\n",
       "Small Business loan                                                            1\n",
       "Home loan                                                                      1\n",
       "debt done                                                                      1\n",
       "Payoff Loan                                                                    1\n",
       "home improvement                                                               1\n",
       "Credit Card repayments                                                         1\n",
       "Good Rate Loan                                                                 1\n",
       "Debt consolidation fast                                                        1\n",
       "PERSONAL                                                                       1\n",
       "brand new                                                                      1\n",
       "CONSOLIDATION                                                                  1\n",
       "lending club loan                                                              1\n",
       "Crackin down on debt!!                                                         1\n",
       "Househol                                                                       1\n",
       "Pay off creditcards and hhome improvemen                                       1\n",
       "reduce debt                                                                    1\n",
       "Be nice to make just one payment here.                                         1\n",
       "On Track                                                                       1\n",
       "Personal  loan, miscellaneous                                                  1\n",
       "CC Revolving Payoff                                                            1\n",
       "Debt. Consolidation                                                            1\n",
       " back on track loan                                                            1\n",
       "Invest                                                                         1\n",
       "get out of credit card debt                                                    1\n",
       "consolidate1                                                                   1\n",
       "2012 loan                                                                      1\n",
       "Just one bill.                                                                 1\n",
       "My Debt Consolidation 2013                                                     1\n",
       "CreditCardLoan                                                                 1\n",
       "Happiness                                                                      1\n",
       "Good Income but Need to Consolidate Debt                                       1\n",
       "Debt loan                                                                      1\n",
       "wedding loand                                                                  1\n",
       "Debt consolidation for faster payoff.                                          1\n",
       "Credit Card Debit Consolidation                                                1\n",
       "Debt Consolidation payoff credit cards                                         1\n",
       "Credit Card and Loan Consolidation                                             1\n",
       "PERSONAL LOAN                                                                  1\n",
       "Wedding Funds                                                                  1\n",
       "livewire                                                                       1\n",
       "Pay debits                                                                     1\n",
       "Payoff loan                                                                    1\n",
       "Home repair                                                                    1\n",
       "Land                                                                           1\n",
       "Chase United Card                                                              1\n",
       "homeimprovement                                                                1\n",
       "Moving and Relocation                                                          1\n",
       "Capital One Card Loan                                                          1\n",
       "save the sewer                                                                 1\n",
       "ridbigdebt                                                                     1\n",
       "Paying Off Credit Card Debt                                                    1\n",
       "Last call                                                                      1\n",
       "Repairs and Combine                                                            1\n",
       "taking my life back                                                            1\n",
       "major purchase                                                                 1\n",
       "CCC colsolidate                                                                1\n",
       "Credit Card Freedom                                                            1\n",
       "Bill Payoff                                                                    1\n",
       "Fiscal Cliff                                                                   1\n",
       " new house a/c unit                                                            1\n",
       "Loan for USNavyBlueAngel                                                       1\n",
       "Responsible Freedom                                                            1\n",
       "Pay off debt!                                                                  1\n",
       "credit card refianacing                                                        1\n",
       "Store cards                                                                    1\n",
       "Fix the house                                                                  1\n",
       "alltogether                                                                    1\n",
       "Starting Over                                                                  1\n",
       "rich loan                                                                      1\n",
       "stressless                                                                     1\n",
       "My Stability                                                                   1\n",
       "1 credit card payment a month                                                  1\n",
       "no debt loan                                                                   1\n",
       "my lc loan                                                                     1\n",
       "Universal Consolidation Loan                                                   1\n",
       "Lower Rate                                                                     1\n",
       "Consolidating life                                                             1\n",
       "Credit Consolidation                                                           1\n",
       "Rifle                                                                          1\n",
       "No more Debt!!                                                                 1\n",
       "outtadebt                                                                      1\n",
       "Credit card16 refinance                                                        1\n",
       "Credit Card Payoff/Home Repair                                                 1\n",
       "Jake's Air Conditioner                                                         1\n",
       "Timeshare Payoff                                                               1\n",
       "Investments                                                                    1\n",
       "new deck                                                                       1\n",
       "Pay off credit debt                                                            1\n",
       "A new life                                                                     1\n",
       "my loan                                                                        1\n",
       "wedding fund                                                                   1\n",
       "Total Balance                                                                  1\n",
       "Great Credit Card Payoff                                                       1\n",
       "5k loan                                                                        1\n",
       "Jon consolidation                                                              1\n",
       "Legal funds                                                                    1\n",
       "Operation Nodebt                                                               1\n",
       "payback                                                                        1\n",
       "Car repairs (rear differential)                                                1\n",
       "Loan 16k 60m                                                                   1\n",
       "my home improvement                                                            1\n",
       "Relief loan                                                                    1\n",
       "US Bank payoff                                                                 1\n",
       "home                                                                           1\n",
       "Personal/Debt Consolidation Loan                                               1\n",
       "Bill Pay off                                                                   1\n",
       "Pauline's Ticket                                                               1\n",
       "Music Production                                                               1\n",
       "credit cards loan                                                              1\n",
       "Credit Card / Wedding Bill Consolidation                                       1\n",
       "RESTORATION                                                                    1\n",
       "Debt pay                                                                       1\n",
       "The Jeep                                                                       1\n",
       "Chase Away                                                                     1\n",
       "The Dream                                                                      1\n",
       "REPAY                                                                          1\n",
       "Moving Loan                                                                    1\n",
       "Credit cards loan                                                              1\n",
       "DC                                                                             1\n",
       "Debt Downsizing                                                                1\n",
       "debt bye bye                                                                   1\n",
       "Travel Trailer purchase                                                        1\n",
       "dbt cosolidation                                                               1\n",
       "Investment Property                                                            1\n",
       "Debt Freedom                                                                   1\n",
       "Credit Card Restructuring & Consolidate                                        1\n",
       "Dentist bill                                                                   1\n",
       "pay off credit cards                                                           1\n",
       "One Main Payoff                                                                1\n",
       "Pay of my debt                                                                 1\n",
       "debtfree                                                                       1\n",
       "Consolidation Account                                                          1\n",
       "debt & land                                                                    1\n",
       "consolidate 1                                                                  1\n",
       "Consolidate debt/help daughter                                                 1\n",
       "LOAN 2013                                                                      1\n",
       "Good-bye High Interest Cards                                                   1\n",
       "CC LOAN                                                                        1\n",
       "Real Estate Investment Loan                                                    1\n",
       "pay-off debt                                                                   1\n",
       "Working toward the future                                                      1\n",
       "Pay off Prosper Loan at a better rate                                          1\n",
       "Bathroom Improvements                                                          1\n",
       "DEPT DESTROYER                                                                 1\n",
       "Debt conslitdation                                                             1\n",
       "Business Expansion Loan                                                        1\n",
       "Fencing                                                                        1\n",
       "Chevy Bel Air                                                                  1\n",
       "Bahamas trip                                                                   1\n",
       "Moving/Relocation Loan                                                         1\n",
       "Business Loan - 120426                                                         1\n",
       "Auto Loan Refinancing                                                          1\n",
       "New place                                                                      1\n",
       "tunnel light                                                                   1\n",
       "DC Loan                                                                        1\n",
       "Consolidating CC debt                                                          1\n",
       "The Great Payoff                                                               1\n",
       "Lower Debt Interest Rate                                                       1\n",
       "Debt Relief                                                                    1\n",
       "Free Start                                                                     1\n",
       "final credit card pay off                                                      1\n",
       "Pay Off Debt                                                                   1\n",
       "Pay bills                                                                      1\n",
       "small debts eliminator                                                         1\n",
       "Unexpected car repairs                                                         1\n",
       "Out of Debt With Help                                                          1\n",
       "Consolidate credit cards                                                       1\n",
       "SAVING PRIDE                                                                   1\n",
       "Card payoffs                                                                   1\n",
       "Buying a used truck                                                            1\n",
       "Gotta save some dough                                                          1\n",
       "Debt Con                                                                       1\n",
       "Loan Consolidation                                                             1\n",
       "Future Window                                                                  1\n",
       "Thank goodness                                                                 1\n",
       "vacation                                                                       1\n",
       "Getoutoftrouble                                                                1\n",
       "Busines                                                                        1\n",
       " debt  consolidation                                                           1\n",
       "Fresh Start Debt Consolidation                                                 1\n",
       "Pay off loan                                                                   1\n",
       "Cash                                                                           1\n",
       "Gather em up and knock em down                                                 1\n",
       "Personal Bills                                                                 1\n",
       "Reduce Credit Card Interest                                                    1\n",
       "Keep It Simple                                                                 1\n",
       "Cards                                                                          1\n",
       "debt helper                                                                    1\n",
       "Debt Consolidation, Better Cashflow                                            1\n",
       "third                                                                          1\n",
       "CREDIT CARDS                                                                   1\n",
       "Back on Track                                                                  1\n",
       "change                                                                         1\n",
       "Fix Her Up                                                                     1\n",
       "Golf Loan                                                                      1\n",
       "rolledintoone                                                                  1\n",
       "Car for son by consolidating debt                                              1\n",
       "bebt consolidation                                                             1\n",
       "myloan                                                                         1\n",
       "dog house loan                                                                 1\n",
       "Purchase                                                                       1\n",
       "Credit Card Pay Off Loan                                                       1\n",
       "sun room                                                                       1\n",
       "Dr Will Evans                                                                  1\n",
       "Refinance Credit Card                                                          1\n",
       "Learning to live within my means                                               1\n",
       "Eliminate credit cards                                                         1\n",
       "IRS and Credit Card Consollidation                                             1\n",
       "Ford Falcon                                                                    1\n",
       "Nov 2012                                                                       1\n",
       "Get my life back loan                                                          1\n",
       "moremoney                                                                      1\n",
       "Simple Debt Consolidation                                                      1\n",
       "new leaf                                                                       1\n",
       "small business                                                                 1\n",
       "Payitoff                                                                       1\n",
       "Trailer Loan                                                                   1\n",
       "PAYOFDEBT                                                                      1\n",
       "Zero Balance My Credit Cards                                                   1\n",
       "Adoption Loan                                                                  1\n",
       "somepeacemaybe                                                                 1\n",
       "Small Business                                                                 1\n",
       "Moving to fixed interest rates                                                 1\n",
       "cc consolication                                                               1\n",
       "BILL CONSOLIDATION                                                             1\n",
       "Extension                                                                      1\n",
       "debt payoff / home improvement                                                 1\n",
       "Get Rid of My Credit Cards!                                                    1\n",
       "LC Loan                                                                        1\n",
       "Consolidating Debt to Increase FICO                                            1\n",
       "Repay 2                                                                        1\n",
       "boat                                                                           1\n",
       "2nd Truck For Commercial Fleet                                                 1\n",
       "Water Heater                                                                   1\n",
       "MathewG                                                                        1\n",
       "Credit Card Payment                                                            1\n",
       "Health Loan                                                                    1\n",
       "My Consolidation                                                               1\n",
       "Debt Pay-off                                                                   1\n",
       "Credit card debt                                                               1\n",
       "Debt Consolidation/Career Advancement                                          1\n",
       "My Money Loan                                                                  1\n",
       "Credit card debt onsolidation                                                  1\n",
       "CCPAYOFF2                                                                      1\n",
       "mybebt                                                                         1\n",
       "i would like to pay off credit cards                                           1\n",
       "Get rid of cc debt                                                             1\n",
       "Dignity                                                                        1\n",
       "loan 1 for credit cards                                                        1\n",
       "wedding loan                                                                   1\n",
       "taxes-pay off credit cards                                                     1\n",
       "Credit Refi                                                                    1\n",
       "School for the Whole Family                                                    1\n",
       "truck loan                                                                     1\n",
       "cards                                                                          1\n",
       "A Loan To Pay Off High-Interest Debt                                           1\n",
       "Personal refinance                                                             1\n",
       "Land Investment                                                                1\n",
       "Debt Consolidation / Home Improvement                                          1\n",
       "Becky's Loan                                                                   1\n",
       "LOVE MY YARD                                                                   1\n",
       "Room addition                                                                  1\n",
       "Credit card pay off                                                            1\n",
       "Debt Consolidation.                                                            1\n",
       "Estate resolution and personal                                                 1\n",
       "My Lending Club Loan                                                           1\n",
       "Consolidate Higher Interest Rate Debt                                          1\n",
       "New Redo                                                                       1\n",
       "Greenhouse                                                                     1\n",
       "Plumbing loan                                                                  1\n",
       "New Shingles                                                                   1\n",
       "Get out of debt faster loan                                                    1\n",
       "Greatful                                                                       1\n",
       "Property Tax                                                                   1\n",
       "3 in 1 - Three small sum debts into one                                        1\n",
       "Seans loan                                                                     1\n",
       "2013                                                                           1\n",
       "Home Renovations                                                               1\n",
       "My loan                                                                        1\n",
       "Major Medical Bills                                                            1\n",
       "Relocation to Chicago                                                          1\n",
       "MyRelief                                                                       1\n",
       "Debt Repayment                                                                 1\n",
       "undebt                                                                         1\n",
       "Cash Improvement                                                               1\n",
       "Bringing down the debt                                                         1\n",
       "bills and home improvement                                                     1\n",
       "Recreational Family Purchase                                                   1\n",
       "You Helped Me Greatly                                                          1\n",
       "Ready to get out of debt.                                                      1\n",
       "DEBTCONSOL                                                                     1\n",
       "lastrefi                                                                       1\n",
       "Clean up                                                                       1\n",
       "Michael's Loan                                                                 1\n",
       "I will provide solid ROI!                                                      1\n",
       "Debt Consoildate                                                               1\n",
       "Start to freedom                                                               1\n",
       "HELP                                                                           1\n",
       "Credit Payoff                                                                  1\n",
       "Investment in eCommerce business                                               1\n",
       "Paying off the Credit Cards!!                                                  1\n",
       "debit consolidation                                                            1\n",
       "Credit refinance                                                               1\n",
       "WINDOWS                                                                        1\n",
       "card debt                                                                      1\n",
       "debt consolidation and medical procedure                                       1\n",
       "Rainyday                                                                       1\n",
       "lending club                                                                   1\n",
       "Getting it right                                                               1\n",
       "retirement dream                                                               1\n",
       "1st Time Borrower                                                              1\n",
       "Credit Debt Consolidation                                                      1\n",
       "consolidation                                                                  1\n",
       "Credit Card Pay-Off                                                            1\n",
       "I would like a fix payment on my debt                                          1\n",
       "k an k                                                                         1\n",
       "Refinance                                                                      1\n",
       "cc refi                                                                        1\n",
       "get out of debt loan                                                           1\n",
       "Bring Things Together                                                          1\n",
       "Pay off 2011                                                                   1\n",
       "Consolidate cc                                                                 1\n",
       "Debt Consolidation/eliminate credit card                                       1\n",
       "Moving Forward                                                                 1\n",
       "Consolidating Debt                                                             1\n",
       "funeral                                                                        1\n",
       "Paying Uncle Sam                                                               1\n",
       "freedom loan                                                                   1\n",
       "Caterpillar to Butterfly: biz purchase                                         1\n",
       "nomoreworries                                                                  1\n",
       "myrefinanceloan                                                                1\n",
       "Credit Card Removal                                                            1\n",
       "Consolidator                                                                   1\n",
       "payoff debt                                                                    1\n",
       "Car payoff                                                                     1\n",
       "Home                                                                           1\n",
       "Credit Consolidate + Fresh Start!                                              1\n",
       "DCON                                                                           1\n",
       "Helpforme                                                                      1\n",
       "creditcards pay off                                                            1\n",
       "payoff bills                                                                   1\n",
       "2013 consolidation                                                             1\n",
       "CREDIT HEALTH                                                                  1\n",
       "PAY OFF CREDIT CARDS                                                           1\n",
       "New Card                                                                       1\n",
       "Appliance Loan                                                                 1\n",
       "CCRef                                                                          1\n",
       "Refi loan                                                                      1\n",
       "personalloan                                                                   1\n",
       "Big loan                                                                       1\n",
       "Name: title, dtype: int64>"
      ]
     },
     "execution_count": 56,
     "metadata": {},
     "output_type": "execute_result"
    }
   ],
   "source": [
    "loans['title'].value_counts().head"
   ]
  },
  {
   "cell_type": "markdown",
   "metadata": {},
   "source": [
    "Purpose and Title are quite similar so we can drop either one column"
   ]
  },
  {
   "cell_type": "code",
   "execution_count": 57,
   "metadata": {},
   "outputs": [],
   "source": [
    "loans.drop('title', axis=1, inplace=True)"
   ]
  },
  {
   "cell_type": "code",
   "execution_count": null,
   "metadata": {},
   "outputs": [],
   "source": []
  },
  {
   "cell_type": "code",
   "execution_count": null,
   "metadata": {},
   "outputs": [],
   "source": []
  },
  {
   "cell_type": "markdown",
   "metadata": {},
   "source": [
    "#### Zip code and Address state "
   ]
  },
  {
   "cell_type": "code",
   "execution_count": 58,
   "metadata": {},
   "outputs": [
    {
     "data": {
      "text/plain": [
       "count     13536\n",
       "unique      824\n",
       "top       112xx\n",
       "freq        138\n",
       "Name: zip_code, dtype: object"
      ]
     },
     "execution_count": 58,
     "metadata": {},
     "output_type": "execute_result"
    }
   ],
   "source": [
    "loans['zip_code'].describe()"
   ]
  },
  {
   "cell_type": "code",
   "execution_count": 59,
   "metadata": {},
   "outputs": [
    {
     "data": {
      "text/plain": [
       "363216     WA\n",
       "1510895    CT\n",
       "1819260    NY\n",
       "1303736    MO\n",
       "1792251    KY\n",
       "Name: addr_state, dtype: object"
      ]
     },
     "execution_count": 59,
     "metadata": {},
     "output_type": "execute_result"
    }
   ],
   "source": [
    "loans['addr_state'].sample(5)"
   ]
  },
  {
   "cell_type": "code",
   "execution_count": 60,
   "metadata": {},
   "outputs": [
    {
     "data": {
      "text/plain": [
       "50"
      ]
     },
     "execution_count": 60,
     "metadata": {},
     "output_type": "execute_result"
    }
   ],
   "source": [
    "loans['addr_state'].nunique()"
   ]
  },
  {
   "cell_type": "markdown",
   "metadata": {},
   "source": [
    "Zip code and address are quite similar which tells about address of applicant, so we will drop one column with more unique values"
   ]
  },
  {
   "cell_type": "code",
   "execution_count": 61,
   "metadata": {},
   "outputs": [
    {
     "data": {
      "text/plain": [
       "addr_state\n",
       "HI   0.09\n",
       "OR   0.10\n",
       "WV   0.11\n",
       "MA   0.13\n",
       "CO   0.14\n",
       "RI   0.15\n",
       "SD   0.16\n",
       "WY   0.16\n",
       "WA   0.16\n",
       "GA   0.16\n",
       "IL   0.17\n",
       "MN   0.17\n",
       "NV   0.17\n",
       "WI   0.17\n",
       "SC   0.18\n",
       "DC   0.18\n",
       "NH   0.18\n",
       "CA   0.18\n",
       "AL   0.19\n",
       "IN   0.19\n",
       "VT   0.19\n",
       "NM   0.19\n",
       "NE   0.19\n",
       "AZ   0.20\n",
       "MO   0.21\n",
       "MI   0.21\n",
       "CT   0.21\n",
       "TX   0.21\n",
       "FL   0.21\n",
       "PA   0.21\n",
       "VA   0.21\n",
       "OH   0.21\n",
       "KY   0.21\n",
       "TN   0.21\n",
       "KS   0.22\n",
       "NY   0.22\n",
       "MS   0.22\n",
       "UT   0.22\n",
       "MT   0.22\n",
       "MD   0.22\n",
       "NC   0.23\n",
       "NJ   0.23\n",
       "LA   0.23\n",
       "OK   0.23\n",
       "AK   0.24\n",
       "ND   0.25\n",
       "DE   0.27\n",
       "AR   0.29\n",
       "ID   0.33\n",
       "Name: loan_status, dtype: float64"
      ]
     },
     "execution_count": 61,
     "metadata": {},
     "output_type": "execute_result"
    }
   ],
   "source": [
    "loans.groupby('addr_state')['loan_status'].value_counts(normalize=True).loc[:,'Charged Off'].sort_values()"
   ]
  },
  {
   "cell_type": "markdown",
   "metadata": {},
   "source": [
    "MS state having highest charge off rates with 26%"
   ]
  },
  {
   "cell_type": "code",
   "execution_count": 62,
   "metadata": {},
   "outputs": [],
   "source": [
    "loans.drop(labels='zip_code', axis=1, inplace=True)"
   ]
  },
  {
   "cell_type": "code",
   "execution_count": null,
   "metadata": {},
   "outputs": [],
   "source": []
  },
  {
   "cell_type": "markdown",
   "metadata": {},
   "source": [
    "#### Initial list status"
   ]
  },
  {
   "cell_type": "code",
   "execution_count": 63,
   "metadata": {},
   "outputs": [
    {
     "data": {
      "text/plain": [
       "count     13536\n",
       "unique        2\n",
       "top           w\n",
       "freq       7835\n",
       "Name: initial_list_status, dtype: object"
      ]
     },
     "execution_count": 63,
     "metadata": {},
     "output_type": "execute_result"
    }
   ],
   "source": [
    "loans['initial_list_status'].describe()"
   ]
  },
  {
   "cell_type": "code",
   "execution_count": 64,
   "metadata": {},
   "outputs": [
    {
     "name": "stderr",
     "output_type": "stream",
     "text": [
      "C:\\Users\\user\\miniconda3\\envs\\sm-202011\\lib\\site-packages\\seaborn\\_decorators.py:43: FutureWarning: Pass the following variable as a keyword arg: x. From version 0.12, the only valid positional argument will be `data`, and passing other arguments without an explicit keyword will result in an error or misinterpretation.\n",
      "  FutureWarning\n"
     ]
    },
    {
     "data": {
      "image/png": "[encoded data removed]",
      "text/plain": [
       "<Figure size 1080x270 with 2 Axes>"
      ]
     },
     "metadata": {},
     "output_type": "display_data"
    }
   ],
   "source": [
    "plot_var('initial_list_status', 'Initial List Status', continuous=False)"
   ]
  },
  {
   "cell_type": "markdown",
   "metadata": {},
   "source": [
    "Charge off rates for \"w\" and \"f\" status are similar with 20%"
   ]
  },
  {
   "cell_type": "code",
   "execution_count": null,
   "metadata": {},
   "outputs": [],
   "source": []
  },
  {
   "cell_type": "markdown",
   "metadata": {},
   "source": [
    "#### Application type"
   ]
  },
  {
   "cell_type": "code",
   "execution_count": 65,
   "metadata": {},
   "outputs": [
    {
     "data": {
      "text/plain": [
       "Individual   0.98\n",
       "Joint App    0.02\n",
       "Name: application_type, dtype: float64"
      ]
     },
     "execution_count": 65,
     "metadata": {},
     "output_type": "execute_result"
    }
   ],
   "source": [
    "loans['application_type'].value_counts(normalize=True)"
   ]
  },
  {
   "cell_type": "code",
   "execution_count": 66,
   "metadata": {},
   "outputs": [
    {
     "data": {
      "text/plain": [
       "application_type\n",
       "Individual   0.20\n",
       "Joint App    0.21\n",
       "Name: loan_status, dtype: float64"
      ]
     },
     "execution_count": 66,
     "metadata": {},
     "output_type": "execute_result"
    }
   ],
   "source": [
    "loans.groupby('application_type')['loan_status'].value_counts(normalize=True).loc[:,'Charged Off']"
   ]
  },
  {
   "cell_type": "markdown",
   "metadata": {},
   "source": [
    "2% Loan applicants are Joint application types which are having 25% of charge off rates "
   ]
  },
  {
   "cell_type": "code",
   "execution_count": null,
   "metadata": {},
   "outputs": [],
   "source": []
  },
  {
   "cell_type": "markdown",
   "metadata": {},
   "source": [
    "### Analyzing Numerical Data"
   ]
  },
  {
   "cell_type": "markdown",
   "metadata": {},
   "source": [
    "#### Loan amount"
   ]
  },
  {
   "cell_type": "code",
   "execution_count": 67,
   "metadata": {},
   "outputs": [
    {
     "data": {
      "text/plain": [
       "count   13,536.00\n",
       "mean    14,366.39\n",
       "std      8,706.38\n",
       "min      1,000.00\n",
       "25%      7,875.00\n",
       "50%     12,000.00\n",
       "75%     20,000.00\n",
       "max     40,000.00\n",
       "Name: loan_amnt, dtype: float64"
      ]
     },
     "execution_count": 67,
     "metadata": {},
     "output_type": "execute_result"
    }
   ],
   "source": [
    "loans['loan_amnt'].describe()"
   ]
  },
  {
   "cell_type": "code",
   "execution_count": 68,
   "metadata": {},
   "outputs": [],
   "source": [
    "loans['loan_amnt'] = loans['loan_amnt'].apply(lambda x: np.log10(x+1)) #applying log10 to calculate numerical value"
   ]
  },
  {
   "cell_type": "code",
   "execution_count": 69,
   "metadata": {},
   "outputs": [
    {
     "data": {
      "text/html": [
       "<div>\n",
       "<style scoped>\n",
       "    .dataframe tbody tr th:only-of-type {\n",
       "        vertical-align: middle;\n",
       "    }\n",
       "\n",
       "    .dataframe tbody tr th {\n",
       "        vertical-align: top;\n",
       "    }\n",
       "\n",
       "    .dataframe thead th {\n",
       "        text-align: right;\n",
       "    }\n",
       "</style>\n",
       "<table border=\"1\" class=\"dataframe\">\n",
       "  <thead>\n",
       "    <tr style=\"text-align: right;\">\n",
       "      <th></th>\n",
       "      <th>count</th>\n",
       "      <th>mean</th>\n",
       "      <th>std</th>\n",
       "      <th>min</th>\n",
       "      <th>25%</th>\n",
       "      <th>50%</th>\n",
       "      <th>75%</th>\n",
       "      <th>max</th>\n",
       "    </tr>\n",
       "    <tr>\n",
       "      <th>loan_status</th>\n",
       "      <th></th>\n",
       "      <th></th>\n",
       "      <th></th>\n",
       "      <th></th>\n",
       "      <th></th>\n",
       "      <th></th>\n",
       "      <th></th>\n",
       "      <th></th>\n",
       "    </tr>\n",
       "  </thead>\n",
       "  <tbody>\n",
       "    <tr>\n",
       "      <th>Charged Off</th>\n",
       "      <td>2,646.00</td>\n",
       "      <td>4.12</td>\n",
       "      <td>0.29</td>\n",
       "      <td>3.00</td>\n",
       "      <td>3.97</td>\n",
       "      <td>4.18</td>\n",
       "      <td>4.32</td>\n",
       "      <td>4.60</td>\n",
       "    </tr>\n",
       "    <tr>\n",
       "      <th>Fully Paid</th>\n",
       "      <td>10,890.00</td>\n",
       "      <td>4.05</td>\n",
       "      <td>0.30</td>\n",
       "      <td>3.00</td>\n",
       "      <td>3.87</td>\n",
       "      <td>4.08</td>\n",
       "      <td>4.30</td>\n",
       "      <td>4.60</td>\n",
       "    </tr>\n",
       "  </tbody>\n",
       "</table>\n",
       "</div>"
      ],
      "text/plain": [
       "                count  mean  std  min  25%  50%  75%  max\n",
       "loan_status                                              \n",
       "Charged Off  2,646.00  4.12 0.29 3.00 3.97 4.18 4.32 4.60\n",
       "Fully Paid  10,890.00  4.05 0.30 3.00 3.87 4.08 4.30 4.60"
      ]
     },
     "execution_count": 69,
     "metadata": {},
     "output_type": "execute_result"
    }
   ],
   "source": [
    "loans.groupby('loan_status')['loan_amnt'].describe()"
   ]
  },
  {
   "cell_type": "code",
   "execution_count": null,
   "metadata": {},
   "outputs": [],
   "source": []
  },
  {
   "cell_type": "markdown",
   "metadata": {},
   "source": [
    "#### Interest Rate"
   ]
  },
  {
   "cell_type": "code",
   "execution_count": 70,
   "metadata": {},
   "outputs": [
    {
     "data": {
      "text/plain": [
       "count   13,536.00\n",
       "mean        13.25\n",
       "std          4.77\n",
       "min          5.31\n",
       "25%          9.76\n",
       "50%         12.74\n",
       "75%         15.99\n",
       "max         30.99\n",
       "Name: int_rate, dtype: float64"
      ]
     },
     "execution_count": 70,
     "metadata": {},
     "output_type": "execute_result"
    }
   ],
   "source": [
    "loans['int_rate'].describe()"
   ]
  },
  {
   "cell_type": "code",
   "execution_count": 71,
   "metadata": {},
   "outputs": [
    {
     "data": {
      "text/html": [
       "<div>\n",
       "<style scoped>\n",
       "    .dataframe tbody tr th:only-of-type {\n",
       "        vertical-align: middle;\n",
       "    }\n",
       "\n",
       "    .dataframe tbody tr th {\n",
       "        vertical-align: top;\n",
       "    }\n",
       "\n",
       "    .dataframe thead th {\n",
       "        text-align: right;\n",
       "    }\n",
       "</style>\n",
       "<table border=\"1\" class=\"dataframe\">\n",
       "  <thead>\n",
       "    <tr style=\"text-align: right;\">\n",
       "      <th></th>\n",
       "      <th>count</th>\n",
       "      <th>mean</th>\n",
       "      <th>std</th>\n",
       "      <th>min</th>\n",
       "      <th>25%</th>\n",
       "      <th>50%</th>\n",
       "      <th>75%</th>\n",
       "      <th>max</th>\n",
       "    </tr>\n",
       "    <tr>\n",
       "      <th>loan_status</th>\n",
       "      <th></th>\n",
       "      <th></th>\n",
       "      <th></th>\n",
       "      <th></th>\n",
       "      <th></th>\n",
       "      <th></th>\n",
       "      <th></th>\n",
       "      <th></th>\n",
       "    </tr>\n",
       "  </thead>\n",
       "  <tbody>\n",
       "    <tr>\n",
       "      <th>Charged Off</th>\n",
       "      <td>2,646.00</td>\n",
       "      <td>15.75</td>\n",
       "      <td>5.01</td>\n",
       "      <td>5.31</td>\n",
       "      <td>12.39</td>\n",
       "      <td>15.05</td>\n",
       "      <td>18.55</td>\n",
       "      <td>30.99</td>\n",
       "    </tr>\n",
       "    <tr>\n",
       "      <th>Fully Paid</th>\n",
       "      <td>10,890.00</td>\n",
       "      <td>12.64</td>\n",
       "      <td>4.51</td>\n",
       "      <td>5.31</td>\n",
       "      <td>9.17</td>\n",
       "      <td>12.29</td>\n",
       "      <td>15.10</td>\n",
       "      <td>30.99</td>\n",
       "    </tr>\n",
       "  </tbody>\n",
       "</table>\n",
       "</div>"
      ],
      "text/plain": [
       "                count  mean  std  min   25%   50%   75%   max\n",
       "loan_status                                                  \n",
       "Charged Off  2,646.00 15.75 5.01 5.31 12.39 15.05 18.55 30.99\n",
       "Fully Paid  10,890.00 12.64 4.51 5.31  9.17 12.29 15.10 30.99"
      ]
     },
     "execution_count": 71,
     "metadata": {},
     "output_type": "execute_result"
    }
   ],
   "source": [
    "loans.groupby('loan_status')['int_rate'].describe()"
   ]
  },
  {
   "cell_type": "code",
   "execution_count": 72,
   "metadata": {},
   "outputs": [
    {
     "data": {
      "text/html": [
       "<div>\n",
       "<style scoped>\n",
       "    .dataframe tbody tr th:only-of-type {\n",
       "        vertical-align: middle;\n",
       "    }\n",
       "\n",
       "    .dataframe tbody tr th {\n",
       "        vertical-align: top;\n",
       "    }\n",
       "\n",
       "    .dataframe thead th {\n",
       "        text-align: right;\n",
       "    }\n",
       "</style>\n",
       "<table border=\"1\" class=\"dataframe\">\n",
       "  <thead>\n",
       "    <tr style=\"text-align: right;\">\n",
       "      <th></th>\n",
       "      <th>count</th>\n",
       "      <th>mean</th>\n",
       "      <th>std</th>\n",
       "      <th>min</th>\n",
       "      <th>25%</th>\n",
       "      <th>50%</th>\n",
       "      <th>75%</th>\n",
       "      <th>max</th>\n",
       "    </tr>\n",
       "    <tr>\n",
       "      <th>purpose</th>\n",
       "      <th></th>\n",
       "      <th></th>\n",
       "      <th></th>\n",
       "      <th></th>\n",
       "      <th></th>\n",
       "      <th></th>\n",
       "      <th></th>\n",
       "      <th></th>\n",
       "    </tr>\n",
       "  </thead>\n",
       "  <tbody>\n",
       "    <tr>\n",
       "      <th>car</th>\n",
       "      <td>169.00</td>\n",
       "      <td>12.03</td>\n",
       "      <td>4.23</td>\n",
       "      <td>5.32</td>\n",
       "      <td>8.90</td>\n",
       "      <td>11.53</td>\n",
       "      <td>14.46</td>\n",
       "      <td>26.77</td>\n",
       "    </tr>\n",
       "    <tr>\n",
       "      <th>credit_card</th>\n",
       "      <td>3,026.00</td>\n",
       "      <td>11.78</td>\n",
       "      <td>4.22</td>\n",
       "      <td>5.31</td>\n",
       "      <td>8.24</td>\n",
       "      <td>11.44</td>\n",
       "      <td>13.99</td>\n",
       "      <td>30.99</td>\n",
       "    </tr>\n",
       "    <tr>\n",
       "      <th>debt_consolidation</th>\n",
       "      <td>7,790.00</td>\n",
       "      <td>13.64</td>\n",
       "      <td>4.74</td>\n",
       "      <td>5.31</td>\n",
       "      <td>10.48</td>\n",
       "      <td>13.18</td>\n",
       "      <td>16.29</td>\n",
       "      <td>30.99</td>\n",
       "    </tr>\n",
       "    <tr>\n",
       "      <th>educational</th>\n",
       "      <td>1.00</td>\n",
       "      <td>11.36</td>\n",
       "      <td>nan</td>\n",
       "      <td>11.36</td>\n",
       "      <td>11.36</td>\n",
       "      <td>11.36</td>\n",
       "      <td>11.36</td>\n",
       "      <td>11.36</td>\n",
       "    </tr>\n",
       "    <tr>\n",
       "      <th>home_improvement</th>\n",
       "      <td>903.00</td>\n",
       "      <td>12.65</td>\n",
       "      <td>4.83</td>\n",
       "      <td>5.32</td>\n",
       "      <td>8.90</td>\n",
       "      <td>12.29</td>\n",
       "      <td>15.41</td>\n",
       "      <td>30.74</td>\n",
       "    </tr>\n",
       "    <tr>\n",
       "      <th>house</th>\n",
       "      <td>58.00</td>\n",
       "      <td>15.34</td>\n",
       "      <td>5.04</td>\n",
       "      <td>7.24</td>\n",
       "      <td>12.03</td>\n",
       "      <td>14.25</td>\n",
       "      <td>18.78</td>\n",
       "      <td>28.72</td>\n",
       "    </tr>\n",
       "    <tr>\n",
       "      <th>major_purchase</th>\n",
       "      <td>309.00</td>\n",
       "      <td>13.00</td>\n",
       "      <td>4.71</td>\n",
       "      <td>5.32</td>\n",
       "      <td>9.49</td>\n",
       "      <td>12.69</td>\n",
       "      <td>15.49</td>\n",
       "      <td>29.99</td>\n",
       "    </tr>\n",
       "    <tr>\n",
       "      <th>medical</th>\n",
       "      <td>159.00</td>\n",
       "      <td>13.78</td>\n",
       "      <td>4.90</td>\n",
       "      <td>5.31</td>\n",
       "      <td>10.42</td>\n",
       "      <td>13.49</td>\n",
       "      <td>16.38</td>\n",
       "      <td>28.72</td>\n",
       "    </tr>\n",
       "    <tr>\n",
       "      <th>moving</th>\n",
       "      <td>92.00</td>\n",
       "      <td>15.58</td>\n",
       "      <td>5.43</td>\n",
       "      <td>6.00</td>\n",
       "      <td>11.99</td>\n",
       "      <td>14.82</td>\n",
       "      <td>19.29</td>\n",
       "      <td>30.99</td>\n",
       "    </tr>\n",
       "    <tr>\n",
       "      <th>other</th>\n",
       "      <td>785.00</td>\n",
       "      <td>14.90</td>\n",
       "      <td>5.25</td>\n",
       "      <td>5.31</td>\n",
       "      <td>11.44</td>\n",
       "      <td>14.26</td>\n",
       "      <td>17.99</td>\n",
       "      <td>30.99</td>\n",
       "    </tr>\n",
       "    <tr>\n",
       "      <th>renewable_energy</th>\n",
       "      <td>8.00</td>\n",
       "      <td>15.03</td>\n",
       "      <td>4.22</td>\n",
       "      <td>6.49</td>\n",
       "      <td>13.44</td>\n",
       "      <td>15.52</td>\n",
       "      <td>18.62</td>\n",
       "      <td>18.92</td>\n",
       "    </tr>\n",
       "    <tr>\n",
       "      <th>small_business</th>\n",
       "      <td>142.00</td>\n",
       "      <td>16.56</td>\n",
       "      <td>5.47</td>\n",
       "      <td>5.31</td>\n",
       "      <td>12.99</td>\n",
       "      <td>16.16</td>\n",
       "      <td>19.97</td>\n",
       "      <td>30.75</td>\n",
       "    </tr>\n",
       "    <tr>\n",
       "      <th>vacation</th>\n",
       "      <td>70.00</td>\n",
       "      <td>13.27</td>\n",
       "      <td>4.45</td>\n",
       "      <td>6.49</td>\n",
       "      <td>10.44</td>\n",
       "      <td>12.99</td>\n",
       "      <td>15.61</td>\n",
       "      <td>30.79</td>\n",
       "    </tr>\n",
       "    <tr>\n",
       "      <th>wedding</th>\n",
       "      <td>24.00</td>\n",
       "      <td>13.31</td>\n",
       "      <td>4.86</td>\n",
       "      <td>6.62</td>\n",
       "      <td>9.44</td>\n",
       "      <td>12.55</td>\n",
       "      <td>17.77</td>\n",
       "      <td>22.95</td>\n",
       "    </tr>\n",
       "  </tbody>\n",
       "</table>\n",
       "</div>"
      ],
      "text/plain": [
       "                      count  mean  std   min   25%   50%   75%   max\n",
       "purpose                                                             \n",
       "car                  169.00 12.03 4.23  5.32  8.90 11.53 14.46 26.77\n",
       "credit_card        3,026.00 11.78 4.22  5.31  8.24 11.44 13.99 30.99\n",
       "debt_consolidation 7,790.00 13.64 4.74  5.31 10.48 13.18 16.29 30.99\n",
       "educational            1.00 11.36  nan 11.36 11.36 11.36 11.36 11.36\n",
       "home_improvement     903.00 12.65 4.83  5.32  8.90 12.29 15.41 30.74\n",
       "house                 58.00 15.34 5.04  7.24 12.03 14.25 18.78 28.72\n",
       "major_purchase       309.00 13.00 4.71  5.32  9.49 12.69 15.49 29.99\n",
       "medical              159.00 13.78 4.90  5.31 10.42 13.49 16.38 28.72\n",
       "moving                92.00 15.58 5.43  6.00 11.99 14.82 19.29 30.99\n",
       "other                785.00 14.90 5.25  5.31 11.44 14.26 17.99 30.99\n",
       "renewable_energy       8.00 15.03 4.22  6.49 13.44 15.52 18.62 18.92\n",
       "small_business       142.00 16.56 5.47  5.31 12.99 16.16 19.97 30.75\n",
       "vacation              70.00 13.27 4.45  6.49 10.44 12.99 15.61 30.79\n",
       "wedding               24.00 13.31 4.86  6.62  9.44 12.55 17.77 22.95"
      ]
     },
     "execution_count": 72,
     "metadata": {},
     "output_type": "execute_result"
    }
   ],
   "source": [
    "loans.groupby('purpose')['int_rate'].describe()"
   ]
  },
  {
   "cell_type": "code",
   "execution_count": 73,
   "metadata": {},
   "outputs": [
    {
     "data": {
      "text/html": [
       "<div>\n",
       "<style scoped>\n",
       "    .dataframe tbody tr th:only-of-type {\n",
       "        vertical-align: middle;\n",
       "    }\n",
       "\n",
       "    .dataframe tbody tr th {\n",
       "        vertical-align: top;\n",
       "    }\n",
       "\n",
       "    .dataframe thead th {\n",
       "        text-align: right;\n",
       "    }\n",
       "</style>\n",
       "<table border=\"1\" class=\"dataframe\">\n",
       "  <thead>\n",
       "    <tr style=\"text-align: right;\">\n",
       "      <th></th>\n",
       "      <th>count</th>\n",
       "      <th>mean</th>\n",
       "      <th>std</th>\n",
       "      <th>min</th>\n",
       "      <th>25%</th>\n",
       "      <th>50%</th>\n",
       "      <th>75%</th>\n",
       "      <th>max</th>\n",
       "    </tr>\n",
       "    <tr>\n",
       "      <th>sub_grade</th>\n",
       "      <th></th>\n",
       "      <th></th>\n",
       "      <th></th>\n",
       "      <th></th>\n",
       "      <th></th>\n",
       "      <th></th>\n",
       "      <th></th>\n",
       "      <th></th>\n",
       "    </tr>\n",
       "  </thead>\n",
       "  <tbody>\n",
       "    <tr>\n",
       "      <th>A1</th>\n",
       "      <td>439.00</td>\n",
       "      <td>5.53</td>\n",
       "      <td>0.32</td>\n",
       "      <td>5.31</td>\n",
       "      <td>5.32</td>\n",
       "      <td>5.32</td>\n",
       "      <td>6.03</td>\n",
       "      <td>6.46</td>\n",
       "    </tr>\n",
       "    <tr>\n",
       "      <th>A2</th>\n",
       "      <td>393.00</td>\n",
       "      <td>6.55</td>\n",
       "      <td>0.32</td>\n",
       "      <td>5.79</td>\n",
       "      <td>6.24</td>\n",
       "      <td>6.49</td>\n",
       "      <td>6.62</td>\n",
       "      <td>7.68</td>\n",
       "    </tr>\n",
       "    <tr>\n",
       "      <th>A3</th>\n",
       "      <td>359.00</td>\n",
       "      <td>7.10</td>\n",
       "      <td>0.31</td>\n",
       "      <td>6.17</td>\n",
       "      <td>6.89</td>\n",
       "      <td>6.99</td>\n",
       "      <td>7.24</td>\n",
       "      <td>8.00</td>\n",
       "    </tr>\n",
       "    <tr>\n",
       "      <th>A4</th>\n",
       "      <td>541.00</td>\n",
       "      <td>7.50</td>\n",
       "      <td>0.32</td>\n",
       "      <td>6.54</td>\n",
       "      <td>7.26</td>\n",
       "      <td>7.49</td>\n",
       "      <td>7.69</td>\n",
       "      <td>8.60</td>\n",
       "    </tr>\n",
       "    <tr>\n",
       "      <th>A5</th>\n",
       "      <td>623.00</td>\n",
       "      <td>8.18</td>\n",
       "      <td>0.42</td>\n",
       "      <td>6.91</td>\n",
       "      <td>7.89</td>\n",
       "      <td>7.97</td>\n",
       "      <td>8.39</td>\n",
       "      <td>9.25</td>\n",
       "    </tr>\n",
       "    <tr>\n",
       "      <th>B1</th>\n",
       "      <td>713.00</td>\n",
       "      <td>8.90</td>\n",
       "      <td>0.69</td>\n",
       "      <td>8.18</td>\n",
       "      <td>8.24</td>\n",
       "      <td>8.67</td>\n",
       "      <td>9.44</td>\n",
       "      <td>10.95</td>\n",
       "    </tr>\n",
       "    <tr>\n",
       "      <th>B2</th>\n",
       "      <td>683.00</td>\n",
       "      <td>9.93</td>\n",
       "      <td>0.73</td>\n",
       "      <td>9.16</td>\n",
       "      <td>9.17</td>\n",
       "      <td>9.93</td>\n",
       "      <td>10.49</td>\n",
       "      <td>11.48</td>\n",
       "    </tr>\n",
       "    <tr>\n",
       "      <th>B3</th>\n",
       "      <td>835.00</td>\n",
       "      <td>10.76</td>\n",
       "      <td>0.85</td>\n",
       "      <td>9.62</td>\n",
       "      <td>9.99</td>\n",
       "      <td>10.49</td>\n",
       "      <td>11.55</td>\n",
       "      <td>12.12</td>\n",
       "    </tr>\n",
       "    <tr>\n",
       "      <th>B4</th>\n",
       "      <td>846.00</td>\n",
       "      <td>11.49</td>\n",
       "      <td>0.81</td>\n",
       "      <td>9.99</td>\n",
       "      <td>10.91</td>\n",
       "      <td>10.99</td>\n",
       "      <td>11.67</td>\n",
       "      <td>13.11</td>\n",
       "    </tr>\n",
       "    <tr>\n",
       "      <th>B5</th>\n",
       "      <td>818.00</td>\n",
       "      <td>12.01</td>\n",
       "      <td>0.78</td>\n",
       "      <td>10.36</td>\n",
       "      <td>11.49</td>\n",
       "      <td>11.53</td>\n",
       "      <td>12.49</td>\n",
       "      <td>14.09</td>\n",
       "    </tr>\n",
       "    <tr>\n",
       "      <th>C1</th>\n",
       "      <td>876.00</td>\n",
       "      <td>12.73</td>\n",
       "      <td>0.72</td>\n",
       "      <td>6.00</td>\n",
       "      <td>12.29</td>\n",
       "      <td>12.62</td>\n",
       "      <td>12.99</td>\n",
       "      <td>14.33</td>\n",
       "    </tr>\n",
       "    <tr>\n",
       "      <th>C2</th>\n",
       "      <td>818.00</td>\n",
       "      <td>13.40</td>\n",
       "      <td>0.80</td>\n",
       "      <td>6.00</td>\n",
       "      <td>12.69</td>\n",
       "      <td>13.35</td>\n",
       "      <td>13.59</td>\n",
       "      <td>15.31</td>\n",
       "    </tr>\n",
       "    <tr>\n",
       "      <th>C3</th>\n",
       "      <td>781.00</td>\n",
       "      <td>13.98</td>\n",
       "      <td>0.69</td>\n",
       "      <td>13.18</td>\n",
       "      <td>13.33</td>\n",
       "      <td>13.98</td>\n",
       "      <td>14.08</td>\n",
       "      <td>15.80</td>\n",
       "    </tr>\n",
       "    <tr>\n",
       "      <th>C4</th>\n",
       "      <td>772.00</td>\n",
       "      <td>14.72</td>\n",
       "      <td>0.71</td>\n",
       "      <td>13.35</td>\n",
       "      <td>13.99</td>\n",
       "      <td>14.49</td>\n",
       "      <td>15.05</td>\n",
       "      <td>16.29</td>\n",
       "    </tr>\n",
       "    <tr>\n",
       "      <th>C5</th>\n",
       "      <td>690.00</td>\n",
       "      <td>15.58</td>\n",
       "      <td>0.82</td>\n",
       "      <td>13.72</td>\n",
       "      <td>14.99</td>\n",
       "      <td>15.59</td>\n",
       "      <td>16.02</td>\n",
       "      <td>17.27</td>\n",
       "    </tr>\n",
       "    <tr>\n",
       "      <th>D1</th>\n",
       "      <td>531.00</td>\n",
       "      <td>16.32</td>\n",
       "      <td>0.84</td>\n",
       "      <td>12.86</td>\n",
       "      <td>15.61</td>\n",
       "      <td>16.29</td>\n",
       "      <td>16.99</td>\n",
       "      <td>17.97</td>\n",
       "    </tr>\n",
       "    <tr>\n",
       "      <th>D2</th>\n",
       "      <td>453.00</td>\n",
       "      <td>17.16</td>\n",
       "      <td>0.92</td>\n",
       "      <td>13.17</td>\n",
       "      <td>16.55</td>\n",
       "      <td>17.27</td>\n",
       "      <td>17.99</td>\n",
       "      <td>18.94</td>\n",
       "    </tr>\n",
       "    <tr>\n",
       "      <th>D3</th>\n",
       "      <td>378.00</td>\n",
       "      <td>17.96</td>\n",
       "      <td>1.05</td>\n",
       "      <td>14.83</td>\n",
       "      <td>16.99</td>\n",
       "      <td>18.25</td>\n",
       "      <td>18.99</td>\n",
       "      <td>19.92</td>\n",
       "    </tr>\n",
       "    <tr>\n",
       "      <th>D4</th>\n",
       "      <td>327.00</td>\n",
       "      <td>18.47</td>\n",
       "      <td>1.40</td>\n",
       "      <td>6.00</td>\n",
       "      <td>17.57</td>\n",
       "      <td>18.92</td>\n",
       "      <td>19.52</td>\n",
       "      <td>20.89</td>\n",
       "    </tr>\n",
       "    <tr>\n",
       "      <th>D5</th>\n",
       "      <td>295.00</td>\n",
       "      <td>19.47</td>\n",
       "      <td>1.58</td>\n",
       "      <td>15.57</td>\n",
       "      <td>17.86</td>\n",
       "      <td>19.53</td>\n",
       "      <td>21.45</td>\n",
       "      <td>22.35</td>\n",
       "    </tr>\n",
       "    <tr>\n",
       "      <th>E1</th>\n",
       "      <td>244.00</td>\n",
       "      <td>19.96</td>\n",
       "      <td>1.73</td>\n",
       "      <td>16.40</td>\n",
       "      <td>18.25</td>\n",
       "      <td>19.99</td>\n",
       "      <td>20.99</td>\n",
       "      <td>23.40</td>\n",
       "    </tr>\n",
       "    <tr>\n",
       "      <th>E2</th>\n",
       "      <td>187.00</td>\n",
       "      <td>20.42</td>\n",
       "      <td>1.99</td>\n",
       "      <td>13.75</td>\n",
       "      <td>18.84</td>\n",
       "      <td>19.52</td>\n",
       "      <td>21.15</td>\n",
       "      <td>24.37</td>\n",
       "    </tr>\n",
       "    <tr>\n",
       "      <th>E3</th>\n",
       "      <td>184.00</td>\n",
       "      <td>21.09</td>\n",
       "      <td>2.21</td>\n",
       "      <td>15.57</td>\n",
       "      <td>19.19</td>\n",
       "      <td>20.20</td>\n",
       "      <td>22.40</td>\n",
       "      <td>25.34</td>\n",
       "    </tr>\n",
       "    <tr>\n",
       "      <th>E4</th>\n",
       "      <td>166.00</td>\n",
       "      <td>21.93</td>\n",
       "      <td>2.51</td>\n",
       "      <td>6.00</td>\n",
       "      <td>20.49</td>\n",
       "      <td>21.97</td>\n",
       "      <td>23.10</td>\n",
       "      <td>26.31</td>\n",
       "    </tr>\n",
       "    <tr>\n",
       "      <th>E5</th>\n",
       "      <td>152.00</td>\n",
       "      <td>23.28</td>\n",
       "      <td>2.33</td>\n",
       "      <td>16.95</td>\n",
       "      <td>21.89</td>\n",
       "      <td>22.45</td>\n",
       "      <td>26.24</td>\n",
       "      <td>27.27</td>\n",
       "    </tr>\n",
       "    <tr>\n",
       "      <th>F1</th>\n",
       "      <td>113.00</td>\n",
       "      <td>24.08</td>\n",
       "      <td>2.47</td>\n",
       "      <td>17.26</td>\n",
       "      <td>22.95</td>\n",
       "      <td>23.43</td>\n",
       "      <td>25.69</td>\n",
       "      <td>28.72</td>\n",
       "    </tr>\n",
       "    <tr>\n",
       "      <th>F2</th>\n",
       "      <td>60.00</td>\n",
       "      <td>25.05</td>\n",
       "      <td>2.54</td>\n",
       "      <td>18.43</td>\n",
       "      <td>23.28</td>\n",
       "      <td>24.08</td>\n",
       "      <td>26.49</td>\n",
       "      <td>29.69</td>\n",
       "    </tr>\n",
       "    <tr>\n",
       "      <th>F3</th>\n",
       "      <td>66.00</td>\n",
       "      <td>24.79</td>\n",
       "      <td>2.42</td>\n",
       "      <td>18.99</td>\n",
       "      <td>23.99</td>\n",
       "      <td>24.50</td>\n",
       "      <td>24.99</td>\n",
       "      <td>30.17</td>\n",
       "    </tr>\n",
       "    <tr>\n",
       "      <th>F4</th>\n",
       "      <td>51.00</td>\n",
       "      <td>25.98</td>\n",
       "      <td>2.68</td>\n",
       "      <td>18.91</td>\n",
       "      <td>24.99</td>\n",
       "      <td>24.99</td>\n",
       "      <td>26.68</td>\n",
       "      <td>30.65</td>\n",
       "    </tr>\n",
       "    <tr>\n",
       "      <th>F5</th>\n",
       "      <td>45.00</td>\n",
       "      <td>26.24</td>\n",
       "      <td>2.36</td>\n",
       "      <td>19.29</td>\n",
       "      <td>25.57</td>\n",
       "      <td>25.57</td>\n",
       "      <td>26.57</td>\n",
       "      <td>30.75</td>\n",
       "    </tr>\n",
       "    <tr>\n",
       "      <th>G1</th>\n",
       "      <td>33.00</td>\n",
       "      <td>27.23</td>\n",
       "      <td>2.26</td>\n",
       "      <td>22.74</td>\n",
       "      <td>25.80</td>\n",
       "      <td>26.77</td>\n",
       "      <td>28.18</td>\n",
       "      <td>30.79</td>\n",
       "    </tr>\n",
       "    <tr>\n",
       "      <th>G2</th>\n",
       "      <td>17.00</td>\n",
       "      <td>26.25</td>\n",
       "      <td>2.48</td>\n",
       "      <td>20.48</td>\n",
       "      <td>25.83</td>\n",
       "      <td>25.83</td>\n",
       "      <td>27.49</td>\n",
       "      <td>30.84</td>\n",
       "    </tr>\n",
       "    <tr>\n",
       "      <th>G3</th>\n",
       "      <td>21.00</td>\n",
       "      <td>27.59</td>\n",
       "      <td>1.80</td>\n",
       "      <td>25.89</td>\n",
       "      <td>25.89</td>\n",
       "      <td>27.88</td>\n",
       "      <td>28.34</td>\n",
       "      <td>30.89</td>\n",
       "    </tr>\n",
       "    <tr>\n",
       "      <th>G4</th>\n",
       "      <td>12.00</td>\n",
       "      <td>29.04</td>\n",
       "      <td>1.79</td>\n",
       "      <td>25.99</td>\n",
       "      <td>28.49</td>\n",
       "      <td>28.67</td>\n",
       "      <td>30.94</td>\n",
       "      <td>30.94</td>\n",
       "    </tr>\n",
       "    <tr>\n",
       "      <th>G5</th>\n",
       "      <td>14.00</td>\n",
       "      <td>28.72</td>\n",
       "      <td>2.39</td>\n",
       "      <td>24.89</td>\n",
       "      <td>26.06</td>\n",
       "      <td>28.99</td>\n",
       "      <td>30.99</td>\n",
       "      <td>30.99</td>\n",
       "    </tr>\n",
       "  </tbody>\n",
       "</table>\n",
       "</div>"
      ],
      "text/plain": [
       "           count  mean  std   min   25%   50%   75%   max\n",
       "sub_grade                                                \n",
       "A1        439.00  5.53 0.32  5.31  5.32  5.32  6.03  6.46\n",
       "A2        393.00  6.55 0.32  5.79  6.24  6.49  6.62  7.68\n",
       "A3        359.00  7.10 0.31  6.17  6.89  6.99  7.24  8.00\n",
       "A4        541.00  7.50 0.32  6.54  7.26  7.49  7.69  8.60\n",
       "A5        623.00  8.18 0.42  6.91  7.89  7.97  8.39  9.25\n",
       "B1        713.00  8.90 0.69  8.18  8.24  8.67  9.44 10.95\n",
       "B2        683.00  9.93 0.73  9.16  9.17  9.93 10.49 11.48\n",
       "B3        835.00 10.76 0.85  9.62  9.99 10.49 11.55 12.12\n",
       "B4        846.00 11.49 0.81  9.99 10.91 10.99 11.67 13.11\n",
       "B5        818.00 12.01 0.78 10.36 11.49 11.53 12.49 14.09\n",
       "C1        876.00 12.73 0.72  6.00 12.29 12.62 12.99 14.33\n",
       "C2        818.00 13.40 0.80  6.00 12.69 13.35 13.59 15.31\n",
       "C3        781.00 13.98 0.69 13.18 13.33 13.98 14.08 15.80\n",
       "C4        772.00 14.72 0.71 13.35 13.99 14.49 15.05 16.29\n",
       "C5        690.00 15.58 0.82 13.72 14.99 15.59 16.02 17.27\n",
       "D1        531.00 16.32 0.84 12.86 15.61 16.29 16.99 17.97\n",
       "D2        453.00 17.16 0.92 13.17 16.55 17.27 17.99 18.94\n",
       "D3        378.00 17.96 1.05 14.83 16.99 18.25 18.99 19.92\n",
       "D4        327.00 18.47 1.40  6.00 17.57 18.92 19.52 20.89\n",
       "D5        295.00 19.47 1.58 15.57 17.86 19.53 21.45 22.35\n",
       "E1        244.00 19.96 1.73 16.40 18.25 19.99 20.99 23.40\n",
       "E2        187.00 20.42 1.99 13.75 18.84 19.52 21.15 24.37\n",
       "E3        184.00 21.09 2.21 15.57 19.19 20.20 22.40 25.34\n",
       "E4        166.00 21.93 2.51  6.00 20.49 21.97 23.10 26.31\n",
       "E5        152.00 23.28 2.33 16.95 21.89 22.45 26.24 27.27\n",
       "F1        113.00 24.08 2.47 17.26 22.95 23.43 25.69 28.72\n",
       "F2         60.00 25.05 2.54 18.43 23.28 24.08 26.49 29.69\n",
       "F3         66.00 24.79 2.42 18.99 23.99 24.50 24.99 30.17\n",
       "F4         51.00 25.98 2.68 18.91 24.99 24.99 26.68 30.65\n",
       "F5         45.00 26.24 2.36 19.29 25.57 25.57 26.57 30.75\n",
       "G1         33.00 27.23 2.26 22.74 25.80 26.77 28.18 30.79\n",
       "G2         17.00 26.25 2.48 20.48 25.83 25.83 27.49 30.84\n",
       "G3         21.00 27.59 1.80 25.89 25.89 27.88 28.34 30.89\n",
       "G4         12.00 29.04 1.79 25.99 28.49 28.67 30.94 30.94\n",
       "G5         14.00 28.72 2.39 24.89 26.06 28.99 30.99 30.99"
      ]
     },
     "execution_count": 73,
     "metadata": {},
     "output_type": "execute_result"
    }
   ],
   "source": [
    "loans.groupby('sub_grade')['int_rate'].describe()"
   ]
  },
  {
   "cell_type": "code",
   "execution_count": null,
   "metadata": {},
   "outputs": [],
   "source": []
  },
  {
   "cell_type": "markdown",
   "metadata": {},
   "source": [
    "#### Installment"
   ]
  },
  {
   "cell_type": "code",
   "execution_count": 74,
   "metadata": {},
   "outputs": [
    {
     "data": {
      "text/plain": [
       "count   13,536.00\n",
       "mean       436.72\n",
       "std        260.21\n",
       "min         14.01\n",
       "25%        247.26\n",
       "50%        372.45\n",
       "75%        580.24\n",
       "max      1,569.11\n",
       "Name: installment, dtype: float64"
      ]
     },
     "execution_count": 74,
     "metadata": {},
     "output_type": "execute_result"
    }
   ],
   "source": [
    "loans['installment'].describe()"
   ]
  },
  {
   "cell_type": "code",
   "execution_count": 75,
   "metadata": {},
   "outputs": [
    {
     "data": {
      "text/html": [
       "<div>\n",
       "<style scoped>\n",
       "    .dataframe tbody tr th:only-of-type {\n",
       "        vertical-align: middle;\n",
       "    }\n",
       "\n",
       "    .dataframe tbody tr th {\n",
       "        vertical-align: top;\n",
       "    }\n",
       "\n",
       "    .dataframe thead th {\n",
       "        text-align: right;\n",
       "    }\n",
       "</style>\n",
       "<table border=\"1\" class=\"dataframe\">\n",
       "  <thead>\n",
       "    <tr style=\"text-align: right;\">\n",
       "      <th></th>\n",
       "      <th>count</th>\n",
       "      <th>mean</th>\n",
       "      <th>std</th>\n",
       "      <th>min</th>\n",
       "      <th>25%</th>\n",
       "      <th>50%</th>\n",
       "      <th>75%</th>\n",
       "      <th>max</th>\n",
       "    </tr>\n",
       "    <tr>\n",
       "      <th>loan_status</th>\n",
       "      <th></th>\n",
       "      <th></th>\n",
       "      <th></th>\n",
       "      <th></th>\n",
       "      <th></th>\n",
       "      <th></th>\n",
       "      <th></th>\n",
       "      <th></th>\n",
       "    </tr>\n",
       "  </thead>\n",
       "  <tbody>\n",
       "    <tr>\n",
       "      <th>Charged Off</th>\n",
       "      <td>2,646.00</td>\n",
       "      <td>475.62</td>\n",
       "      <td>267.55</td>\n",
       "      <td>30.54</td>\n",
       "      <td>278.29</td>\n",
       "      <td>418.65</td>\n",
       "      <td>634.95</td>\n",
       "      <td>1,569.11</td>\n",
       "    </tr>\n",
       "    <tr>\n",
       "      <th>Fully Paid</th>\n",
       "      <td>10,890.00</td>\n",
       "      <td>427.27</td>\n",
       "      <td>257.53</td>\n",
       "      <td>14.01</td>\n",
       "      <td>239.95</td>\n",
       "      <td>362.43</td>\n",
       "      <td>567.30</td>\n",
       "      <td>1,415.78</td>\n",
       "    </tr>\n",
       "  </tbody>\n",
       "</table>\n",
       "</div>"
      ],
      "text/plain": [
       "                count   mean    std   min    25%    50%    75%      max\n",
       "loan_status                                                            \n",
       "Charged Off  2,646.00 475.62 267.55 30.54 278.29 418.65 634.95 1,569.11\n",
       "Fully Paid  10,890.00 427.27 257.53 14.01 239.95 362.43 567.30 1,415.78"
      ]
     },
     "execution_count": 75,
     "metadata": {},
     "output_type": "execute_result"
    }
   ],
   "source": [
    "loans.groupby('loan_status')['installment'].describe()"
   ]
  },
  {
   "cell_type": "code",
   "execution_count": null,
   "metadata": {},
   "outputs": [],
   "source": []
  },
  {
   "cell_type": "markdown",
   "metadata": {},
   "source": [
    "#### Annual Income"
   ]
  },
  {
   "cell_type": "code",
   "execution_count": 76,
   "metadata": {},
   "outputs": [
    {
     "data": {
      "text/plain": [
       "count      13,536.00\n",
       "mean       75,976.01\n",
       "std        53,097.74\n",
       "min             0.00\n",
       "25%        46,000.00\n",
       "50%        65,000.00\n",
       "75%        91,000.00\n",
       "max     1,600,001.00\n",
       "Name: annual_inc, dtype: float64"
      ]
     },
     "execution_count": 76,
     "metadata": {},
     "output_type": "execute_result"
    }
   ],
   "source": [
    "loans['annual_inc'].describe()"
   ]
  },
  {
   "cell_type": "code",
   "execution_count": 77,
   "metadata": {},
   "outputs": [],
   "source": [
    "loans['log_annual_inc'] = loans['annual_inc'].apply(lambda x: np.log10(x+1))"
   ]
  },
  {
   "cell_type": "code",
   "execution_count": 78,
   "metadata": {},
   "outputs": [],
   "source": [
    "loans.drop('annual_inc', axis=1, inplace=True)"
   ]
  },
  {
   "cell_type": "code",
   "execution_count": 79,
   "metadata": {},
   "outputs": [
    {
     "data": {
      "text/plain": [
       "count   13,536.00\n",
       "mean         4.81\n",
       "std          0.25\n",
       "min          0.00\n",
       "25%          4.66\n",
       "50%          4.81\n",
       "75%          4.96\n",
       "max          6.20\n",
       "Name: log_annual_inc, dtype: float64"
      ]
     },
     "execution_count": 79,
     "metadata": {},
     "output_type": "execute_result"
    }
   ],
   "source": [
    "loans['log_annual_inc'].describe()"
   ]
  },
  {
   "cell_type": "code",
   "execution_count": 80,
   "metadata": {},
   "outputs": [
    {
     "data": {
      "text/html": [
       "<div>\n",
       "<style scoped>\n",
       "    .dataframe tbody tr th:only-of-type {\n",
       "        vertical-align: middle;\n",
       "    }\n",
       "\n",
       "    .dataframe tbody tr th {\n",
       "        vertical-align: top;\n",
       "    }\n",
       "\n",
       "    .dataframe thead th {\n",
       "        text-align: right;\n",
       "    }\n",
       "</style>\n",
       "<table border=\"1\" class=\"dataframe\">\n",
       "  <thead>\n",
       "    <tr style=\"text-align: right;\">\n",
       "      <th></th>\n",
       "      <th>count</th>\n",
       "      <th>mean</th>\n",
       "      <th>std</th>\n",
       "      <th>min</th>\n",
       "      <th>25%</th>\n",
       "      <th>50%</th>\n",
       "      <th>75%</th>\n",
       "      <th>max</th>\n",
       "    </tr>\n",
       "    <tr>\n",
       "      <th>loan_status</th>\n",
       "      <th></th>\n",
       "      <th></th>\n",
       "      <th></th>\n",
       "      <th></th>\n",
       "      <th></th>\n",
       "      <th></th>\n",
       "      <th></th>\n",
       "      <th></th>\n",
       "    </tr>\n",
       "  </thead>\n",
       "  <tbody>\n",
       "    <tr>\n",
       "      <th>Charged Off</th>\n",
       "      <td>2,646.00</td>\n",
       "      <td>4.79</td>\n",
       "      <td>0.24</td>\n",
       "      <td>0.00</td>\n",
       "      <td>4.65</td>\n",
       "      <td>4.80</td>\n",
       "      <td>4.93</td>\n",
       "      <td>6.00</td>\n",
       "    </tr>\n",
       "    <tr>\n",
       "      <th>Fully Paid</th>\n",
       "      <td>10,890.00</td>\n",
       "      <td>4.82</td>\n",
       "      <td>0.25</td>\n",
       "      <td>0.00</td>\n",
       "      <td>4.67</td>\n",
       "      <td>4.81</td>\n",
       "      <td>4.97</td>\n",
       "      <td>6.20</td>\n",
       "    </tr>\n",
       "  </tbody>\n",
       "</table>\n",
       "</div>"
      ],
      "text/plain": [
       "                count  mean  std  min  25%  50%  75%  max\n",
       "loan_status                                              \n",
       "Charged Off  2,646.00  4.79 0.24 0.00 4.65 4.80 4.93 6.00\n",
       "Fully Paid  10,890.00  4.82 0.25 0.00 4.67 4.81 4.97 6.20"
      ]
     },
     "execution_count": 80,
     "metadata": {},
     "output_type": "execute_result"
    }
   ],
   "source": [
    "loans.groupby('loan_status')['log_annual_inc'].describe()"
   ]
  },
  {
   "cell_type": "code",
   "execution_count": null,
   "metadata": {},
   "outputs": [],
   "source": []
  },
  {
   "cell_type": "markdown",
   "metadata": {},
   "source": [
    "#### Debt to Income ratio"
   ]
  },
  {
   "cell_type": "code",
   "execution_count": 81,
   "metadata": {},
   "outputs": [
    {
     "data": {
      "text/plain": [
       "count   13,531.00\n",
       "mean        18.36\n",
       "std         12.86\n",
       "min          0.00\n",
       "25%         11.85\n",
       "50%         17.60\n",
       "75%         23.97\n",
       "max        999.00\n",
       "Name: dti, dtype: float64"
      ]
     },
     "execution_count": 81,
     "metadata": {},
     "output_type": "execute_result"
    }
   ],
   "source": [
    "loans['dti'].describe()"
   ]
  },
  {
   "cell_type": "code",
   "execution_count": 82,
   "metadata": {},
   "outputs": [
    {
     "data": {
      "text/html": [
       "<div>\n",
       "<style scoped>\n",
       "    .dataframe tbody tr th:only-of-type {\n",
       "        vertical-align: middle;\n",
       "    }\n",
       "\n",
       "    .dataframe tbody tr th {\n",
       "        vertical-align: top;\n",
       "    }\n",
       "\n",
       "    .dataframe thead th {\n",
       "        text-align: right;\n",
       "    }\n",
       "</style>\n",
       "<table border=\"1\" class=\"dataframe\">\n",
       "  <thead>\n",
       "    <tr style=\"text-align: right;\">\n",
       "      <th></th>\n",
       "      <th>count</th>\n",
       "      <th>mean</th>\n",
       "      <th>std</th>\n",
       "      <th>min</th>\n",
       "      <th>25%</th>\n",
       "      <th>50%</th>\n",
       "      <th>75%</th>\n",
       "      <th>max</th>\n",
       "    </tr>\n",
       "    <tr>\n",
       "      <th>loan_status</th>\n",
       "      <th></th>\n",
       "      <th></th>\n",
       "      <th></th>\n",
       "      <th></th>\n",
       "      <th></th>\n",
       "      <th></th>\n",
       "      <th></th>\n",
       "      <th></th>\n",
       "    </tr>\n",
       "  </thead>\n",
       "  <tbody>\n",
       "    <tr>\n",
       "      <th>Charged Off</th>\n",
       "      <td>2,645.00</td>\n",
       "      <td>20.41</td>\n",
       "      <td>21.09</td>\n",
       "      <td>0.00</td>\n",
       "      <td>13.57</td>\n",
       "      <td>19.82</td>\n",
       "      <td>26.19</td>\n",
       "      <td>999.00</td>\n",
       "    </tr>\n",
       "    <tr>\n",
       "      <th>Fully Paid</th>\n",
       "      <td>10,886.00</td>\n",
       "      <td>17.87</td>\n",
       "      <td>9.81</td>\n",
       "      <td>0.00</td>\n",
       "      <td>11.55</td>\n",
       "      <td>17.10</td>\n",
       "      <td>23.44</td>\n",
       "      <td>369.37</td>\n",
       "    </tr>\n",
       "  </tbody>\n",
       "</table>\n",
       "</div>"
      ],
      "text/plain": [
       "                count  mean   std  min   25%   50%   75%    max\n",
       "loan_status                                                    \n",
       "Charged Off  2,645.00 20.41 21.09 0.00 13.57 19.82 26.19 999.00\n",
       "Fully Paid  10,886.00 17.87  9.81 0.00 11.55 17.10 23.44 369.37"
      ]
     },
     "execution_count": 82,
     "metadata": {},
     "output_type": "execute_result"
    }
   ],
   "source": [
    "loans.groupby('loan_status')['dti'].describe()"
   ]
  },
  {
   "cell_type": "code",
   "execution_count": null,
   "metadata": {},
   "outputs": [],
   "source": []
  },
  {
   "cell_type": "markdown",
   "metadata": {},
   "source": [
    "#### FICO range"
   ]
  },
  {
   "cell_type": "code",
   "execution_count": 83,
   "metadata": {},
   "outputs": [
    {
     "data": {
      "text/html": [
       "<div>\n",
       "<style scoped>\n",
       "    .dataframe tbody tr th:only-of-type {\n",
       "        vertical-align: middle;\n",
       "    }\n",
       "\n",
       "    .dataframe tbody tr th {\n",
       "        vertical-align: top;\n",
       "    }\n",
       "\n",
       "    .dataframe thead th {\n",
       "        text-align: right;\n",
       "    }\n",
       "</style>\n",
       "<table border=\"1\" class=\"dataframe\">\n",
       "  <thead>\n",
       "    <tr style=\"text-align: right;\">\n",
       "      <th></th>\n",
       "      <th>fico_range_low</th>\n",
       "      <th>fico_range_high</th>\n",
       "    </tr>\n",
       "  </thead>\n",
       "  <tbody>\n",
       "    <tr>\n",
       "      <th>count</th>\n",
       "      <td>13,536.00</td>\n",
       "      <td>13,536.00</td>\n",
       "    </tr>\n",
       "    <tr>\n",
       "      <th>mean</th>\n",
       "      <td>696.03</td>\n",
       "      <td>700.03</td>\n",
       "    </tr>\n",
       "    <tr>\n",
       "      <th>std</th>\n",
       "      <td>31.88</td>\n",
       "      <td>31.88</td>\n",
       "    </tr>\n",
       "    <tr>\n",
       "      <th>min</th>\n",
       "      <td>660.00</td>\n",
       "      <td>664.00</td>\n",
       "    </tr>\n",
       "    <tr>\n",
       "      <th>25%</th>\n",
       "      <td>670.00</td>\n",
       "      <td>674.00</td>\n",
       "    </tr>\n",
       "    <tr>\n",
       "      <th>50%</th>\n",
       "      <td>690.00</td>\n",
       "      <td>694.00</td>\n",
       "    </tr>\n",
       "    <tr>\n",
       "      <th>75%</th>\n",
       "      <td>710.00</td>\n",
       "      <td>714.00</td>\n",
       "    </tr>\n",
       "    <tr>\n",
       "      <th>max</th>\n",
       "      <td>845.00</td>\n",
       "      <td>850.00</td>\n",
       "    </tr>\n",
       "  </tbody>\n",
       "</table>\n",
       "</div>"
      ],
      "text/plain": [
       "       fico_range_low  fico_range_high\n",
       "count       13,536.00        13,536.00\n",
       "mean           696.03           700.03\n",
       "std             31.88            31.88\n",
       "min            660.00           664.00\n",
       "25%            670.00           674.00\n",
       "50%            690.00           694.00\n",
       "75%            710.00           714.00\n",
       "max            845.00           850.00"
      ]
     },
     "execution_count": 83,
     "metadata": {},
     "output_type": "execute_result"
    }
   ],
   "source": [
    "loans[['fico_range_low', 'fico_range_high']].describe()"
   ]
  },
  {
   "cell_type": "code",
   "execution_count": 84,
   "metadata": {},
   "outputs": [
    {
     "data": {
      "text/html": [
       "<div>\n",
       "<style scoped>\n",
       "    .dataframe tbody tr th:only-of-type {\n",
       "        vertical-align: middle;\n",
       "    }\n",
       "\n",
       "    .dataframe tbody tr th {\n",
       "        vertical-align: top;\n",
       "    }\n",
       "\n",
       "    .dataframe thead th {\n",
       "        text-align: right;\n",
       "    }\n",
       "</style>\n",
       "<table border=\"1\" class=\"dataframe\">\n",
       "  <thead>\n",
       "    <tr style=\"text-align: right;\">\n",
       "      <th></th>\n",
       "      <th>fico_range_low</th>\n",
       "      <th>fico_range_high</th>\n",
       "    </tr>\n",
       "  </thead>\n",
       "  <tbody>\n",
       "    <tr>\n",
       "      <th>fico_range_low</th>\n",
       "      <td>1.00</td>\n",
       "      <td>1.00</td>\n",
       "    </tr>\n",
       "    <tr>\n",
       "      <th>fico_range_high</th>\n",
       "      <td>1.00</td>\n",
       "      <td>1.00</td>\n",
       "    </tr>\n",
       "  </tbody>\n",
       "</table>\n",
       "</div>"
      ],
      "text/plain": [
       "                 fico_range_low  fico_range_high\n",
       "fico_range_low             1.00             1.00\n",
       "fico_range_high            1.00             1.00"
      ]
     },
     "execution_count": 84,
     "metadata": {},
     "output_type": "execute_result"
    }
   ],
   "source": [
    "loans[['fico_range_low','fico_range_high']].corr() #Calculating correlation"
   ]
  },
  {
   "cell_type": "code",
   "execution_count": 85,
   "metadata": {},
   "outputs": [],
   "source": [
    "loans['fico_score'] = 0.5*loans['fico_range_low'] + 0.5*loans['fico_range_high']"
   ]
  },
  {
   "cell_type": "code",
   "execution_count": 86,
   "metadata": {},
   "outputs": [],
   "source": [
    "loans.drop(['fico_range_high', 'fico_range_low'], axis=1, inplace=True)"
   ]
  },
  {
   "cell_type": "code",
   "execution_count": 87,
   "metadata": {},
   "outputs": [
    {
     "data": {
      "text/html": [
       "<div>\n",
       "<style scoped>\n",
       "    .dataframe tbody tr th:only-of-type {\n",
       "        vertical-align: middle;\n",
       "    }\n",
       "\n",
       "    .dataframe tbody tr th {\n",
       "        vertical-align: top;\n",
       "    }\n",
       "\n",
       "    .dataframe thead th {\n",
       "        text-align: right;\n",
       "    }\n",
       "</style>\n",
       "<table border=\"1\" class=\"dataframe\">\n",
       "  <thead>\n",
       "    <tr style=\"text-align: right;\">\n",
       "      <th></th>\n",
       "      <th>count</th>\n",
       "      <th>mean</th>\n",
       "      <th>std</th>\n",
       "      <th>min</th>\n",
       "      <th>25%</th>\n",
       "      <th>50%</th>\n",
       "      <th>75%</th>\n",
       "      <th>max</th>\n",
       "    </tr>\n",
       "    <tr>\n",
       "      <th>loan_status</th>\n",
       "      <th></th>\n",
       "      <th></th>\n",
       "      <th></th>\n",
       "      <th></th>\n",
       "      <th></th>\n",
       "      <th></th>\n",
       "      <th></th>\n",
       "      <th></th>\n",
       "    </tr>\n",
       "  </thead>\n",
       "  <tbody>\n",
       "    <tr>\n",
       "      <th>Charged Off</th>\n",
       "      <td>2,646.00</td>\n",
       "      <td>689.91</td>\n",
       "      <td>26.08</td>\n",
       "      <td>662.00</td>\n",
       "      <td>672.00</td>\n",
       "      <td>682.00</td>\n",
       "      <td>702.00</td>\n",
       "      <td>837.00</td>\n",
       "    </tr>\n",
       "    <tr>\n",
       "      <th>Fully Paid</th>\n",
       "      <td>10,890.00</td>\n",
       "      <td>700.01</td>\n",
       "      <td>32.83</td>\n",
       "      <td>662.00</td>\n",
       "      <td>677.00</td>\n",
       "      <td>692.00</td>\n",
       "      <td>717.00</td>\n",
       "      <td>847.50</td>\n",
       "    </tr>\n",
       "  </tbody>\n",
       "</table>\n",
       "</div>"
      ],
      "text/plain": [
       "                count   mean   std    min    25%    50%    75%    max\n",
       "loan_status                                                          \n",
       "Charged Off  2,646.00 689.91 26.08 662.00 672.00 682.00 702.00 837.00\n",
       "Fully Paid  10,890.00 700.01 32.83 662.00 677.00 692.00 717.00 847.50"
      ]
     },
     "execution_count": 87,
     "metadata": {},
     "output_type": "execute_result"
    }
   ],
   "source": [
    "loans.groupby('loan_status')['fico_score'].describe()"
   ]
  },
  {
   "cell_type": "code",
   "execution_count": null,
   "metadata": {},
   "outputs": [],
   "source": []
  },
  {
   "cell_type": "markdown",
   "metadata": {},
   "source": [
    "#### Open credit lines and Total accounts"
   ]
  },
  {
   "cell_type": "code",
   "execution_count": 88,
   "metadata": {},
   "outputs": [
    {
     "data": {
      "text/html": [
       "<div>\n",
       "<style scoped>\n",
       "    .dataframe tbody tr th:only-of-type {\n",
       "        vertical-align: middle;\n",
       "    }\n",
       "\n",
       "    .dataframe tbody tr th {\n",
       "        vertical-align: top;\n",
       "    }\n",
       "\n",
       "    .dataframe thead th {\n",
       "        text-align: right;\n",
       "    }\n",
       "</style>\n",
       "<table border=\"1\" class=\"dataframe\">\n",
       "  <thead>\n",
       "    <tr style=\"text-align: right;\">\n",
       "      <th></th>\n",
       "      <th>open_acc</th>\n",
       "      <th>total_acc</th>\n",
       "    </tr>\n",
       "  </thead>\n",
       "  <tbody>\n",
       "    <tr>\n",
       "      <th>open_acc</th>\n",
       "      <td>1.00</td>\n",
       "      <td>0.69</td>\n",
       "    </tr>\n",
       "    <tr>\n",
       "      <th>total_acc</th>\n",
       "      <td>0.69</td>\n",
       "      <td>1.00</td>\n",
       "    </tr>\n",
       "  </tbody>\n",
       "</table>\n",
       "</div>"
      ],
      "text/plain": [
       "           open_acc  total_acc\n",
       "open_acc       1.00       0.69\n",
       "total_acc      0.69       1.00"
      ]
     },
     "execution_count": 88,
     "metadata": {},
     "output_type": "execute_result"
    }
   ],
   "source": [
    "loans[['open_acc','total_acc']].corr()"
   ]
  },
  {
   "cell_type": "code",
   "execution_count": 89,
   "metadata": {},
   "outputs": [
    {
     "data": {
      "text/html": [
       "<div>\n",
       "<style scoped>\n",
       "    .dataframe tbody tr th:only-of-type {\n",
       "        vertical-align: middle;\n",
       "    }\n",
       "\n",
       "    .dataframe tbody tr th {\n",
       "        vertical-align: top;\n",
       "    }\n",
       "\n",
       "    .dataframe thead th {\n",
       "        text-align: right;\n",
       "    }\n",
       "</style>\n",
       "<table border=\"1\" class=\"dataframe\">\n",
       "  <thead>\n",
       "    <tr style=\"text-align: right;\">\n",
       "      <th></th>\n",
       "      <th>count</th>\n",
       "      <th>mean</th>\n",
       "      <th>std</th>\n",
       "      <th>min</th>\n",
       "      <th>25%</th>\n",
       "      <th>50%</th>\n",
       "      <th>75%</th>\n",
       "      <th>max</th>\n",
       "    </tr>\n",
       "    <tr>\n",
       "      <th>loan_status</th>\n",
       "      <th></th>\n",
       "      <th></th>\n",
       "      <th></th>\n",
       "      <th></th>\n",
       "      <th></th>\n",
       "      <th></th>\n",
       "      <th></th>\n",
       "      <th></th>\n",
       "    </tr>\n",
       "  </thead>\n",
       "  <tbody>\n",
       "    <tr>\n",
       "      <th>Charged Off</th>\n",
       "      <td>2,646.00</td>\n",
       "      <td>11.99</td>\n",
       "      <td>5.43</td>\n",
       "      <td>1.00</td>\n",
       "      <td>8.00</td>\n",
       "      <td>11.00</td>\n",
       "      <td>15.00</td>\n",
       "      <td>49.00</td>\n",
       "    </tr>\n",
       "    <tr>\n",
       "      <th>Fully Paid</th>\n",
       "      <td>10,890.00</td>\n",
       "      <td>11.45</td>\n",
       "      <td>5.35</td>\n",
       "      <td>1.00</td>\n",
       "      <td>8.00</td>\n",
       "      <td>10.00</td>\n",
       "      <td>14.00</td>\n",
       "      <td>59.00</td>\n",
       "    </tr>\n",
       "  </tbody>\n",
       "</table>\n",
       "</div>"
      ],
      "text/plain": [
       "                count  mean  std  min  25%   50%   75%   max\n",
       "loan_status                                                 \n",
       "Charged Off  2,646.00 11.99 5.43 1.00 8.00 11.00 15.00 49.00\n",
       "Fully Paid  10,890.00 11.45 5.35 1.00 8.00 10.00 14.00 59.00"
      ]
     },
     "execution_count": 89,
     "metadata": {},
     "output_type": "execute_result"
    }
   ],
   "source": [
    "loans.groupby('loan_status')['open_acc'].describe()"
   ]
  },
  {
   "cell_type": "code",
   "execution_count": 90,
   "metadata": {},
   "outputs": [],
   "source": [
    "loans['acc_ratio'] = loans['open_acc'] / loans['total_acc']"
   ]
  },
  {
   "cell_type": "code",
   "execution_count": 91,
   "metadata": {},
   "outputs": [],
   "source": [
    "loans.drop(['total_acc','open_acc'], axis=1, inplace=True)"
   ]
  },
  {
   "cell_type": "markdown",
   "metadata": {},
   "source": [
    "#### Public records and Public records brankrupticies"
   ]
  },
  {
   "cell_type": "code",
   "execution_count": null,
   "metadata": {},
   "outputs": [],
   "source": []
  },
  {
   "cell_type": "code",
   "execution_count": 92,
   "metadata": {},
   "outputs": [
    {
     "data": {
      "text/html": [
       "<div>\n",
       "<style scoped>\n",
       "    .dataframe tbody tr th:only-of-type {\n",
       "        vertical-align: middle;\n",
       "    }\n",
       "\n",
       "    .dataframe tbody tr th {\n",
       "        vertical-align: top;\n",
       "    }\n",
       "\n",
       "    .dataframe thead th {\n",
       "        text-align: right;\n",
       "    }\n",
       "</style>\n",
       "<table border=\"1\" class=\"dataframe\">\n",
       "  <thead>\n",
       "    <tr style=\"text-align: right;\">\n",
       "      <th></th>\n",
       "      <th>pub_rec</th>\n",
       "      <th>pub_rec_bankruptcies</th>\n",
       "    </tr>\n",
       "  </thead>\n",
       "  <tbody>\n",
       "    <tr>\n",
       "      <th>pub_rec</th>\n",
       "      <td>1.00</td>\n",
       "      <td>0.58</td>\n",
       "    </tr>\n",
       "    <tr>\n",
       "      <th>pub_rec_bankruptcies</th>\n",
       "      <td>0.58</td>\n",
       "      <td>1.00</td>\n",
       "    </tr>\n",
       "  </tbody>\n",
       "</table>\n",
       "</div>"
      ],
      "text/plain": [
       "                      pub_rec  pub_rec_bankruptcies\n",
       "pub_rec                  1.00                  0.58\n",
       "pub_rec_bankruptcies     0.58                  1.00"
      ]
     },
     "execution_count": 92,
     "metadata": {},
     "output_type": "execute_result"
    }
   ],
   "source": [
    "loans[['pub_rec','pub_rec_bankruptcies']].corr()"
   ]
  },
  {
   "cell_type": "code",
   "execution_count": 93,
   "metadata": {},
   "outputs": [
    {
     "data": {
      "text/html": [
       "<div>\n",
       "<style scoped>\n",
       "    .dataframe tbody tr th:only-of-type {\n",
       "        vertical-align: middle;\n",
       "    }\n",
       "\n",
       "    .dataframe tbody tr th {\n",
       "        vertical-align: top;\n",
       "    }\n",
       "\n",
       "    .dataframe thead th {\n",
       "        text-align: right;\n",
       "    }\n",
       "</style>\n",
       "<table border=\"1\" class=\"dataframe\">\n",
       "  <thead>\n",
       "    <tr style=\"text-align: right;\">\n",
       "      <th></th>\n",
       "      <th>count</th>\n",
       "      <th>mean</th>\n",
       "      <th>std</th>\n",
       "      <th>min</th>\n",
       "      <th>25%</th>\n",
       "      <th>50%</th>\n",
       "      <th>75%</th>\n",
       "      <th>max</th>\n",
       "    </tr>\n",
       "    <tr>\n",
       "      <th>loan_status</th>\n",
       "      <th></th>\n",
       "      <th></th>\n",
       "      <th></th>\n",
       "      <th></th>\n",
       "      <th></th>\n",
       "      <th></th>\n",
       "      <th></th>\n",
       "      <th></th>\n",
       "    </tr>\n",
       "  </thead>\n",
       "  <tbody>\n",
       "    <tr>\n",
       "      <th>Charged Off</th>\n",
       "      <td>2,646.00</td>\n",
       "      <td>0.24</td>\n",
       "      <td>0.60</td>\n",
       "      <td>0.00</td>\n",
       "      <td>0.00</td>\n",
       "      <td>0.00</td>\n",
       "      <td>0.00</td>\n",
       "      <td>10.00</td>\n",
       "    </tr>\n",
       "    <tr>\n",
       "      <th>Fully Paid</th>\n",
       "      <td>10,890.00</td>\n",
       "      <td>0.22</td>\n",
       "      <td>0.76</td>\n",
       "      <td>0.00</td>\n",
       "      <td>0.00</td>\n",
       "      <td>0.00</td>\n",
       "      <td>0.00</td>\n",
       "      <td>49.00</td>\n",
       "    </tr>\n",
       "  </tbody>\n",
       "</table>\n",
       "</div>"
      ],
      "text/plain": [
       "                count  mean  std  min  25%  50%  75%   max\n",
       "loan_status                                               \n",
       "Charged Off  2,646.00  0.24 0.60 0.00 0.00 0.00 0.00 10.00\n",
       "Fully Paid  10,890.00  0.22 0.76 0.00 0.00 0.00 0.00 49.00"
      ]
     },
     "execution_count": 93,
     "metadata": {},
     "output_type": "execute_result"
    }
   ],
   "source": [
    "loans.groupby('loan_status')['pub_rec'].describe()"
   ]
  },
  {
   "cell_type": "code",
   "execution_count": 94,
   "metadata": {},
   "outputs": [
    {
     "data": {
      "text/plain": [
       "0.00    11866\n",
       "1.00     1552\n",
       "2.00       87\n",
       "3.00       18\n",
       "4.00        4\n",
       "5.00        2\n",
       "7.00        1\n",
       "Name: pub_rec_bankruptcies, dtype: int64"
      ]
     },
     "execution_count": 94,
     "metadata": {},
     "output_type": "execute_result"
    }
   ],
   "source": [
    "loans['pub_rec_bankruptcies'].value_counts().sort_index()"
   ]
  },
  {
   "cell_type": "code",
   "execution_count": 95,
   "metadata": {},
   "outputs": [
    {
     "name": "stderr",
     "output_type": "stream",
     "text": [
      "C:\\Users\\user\\miniconda3\\envs\\sm-202011\\lib\\site-packages\\seaborn\\_decorators.py:43: FutureWarning: Pass the following variable as a keyword arg: x. From version 0.12, the only valid positional argument will be `data`, and passing other arguments without an explicit keyword will result in an error or misinterpretation.\n",
      "  FutureWarning\n"
     ]
    },
    {
     "data": {
      "image/png": "[encoded data removed]",
      "text/plain": [
       "<Figure size 1080x270 with 2 Axes>"
      ]
     },
     "metadata": {},
     "output_type": "display_data"
    }
   ],
   "source": [
    "plot_var('pub_rec_bankruptcies', 'Public Record Bankruptcies', continuous=False)"
   ]
  },
  {
   "cell_type": "code",
   "execution_count": 96,
   "metadata": {},
   "outputs": [],
   "source": [
    "loans.drop('pub_rec', axis=1, inplace=True)"
   ]
  },
  {
   "cell_type": "code",
   "execution_count": null,
   "metadata": {},
   "outputs": [],
   "source": []
  },
  {
   "cell_type": "markdown",
   "metadata": {},
   "source": [
    "#### Revolving balance"
   ]
  },
  {
   "cell_type": "code",
   "execution_count": 97,
   "metadata": {},
   "outputs": [
    {
     "data": {
      "text/plain": [
       "count    13,536.00\n",
       "mean     16,361.82\n",
       "std      21,933.89\n",
       "min           0.00\n",
       "25%       5,965.00\n",
       "50%      11,070.50\n",
       "75%      19,809.00\n",
       "max     609,131.00\n",
       "Name: revol_bal, dtype: float64"
      ]
     },
     "execution_count": 97,
     "metadata": {},
     "output_type": "execute_result"
    }
   ],
   "source": [
    "loans['revol_bal'].describe()"
   ]
  },
  {
   "cell_type": "code",
   "execution_count": 98,
   "metadata": {},
   "outputs": [],
   "source": [
    "loans['log_revol_bal'] = loans['revol_bal'].apply(lambda x: np.log10(x+1))"
   ]
  },
  {
   "cell_type": "code",
   "execution_count": 99,
   "metadata": {},
   "outputs": [],
   "source": [
    "loans.drop('revol_bal', axis=1, inplace=True)"
   ]
  },
  {
   "cell_type": "code",
   "execution_count": null,
   "metadata": {},
   "outputs": [],
   "source": []
  },
  {
   "cell_type": "markdown",
   "metadata": {},
   "source": [
    "#### Revolving util"
   ]
  },
  {
   "cell_type": "code",
   "execution_count": 100,
   "metadata": {},
   "outputs": [
    {
     "data": {
      "text/plain": [
       "count   13,530.00\n",
       "mean        51.80\n",
       "std         24.39\n",
       "min          0.00\n",
       "25%         33.60\n",
       "50%         52.00\n",
       "75%         70.80\n",
       "max        139.90\n",
       "Name: revol_util, dtype: float64"
      ]
     },
     "execution_count": 100,
     "metadata": {},
     "output_type": "execute_result"
    }
   ],
   "source": [
    "loans['revol_util'].describe()"
   ]
  },
  {
   "cell_type": "code",
   "execution_count": 101,
   "metadata": {},
   "outputs": [
    {
     "data": {
      "text/html": [
       "<div>\n",
       "<style scoped>\n",
       "    .dataframe tbody tr th:only-of-type {\n",
       "        vertical-align: middle;\n",
       "    }\n",
       "\n",
       "    .dataframe tbody tr th {\n",
       "        vertical-align: top;\n",
       "    }\n",
       "\n",
       "    .dataframe thead th {\n",
       "        text-align: right;\n",
       "    }\n",
       "</style>\n",
       "<table border=\"1\" class=\"dataframe\">\n",
       "  <thead>\n",
       "    <tr style=\"text-align: right;\">\n",
       "      <th></th>\n",
       "      <th>revol_util</th>\n",
       "      <th>fico_score</th>\n",
       "    </tr>\n",
       "  </thead>\n",
       "  <tbody>\n",
       "    <tr>\n",
       "      <th>revol_util</th>\n",
       "      <td>1.00</td>\n",
       "      <td>-0.45</td>\n",
       "    </tr>\n",
       "    <tr>\n",
       "      <th>fico_score</th>\n",
       "      <td>-0.45</td>\n",
       "      <td>1.00</td>\n",
       "    </tr>\n",
       "  </tbody>\n",
       "</table>\n",
       "</div>"
      ],
      "text/plain": [
       "            revol_util  fico_score\n",
       "revol_util        1.00       -0.45\n",
       "fico_score       -0.45        1.00"
      ]
     },
     "execution_count": 101,
     "metadata": {},
     "output_type": "execute_result"
    }
   ],
   "source": [
    "loans[['revol_util','fico_score']].corr()"
   ]
  },
  {
   "cell_type": "code",
   "execution_count": 102,
   "metadata": {},
   "outputs": [
    {
     "data": {
      "text/html": [
       "<div>\n",
       "<style scoped>\n",
       "    .dataframe tbody tr th:only-of-type {\n",
       "        vertical-align: middle;\n",
       "    }\n",
       "\n",
       "    .dataframe tbody tr th {\n",
       "        vertical-align: top;\n",
       "    }\n",
       "\n",
       "    .dataframe thead th {\n",
       "        text-align: right;\n",
       "    }\n",
       "</style>\n",
       "<table border=\"1\" class=\"dataframe\">\n",
       "  <thead>\n",
       "    <tr style=\"text-align: right;\">\n",
       "      <th></th>\n",
       "      <th>count</th>\n",
       "      <th>mean</th>\n",
       "      <th>std</th>\n",
       "      <th>min</th>\n",
       "      <th>25%</th>\n",
       "      <th>50%</th>\n",
       "      <th>75%</th>\n",
       "      <th>max</th>\n",
       "    </tr>\n",
       "    <tr>\n",
       "      <th>loan_status</th>\n",
       "      <th></th>\n",
       "      <th></th>\n",
       "      <th></th>\n",
       "      <th></th>\n",
       "      <th></th>\n",
       "      <th></th>\n",
       "      <th></th>\n",
       "      <th></th>\n",
       "    </tr>\n",
       "  </thead>\n",
       "  <tbody>\n",
       "    <tr>\n",
       "      <th>Charged Off</th>\n",
       "      <td>2,645.00</td>\n",
       "      <td>55.17</td>\n",
       "      <td>23.60</td>\n",
       "      <td>0.00</td>\n",
       "      <td>38.20</td>\n",
       "      <td>56.00</td>\n",
       "      <td>72.90</td>\n",
       "      <td>106.60</td>\n",
       "    </tr>\n",
       "    <tr>\n",
       "      <th>Fully Paid</th>\n",
       "      <td>10,885.00</td>\n",
       "      <td>50.98</td>\n",
       "      <td>24.51</td>\n",
       "      <td>0.00</td>\n",
       "      <td>32.60</td>\n",
       "      <td>51.00</td>\n",
       "      <td>70.20</td>\n",
       "      <td>139.90</td>\n",
       "    </tr>\n",
       "  </tbody>\n",
       "</table>\n",
       "</div>"
      ],
      "text/plain": [
       "                count  mean   std  min   25%   50%   75%    max\n",
       "loan_status                                                    \n",
       "Charged Off  2,645.00 55.17 23.60 0.00 38.20 56.00 72.90 106.60\n",
       "Fully Paid  10,885.00 50.98 24.51 0.00 32.60 51.00 70.20 139.90"
      ]
     },
     "execution_count": 102,
     "metadata": {},
     "output_type": "execute_result"
    }
   ],
   "source": [
    "loans.groupby('loan_status')['revol_util'].describe()"
   ]
  },
  {
   "cell_type": "code",
   "execution_count": null,
   "metadata": {},
   "outputs": [],
   "source": []
  },
  {
   "cell_type": "markdown",
   "metadata": {},
   "source": [
    "#### Mortgage account"
   ]
  },
  {
   "cell_type": "code",
   "execution_count": 103,
   "metadata": {},
   "outputs": [
    {
     "data": {
      "text/plain": [
       "count   13,061.00\n",
       "mean         1.66\n",
       "std          2.03\n",
       "min          0.00\n",
       "25%          0.00\n",
       "50%          1.00\n",
       "75%          3.00\n",
       "max         25.00\n",
       "Name: mort_acc, dtype: float64"
      ]
     },
     "execution_count": 103,
     "metadata": {},
     "output_type": "execute_result"
    }
   ],
   "source": [
    "loans['mort_acc'].describe()"
   ]
  },
  {
   "cell_type": "code",
   "execution_count": 104,
   "metadata": {},
   "outputs": [
    {
     "data": {
      "text/html": [
       "<div>\n",
       "<style scoped>\n",
       "    .dataframe tbody tr th:only-of-type {\n",
       "        vertical-align: middle;\n",
       "    }\n",
       "\n",
       "    .dataframe tbody tr th {\n",
       "        vertical-align: top;\n",
       "    }\n",
       "\n",
       "    .dataframe thead th {\n",
       "        text-align: right;\n",
       "    }\n",
       "</style>\n",
       "<table border=\"1\" class=\"dataframe\">\n",
       "  <thead>\n",
       "    <tr style=\"text-align: right;\">\n",
       "      <th></th>\n",
       "      <th>count</th>\n",
       "      <th>mean</th>\n",
       "      <th>std</th>\n",
       "      <th>min</th>\n",
       "      <th>25%</th>\n",
       "      <th>50%</th>\n",
       "      <th>75%</th>\n",
       "      <th>max</th>\n",
       "    </tr>\n",
       "    <tr>\n",
       "      <th>loan_status</th>\n",
       "      <th></th>\n",
       "      <th></th>\n",
       "      <th></th>\n",
       "      <th></th>\n",
       "      <th></th>\n",
       "      <th></th>\n",
       "      <th></th>\n",
       "      <th></th>\n",
       "    </tr>\n",
       "  </thead>\n",
       "  <tbody>\n",
       "    <tr>\n",
       "      <th>Charged Off</th>\n",
       "      <td>2,577.00</td>\n",
       "      <td>1.39</td>\n",
       "      <td>1.84</td>\n",
       "      <td>0.00</td>\n",
       "      <td>0.00</td>\n",
       "      <td>1.00</td>\n",
       "      <td>2.00</td>\n",
       "      <td>15.00</td>\n",
       "    </tr>\n",
       "    <tr>\n",
       "      <th>Fully Paid</th>\n",
       "      <td>10,484.00</td>\n",
       "      <td>1.73</td>\n",
       "      <td>2.07</td>\n",
       "      <td>0.00</td>\n",
       "      <td>0.00</td>\n",
       "      <td>1.00</td>\n",
       "      <td>3.00</td>\n",
       "      <td>25.00</td>\n",
       "    </tr>\n",
       "  </tbody>\n",
       "</table>\n",
       "</div>"
      ],
      "text/plain": [
       "                count  mean  std  min  25%  50%  75%   max\n",
       "loan_status                                               \n",
       "Charged Off  2,577.00  1.39 1.84 0.00 0.00 1.00 2.00 15.00\n",
       "Fully Paid  10,484.00  1.73 2.07 0.00 0.00 1.00 3.00 25.00"
      ]
     },
     "execution_count": 104,
     "metadata": {},
     "output_type": "execute_result"
    }
   ],
   "source": [
    "loans.groupby('loan_status')['mort_acc'].describe()"
   ]
  },
  {
   "cell_type": "code",
   "execution_count": null,
   "metadata": {},
   "outputs": [],
   "source": []
  },
  {
   "cell_type": "markdown",
   "metadata": {},
   "source": [
    "### Date type columns"
   ]
  },
  {
   "cell_type": "code",
   "execution_count": 105,
   "metadata": {},
   "outputs": [
    {
     "data": {
      "text/plain": [
       "258107     Jun-2015\n",
       "560589     Sep-2017\n",
       "1864636    Mar-2013\n",
       "407127     Jan-2015\n",
       "2056354    Dec-2017\n",
       "Name: issue_d, dtype: object"
      ]
     },
     "execution_count": 105,
     "metadata": {},
     "output_type": "execute_result"
    }
   ],
   "source": [
    "loans['issue_d'].sample(5)"
   ]
  },
  {
   "cell_type": "code",
   "execution_count": 106,
   "metadata": {},
   "outputs": [
    {
     "data": {
      "text/plain": [
       "2167067    Dec-2000\n",
       "312416     Nov-2003\n",
       "1155640    Sep-2004\n",
       "2150486    Feb-2007\n",
       "1831503    Apr-1990\n",
       "Name: earliest_cr_line, dtype: object"
      ]
     },
     "execution_count": 106,
     "metadata": {},
     "output_type": "execute_result"
    }
   ],
   "source": [
    "loans['earliest_cr_line'].sample(5)"
   ]
  },
  {
   "cell_type": "code",
   "execution_count": 107,
   "metadata": {},
   "outputs": [
    {
     "data": {
      "text/plain": [
       "False"
      ]
     },
     "execution_count": 107,
     "metadata": {},
     "output_type": "execute_result"
    }
   ],
   "source": [
    "loans['earliest_cr_line'].isnull().any()"
   ]
  },
  {
   "cell_type": "code",
   "execution_count": 108,
   "metadata": {},
   "outputs": [
    {
     "data": {
      "text/plain": [
       "False"
      ]
     },
     "execution_count": 108,
     "metadata": {},
     "output_type": "execute_result"
    }
   ],
   "source": [
    "loans['issue_d'].isnull().any()"
   ]
  },
  {
   "cell_type": "code",
   "execution_count": 109,
   "metadata": {},
   "outputs": [],
   "source": [
    "loans['issue_d'] = pd.to_datetime(loans['issue_d'])"
   ]
  },
  {
   "cell_type": "code",
   "execution_count": 110,
   "metadata": {},
   "outputs": [
    {
     "data": {
      "text/plain": [
       "Text(0.5, 1.0, 'Loans Funded per Year')"
      ]
     },
     "execution_count": 110,
     "metadata": {},
     "output_type": "execute_result"
    },
    {
     "data": {
      "image/png": "[encoded data removed]",
      "text/plain": [
       "<Figure size 540x270 with 1 Axes>"
      ]
     },
     "metadata": {},
     "output_type": "display_data"
    }
   ],
   "source": [
    "plt.figure(figsize=(6,3), dpi=90)\n",
    "loans['issue_d'].dt.year.value_counts().sort_index().plot.bar(color='darkblue')\n",
    "plt.xlabel('Year')\n",
    "plt.ylabel('Number of Loans Funded')\n",
    "plt.title('Loans Funded per Year')"
   ]
  },
  {
   "cell_type": "code",
   "execution_count": 111,
   "metadata": {},
   "outputs": [],
   "source": [
    "loans['earliest_cr_line'] = pd.to_datetime(loans['earliest_cr_line'])"
   ]
  },
  {
   "cell_type": "markdown",
   "metadata": {},
   "source": [
    "Calculate number of days between issue date and earliest credit lines, so that we know the days of applicant with the bank"
   ]
  },
  {
   "cell_type": "code",
   "execution_count": 112,
   "metadata": {},
   "outputs": [],
   "source": [
    "loans['days_from_issue_to_earliest_cr'] = (loans['issue_d'] - loans['earliest_cr_line']).apply(lambda x: x.days)"
   ]
  },
  {
   "cell_type": "code",
   "execution_count": 113,
   "metadata": {},
   "outputs": [
    {
     "data": {
      "text/plain": [
       "1032418    5844\n",
       "1814345    5053\n",
       "1338713    4505\n",
       "1269941    7029\n",
       "689544     1430\n",
       "Name: days_from_issue_to_earliest_cr, dtype: int64"
      ]
     },
     "execution_count": 113,
     "metadata": {},
     "output_type": "execute_result"
    }
   ],
   "source": [
    "loans['days_from_issue_to_earliest_cr'].sample(5)"
   ]
  },
  {
   "cell_type": "code",
   "execution_count": 114,
   "metadata": {},
   "outputs": [
    {
     "data": {
      "text/plain": [
       "count   13,536.00\n",
       "mean         0.20\n",
       "std          0.40\n",
       "min          0.00\n",
       "25%          0.00\n",
       "50%          0.00\n",
       "75%          0.00\n",
       "max          1.00\n",
       "Name: target, dtype: float64"
      ]
     },
     "execution_count": 114,
     "metadata": {},
     "output_type": "execute_result"
    }
   ],
   "source": [
    "loans['target'] = (loans['loan_status'] == 'Charged Off').astype(int)\n",
    "loans['target'].describe()"
   ]
  },
  {
   "cell_type": "code",
   "execution_count": 115,
   "metadata": {},
   "outputs": [],
   "source": [
    "_df = loans.groupby('days_from_issue_to_earliest_cr')['target'].mean().reset_index()"
   ]
  },
  {
   "cell_type": "code",
   "execution_count": 116,
   "metadata": {},
   "outputs": [
    {
     "data": {
      "text/plain": [
       "<AxesSubplot:xlabel='days_from_issue_to_earliest_cr', ylabel='target'>"
      ]
     },
     "execution_count": 116,
     "metadata": {},
     "output_type": "execute_result"
    },
    {
     "data": {
      "image/png": "[encoded data removed]",
      "text/plain": [
       "<Figure size 432x288 with 1 Axes>"
      ]
     },
     "metadata": {},
     "output_type": "display_data"
    }
   ],
   "source": [
    "sns.scatterplot(x='days_from_issue_to_earliest_cr', y='target', data=_df)"
   ]
  },
  {
   "cell_type": "code",
   "execution_count": 117,
   "metadata": {},
   "outputs": [
    {
     "data": {
      "text/html": [
       "<div>\n",
       "<style scoped>\n",
       "    .dataframe tbody tr th:only-of-type {\n",
       "        vertical-align: middle;\n",
       "    }\n",
       "\n",
       "    .dataframe tbody tr th {\n",
       "        vertical-align: top;\n",
       "    }\n",
       "\n",
       "    .dataframe thead th {\n",
       "        text-align: right;\n",
       "    }\n",
       "</style>\n",
       "<table border=\"1\" class=\"dataframe\">\n",
       "  <thead>\n",
       "    <tr style=\"text-align: right;\">\n",
       "      <th></th>\n",
       "      <th>days_from_issue_to_earliest_cr</th>\n",
       "      <th>target</th>\n",
       "    </tr>\n",
       "  </thead>\n",
       "  <tbody>\n",
       "    <tr>\n",
       "      <th>days_from_issue_to_earliest_cr</th>\n",
       "      <td>1.00</td>\n",
       "      <td>0.02</td>\n",
       "    </tr>\n",
       "    <tr>\n",
       "      <th>target</th>\n",
       "      <td>0.02</td>\n",
       "      <td>1.00</td>\n",
       "    </tr>\n",
       "  </tbody>\n",
       "</table>\n",
       "</div>"
      ],
      "text/plain": [
       "                                days_from_issue_to_earliest_cr  target\n",
       "days_from_issue_to_earliest_cr                            1.00    0.02\n",
       "target                                                    0.02    1.00"
      ]
     },
     "execution_count": 117,
     "metadata": {},
     "output_type": "execute_result"
    }
   ],
   "source": [
    "_df.corr()"
   ]
  },
  {
   "cell_type": "code",
   "execution_count": 118,
   "metadata": {},
   "outputs": [],
   "source": [
    "loans.drop(['target','earliest_cr_line'],axis=1,inplace=True)"
   ]
  },
  {
   "cell_type": "code",
   "execution_count": null,
   "metadata": {},
   "outputs": [],
   "source": []
  },
  {
   "cell_type": "markdown",
   "metadata": {},
   "source": [
    "#### More Pre preprocessing"
   ]
  },
  {
   "cell_type": "markdown",
   "metadata": {},
   "source": [
    "Convert charge off in loan status as 0/1 indicator"
   ]
  },
  {
   "cell_type": "code",
   "execution_count": 119,
   "metadata": {},
   "outputs": [],
   "source": [
    "loans['charged_off'] = (loans['loan_status'] == 'Charged Off').apply(np.uint8)\n",
    "loans.drop('loan_status', axis=1, inplace=True)"
   ]
  },
  {
   "cell_type": "code",
   "execution_count": 120,
   "metadata": {},
   "outputs": [],
   "source": [
    "\n",
    "missing_fractions = loans.isnull().mean().sort_values(ascending=False) # Fraction of data missing for each variable"
   ]
  },
  {
   "cell_type": "code",
   "execution_count": 121,
   "metadata": {},
   "outputs": [
    {
     "name": "stdout",
     "output_type": "stream",
     "text": [
      "mort_acc               0.04\n",
      "pub_rec_bankruptcies   0.00\n",
      "revol_util             0.00\n",
      "dti                    0.00\n",
      "dtype: float64\n"
     ]
    }
   ],
   "source": [
    "\n",
    "print(missing_fractions[missing_fractions > 0]) # Print variables that are missing data"
   ]
  },
  {
   "cell_type": "code",
   "execution_count": 122,
   "metadata": {},
   "outputs": [
    {
     "name": "stdout",
     "output_type": "stream",
     "text": [
      "Index(['loan_amnt', 'term', 'int_rate', 'installment', 'sub_grade',\n",
      "       'emp_length', 'home_ownership', 'verification_status', 'issue_d',\n",
      "       'purpose', 'addr_state', 'dti', 'revol_util', 'initial_list_status',\n",
      "       'application_type', 'mort_acc', 'pub_rec_bankruptcies',\n",
      "       'log_annual_inc', 'fico_score', 'acc_ratio', 'log_revol_bal',\n",
      "       'days_from_issue_to_earliest_cr', 'charged_off'],\n",
      "      dtype='object')\n"
     ]
    }
   ],
   "source": [
    "\n",
    "print(loans.columns)"
   ]
  },
  {
   "cell_type": "markdown",
   "metadata": {},
   "source": [
    "Create dummy variables for categorical data"
   ]
  },
  {
   "cell_type": "code",
   "execution_count": 123,
   "metadata": {},
   "outputs": [],
   "source": [
    "loans = pd.get_dummies(loans, columns=['sub_grade', 'home_ownership', 'verification_status', 'purpose', 'addr_state', 'initial_list_status','application_type'], drop_first=True)\n",
    "\n"
   ]
  },
  {
   "cell_type": "code",
   "execution_count": 124,
   "metadata": {},
   "outputs": [
    {
     "data": {
      "text/plain": [
       "(13536, 119)"
      ]
     },
     "execution_count": 124,
     "metadata": {},
     "output_type": "execute_result"
    }
   ],
   "source": [
    "loans.shape"
   ]
  },
  {
   "cell_type": "code",
   "execution_count": null,
   "metadata": {},
   "outputs": [],
   "source": []
  },
  {
   "cell_type": "code",
   "execution_count": 125,
   "metadata": {},
   "outputs": [
    {
     "name": "stderr",
     "output_type": "stream",
     "text": [
      "C:\\Users\\user\\miniconda3\\envs\\sm-202011\\lib\\site-packages\\pyarrow\\feather.py:83: FutureWarning: The SparseDataFrame class is removed from pandas. Accessing it from the top-level namespace will also be removed in the next version\n",
      "  if isinstance(df, _pandas_api.pd.SparseDataFrame):\n"
     ]
    }
   ],
   "source": [
    "import pyarrow.feather as feather\n",
    "feather.write_feather(loans,'./loans_modelling_data')"
   ]
  }
 ],
 "metadata": {
  "kernelspec": {
   "display_name": "Python 3",
   "language": "python",
   "name": "python3"
  },
  "language_info": {
   "codemirror_mode": {
    "name": "ipython",
    "version": 3
   },
   "file_extension": ".py",
   "mimetype": "text/x-python",
   "name": "python",
   "nbconvert_exporter": "python",
   "pygments_lexer": "ipython3",
   "version": "3.7.9"
  }
 },
 "nbformat": 4,
 "nbformat_minor": 4
}
