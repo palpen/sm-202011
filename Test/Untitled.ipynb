{
 "cells": [
  {
   "cell_type": "code",
   "execution_count": null,
   "metadata": {},
   "outputs": [],
   "source": []
  },
  {
   "cell_type": "code",
   "execution_count": 1,
   "metadata": {},
   "outputs": [
    {
     "name": "stderr",
     "output_type": "stream",
     "text": [
      "In C:\\Users\\16473\\miniconda3\\envs\\sm-202011\\lib\\site-packages\\matplotlib\\mpl-data\\stylelib\\_classic_test.mplstyle: \n",
      "The text.latex.preview rcparam was deprecated in Matplotlib 3.3 and will be removed two minor releases later.\n",
      "In C:\\Users\\16473\\miniconda3\\envs\\sm-202011\\lib\\site-packages\\matplotlib\\mpl-data\\stylelib\\_classic_test.mplstyle: \n",
      "The mathtext.fallback_to_cm rcparam was deprecated in Matplotlib 3.3 and will be removed two minor releases later.\n",
      "In C:\\Users\\16473\\miniconda3\\envs\\sm-202011\\lib\\site-packages\\matplotlib\\mpl-data\\stylelib\\_classic_test.mplstyle: Support for setting the 'mathtext.fallback_to_cm' rcParam is deprecated since 3.3 and will be removed two minor releases later; use 'mathtext.fallback : 'cm' instead.\n",
      "In C:\\Users\\16473\\miniconda3\\envs\\sm-202011\\lib\\site-packages\\matplotlib\\mpl-data\\stylelib\\_classic_test.mplstyle: \n",
      "The validate_bool_maybe_none function was deprecated in Matplotlib 3.3 and will be removed two minor releases later.\n",
      "In C:\\Users\\16473\\miniconda3\\envs\\sm-202011\\lib\\site-packages\\matplotlib\\mpl-data\\stylelib\\_classic_test.mplstyle: \n",
      "The savefig.jpeg_quality rcparam was deprecated in Matplotlib 3.3 and will be removed two minor releases later.\n",
      "In C:\\Users\\16473\\miniconda3\\envs\\sm-202011\\lib\\site-packages\\matplotlib\\mpl-data\\stylelib\\_classic_test.mplstyle: \n",
      "The keymap.all_axes rcparam was deprecated in Matplotlib 3.3 and will be removed two minor releases later.\n",
      "In C:\\Users\\16473\\miniconda3\\envs\\sm-202011\\lib\\site-packages\\matplotlib\\mpl-data\\stylelib\\_classic_test.mplstyle: \n",
      "The animation.avconv_path rcparam was deprecated in Matplotlib 3.3 and will be removed two minor releases later.\n",
      "In C:\\Users\\16473\\miniconda3\\envs\\sm-202011\\lib\\site-packages\\matplotlib\\mpl-data\\stylelib\\_classic_test.mplstyle: \n",
      "The animation.avconv_args rcparam was deprecated in Matplotlib 3.3 and will be removed two minor releases later.\n"
     ]
    }
   ],
   "source": [
    "import numpy as np\n",
    "import pandas as pd\n",
    "\n",
    "\n",
    "import seaborn as sns\n",
    "import matplotlib.pyplot as plt\n",
    "sns.set(style = 'whitegrid', color_codes = True)\n",
    "%matplotlib inline\n"
   ]
  },
  {
   "cell_type": "code",
   "execution_count": 2,
   "metadata": {},
   "outputs": [],
   "source": [
    "account =pd.read_csv(\"../Test/acct.csv\")"
   ]
  },
  {
   "cell_type": "code",
   "execution_count": 3,
   "metadata": {},
   "outputs": [
    {
     "data": {
      "text/html": [
       "<div>\n",
       "<style scoped>\n",
       "    .dataframe tbody tr th:only-of-type {\n",
       "        vertical-align: middle;\n",
       "    }\n",
       "\n",
       "    .dataframe tbody tr th {\n",
       "        vertical-align: top;\n",
       "    }\n",
       "\n",
       "    .dataframe thead th {\n",
       "        text-align: right;\n",
       "    }\n",
       "</style>\n",
       "<table border=\"1\" class=\"dataframe\">\n",
       "  <thead>\n",
       "    <tr style=\"text-align: right;\">\n",
       "      <th></th>\n",
       "      <th>Unnamed: 0</th>\n",
       "      <th>branchNumber</th>\n",
       "      <th>type</th>\n",
       "      <th>openDate</th>\n",
       "      <th>id</th>\n",
       "      <th>iban</th>\n",
       "      <th>balance</th>\n",
       "      <th>currency</th>\n",
       "      <th>cust_id</th>\n",
       "    </tr>\n",
       "  </thead>\n",
       "  <tbody>\n",
       "    <tr>\n",
       "      <th>0</th>\n",
       "      <td>0</td>\n",
       "      <td>1416</td>\n",
       "      <td>DDA</td>\n",
       "      <td>3/1/2018</td>\n",
       "      <td>fe51c153-fbec-4b64-9b00-2530035ef0e1_1894a538-...</td>\n",
       "      <td>NaN</td>\n",
       "      <td>447.56</td>\n",
       "      <td>CAD</td>\n",
       "      <td>fe51c153-fbec-4b64-9b00-2530035ef0e1_c418b5e6-...</td>\n",
       "    </tr>\n",
       "    <tr>\n",
       "      <th>1</th>\n",
       "      <td>1</td>\n",
       "      <td>1416</td>\n",
       "      <td>SDA</td>\n",
       "      <td>3/1/2018</td>\n",
       "      <td>fe51c153-fbec-4b64-9b00-2530035ef0e1_e4d4cce1-...</td>\n",
       "      <td>NaN</td>\n",
       "      <td>4592.68</td>\n",
       "      <td>CAD</td>\n",
       "      <td>fe51c153-fbec-4b64-9b00-2530035ef0e1_c418b5e6-...</td>\n",
       "    </tr>\n",
       "    <tr>\n",
       "      <th>2</th>\n",
       "      <td>2</td>\n",
       "      <td>324</td>\n",
       "      <td>DDA</td>\n",
       "      <td>3/1/2018</td>\n",
       "      <td>fe51c153-fbec-4b64-9b00-2530035ef0e1_b4c1aad5-...</td>\n",
       "      <td>NaN</td>\n",
       "      <td>4132.75</td>\n",
       "      <td>CAD</td>\n",
       "      <td>fe51c153-fbec-4b64-9b00-2530035ef0e1_be23d561-...</td>\n",
       "    </tr>\n",
       "    <tr>\n",
       "      <th>3</th>\n",
       "      <td>3</td>\n",
       "      <td>324</td>\n",
       "      <td>SDA</td>\n",
       "      <td>3/1/2018</td>\n",
       "      <td>fe51c153-fbec-4b64-9b00-2530035ef0e1_f71001df-...</td>\n",
       "      <td>NaN</td>\n",
       "      <td>2110.26</td>\n",
       "      <td>CAD</td>\n",
       "      <td>fe51c153-fbec-4b64-9b00-2530035ef0e1_be23d561-...</td>\n",
       "    </tr>\n",
       "    <tr>\n",
       "      <th>4</th>\n",
       "      <td>4</td>\n",
       "      <td>1728</td>\n",
       "      <td>DDA</td>\n",
       "      <td>3/1/2018</td>\n",
       "      <td>fe51c153-fbec-4b64-9b00-2530035ef0e1_ec10146d-...</td>\n",
       "      <td>NaN</td>\n",
       "      <td>16981.85</td>\n",
       "      <td>CAD</td>\n",
       "      <td>fe51c153-fbec-4b64-9b00-2530035ef0e1_9ed43d58-...</td>\n",
       "    </tr>\n",
       "  </tbody>\n",
       "</table>\n",
       "</div>"
      ],
      "text/plain": [
       "   Unnamed: 0  branchNumber type  openDate  \\\n",
       "0           0          1416  DDA  3/1/2018   \n",
       "1           1          1416  SDA  3/1/2018   \n",
       "2           2           324  DDA  3/1/2018   \n",
       "3           3           324  SDA  3/1/2018   \n",
       "4           4          1728  DDA  3/1/2018   \n",
       "\n",
       "                                                  id  iban   balance currency  \\\n",
       "0  fe51c153-fbec-4b64-9b00-2530035ef0e1_1894a538-...   NaN    447.56      CAD   \n",
       "1  fe51c153-fbec-4b64-9b00-2530035ef0e1_e4d4cce1-...   NaN   4592.68      CAD   \n",
       "2  fe51c153-fbec-4b64-9b00-2530035ef0e1_b4c1aad5-...   NaN   4132.75      CAD   \n",
       "3  fe51c153-fbec-4b64-9b00-2530035ef0e1_f71001df-...   NaN   2110.26      CAD   \n",
       "4  fe51c153-fbec-4b64-9b00-2530035ef0e1_ec10146d-...   NaN  16981.85      CAD   \n",
       "\n",
       "                                             cust_id  \n",
       "0  fe51c153-fbec-4b64-9b00-2530035ef0e1_c418b5e6-...  \n",
       "1  fe51c153-fbec-4b64-9b00-2530035ef0e1_c418b5e6-...  \n",
       "2  fe51c153-fbec-4b64-9b00-2530035ef0e1_be23d561-...  \n",
       "3  fe51c153-fbec-4b64-9b00-2530035ef0e1_be23d561-...  \n",
       "4  fe51c153-fbec-4b64-9b00-2530035ef0e1_9ed43d58-...  "
      ]
     },
     "execution_count": 3,
     "metadata": {},
     "output_type": "execute_result"
    }
   ],
   "source": [
    "account.head()"
   ]
  },
  {
   "cell_type": "code",
   "execution_count": 4,
   "metadata": {},
   "outputs": [
    {
     "name": "stdout",
     "output_type": "stream",
     "text": [
      "<class 'pandas.core.frame.DataFrame'>\n",
      "RangeIndex: 11290 entries, 0 to 11289\n",
      "Data columns (total 9 columns):\n",
      "Unnamed: 0      11290 non-null int64\n",
      "branchNumber    11290 non-null int64\n",
      "type            11290 non-null object\n",
      "openDate        11290 non-null object\n",
      "id              11290 non-null object\n",
      "iban            0 non-null float64\n",
      "balance         11290 non-null float64\n",
      "currency        11290 non-null object\n",
      "cust_id         11290 non-null object\n",
      "dtypes: float64(2), int64(2), object(5)\n",
      "memory usage: 794.0+ KB\n"
     ]
    }
   ],
   "source": [
    "account.info()"
   ]
  },
  {
   "cell_type": "code",
   "execution_count": 5,
   "metadata": {},
   "outputs": [
    {
     "data": {
      "text/plain": [
       "(11290, 9)"
      ]
     },
     "execution_count": 5,
     "metadata": {},
     "output_type": "execute_result"
    }
   ],
   "source": [
    "account.shape"
   ]
  },
  {
   "cell_type": "code",
   "execution_count": 6,
   "metadata": {},
   "outputs": [
    {
     "data": {
      "text/plain": [
       "Unnamed: 0          0\n",
       "branchNumber        0\n",
       "type                0\n",
       "openDate            0\n",
       "id                  0\n",
       "iban            11290\n",
       "balance             0\n",
       "currency            0\n",
       "cust_id             0\n",
       "dtype: int64"
      ]
     },
     "execution_count": 6,
     "metadata": {},
     "output_type": "execute_result"
    }
   ],
   "source": [
    "account.isnull().sum()"
   ]
  },
  {
   "cell_type": "code",
   "execution_count": 7,
   "metadata": {},
   "outputs": [],
   "source": [
    "account.drop(['Unnamed: 0', 'iban'], axis=1, inplace=True)"
   ]
  },
  {
   "cell_type": "code",
   "execution_count": null,
   "metadata": {},
   "outputs": [],
   "source": []
  },
  {
   "cell_type": "code",
   "execution_count": 8,
   "metadata": {},
   "outputs": [],
   "source": [
    "customer =pd.read_csv(\"../Test/cust.csv\")"
   ]
  },
  {
   "cell_type": "code",
   "execution_count": 9,
   "metadata": {},
   "outputs": [
    {
     "data": {
      "text/html": [
       "<div>\n",
       "<style scoped>\n",
       "    .dataframe tbody tr th:only-of-type {\n",
       "        vertical-align: middle;\n",
       "    }\n",
       "\n",
       "    .dataframe tbody tr th {\n",
       "        vertical-align: top;\n",
       "    }\n",
       "\n",
       "    .dataframe thead th {\n",
       "        text-align: right;\n",
       "    }\n",
       "</style>\n",
       "<table border=\"1\" class=\"dataframe\">\n",
       "  <thead>\n",
       "    <tr style=\"text-align: right;\">\n",
       "      <th></th>\n",
       "      <th>Unnamed: 0</th>\n",
       "      <th>id</th>\n",
       "      <th>type</th>\n",
       "      <th>gender</th>\n",
       "      <th>birthDate</th>\n",
       "      <th>workActivity</th>\n",
       "      <th>occupationIndustry</th>\n",
       "      <th>totalIncome</th>\n",
       "      <th>relationshipStatus</th>\n",
       "      <th>habitationStatus</th>\n",
       "      <th>addresses_principalResidence_province</th>\n",
       "      <th>schoolAttendance</th>\n",
       "      <th>schools</th>\n",
       "    </tr>\n",
       "  </thead>\n",
       "  <tbody>\n",
       "    <tr>\n",
       "      <th>0</th>\n",
       "      <td>0</td>\n",
       "      <td>fe51c153-fbec-4b64-9b00-2530035ef0e1_1bf5af3c-...</td>\n",
       "      <td>Personal</td>\n",
       "      <td>Male</td>\n",
       "      <td>12/26/1985</td>\n",
       "      <td>NaN</td>\n",
       "      <td>NaN</td>\n",
       "      <td>0.0</td>\n",
       "      <td>Single</td>\n",
       "      <td>Group</td>\n",
       "      <td>ON</td>\n",
       "      <td>NaN</td>\n",
       "      <td>NaN</td>\n",
       "    </tr>\n",
       "    <tr>\n",
       "      <th>1</th>\n",
       "      <td>1</td>\n",
       "      <td>fe51c153-fbec-4b64-9b00-2530035ef0e1_6e740a94-...</td>\n",
       "      <td>Personal</td>\n",
       "      <td>Female</td>\n",
       "      <td>1/30/1977</td>\n",
       "      <td>fulltime</td>\n",
       "      <td>5221 Depository credit intermediation</td>\n",
       "      <td>40009.2</td>\n",
       "      <td>Married</td>\n",
       "      <td>With Spouse</td>\n",
       "      <td>ON</td>\n",
       "      <td>NaN</td>\n",
       "      <td>NaN</td>\n",
       "    </tr>\n",
       "    <tr>\n",
       "      <th>2</th>\n",
       "      <td>2</td>\n",
       "      <td>fe51c153-fbec-4b64-9b00-2530035ef0e1_3918fdef-...</td>\n",
       "      <td>Personal</td>\n",
       "      <td>Female</td>\n",
       "      <td>11/22/2003</td>\n",
       "      <td>NaN</td>\n",
       "      <td>NaN</td>\n",
       "      <td>0.0</td>\n",
       "      <td>Single</td>\n",
       "      <td>With Parent</td>\n",
       "      <td>ON</td>\n",
       "      <td>Secondary</td>\n",
       "      <td>1.0</td>\n",
       "    </tr>\n",
       "    <tr>\n",
       "      <th>3</th>\n",
       "      <td>3</td>\n",
       "      <td>fe51c153-fbec-4b64-9b00-2530035ef0e1_d81a6d15-...</td>\n",
       "      <td>Personal</td>\n",
       "      <td>Other</td>\n",
       "      <td>5/7/1983</td>\n",
       "      <td>fulltime</td>\n",
       "      <td>5412 Accounting, tax preparation, bookkeeping ...</td>\n",
       "      <td>44709.0</td>\n",
       "      <td>Married</td>\n",
       "      <td>With Spouse</td>\n",
       "      <td>ON</td>\n",
       "      <td>NaN</td>\n",
       "      <td>NaN</td>\n",
       "    </tr>\n",
       "    <tr>\n",
       "      <th>4</th>\n",
       "      <td>4</td>\n",
       "      <td>fe51c153-fbec-4b64-9b00-2530035ef0e1_e21dfbc8-...</td>\n",
       "      <td>Personal</td>\n",
       "      <td>Male</td>\n",
       "      <td>1/29/1983</td>\n",
       "      <td>fulltime</td>\n",
       "      <td>4855 Charter bus industry</td>\n",
       "      <td>21496.0</td>\n",
       "      <td>Single</td>\n",
       "      <td>With Parent</td>\n",
       "      <td>ON</td>\n",
       "      <td>NaN</td>\n",
       "      <td>NaN</td>\n",
       "    </tr>\n",
       "  </tbody>\n",
       "</table>\n",
       "</div>"
      ],
      "text/plain": [
       "   Unnamed: 0                                                 id      type  \\\n",
       "0           0  fe51c153-fbec-4b64-9b00-2530035ef0e1_1bf5af3c-...  Personal   \n",
       "1           1  fe51c153-fbec-4b64-9b00-2530035ef0e1_6e740a94-...  Personal   \n",
       "2           2  fe51c153-fbec-4b64-9b00-2530035ef0e1_3918fdef-...  Personal   \n",
       "3           3  fe51c153-fbec-4b64-9b00-2530035ef0e1_d81a6d15-...  Personal   \n",
       "4           4  fe51c153-fbec-4b64-9b00-2530035ef0e1_e21dfbc8-...  Personal   \n",
       "\n",
       "   gender   birthDate workActivity  \\\n",
       "0    Male  12/26/1985          NaN   \n",
       "1  Female   1/30/1977     fulltime   \n",
       "2  Female  11/22/2003          NaN   \n",
       "3   Other    5/7/1983     fulltime   \n",
       "4    Male   1/29/1983     fulltime   \n",
       "\n",
       "                                  occupationIndustry  totalIncome  \\\n",
       "0                                                NaN          0.0   \n",
       "1              5221 Depository credit intermediation      40009.2   \n",
       "2                                                NaN          0.0   \n",
       "3  5412 Accounting, tax preparation, bookkeeping ...      44709.0   \n",
       "4                          4855 Charter bus industry      21496.0   \n",
       "\n",
       "  relationshipStatus habitationStatus addresses_principalResidence_province  \\\n",
       "0             Single            Group                                    ON   \n",
       "1            Married      With Spouse                                    ON   \n",
       "2             Single      With Parent                                    ON   \n",
       "3            Married      With Spouse                                    ON   \n",
       "4             Single      With Parent                                    ON   \n",
       "\n",
       "  schoolAttendance  schools  \n",
       "0              NaN      NaN  \n",
       "1              NaN      NaN  \n",
       "2        Secondary      1.0  \n",
       "3              NaN      NaN  \n",
       "4              NaN      NaN  "
      ]
     },
     "execution_count": 9,
     "metadata": {},
     "output_type": "execute_result"
    }
   ],
   "source": [
    "customer.head()"
   ]
  },
  {
   "cell_type": "code",
   "execution_count": 10,
   "metadata": {},
   "outputs": [
    {
     "name": "stdout",
     "output_type": "stream",
     "text": [
      "<class 'pandas.core.frame.DataFrame'>\n",
      "RangeIndex: 5645 entries, 0 to 5644\n",
      "Data columns (total 13 columns):\n",
      "Unnamed: 0                               5645 non-null int64\n",
      "id                                       5645 non-null object\n",
      "type                                     5645 non-null object\n",
      "gender                                   5645 non-null object\n",
      "birthDate                                5645 non-null object\n",
      "workActivity                             4200 non-null object\n",
      "occupationIndustry                       4915 non-null object\n",
      "totalIncome                              5645 non-null float64\n",
      "relationshipStatus                       5645 non-null object\n",
      "habitationStatus                         4662 non-null object\n",
      "addresses_principalResidence_province    5645 non-null object\n",
      "schoolAttendance                         1582 non-null object\n",
      "schools                                  391 non-null float64\n",
      "dtypes: float64(2), int64(1), object(10)\n",
      "memory usage: 573.4+ KB\n"
     ]
    }
   ],
   "source": [
    "customer.info()"
   ]
  },
  {
   "cell_type": "code",
   "execution_count": 11,
   "metadata": {},
   "outputs": [
    {
     "data": {
      "text/plain": [
       "(5645, 13)"
      ]
     },
     "execution_count": 11,
     "metadata": {},
     "output_type": "execute_result"
    }
   ],
   "source": [
    "customer.shape"
   ]
  },
  {
   "cell_type": "code",
   "execution_count": 12,
   "metadata": {},
   "outputs": [
    {
     "data": {
      "text/plain": [
       "Unnamed: 0                                  0\n",
       "id                                          0\n",
       "type                                        0\n",
       "gender                                      0\n",
       "birthDate                                   0\n",
       "workActivity                             1445\n",
       "occupationIndustry                        730\n",
       "totalIncome                                 0\n",
       "relationshipStatus                          0\n",
       "habitationStatus                          983\n",
       "addresses_principalResidence_province       0\n",
       "schoolAttendance                         4063\n",
       "schools                                  5254\n",
       "dtype: int64"
      ]
     },
     "execution_count": 12,
     "metadata": {},
     "output_type": "execute_result"
    }
   ],
   "source": [
    "customer.isnull().sum()"
   ]
  },
  {
   "cell_type": "code",
   "execution_count": 13,
   "metadata": {},
   "outputs": [
    {
     "data": {
      "text/plain": [
       "fulltime    0.433304\n",
       "parttime    0.310717\n",
       "NaN         0.255979\n",
       "Name: workActivity, dtype: float64"
      ]
     },
     "execution_count": 13,
     "metadata": {},
     "output_type": "execute_result"
    }
   ],
   "source": [
    "customer['workActivity'].value_counts(normalize=True, dropna=False)"
   ]
  },
  {
   "cell_type": "code",
   "execution_count": 14,
   "metadata": {},
   "outputs": [],
   "source": [
    "customer['workActivity'] = customer['workActivity'].fillna(customer['workActivity'].mode()[0])"
   ]
  },
  {
   "cell_type": "code",
   "execution_count": null,
   "metadata": {},
   "outputs": [],
   "source": []
  },
  {
   "cell_type": "code",
   "execution_count": 15,
   "metadata": {},
   "outputs": [
    {
     "data": {
      "text/plain": [
       "NaN                                                             0.129318\n",
       "Retired                                                         0.126661\n",
       "5221 Depository credit intermediation                           0.043578\n",
       "6220 Hospitals (6221 to 6223)                                   0.031001\n",
       "6111 Elementary and secondary schools                           0.027989\n",
       "                                                                  ...   \n",
       "4922 Local messengers and local delivery                        0.000177\n",
       "3333 Commercial and service industry machinery manufacturing    0.000177\n",
       "2372 Land subdivision                                           0.000177\n",
       "5174 Satellite telecommunications                               0.000177\n",
       "7131 Amusement parks and arcades                                0.000177\n",
       "Name: occupationIndustry, Length: 244, dtype: float64"
      ]
     },
     "execution_count": 15,
     "metadata": {},
     "output_type": "execute_result"
    }
   ],
   "source": [
    "customer['occupationIndustry'].value_counts(normalize=True, dropna=False)"
   ]
  },
  {
   "cell_type": "code",
   "execution_count": 16,
   "metadata": {},
   "outputs": [],
   "source": [
    "customer['occupationIndustry'] = customer['occupationIndustry'].fillna(customer['occupationIndustry'].mode()[0])"
   ]
  },
  {
   "cell_type": "code",
   "execution_count": 17,
   "metadata": {},
   "outputs": [
    {
     "data": {
      "text/plain": [
       "With Spouse    0.503100\n",
       "With Parent    0.232950\n",
       "NaN            0.174136\n",
       "Group          0.089814\n",
       "Name: habitationStatus, dtype: float64"
      ]
     },
     "execution_count": 17,
     "metadata": {},
     "output_type": "execute_result"
    }
   ],
   "source": [
    "customer['habitationStatus'].value_counts(normalize=True, dropna=False)"
   ]
  },
  {
   "cell_type": "code",
   "execution_count": 18,
   "metadata": {},
   "outputs": [],
   "source": [
    "customer.habitationStatus = customer.habitationStatus.fillna('Single')"
   ]
  },
  {
   "cell_type": "code",
   "execution_count": 19,
   "metadata": {},
   "outputs": [
    {
     "data": {
      "text/plain": [
       "NaN               0.719752\n",
       "Apprenticeship    0.147919\n",
       "College           0.063065\n",
       "Secondary         0.056687\n",
       "Middle            0.011515\n",
       "Elementary        0.001063\n",
       "Name: schoolAttendance, dtype: float64"
      ]
     },
     "execution_count": 19,
     "metadata": {},
     "output_type": "execute_result"
    }
   ],
   "source": [
    "customer['schoolAttendance'].value_counts(normalize=True, dropna=False)"
   ]
  },
  {
   "cell_type": "code",
   "execution_count": 20,
   "metadata": {},
   "outputs": [
    {
     "data": {
      "text/plain": [
       "NaN    0.930735\n",
       "1.0    0.069265\n",
       "Name: schools, dtype: float64"
      ]
     },
     "execution_count": 20,
     "metadata": {},
     "output_type": "execute_result"
    }
   ],
   "source": [
    "customer['schools'].value_counts(normalize=True, dropna=False)"
   ]
  },
  {
   "cell_type": "code",
   "execution_count": 21,
   "metadata": {},
   "outputs": [],
   "source": [
    "customer.drop(['schoolAttendance', 'schools','Unnamed: 0'], axis=1, inplace=True)"
   ]
  },
  {
   "cell_type": "code",
   "execution_count": null,
   "metadata": {},
   "outputs": [],
   "source": []
  },
  {
   "cell_type": "code",
   "execution_count": null,
   "metadata": {},
   "outputs": [],
   "source": []
  },
  {
   "cell_type": "code",
   "execution_count": 22,
   "metadata": {},
   "outputs": [],
   "source": [
    "transactions =pd.read_csv(\"../Test/tran.csv\")"
   ]
  },
  {
   "cell_type": "code",
   "execution_count": 23,
   "metadata": {},
   "outputs": [
    {
     "data": {
      "text/html": [
       "<div>\n",
       "<style scoped>\n",
       "    .dataframe tbody tr th:only-of-type {\n",
       "        vertical-align: middle;\n",
       "    }\n",
       "\n",
       "    .dataframe tbody tr th {\n",
       "        vertical-align: top;\n",
       "    }\n",
       "\n",
       "    .dataframe thead th {\n",
       "        text-align: right;\n",
       "    }\n",
       "</style>\n",
       "<table border=\"1\" class=\"dataframe\">\n",
       "  <thead>\n",
       "    <tr style=\"text-align: right;\">\n",
       "      <th></th>\n",
       "      <th>Unnamed: 0</th>\n",
       "      <th>description</th>\n",
       "      <th>currencyAmount</th>\n",
       "      <th>locationRegion</th>\n",
       "      <th>locationCity</th>\n",
       "      <th>originationDateTime</th>\n",
       "      <th>customerId</th>\n",
       "      <th>merchantId</th>\n",
       "      <th>accountId</th>\n",
       "      <th>categoryTags</th>\n",
       "    </tr>\n",
       "  </thead>\n",
       "  <tbody>\n",
       "    <tr>\n",
       "      <th>0</th>\n",
       "      <td>0</td>\n",
       "      <td>ADP PMT 59964899</td>\n",
       "      <td>1092.22</td>\n",
       "      <td>NaN</td>\n",
       "      <td>NaN</td>\n",
       "      <td>2018-06-28T00:00:00.001Z</td>\n",
       "      <td>fe51c153-fbec-4b64-9b00-2530035ef0e1_fa967441-...</td>\n",
       "      <td>NaN</td>\n",
       "      <td>fe51c153-fbec-4b64-9b00-2530035ef0e1_5b35142d-...</td>\n",
       "      <td>Income</td>\n",
       "    </tr>\n",
       "    <tr>\n",
       "      <th>1</th>\n",
       "      <td>1</td>\n",
       "      <td>ADP PMT 78870688</td>\n",
       "      <td>701.11</td>\n",
       "      <td>NaN</td>\n",
       "      <td>NaN</td>\n",
       "      <td>2018-06-28T00:00:00.001Z</td>\n",
       "      <td>fe51c153-fbec-4b64-9b00-2530035ef0e1_ee129e70-...</td>\n",
       "      <td>NaN</td>\n",
       "      <td>fe51c153-fbec-4b64-9b00-2530035ef0e1_9172eb97-...</td>\n",
       "      <td>Income</td>\n",
       "    </tr>\n",
       "    <tr>\n",
       "      <th>2</th>\n",
       "      <td>2</td>\n",
       "      <td>ROGERS CABLE E2I6X9</td>\n",
       "      <td>111.98</td>\n",
       "      <td>NaN</td>\n",
       "      <td>NaN</td>\n",
       "      <td>2018-04-30T00:00:00.002Z</td>\n",
       "      <td>fe51c153-fbec-4b64-9b00-2530035ef0e1_ad635ae8-...</td>\n",
       "      <td>3d99af81-c081-4d73-bc44-d3a8e639b22a</td>\n",
       "      <td>fe51c153-fbec-4b64-9b00-2530035ef0e1_b527eb36-...</td>\n",
       "      <td>Bills and Utilities</td>\n",
       "    </tr>\n",
       "    <tr>\n",
       "      <th>3</th>\n",
       "      <td>3</td>\n",
       "      <td>TIM HORTONS #990 _F</td>\n",
       "      <td>1.16</td>\n",
       "      <td>NaN</td>\n",
       "      <td>NaN</td>\n",
       "      <td>2018-10-09T15:30:00Z</td>\n",
       "      <td>fe51c153-fbec-4b64-9b00-2530035ef0e1_12bd4e47-...</td>\n",
       "      <td>7cc23aa6-0671-4c44-a1b5-b8a98d4bc5d4</td>\n",
       "      <td>fe51c153-fbec-4b64-9b00-2530035ef0e1_1185d0e2-...</td>\n",
       "      <td>Food and Dining</td>\n",
       "    </tr>\n",
       "    <tr>\n",
       "      <th>4</th>\n",
       "      <td>4</td>\n",
       "      <td>EMAIL TFR C0***oHp</td>\n",
       "      <td>41.00</td>\n",
       "      <td>NaN</td>\n",
       "      <td>NaN</td>\n",
       "      <td>2018-07-05T00:00:00.001Z</td>\n",
       "      <td>fe51c153-fbec-4b64-9b00-2530035ef0e1_fb97a9de-...</td>\n",
       "      <td>NaN</td>\n",
       "      <td>fe51c153-fbec-4b64-9b00-2530035ef0e1_bf889f32-...</td>\n",
       "      <td>Transfer</td>\n",
       "    </tr>\n",
       "  </tbody>\n",
       "</table>\n",
       "</div>"
      ],
      "text/plain": [
       "   Unnamed: 0          description  currencyAmount  locationRegion  \\\n",
       "0           0     ADP PMT 59964899         1092.22             NaN   \n",
       "1           1     ADP PMT 78870688          701.11             NaN   \n",
       "2           2  ROGERS CABLE E2I6X9          111.98             NaN   \n",
       "3           3  TIM HORTONS #990 _F            1.16             NaN   \n",
       "4           4   EMAIL TFR C0***oHp           41.00             NaN   \n",
       "\n",
       "   locationCity       originationDateTime  \\\n",
       "0           NaN  2018-06-28T00:00:00.001Z   \n",
       "1           NaN  2018-06-28T00:00:00.001Z   \n",
       "2           NaN  2018-04-30T00:00:00.002Z   \n",
       "3           NaN      2018-10-09T15:30:00Z   \n",
       "4           NaN  2018-07-05T00:00:00.001Z   \n",
       "\n",
       "                                          customerId  \\\n",
       "0  fe51c153-fbec-4b64-9b00-2530035ef0e1_fa967441-...   \n",
       "1  fe51c153-fbec-4b64-9b00-2530035ef0e1_ee129e70-...   \n",
       "2  fe51c153-fbec-4b64-9b00-2530035ef0e1_ad635ae8-...   \n",
       "3  fe51c153-fbec-4b64-9b00-2530035ef0e1_12bd4e47-...   \n",
       "4  fe51c153-fbec-4b64-9b00-2530035ef0e1_fb97a9de-...   \n",
       "\n",
       "                             merchantId  \\\n",
       "0                                   NaN   \n",
       "1                                   NaN   \n",
       "2  3d99af81-c081-4d73-bc44-d3a8e639b22a   \n",
       "3  7cc23aa6-0671-4c44-a1b5-b8a98d4bc5d4   \n",
       "4                                   NaN   \n",
       "\n",
       "                                           accountId         categoryTags  \n",
       "0  fe51c153-fbec-4b64-9b00-2530035ef0e1_5b35142d-...               Income  \n",
       "1  fe51c153-fbec-4b64-9b00-2530035ef0e1_9172eb97-...               Income  \n",
       "2  fe51c153-fbec-4b64-9b00-2530035ef0e1_b527eb36-...  Bills and Utilities  \n",
       "3  fe51c153-fbec-4b64-9b00-2530035ef0e1_1185d0e2-...      Food and Dining  \n",
       "4  fe51c153-fbec-4b64-9b00-2530035ef0e1_bf889f32-...             Transfer  "
      ]
     },
     "execution_count": 23,
     "metadata": {},
     "output_type": "execute_result"
    }
   ],
   "source": [
    "transactions.head()"
   ]
  },
  {
   "cell_type": "code",
   "execution_count": 24,
   "metadata": {},
   "outputs": [
    {
     "name": "stdout",
     "output_type": "stream",
     "text": [
      "<class 'pandas.core.frame.DataFrame'>\n",
      "RangeIndex: 92304 entries, 0 to 92303\n",
      "Data columns (total 10 columns):\n",
      "Unnamed: 0             92304 non-null int64\n",
      "description            92304 non-null object\n",
      "currencyAmount         92304 non-null float64\n",
      "locationRegion         0 non-null float64\n",
      "locationCity           0 non-null float64\n",
      "originationDateTime    92304 non-null object\n",
      "customerId             92304 non-null object\n",
      "merchantId             43298 non-null object\n",
      "accountId              92304 non-null object\n",
      "categoryTags           92160 non-null object\n",
      "dtypes: float64(3), int64(1), object(6)\n",
      "memory usage: 7.0+ MB\n"
     ]
    }
   ],
   "source": [
    "transactions.info()"
   ]
  },
  {
   "cell_type": "code",
   "execution_count": 25,
   "metadata": {},
   "outputs": [
    {
     "data": {
      "text/plain": [
       "(92304, 10)"
      ]
     },
     "execution_count": 25,
     "metadata": {},
     "output_type": "execute_result"
    }
   ],
   "source": [
    "transactions.shape"
   ]
  },
  {
   "cell_type": "code",
   "execution_count": 26,
   "metadata": {},
   "outputs": [
    {
     "data": {
      "text/plain": [
       "Unnamed: 0               0.000000\n",
       "description              0.000000\n",
       "currencyAmount           0.000000\n",
       "locationRegion         100.000000\n",
       "locationCity           100.000000\n",
       "originationDateTime      0.000000\n",
       "customerId               0.000000\n",
       "merchantId              53.091957\n",
       "accountId                0.000000\n",
       "categoryTags             0.156006\n",
       "dtype: float64"
      ]
     },
     "execution_count": 26,
     "metadata": {},
     "output_type": "execute_result"
    }
   ],
   "source": [
    "missingvalues_percentage = transactions.isnull().sum() * 100 / len(transactions)\n",
    "missingvalues_percentage"
   ]
  },
  {
   "cell_type": "code",
   "execution_count": 27,
   "metadata": {},
   "outputs": [
    {
     "data": {
      "text/plain": [
       "Transfer               0.440934\n",
       "Income                 0.188410\n",
       "Bills and Utilities    0.174619\n",
       "Food and Dining        0.122920\n",
       "Taxes                  0.022697\n",
       "Mortgage and Rent      0.017323\n",
       "Shopping               0.015503\n",
       "Home                   0.006489\n",
       "Fees and Charges       0.005449\n",
       "Travel                 0.002297\n",
       "NaN                    0.001560\n",
       "Entertainment          0.001365\n",
       "Auto and Transport     0.000325\n",
       "Health and Fitness     0.000087\n",
       "Kids                   0.000022\n",
       "Name: categoryTags, dtype: float64"
      ]
     },
     "execution_count": 27,
     "metadata": {},
     "output_type": "execute_result"
    }
   ],
   "source": [
    "transactions['categoryTags'].value_counts(normalize=True, dropna=False)"
   ]
  },
  {
   "cell_type": "code",
   "execution_count": 28,
   "metadata": {},
   "outputs": [],
   "source": [
    "transactions['categoryTags'] = transactions['categoryTags'].fillna(transactions['categoryTags'].mode()[0])"
   ]
  },
  {
   "cell_type": "code",
   "execution_count": 29,
   "metadata": {},
   "outputs": [],
   "source": [
    "transactions['merchantId'] = transactions['merchantId'].fillna(transactions['merchantId'].mode()[0])"
   ]
  },
  {
   "cell_type": "code",
   "execution_count": 30,
   "metadata": {},
   "outputs": [],
   "source": [
    "transactions.drop(['locationRegion', 'locationCity','Unnamed: 0'], axis=1, inplace=True)"
   ]
  },
  {
   "cell_type": "code",
   "execution_count": null,
   "metadata": {},
   "outputs": [],
   "source": []
  },
  {
   "cell_type": "code",
   "execution_count": 31,
   "metadata": {},
   "outputs": [
    {
     "data": {
      "text/html": [
       "<div>\n",
       "<style scoped>\n",
       "    .dataframe tbody tr th:only-of-type {\n",
       "        vertical-align: middle;\n",
       "    }\n",
       "\n",
       "    .dataframe tbody tr th {\n",
       "        vertical-align: top;\n",
       "    }\n",
       "\n",
       "    .dataframe thead th {\n",
       "        text-align: right;\n",
       "    }\n",
       "</style>\n",
       "<table border=\"1\" class=\"dataframe\">\n",
       "  <thead>\n",
       "    <tr style=\"text-align: right;\">\n",
       "      <th></th>\n",
       "      <th>branchNumber</th>\n",
       "      <th>type</th>\n",
       "      <th>openDate</th>\n",
       "      <th>id</th>\n",
       "      <th>balance</th>\n",
       "      <th>currency</th>\n",
       "      <th>cust_id</th>\n",
       "    </tr>\n",
       "  </thead>\n",
       "  <tbody>\n",
       "    <tr>\n",
       "      <th>0</th>\n",
       "      <td>1416</td>\n",
       "      <td>DDA</td>\n",
       "      <td>3/1/2018</td>\n",
       "      <td>fe51c153-fbec-4b64-9b00-2530035ef0e1_1894a538-...</td>\n",
       "      <td>447.56</td>\n",
       "      <td>CAD</td>\n",
       "      <td>fe51c153-fbec-4b64-9b00-2530035ef0e1_c418b5e6-...</td>\n",
       "    </tr>\n",
       "    <tr>\n",
       "      <th>1</th>\n",
       "      <td>1416</td>\n",
       "      <td>SDA</td>\n",
       "      <td>3/1/2018</td>\n",
       "      <td>fe51c153-fbec-4b64-9b00-2530035ef0e1_e4d4cce1-...</td>\n",
       "      <td>4592.68</td>\n",
       "      <td>CAD</td>\n",
       "      <td>fe51c153-fbec-4b64-9b00-2530035ef0e1_c418b5e6-...</td>\n",
       "    </tr>\n",
       "    <tr>\n",
       "      <th>2</th>\n",
       "      <td>324</td>\n",
       "      <td>DDA</td>\n",
       "      <td>3/1/2018</td>\n",
       "      <td>fe51c153-fbec-4b64-9b00-2530035ef0e1_b4c1aad5-...</td>\n",
       "      <td>4132.75</td>\n",
       "      <td>CAD</td>\n",
       "      <td>fe51c153-fbec-4b64-9b00-2530035ef0e1_be23d561-...</td>\n",
       "    </tr>\n",
       "    <tr>\n",
       "      <th>3</th>\n",
       "      <td>324</td>\n",
       "      <td>SDA</td>\n",
       "      <td>3/1/2018</td>\n",
       "      <td>fe51c153-fbec-4b64-9b00-2530035ef0e1_f71001df-...</td>\n",
       "      <td>2110.26</td>\n",
       "      <td>CAD</td>\n",
       "      <td>fe51c153-fbec-4b64-9b00-2530035ef0e1_be23d561-...</td>\n",
       "    </tr>\n",
       "    <tr>\n",
       "      <th>4</th>\n",
       "      <td>1728</td>\n",
       "      <td>DDA</td>\n",
       "      <td>3/1/2018</td>\n",
       "      <td>fe51c153-fbec-4b64-9b00-2530035ef0e1_ec10146d-...</td>\n",
       "      <td>16981.85</td>\n",
       "      <td>CAD</td>\n",
       "      <td>fe51c153-fbec-4b64-9b00-2530035ef0e1_9ed43d58-...</td>\n",
       "    </tr>\n",
       "  </tbody>\n",
       "</table>\n",
       "</div>"
      ],
      "text/plain": [
       "   branchNumber type  openDate  \\\n",
       "0          1416  DDA  3/1/2018   \n",
       "1          1416  SDA  3/1/2018   \n",
       "2           324  DDA  3/1/2018   \n",
       "3           324  SDA  3/1/2018   \n",
       "4          1728  DDA  3/1/2018   \n",
       "\n",
       "                                                  id   balance currency  \\\n",
       "0  fe51c153-fbec-4b64-9b00-2530035ef0e1_1894a538-...    447.56      CAD   \n",
       "1  fe51c153-fbec-4b64-9b00-2530035ef0e1_e4d4cce1-...   4592.68      CAD   \n",
       "2  fe51c153-fbec-4b64-9b00-2530035ef0e1_b4c1aad5-...   4132.75      CAD   \n",
       "3  fe51c153-fbec-4b64-9b00-2530035ef0e1_f71001df-...   2110.26      CAD   \n",
       "4  fe51c153-fbec-4b64-9b00-2530035ef0e1_ec10146d-...  16981.85      CAD   \n",
       "\n",
       "                                             cust_id  \n",
       "0  fe51c153-fbec-4b64-9b00-2530035ef0e1_c418b5e6-...  \n",
       "1  fe51c153-fbec-4b64-9b00-2530035ef0e1_c418b5e6-...  \n",
       "2  fe51c153-fbec-4b64-9b00-2530035ef0e1_be23d561-...  \n",
       "3  fe51c153-fbec-4b64-9b00-2530035ef0e1_be23d561-...  \n",
       "4  fe51c153-fbec-4b64-9b00-2530035ef0e1_9ed43d58-...  "
      ]
     },
     "execution_count": 31,
     "metadata": {},
     "output_type": "execute_result"
    }
   ],
   "source": [
    "account.head()"
   ]
  },
  {
   "cell_type": "code",
   "execution_count": 32,
   "metadata": {},
   "outputs": [
    {
     "data": {
      "text/html": [
       "<div>\n",
       "<style scoped>\n",
       "    .dataframe tbody tr th:only-of-type {\n",
       "        vertical-align: middle;\n",
       "    }\n",
       "\n",
       "    .dataframe tbody tr th {\n",
       "        vertical-align: top;\n",
       "    }\n",
       "\n",
       "    .dataframe thead th {\n",
       "        text-align: right;\n",
       "    }\n",
       "</style>\n",
       "<table border=\"1\" class=\"dataframe\">\n",
       "  <thead>\n",
       "    <tr style=\"text-align: right;\">\n",
       "      <th></th>\n",
       "      <th>id</th>\n",
       "      <th>type</th>\n",
       "      <th>gender</th>\n",
       "      <th>birthDate</th>\n",
       "      <th>workActivity</th>\n",
       "      <th>occupationIndustry</th>\n",
       "      <th>totalIncome</th>\n",
       "      <th>relationshipStatus</th>\n",
       "      <th>habitationStatus</th>\n",
       "      <th>addresses_principalResidence_province</th>\n",
       "    </tr>\n",
       "  </thead>\n",
       "  <tbody>\n",
       "    <tr>\n",
       "      <th>0</th>\n",
       "      <td>fe51c153-fbec-4b64-9b00-2530035ef0e1_1bf5af3c-...</td>\n",
       "      <td>Personal</td>\n",
       "      <td>Male</td>\n",
       "      <td>12/26/1985</td>\n",
       "      <td>fulltime</td>\n",
       "      <td>Retired</td>\n",
       "      <td>0.0</td>\n",
       "      <td>Single</td>\n",
       "      <td>Group</td>\n",
       "      <td>ON</td>\n",
       "    </tr>\n",
       "    <tr>\n",
       "      <th>1</th>\n",
       "      <td>fe51c153-fbec-4b64-9b00-2530035ef0e1_6e740a94-...</td>\n",
       "      <td>Personal</td>\n",
       "      <td>Female</td>\n",
       "      <td>1/30/1977</td>\n",
       "      <td>fulltime</td>\n",
       "      <td>5221 Depository credit intermediation</td>\n",
       "      <td>40009.2</td>\n",
       "      <td>Married</td>\n",
       "      <td>With Spouse</td>\n",
       "      <td>ON</td>\n",
       "    </tr>\n",
       "    <tr>\n",
       "      <th>2</th>\n",
       "      <td>fe51c153-fbec-4b64-9b00-2530035ef0e1_3918fdef-...</td>\n",
       "      <td>Personal</td>\n",
       "      <td>Female</td>\n",
       "      <td>11/22/2003</td>\n",
       "      <td>fulltime</td>\n",
       "      <td>Retired</td>\n",
       "      <td>0.0</td>\n",
       "      <td>Single</td>\n",
       "      <td>With Parent</td>\n",
       "      <td>ON</td>\n",
       "    </tr>\n",
       "    <tr>\n",
       "      <th>3</th>\n",
       "      <td>fe51c153-fbec-4b64-9b00-2530035ef0e1_d81a6d15-...</td>\n",
       "      <td>Personal</td>\n",
       "      <td>Other</td>\n",
       "      <td>5/7/1983</td>\n",
       "      <td>fulltime</td>\n",
       "      <td>5412 Accounting, tax preparation, bookkeeping ...</td>\n",
       "      <td>44709.0</td>\n",
       "      <td>Married</td>\n",
       "      <td>With Spouse</td>\n",
       "      <td>ON</td>\n",
       "    </tr>\n",
       "    <tr>\n",
       "      <th>4</th>\n",
       "      <td>fe51c153-fbec-4b64-9b00-2530035ef0e1_e21dfbc8-...</td>\n",
       "      <td>Personal</td>\n",
       "      <td>Male</td>\n",
       "      <td>1/29/1983</td>\n",
       "      <td>fulltime</td>\n",
       "      <td>4855 Charter bus industry</td>\n",
       "      <td>21496.0</td>\n",
       "      <td>Single</td>\n",
       "      <td>With Parent</td>\n",
       "      <td>ON</td>\n",
       "    </tr>\n",
       "  </tbody>\n",
       "</table>\n",
       "</div>"
      ],
      "text/plain": [
       "                                                  id      type  gender  \\\n",
       "0  fe51c153-fbec-4b64-9b00-2530035ef0e1_1bf5af3c-...  Personal    Male   \n",
       "1  fe51c153-fbec-4b64-9b00-2530035ef0e1_6e740a94-...  Personal  Female   \n",
       "2  fe51c153-fbec-4b64-9b00-2530035ef0e1_3918fdef-...  Personal  Female   \n",
       "3  fe51c153-fbec-4b64-9b00-2530035ef0e1_d81a6d15-...  Personal   Other   \n",
       "4  fe51c153-fbec-4b64-9b00-2530035ef0e1_e21dfbc8-...  Personal    Male   \n",
       "\n",
       "    birthDate workActivity                                 occupationIndustry  \\\n",
       "0  12/26/1985     fulltime                                            Retired   \n",
       "1   1/30/1977     fulltime              5221 Depository credit intermediation   \n",
       "2  11/22/2003     fulltime                                            Retired   \n",
       "3    5/7/1983     fulltime  5412 Accounting, tax preparation, bookkeeping ...   \n",
       "4   1/29/1983     fulltime                          4855 Charter bus industry   \n",
       "\n",
       "   totalIncome relationshipStatus habitationStatus  \\\n",
       "0          0.0             Single            Group   \n",
       "1      40009.2            Married      With Spouse   \n",
       "2          0.0             Single      With Parent   \n",
       "3      44709.0            Married      With Spouse   \n",
       "4      21496.0             Single      With Parent   \n",
       "\n",
       "  addresses_principalResidence_province  \n",
       "0                                    ON  \n",
       "1                                    ON  \n",
       "2                                    ON  \n",
       "3                                    ON  \n",
       "4                                    ON  "
      ]
     },
     "execution_count": 32,
     "metadata": {},
     "output_type": "execute_result"
    }
   ],
   "source": [
    "customer.head()"
   ]
  },
  {
   "cell_type": "code",
   "execution_count": 33,
   "metadata": {},
   "outputs": [
    {
     "data": {
      "text/html": [
       "<div>\n",
       "<style scoped>\n",
       "    .dataframe tbody tr th:only-of-type {\n",
       "        vertical-align: middle;\n",
       "    }\n",
       "\n",
       "    .dataframe tbody tr th {\n",
       "        vertical-align: top;\n",
       "    }\n",
       "\n",
       "    .dataframe thead th {\n",
       "        text-align: right;\n",
       "    }\n",
       "</style>\n",
       "<table border=\"1\" class=\"dataframe\">\n",
       "  <thead>\n",
       "    <tr style=\"text-align: right;\">\n",
       "      <th></th>\n",
       "      <th>description</th>\n",
       "      <th>currencyAmount</th>\n",
       "      <th>originationDateTime</th>\n",
       "      <th>customerId</th>\n",
       "      <th>merchantId</th>\n",
       "      <th>accountId</th>\n",
       "      <th>categoryTags</th>\n",
       "    </tr>\n",
       "  </thead>\n",
       "  <tbody>\n",
       "    <tr>\n",
       "      <th>0</th>\n",
       "      <td>ADP PMT 59964899</td>\n",
       "      <td>1092.22</td>\n",
       "      <td>2018-06-28T00:00:00.001Z</td>\n",
       "      <td>fe51c153-fbec-4b64-9b00-2530035ef0e1_fa967441-...</td>\n",
       "      <td>852223a6-f227-4e4c-818e-36bb880866f2</td>\n",
       "      <td>fe51c153-fbec-4b64-9b00-2530035ef0e1_5b35142d-...</td>\n",
       "      <td>Income</td>\n",
       "    </tr>\n",
       "    <tr>\n",
       "      <th>1</th>\n",
       "      <td>ADP PMT 78870688</td>\n",
       "      <td>701.11</td>\n",
       "      <td>2018-06-28T00:00:00.001Z</td>\n",
       "      <td>fe51c153-fbec-4b64-9b00-2530035ef0e1_ee129e70-...</td>\n",
       "      <td>852223a6-f227-4e4c-818e-36bb880866f2</td>\n",
       "      <td>fe51c153-fbec-4b64-9b00-2530035ef0e1_9172eb97-...</td>\n",
       "      <td>Income</td>\n",
       "    </tr>\n",
       "    <tr>\n",
       "      <th>2</th>\n",
       "      <td>ROGERS CABLE E2I6X9</td>\n",
       "      <td>111.98</td>\n",
       "      <td>2018-04-30T00:00:00.002Z</td>\n",
       "      <td>fe51c153-fbec-4b64-9b00-2530035ef0e1_ad635ae8-...</td>\n",
       "      <td>3d99af81-c081-4d73-bc44-d3a8e639b22a</td>\n",
       "      <td>fe51c153-fbec-4b64-9b00-2530035ef0e1_b527eb36-...</td>\n",
       "      <td>Bills and Utilities</td>\n",
       "    </tr>\n",
       "    <tr>\n",
       "      <th>3</th>\n",
       "      <td>TIM HORTONS #990 _F</td>\n",
       "      <td>1.16</td>\n",
       "      <td>2018-10-09T15:30:00Z</td>\n",
       "      <td>fe51c153-fbec-4b64-9b00-2530035ef0e1_12bd4e47-...</td>\n",
       "      <td>7cc23aa6-0671-4c44-a1b5-b8a98d4bc5d4</td>\n",
       "      <td>fe51c153-fbec-4b64-9b00-2530035ef0e1_1185d0e2-...</td>\n",
       "      <td>Food and Dining</td>\n",
       "    </tr>\n",
       "    <tr>\n",
       "      <th>4</th>\n",
       "      <td>EMAIL TFR C0***oHp</td>\n",
       "      <td>41.00</td>\n",
       "      <td>2018-07-05T00:00:00.001Z</td>\n",
       "      <td>fe51c153-fbec-4b64-9b00-2530035ef0e1_fb97a9de-...</td>\n",
       "      <td>852223a6-f227-4e4c-818e-36bb880866f2</td>\n",
       "      <td>fe51c153-fbec-4b64-9b00-2530035ef0e1_bf889f32-...</td>\n",
       "      <td>Transfer</td>\n",
       "    </tr>\n",
       "  </tbody>\n",
       "</table>\n",
       "</div>"
      ],
      "text/plain": [
       "           description  currencyAmount       originationDateTime  \\\n",
       "0     ADP PMT 59964899         1092.22  2018-06-28T00:00:00.001Z   \n",
       "1     ADP PMT 78870688          701.11  2018-06-28T00:00:00.001Z   \n",
       "2  ROGERS CABLE E2I6X9          111.98  2018-04-30T00:00:00.002Z   \n",
       "3  TIM HORTONS #990 _F            1.16      2018-10-09T15:30:00Z   \n",
       "4   EMAIL TFR C0***oHp           41.00  2018-07-05T00:00:00.001Z   \n",
       "\n",
       "                                          customerId  \\\n",
       "0  fe51c153-fbec-4b64-9b00-2530035ef0e1_fa967441-...   \n",
       "1  fe51c153-fbec-4b64-9b00-2530035ef0e1_ee129e70-...   \n",
       "2  fe51c153-fbec-4b64-9b00-2530035ef0e1_ad635ae8-...   \n",
       "3  fe51c153-fbec-4b64-9b00-2530035ef0e1_12bd4e47-...   \n",
       "4  fe51c153-fbec-4b64-9b00-2530035ef0e1_fb97a9de-...   \n",
       "\n",
       "                             merchantId  \\\n",
       "0  852223a6-f227-4e4c-818e-36bb880866f2   \n",
       "1  852223a6-f227-4e4c-818e-36bb880866f2   \n",
       "2  3d99af81-c081-4d73-bc44-d3a8e639b22a   \n",
       "3  7cc23aa6-0671-4c44-a1b5-b8a98d4bc5d4   \n",
       "4  852223a6-f227-4e4c-818e-36bb880866f2   \n",
       "\n",
       "                                           accountId         categoryTags  \n",
       "0  fe51c153-fbec-4b64-9b00-2530035ef0e1_5b35142d-...               Income  \n",
       "1  fe51c153-fbec-4b64-9b00-2530035ef0e1_9172eb97-...               Income  \n",
       "2  fe51c153-fbec-4b64-9b00-2530035ef0e1_b527eb36-...  Bills and Utilities  \n",
       "3  fe51c153-fbec-4b64-9b00-2530035ef0e1_1185d0e2-...      Food and Dining  \n",
       "4  fe51c153-fbec-4b64-9b00-2530035ef0e1_bf889f32-...             Transfer  "
      ]
     },
     "execution_count": 33,
     "metadata": {},
     "output_type": "execute_result"
    }
   ],
   "source": [
    "transactions.head()"
   ]
  },
  {
   "cell_type": "code",
   "execution_count": 34,
   "metadata": {},
   "outputs": [],
   "source": [
    "account.rename(columns={'cust_id':'customerId'}, inplace=True)"
   ]
  },
  {
   "cell_type": "code",
   "execution_count": 35,
   "metadata": {},
   "outputs": [],
   "source": [
    "account.rename(columns={'id':'accountId'}, inplace=True)"
   ]
  },
  {
   "cell_type": "code",
   "execution_count": 36,
   "metadata": {},
   "outputs": [],
   "source": [
    "customer.rename(columns={'id':'customerId'}, inplace=True)"
   ]
  },
  {
   "cell_type": "code",
   "execution_count": null,
   "metadata": {},
   "outputs": [],
   "source": []
  },
  {
   "cell_type": "code",
   "execution_count": 37,
   "metadata": {},
   "outputs": [],
   "source": [
    "account_customer = pd.merge(account, customer, on=\"customerId\")"
   ]
  },
  {
   "cell_type": "code",
   "execution_count": 38,
   "metadata": {},
   "outputs": [
    {
     "data": {
      "text/html": [
       "<div>\n",
       "<style scoped>\n",
       "    .dataframe tbody tr th:only-of-type {\n",
       "        vertical-align: middle;\n",
       "    }\n",
       "\n",
       "    .dataframe tbody tr th {\n",
       "        vertical-align: top;\n",
       "    }\n",
       "\n",
       "    .dataframe thead th {\n",
       "        text-align: right;\n",
       "    }\n",
       "</style>\n",
       "<table border=\"1\" class=\"dataframe\">\n",
       "  <thead>\n",
       "    <tr style=\"text-align: right;\">\n",
       "      <th></th>\n",
       "      <th>branchNumber</th>\n",
       "      <th>type_x</th>\n",
       "      <th>openDate</th>\n",
       "      <th>accountId</th>\n",
       "      <th>balance</th>\n",
       "      <th>currency</th>\n",
       "      <th>customerId</th>\n",
       "      <th>type_y</th>\n",
       "      <th>gender</th>\n",
       "      <th>birthDate</th>\n",
       "      <th>workActivity</th>\n",
       "      <th>occupationIndustry</th>\n",
       "      <th>totalIncome</th>\n",
       "      <th>relationshipStatus</th>\n",
       "      <th>habitationStatus</th>\n",
       "      <th>addresses_principalResidence_province</th>\n",
       "    </tr>\n",
       "  </thead>\n",
       "  <tbody>\n",
       "    <tr>\n",
       "      <th>0</th>\n",
       "      <td>1416</td>\n",
       "      <td>DDA</td>\n",
       "      <td>3/1/2018</td>\n",
       "      <td>fe51c153-fbec-4b64-9b00-2530035ef0e1_1894a538-...</td>\n",
       "      <td>447.56</td>\n",
       "      <td>CAD</td>\n",
       "      <td>fe51c153-fbec-4b64-9b00-2530035ef0e1_c418b5e6-...</td>\n",
       "      <td>Personal</td>\n",
       "      <td>Female</td>\n",
       "      <td>1/29/1950</td>\n",
       "      <td>parttime</td>\n",
       "      <td>6111 Elementary and secondary schools</td>\n",
       "      <td>11481.70</td>\n",
       "      <td>Separated</td>\n",
       "      <td>Group</td>\n",
       "      <td>ON</td>\n",
       "    </tr>\n",
       "    <tr>\n",
       "      <th>1</th>\n",
       "      <td>1416</td>\n",
       "      <td>SDA</td>\n",
       "      <td>3/1/2018</td>\n",
       "      <td>fe51c153-fbec-4b64-9b00-2530035ef0e1_e4d4cce1-...</td>\n",
       "      <td>4592.68</td>\n",
       "      <td>CAD</td>\n",
       "      <td>fe51c153-fbec-4b64-9b00-2530035ef0e1_c418b5e6-...</td>\n",
       "      <td>Personal</td>\n",
       "      <td>Female</td>\n",
       "      <td>1/29/1950</td>\n",
       "      <td>parttime</td>\n",
       "      <td>6111 Elementary and secondary schools</td>\n",
       "      <td>11481.70</td>\n",
       "      <td>Separated</td>\n",
       "      <td>Group</td>\n",
       "      <td>ON</td>\n",
       "    </tr>\n",
       "    <tr>\n",
       "      <th>2</th>\n",
       "      <td>324</td>\n",
       "      <td>DDA</td>\n",
       "      <td>3/1/2018</td>\n",
       "      <td>fe51c153-fbec-4b64-9b00-2530035ef0e1_b4c1aad5-...</td>\n",
       "      <td>4132.75</td>\n",
       "      <td>CAD</td>\n",
       "      <td>fe51c153-fbec-4b64-9b00-2530035ef0e1_be23d561-...</td>\n",
       "      <td>Personal</td>\n",
       "      <td>Male</td>\n",
       "      <td>4/5/1993</td>\n",
       "      <td>parttime</td>\n",
       "      <td>6113 Universities</td>\n",
       "      <td>5150.64</td>\n",
       "      <td>Single</td>\n",
       "      <td>With Parent</td>\n",
       "      <td>ON</td>\n",
       "    </tr>\n",
       "    <tr>\n",
       "      <th>3</th>\n",
       "      <td>324</td>\n",
       "      <td>SDA</td>\n",
       "      <td>3/1/2018</td>\n",
       "      <td>fe51c153-fbec-4b64-9b00-2530035ef0e1_f71001df-...</td>\n",
       "      <td>2110.26</td>\n",
       "      <td>CAD</td>\n",
       "      <td>fe51c153-fbec-4b64-9b00-2530035ef0e1_be23d561-...</td>\n",
       "      <td>Personal</td>\n",
       "      <td>Male</td>\n",
       "      <td>4/5/1993</td>\n",
       "      <td>parttime</td>\n",
       "      <td>6113 Universities</td>\n",
       "      <td>5150.64</td>\n",
       "      <td>Single</td>\n",
       "      <td>With Parent</td>\n",
       "      <td>ON</td>\n",
       "    </tr>\n",
       "    <tr>\n",
       "      <th>4</th>\n",
       "      <td>1728</td>\n",
       "      <td>DDA</td>\n",
       "      <td>3/1/2018</td>\n",
       "      <td>fe51c153-fbec-4b64-9b00-2530035ef0e1_ec10146d-...</td>\n",
       "      <td>16981.85</td>\n",
       "      <td>CAD</td>\n",
       "      <td>fe51c153-fbec-4b64-9b00-2530035ef0e1_9ed43d58-...</td>\n",
       "      <td>Personal</td>\n",
       "      <td>Male</td>\n",
       "      <td>6/8/1964</td>\n",
       "      <td>fulltime</td>\n",
       "      <td>8121 Personal care services</td>\n",
       "      <td>39075.85</td>\n",
       "      <td>Married</td>\n",
       "      <td>With Spouse</td>\n",
       "      <td>ON</td>\n",
       "    </tr>\n",
       "    <tr>\n",
       "      <th>...</th>\n",
       "      <td>...</td>\n",
       "      <td>...</td>\n",
       "      <td>...</td>\n",
       "      <td>...</td>\n",
       "      <td>...</td>\n",
       "      <td>...</td>\n",
       "      <td>...</td>\n",
       "      <td>...</td>\n",
       "      <td>...</td>\n",
       "      <td>...</td>\n",
       "      <td>...</td>\n",
       "      <td>...</td>\n",
       "      <td>...</td>\n",
       "      <td>...</td>\n",
       "      <td>...</td>\n",
       "      <td>...</td>\n",
       "    </tr>\n",
       "    <tr>\n",
       "      <th>11285</th>\n",
       "      <td>1476</td>\n",
       "      <td>SDA</td>\n",
       "      <td>3/1/2018</td>\n",
       "      <td>fe51c153-fbec-4b64-9b00-2530035ef0e1_cb77281f-...</td>\n",
       "      <td>8746.34</td>\n",
       "      <td>CAD</td>\n",
       "      <td>fe51c153-fbec-4b64-9b00-2530035ef0e1_607b53c5-...</td>\n",
       "      <td>Personal</td>\n",
       "      <td>Female</td>\n",
       "      <td>4/4/1966</td>\n",
       "      <td>parttime</td>\n",
       "      <td>5191 Other information services</td>\n",
       "      <td>21365.85</td>\n",
       "      <td>Married</td>\n",
       "      <td>With Spouse</td>\n",
       "      <td>ON</td>\n",
       "    </tr>\n",
       "    <tr>\n",
       "      <th>11286</th>\n",
       "      <td>328</td>\n",
       "      <td>DDA</td>\n",
       "      <td>3/1/2018</td>\n",
       "      <td>fe51c153-fbec-4b64-9b00-2530035ef0e1_6f80aba9-...</td>\n",
       "      <td>15836.91</td>\n",
       "      <td>CAD</td>\n",
       "      <td>fe51c153-fbec-4b64-9b00-2530035ef0e1_1df17f1c-...</td>\n",
       "      <td>Personal</td>\n",
       "      <td>Female</td>\n",
       "      <td>5/6/1995</td>\n",
       "      <td>fulltime</td>\n",
       "      <td>8129 Other personal services</td>\n",
       "      <td>21192.93</td>\n",
       "      <td>Single</td>\n",
       "      <td>With Parent</td>\n",
       "      <td>ON</td>\n",
       "    </tr>\n",
       "    <tr>\n",
       "      <th>11287</th>\n",
       "      <td>328</td>\n",
       "      <td>SDA</td>\n",
       "      <td>3/1/2018</td>\n",
       "      <td>fe51c153-fbec-4b64-9b00-2530035ef0e1_a2b346f3-...</td>\n",
       "      <td>8527.18</td>\n",
       "      <td>CAD</td>\n",
       "      <td>fe51c153-fbec-4b64-9b00-2530035ef0e1_1df17f1c-...</td>\n",
       "      <td>Personal</td>\n",
       "      <td>Female</td>\n",
       "      <td>5/6/1995</td>\n",
       "      <td>fulltime</td>\n",
       "      <td>8129 Other personal services</td>\n",
       "      <td>21192.93</td>\n",
       "      <td>Single</td>\n",
       "      <td>With Parent</td>\n",
       "      <td>ON</td>\n",
       "    </tr>\n",
       "    <tr>\n",
       "      <th>11288</th>\n",
       "      <td>1337</td>\n",
       "      <td>DDA</td>\n",
       "      <td>3/1/2018</td>\n",
       "      <td>fe51c153-fbec-4b64-9b00-2530035ef0e1_8c8f55a5-...</td>\n",
       "      <td>8798.24</td>\n",
       "      <td>CAD</td>\n",
       "      <td>fe51c153-fbec-4b64-9b00-2530035ef0e1_7892d5e8-...</td>\n",
       "      <td>Personal</td>\n",
       "      <td>Male</td>\n",
       "      <td>12/26/1995</td>\n",
       "      <td>parttime</td>\n",
       "      <td>5416 Management, scientific and technical cons...</td>\n",
       "      <td>11589.60</td>\n",
       "      <td>Single</td>\n",
       "      <td>With Parent</td>\n",
       "      <td>ON</td>\n",
       "    </tr>\n",
       "    <tr>\n",
       "      <th>11289</th>\n",
       "      <td>1337</td>\n",
       "      <td>SDA</td>\n",
       "      <td>3/1/2018</td>\n",
       "      <td>fe51c153-fbec-4b64-9b00-2530035ef0e1_42e3c0a5-...</td>\n",
       "      <td>4685.84</td>\n",
       "      <td>CAD</td>\n",
       "      <td>fe51c153-fbec-4b64-9b00-2530035ef0e1_7892d5e8-...</td>\n",
       "      <td>Personal</td>\n",
       "      <td>Male</td>\n",
       "      <td>12/26/1995</td>\n",
       "      <td>parttime</td>\n",
       "      <td>5416 Management, scientific and technical cons...</td>\n",
       "      <td>11589.60</td>\n",
       "      <td>Single</td>\n",
       "      <td>With Parent</td>\n",
       "      <td>ON</td>\n",
       "    </tr>\n",
       "  </tbody>\n",
       "</table>\n",
       "<p>11290 rows × 16 columns</p>\n",
       "</div>"
      ],
      "text/plain": [
       "       branchNumber type_x  openDate  \\\n",
       "0              1416    DDA  3/1/2018   \n",
       "1              1416    SDA  3/1/2018   \n",
       "2               324    DDA  3/1/2018   \n",
       "3               324    SDA  3/1/2018   \n",
       "4              1728    DDA  3/1/2018   \n",
       "...             ...    ...       ...   \n",
       "11285          1476    SDA  3/1/2018   \n",
       "11286           328    DDA  3/1/2018   \n",
       "11287           328    SDA  3/1/2018   \n",
       "11288          1337    DDA  3/1/2018   \n",
       "11289          1337    SDA  3/1/2018   \n",
       "\n",
       "                                               accountId   balance currency  \\\n",
       "0      fe51c153-fbec-4b64-9b00-2530035ef0e1_1894a538-...    447.56      CAD   \n",
       "1      fe51c153-fbec-4b64-9b00-2530035ef0e1_e4d4cce1-...   4592.68      CAD   \n",
       "2      fe51c153-fbec-4b64-9b00-2530035ef0e1_b4c1aad5-...   4132.75      CAD   \n",
       "3      fe51c153-fbec-4b64-9b00-2530035ef0e1_f71001df-...   2110.26      CAD   \n",
       "4      fe51c153-fbec-4b64-9b00-2530035ef0e1_ec10146d-...  16981.85      CAD   \n",
       "...                                                  ...       ...      ...   \n",
       "11285  fe51c153-fbec-4b64-9b00-2530035ef0e1_cb77281f-...   8746.34      CAD   \n",
       "11286  fe51c153-fbec-4b64-9b00-2530035ef0e1_6f80aba9-...  15836.91      CAD   \n",
       "11287  fe51c153-fbec-4b64-9b00-2530035ef0e1_a2b346f3-...   8527.18      CAD   \n",
       "11288  fe51c153-fbec-4b64-9b00-2530035ef0e1_8c8f55a5-...   8798.24      CAD   \n",
       "11289  fe51c153-fbec-4b64-9b00-2530035ef0e1_42e3c0a5-...   4685.84      CAD   \n",
       "\n",
       "                                              customerId    type_y  gender  \\\n",
       "0      fe51c153-fbec-4b64-9b00-2530035ef0e1_c418b5e6-...  Personal  Female   \n",
       "1      fe51c153-fbec-4b64-9b00-2530035ef0e1_c418b5e6-...  Personal  Female   \n",
       "2      fe51c153-fbec-4b64-9b00-2530035ef0e1_be23d561-...  Personal    Male   \n",
       "3      fe51c153-fbec-4b64-9b00-2530035ef0e1_be23d561-...  Personal    Male   \n",
       "4      fe51c153-fbec-4b64-9b00-2530035ef0e1_9ed43d58-...  Personal    Male   \n",
       "...                                                  ...       ...     ...   \n",
       "11285  fe51c153-fbec-4b64-9b00-2530035ef0e1_607b53c5-...  Personal  Female   \n",
       "11286  fe51c153-fbec-4b64-9b00-2530035ef0e1_1df17f1c-...  Personal  Female   \n",
       "11287  fe51c153-fbec-4b64-9b00-2530035ef0e1_1df17f1c-...  Personal  Female   \n",
       "11288  fe51c153-fbec-4b64-9b00-2530035ef0e1_7892d5e8-...  Personal    Male   \n",
       "11289  fe51c153-fbec-4b64-9b00-2530035ef0e1_7892d5e8-...  Personal    Male   \n",
       "\n",
       "        birthDate workActivity  \\\n",
       "0       1/29/1950     parttime   \n",
       "1       1/29/1950     parttime   \n",
       "2        4/5/1993     parttime   \n",
       "3        4/5/1993     parttime   \n",
       "4        6/8/1964     fulltime   \n",
       "...           ...          ...   \n",
       "11285    4/4/1966     parttime   \n",
       "11286    5/6/1995     fulltime   \n",
       "11287    5/6/1995     fulltime   \n",
       "11288  12/26/1995     parttime   \n",
       "11289  12/26/1995     parttime   \n",
       "\n",
       "                                      occupationIndustry  totalIncome  \\\n",
       "0                  6111 Elementary and secondary schools     11481.70   \n",
       "1                  6111 Elementary and secondary schools     11481.70   \n",
       "2                                      6113 Universities      5150.64   \n",
       "3                                      6113 Universities      5150.64   \n",
       "4                            8121 Personal care services     39075.85   \n",
       "...                                                  ...          ...   \n",
       "11285                    5191 Other information services     21365.85   \n",
       "11286                       8129 Other personal services     21192.93   \n",
       "11287                       8129 Other personal services     21192.93   \n",
       "11288  5416 Management, scientific and technical cons...     11589.60   \n",
       "11289  5416 Management, scientific and technical cons...     11589.60   \n",
       "\n",
       "      relationshipStatus habitationStatus  \\\n",
       "0              Separated            Group   \n",
       "1              Separated            Group   \n",
       "2                 Single      With Parent   \n",
       "3                 Single      With Parent   \n",
       "4                Married      With Spouse   \n",
       "...                  ...              ...   \n",
       "11285            Married      With Spouse   \n",
       "11286             Single      With Parent   \n",
       "11287             Single      With Parent   \n",
       "11288             Single      With Parent   \n",
       "11289             Single      With Parent   \n",
       "\n",
       "      addresses_principalResidence_province  \n",
       "0                                        ON  \n",
       "1                                        ON  \n",
       "2                                        ON  \n",
       "3                                        ON  \n",
       "4                                        ON  \n",
       "...                                     ...  \n",
       "11285                                    ON  \n",
       "11286                                    ON  \n",
       "11287                                    ON  \n",
       "11288                                    ON  \n",
       "11289                                    ON  \n",
       "\n",
       "[11290 rows x 16 columns]"
      ]
     },
     "execution_count": 38,
     "metadata": {},
     "output_type": "execute_result"
    }
   ],
   "source": [
    "account_customer "
   ]
  },
  {
   "cell_type": "code",
   "execution_count": 39,
   "metadata": {},
   "outputs": [],
   "source": [
    "customers = pd.merge(account_customer,transactions, on=\"accountId\")"
   ]
  },
  {
   "cell_type": "code",
   "execution_count": 40,
   "metadata": {},
   "outputs": [
    {
     "name": "stdout",
     "output_type": "stream",
     "text": [
      "<class 'pandas.core.frame.DataFrame'>\n",
      "Int64Index: 92304 entries, 0 to 92303\n",
      "Data columns (total 22 columns):\n",
      "branchNumber                             92304 non-null int64\n",
      "type_x                                   92304 non-null object\n",
      "openDate                                 92304 non-null object\n",
      "accountId                                92304 non-null object\n",
      "balance                                  92304 non-null float64\n",
      "currency                                 92304 non-null object\n",
      "customerId_x                             92304 non-null object\n",
      "type_y                                   92304 non-null object\n",
      "gender                                   92304 non-null object\n",
      "birthDate                                92304 non-null object\n",
      "workActivity                             92304 non-null object\n",
      "occupationIndustry                       92304 non-null object\n",
      "totalIncome                              92304 non-null float64\n",
      "relationshipStatus                       92304 non-null object\n",
      "habitationStatus                         92304 non-null object\n",
      "addresses_principalResidence_province    92304 non-null object\n",
      "description                              92304 non-null object\n",
      "currencyAmount                           92304 non-null float64\n",
      "originationDateTime                      92304 non-null object\n",
      "customerId_y                             92304 non-null object\n",
      "merchantId                               92304 non-null object\n",
      "categoryTags                             92304 non-null object\n",
      "dtypes: float64(3), int64(1), object(18)\n",
      "memory usage: 16.2+ MB\n"
     ]
    }
   ],
   "source": [
    "customers.info()"
   ]
  },
  {
   "cell_type": "code",
   "execution_count": 41,
   "metadata": {},
   "outputs": [],
   "source": [
    "customers.drop(['customerId_y'], axis=1, inplace=True)"
   ]
  },
  {
   "cell_type": "code",
   "execution_count": 42,
   "metadata": {},
   "outputs": [],
   "source": [
    "customers.rename(columns={'customerId_x':'customerId'}, inplace=True)"
   ]
  },
  {
   "cell_type": "code",
   "execution_count": 43,
   "metadata": {},
   "outputs": [],
   "source": [
    "customers.rename(columns={'type_x':'type'}, inplace=True)"
   ]
  },
  {
   "cell_type": "code",
   "execution_count": 44,
   "metadata": {},
   "outputs": [],
   "source": [
    "customers.rename(columns={'type_y':'account_type'}, inplace=True)"
   ]
  },
  {
   "cell_type": "code",
   "execution_count": null,
   "metadata": {},
   "outputs": [],
   "source": []
  },
  {
   "cell_type": "code",
   "execution_count": 45,
   "metadata": {},
   "outputs": [
    {
     "data": {
      "text/html": [
       "<div>\n",
       "<style scoped>\n",
       "    .dataframe tbody tr th:only-of-type {\n",
       "        vertical-align: middle;\n",
       "    }\n",
       "\n",
       "    .dataframe tbody tr th {\n",
       "        vertical-align: top;\n",
       "    }\n",
       "\n",
       "    .dataframe thead th {\n",
       "        text-align: right;\n",
       "    }\n",
       "</style>\n",
       "<table border=\"1\" class=\"dataframe\">\n",
       "  <thead>\n",
       "    <tr style=\"text-align: right;\">\n",
       "      <th></th>\n",
       "      <th>branchNumber</th>\n",
       "      <th>type</th>\n",
       "      <th>openDate</th>\n",
       "      <th>accountId</th>\n",
       "      <th>balance</th>\n",
       "      <th>currency</th>\n",
       "      <th>customerId</th>\n",
       "      <th>account_type</th>\n",
       "      <th>gender</th>\n",
       "      <th>birthDate</th>\n",
       "      <th>...</th>\n",
       "      <th>occupationIndustry</th>\n",
       "      <th>totalIncome</th>\n",
       "      <th>relationshipStatus</th>\n",
       "      <th>habitationStatus</th>\n",
       "      <th>addresses_principalResidence_province</th>\n",
       "      <th>description</th>\n",
       "      <th>currencyAmount</th>\n",
       "      <th>originationDateTime</th>\n",
       "      <th>merchantId</th>\n",
       "      <th>categoryTags</th>\n",
       "    </tr>\n",
       "  </thead>\n",
       "  <tbody>\n",
       "    <tr>\n",
       "      <th>0</th>\n",
       "      <td>1416</td>\n",
       "      <td>DDA</td>\n",
       "      <td>3/1/2018</td>\n",
       "      <td>fe51c153-fbec-4b64-9b00-2530035ef0e1_1894a538-...</td>\n",
       "      <td>447.56</td>\n",
       "      <td>CAD</td>\n",
       "      <td>fe51c153-fbec-4b64-9b00-2530035ef0e1_c418b5e6-...</td>\n",
       "      <td>Personal</td>\n",
       "      <td>Female</td>\n",
       "      <td>1/29/1950</td>\n",
       "      <td>...</td>\n",
       "      <td>6111 Elementary and secondary schools</td>\n",
       "      <td>11481.7</td>\n",
       "      <td>Separated</td>\n",
       "      <td>Group</td>\n",
       "      <td>ON</td>\n",
       "      <td>E TFR  C2***uuz</td>\n",
       "      <td>60.00</td>\n",
       "      <td>2018-05-01T23:59:30Z</td>\n",
       "      <td>852223a6-f227-4e4c-818e-36bb880866f2</td>\n",
       "      <td>Transfer</td>\n",
       "    </tr>\n",
       "    <tr>\n",
       "      <th>1</th>\n",
       "      <td>1416</td>\n",
       "      <td>DDA</td>\n",
       "      <td>3/1/2018</td>\n",
       "      <td>fe51c153-fbec-4b64-9b00-2530035ef0e1_1894a538-...</td>\n",
       "      <td>447.56</td>\n",
       "      <td>CAD</td>\n",
       "      <td>fe51c153-fbec-4b64-9b00-2530035ef0e1_c418b5e6-...</td>\n",
       "      <td>Personal</td>\n",
       "      <td>Female</td>\n",
       "      <td>1/29/1950</td>\n",
       "      <td>...</td>\n",
       "      <td>6111 Elementary and secondary schools</td>\n",
       "      <td>11481.7</td>\n",
       "      <td>Separated</td>\n",
       "      <td>Group</td>\n",
       "      <td>ON</td>\n",
       "      <td>MYRATE ENRGY A3Q9HP</td>\n",
       "      <td>23.14</td>\n",
       "      <td>2018-10-05T00:00:00.001Z</td>\n",
       "      <td>65d5020c-24b6-4f1e-ba01-47411d1e4244</td>\n",
       "      <td>Bills and Utilities</td>\n",
       "    </tr>\n",
       "    <tr>\n",
       "      <th>2</th>\n",
       "      <td>1416</td>\n",
       "      <td>DDA</td>\n",
       "      <td>3/1/2018</td>\n",
       "      <td>fe51c153-fbec-4b64-9b00-2530035ef0e1_1894a538-...</td>\n",
       "      <td>447.56</td>\n",
       "      <td>CAD</td>\n",
       "      <td>fe51c153-fbec-4b64-9b00-2530035ef0e1_c418b5e6-...</td>\n",
       "      <td>Personal</td>\n",
       "      <td>Female</td>\n",
       "      <td>1/29/1950</td>\n",
       "      <td>...</td>\n",
       "      <td>6111 Elementary and secondary schools</td>\n",
       "      <td>11481.7</td>\n",
       "      <td>Separated</td>\n",
       "      <td>Group</td>\n",
       "      <td>ON</td>\n",
       "      <td>ROGERS CABLE G9O8C8</td>\n",
       "      <td>102.99</td>\n",
       "      <td>2018-08-13T00:00:00.001Z</td>\n",
       "      <td>3d99af81-c081-4d73-bc44-d3a8e639b22a</td>\n",
       "      <td>Bills and Utilities</td>\n",
       "    </tr>\n",
       "    <tr>\n",
       "      <th>3</th>\n",
       "      <td>1416</td>\n",
       "      <td>DDA</td>\n",
       "      <td>3/1/2018</td>\n",
       "      <td>fe51c153-fbec-4b64-9b00-2530035ef0e1_1894a538-...</td>\n",
       "      <td>447.56</td>\n",
       "      <td>CAD</td>\n",
       "      <td>fe51c153-fbec-4b64-9b00-2530035ef0e1_c418b5e6-...</td>\n",
       "      <td>Personal</td>\n",
       "      <td>Female</td>\n",
       "      <td>1/29/1950</td>\n",
       "      <td>...</td>\n",
       "      <td>6111 Elementary and secondary schools</td>\n",
       "      <td>11481.7</td>\n",
       "      <td>Separated</td>\n",
       "      <td>Group</td>\n",
       "      <td>ON</td>\n",
       "      <td>E TFR  C0***btC</td>\n",
       "      <td>20.00</td>\n",
       "      <td>2018-04-30T23:59:30Z</td>\n",
       "      <td>852223a6-f227-4e4c-818e-36bb880866f2</td>\n",
       "      <td>Transfer</td>\n",
       "    </tr>\n",
       "    <tr>\n",
       "      <th>4</th>\n",
       "      <td>1416</td>\n",
       "      <td>DDA</td>\n",
       "      <td>3/1/2018</td>\n",
       "      <td>fe51c153-fbec-4b64-9b00-2530035ef0e1_1894a538-...</td>\n",
       "      <td>447.56</td>\n",
       "      <td>CAD</td>\n",
       "      <td>fe51c153-fbec-4b64-9b00-2530035ef0e1_c418b5e6-...</td>\n",
       "      <td>Personal</td>\n",
       "      <td>Female</td>\n",
       "      <td>1/29/1950</td>\n",
       "      <td>...</td>\n",
       "      <td>6111 Elementary and secondary schools</td>\n",
       "      <td>11481.7</td>\n",
       "      <td>Separated</td>\n",
       "      <td>Group</td>\n",
       "      <td>ON</td>\n",
       "      <td>ROGERS CABLE Z8Y1I6</td>\n",
       "      <td>102.99</td>\n",
       "      <td>2018-10-15T00:00:00.001Z</td>\n",
       "      <td>3d99af81-c081-4d73-bc44-d3a8e639b22a</td>\n",
       "      <td>Bills and Utilities</td>\n",
       "    </tr>\n",
       "  </tbody>\n",
       "</table>\n",
       "<p>5 rows × 21 columns</p>\n",
       "</div>"
      ],
      "text/plain": [
       "   branchNumber type  openDate  \\\n",
       "0          1416  DDA  3/1/2018   \n",
       "1          1416  DDA  3/1/2018   \n",
       "2          1416  DDA  3/1/2018   \n",
       "3          1416  DDA  3/1/2018   \n",
       "4          1416  DDA  3/1/2018   \n",
       "\n",
       "                                           accountId  balance currency  \\\n",
       "0  fe51c153-fbec-4b64-9b00-2530035ef0e1_1894a538-...   447.56      CAD   \n",
       "1  fe51c153-fbec-4b64-9b00-2530035ef0e1_1894a538-...   447.56      CAD   \n",
       "2  fe51c153-fbec-4b64-9b00-2530035ef0e1_1894a538-...   447.56      CAD   \n",
       "3  fe51c153-fbec-4b64-9b00-2530035ef0e1_1894a538-...   447.56      CAD   \n",
       "4  fe51c153-fbec-4b64-9b00-2530035ef0e1_1894a538-...   447.56      CAD   \n",
       "\n",
       "                                          customerId account_type  gender  \\\n",
       "0  fe51c153-fbec-4b64-9b00-2530035ef0e1_c418b5e6-...     Personal  Female   \n",
       "1  fe51c153-fbec-4b64-9b00-2530035ef0e1_c418b5e6-...     Personal  Female   \n",
       "2  fe51c153-fbec-4b64-9b00-2530035ef0e1_c418b5e6-...     Personal  Female   \n",
       "3  fe51c153-fbec-4b64-9b00-2530035ef0e1_c418b5e6-...     Personal  Female   \n",
       "4  fe51c153-fbec-4b64-9b00-2530035ef0e1_c418b5e6-...     Personal  Female   \n",
       "\n",
       "   birthDate  ...                     occupationIndustry totalIncome  \\\n",
       "0  1/29/1950  ...  6111 Elementary and secondary schools     11481.7   \n",
       "1  1/29/1950  ...  6111 Elementary and secondary schools     11481.7   \n",
       "2  1/29/1950  ...  6111 Elementary and secondary schools     11481.7   \n",
       "3  1/29/1950  ...  6111 Elementary and secondary schools     11481.7   \n",
       "4  1/29/1950  ...  6111 Elementary and secondary schools     11481.7   \n",
       "\n",
       "   relationshipStatus habitationStatus addresses_principalResidence_province  \\\n",
       "0           Separated            Group                                    ON   \n",
       "1           Separated            Group                                    ON   \n",
       "2           Separated            Group                                    ON   \n",
       "3           Separated            Group                                    ON   \n",
       "4           Separated            Group                                    ON   \n",
       "\n",
       "           description currencyAmount       originationDateTime  \\\n",
       "0      E TFR  C2***uuz          60.00      2018-05-01T23:59:30Z   \n",
       "1  MYRATE ENRGY A3Q9HP          23.14  2018-10-05T00:00:00.001Z   \n",
       "2  ROGERS CABLE G9O8C8         102.99  2018-08-13T00:00:00.001Z   \n",
       "3      E TFR  C0***btC          20.00      2018-04-30T23:59:30Z   \n",
       "4  ROGERS CABLE Z8Y1I6         102.99  2018-10-15T00:00:00.001Z   \n",
       "\n",
       "                             merchantId         categoryTags  \n",
       "0  852223a6-f227-4e4c-818e-36bb880866f2             Transfer  \n",
       "1  65d5020c-24b6-4f1e-ba01-47411d1e4244  Bills and Utilities  \n",
       "2  3d99af81-c081-4d73-bc44-d3a8e639b22a  Bills and Utilities  \n",
       "3  852223a6-f227-4e4c-818e-36bb880866f2             Transfer  \n",
       "4  3d99af81-c081-4d73-bc44-d3a8e639b22a  Bills and Utilities  \n",
       "\n",
       "[5 rows x 21 columns]"
      ]
     },
     "execution_count": 45,
     "metadata": {},
     "output_type": "execute_result"
    }
   ],
   "source": [
    "customers.head()"
   ]
  },
  {
   "cell_type": "code",
   "execution_count": 95,
   "metadata": {},
   "outputs": [
    {
     "data": {
      "text/plain": [
       "Index(['branchNumber', 'type', 'openDate', 'accountId', 'balance', 'currency',\n",
       "       'customerId', 'account_type', 'gender', 'birthDate', 'workActivity',\n",
       "       'occupationIndustry', 'totalIncome', 'relationshipStatus',\n",
       "       'habitationStatus', 'addresses_principalResidence_province',\n",
       "       'description', 'currencyAmount', 'originationDateTime', 'merchantId',\n",
       "       'categoryTags'],\n",
       "      dtype='object')"
      ]
     },
     "execution_count": 95,
     "metadata": {},
     "output_type": "execute_result"
    }
   ],
   "source": [
    "customers.columns"
   ]
  },
  {
   "cell_type": "code",
   "execution_count": 50,
   "metadata": {},
   "outputs": [
    {
     "data": {
      "text/plain": [
       "count                                                 92304\n",
       "unique                                                 5483\n",
       "top       fe51c153-fbec-4b64-9b00-2530035ef0e1_e9d224b9-...\n",
       "freq                                                     79\n",
       "Name: customerId, dtype: object"
      ]
     },
     "execution_count": 50,
     "metadata": {},
     "output_type": "execute_result"
    }
   ],
   "source": [
    "customers['customerId'].describe()"
   ]
  },
  {
   "cell_type": "code",
   "execution_count": 51,
   "metadata": {},
   "outputs": [
    {
     "data": {
      "text/plain": [
       "count                                                 92304\n",
       "unique                                                 7475\n",
       "top       fe51c153-fbec-4b64-9b00-2530035ef0e1_56aa1fd1-...\n",
       "freq                                                     78\n",
       "Name: accountId, dtype: object"
      ]
     },
     "execution_count": 51,
     "metadata": {},
     "output_type": "execute_result"
    }
   ],
   "source": [
    "customers['accountId'].describe()   "
   ]
  },
  {
   "cell_type": "code",
   "execution_count": 52,
   "metadata": {},
   "outputs": [
    {
     "data": {
      "text/plain": [
       "count                                    92304\n",
       "unique                                     738\n",
       "top       852223a6-f227-4e4c-818e-36bb880866f2\n",
       "freq                                     55673\n",
       "Name: merchantId, dtype: object"
      ]
     },
     "execution_count": 52,
     "metadata": {},
     "output_type": "execute_result"
    }
   ],
   "source": [
    "customers['merchantId'].describe()"
   ]
  },
  {
   "cell_type": "code",
   "execution_count": 63,
   "metadata": {},
   "outputs": [
    {
     "data": {
      "text/plain": [
       "count     92304.000000\n",
       "mean      31915.329017\n",
       "std       33942.826003\n",
       "min           0.000000\n",
       "25%        9267.390000\n",
       "50%       23736.900000\n",
       "75%       42684.550000\n",
       "max      365126.300000\n",
       "Name: totalIncome, dtype: float64"
      ]
     },
     "execution_count": 63,
     "metadata": {},
     "output_type": "execute_result"
    }
   ],
   "source": [
    "customers['totalIncome'].describe()"
   ]
  },
  {
   "cell_type": "code",
   "execution_count": 116,
   "metadata": {},
   "outputs": [
    {
     "data": {
      "text/plain": [
       "count     92304.000000\n",
       "mean        763.088519\n",
       "std        2852.559239\n",
       "min           0.000000\n",
       "25%          29.000000\n",
       "50%          97.950000\n",
       "75%         731.720000\n",
       "max      134099.200000\n",
       "Name: currencyAmount, dtype: float64"
      ]
     },
     "execution_count": 116,
     "metadata": {},
     "output_type": "execute_result"
    }
   ],
   "source": [
    "customers['currencyAmount'].describe()"
   ]
  },
  {
   "cell_type": "code",
   "execution_count": 53,
   "metadata": {},
   "outputs": [
    {
     "data": {
      "text/plain": [
       "count        92304\n",
       "unique          14\n",
       "top       Transfer\n",
       "freq         40844\n",
       "Name: categoryTags, dtype: object"
      ]
     },
     "execution_count": 53,
     "metadata": {},
     "output_type": "execute_result"
    }
   ],
   "source": [
    "customers['categoryTags'].describe()"
   ]
  },
  {
   "cell_type": "code",
   "execution_count": 87,
   "metadata": {},
   "outputs": [
    {
     "data": {
      "image/png": "[encoded data removed]",
      "text/plain": [
       "<Figure size 854.1x360 with 1 Axes>"
      ]
     },
     "metadata": {
      "needs_background": "light"
     },
     "output_type": "display_data"
    }
   ],
   "source": [
    "sns.catplot(data=customers,hue=\"categoryTags\",kind=\"count\",x=\"gender\",height=5, aspect=2)\n",
    "plt.show()"
   ]
  },
  {
   "cell_type": "code",
   "execution_count": 83,
   "metadata": {},
   "outputs": [
    {
     "data": {
      "text/plain": [
       "<seaborn.axisgrid.FacetGrid at 0x24855f955c8>"
      ]
     },
     "execution_count": 83,
     "metadata": {},
     "output_type": "execute_result"
    },
    {
     "data": {
      "image/png": "[encoded data removed]",
      "text/plain": [
       "<Figure size 504x504 with 1 Axes>"
      ]
     },
     "metadata": {
      "needs_background": "light"
     },
     "output_type": "display_data"
    }
   ],
   "source": [
    "sns.catplot(data=customers,y=\"categoryTags\",x=\"totalIncome\",kind=\"bar\",height=7,aspect=1)"
   ]
  },
  {
   "cell_type": "code",
   "execution_count": 107,
   "metadata": {},
   "outputs": [
    {
     "data": {
      "text/plain": [
       "<seaborn.axisgrid.FacetGrid at 0x24858456fc8>"
      ]
     },
     "execution_count": 107,
     "metadata": {},
     "output_type": "execute_result"
    },
    {
     "data": {
      "image/png": "[encoded data removed]",
      "text/plain": [
       "<Figure size 504x504 with 1 Axes>"
      ]
     },
     "metadata": {
      "needs_background": "light"
     },
     "output_type": "display_data"
    }
   ],
   "source": [
    "sns.catplot(data=customers,y=\"categoryTags\",x=\"currencyAmount\",kind=\"bar\",height=7,aspect=1)"
   ]
  },
  {
   "cell_type": "code",
   "execution_count": null,
   "metadata": {},
   "outputs": [],
   "source": [
    "sns.catplot(data=customers,hue=\"categoryTags\",kind=\"bar\",x=\"habitationStatus\",height=5, aspect=2)\n",
    "plt.show() "
   ]
  },
  {
   "cell_type": "code",
   "execution_count": 89,
   "metadata": {},
   "outputs": [
    {
     "data": {
      "image/png": "[encoded data removed]",
      "text/plain": [
       "<Figure size 854.1x360 with 1 Axes>"
      ]
     },
     "metadata": {
      "needs_background": "light"
     },
     "output_type": "display_data"
    }
   ],
   "source": [
    "sns.catplot(data=customers,hue=\"categoryTags\",kind=\"count\",x=\"relationshipStatus\",height=5, aspect=2)\n",
    "plt.show() "
   ]
  },
  {
   "cell_type": "code",
   "execution_count": 103,
   "metadata": {},
   "outputs": [
    {
     "data": {
      "image/png": "[encoded data removed]",
      "text/plain": [
       "<Figure size 710.1x288 with 1 Axes>"
      ]
     },
     "metadata": {
      "needs_background": "light"
     },
     "output_type": "display_data"
    }
   ],
   "source": [
    "sns.catplot(data=customers,hue=\"categoryTags\",kind=\"count\",x=\"workActivity\",height=4, aspect=2)\n",
    "plt.show()"
   ]
  },
  {
   "cell_type": "code",
   "execution_count": 93,
   "metadata": {},
   "outputs": [
    {
     "data": {
      "text/plain": [
       "<seaborn.axisgrid.FacetGrid at 0x24856891dc8>"
      ]
     },
     "execution_count": 93,
     "metadata": {},
     "output_type": "execute_result"
    },
    {
     "data": {
      "image/png": "[encoded data removed]",
      "text/plain": [
       "<Figure size 360x360 with 1 Axes>"
      ]
     },
     "metadata": {
      "needs_background": "light"
     },
     "output_type": "display_data"
    }
   ],
   "source": [
    "sns.catplot(data=customers,x=\"relationshipStatus\",y=\"totalIncome\",kind=\"bar\",height=5,aspect=1)"
   ]
  },
  {
   "cell_type": "code",
   "execution_count": 92,
   "metadata": {},
   "outputs": [
    {
     "data": {
      "text/plain": [
       "<seaborn.axisgrid.FacetGrid at 0x248582d6688>"
      ]
     },
     "execution_count": 92,
     "metadata": {},
     "output_type": "execute_result"
    },
    {
     "data": {
      "image/png": "[encoded data removed]",
      "text/plain": [
       "<Figure size 360x360 with 1 Axes>"
      ]
     },
     "metadata": {
      "needs_background": "light"
     },
     "output_type": "display_data"
    }
   ],
   "source": [
    "sns.catplot(data=customers,x=\"habitationStatus\",y=\"totalIncome\",kind=\"bar\",height=5,aspect=1)"
   ]
  },
  {
   "cell_type": "code",
   "execution_count": null,
   "metadata": {},
   "outputs": [],
   "source": []
  }
 ],
 "metadata": {
  "kernelspec": {
   "display_name": "Python 3",
   "language": "python",
   "name": "python3"
  },
  "language_info": {
   "codemirror_mode": {
    "name": "ipython",
    "version": 3
   },
   "file_extension": ".py",
   "mimetype": "text/x-python",
   "name": "python",
   "nbconvert_exporter": "python",
   "pygments_lexer": "ipython3",
   "version": "3.7.9"
  }
 },
 "nbformat": 4,
 "nbformat_minor": 4
}
